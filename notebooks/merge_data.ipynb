{
 "cells": [
  {
   "cell_type": "code",
   "execution_count": 1,
   "metadata": {},
   "outputs": [
    {
     "name": "stderr",
     "output_type": "stream",
     "text": [
      "── Attaching packages ─────────────────────────────────────── tidyverse 1.2.1 ──\n",
      "✔ ggplot2 2.2.1     ✔ purrr   0.2.4\n",
      "✔ tibble  1.3.4     ✔ dplyr   0.7.4\n",
      "✔ tidyr   0.7.2     ✔ stringr 1.2.0\n",
      "✔ readr   1.1.1     ✔ forcats 0.2.0\n",
      "── Conflicts ────────────────────────────────────────── tidyverse_conflicts() ──\n",
      "✖ dplyr::filter() masks stats::filter()\n",
      "✖ dplyr::lag()    masks stats::lag()\n",
      "Loading required package: DBI\n"
     ]
    }
   ],
   "source": [
    "library(tidyverse)\n",
    "library(RPostgreSQL)"
   ]
  },
  {
   "cell_type": "code",
   "execution_count": 2,
   "metadata": {},
   "outputs": [],
   "source": [
    "source(\"utils.R\")"
   ]
  },
  {
   "cell_type": "code",
   "execution_count": 3,
   "metadata": {},
   "outputs": [
    {
     "data": {
      "text/html": [
       "<ol class=list-inline>\n",
       "\t<li>'basics.sql'</li>\n",
       "\t<li>'cohort.sql'</li>\n",
       "\t<li>'icd9.sql'</li>\n",
       "\t<li>'lab_tests.sql'</li>\n",
       "\t<li>'lab_unpivot.sql'</li>\n",
       "\t<li>'merge_data.sql'</li>\n",
       "\t<li>'population.sql'</li>\n",
       "\t<li>'vital_signs.sql'</li>\n",
       "\t<li>'vital_signs_unpivot.sql'</li>\n",
       "</ol>\n"
      ],
      "text/latex": [
       "\\begin{enumerate*}\n",
       "\\item 'basics.sql'\n",
       "\\item 'cohort.sql'\n",
       "\\item 'icd9.sql'\n",
       "\\item 'lab\\_tests.sql'\n",
       "\\item 'lab\\_unpivot.sql'\n",
       "\\item 'merge\\_data.sql'\n",
       "\\item 'population.sql'\n",
       "\\item 'vital\\_signs.sql'\n",
       "\\item 'vital\\_signs\\_unpivot.sql'\n",
       "\\end{enumerate*}\n"
      ],
      "text/markdown": [
       "1. 'basics.sql'\n",
       "2. 'cohort.sql'\n",
       "3. 'icd9.sql'\n",
       "4. 'lab_tests.sql'\n",
       "5. 'lab_unpivot.sql'\n",
       "6. 'merge_data.sql'\n",
       "7. 'population.sql'\n",
       "8. 'vital_signs.sql'\n",
       "9. 'vital_signs_unpivot.sql'\n",
       "\n",
       "\n"
      ],
      "text/plain": [
       "[1] \"basics.sql\"              \"cohort.sql\"             \n",
       "[3] \"icd9.sql\"                \"lab_tests.sql\"          \n",
       "[5] \"lab_unpivot.sql\"         \"merge_data.sql\"         \n",
       "[7] \"population.sql\"          \"vital_signs.sql\"        \n",
       "[9] \"vital_signs_unpivot.sql\""
      ]
     },
     "metadata": {},
     "output_type": "display_data"
    }
   ],
   "source": [
    "sql_dir <- file.path(\"..\", \"sql\")\n",
    "list.files(sql_dir)"
   ]
  },
  {
   "cell_type": "code",
   "execution_count": 4,
   "metadata": {},
   "outputs": [
    {
     "data": {
      "text/plain": [
       "<PostgreSQLResult>"
      ]
     },
     "metadata": {},
     "output_type": "display_data"
    }
   ],
   "source": [
    "drv <- dbDriver(\"PostgreSQL\")\n",
    "con <- dbConnect(drv, dbname = \"mimic\")\n",
    "dbSendQuery(con, \"set search_path=echo,public,mimiciii;\")"
   ]
  },
  {
   "cell_type": "code",
   "execution_count": 5,
   "metadata": {},
   "outputs": [],
   "source": [
    "sql <- readr::read_file(file.path(sql_dir, \"merge_data.sql\")) %>%\n",
    "    make_view_sql(\"merged_data\", \"materialized view\")"
   ]
  },
  {
   "cell_type": "code",
   "execution_count": 6,
   "metadata": {},
   "outputs": [
    {
     "data": {
      "text/plain": [
       "<PostgreSQLResult>"
      ]
     },
     "metadata": {},
     "output_type": "display_data"
    }
   ],
   "source": [
    "dbSendQuery(con, sql)"
   ]
  },
  {
   "cell_type": "code",
   "execution_count": 7,
   "metadata": {},
   "outputs": [
    {
     "data": {
      "text/html": [
       "<table>\n",
       "<thead><tr><th scope=col>hadm_id</th><th scope=col>icustay_id</th><th scope=col>subject_id</th><th scope=col>first_careunit</th><th scope=col>intime</th><th scope=col>outtime</th><th scope=col>angus</th><th scope=col>age</th><th scope=col>icu_order</th><th scope=col>echo_time</th><th scope=col>⋯</th><th scope=col>lab_sodium_min</th><th scope=col>lab_sodium_max</th><th scope=col>lab_chloride_flag</th><th scope=col>lab_chloride_first</th><th scope=col>lab_chloride_min</th><th scope=col>lab_chloride_max</th><th scope=col>lab_ph_flag</th><th scope=col>lab_ph_first</th><th scope=col>lab_ph_min</th><th scope=col>lab_ph_max</th></tr></thead>\n",
       "<tbody>\n",
       "\t<tr><td>125078             </td><td>201220             </td><td>66690              </td><td>MICU               </td><td>2106-04-27 01:47:50</td><td>2106-05-01 11:25:46</td><td>1                  </td><td> 62.67646          </td><td>1                  </td><td>NA                 </td><td>⋯                  </td><td>160                </td><td>165                </td><td>1                  </td><td>123                </td><td>123                </td><td>128                </td><td>1                  </td><td>7.45               </td><td>7.42               </td><td>7.45               </td></tr>\n",
       "\t<tr><td>151232             </td><td>215842             </td><td>11663              </td><td>MICU               </td><td>2188-02-14 01:48:15</td><td>2188-02-15 19:02:48</td><td>1                  </td><td> 86.76186          </td><td>1                  </td><td>NA                 </td><td>⋯                  </td><td>139                </td><td>139                </td><td>1                  </td><td>105                </td><td>105                </td><td>105                </td><td>0                  </td><td>  NA               </td><td>  NA               </td><td>  NA               </td></tr>\n",
       "\t<tr><td>164444             </td><td>234312             </td><td>86645              </td><td>SICU               </td><td>2165-06-22 01:47:16</td><td>2165-07-07 13:55:20</td><td>1                  </td><td> 56.08904          </td><td>1                  </td><td>NA                 </td><td>⋯                  </td><td>142                </td><td>146                </td><td>1                  </td><td>108                </td><td>107                </td><td>112                </td><td>1                  </td><td>7.49               </td><td>7.49               </td><td>7.49               </td></tr>\n",
       "\t<tr><td>146726             </td><td>289157             </td><td>10304              </td><td>MICU               </td><td>2156-06-23 14:26:00</td><td>2156-06-30 09:26:00</td><td>1                  </td><td> 45.91093          </td><td>1                  </td><td>2156-06-25         </td><td>⋯                  </td><td>134                </td><td>136                </td><td>1                  </td><td>100                </td><td>100                </td><td>105                </td><td>1                  </td><td>7.44               </td><td>7.44               </td><td>7.44               </td></tr>\n",
       "\t<tr><td>160170             </td><td>211964             </td><td>94534              </td><td>MICU               </td><td>2160-03-05 14:23:19</td><td>2160-03-06 22:48:41</td><td>1                  </td><td> 59.38693          </td><td>1                  </td><td>NA                 </td><td>⋯                  </td><td>138                </td><td>138                </td><td>1                  </td><td>103                </td><td>103                </td><td>103                </td><td>0                  </td><td>  NA               </td><td>  NA               </td><td>  NA               </td></tr>\n",
       "\t<tr><td>112553             </td><td>230173             </td><td>31544              </td><td>MICU               </td><td>2140-01-30 20:39:25</td><td>2140-02-02 18:41:39</td><td>1                  </td><td>300.00345          </td><td>1                  </td><td>NA                 </td><td>⋯                  </td><td>143                </td><td>147                </td><td>1                  </td><td>118                </td><td>113                </td><td>118                </td><td>0                  </td><td>  NA               </td><td>  NA               </td><td>  NA               </td></tr>\n",
       "\t<tr><td>151997             </td><td>210817             </td><td>28611              </td><td>MICU               </td><td>2122-09-24 18:50:10</td><td>2122-09-28 22:08:48</td><td>1                  </td><td> 66.40196          </td><td>1                  </td><td>NA                 </td><td>⋯                  </td><td>131                </td><td>148                </td><td>1                  </td><td> 97                </td><td> 97                </td><td>120                </td><td>1                  </td><td>7.61               </td><td>7.43               </td><td>7.61               </td></tr>\n",
       "\t<tr><td>158611             </td><td>242287             </td><td> 6485              </td><td>MICU               </td><td>2185-06-09 19:12:12</td><td>2185-06-10 18:33:31</td><td>1                  </td><td> 83.10326          </td><td>1                  </td><td>NA                 </td><td>⋯                  </td><td>129                </td><td>129                </td><td>1                  </td><td> 98                </td><td> 98                </td><td> 98                </td><td>0                  </td><td>  NA               </td><td>  NA               </td><td>  NA               </td></tr>\n",
       "\t<tr><td>105158             </td><td>284489             </td><td> 1987              </td><td>SICU               </td><td>2102-03-31 03:46:10</td><td>2102-04-03 13:05:57</td><td>1                  </td><td> 45.42785          </td><td>1                  </td><td>2102-03-31         </td><td>⋯                  </td><td>146                </td><td>151                </td><td>1                  </td><td>108                </td><td>104                </td><td>108                </td><td>1                  </td><td>6.82               </td><td>6.82               </td><td>7.30               </td></tr>\n",
       "\t<tr><td>194870             </td><td>251858             </td><td>95933              </td><td>MICU               </td><td>2146-07-17 12:44:06</td><td>2146-07-19 11:45:06</td><td>1                  </td><td> 76.12085          </td><td>1                  </td><td>2146-07-18         </td><td>⋯                  </td><td>135                </td><td>136                </td><td>1                  </td><td> 99                </td><td> 99                </td><td>104                </td><td>1                  </td><td>7.09               </td><td>7.09               </td><td>7.33               </td></tr>\n",
       "</tbody>\n",
       "</table>\n"
      ],
      "text/latex": [
       "\\begin{tabular}{r|llllllllllllllllllllllllllllllllllllllllllllllllllllllllllllllllllllllllllllllllllllllllllllllllllllllllllll}\n",
       " hadm\\_id & icustay\\_id & subject\\_id & first\\_careunit & intime & outtime & angus & age & icu\\_order & echo\\_time & ⋯ & lab\\_sodium\\_min & lab\\_sodium\\_max & lab\\_chloride\\_flag & lab\\_chloride\\_first & lab\\_chloride\\_min & lab\\_chloride\\_max & lab\\_ph\\_flag & lab\\_ph\\_first & lab\\_ph\\_min & lab\\_ph\\_max\\\\\n",
       "\\hline\n",
       "\t 125078              & 201220              & 66690               & MICU                & 2106-04-27 01:47:50 & 2106-05-01 11:25:46 & 1                   &  62.67646           & 1                   & NA                  & ⋯                   & 160                 & 165                 & 1                   & 123                 & 123                 & 128                 & 1                   & 7.45                & 7.42                & 7.45               \\\\\n",
       "\t 151232              & 215842              & 11663               & MICU                & 2188-02-14 01:48:15 & 2188-02-15 19:02:48 & 1                   &  86.76186           & 1                   & NA                  & ⋯                   & 139                 & 139                 & 1                   & 105                 & 105                 & 105                 & 0                   &   NA                &   NA                &   NA               \\\\\n",
       "\t 164444              & 234312              & 86645               & SICU                & 2165-06-22 01:47:16 & 2165-07-07 13:55:20 & 1                   &  56.08904           & 1                   & NA                  & ⋯                   & 142                 & 146                 & 1                   & 108                 & 107                 & 112                 & 1                   & 7.49                & 7.49                & 7.49               \\\\\n",
       "\t 146726              & 289157              & 10304               & MICU                & 2156-06-23 14:26:00 & 2156-06-30 09:26:00 & 1                   &  45.91093           & 1                   & 2156-06-25          & ⋯                   & 134                 & 136                 & 1                   & 100                 & 100                 & 105                 & 1                   & 7.44                & 7.44                & 7.44               \\\\\n",
       "\t 160170              & 211964              & 94534               & MICU                & 2160-03-05 14:23:19 & 2160-03-06 22:48:41 & 1                   &  59.38693           & 1                   & NA                  & ⋯                   & 138                 & 138                 & 1                   & 103                 & 103                 & 103                 & 0                   &   NA                &   NA                &   NA               \\\\\n",
       "\t 112553              & 230173              & 31544               & MICU                & 2140-01-30 20:39:25 & 2140-02-02 18:41:39 & 1                   & 300.00345           & 1                   & NA                  & ⋯                   & 143                 & 147                 & 1                   & 118                 & 113                 & 118                 & 0                   &   NA                &   NA                &   NA               \\\\\n",
       "\t 151997              & 210817              & 28611               & MICU                & 2122-09-24 18:50:10 & 2122-09-28 22:08:48 & 1                   &  66.40196           & 1                   & NA                  & ⋯                   & 131                 & 148                 & 1                   &  97                 &  97                 & 120                 & 1                   & 7.61                & 7.43                & 7.61               \\\\\n",
       "\t 158611              & 242287              &  6485               & MICU                & 2185-06-09 19:12:12 & 2185-06-10 18:33:31 & 1                   &  83.10326           & 1                   & NA                  & ⋯                   & 129                 & 129                 & 1                   &  98                 &  98                 &  98                 & 0                   &   NA                &   NA                &   NA               \\\\\n",
       "\t 105158              & 284489              &  1987               & SICU                & 2102-03-31 03:46:10 & 2102-04-03 13:05:57 & 1                   &  45.42785           & 1                   & 2102-03-31          & ⋯                   & 146                 & 151                 & 1                   & 108                 & 104                 & 108                 & 1                   & 6.82                & 6.82                & 7.30               \\\\\n",
       "\t 194870              & 251858              & 95933               & MICU                & 2146-07-17 12:44:06 & 2146-07-19 11:45:06 & 1                   &  76.12085           & 1                   & 2146-07-18          & ⋯                   & 135                 & 136                 & 1                   &  99                 &  99                 & 104                 & 1                   & 7.09                & 7.09                & 7.33               \\\\\n",
       "\\end{tabular}\n"
      ],
      "text/markdown": [
       "\n",
       "hadm_id | icustay_id | subject_id | first_careunit | intime | outtime | angus | age | icu_order | echo_time | ⋯ | lab_sodium_min | lab_sodium_max | lab_chloride_flag | lab_chloride_first | lab_chloride_min | lab_chloride_max | lab_ph_flag | lab_ph_first | lab_ph_min | lab_ph_max | \n",
       "|---|---|---|---|---|---|---|---|---|---|\n",
       "| 125078              | 201220              | 66690               | MICU                | 2106-04-27 01:47:50 | 2106-05-01 11:25:46 | 1                   |  62.67646           | 1                   | NA                  | ⋯                   | 160                 | 165                 | 1                   | 123                 | 123                 | 128                 | 1                   | 7.45                | 7.42                | 7.45                | \n",
       "| 151232              | 215842              | 11663               | MICU                | 2188-02-14 01:48:15 | 2188-02-15 19:02:48 | 1                   |  86.76186           | 1                   | NA                  | ⋯                   | 139                 | 139                 | 1                   | 105                 | 105                 | 105                 | 0                   |   NA                |   NA                |   NA                | \n",
       "| 164444              | 234312              | 86645               | SICU                | 2165-06-22 01:47:16 | 2165-07-07 13:55:20 | 1                   |  56.08904           | 1                   | NA                  | ⋯                   | 142                 | 146                 | 1                   | 108                 | 107                 | 112                 | 1                   | 7.49                | 7.49                | 7.49                | \n",
       "| 146726              | 289157              | 10304               | MICU                | 2156-06-23 14:26:00 | 2156-06-30 09:26:00 | 1                   |  45.91093           | 1                   | 2156-06-25          | ⋯                   | 134                 | 136                 | 1                   | 100                 | 100                 | 105                 | 1                   | 7.44                | 7.44                | 7.44                | \n",
       "| 160170              | 211964              | 94534               | MICU                | 2160-03-05 14:23:19 | 2160-03-06 22:48:41 | 1                   |  59.38693           | 1                   | NA                  | ⋯                   | 138                 | 138                 | 1                   | 103                 | 103                 | 103                 | 0                   |   NA                |   NA                |   NA                | \n",
       "| 112553              | 230173              | 31544               | MICU                | 2140-01-30 20:39:25 | 2140-02-02 18:41:39 | 1                   | 300.00345           | 1                   | NA                  | ⋯                   | 143                 | 147                 | 1                   | 118                 | 113                 | 118                 | 0                   |   NA                |   NA                |   NA                | \n",
       "| 151997              | 210817              | 28611               | MICU                | 2122-09-24 18:50:10 | 2122-09-28 22:08:48 | 1                   |  66.40196           | 1                   | NA                  | ⋯                   | 131                 | 148                 | 1                   |  97                 |  97                 | 120                 | 1                   | 7.61                | 7.43                | 7.61                | \n",
       "| 158611              | 242287              |  6485               | MICU                | 2185-06-09 19:12:12 | 2185-06-10 18:33:31 | 1                   |  83.10326           | 1                   | NA                  | ⋯                   | 129                 | 129                 | 1                   |  98                 |  98                 |  98                 | 0                   |   NA                |   NA                |   NA                | \n",
       "| 105158              | 284489              |  1987               | SICU                | 2102-03-31 03:46:10 | 2102-04-03 13:05:57 | 1                   |  45.42785           | 1                   | 2102-03-31          | ⋯                   | 146                 | 151                 | 1                   | 108                 | 104                 | 108                 | 1                   | 6.82                | 6.82                | 7.30                | \n",
       "| 194870              | 251858              | 95933               | MICU                | 2146-07-17 12:44:06 | 2146-07-19 11:45:06 | 1                   |  76.12085           | 1                   | 2146-07-18          | ⋯                   | 135                 | 136                 | 1                   |  99                 |  99                 | 104                 | 1                   | 7.09                | 7.09                | 7.33                | \n",
       "\n",
       "\n"
      ],
      "text/plain": [
       "   hadm_id icustay_id subject_id first_careunit intime             \n",
       "1  125078  201220     66690      MICU           2106-04-27 01:47:50\n",
       "2  151232  215842     11663      MICU           2188-02-14 01:48:15\n",
       "3  164444  234312     86645      SICU           2165-06-22 01:47:16\n",
       "4  146726  289157     10304      MICU           2156-06-23 14:26:00\n",
       "5  160170  211964     94534      MICU           2160-03-05 14:23:19\n",
       "6  112553  230173     31544      MICU           2140-01-30 20:39:25\n",
       "7  151997  210817     28611      MICU           2122-09-24 18:50:10\n",
       "8  158611  242287      6485      MICU           2185-06-09 19:12:12\n",
       "9  105158  284489      1987      SICU           2102-03-31 03:46:10\n",
       "10 194870  251858     95933      MICU           2146-07-17 12:44:06\n",
       "   outtime             angus age       icu_order echo_time  ⋯ lab_sodium_min\n",
       "1  2106-05-01 11:25:46 1      62.67646 1         <NA>       ⋯ 160           \n",
       "2  2188-02-15 19:02:48 1      86.76186 1         <NA>       ⋯ 139           \n",
       "3  2165-07-07 13:55:20 1      56.08904 1         <NA>       ⋯ 142           \n",
       "4  2156-06-30 09:26:00 1      45.91093 1         2156-06-25 ⋯ 134           \n",
       "5  2160-03-06 22:48:41 1      59.38693 1         <NA>       ⋯ 138           \n",
       "6  2140-02-02 18:41:39 1     300.00345 1         <NA>       ⋯ 143           \n",
       "7  2122-09-28 22:08:48 1      66.40196 1         <NA>       ⋯ 131           \n",
       "8  2185-06-10 18:33:31 1      83.10326 1         <NA>       ⋯ 129           \n",
       "9  2102-04-03 13:05:57 1      45.42785 1         2102-03-31 ⋯ 146           \n",
       "10 2146-07-19 11:45:06 1      76.12085 1         2146-07-18 ⋯ 135           \n",
       "   lab_sodium_max lab_chloride_flag lab_chloride_first lab_chloride_min\n",
       "1  165            1                 123                123             \n",
       "2  139            1                 105                105             \n",
       "3  146            1                 108                107             \n",
       "4  136            1                 100                100             \n",
       "5  138            1                 103                103             \n",
       "6  147            1                 118                113             \n",
       "7  148            1                  97                 97             \n",
       "8  129            1                  98                 98             \n",
       "9  151            1                 108                104             \n",
       "10 136            1                  99                 99             \n",
       "   lab_chloride_max lab_ph_flag lab_ph_first lab_ph_min lab_ph_max\n",
       "1  128              1           7.45         7.42       7.45      \n",
       "2  105              0             NA           NA         NA      \n",
       "3  112              1           7.49         7.49       7.49      \n",
       "4  105              1           7.44         7.44       7.44      \n",
       "5  103              0             NA           NA         NA      \n",
       "6  118              0             NA           NA         NA      \n",
       "7  120              1           7.61         7.43       7.61      \n",
       "8   98              0             NA           NA         NA      \n",
       "9  108              1           6.82         6.82       7.30      \n",
       "10 104              1           7.09         7.09       7.33      "
      ]
     },
     "metadata": {},
     "output_type": "display_data"
    }
   ],
   "source": [
    "sql <- \"\n",
    "select * from merged_data limit 10;\n",
    "\"\n",
    "dbGetQuery(con, sql)"
   ]
  },
  {
   "cell_type": "code",
   "execution_count": 8,
   "metadata": {},
   "outputs": [
    {
     "data": {
      "text/html": [
       "TRUE"
      ],
      "text/latex": [
       "TRUE"
      ],
      "text/markdown": [
       "TRUE"
      ],
      "text/plain": [
       "[1] TRUE"
      ]
     },
     "metadata": {},
     "output_type": "display_data"
    },
    {
     "data": {
      "text/html": [
       "TRUE"
      ],
      "text/latex": [
       "TRUE"
      ],
      "text/markdown": [
       "TRUE"
      ],
      "text/plain": [
       "[1] TRUE"
      ]
     },
     "metadata": {},
     "output_type": "display_data"
    }
   ],
   "source": [
    "dbDisconnect(con)\n",
    "dbUnloadDriver(drv)"
   ]
  }
 ],
 "metadata": {
  "kernelspec": {
   "display_name": "R",
   "language": "R",
   "name": "ir"
  },
  "language_info": {
   "codemirror_mode": "r",
   "file_extension": ".r",
   "mimetype": "text/x-r-source",
   "name": "R",
   "pygments_lexer": "r",
   "version": "3.4.1"
  },
  "varInspector": {
   "cols": {
    "lenName": 16,
    "lenType": 16,
    "lenVar": 40
   },
   "kernels_config": {
    "python": {
     "delete_cmd_postfix": "",
     "delete_cmd_prefix": "del ",
     "library": "var_list.py",
     "varRefreshCmd": "print(var_dic_list())"
    },
    "r": {
     "delete_cmd_postfix": ") ",
     "delete_cmd_prefix": "rm(",
     "library": "var_list.r",
     "varRefreshCmd": "cat(var_dic_list()) "
    }
   },
   "types_to_exclude": [
    "module",
    "function",
    "builtin_function_or_method",
    "instance",
    "_Feature"
   ],
   "window_display": false
  }
 },
 "nbformat": 4,
 "nbformat_minor": 2
}
