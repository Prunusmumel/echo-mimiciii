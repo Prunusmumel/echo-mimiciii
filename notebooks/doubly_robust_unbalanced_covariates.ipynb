{
 "cells": [
  {
   "cell_type": "code",
   "execution_count": 1,
   "metadata": {},
   "outputs": [
    {
     "name": "stderr",
     "output_type": "stream",
     "text": [
      "Loading required package: grid\n",
      "Loading required package: Matrix\n",
      "Loading required package: survival\n",
      "\n",
      "Attaching package: ‘survey’\n",
      "\n",
      "The following object is masked from ‘package:graphics’:\n",
      "\n",
      "    dotchart\n",
      "\n",
      "── Attaching packages ─────────────────────────────────────── tidyverse 1.2.1 ──\n",
      "✔ ggplot2 2.2.1     ✔ purrr   0.2.4\n",
      "✔ tibble  1.3.4     ✔ dplyr   0.7.4\n",
      "✔ tidyr   0.7.2     ✔ stringr 1.2.0\n",
      "✔ readr   1.1.1     ✔ forcats 0.2.0\n",
      "── Conflicts ────────────────────────────────────────── tidyverse_conflicts() ──\n",
      "✖ tidyr::expand() masks Matrix::expand()\n",
      "✖ dplyr::filter() masks stats::filter()\n",
      "✖ dplyr::lag()    masks stats::lag()\n"
     ]
    }
   ],
   "source": [
    "library(survey)\n",
    "library(tidyverse)"
   ]
  },
  {
   "cell_type": "code",
   "execution_count": 2,
   "metadata": {},
   "outputs": [],
   "source": [
    "data_dir <- file.path(\"..\", \"data\")"
   ]
  },
  {
   "cell_type": "code",
   "execution_count": 3,
   "metadata": {},
   "outputs": [
    {
     "data": {
      "text/html": [
       "<table>\n",
       "<thead><tr><th scope=col>icustay_id</th><th scope=col>hadm_id</th><th scope=col>subject_id</th><th scope=col>first_careunit</th><th scope=col>intime</th><th scope=col>outtime</th><th scope=col>angus</th><th scope=col>age</th><th scope=col>icu_order</th><th scope=col>echo_time</th><th scope=col>⋯</th><th scope=col>lab_chloride_abnormal</th><th scope=col>lab_ph_flag</th><th scope=col>lab_ph_first</th><th scope=col>lab_ph_min</th><th scope=col>lab_ph_max</th><th scope=col>lab_ph_abnormal</th><th scope=col>sedative</th><th scope=col>echo_int</th><th scope=col>mort_28_day_int</th><th scope=col>ps</th></tr></thead>\n",
       "<tbody>\n",
       "\t<tr><td>201220             </td><td>125078             </td><td>66690              </td><td>0                  </td><td>2106-04-27 01:47:50</td><td>2106-05-01 11:25:46</td><td>1                  </td><td>62.67646           </td><td>1                  </td><td>NA                 </td><td>⋯                  </td><td>1                  </td><td>1                  </td><td>7.45               </td><td>7.42               </td><td>7.45               </td><td>1                  </td><td>1                  </td><td>0                  </td><td>1                  </td><td>0.4496715          </td></tr>\n",
       "\t<tr><td>215842             </td><td>151232             </td><td>11663              </td><td>0                  </td><td>2188-02-14 01:48:15</td><td>2188-02-15 19:02:48</td><td>1                  </td><td>86.76186           </td><td>1                  </td><td>NA                 </td><td>⋯                  </td><td>0                  </td><td>0                  </td><td>  NA               </td><td>  NA               </td><td>  NA               </td><td>NA                 </td><td>0                  </td><td>0                  </td><td>0                  </td><td>0.1577062          </td></tr>\n",
       "\t<tr><td>234312             </td><td>164444             </td><td>86645              </td><td>1                  </td><td>2165-06-22 01:47:16</td><td>2165-07-07 13:55:20</td><td>1                  </td><td>56.08904           </td><td>1                  </td><td>NA                 </td><td>⋯                  </td><td>1                  </td><td>1                  </td><td>7.49               </td><td>7.49               </td><td>7.49               </td><td>1                  </td><td>0                  </td><td>0                  </td><td>0                  </td><td>0.3034738          </td></tr>\n",
       "\t<tr><td>289157             </td><td>146726             </td><td>10304              </td><td>0                  </td><td>2156-06-23 14:26:00</td><td>2156-06-30 09:26:00</td><td>1                  </td><td>45.91093           </td><td>1                  </td><td>2156-06-25         </td><td>⋯                  </td><td>0                  </td><td>1                  </td><td>7.44               </td><td>7.44               </td><td>7.44               </td><td>1                  </td><td>0                  </td><td>1                  </td><td>0                  </td><td>0.7020434          </td></tr>\n",
       "\t<tr><td>211964             </td><td>160170             </td><td>94534              </td><td>0                  </td><td>2160-03-05 14:23:19</td><td>2160-03-06 22:48:41</td><td>1                  </td><td>59.38693           </td><td>1                  </td><td>NA                 </td><td>⋯                  </td><td>0                  </td><td>0                  </td><td>  NA               </td><td>  NA               </td><td>  NA               </td><td>NA                 </td><td>0                  </td><td>0                  </td><td>0                  </td><td>0.3399883          </td></tr>\n",
       "\t<tr><td>230173             </td><td>112553             </td><td>31544              </td><td>0                  </td><td>2140-01-30 20:39:25</td><td>2140-02-02 18:41:39</td><td>1                  </td><td>91.50000           </td><td>1                  </td><td>NA                 </td><td>⋯                  </td><td>1                  </td><td>0                  </td><td>  NA               </td><td>  NA               </td><td>  NA               </td><td>NA                 </td><td>0                  </td><td>0                  </td><td>1                  </td><td>0.2497070          </td></tr>\n",
       "</tbody>\n",
       "</table>\n"
      ],
      "text/latex": [
       "\\begin{tabular}{r|llllllllllllllllllllllllllllllllllllllllllllllllllllllllllllllllllllllllllllllllllllllllllllllllllllllllllllllllllllllllllllllllll}\n",
       " icustay\\_id & hadm\\_id & subject\\_id & first\\_careunit & intime & outtime & angus & age & icu\\_order & echo\\_time & ⋯ & lab\\_chloride\\_abnormal & lab\\_ph\\_flag & lab\\_ph\\_first & lab\\_ph\\_min & lab\\_ph\\_max & lab\\_ph\\_abnormal & sedative & echo\\_int & mort\\_28\\_day\\_int & ps\\\\\n",
       "\\hline\n",
       "\t 201220              & 125078              & 66690               & 0                   & 2106-04-27 01:47:50 & 2106-05-01 11:25:46 & 1                   & 62.67646            & 1                   & NA                  & ⋯                   & 1                   & 1                   & 7.45                & 7.42                & 7.45                & 1                   & 1                   & 0                   & 1                   & 0.4496715          \\\\\n",
       "\t 215842              & 151232              & 11663               & 0                   & 2188-02-14 01:48:15 & 2188-02-15 19:02:48 & 1                   & 86.76186            & 1                   & NA                  & ⋯                   & 0                   & 0                   &   NA                &   NA                &   NA                & NA                  & 0                   & 0                   & 0                   & 0.1577062          \\\\\n",
       "\t 234312              & 164444              & 86645               & 1                   & 2165-06-22 01:47:16 & 2165-07-07 13:55:20 & 1                   & 56.08904            & 1                   & NA                  & ⋯                   & 1                   & 1                   & 7.49                & 7.49                & 7.49                & 1                   & 0                   & 0                   & 0                   & 0.3034738          \\\\\n",
       "\t 289157              & 146726              & 10304               & 0                   & 2156-06-23 14:26:00 & 2156-06-30 09:26:00 & 1                   & 45.91093            & 1                   & 2156-06-25          & ⋯                   & 0                   & 1                   & 7.44                & 7.44                & 7.44                & 1                   & 0                   & 1                   & 0                   & 0.7020434          \\\\\n",
       "\t 211964              & 160170              & 94534               & 0                   & 2160-03-05 14:23:19 & 2160-03-06 22:48:41 & 1                   & 59.38693            & 1                   & NA                  & ⋯                   & 0                   & 0                   &   NA                &   NA                &   NA                & NA                  & 0                   & 0                   & 0                   & 0.3399883          \\\\\n",
       "\t 230173              & 112553              & 31544               & 0                   & 2140-01-30 20:39:25 & 2140-02-02 18:41:39 & 1                   & 91.50000            & 1                   & NA                  & ⋯                   & 1                   & 0                   &   NA                &   NA                &   NA                & NA                  & 0                   & 0                   & 1                   & 0.2497070          \\\\\n",
       "\\end{tabular}\n"
      ],
      "text/markdown": [
       "\n",
       "icustay_id | hadm_id | subject_id | first_careunit | intime | outtime | angus | age | icu_order | echo_time | ⋯ | lab_chloride_abnormal | lab_ph_flag | lab_ph_first | lab_ph_min | lab_ph_max | lab_ph_abnormal | sedative | echo_int | mort_28_day_int | ps | \n",
       "|---|---|---|---|---|---|\n",
       "| 201220              | 125078              | 66690               | 0                   | 2106-04-27 01:47:50 | 2106-05-01 11:25:46 | 1                   | 62.67646            | 1                   | NA                  | ⋯                   | 1                   | 1                   | 7.45                | 7.42                | 7.45                | 1                   | 1                   | 0                   | 1                   | 0.4496715           | \n",
       "| 215842              | 151232              | 11663               | 0                   | 2188-02-14 01:48:15 | 2188-02-15 19:02:48 | 1                   | 86.76186            | 1                   | NA                  | ⋯                   | 0                   | 0                   |   NA                |   NA                |   NA                | NA                  | 0                   | 0                   | 0                   | 0.1577062           | \n",
       "| 234312              | 164444              | 86645               | 1                   | 2165-06-22 01:47:16 | 2165-07-07 13:55:20 | 1                   | 56.08904            | 1                   | NA                  | ⋯                   | 1                   | 1                   | 7.49                | 7.49                | 7.49                | 1                   | 0                   | 0                   | 0                   | 0.3034738           | \n",
       "| 289157              | 146726              | 10304               | 0                   | 2156-06-23 14:26:00 | 2156-06-30 09:26:00 | 1                   | 45.91093            | 1                   | 2156-06-25          | ⋯                   | 0                   | 1                   | 7.44                | 7.44                | 7.44                | 1                   | 0                   | 1                   | 0                   | 0.7020434           | \n",
       "| 211964              | 160170              | 94534               | 0                   | 2160-03-05 14:23:19 | 2160-03-06 22:48:41 | 1                   | 59.38693            | 1                   | NA                  | ⋯                   | 0                   | 0                   |   NA                |   NA                |   NA                | NA                  | 0                   | 0                   | 0                   | 0.3399883           | \n",
       "| 230173              | 112553              | 31544               | 0                   | 2140-01-30 20:39:25 | 2140-02-02 18:41:39 | 1                   | 91.50000            | 1                   | NA                  | ⋯                   | 1                   | 0                   |   NA                |   NA                |   NA                | NA                  | 0                   | 0                   | 1                   | 0.2497070           | \n",
       "\n",
       "\n"
      ],
      "text/plain": [
       "  icustay_id hadm_id subject_id first_careunit intime             \n",
       "1 201220     125078  66690      0              2106-04-27 01:47:50\n",
       "2 215842     151232  11663      0              2188-02-14 01:48:15\n",
       "3 234312     164444  86645      1              2165-06-22 01:47:16\n",
       "4 289157     146726  10304      0              2156-06-23 14:26:00\n",
       "5 211964     160170  94534      0              2160-03-05 14:23:19\n",
       "6 230173     112553  31544      0              2140-01-30 20:39:25\n",
       "  outtime             angus age      icu_order echo_time  ⋯\n",
       "1 2106-05-01 11:25:46 1     62.67646 1         <NA>       ⋯\n",
       "2 2188-02-15 19:02:48 1     86.76186 1         <NA>       ⋯\n",
       "3 2165-07-07 13:55:20 1     56.08904 1         <NA>       ⋯\n",
       "4 2156-06-30 09:26:00 1     45.91093 1         2156-06-25 ⋯\n",
       "5 2160-03-06 22:48:41 1     59.38693 1         <NA>       ⋯\n",
       "6 2140-02-02 18:41:39 1     91.50000 1         <NA>       ⋯\n",
       "  lab_chloride_abnormal lab_ph_flag lab_ph_first lab_ph_min lab_ph_max\n",
       "1 1                     1           7.45         7.42       7.45      \n",
       "2 0                     0             NA           NA         NA      \n",
       "3 1                     1           7.49         7.49       7.49      \n",
       "4 0                     1           7.44         7.44       7.44      \n",
       "5 0                     0             NA           NA         NA      \n",
       "6 1                     0             NA           NA         NA      \n",
       "  lab_ph_abnormal sedative echo_int mort_28_day_int ps       \n",
       "1 1               1        0        1               0.4496715\n",
       "2 NA              0        0        0               0.1577062\n",
       "3 1               0        0        0               0.3034738\n",
       "4 1               0        1        0               0.7020434\n",
       "5 NA              0        0        0               0.3399883\n",
       "6 NA              0        0        1               0.2497070"
      ]
     },
     "metadata": {},
     "output_type": "display_data"
    }
   ],
   "source": [
    "full_data <- readRDS(file.path(data_dir, \"full_data_ps.rds\"))\n",
    "head(full_data)"
   ]
  },
  {
   "cell_type": "code",
   "execution_count": 4,
   "metadata": {},
   "outputs": [
    {
     "data": {
      "text/html": [
       "<table>\n",
       "<thead><tr><th scope=col>p_val</th><th scope=col>wtd_p_val</th><th scope=col>main_0</th><th scope=col>main_1</th><th scope=col>sub_0</th><th scope=col>sub_1</th><th scope=col>wtd_main_0</th><th scope=col>wtd_main_1</th><th scope=col>wtd_sub_0</th><th scope=col>wtd_sub_1</th><th scope=col>var</th></tr></thead>\n",
       "<tbody>\n",
       "\t<tr><td>1.942281e-03</td><td>0.04772662  </td><td>84.183688   </td><td>79.166557   </td><td>67.137454   </td><td>59.7201585  </td><td>83.089515   </td><td>79.918203   </td><td>64.906984   </td><td>60.763406   </td><td>age         </td></tr>\n",
       "\t<tr><td>1.416420e-02</td><td>0.34205147  </td><td>50.822846   </td><td>47.665687   </td><td>       NA   </td><td>        NA  </td><td>49.415944   </td><td>48.205909   </td><td>       NA   </td><td>       NA   </td><td>female      </td></tr>\n",
       "\t<tr><td>6.091011e-02</td><td>0.03565708  </td><td> 1.801389   </td><td> 1.837418   </td><td> 0.738580   </td><td> 0.7696856  </td><td> 2.104114   </td><td> 2.159730   </td><td> 1.036885   </td><td> 1.040762   </td><td>weight      </td></tr>\n",
       "\t<tr><td>1.705518e-15</td><td>0.08790062  </td><td> 8.505970   </td><td>10.045054   </td><td> 7.451124   </td><td> 7.6816088  </td><td> 9.106113   </td><td> 9.436513   </td><td> 7.555664   </td><td> 7.638541   </td><td>elix_score  </td></tr>\n",
       "\t<tr><td>1.378591e-15</td><td>0.12425987  </td><td>19.632462   </td><td>20.778975   </td><td> 5.788347   </td><td> 5.4462928  </td><td>20.019478   </td><td>20.236554   </td><td> 5.657332   </td><td> 5.425510   </td><td>saps        </td></tr>\n",
       "\t<tr><td>7.477319e-27</td><td>0.02807578  </td><td> 5.305260   </td><td> 6.323865   </td><td> 3.618029   </td><td> 3.7963648  </td><td> 5.662584   </td><td> 5.868751   </td><td> 3.669404   </td><td> 3.697442   </td><td>sofa        </td></tr>\n",
       "</tbody>\n",
       "</table>\n"
      ],
      "text/latex": [
       "\\begin{tabular}{r|lllllllllll}\n",
       " p\\_val & wtd\\_p\\_val & main\\_0 & main\\_1 & sub\\_0 & sub\\_1 & wtd\\_main\\_0 & wtd\\_main\\_1 & wtd\\_sub\\_0 & wtd\\_sub\\_1 & var\\\\\n",
       "\\hline\n",
       "\t 1.942281e-03 & 0.04772662   & 84.183688    & 79.166557    & 67.137454    & 59.7201585   & 83.089515    & 79.918203    & 64.906984    & 60.763406    & age         \\\\\n",
       "\t 1.416420e-02 & 0.34205147   & 50.822846    & 47.665687    &        NA    &         NA   & 49.415944    & 48.205909    &        NA    &        NA    & female      \\\\\n",
       "\t 6.091011e-02 & 0.03565708   &  1.801389    &  1.837418    &  0.738580    &  0.7696856   &  2.104114    &  2.159730    &  1.036885    &  1.040762    & weight      \\\\\n",
       "\t 1.705518e-15 & 0.08790062   &  8.505970    & 10.045054    &  7.451124    &  7.6816088   &  9.106113    &  9.436513    &  7.555664    &  7.638541    & elix\\_score\\\\\n",
       "\t 1.378591e-15 & 0.12425987   & 19.632462    & 20.778975    &  5.788347    &  5.4462928   & 20.019478    & 20.236554    &  5.657332    &  5.425510    & saps        \\\\\n",
       "\t 7.477319e-27 & 0.02807578   &  5.305260    &  6.323865    &  3.618029    &  3.7963648   &  5.662584    &  5.868751    &  3.669404    &  3.697442    & sofa        \\\\\n",
       "\\end{tabular}\n"
      ],
      "text/markdown": [
       "\n",
       "p_val | wtd_p_val | main_0 | main_1 | sub_0 | sub_1 | wtd_main_0 | wtd_main_1 | wtd_sub_0 | wtd_sub_1 | var | \n",
       "|---|---|---|---|---|---|\n",
       "| 1.942281e-03 | 0.04772662   | 84.183688    | 79.166557    | 67.137454    | 59.7201585   | 83.089515    | 79.918203    | 64.906984    | 60.763406    | age          | \n",
       "| 1.416420e-02 | 0.34205147   | 50.822846    | 47.665687    |        NA    |         NA   | 49.415944    | 48.205909    |        NA    |        NA    | female       | \n",
       "| 6.091011e-02 | 0.03565708   |  1.801389    |  1.837418    |  0.738580    |  0.7696856   |  2.104114    |  2.159730    |  1.036885    |  1.040762    | weight       | \n",
       "| 1.705518e-15 | 0.08790062   |  8.505970    | 10.045054    |  7.451124    |  7.6816088   |  9.106113    |  9.436513    |  7.555664    |  7.638541    | elix_score   | \n",
       "| 1.378591e-15 | 0.12425987   | 19.632462    | 20.778975    |  5.788347    |  5.4462928   | 20.019478    | 20.236554    |  5.657332    |  5.425510    | saps         | \n",
       "| 7.477319e-27 | 0.02807578   |  5.305260    |  6.323865    |  3.618029    |  3.7963648   |  5.662584    |  5.868751    |  3.669404    |  3.697442    | sofa         | \n",
       "\n",
       "\n"
      ],
      "text/plain": [
       "  p_val        wtd_p_val  main_0    main_1    sub_0     sub_1      wtd_main_0\n",
       "1 1.942281e-03 0.04772662 84.183688 79.166557 67.137454 59.7201585 83.089515 \n",
       "2 1.416420e-02 0.34205147 50.822846 47.665687        NA         NA 49.415944 \n",
       "3 6.091011e-02 0.03565708  1.801389  1.837418  0.738580  0.7696856  2.104114 \n",
       "4 1.705518e-15 0.08790062  8.505970 10.045054  7.451124  7.6816088  9.106113 \n",
       "5 1.378591e-15 0.12425987 19.632462 20.778975  5.788347  5.4462928 20.019478 \n",
       "6 7.477319e-27 0.02807578  5.305260  6.323865  3.618029  3.7963648  5.662584 \n",
       "  wtd_main_1 wtd_sub_0 wtd_sub_1 var       \n",
       "1 79.918203  64.906984 60.763406 age       \n",
       "2 48.205909         NA        NA female    \n",
       "3  2.159730   1.036885  1.040762 weight    \n",
       "4  9.436513   7.555664  7.638541 elix_score\n",
       "5 20.236554   5.657332  5.425510 saps      \n",
       "6  5.868751   3.669404  3.697442 sofa      "
      ]
     },
     "metadata": {},
     "output_type": "display_data"
    }
   ],
   "source": [
    "table_one <- data.table::fread(file.path(data_dir, \"tableone_raw.csv\"), data.table = FALSE)\n",
    "head(table_one)"
   ]
  },
  {
   "cell_type": "code",
   "execution_count": 5,
   "metadata": {},
   "outputs": [
    {
     "data": {
      "text/html": [
       "<ol class=list-inline>\n",
       "\t<li>'age'</li>\n",
       "\t<li>'weight'</li>\n",
       "\t<li>'sofa'</li>\n",
       "\t<li>'vent'</li>\n",
       "\t<li>'vaso'</li>\n",
       "\t<li>'sedative'</li>\n",
       "\t<li>'icd_chf'</li>\n",
       "\t<li>'icd_afib'</li>\n",
       "\t<li>'lab_chloride_first'</li>\n",
       "\t<li>'lab_bnp_flag'</li>\n",
       "\t<li>'lab_troponin_flag'</li>\n",
       "\t<li>'lab_creatinine_kinase_flag'</li>\n",
       "</ol>\n"
      ],
      "text/latex": [
       "\\begin{enumerate*}\n",
       "\\item 'age'\n",
       "\\item 'weight'\n",
       "\\item 'sofa'\n",
       "\\item 'vent'\n",
       "\\item 'vaso'\n",
       "\\item 'sedative'\n",
       "\\item 'icd\\_chf'\n",
       "\\item 'icd\\_afib'\n",
       "\\item 'lab\\_chloride\\_first'\n",
       "\\item 'lab\\_bnp\\_flag'\n",
       "\\item 'lab\\_troponin\\_flag'\n",
       "\\item 'lab\\_creatinine\\_kinase\\_flag'\n",
       "\\end{enumerate*}\n"
      ],
      "text/markdown": [
       "1. 'age'\n",
       "2. 'weight'\n",
       "3. 'sofa'\n",
       "4. 'vent'\n",
       "5. 'vaso'\n",
       "6. 'sedative'\n",
       "7. 'icd_chf'\n",
       "8. 'icd_afib'\n",
       "9. 'lab_chloride_first'\n",
       "10. 'lab_bnp_flag'\n",
       "11. 'lab_troponin_flag'\n",
       "12. 'lab_creatinine_kinase_flag'\n",
       "\n",
       "\n"
      ],
      "text/plain": [
       " [1] \"age\"                        \"weight\"                    \n",
       " [3] \"sofa\"                       \"vent\"                      \n",
       " [5] \"vaso\"                       \"sedative\"                  \n",
       " [7] \"icd_chf\"                    \"icd_afib\"                  \n",
       " [9] \"lab_chloride_first\"         \"lab_bnp_flag\"              \n",
       "[11] \"lab_troponin_flag\"          \"lab_creatinine_kinase_flag\""
      ]
     },
     "metadata": {},
     "output_type": "display_data"
    }
   ],
   "source": [
    "wpv <- table_one %>% filter(wtd_p_val < 0.05) %>% pull(var)\n",
    "wpv"
   ]
  },
  {
   "cell_type": "code",
   "execution_count": 6,
   "metadata": {},
   "outputs": [],
   "source": [
    "design_echo_ps_ate <- svydesign(ids = ~ icustay_id, weights = ~ weight, data = full_data)"
   ]
  },
  {
   "cell_type": "code",
   "execution_count": 7,
   "metadata": {},
   "outputs": [
    {
     "data": {
      "text/html": [
       "'mort_28_day ~ echo + age + weight + sofa + vent + vaso + sedative + icd_chf + icd_afib + lab_chloride_first + lab_bnp_flag + lab_troponin_flag + lab_creatinine_kinase_flag'"
      ],
      "text/latex": [
       "'mort\\_28\\_day \\textasciitilde{} echo + age + weight + sofa + vent + vaso + sedative + icd\\_chf + icd\\_afib + lab\\_chloride\\_first + lab\\_bnp\\_flag + lab\\_troponin\\_flag + lab\\_creatinine\\_kinase\\_flag'"
      ],
      "text/markdown": [
       "'mort_28_day ~ echo + age + weight + sofa + vent + vaso + sedative + icd_chf + icd_afib + lab_chloride_first + lab_bnp_flag + lab_troponin_flag + lab_creatinine_kinase_flag'"
      ],
      "text/plain": [
       "[1] \"mort_28_day ~ echo + age + weight + sofa + vent + vaso + sedative + icd_chf + icd_afib + lab_chloride_first + lab_bnp_flag + lab_troponin_flag + lab_creatinine_kinase_flag\""
      ]
     },
     "metadata": {},
     "output_type": "display_data"
    }
   ],
   "source": [
    "fml <- wpv %>%\n",
    "c(\"echo\", .) %>%\n",
    "paste(collapse = \" + \") %>%\n",
    "sprintf(\"mort_28_day ~ %s\", .)\n",
    "\n",
    "fml"
   ]
  },
  {
   "cell_type": "code",
   "execution_count": 8,
   "metadata": {},
   "outputs": [],
   "source": [
    "logi <- svyglm(as.formula(fml), family = quasibinomial, design = design_echo_ps_ate)"
   ]
  },
  {
   "cell_type": "code",
   "execution_count": 9,
   "metadata": {},
   "outputs": [
    {
     "data": {
      "text/plain": [
       "\n",
       "Call:\n",
       "svyglm(formula = as.formula(fml), family = quasibinomial, design = design_echo_ps_ate)\n",
       "\n",
       "Survey design:\n",
       "svydesign(ids = ~icustay_id, weights = ~weight, data = full_data)\n",
       "\n",
       "Coefficients:\n",
       "                             Estimate Std. Error t value Pr(>|t|)    \n",
       "(Intercept)                 -3.084729   0.537148  -5.743 9.77e-09 ***\n",
       "echo1                       -0.195067   0.071792  -2.717 0.006604 ** \n",
       "age                          0.027820   0.002504  11.110  < 2e-16 ***\n",
       "weight                       0.144464   0.043410   3.328 0.000880 ***\n",
       "sofa                         0.217710   0.011515  18.907  < 2e-16 ***\n",
       "vent1                        0.472870   0.110494   4.280 1.90e-05 ***\n",
       "vaso1                       -0.028651   0.084757  -0.338 0.735347    \n",
       "sedative1                   -0.396807   0.110515  -3.591 0.000333 ***\n",
       "icd_chf1                    -0.153666   0.083352  -1.844 0.065296 .  \n",
       "icd_afib1                    0.101197   0.082003   1.234 0.217228    \n",
       "lab_chloride_first          -0.013394   0.004702  -2.848 0.004410 ** \n",
       "lab_bnp_flag1               -0.027831   0.206722  -0.135 0.892909    \n",
       "lab_troponin_flag1           0.264346   0.102309   2.584 0.009796 ** \n",
       "lab_creatinine_kinase_flag1 -0.240295   0.096726  -2.484 0.013008 *  \n",
       "---\n",
       "Signif. codes:  0 ‘***’ 0.001 ‘**’ 0.01 ‘*’ 0.05 ‘.’ 0.1 ‘ ’ 1\n",
       "\n",
       "(Dispersion parameter for quasibinomial family taken to be 1.002265)\n",
       "\n",
       "Number of Fisher Scoring iterations: 4\n"
      ]
     },
     "metadata": {},
     "output_type": "display_data"
    }
   ],
   "source": [
    "summary(logi)"
   ]
  },
  {
   "cell_type": "code",
   "execution_count": 10,
   "metadata": {},
   "outputs": [
    {
     "data": {
      "text/html": [
       "<table>\n",
       "<thead><tr><th></th><th scope=col>OR</th><th scope=col>2.5 %</th><th scope=col>97.5 %</th></tr></thead>\n",
       "<tbody>\n",
       "\t<tr><th scope=row>(Intercept)</th><td>0.04574245</td><td>0.01596239</td><td>0.1310814 </td></tr>\n",
       "\t<tr><th scope=row>echo1</th><td>0.82277932</td><td>0.71478258</td><td>0.9470933 </td></tr>\n",
       "\t<tr><th scope=row>age</th><td>1.02821095</td><td>1.02317693</td><td>1.0332697 </td></tr>\n",
       "\t<tr><th scope=row>weight</th><td>1.15542043</td><td>1.06117999</td><td>1.2580301 </td></tr>\n",
       "\t<tr><th scope=row>sofa</th><td>1.24322665</td><td>1.21548351</td><td>1.2716030 </td></tr>\n",
       "\t<tr><th scope=row>vent1</th><td>1.60459234</td><td>1.29214760</td><td>1.9925871 </td></tr>\n",
       "\t<tr><th scope=row>vaso1</th><td>0.97175546</td><td>0.82302232</td><td>1.1473670 </td></tr>\n",
       "\t<tr><th scope=row>sedative1</th><td>0.67246353</td><td>0.54149931</td><td>0.8351021 </td></tr>\n",
       "\t<tr><th scope=row>icd_chf1</th><td>0.85755869</td><td>0.72830640</td><td>1.0097493 </td></tr>\n",
       "\t<tr><th scope=row>icd_afib1</th><td>1.10649486</td><td>0.94221077</td><td>1.2994236 </td></tr>\n",
       "\t<tr><th scope=row>lab_chloride_first</th><td>0.98669557</td><td>0.97764362</td><td>0.9958313 </td></tr>\n",
       "\t<tr><th scope=row>lab_bnp_flag1</th><td>0.97255285</td><td>0.64856163</td><td>1.4583950 </td></tr>\n",
       "\t<tr><th scope=row>lab_troponin_flag1</th><td>1.30257940</td><td>1.06590438</td><td>1.5918061 </td></tr>\n",
       "\t<tr><th scope=row>lab_creatinine_kinase_flag1</th><td>0.78639558</td><td>0.65059072</td><td>0.9505485 </td></tr>\n",
       "</tbody>\n",
       "</table>\n"
      ],
      "text/latex": [
       "\\begin{tabular}{r|lll}\n",
       "  & OR & 2.5 \\% & 97.5 \\%\\\\\n",
       "\\hline\n",
       "\t(Intercept) & 0.04574245 & 0.01596239 & 0.1310814 \\\\\n",
       "\techo1 & 0.82277932 & 0.71478258 & 0.9470933 \\\\\n",
       "\tage & 1.02821095 & 1.02317693 & 1.0332697 \\\\\n",
       "\tweight & 1.15542043 & 1.06117999 & 1.2580301 \\\\\n",
       "\tsofa & 1.24322665 & 1.21548351 & 1.2716030 \\\\\n",
       "\tvent1 & 1.60459234 & 1.29214760 & 1.9925871 \\\\\n",
       "\tvaso1 & 0.97175546 & 0.82302232 & 1.1473670 \\\\\n",
       "\tsedative1 & 0.67246353 & 0.54149931 & 0.8351021 \\\\\n",
       "\ticd\\_chf1 & 0.85755869 & 0.72830640 & 1.0097493 \\\\\n",
       "\ticd\\_afib1 & 1.10649486 & 0.94221077 & 1.2994236 \\\\\n",
       "\tlab\\_chloride\\_first & 0.98669557 & 0.97764362 & 0.9958313 \\\\\n",
       "\tlab\\_bnp\\_flag1 & 0.97255285 & 0.64856163 & 1.4583950 \\\\\n",
       "\tlab\\_troponin\\_flag1 & 1.30257940 & 1.06590438 & 1.5918061 \\\\\n",
       "\tlab\\_creatinine\\_kinase\\_flag1 & 0.78639558 & 0.65059072 & 0.9505485 \\\\\n",
       "\\end{tabular}\n"
      ],
      "text/markdown": [
       "\n",
       "| <!--/--> | OR | 2.5 % | 97.5 % | \n",
       "|---|---|---|---|---|---|---|---|---|---|---|---|---|---|\n",
       "| (Intercept) | 0.04574245 | 0.01596239 | 0.1310814  | \n",
       "| echo1 | 0.82277932 | 0.71478258 | 0.9470933  | \n",
       "| age | 1.02821095 | 1.02317693 | 1.0332697  | \n",
       "| weight | 1.15542043 | 1.06117999 | 1.2580301  | \n",
       "| sofa | 1.24322665 | 1.21548351 | 1.2716030  | \n",
       "| vent1 | 1.60459234 | 1.29214760 | 1.9925871  | \n",
       "| vaso1 | 0.97175546 | 0.82302232 | 1.1473670  | \n",
       "| sedative1 | 0.67246353 | 0.54149931 | 0.8351021  | \n",
       "| icd_chf1 | 0.85755869 | 0.72830640 | 1.0097493  | \n",
       "| icd_afib1 | 1.10649486 | 0.94221077 | 1.2994236  | \n",
       "| lab_chloride_first | 0.98669557 | 0.97764362 | 0.9958313  | \n",
       "| lab_bnp_flag1 | 0.97255285 | 0.64856163 | 1.4583950  | \n",
       "| lab_troponin_flag1 | 1.30257940 | 1.06590438 | 1.5918061  | \n",
       "| lab_creatinine_kinase_flag1 | 0.78639558 | 0.65059072 | 0.9505485  | \n",
       "\n",
       "\n"
      ],
      "text/plain": [
       "                            OR         2.5 %      97.5 %   \n",
       "(Intercept)                 0.04574245 0.01596239 0.1310814\n",
       "echo1                       0.82277932 0.71478258 0.9470933\n",
       "age                         1.02821095 1.02317693 1.0332697\n",
       "weight                      1.15542043 1.06117999 1.2580301\n",
       "sofa                        1.24322665 1.21548351 1.2716030\n",
       "vent1                       1.60459234 1.29214760 1.9925871\n",
       "vaso1                       0.97175546 0.82302232 1.1473670\n",
       "sedative1                   0.67246353 0.54149931 0.8351021\n",
       "icd_chf1                    0.85755869 0.72830640 1.0097493\n",
       "icd_afib1                   1.10649486 0.94221077 1.2994236\n",
       "lab_chloride_first          0.98669557 0.97764362 0.9958313\n",
       "lab_bnp_flag1               0.97255285 0.64856163 1.4583950\n",
       "lab_troponin_flag1          1.30257940 1.06590438 1.5918061\n",
       "lab_creatinine_kinase_flag1 0.78639558 0.65059072 0.9505485"
      ]
     },
     "metadata": {},
     "output_type": "display_data"
    }
   ],
   "source": [
    "exp(cbind(OR = coef(logi), confint(logi)))"
   ]
  }
 ],
 "metadata": {
  "kernelspec": {
   "display_name": "R",
   "language": "R",
   "name": "ir"
  },
  "language_info": {
   "codemirror_mode": "r",
   "file_extension": ".r",
   "mimetype": "text/x-r-source",
   "name": "R",
   "pygments_lexer": "r",
   "version": "3.4.2"
  },
  "varInspector": {
   "cols": {
    "lenName": 16,
    "lenType": 16,
    "lenVar": 40
   },
   "kernels_config": {
    "python": {
     "delete_cmd_postfix": "",
     "delete_cmd_prefix": "del ",
     "library": "var_list.py",
     "varRefreshCmd": "print(var_dic_list())"
    },
    "r": {
     "delete_cmd_postfix": ") ",
     "delete_cmd_prefix": "rm(",
     "library": "var_list.r",
     "varRefreshCmd": "cat(var_dic_list()) "
    }
   },
   "types_to_exclude": [
    "module",
    "function",
    "builtin_function_or_method",
    "instance",
    "_Feature"
   ],
   "window_display": false
  }
 },
 "nbformat": 4,
 "nbformat_minor": 2
}
