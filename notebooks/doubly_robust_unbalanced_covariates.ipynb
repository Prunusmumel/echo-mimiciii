{
 "cells": [
  {
   "cell_type": "code",
   "execution_count": 1,
   "metadata": {},
   "outputs": [
    {
     "name": "stderr",
     "output_type": "stream",
     "text": [
      "Loading required package: grid\n",
      "Loading required package: Matrix\n",
      "Loading required package: survival\n",
      "\n",
      "Attaching package: ‘survey’\n",
      "\n",
      "The following object is masked from ‘package:graphics’:\n",
      "\n",
      "    dotchart\n",
      "\n",
      "── Attaching packages ─────────────────────────────────────── tidyverse 1.2.1 ──\n",
      "✔ ggplot2 2.2.1     ✔ purrr   0.2.4\n",
      "✔ tibble  1.3.4     ✔ dplyr   0.7.4\n",
      "✔ tidyr   0.7.2     ✔ stringr 1.2.0\n",
      "✔ readr   1.1.1     ✔ forcats 0.2.0\n",
      "── Conflicts ────────────────────────────────────────── tidyverse_conflicts() ──\n",
      "✖ tidyr::expand() masks Matrix::expand()\n",
      "✖ dplyr::filter() masks stats::filter()\n",
      "✖ dplyr::lag()    masks stats::lag()\n"
     ]
    }
   ],
   "source": [
    "library(survey)\n",
    "library(tidyverse)"
   ]
  },
  {
   "cell_type": "code",
   "execution_count": 2,
   "metadata": {},
   "outputs": [],
   "source": [
    "data_dir <- file.path(\"..\", \"data\")"
   ]
  },
  {
   "cell_type": "code",
   "execution_count": 3,
   "metadata": {},
   "outputs": [
    {
     "data": {
      "text/html": [
       "<table>\n",
       "<thead><tr><th scope=col>icustay_id</th><th scope=col>hadm_id</th><th scope=col>subject_id</th><th scope=col>first_careunit</th><th scope=col>intime</th><th scope=col>outtime</th><th scope=col>angus</th><th scope=col>age</th><th scope=col>icu_order</th><th scope=col>echo_time</th><th scope=col>⋯</th><th scope=col>lab_ph_flag</th><th scope=col>lab_ph_first</th><th scope=col>lab_ph_min</th><th scope=col>lab_ph_max</th><th scope=col>lab_ph_abnormal</th><th scope=col>sedative</th><th scope=col>echo_int</th><th scope=col>mort_28_day_int</th><th scope=col>ps</th><th scope=col>ps_weight</th></tr></thead>\n",
       "<tbody>\n",
       "\t<tr><td>201220             </td><td>125078             </td><td>66690              </td><td>0                  </td><td>2106-04-27 01:47:50</td><td>2106-05-01 11:25:46</td><td>1                  </td><td> 62.67646          </td><td>1                  </td><td>NA                 </td><td>⋯                  </td><td>1                  </td><td>7.45               </td><td>7.42               </td><td>7.45               </td><td>1                  </td><td>1                  </td><td>0                  </td><td>1                  </td><td>0.4447784          </td><td>1.801083           </td></tr>\n",
       "\t<tr><td>215842             </td><td>151232             </td><td>11663              </td><td>0                  </td><td>2188-02-14 01:48:15</td><td>2188-02-15 19:02:48</td><td>1                  </td><td> 86.76186          </td><td>1                  </td><td>NA                 </td><td>⋯                  </td><td>0                  </td><td>  NA               </td><td>  NA               </td><td>  NA               </td><td>NA                 </td><td>0                  </td><td>0                  </td><td>0                  </td><td>0.1580691          </td><td>1.187746           </td></tr>\n",
       "\t<tr><td>234312             </td><td>164444             </td><td>86645              </td><td>1                  </td><td>2165-06-22 01:47:16</td><td>2165-07-07 13:55:20</td><td>1                  </td><td> 56.08904          </td><td>1                  </td><td>NA                 </td><td>⋯                  </td><td>1                  </td><td>7.49               </td><td>7.49               </td><td>7.49               </td><td>1                  </td><td>0                  </td><td>0                  </td><td>0                  </td><td>0.3088600          </td><td>1.446885           </td></tr>\n",
       "\t<tr><td>289157             </td><td>146726             </td><td>10304              </td><td>0                  </td><td>2156-06-23 14:26:00</td><td>2156-06-30 09:26:00</td><td>1                  </td><td> 45.91093          </td><td>1                  </td><td>2156-06-25         </td><td>⋯                  </td><td>1                  </td><td>7.44               </td><td>7.44               </td><td>7.44               </td><td>1                  </td><td>0                  </td><td>1                  </td><td>0                  </td><td>0.7000591          </td><td>1.428451           </td></tr>\n",
       "\t<tr><td>211964             </td><td>160170             </td><td>94534              </td><td>0                  </td><td>2160-03-05 14:23:19</td><td>2160-03-06 22:48:41</td><td>1                  </td><td> 59.38693          </td><td>1                  </td><td>NA                 </td><td>⋯                  </td><td>0                  </td><td>  NA               </td><td>  NA               </td><td>  NA               </td><td>NA                 </td><td>0                  </td><td>0                  </td><td>0                  </td><td>0.3324814          </td><td>1.498086           </td></tr>\n",
       "\t<tr><td>230173             </td><td>112553             </td><td>31544              </td><td>0                  </td><td>2140-01-30 20:39:25</td><td>2140-02-02 18:41:39</td><td>1                  </td><td>300.00345          </td><td>1                  </td><td>NA                 </td><td>⋯                  </td><td>0                  </td><td>  NA               </td><td>  NA               </td><td>  NA               </td><td>NA                 </td><td>0                  </td><td>0                  </td><td>1                  </td><td>0.2379659          </td><td>1.312277           </td></tr>\n",
       "</tbody>\n",
       "</table>\n"
      ],
      "text/latex": [
       "\\begin{tabular}{r|lllllllllllllllllllllllllllllllllllllllllllllllllllllllllllllllllllllllllllllllllllllllllllllllllllllllllllllllllllllllllllllllllll}\n",
       " icustay\\_id & hadm\\_id & subject\\_id & first\\_careunit & intime & outtime & angus & age & icu\\_order & echo\\_time & ⋯ & lab\\_ph\\_flag & lab\\_ph\\_first & lab\\_ph\\_min & lab\\_ph\\_max & lab\\_ph\\_abnormal & sedative & echo\\_int & mort\\_28\\_day\\_int & ps & ps\\_weight\\\\\n",
       "\\hline\n",
       "\t 201220              & 125078              & 66690               & 0                   & 2106-04-27 01:47:50 & 2106-05-01 11:25:46 & 1                   &  62.67646           & 1                   & NA                  & ⋯                   & 1                   & 7.45                & 7.42                & 7.45                & 1                   & 1                   & 0                   & 1                   & 0.4447784           & 1.801083           \\\\\n",
       "\t 215842              & 151232              & 11663               & 0                   & 2188-02-14 01:48:15 & 2188-02-15 19:02:48 & 1                   &  86.76186           & 1                   & NA                  & ⋯                   & 0                   &   NA                &   NA                &   NA                & NA                  & 0                   & 0                   & 0                   & 0.1580691           & 1.187746           \\\\\n",
       "\t 234312              & 164444              & 86645               & 1                   & 2165-06-22 01:47:16 & 2165-07-07 13:55:20 & 1                   &  56.08904           & 1                   & NA                  & ⋯                   & 1                   & 7.49                & 7.49                & 7.49                & 1                   & 0                   & 0                   & 0                   & 0.3088600           & 1.446885           \\\\\n",
       "\t 289157              & 146726              & 10304               & 0                   & 2156-06-23 14:26:00 & 2156-06-30 09:26:00 & 1                   &  45.91093           & 1                   & 2156-06-25          & ⋯                   & 1                   & 7.44                & 7.44                & 7.44                & 1                   & 0                   & 1                   & 0                   & 0.7000591           & 1.428451           \\\\\n",
       "\t 211964              & 160170              & 94534               & 0                   & 2160-03-05 14:23:19 & 2160-03-06 22:48:41 & 1                   &  59.38693           & 1                   & NA                  & ⋯                   & 0                   &   NA                &   NA                &   NA                & NA                  & 0                   & 0                   & 0                   & 0.3324814           & 1.498086           \\\\\n",
       "\t 230173              & 112553              & 31544               & 0                   & 2140-01-30 20:39:25 & 2140-02-02 18:41:39 & 1                   & 300.00345           & 1                   & NA                  & ⋯                   & 0                   &   NA                &   NA                &   NA                & NA                  & 0                   & 0                   & 1                   & 0.2379659           & 1.312277           \\\\\n",
       "\\end{tabular}\n"
      ],
      "text/markdown": [
       "\n",
       "icustay_id | hadm_id | subject_id | first_careunit | intime | outtime | angus | age | icu_order | echo_time | ⋯ | lab_ph_flag | lab_ph_first | lab_ph_min | lab_ph_max | lab_ph_abnormal | sedative | echo_int | mort_28_day_int | ps | ps_weight | \n",
       "|---|---|---|---|---|---|\n",
       "| 201220              | 125078              | 66690               | 0                   | 2106-04-27 01:47:50 | 2106-05-01 11:25:46 | 1                   |  62.67646           | 1                   | NA                  | ⋯                   | 1                   | 7.45                | 7.42                | 7.45                | 1                   | 1                   | 0                   | 1                   | 0.4447784           | 1.801083            | \n",
       "| 215842              | 151232              | 11663               | 0                   | 2188-02-14 01:48:15 | 2188-02-15 19:02:48 | 1                   |  86.76186           | 1                   | NA                  | ⋯                   | 0                   |   NA                |   NA                |   NA                | NA                  | 0                   | 0                   | 0                   | 0.1580691           | 1.187746            | \n",
       "| 234312              | 164444              | 86645               | 1                   | 2165-06-22 01:47:16 | 2165-07-07 13:55:20 | 1                   |  56.08904           | 1                   | NA                  | ⋯                   | 1                   | 7.49                | 7.49                | 7.49                | 1                   | 0                   | 0                   | 0                   | 0.3088600           | 1.446885            | \n",
       "| 289157              | 146726              | 10304               | 0                   | 2156-06-23 14:26:00 | 2156-06-30 09:26:00 | 1                   |  45.91093           | 1                   | 2156-06-25          | ⋯                   | 1                   | 7.44                | 7.44                | 7.44                | 1                   | 0                   | 1                   | 0                   | 0.7000591           | 1.428451            | \n",
       "| 211964              | 160170              | 94534               | 0                   | 2160-03-05 14:23:19 | 2160-03-06 22:48:41 | 1                   |  59.38693           | 1                   | NA                  | ⋯                   | 0                   |   NA                |   NA                |   NA                | NA                  | 0                   | 0                   | 0                   | 0.3324814           | 1.498086            | \n",
       "| 230173              | 112553              | 31544               | 0                   | 2140-01-30 20:39:25 | 2140-02-02 18:41:39 | 1                   | 300.00345           | 1                   | NA                  | ⋯                   | 0                   |   NA                |   NA                |   NA                | NA                  | 0                   | 0                   | 1                   | 0.2379659           | 1.312277            | \n",
       "\n",
       "\n"
      ],
      "text/plain": [
       "  icustay_id hadm_id subject_id first_careunit intime             \n",
       "1 201220     125078  66690      0              2106-04-27 01:47:50\n",
       "2 215842     151232  11663      0              2188-02-14 01:48:15\n",
       "3 234312     164444  86645      1              2165-06-22 01:47:16\n",
       "4 289157     146726  10304      0              2156-06-23 14:26:00\n",
       "5 211964     160170  94534      0              2160-03-05 14:23:19\n",
       "6 230173     112553  31544      0              2140-01-30 20:39:25\n",
       "  outtime             angus age       icu_order echo_time  ⋯ lab_ph_flag\n",
       "1 2106-05-01 11:25:46 1      62.67646 1         <NA>       ⋯ 1          \n",
       "2 2188-02-15 19:02:48 1      86.76186 1         <NA>       ⋯ 0          \n",
       "3 2165-07-07 13:55:20 1      56.08904 1         <NA>       ⋯ 1          \n",
       "4 2156-06-30 09:26:00 1      45.91093 1         2156-06-25 ⋯ 1          \n",
       "5 2160-03-06 22:48:41 1      59.38693 1         <NA>       ⋯ 0          \n",
       "6 2140-02-02 18:41:39 1     300.00345 1         <NA>       ⋯ 0          \n",
       "  lab_ph_first lab_ph_min lab_ph_max lab_ph_abnormal sedative echo_int\n",
       "1 7.45         7.42       7.45       1               1        0       \n",
       "2   NA           NA         NA       NA              0        0       \n",
       "3 7.49         7.49       7.49       1               0        0       \n",
       "4 7.44         7.44       7.44       1               0        1       \n",
       "5   NA           NA         NA       NA              0        0       \n",
       "6   NA           NA         NA       NA              0        0       \n",
       "  mort_28_day_int ps        ps_weight\n",
       "1 1               0.4447784 1.801083 \n",
       "2 0               0.1580691 1.187746 \n",
       "3 0               0.3088600 1.446885 \n",
       "4 0               0.7000591 1.428451 \n",
       "5 0               0.3324814 1.498086 \n",
       "6 1               0.2379659 1.312277 "
      ]
     },
     "metadata": {},
     "output_type": "display_data"
    }
   ],
   "source": [
    "full_data <- readRDS(file.path(data_dir, \"full_data_ps.rds\"))\n",
    "head(full_data)"
   ]
  },
  {
   "cell_type": "code",
   "execution_count": 4,
   "metadata": {},
   "outputs": [
    {
     "data": {
      "text/html": [
       "<table>\n",
       "<thead><tr><th scope=col>p_val</th><th scope=col>wtd_p_val</th><th scope=col>main_0</th><th scope=col>main_1</th><th scope=col>sub_0</th><th scope=col>sub_1</th><th scope=col>wtd_main_0</th><th scope=col>wtd_main_1</th><th scope=col>wtd_sub_0</th><th scope=col>wtd_sub_1</th><th scope=col>var</th></tr></thead>\n",
       "<tbody>\n",
       "\t<tr><td>1.942281e-03</td><td>6.571404e-03</td><td>84.183688   </td><td>79.166557   </td><td>67.137454   </td><td>59.720158   </td><td>80.056488   </td><td>75.755236   </td><td>62.335234   </td><td>55.313341   </td><td>age         </td></tr>\n",
       "\t<tr><td>1.416420e-02</td><td>1.507728e-02</td><td>50.822846   </td><td>47.665687   </td><td>       NA   </td><td>       NA   </td><td>47.089492   </td><td>43.841849   </td><td>       NA   </td><td>       NA   </td><td>female      </td></tr>\n",
       "\t<tr><td>6.415559e-11</td><td>1.909584e-13</td><td>78.562949   </td><td>82.979049   </td><td>23.579777   </td><td>26.702495   </td><td>85.637556   </td><td>91.568834   </td><td>27.685863   </td><td>32.234984   </td><td>weight      </td></tr>\n",
       "\t<tr><td>1.705518e-15</td><td>4.041212e-14</td><td> 8.505970   </td><td>10.045054   </td><td> 7.451124   </td><td> 7.681609   </td><td> 8.332934   </td><td> 9.888314   </td><td> 7.564772   </td><td> 7.744827   </td><td>elix_score  </td></tr>\n",
       "\t<tr><td>1.378591e-15</td><td>8.274714e-12</td><td>19.632462   </td><td>20.778975   </td><td> 5.788347   </td><td> 5.446293   </td><td>19.793740   </td><td>20.807581   </td><td> 5.667359   </td><td> 5.364432   </td><td>saps        </td></tr>\n",
       "\t<tr><td>7.217556e-27</td><td>0.000000e+00</td><td> 5.304937   </td><td> 6.323865   </td><td> 3.618100   </td><td> 3.796365   </td><td> 5.528346   </td><td> 6.510264   </td><td> 3.764854   </td><td> 3.812443   </td><td>sofa        </td></tr>\n",
       "</tbody>\n",
       "</table>\n"
      ],
      "text/latex": [
       "\\begin{tabular}{r|lllllllllll}\n",
       " p\\_val & wtd\\_p\\_val & main\\_0 & main\\_1 & sub\\_0 & sub\\_1 & wtd\\_main\\_0 & wtd\\_main\\_1 & wtd\\_sub\\_0 & wtd\\_sub\\_1 & var\\\\\n",
       "\\hline\n",
       "\t 1.942281e-03 & 6.571404e-03 & 84.183688    & 79.166557    & 67.137454    & 59.720158    & 80.056488    & 75.755236    & 62.335234    & 55.313341    & age         \\\\\n",
       "\t 1.416420e-02 & 1.507728e-02 & 50.822846    & 47.665687    &        NA    &        NA    & 47.089492    & 43.841849    &        NA    &        NA    & female      \\\\\n",
       "\t 6.415559e-11 & 1.909584e-13 & 78.562949    & 82.979049    & 23.579777    & 26.702495    & 85.637556    & 91.568834    & 27.685863    & 32.234984    & weight      \\\\\n",
       "\t 1.705518e-15 & 4.041212e-14 &  8.505970    & 10.045054    &  7.451124    &  7.681609    &  8.332934    &  9.888314    &  7.564772    &  7.744827    & elix\\_score\\\\\n",
       "\t 1.378591e-15 & 8.274714e-12 & 19.632462    & 20.778975    &  5.788347    &  5.446293    & 19.793740    & 20.807581    &  5.667359    &  5.364432    & saps        \\\\\n",
       "\t 7.217556e-27 & 0.000000e+00 &  5.304937    &  6.323865    &  3.618100    &  3.796365    &  5.528346    &  6.510264    &  3.764854    &  3.812443    & sofa        \\\\\n",
       "\\end{tabular}\n"
      ],
      "text/markdown": [
       "\n",
       "p_val | wtd_p_val | main_0 | main_1 | sub_0 | sub_1 | wtd_main_0 | wtd_main_1 | wtd_sub_0 | wtd_sub_1 | var | \n",
       "|---|---|---|---|---|---|\n",
       "| 1.942281e-03 | 6.571404e-03 | 84.183688    | 79.166557    | 67.137454    | 59.720158    | 80.056488    | 75.755236    | 62.335234    | 55.313341    | age          | \n",
       "| 1.416420e-02 | 1.507728e-02 | 50.822846    | 47.665687    |        NA    |        NA    | 47.089492    | 43.841849    |        NA    |        NA    | female       | \n",
       "| 6.415559e-11 | 1.909584e-13 | 78.562949    | 82.979049    | 23.579777    | 26.702495    | 85.637556    | 91.568834    | 27.685863    | 32.234984    | weight       | \n",
       "| 1.705518e-15 | 4.041212e-14 |  8.505970    | 10.045054    |  7.451124    |  7.681609    |  8.332934    |  9.888314    |  7.564772    |  7.744827    | elix_score   | \n",
       "| 1.378591e-15 | 8.274714e-12 | 19.632462    | 20.778975    |  5.788347    |  5.446293    | 19.793740    | 20.807581    |  5.667359    |  5.364432    | saps         | \n",
       "| 7.217556e-27 | 0.000000e+00 |  5.304937    |  6.323865    |  3.618100    |  3.796365    |  5.528346    |  6.510264    |  3.764854    |  3.812443    | sofa         | \n",
       "\n",
       "\n"
      ],
      "text/plain": [
       "  p_val        wtd_p_val    main_0    main_1    sub_0     sub_1     wtd_main_0\n",
       "1 1.942281e-03 6.571404e-03 84.183688 79.166557 67.137454 59.720158 80.056488 \n",
       "2 1.416420e-02 1.507728e-02 50.822846 47.665687        NA        NA 47.089492 \n",
       "3 6.415559e-11 1.909584e-13 78.562949 82.979049 23.579777 26.702495 85.637556 \n",
       "4 1.705518e-15 4.041212e-14  8.505970 10.045054  7.451124  7.681609  8.332934 \n",
       "5 1.378591e-15 8.274714e-12 19.632462 20.778975  5.788347  5.446293 19.793740 \n",
       "6 7.217556e-27 0.000000e+00  5.304937  6.323865  3.618100  3.796365  5.528346 \n",
       "  wtd_main_1 wtd_sub_0 wtd_sub_1 var       \n",
       "1 75.755236  62.335234 55.313341 age       \n",
       "2 43.841849         NA        NA female    \n",
       "3 91.568834  27.685863 32.234984 weight    \n",
       "4  9.888314   7.564772  7.744827 elix_score\n",
       "5 20.807581   5.667359  5.364432 saps      \n",
       "6  6.510264   3.764854  3.812443 sofa      "
      ]
     },
     "metadata": {},
     "output_type": "display_data"
    }
   ],
   "source": [
    "table_one <- data.table::fread(file.path(data_dir, \"tableone_raw.csv\"), data.table = FALSE)\n",
    "head(table_one)"
   ]
  },
  {
   "cell_type": "code",
   "execution_count": 5,
   "metadata": {},
   "outputs": [
    {
     "data": {
      "text/html": [
       "<ol class=list-inline>\n",
       "\t<li>'age'</li>\n",
       "\t<li>'gender'</li>\n",
       "\t<li>'weight'</li>\n",
       "\t<li>'elix_score'</li>\n",
       "\t<li>'saps'</li>\n",
       "\t<li>'sofa'</li>\n",
       "\t<li>'vent'</li>\n",
       "\t<li>'vaso'</li>\n",
       "\t<li>'sedative'</li>\n",
       "\t<li>'icd_chf'</li>\n",
       "\t<li>'icd_afib'</li>\n",
       "\t<li>'icd_renal'</li>\n",
       "\t<li>'icd_copd'</li>\n",
       "\t<li>'icd_cad'</li>\n",
       "\t<li>'icd_stroke'</li>\n",
       "\t<li>'icd_malignancy'</li>\n",
       "\t<li>'vs_heart_rate_first'</li>\n",
       "\t<li>'vs_temp_first'</li>\n",
       "\t<li>'lab_platelet_first'</li>\n",
       "\t<li>'lab_sodium_first'</li>\n",
       "\t<li>'lab_potassium_first'</li>\n",
       "\t<li>'lab_chloride_first'</li>\n",
       "\t<li>'lab_bun_first'</li>\n",
       "\t<li>'lab_creatinine_first'</li>\n",
       "\t<li>'lab_po2_first'</li>\n",
       "\t<li>'lab_pco2_first'</li>\n",
       "\t<li>'lab_bnp_flag'</li>\n",
       "\t<li>'lab_troponin_flag'</li>\n",
       "\t<li>'lab_creatinine_kinase_flag'</li>\n",
       "\t<li>'icu_adm_weekday'</li>\n",
       "</ol>\n"
      ],
      "text/latex": [
       "\\begin{enumerate*}\n",
       "\\item 'age'\n",
       "\\item 'gender'\n",
       "\\item 'weight'\n",
       "\\item 'elix\\_score'\n",
       "\\item 'saps'\n",
       "\\item 'sofa'\n",
       "\\item 'vent'\n",
       "\\item 'vaso'\n",
       "\\item 'sedative'\n",
       "\\item 'icd\\_chf'\n",
       "\\item 'icd\\_afib'\n",
       "\\item 'icd\\_renal'\n",
       "\\item 'icd\\_copd'\n",
       "\\item 'icd\\_cad'\n",
       "\\item 'icd\\_stroke'\n",
       "\\item 'icd\\_malignancy'\n",
       "\\item 'vs\\_heart\\_rate\\_first'\n",
       "\\item 'vs\\_temp\\_first'\n",
       "\\item 'lab\\_platelet\\_first'\n",
       "\\item 'lab\\_sodium\\_first'\n",
       "\\item 'lab\\_potassium\\_first'\n",
       "\\item 'lab\\_chloride\\_first'\n",
       "\\item 'lab\\_bun\\_first'\n",
       "\\item 'lab\\_creatinine\\_first'\n",
       "\\item 'lab\\_po2\\_first'\n",
       "\\item 'lab\\_pco2\\_first'\n",
       "\\item 'lab\\_bnp\\_flag'\n",
       "\\item 'lab\\_troponin\\_flag'\n",
       "\\item 'lab\\_creatinine\\_kinase\\_flag'\n",
       "\\item 'icu\\_adm\\_weekday'\n",
       "\\end{enumerate*}\n"
      ],
      "text/markdown": [
       "1. 'age'\n",
       "2. 'gender'\n",
       "3. 'weight'\n",
       "4. 'elix_score'\n",
       "5. 'saps'\n",
       "6. 'sofa'\n",
       "7. 'vent'\n",
       "8. 'vaso'\n",
       "9. 'sedative'\n",
       "10. 'icd_chf'\n",
       "11. 'icd_afib'\n",
       "12. 'icd_renal'\n",
       "13. 'icd_copd'\n",
       "14. 'icd_cad'\n",
       "15. 'icd_stroke'\n",
       "16. 'icd_malignancy'\n",
       "17. 'vs_heart_rate_first'\n",
       "18. 'vs_temp_first'\n",
       "19. 'lab_platelet_first'\n",
       "20. 'lab_sodium_first'\n",
       "21. 'lab_potassium_first'\n",
       "22. 'lab_chloride_first'\n",
       "23. 'lab_bun_first'\n",
       "24. 'lab_creatinine_first'\n",
       "25. 'lab_po2_first'\n",
       "26. 'lab_pco2_first'\n",
       "27. 'lab_bnp_flag'\n",
       "28. 'lab_troponin_flag'\n",
       "29. 'lab_creatinine_kinase_flag'\n",
       "30. 'icu_adm_weekday'\n",
       "\n",
       "\n"
      ],
      "text/plain": [
       " [1] \"age\"                        \"gender\"                    \n",
       " [3] \"weight\"                     \"elix_score\"                \n",
       " [5] \"saps\"                       \"sofa\"                      \n",
       " [7] \"vent\"                       \"vaso\"                      \n",
       " [9] \"sedative\"                   \"icd_chf\"                   \n",
       "[11] \"icd_afib\"                   \"icd_renal\"                 \n",
       "[13] \"icd_copd\"                   \"icd_cad\"                   \n",
       "[15] \"icd_stroke\"                 \"icd_malignancy\"            \n",
       "[17] \"vs_heart_rate_first\"        \"vs_temp_first\"             \n",
       "[19] \"lab_platelet_first\"         \"lab_sodium_first\"          \n",
       "[21] \"lab_potassium_first\"        \"lab_chloride_first\"        \n",
       "[23] \"lab_bun_first\"              \"lab_creatinine_first\"      \n",
       "[25] \"lab_po2_first\"              \"lab_pco2_first\"            \n",
       "[27] \"lab_bnp_flag\"               \"lab_troponin_flag\"         \n",
       "[29] \"lab_creatinine_kinase_flag\" \"icu_adm_weekday\"           "
      ]
     },
     "metadata": {},
     "output_type": "display_data"
    }
   ],
   "source": [
    "wpv <- table_one %>%\n",
    "    filter(wtd_p_val < 0.05) %>%\n",
    "    pull(var) %>%\n",
    "    gsub(\"female\", \"gender\", .)\n",
    "\n",
    "if (length(grep(\"day\", wpv)) > 0) wpv <- wpv %>% discard(grepl(\"day\", .)) %>% c(., \"icu_adm_weekday\")\n",
    "\n",
    "wpv"
   ]
  },
  {
   "cell_type": "code",
   "execution_count": 6,
   "metadata": {},
   "outputs": [],
   "source": [
    "design_echo_ps_ate <- svydesign(ids = ~ icustay_id, weights = ~ ps_weight, data = full_data)"
   ]
  },
  {
   "cell_type": "code",
   "execution_count": 7,
   "metadata": {},
   "outputs": [
    {
     "data": {
      "text/html": [
       "'mort_28_day ~ echo + age + gender + weight + elix_score + saps + sofa + vent + vaso + sedative + icd_chf + icd_afib + icd_renal + icd_copd + icd_cad + icd_stroke + icd_malignancy + vs_heart_rate_first + vs_temp_first + lab_platelet_first + lab_sodium_first + lab_potassium_first + lab_chloride_first + lab_bun_first + lab_creatinine_first + lab_po2_first + lab_pco2_first + lab_bnp_flag + lab_troponin_flag + lab_creatinine_kinase_flag + icu_adm_weekday'"
      ],
      "text/latex": [
       "'mort\\_28\\_day \\textasciitilde{} echo + age + gender + weight + elix\\_score + saps + sofa + vent + vaso + sedative + icd\\_chf + icd\\_afib + icd\\_renal + icd\\_copd + icd\\_cad + icd\\_stroke + icd\\_malignancy + vs\\_heart\\_rate\\_first + vs\\_temp\\_first + lab\\_platelet\\_first + lab\\_sodium\\_first + lab\\_potassium\\_first + lab\\_chloride\\_first + lab\\_bun\\_first + lab\\_creatinine\\_first + lab\\_po2\\_first + lab\\_pco2\\_first + lab\\_bnp\\_flag + lab\\_troponin\\_flag + lab\\_creatinine\\_kinase\\_flag + icu\\_adm\\_weekday'"
      ],
      "text/markdown": [
       "'mort_28_day ~ echo + age + gender + weight + elix_score + saps + sofa + vent + vaso + sedative + icd_chf + icd_afib + icd_renal + icd_copd + icd_cad + icd_stroke + icd_malignancy + vs_heart_rate_first + vs_temp_first + lab_platelet_first + lab_sodium_first + lab_potassium_first + lab_chloride_first + lab_bun_first + lab_creatinine_first + lab_po2_first + lab_pco2_first + lab_bnp_flag + lab_troponin_flag + lab_creatinine_kinase_flag + icu_adm_weekday'"
      ],
      "text/plain": [
       "[1] \"mort_28_day ~ echo + age + gender + weight + elix_score + saps + sofa + vent + vaso + sedative + icd_chf + icd_afib + icd_renal + icd_copd + icd_cad + icd_stroke + icd_malignancy + vs_heart_rate_first + vs_temp_first + lab_platelet_first + lab_sodium_first + lab_potassium_first + lab_chloride_first + lab_bun_first + lab_creatinine_first + lab_po2_first + lab_pco2_first + lab_bnp_flag + lab_troponin_flag + lab_creatinine_kinase_flag + icu_adm_weekday\""
      ]
     },
     "metadata": {},
     "output_type": "display_data"
    }
   ],
   "source": [
    "fml <- wpv %>%\n",
    "c(\"echo\", .) %>%\n",
    "paste(collapse = \" + \") %>%\n",
    "sprintf(\"mort_28_day ~ %s\", .)\n",
    "\n",
    "fml"
   ]
  },
  {
   "cell_type": "code",
   "execution_count": 8,
   "metadata": {},
   "outputs": [],
   "source": [
    "logi <- svyglm(as.formula(fml), family = quasibinomial, design = design_echo_ps_ate)"
   ]
  },
  {
   "cell_type": "code",
   "execution_count": 9,
   "metadata": {},
   "outputs": [
    {
     "data": {
      "text/plain": [
       "\n",
       "Call:\n",
       "svyglm(formula = as.formula(fml), family = quasibinomial, design = design_echo_ps_ate)\n",
       "\n",
       "Survey design:\n",
       "svydesign(ids = ~icustay_id, weights = ~ps_weight, data = full_data)\n",
       "\n",
       "Coefficients:\n",
       "                              Estimate Std. Error t value Pr(>|t|)    \n",
       "(Intercept)                 -1.5813112  1.7682963  -0.894 0.371244    \n",
       "echo1                       -0.3147708  0.0922149  -3.413 0.000649 ***\n",
       "age                          0.0032980  0.0007506   4.394 1.15e-05 ***\n",
       "gender1                      0.1341377  0.0938740   1.429 0.153116    \n",
       "weight                      -0.0099803  0.0021078  -4.735 2.28e-06 ***\n",
       "elix_score                   0.0317635  0.0067661   4.695 2.77e-06 ***\n",
       "saps                         0.0719846  0.0114975   6.261 4.28e-10 ***\n",
       "sofa                         0.1723286  0.0172055  10.016  < 2e-16 ***\n",
       "vent1                        0.1584679  0.1558667   1.017 0.309370    \n",
       "vaso1                        0.0393363  0.1068834   0.368 0.712872    \n",
       "sedative1                   -0.3818989  0.1309131  -2.917 0.003554 ** \n",
       "icd_chf1                    -0.2836549  0.1191619  -2.380 0.017345 *  \n",
       "icd_afib1                    0.2150823  0.1068757   2.012 0.044246 *  \n",
       "icd_renal1                  -0.3272161  0.1406743  -2.326 0.020071 *  \n",
       "icd_copd1                    0.1016203  0.1207103   0.842 0.399926    \n",
       "icd_cad1                     0.0221918  0.1394746   0.159 0.873591    \n",
       "icd_stroke1                  0.8123738  0.1613867   5.034 5.05e-07 ***\n",
       "icd_malignancy1              0.5602773  0.1058402   5.294 1.27e-07 ***\n",
       "vs_heart_rate_first          0.0042601  0.0022416   1.900 0.057453 .  \n",
       "vs_temp_first               -0.0781308  0.0407328  -1.918 0.055173 .  \n",
       "lab_platelet_first           0.0001778  0.0003615   0.492 0.622948    \n",
       "lab_sodium_first             0.0302563  0.0118303   2.558 0.010583 *  \n",
       "lab_potassium_first          0.1810814  0.0666373   2.717 0.006611 ** \n",
       "lab_chloride_first          -0.0379725  0.0100302  -3.786 0.000156 ***\n",
       "lab_bun_first                0.0078210  0.0023596   3.315 0.000927 ***\n",
       "lab_creatinine_first        -0.2333620  0.0429442  -5.434 5.87e-08 ***\n",
       "lab_po2_first               -0.0004640  0.0004820  -0.963 0.335795    \n",
       "lab_pco2_first              -0.0038147  0.0038136  -1.000 0.317227    \n",
       "lab_bnp_flag1                0.2446432  0.2702439   0.905 0.365384    \n",
       "lab_troponin_flag1           0.3048541  0.1282324   2.377 0.017489 *  \n",
       "lab_creatinine_kinase_flag1 -0.1939667  0.1205407  -1.609 0.107674    \n",
       "icu_adm_weekday1            -0.1153897  0.1667076  -0.692 0.488876    \n",
       "icu_adm_weekday2            -0.1599302  0.1632967  -0.979 0.327456    \n",
       "icu_adm_weekday3             0.0731745  0.1610280   0.454 0.649553    \n",
       "icu_adm_weekday4             0.0847893  0.1564475   0.542 0.587875    \n",
       "icu_adm_weekday5             0.0409082  0.1649123   0.248 0.804102    \n",
       "icu_adm_weekday6             0.0075451  0.1675840   0.045 0.964092    \n",
       "---\n",
       "Signif. codes:  0 ‘***’ 0.001 ‘**’ 0.01 ‘*’ 0.05 ‘.’ 0.1 ‘ ’ 1\n",
       "\n",
       "(Dispersion parameter for quasibinomial family taken to be 1.000791)\n",
       "\n",
       "Number of Fisher Scoring iterations: 4\n"
      ]
     },
     "metadata": {},
     "output_type": "display_data"
    }
   ],
   "source": [
    "summary(logi)"
   ]
  },
  {
   "cell_type": "code",
   "execution_count": 10,
   "metadata": {},
   "outputs": [
    {
     "data": {
      "text/html": [
       "<table>\n",
       "<thead><tr><th></th><th scope=col>OR</th><th scope=col>2.5 %</th><th scope=col>97.5 %</th></tr></thead>\n",
       "<tbody>\n",
       "\t<tr><th scope=row>(Intercept)</th><td>0.2057052  </td><td>0.006427895</td><td>6.5829685  </td></tr>\n",
       "\t<tr><th scope=row>echo1</th><td>0.7299562  </td><td>0.609260842</td><td>0.8745613  </td></tr>\n",
       "\t<tr><th scope=row>age</th><td>1.0033034  </td><td>1.001828522</td><td>1.0047805  </td></tr>\n",
       "\t<tr><th scope=row>gender1</th><td>1.1435503  </td><td>0.951370246</td><td>1.3745515  </td></tr>\n",
       "\t<tr><th scope=row>weight</th><td>0.9900693  </td><td>0.985987562</td><td>0.9941679  </td></tr>\n",
       "\t<tr><th scope=row>elix_score</th><td>1.0322733  </td><td>1.018674448</td><td>1.0460537  </td></tr>\n",
       "\t<tr><th scope=row>saps</th><td>1.0746388  </td><td>1.050693041</td><td>1.0991303  </td></tr>\n",
       "\t<tr><th scope=row>sofa</th><td>1.1880682  </td><td>1.148672049</td><td>1.2288155  </td></tr>\n",
       "\t<tr><th scope=row>vent1</th><td>1.1717143  </td><td>0.863272142</td><td>1.5903611  </td></tr>\n",
       "\t<tr><th scope=row>vaso1</th><td>1.0401202  </td><td>0.843537231</td><td>1.2825161  </td></tr>\n",
       "\t<tr><th scope=row>sedative1</th><td>0.6825640  </td><td>0.528092459</td><td>0.8822199  </td></tr>\n",
       "\t<tr><th scope=row>icd_chf1</th><td>0.7530265  </td><td>0.596182830</td><td>0.9511325  </td></tr>\n",
       "\t<tr><th scope=row>icd_afib1</th><td>1.2399640  </td><td>1.005625612</td><td>1.5289095  </td></tr>\n",
       "\t<tr><th scope=row>icd_renal1</th><td>0.7209279  </td><td>0.547204519</td><td>0.9498040  </td></tr>\n",
       "\t<tr><th scope=row>icd_copd1</th><td>1.1069631  </td><td>0.873744296</td><td>1.4024324  </td></tr>\n",
       "\t<tr><th scope=row>icd_cad1</th><td>1.0224399  </td><td>0.777887416</td><td>1.3438748  </td></tr>\n",
       "\t<tr><th scope=row>icd_stroke1</th><td>2.2532504  </td><td>1.642240879</td><td>3.0915911  </td></tr>\n",
       "\t<tr><th scope=row>icd_malignancy1</th><td>1.7511580  </td><td>1.423095302</td><td>2.1548482  </td></tr>\n",
       "\t<tr><th scope=row>vs_heart_rate_first</th><td>1.0042692  </td><td>0.999866613</td><td>1.0086911  </td></tr>\n",
       "\t<tr><th scope=row>vs_temp_first</th><td>0.9248434  </td><td>0.853879105</td><td>1.0017055  </td></tr>\n",
       "\t<tr><th scope=row>lab_platelet_first</th><td>1.0001778  </td><td>0.999469320</td><td>1.0008868  </td></tr>\n",
       "\t<tr><th scope=row>lab_sodium_first</th><td>1.0307187  </td><td>1.007094347</td><td>1.0548973  </td></tr>\n",
       "\t<tr><th scope=row>lab_potassium_first</th><td>1.1985127  </td><td>1.051770149</td><td>1.3657287  </td></tr>\n",
       "\t<tr><th scope=row>lab_chloride_first</th><td>0.9627395  </td><td>0.943997935</td><td>0.9818531  </td></tr>\n",
       "\t<tr><th scope=row>lab_bun_first</th><td>1.0078517  </td><td>1.003201382</td><td>1.0125235  </td></tr>\n",
       "\t<tr><th scope=row>lab_creatinine_first</th><td>0.7918669  </td><td>0.727944021</td><td>0.8614029  </td></tr>\n",
       "\t<tr><th scope=row>lab_po2_first</th><td>0.9995361  </td><td>0.998592346</td><td>1.0004808  </td></tr>\n",
       "\t<tr><th scope=row>lab_pco2_first</th><td>0.9961925  </td><td>0.988774323</td><td>1.0036664  </td></tr>\n",
       "\t<tr><th scope=row>lab_bnp_flag1</th><td>1.2771655  </td><td>0.751995358</td><td>2.1690981  </td></tr>\n",
       "\t<tr><th scope=row>lab_troponin_flag1</th><td>1.3564271  </td><td>1.054981374</td><td>1.7440065  </td></tr>\n",
       "\t<tr><th scope=row>lab_creatinine_kinase_flag1</th><td>0.8236854  </td><td>0.650364602</td><td>1.0431957  </td></tr>\n",
       "\t<tr><th scope=row>icu_adm_weekday1</th><td>0.8910188  </td><td>0.642665728</td><td>1.2353461  </td></tr>\n",
       "\t<tr><th scope=row>icu_adm_weekday2</th><td>0.8522033  </td><td>0.618792116</td><td>1.1736582  </td></tr>\n",
       "\t<tr><th scope=row>icu_adm_weekday3</th><td>1.0759183  </td><td>0.784715043</td><td>1.4751854  </td></tr>\n",
       "\t<tr><th scope=row>icu_adm_weekday4</th><td>1.0884877  </td><td>0.801041789</td><td>1.4790807  </td></tr>\n",
       "\t<tr><th scope=row>icu_adm_weekday5</th><td>1.0417564  </td><td>0.754036856</td><td>1.4392618  </td></tr>\n",
       "\t<tr><th scope=row>icu_adm_weekday6</th><td>1.0075736  </td><td>0.725486062</td><td>1.3993441  </td></tr>\n",
       "</tbody>\n",
       "</table>\n"
      ],
      "text/latex": [
       "\\begin{tabular}{r|lll}\n",
       "  & OR & 2.5 \\% & 97.5 \\%\\\\\n",
       "\\hline\n",
       "\t(Intercept) & 0.2057052   & 0.006427895 & 6.5829685  \\\\\n",
       "\techo1 & 0.7299562   & 0.609260842 & 0.8745613  \\\\\n",
       "\tage & 1.0033034   & 1.001828522 & 1.0047805  \\\\\n",
       "\tgender1 & 1.1435503   & 0.951370246 & 1.3745515  \\\\\n",
       "\tweight & 0.9900693   & 0.985987562 & 0.9941679  \\\\\n",
       "\telix\\_score & 1.0322733   & 1.018674448 & 1.0460537  \\\\\n",
       "\tsaps & 1.0746388   & 1.050693041 & 1.0991303  \\\\\n",
       "\tsofa & 1.1880682   & 1.148672049 & 1.2288155  \\\\\n",
       "\tvent1 & 1.1717143   & 0.863272142 & 1.5903611  \\\\\n",
       "\tvaso1 & 1.0401202   & 0.843537231 & 1.2825161  \\\\\n",
       "\tsedative1 & 0.6825640   & 0.528092459 & 0.8822199  \\\\\n",
       "\ticd\\_chf1 & 0.7530265   & 0.596182830 & 0.9511325  \\\\\n",
       "\ticd\\_afib1 & 1.2399640   & 1.005625612 & 1.5289095  \\\\\n",
       "\ticd\\_renal1 & 0.7209279   & 0.547204519 & 0.9498040  \\\\\n",
       "\ticd\\_copd1 & 1.1069631   & 0.873744296 & 1.4024324  \\\\\n",
       "\ticd\\_cad1 & 1.0224399   & 0.777887416 & 1.3438748  \\\\\n",
       "\ticd\\_stroke1 & 2.2532504   & 1.642240879 & 3.0915911  \\\\\n",
       "\ticd\\_malignancy1 & 1.7511580   & 1.423095302 & 2.1548482  \\\\\n",
       "\tvs\\_heart\\_rate\\_first & 1.0042692   & 0.999866613 & 1.0086911  \\\\\n",
       "\tvs\\_temp\\_first & 0.9248434   & 0.853879105 & 1.0017055  \\\\\n",
       "\tlab\\_platelet\\_first & 1.0001778   & 0.999469320 & 1.0008868  \\\\\n",
       "\tlab\\_sodium\\_first & 1.0307187   & 1.007094347 & 1.0548973  \\\\\n",
       "\tlab\\_potassium\\_first & 1.1985127   & 1.051770149 & 1.3657287  \\\\\n",
       "\tlab\\_chloride\\_first & 0.9627395   & 0.943997935 & 0.9818531  \\\\\n",
       "\tlab\\_bun\\_first & 1.0078517   & 1.003201382 & 1.0125235  \\\\\n",
       "\tlab\\_creatinine\\_first & 0.7918669   & 0.727944021 & 0.8614029  \\\\\n",
       "\tlab\\_po2\\_first & 0.9995361   & 0.998592346 & 1.0004808  \\\\\n",
       "\tlab\\_pco2\\_first & 0.9961925   & 0.988774323 & 1.0036664  \\\\\n",
       "\tlab\\_bnp\\_flag1 & 1.2771655   & 0.751995358 & 2.1690981  \\\\\n",
       "\tlab\\_troponin\\_flag1 & 1.3564271   & 1.054981374 & 1.7440065  \\\\\n",
       "\tlab\\_creatinine\\_kinase\\_flag1 & 0.8236854   & 0.650364602 & 1.0431957  \\\\\n",
       "\ticu\\_adm\\_weekday1 & 0.8910188   & 0.642665728 & 1.2353461  \\\\\n",
       "\ticu\\_adm\\_weekday2 & 0.8522033   & 0.618792116 & 1.1736582  \\\\\n",
       "\ticu\\_adm\\_weekday3 & 1.0759183   & 0.784715043 & 1.4751854  \\\\\n",
       "\ticu\\_adm\\_weekday4 & 1.0884877   & 0.801041789 & 1.4790807  \\\\\n",
       "\ticu\\_adm\\_weekday5 & 1.0417564   & 0.754036856 & 1.4392618  \\\\\n",
       "\ticu\\_adm\\_weekday6 & 1.0075736   & 0.725486062 & 1.3993441  \\\\\n",
       "\\end{tabular}\n"
      ],
      "text/markdown": [
       "\n",
       "| <!--/--> | OR | 2.5 % | 97.5 % | \n",
       "|---|---|---|---|---|---|---|---|---|---|---|---|---|---|---|---|---|---|---|---|---|---|---|---|---|---|---|---|---|---|---|---|---|---|---|---|---|\n",
       "| (Intercept) | 0.2057052   | 0.006427895 | 6.5829685   | \n",
       "| echo1 | 0.7299562   | 0.609260842 | 0.8745613   | \n",
       "| age | 1.0033034   | 1.001828522 | 1.0047805   | \n",
       "| gender1 | 1.1435503   | 0.951370246 | 1.3745515   | \n",
       "| weight | 0.9900693   | 0.985987562 | 0.9941679   | \n",
       "| elix_score | 1.0322733   | 1.018674448 | 1.0460537   | \n",
       "| saps | 1.0746388   | 1.050693041 | 1.0991303   | \n",
       "| sofa | 1.1880682   | 1.148672049 | 1.2288155   | \n",
       "| vent1 | 1.1717143   | 0.863272142 | 1.5903611   | \n",
       "| vaso1 | 1.0401202   | 0.843537231 | 1.2825161   | \n",
       "| sedative1 | 0.6825640   | 0.528092459 | 0.8822199   | \n",
       "| icd_chf1 | 0.7530265   | 0.596182830 | 0.9511325   | \n",
       "| icd_afib1 | 1.2399640   | 1.005625612 | 1.5289095   | \n",
       "| icd_renal1 | 0.7209279   | 0.547204519 | 0.9498040   | \n",
       "| icd_copd1 | 1.1069631   | 0.873744296 | 1.4024324   | \n",
       "| icd_cad1 | 1.0224399   | 0.777887416 | 1.3438748   | \n",
       "| icd_stroke1 | 2.2532504   | 1.642240879 | 3.0915911   | \n",
       "| icd_malignancy1 | 1.7511580   | 1.423095302 | 2.1548482   | \n",
       "| vs_heart_rate_first | 1.0042692   | 0.999866613 | 1.0086911   | \n",
       "| vs_temp_first | 0.9248434   | 0.853879105 | 1.0017055   | \n",
       "| lab_platelet_first | 1.0001778   | 0.999469320 | 1.0008868   | \n",
       "| lab_sodium_first | 1.0307187   | 1.007094347 | 1.0548973   | \n",
       "| lab_potassium_first | 1.1985127   | 1.051770149 | 1.3657287   | \n",
       "| lab_chloride_first | 0.9627395   | 0.943997935 | 0.9818531   | \n",
       "| lab_bun_first | 1.0078517   | 1.003201382 | 1.0125235   | \n",
       "| lab_creatinine_first | 0.7918669   | 0.727944021 | 0.8614029   | \n",
       "| lab_po2_first | 0.9995361   | 0.998592346 | 1.0004808   | \n",
       "| lab_pco2_first | 0.9961925   | 0.988774323 | 1.0036664   | \n",
       "| lab_bnp_flag1 | 1.2771655   | 0.751995358 | 2.1690981   | \n",
       "| lab_troponin_flag1 | 1.3564271   | 1.054981374 | 1.7440065   | \n",
       "| lab_creatinine_kinase_flag1 | 0.8236854   | 0.650364602 | 1.0431957   | \n",
       "| icu_adm_weekday1 | 0.8910188   | 0.642665728 | 1.2353461   | \n",
       "| icu_adm_weekday2 | 0.8522033   | 0.618792116 | 1.1736582   | \n",
       "| icu_adm_weekday3 | 1.0759183   | 0.784715043 | 1.4751854   | \n",
       "| icu_adm_weekday4 | 1.0884877   | 0.801041789 | 1.4790807   | \n",
       "| icu_adm_weekday5 | 1.0417564   | 0.754036856 | 1.4392618   | \n",
       "| icu_adm_weekday6 | 1.0075736   | 0.725486062 | 1.3993441   | \n",
       "\n",
       "\n"
      ],
      "text/plain": [
       "                            OR        2.5 %       97.5 %   \n",
       "(Intercept)                 0.2057052 0.006427895 6.5829685\n",
       "echo1                       0.7299562 0.609260842 0.8745613\n",
       "age                         1.0033034 1.001828522 1.0047805\n",
       "gender1                     1.1435503 0.951370246 1.3745515\n",
       "weight                      0.9900693 0.985987562 0.9941679\n",
       "elix_score                  1.0322733 1.018674448 1.0460537\n",
       "saps                        1.0746388 1.050693041 1.0991303\n",
       "sofa                        1.1880682 1.148672049 1.2288155\n",
       "vent1                       1.1717143 0.863272142 1.5903611\n",
       "vaso1                       1.0401202 0.843537231 1.2825161\n",
       "sedative1                   0.6825640 0.528092459 0.8822199\n",
       "icd_chf1                    0.7530265 0.596182830 0.9511325\n",
       "icd_afib1                   1.2399640 1.005625612 1.5289095\n",
       "icd_renal1                  0.7209279 0.547204519 0.9498040\n",
       "icd_copd1                   1.1069631 0.873744296 1.4024324\n",
       "icd_cad1                    1.0224399 0.777887416 1.3438748\n",
       "icd_stroke1                 2.2532504 1.642240879 3.0915911\n",
       "icd_malignancy1             1.7511580 1.423095302 2.1548482\n",
       "vs_heart_rate_first         1.0042692 0.999866613 1.0086911\n",
       "vs_temp_first               0.9248434 0.853879105 1.0017055\n",
       "lab_platelet_first          1.0001778 0.999469320 1.0008868\n",
       "lab_sodium_first            1.0307187 1.007094347 1.0548973\n",
       "lab_potassium_first         1.1985127 1.051770149 1.3657287\n",
       "lab_chloride_first          0.9627395 0.943997935 0.9818531\n",
       "lab_bun_first               1.0078517 1.003201382 1.0125235\n",
       "lab_creatinine_first        0.7918669 0.727944021 0.8614029\n",
       "lab_po2_first               0.9995361 0.998592346 1.0004808\n",
       "lab_pco2_first              0.9961925 0.988774323 1.0036664\n",
       "lab_bnp_flag1               1.2771655 0.751995358 2.1690981\n",
       "lab_troponin_flag1          1.3564271 1.054981374 1.7440065\n",
       "lab_creatinine_kinase_flag1 0.8236854 0.650364602 1.0431957\n",
       "icu_adm_weekday1            0.8910188 0.642665728 1.2353461\n",
       "icu_adm_weekday2            0.8522033 0.618792116 1.1736582\n",
       "icu_adm_weekday3            1.0759183 0.784715043 1.4751854\n",
       "icu_adm_weekday4            1.0884877 0.801041789 1.4790807\n",
       "icu_adm_weekday5            1.0417564 0.754036856 1.4392618\n",
       "icu_adm_weekday6            1.0075736 0.725486062 1.3993441"
      ]
     },
     "metadata": {},
     "output_type": "display_data"
    }
   ],
   "source": [
    "exp(cbind(OR = coef(logi), confint(logi)))"
   ]
  }
 ],
 "metadata": {
  "kernelspec": {
   "display_name": "R",
   "language": "R",
   "name": "ir"
  },
  "language_info": {
   "codemirror_mode": "r",
   "file_extension": ".r",
   "mimetype": "text/x-r-source",
   "name": "R",
   "pygments_lexer": "r",
   "version": "3.4.1"
  },
  "varInspector": {
   "cols": {
    "lenName": 16,
    "lenType": 16,
    "lenVar": 40
   },
   "kernels_config": {
    "python": {
     "delete_cmd_postfix": "",
     "delete_cmd_prefix": "del ",
     "library": "var_list.py",
     "varRefreshCmd": "print(var_dic_list())"
    },
    "r": {
     "delete_cmd_postfix": ") ",
     "delete_cmd_prefix": "rm(",
     "library": "var_list.r",
     "varRefreshCmd": "cat(var_dic_list()) "
    }
   },
   "types_to_exclude": [
    "module",
    "function",
    "builtin_function_or_method",
    "instance",
    "_Feature"
   ],
   "window_display": false
  }
 },
 "nbformat": 4,
 "nbformat_minor": 2
}
