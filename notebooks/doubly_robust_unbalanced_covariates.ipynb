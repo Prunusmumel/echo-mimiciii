{
 "cells": [
  {
   "cell_type": "code",
   "execution_count": 1,
   "metadata": {},
   "outputs": [
    {
     "name": "stderr",
     "output_type": "stream",
     "text": [
      "Loading required package: grid\n",
      "Loading required package: Matrix\n",
      "Loading required package: survival\n",
      "\n",
      "Attaching package: ‘survey’\n",
      "\n",
      "The following object is masked from ‘package:graphics’:\n",
      "\n",
      "    dotchart\n",
      "\n",
      "── Attaching packages ─────────────────────────────────────── tidyverse 1.2.1 ──\n",
      "✔ ggplot2 2.2.1     ✔ purrr   0.2.4\n",
      "✔ tibble  1.3.4     ✔ dplyr   0.7.4\n",
      "✔ tidyr   0.7.2     ✔ stringr 1.2.0\n",
      "✔ readr   1.1.1     ✔ forcats 0.2.0\n",
      "── Conflicts ────────────────────────────────────────── tidyverse_conflicts() ──\n",
      "✖ tidyr::expand() masks Matrix::expand()\n",
      "✖ dplyr::filter() masks stats::filter()\n",
      "✖ dplyr::lag()    masks stats::lag()\n"
     ]
    }
   ],
   "source": [
    "library(survey)\n",
    "library(tidyverse)"
   ]
  },
  {
   "cell_type": "code",
   "execution_count": 2,
   "metadata": {},
   "outputs": [],
   "source": [
    "data_dir <- file.path(\"..\", \"data\")"
   ]
  },
  {
   "cell_type": "code",
   "execution_count": 3,
   "metadata": {},
   "outputs": [
    {
     "data": {
      "text/html": [
       "<table>\n",
       "<thead><tr><th scope=col>icustay_id</th><th scope=col>hadm_id</th><th scope=col>subject_id</th><th scope=col>first_careunit</th><th scope=col>intime</th><th scope=col>outtime</th><th scope=col>angus</th><th scope=col>age</th><th scope=col>icu_order</th><th scope=col>echo_time</th><th scope=col>⋯</th><th scope=col>lab_ph_flag</th><th scope=col>lab_ph_first</th><th scope=col>lab_ph_min</th><th scope=col>lab_ph_max</th><th scope=col>lab_ph_abnormal</th><th scope=col>sedative</th><th scope=col>echo_int</th><th scope=col>mort_28_day_int</th><th scope=col>ps</th><th scope=col>ps_weight</th></tr></thead>\n",
       "<tbody>\n",
       "\t<tr><td>201220             </td><td>125078             </td><td>66690              </td><td>0                  </td><td>2106-04-27 01:47:50</td><td>2106-05-01 11:25:46</td><td>1                  </td><td>62.67646           </td><td>1                  </td><td>NA                 </td><td>⋯                  </td><td>1                  </td><td>7.45               </td><td>7.42               </td><td>7.45               </td><td>1                  </td><td>1                  </td><td>0                  </td><td>1                  </td><td>0.4496715          </td><td>1.817096           </td></tr>\n",
       "\t<tr><td>215842             </td><td>151232             </td><td>11663              </td><td>0                  </td><td>2188-02-14 01:48:15</td><td>2188-02-15 19:02:48</td><td>1                  </td><td>86.76186           </td><td>1                  </td><td>NA                 </td><td>⋯                  </td><td>0                  </td><td>  NA               </td><td>  NA               </td><td>  NA               </td><td>NA                 </td><td>0                  </td><td>0                  </td><td>0                  </td><td>0.1577062          </td><td>1.187234           </td></tr>\n",
       "\t<tr><td>234312             </td><td>164444             </td><td>86645              </td><td>1                  </td><td>2165-06-22 01:47:16</td><td>2165-07-07 13:55:20</td><td>1                  </td><td>56.08904           </td><td>1                  </td><td>NA                 </td><td>⋯                  </td><td>1                  </td><td>7.49               </td><td>7.49               </td><td>7.49               </td><td>1                  </td><td>0                  </td><td>0                  </td><td>0                  </td><td>0.3034738          </td><td>1.435696           </td></tr>\n",
       "\t<tr><td>289157             </td><td>146726             </td><td>10304              </td><td>0                  </td><td>2156-06-23 14:26:00</td><td>2156-06-30 09:26:00</td><td>1                  </td><td>45.91093           </td><td>1                  </td><td>2156-06-25         </td><td>⋯                  </td><td>1                  </td><td>7.44               </td><td>7.44               </td><td>7.44               </td><td>1                  </td><td>0                  </td><td>1                  </td><td>0                  </td><td>0.7020434          </td><td>1.424413           </td></tr>\n",
       "\t<tr><td>211964             </td><td>160170             </td><td>94534              </td><td>0                  </td><td>2160-03-05 14:23:19</td><td>2160-03-06 22:48:41</td><td>1                  </td><td>59.38693           </td><td>1                  </td><td>NA                 </td><td>⋯                  </td><td>0                  </td><td>  NA               </td><td>  NA               </td><td>  NA               </td><td>NA                 </td><td>0                  </td><td>0                  </td><td>0                  </td><td>0.3399883          </td><td>1.515125           </td></tr>\n",
       "\t<tr><td>230173             </td><td>112553             </td><td>31544              </td><td>0                  </td><td>2140-01-30 20:39:25</td><td>2140-02-02 18:41:39</td><td>1                  </td><td>91.50000           </td><td>1                  </td><td>NA                 </td><td>⋯                  </td><td>0                  </td><td>  NA               </td><td>  NA               </td><td>  NA               </td><td>NA                 </td><td>0                  </td><td>0                  </td><td>1                  </td><td>0.2497070          </td><td>1.332813           </td></tr>\n",
       "</tbody>\n",
       "</table>\n"
      ],
      "text/latex": [
       "\\begin{tabular}{r|lllllllllllllllllllllllllllllllllllllllllllllllllllllllllllllllllllllllllllllllllllllllllllllllllllllllllllllllllllllllllllllllllll}\n",
       " icustay\\_id & hadm\\_id & subject\\_id & first\\_careunit & intime & outtime & angus & age & icu\\_order & echo\\_time & ⋯ & lab\\_ph\\_flag & lab\\_ph\\_first & lab\\_ph\\_min & lab\\_ph\\_max & lab\\_ph\\_abnormal & sedative & echo\\_int & mort\\_28\\_day\\_int & ps & ps\\_weight\\\\\n",
       "\\hline\n",
       "\t 201220              & 125078              & 66690               & 0                   & 2106-04-27 01:47:50 & 2106-05-01 11:25:46 & 1                   & 62.67646            & 1                   & NA                  & ⋯                   & 1                   & 7.45                & 7.42                & 7.45                & 1                   & 1                   & 0                   & 1                   & 0.4496715           & 1.817096           \\\\\n",
       "\t 215842              & 151232              & 11663               & 0                   & 2188-02-14 01:48:15 & 2188-02-15 19:02:48 & 1                   & 86.76186            & 1                   & NA                  & ⋯                   & 0                   &   NA                &   NA                &   NA                & NA                  & 0                   & 0                   & 0                   & 0.1577062           & 1.187234           \\\\\n",
       "\t 234312              & 164444              & 86645               & 1                   & 2165-06-22 01:47:16 & 2165-07-07 13:55:20 & 1                   & 56.08904            & 1                   & NA                  & ⋯                   & 1                   & 7.49                & 7.49                & 7.49                & 1                   & 0                   & 0                   & 0                   & 0.3034738           & 1.435696           \\\\\n",
       "\t 289157              & 146726              & 10304               & 0                   & 2156-06-23 14:26:00 & 2156-06-30 09:26:00 & 1                   & 45.91093            & 1                   & 2156-06-25          & ⋯                   & 1                   & 7.44                & 7.44                & 7.44                & 1                   & 0                   & 1                   & 0                   & 0.7020434           & 1.424413           \\\\\n",
       "\t 211964              & 160170              & 94534               & 0                   & 2160-03-05 14:23:19 & 2160-03-06 22:48:41 & 1                   & 59.38693            & 1                   & NA                  & ⋯                   & 0                   &   NA                &   NA                &   NA                & NA                  & 0                   & 0                   & 0                   & 0.3399883           & 1.515125           \\\\\n",
       "\t 230173              & 112553              & 31544               & 0                   & 2140-01-30 20:39:25 & 2140-02-02 18:41:39 & 1                   & 91.50000            & 1                   & NA                  & ⋯                   & 0                   &   NA                &   NA                &   NA                & NA                  & 0                   & 0                   & 1                   & 0.2497070           & 1.332813           \\\\\n",
       "\\end{tabular}\n"
      ],
      "text/markdown": [
       "\n",
       "icustay_id | hadm_id | subject_id | first_careunit | intime | outtime | angus | age | icu_order | echo_time | ⋯ | lab_ph_flag | lab_ph_first | lab_ph_min | lab_ph_max | lab_ph_abnormal | sedative | echo_int | mort_28_day_int | ps | ps_weight | \n",
       "|---|---|---|---|---|---|\n",
       "| 201220              | 125078              | 66690               | 0                   | 2106-04-27 01:47:50 | 2106-05-01 11:25:46 | 1                   | 62.67646            | 1                   | NA                  | ⋯                   | 1                   | 7.45                | 7.42                | 7.45                | 1                   | 1                   | 0                   | 1                   | 0.4496715           | 1.817096            | \n",
       "| 215842              | 151232              | 11663               | 0                   | 2188-02-14 01:48:15 | 2188-02-15 19:02:48 | 1                   | 86.76186            | 1                   | NA                  | ⋯                   | 0                   |   NA                |   NA                |   NA                | NA                  | 0                   | 0                   | 0                   | 0.1577062           | 1.187234            | \n",
       "| 234312              | 164444              | 86645               | 1                   | 2165-06-22 01:47:16 | 2165-07-07 13:55:20 | 1                   | 56.08904            | 1                   | NA                  | ⋯                   | 1                   | 7.49                | 7.49                | 7.49                | 1                   | 0                   | 0                   | 0                   | 0.3034738           | 1.435696            | \n",
       "| 289157              | 146726              | 10304               | 0                   | 2156-06-23 14:26:00 | 2156-06-30 09:26:00 | 1                   | 45.91093            | 1                   | 2156-06-25          | ⋯                   | 1                   | 7.44                | 7.44                | 7.44                | 1                   | 0                   | 1                   | 0                   | 0.7020434           | 1.424413            | \n",
       "| 211964              | 160170              | 94534               | 0                   | 2160-03-05 14:23:19 | 2160-03-06 22:48:41 | 1                   | 59.38693            | 1                   | NA                  | ⋯                   | 0                   |   NA                |   NA                |   NA                | NA                  | 0                   | 0                   | 0                   | 0.3399883           | 1.515125            | \n",
       "| 230173              | 112553              | 31544               | 0                   | 2140-01-30 20:39:25 | 2140-02-02 18:41:39 | 1                   | 91.50000            | 1                   | NA                  | ⋯                   | 0                   |   NA                |   NA                |   NA                | NA                  | 0                   | 0                   | 1                   | 0.2497070           | 1.332813            | \n",
       "\n",
       "\n"
      ],
      "text/plain": [
       "  icustay_id hadm_id subject_id first_careunit intime             \n",
       "1 201220     125078  66690      0              2106-04-27 01:47:50\n",
       "2 215842     151232  11663      0              2188-02-14 01:48:15\n",
       "3 234312     164444  86645      1              2165-06-22 01:47:16\n",
       "4 289157     146726  10304      0              2156-06-23 14:26:00\n",
       "5 211964     160170  94534      0              2160-03-05 14:23:19\n",
       "6 230173     112553  31544      0              2140-01-30 20:39:25\n",
       "  outtime             angus age      icu_order echo_time  ⋯ lab_ph_flag\n",
       "1 2106-05-01 11:25:46 1     62.67646 1         <NA>       ⋯ 1          \n",
       "2 2188-02-15 19:02:48 1     86.76186 1         <NA>       ⋯ 0          \n",
       "3 2165-07-07 13:55:20 1     56.08904 1         <NA>       ⋯ 1          \n",
       "4 2156-06-30 09:26:00 1     45.91093 1         2156-06-25 ⋯ 1          \n",
       "5 2160-03-06 22:48:41 1     59.38693 1         <NA>       ⋯ 0          \n",
       "6 2140-02-02 18:41:39 1     91.50000 1         <NA>       ⋯ 0          \n",
       "  lab_ph_first lab_ph_min lab_ph_max lab_ph_abnormal sedative echo_int\n",
       "1 7.45         7.42       7.45       1               1        0       \n",
       "2   NA           NA         NA       NA              0        0       \n",
       "3 7.49         7.49       7.49       1               0        0       \n",
       "4 7.44         7.44       7.44       1               0        1       \n",
       "5   NA           NA         NA       NA              0        0       \n",
       "6   NA           NA         NA       NA              0        0       \n",
       "  mort_28_day_int ps        ps_weight\n",
       "1 1               0.4496715 1.817096 \n",
       "2 0               0.1577062 1.187234 \n",
       "3 0               0.3034738 1.435696 \n",
       "4 0               0.7020434 1.424413 \n",
       "5 0               0.3399883 1.515125 \n",
       "6 1               0.2497070 1.332813 "
      ]
     },
     "metadata": {},
     "output_type": "display_data"
    }
   ],
   "source": [
    "full_data <- readRDS(file.path(data_dir, \"full_data_ps.rds\"))\n",
    "head(full_data)"
   ]
  },
  {
   "cell_type": "code",
   "execution_count": 4,
   "metadata": {},
   "outputs": [
    {
     "data": {
      "text/html": [
       "<table>\n",
       "<thead><tr><th scope=col>p_val</th><th scope=col>wtd_p_val</th><th scope=col>main_0</th><th scope=col>main_1</th><th scope=col>sub_0</th><th scope=col>sub_1</th><th scope=col>wtd_main_0</th><th scope=col>wtd_main_1</th><th scope=col>wtd_sub_0</th><th scope=col>wtd_sub_1</th><th scope=col>var</th></tr></thead>\n",
       "<tbody>\n",
       "\t<tr><td>4.472893e-02</td><td>7.861962e-02</td><td>66.68924    </td><td>65.824051   </td><td>17.207039   </td><td>16.620088   </td><td>65.444828   </td><td>64.654880   </td><td>17.014068   </td><td>16.466339   </td><td>age         </td></tr>\n",
       "\t<tr><td>1.416420e-02</td><td>1.507728e-02</td><td>50.82285    </td><td>47.665687   </td><td>       NA   </td><td>       NA   </td><td>47.089492   </td><td>43.841849   </td><td>       NA   </td><td>       NA   </td><td>female      </td></tr>\n",
       "\t<tr><td>6.415559e-11</td><td>1.909584e-13</td><td>78.56295    </td><td>82.979049   </td><td>23.579777   </td><td>26.702495   </td><td>85.637556   </td><td>91.568834   </td><td>27.685863   </td><td>32.234984   </td><td>weight      </td></tr>\n",
       "\t<tr><td>1.705518e-15</td><td>4.041212e-14</td><td> 8.50597    </td><td>10.045054   </td><td> 7.451124   </td><td> 7.681609   </td><td> 8.332934   </td><td> 9.888314   </td><td> 7.564772   </td><td> 7.744827   </td><td>elix_score  </td></tr>\n",
       "\t<tr><td>1.378591e-15</td><td>8.274714e-12</td><td>19.63246    </td><td>20.778975   </td><td> 5.788347   </td><td> 5.446293   </td><td>19.793740   </td><td>20.807581   </td><td> 5.667359   </td><td> 5.364432   </td><td>saps        </td></tr>\n",
       "\t<tr><td>7.477319e-27</td><td>0.000000e+00</td><td> 5.30526    </td><td> 6.323865   </td><td> 3.618029   </td><td> 3.796365   </td><td> 5.528346   </td><td> 6.510264   </td><td> 3.764854   </td><td> 3.812443   </td><td>sofa        </td></tr>\n",
       "</tbody>\n",
       "</table>\n"
      ],
      "text/latex": [
       "\\begin{tabular}{r|lllllllllll}\n",
       " p\\_val & wtd\\_p\\_val & main\\_0 & main\\_1 & sub\\_0 & sub\\_1 & wtd\\_main\\_0 & wtd\\_main\\_1 & wtd\\_sub\\_0 & wtd\\_sub\\_1 & var\\\\\n",
       "\\hline\n",
       "\t 4.472893e-02 & 7.861962e-02 & 66.68924     & 65.824051    & 17.207039    & 16.620088    & 65.444828    & 64.654880    & 17.014068    & 16.466339    & age         \\\\\n",
       "\t 1.416420e-02 & 1.507728e-02 & 50.82285     & 47.665687    &        NA    &        NA    & 47.089492    & 43.841849    &        NA    &        NA    & female      \\\\\n",
       "\t 6.415559e-11 & 1.909584e-13 & 78.56295     & 82.979049    & 23.579777    & 26.702495    & 85.637556    & 91.568834    & 27.685863    & 32.234984    & weight      \\\\\n",
       "\t 1.705518e-15 & 4.041212e-14 &  8.50597     & 10.045054    &  7.451124    &  7.681609    &  8.332934    &  9.888314    &  7.564772    &  7.744827    & elix\\_score\\\\\n",
       "\t 1.378591e-15 & 8.274714e-12 & 19.63246     & 20.778975    &  5.788347    &  5.446293    & 19.793740    & 20.807581    &  5.667359    &  5.364432    & saps        \\\\\n",
       "\t 7.477319e-27 & 0.000000e+00 &  5.30526     &  6.323865    &  3.618029    &  3.796365    &  5.528346    &  6.510264    &  3.764854    &  3.812443    & sofa        \\\\\n",
       "\\end{tabular}\n"
      ],
      "text/markdown": [
       "\n",
       "p_val | wtd_p_val | main_0 | main_1 | sub_0 | sub_1 | wtd_main_0 | wtd_main_1 | wtd_sub_0 | wtd_sub_1 | var | \n",
       "|---|---|---|---|---|---|\n",
       "| 4.472893e-02 | 7.861962e-02 | 66.68924     | 65.824051    | 17.207039    | 16.620088    | 65.444828    | 64.654880    | 17.014068    | 16.466339    | age          | \n",
       "| 1.416420e-02 | 1.507728e-02 | 50.82285     | 47.665687    |        NA    |        NA    | 47.089492    | 43.841849    |        NA    |        NA    | female       | \n",
       "| 6.415559e-11 | 1.909584e-13 | 78.56295     | 82.979049    | 23.579777    | 26.702495    | 85.637556    | 91.568834    | 27.685863    | 32.234984    | weight       | \n",
       "| 1.705518e-15 | 4.041212e-14 |  8.50597     | 10.045054    |  7.451124    |  7.681609    |  8.332934    |  9.888314    |  7.564772    |  7.744827    | elix_score   | \n",
       "| 1.378591e-15 | 8.274714e-12 | 19.63246     | 20.778975    |  5.788347    |  5.446293    | 19.793740    | 20.807581    |  5.667359    |  5.364432    | saps         | \n",
       "| 7.477319e-27 | 0.000000e+00 |  5.30526     |  6.323865    |  3.618029    |  3.796365    |  5.528346    |  6.510264    |  3.764854    |  3.812443    | sofa         | \n",
       "\n",
       "\n"
      ],
      "text/plain": [
       "  p_val        wtd_p_val    main_0   main_1    sub_0     sub_1     wtd_main_0\n",
       "1 4.472893e-02 7.861962e-02 66.68924 65.824051 17.207039 16.620088 65.444828 \n",
       "2 1.416420e-02 1.507728e-02 50.82285 47.665687        NA        NA 47.089492 \n",
       "3 6.415559e-11 1.909584e-13 78.56295 82.979049 23.579777 26.702495 85.637556 \n",
       "4 1.705518e-15 4.041212e-14  8.50597 10.045054  7.451124  7.681609  8.332934 \n",
       "5 1.378591e-15 8.274714e-12 19.63246 20.778975  5.788347  5.446293 19.793740 \n",
       "6 7.477319e-27 0.000000e+00  5.30526  6.323865  3.618029  3.796365  5.528346 \n",
       "  wtd_main_1 wtd_sub_0 wtd_sub_1 var       \n",
       "1 64.654880  17.014068 16.466339 age       \n",
       "2 43.841849         NA        NA female    \n",
       "3 91.568834  27.685863 32.234984 weight    \n",
       "4  9.888314   7.564772  7.744827 elix_score\n",
       "5 20.807581   5.667359  5.364432 saps      \n",
       "6  6.510264   3.764854  3.812443 sofa      "
      ]
     },
     "metadata": {},
     "output_type": "display_data"
    }
   ],
   "source": [
    "table_one <- data.table::fread(file.path(data_dir, \"tableone_raw.csv\"), data.table = FALSE)\n",
    "head(table_one)"
   ]
  },
  {
   "cell_type": "code",
   "execution_count": 5,
   "metadata": {},
   "outputs": [
    {
     "data": {
      "text/html": [
       "<ol class=list-inline>\n",
       "\t<li>'gender'</li>\n",
       "\t<li>'weight'</li>\n",
       "\t<li>'elix_score'</li>\n",
       "\t<li>'saps'</li>\n",
       "\t<li>'sofa'</li>\n",
       "\t<li>'vent'</li>\n",
       "\t<li>'vaso'</li>\n",
       "\t<li>'sedative'</li>\n",
       "\t<li>'icd_chf'</li>\n",
       "\t<li>'icd_afib'</li>\n",
       "\t<li>'icd_renal'</li>\n",
       "\t<li>'icd_copd'</li>\n",
       "\t<li>'icd_cad'</li>\n",
       "\t<li>'icd_stroke'</li>\n",
       "\t<li>'icd_malignancy'</li>\n",
       "\t<li>'vs_heart_rate_first'</li>\n",
       "\t<li>'vs_temp_first'</li>\n",
       "\t<li>'lab_platelet_first'</li>\n",
       "\t<li>'lab_sodium_first'</li>\n",
       "\t<li>'lab_potassium_first'</li>\n",
       "\t<li>'lab_chloride_first'</li>\n",
       "\t<li>'lab_bun_first'</li>\n",
       "\t<li>'lab_creatinine_first'</li>\n",
       "\t<li>'lab_po2_first'</li>\n",
       "\t<li>'lab_pco2_first'</li>\n",
       "\t<li>'lab_bnp_flag'</li>\n",
       "\t<li>'lab_troponin_flag'</li>\n",
       "\t<li>'lab_creatinine_kinase_flag'</li>\n",
       "</ol>\n"
      ],
      "text/latex": [
       "\\begin{enumerate*}\n",
       "\\item 'gender'\n",
       "\\item 'weight'\n",
       "\\item 'elix\\_score'\n",
       "\\item 'saps'\n",
       "\\item 'sofa'\n",
       "\\item 'vent'\n",
       "\\item 'vaso'\n",
       "\\item 'sedative'\n",
       "\\item 'icd\\_chf'\n",
       "\\item 'icd\\_afib'\n",
       "\\item 'icd\\_renal'\n",
       "\\item 'icd\\_copd'\n",
       "\\item 'icd\\_cad'\n",
       "\\item 'icd\\_stroke'\n",
       "\\item 'icd\\_malignancy'\n",
       "\\item 'vs\\_heart\\_rate\\_first'\n",
       "\\item 'vs\\_temp\\_first'\n",
       "\\item 'lab\\_platelet\\_first'\n",
       "\\item 'lab\\_sodium\\_first'\n",
       "\\item 'lab\\_potassium\\_first'\n",
       "\\item 'lab\\_chloride\\_first'\n",
       "\\item 'lab\\_bun\\_first'\n",
       "\\item 'lab\\_creatinine\\_first'\n",
       "\\item 'lab\\_po2\\_first'\n",
       "\\item 'lab\\_pco2\\_first'\n",
       "\\item 'lab\\_bnp\\_flag'\n",
       "\\item 'lab\\_troponin\\_flag'\n",
       "\\item 'lab\\_creatinine\\_kinase\\_flag'\n",
       "\\end{enumerate*}\n"
      ],
      "text/markdown": [
       "1. 'gender'\n",
       "2. 'weight'\n",
       "3. 'elix_score'\n",
       "4. 'saps'\n",
       "5. 'sofa'\n",
       "6. 'vent'\n",
       "7. 'vaso'\n",
       "8. 'sedative'\n",
       "9. 'icd_chf'\n",
       "10. 'icd_afib'\n",
       "11. 'icd_renal'\n",
       "12. 'icd_copd'\n",
       "13. 'icd_cad'\n",
       "14. 'icd_stroke'\n",
       "15. 'icd_malignancy'\n",
       "16. 'vs_heart_rate_first'\n",
       "17. 'vs_temp_first'\n",
       "18. 'lab_platelet_first'\n",
       "19. 'lab_sodium_first'\n",
       "20. 'lab_potassium_first'\n",
       "21. 'lab_chloride_first'\n",
       "22. 'lab_bun_first'\n",
       "23. 'lab_creatinine_first'\n",
       "24. 'lab_po2_first'\n",
       "25. 'lab_pco2_first'\n",
       "26. 'lab_bnp_flag'\n",
       "27. 'lab_troponin_flag'\n",
       "28. 'lab_creatinine_kinase_flag'\n",
       "\n",
       "\n"
      ],
      "text/plain": [
       " [1] \"gender\"                     \"weight\"                    \n",
       " [3] \"elix_score\"                 \"saps\"                      \n",
       " [5] \"sofa\"                       \"vent\"                      \n",
       " [7] \"vaso\"                       \"sedative\"                  \n",
       " [9] \"icd_chf\"                    \"icd_afib\"                  \n",
       "[11] \"icd_renal\"                  \"icd_copd\"                  \n",
       "[13] \"icd_cad\"                    \"icd_stroke\"                \n",
       "[15] \"icd_malignancy\"             \"vs_heart_rate_first\"       \n",
       "[17] \"vs_temp_first\"              \"lab_platelet_first\"        \n",
       "[19] \"lab_sodium_first\"           \"lab_potassium_first\"       \n",
       "[21] \"lab_chloride_first\"         \"lab_bun_first\"             \n",
       "[23] \"lab_creatinine_first\"       \"lab_po2_first\"             \n",
       "[25] \"lab_pco2_first\"             \"lab_bnp_flag\"              \n",
       "[27] \"lab_troponin_flag\"          \"lab_creatinine_kinase_flag\""
      ]
     },
     "metadata": {},
     "output_type": "display_data"
    }
   ],
   "source": [
    "wpv <- table_one %>%\n",
    "    filter(wtd_p_val < 0.05) %>%\n",
    "    pull(var) %>%\n",
    "    discard(grepl(\"day\", .)) %>%\n",
    "    gsub(\"female\", \"gender\", .)\n",
    "wpv"
   ]
  },
  {
   "cell_type": "code",
   "execution_count": 6,
   "metadata": {},
   "outputs": [],
   "source": [
    "design_echo_ps_ate <- svydesign(ids = ~ icustay_id, weights = ~ ps_weight, data = full_data)"
   ]
  },
  {
   "cell_type": "code",
   "execution_count": 7,
   "metadata": {},
   "outputs": [
    {
     "data": {
      "text/html": [
       "'mort_28_day ~ echo + gender + weight + elix_score + saps + sofa + vent + vaso + sedative + icd_chf + icd_afib + icd_renal + icd_copd + icd_cad + icd_stroke + icd_malignancy + vs_heart_rate_first + vs_temp_first + lab_platelet_first + lab_sodium_first + lab_potassium_first + lab_chloride_first + lab_bun_first + lab_creatinine_first + lab_po2_first + lab_pco2_first + lab_bnp_flag + lab_troponin_flag + lab_creatinine_kinase_flag'"
      ],
      "text/latex": [
       "'mort\\_28\\_day \\textasciitilde{} echo + gender + weight + elix\\_score + saps + sofa + vent + vaso + sedative + icd\\_chf + icd\\_afib + icd\\_renal + icd\\_copd + icd\\_cad + icd\\_stroke + icd\\_malignancy + vs\\_heart\\_rate\\_first + vs\\_temp\\_first + lab\\_platelet\\_first + lab\\_sodium\\_first + lab\\_potassium\\_first + lab\\_chloride\\_first + lab\\_bun\\_first + lab\\_creatinine\\_first + lab\\_po2\\_first + lab\\_pco2\\_first + lab\\_bnp\\_flag + lab\\_troponin\\_flag + lab\\_creatinine\\_kinase\\_flag'"
      ],
      "text/markdown": [
       "'mort_28_day ~ echo + gender + weight + elix_score + saps + sofa + vent + vaso + sedative + icd_chf + icd_afib + icd_renal + icd_copd + icd_cad + icd_stroke + icd_malignancy + vs_heart_rate_first + vs_temp_first + lab_platelet_first + lab_sodium_first + lab_potassium_first + lab_chloride_first + lab_bun_first + lab_creatinine_first + lab_po2_first + lab_pco2_first + lab_bnp_flag + lab_troponin_flag + lab_creatinine_kinase_flag'"
      ],
      "text/plain": [
       "[1] \"mort_28_day ~ echo + gender + weight + elix_score + saps + sofa + vent + vaso + sedative + icd_chf + icd_afib + icd_renal + icd_copd + icd_cad + icd_stroke + icd_malignancy + vs_heart_rate_first + vs_temp_first + lab_platelet_first + lab_sodium_first + lab_potassium_first + lab_chloride_first + lab_bun_first + lab_creatinine_first + lab_po2_first + lab_pco2_first + lab_bnp_flag + lab_troponin_flag + lab_creatinine_kinase_flag\""
      ]
     },
     "metadata": {},
     "output_type": "display_data"
    }
   ],
   "source": [
    "fml <- wpv %>%\n",
    "c(\"echo\", .) %>%\n",
    "paste(collapse = \" + \") %>%\n",
    "sprintf(\"mort_28_day ~ %s\", .)\n",
    "\n",
    "fml"
   ]
  },
  {
   "cell_type": "code",
   "execution_count": 8,
   "metadata": {},
   "outputs": [],
   "source": [
    "logi <- svyglm(as.formula(fml), family = quasibinomial, design = design_echo_ps_ate)"
   ]
  },
  {
   "cell_type": "code",
   "execution_count": 9,
   "metadata": {},
   "outputs": [
    {
     "data": {
      "text/plain": [
       "\n",
       "Call:\n",
       "svyglm(formula = as.formula(fml), family = quasibinomial, design = design_echo_ps_ate)\n",
       "\n",
       "Survey design:\n",
       "svydesign(ids = ~icustay_id, weights = ~ps_weight, data = full_data)\n",
       "\n",
       "Coefficients:\n",
       "                              Estimate Std. Error t value Pr(>|t|)    \n",
       "(Intercept)                 -1.1361178  1.7634941  -0.644 0.519459    \n",
       "echo1                       -0.3227281  0.0919478  -3.510 0.000454 ***\n",
       "gender1                      0.1286428  0.0935584   1.375 0.169217    \n",
       "weight                      -0.0113949  0.0020834  -5.469 4.82e-08 ***\n",
       "elix_score                   0.0295388  0.0067338   4.387 1.18e-05 ***\n",
       "saps                         0.0777065  0.0114032   6.814 1.10e-11 ***\n",
       "sofa                         0.1692136  0.0172440   9.813  < 2e-16 ***\n",
       "vent1                        0.1025827  0.1533943   0.669 0.503697    \n",
       "vaso1                        0.0516015  0.1066234   0.484 0.628444    \n",
       "sedative1                   -0.3916552  0.1297696  -3.018 0.002562 ** \n",
       "icd_chf1                    -0.1954613  0.1164945  -1.678 0.093461 .  \n",
       "icd_afib1                    0.2585085  0.1052959   2.455 0.014133 *  \n",
       "icd_renal1                  -0.3165857  0.1406726  -2.251 0.024476 *  \n",
       "icd_copd1                    0.0830998  0.1204542   0.690 0.490310    \n",
       "icd_cad1                     0.0433818  0.1394258   0.311 0.755708    \n",
       "icd_stroke1                  0.8015362  0.1603053   5.000 6.00e-07 ***\n",
       "icd_malignancy1              0.5647638  0.1052447   5.366 8.55e-08 ***\n",
       "vs_heart_rate_first          0.0031000  0.0022142   1.400 0.161583    \n",
       "vs_temp_first               -0.0863425  0.0409276  -2.110 0.034958 *  \n",
       "lab_platelet_first           0.0001795  0.0003575   0.502 0.615620    \n",
       "lab_sodium_first             0.0306299  0.0117507   2.607 0.009181 ** \n",
       "lab_potassium_first          0.1689410  0.0661702   2.553 0.010717 *  \n",
       "lab_chloride_first          -0.0358403  0.0099667  -3.596 0.000327 ***\n",
       "lab_bun_first                0.0085631  0.0023762   3.604 0.000318 ***\n",
       "lab_creatinine_first        -0.2469012  0.0431284  -5.725 1.12e-08 ***\n",
       "lab_po2_first               -0.0004517  0.0004782  -0.944 0.344983    \n",
       "lab_pco2_first              -0.0030257  0.0037933  -0.798 0.425124    \n",
       "lab_bnp_flag1                0.2154739  0.2721057   0.792 0.428485    \n",
       "lab_troponin_flag1           0.3378151  0.1271934   2.656 0.007944 ** \n",
       "lab_creatinine_kinase_flag1 -0.2011543  0.1201949  -1.674 0.094302 .  \n",
       "---\n",
       "Signif. codes:  0 ‘***’ 0.001 ‘**’ 0.01 ‘*’ 0.05 ‘.’ 0.1 ‘ ’ 1\n",
       "\n",
       "(Dispersion parameter for quasibinomial family taken to be 1.003212)\n",
       "\n",
       "Number of Fisher Scoring iterations: 4\n"
      ]
     },
     "metadata": {},
     "output_type": "display_data"
    }
   ],
   "source": [
    "summary(logi)"
   ]
  },
  {
   "cell_type": "code",
   "execution_count": 10,
   "metadata": {},
   "outputs": [
    {
     "data": {
      "text/html": [
       "<table>\n",
       "<thead><tr><th></th><th scope=col>OR</th><th scope=col>2.5 %</th><th scope=col>97.5 %</th></tr></thead>\n",
       "<tbody>\n",
       "\t<tr><th scope=row>(Intercept)</th><td>0.3210630 </td><td>0.01012748</td><td>10.1783920</td></tr>\n",
       "\t<tr><th scope=row>echo1</th><td>0.7241708 </td><td>0.60474856</td><td> 0.8671757</td></tr>\n",
       "\t<tr><th scope=row>gender1</th><td>1.1372838 </td><td>0.94674237</td><td> 1.3661736</td></tr>\n",
       "\t<tr><th scope=row>weight</th><td>0.9886697 </td><td>0.98464077</td><td> 0.9927152</td></tr>\n",
       "\t<tr><th scope=row>elix_score</th><td>1.0299794 </td><td>1.01647503</td><td> 1.0436631</td></tr>\n",
       "\t<tr><th scope=row>saps</th><td>1.0808054 </td><td>1.05691742</td><td> 1.1052333</td></tr>\n",
       "\t<tr><th scope=row>sofa</th><td>1.1843731 </td><td>1.14501287</td><td> 1.2250863</td></tr>\n",
       "\t<tr><th scope=row>vent1</th><td>1.1080289 </td><td>0.82031685</td><td> 1.4966510</td></tr>\n",
       "\t<tr><th scope=row>vaso1</th><td>1.0529560 </td><td>0.85438221</td><td> 1.2976819</td></tr>\n",
       "\t<tr><th scope=row>sedative1</th><td>0.6759372 </td><td>0.52413870</td><td> 0.8716988</td></tr>\n",
       "\t<tr><th scope=row>icd_chf1</th><td>0.8224552 </td><td>0.65456370</td><td> 1.0334097</td></tr>\n",
       "\t<tr><th scope=row>icd_afib1</th><td>1.2949971 </td><td>1.05351501</td><td> 1.5918307</td></tr>\n",
       "\t<tr><th scope=row>icd_renal1</th><td>0.7286326 </td><td>0.55305439</td><td> 0.9599516</td></tr>\n",
       "\t<tr><th scope=row>icd_copd1</th><td>1.0866502 </td><td>0.85814160</td><td> 1.3760068</td></tr>\n",
       "\t<tr><th scope=row>icd_cad1</th><td>1.0443365 </td><td>0.79462278</td><td> 1.3725239</td></tr>\n",
       "\t<tr><th scope=row>icd_stroke1</th><td>2.2289624 </td><td>1.62798575</td><td> 3.0517918</td></tr>\n",
       "\t<tr><th scope=row>icd_malignancy1</th><td>1.7590322 </td><td>1.43116396</td><td> 2.1620125</td></tr>\n",
       "\t<tr><th scope=row>vs_heart_rate_first</th><td>1.0031048 </td><td>0.99876102</td><td> 1.0074674</td></tr>\n",
       "\t<tr><th scope=row>vs_temp_first</th><td>0.9172800 </td><td>0.84657275</td><td> 0.9938929</td></tr>\n",
       "\t<tr><th scope=row>lab_platelet_first</th><td>1.0001795 </td><td>0.99947893</td><td> 1.0008806</td></tr>\n",
       "\t<tr><th scope=row>lab_sodium_first</th><td>1.0311038 </td><td>1.00762784</td><td> 1.0551267</td></tr>\n",
       "\t<tr><th scope=row>lab_potassium_first</th><td>1.1840503 </td><td>1.04003030</td><td> 1.3480138</td></tr>\n",
       "\t<tr><th scope=row>lab_chloride_first</th><td>0.9647944 </td><td>0.94613068</td><td> 0.9838263</td></tr>\n",
       "\t<tr><th scope=row>lab_bun_first</th><td>1.0085999 </td><td>1.00391356</td><td> 1.0133081</td></tr>\n",
       "\t<tr><th scope=row>lab_creatinine_first</th><td>0.7812179 </td><td>0.71789552</td><td> 0.8501256</td></tr>\n",
       "\t<tr><th scope=row>lab_po2_first</th><td>0.9995484 </td><td>0.99861203</td><td> 1.0004857</td></tr>\n",
       "\t<tr><th scope=row>lab_pco2_first</th><td>0.9969789 </td><td>0.98959418</td><td> 1.0044187</td></tr>\n",
       "\t<tr><th scope=row>lab_bnp_flag1</th><td>1.2404496 </td><td>0.72771670</td><td> 2.1144425</td></tr>\n",
       "\t<tr><th scope=row>lab_troponin_flag1</th><td>1.4018813 </td><td>1.09255679</td><td> 1.7987816</td></tr>\n",
       "\t<tr><th scope=row>lab_creatinine_kinase_flag1</th><td>0.8177862 </td><td>0.64614462</td><td> 1.0350226</td></tr>\n",
       "</tbody>\n",
       "</table>\n"
      ],
      "text/latex": [
       "\\begin{tabular}{r|lll}\n",
       "  & OR & 2.5 \\% & 97.5 \\%\\\\\n",
       "\\hline\n",
       "\t(Intercept) & 0.3210630  & 0.01012748 & 10.1783920\\\\\n",
       "\techo1 & 0.7241708  & 0.60474856 &  0.8671757\\\\\n",
       "\tgender1 & 1.1372838  & 0.94674237 &  1.3661736\\\\\n",
       "\tweight & 0.9886697  & 0.98464077 &  0.9927152\\\\\n",
       "\telix\\_score & 1.0299794  & 1.01647503 &  1.0436631\\\\\n",
       "\tsaps & 1.0808054  & 1.05691742 &  1.1052333\\\\\n",
       "\tsofa & 1.1843731  & 1.14501287 &  1.2250863\\\\\n",
       "\tvent1 & 1.1080289  & 0.82031685 &  1.4966510\\\\\n",
       "\tvaso1 & 1.0529560  & 0.85438221 &  1.2976819\\\\\n",
       "\tsedative1 & 0.6759372  & 0.52413870 &  0.8716988\\\\\n",
       "\ticd\\_chf1 & 0.8224552  & 0.65456370 &  1.0334097\\\\\n",
       "\ticd\\_afib1 & 1.2949971  & 1.05351501 &  1.5918307\\\\\n",
       "\ticd\\_renal1 & 0.7286326  & 0.55305439 &  0.9599516\\\\\n",
       "\ticd\\_copd1 & 1.0866502  & 0.85814160 &  1.3760068\\\\\n",
       "\ticd\\_cad1 & 1.0443365  & 0.79462278 &  1.3725239\\\\\n",
       "\ticd\\_stroke1 & 2.2289624  & 1.62798575 &  3.0517918\\\\\n",
       "\ticd\\_malignancy1 & 1.7590322  & 1.43116396 &  2.1620125\\\\\n",
       "\tvs\\_heart\\_rate\\_first & 1.0031048  & 0.99876102 &  1.0074674\\\\\n",
       "\tvs\\_temp\\_first & 0.9172800  & 0.84657275 &  0.9938929\\\\\n",
       "\tlab\\_platelet\\_first & 1.0001795  & 0.99947893 &  1.0008806\\\\\n",
       "\tlab\\_sodium\\_first & 1.0311038  & 1.00762784 &  1.0551267\\\\\n",
       "\tlab\\_potassium\\_first & 1.1840503  & 1.04003030 &  1.3480138\\\\\n",
       "\tlab\\_chloride\\_first & 0.9647944  & 0.94613068 &  0.9838263\\\\\n",
       "\tlab\\_bun\\_first & 1.0085999  & 1.00391356 &  1.0133081\\\\\n",
       "\tlab\\_creatinine\\_first & 0.7812179  & 0.71789552 &  0.8501256\\\\\n",
       "\tlab\\_po2\\_first & 0.9995484  & 0.99861203 &  1.0004857\\\\\n",
       "\tlab\\_pco2\\_first & 0.9969789  & 0.98959418 &  1.0044187\\\\\n",
       "\tlab\\_bnp\\_flag1 & 1.2404496  & 0.72771670 &  2.1144425\\\\\n",
       "\tlab\\_troponin\\_flag1 & 1.4018813  & 1.09255679 &  1.7987816\\\\\n",
       "\tlab\\_creatinine\\_kinase\\_flag1 & 0.8177862  & 0.64614462 &  1.0350226\\\\\n",
       "\\end{tabular}\n"
      ],
      "text/markdown": [
       "\n",
       "| <!--/--> | OR | 2.5 % | 97.5 % | \n",
       "|---|---|---|---|---|---|---|---|---|---|---|---|---|---|---|---|---|---|---|---|---|---|---|---|---|---|---|---|---|---|\n",
       "| (Intercept) | 0.3210630  | 0.01012748 | 10.1783920 | \n",
       "| echo1 | 0.7241708  | 0.60474856 |  0.8671757 | \n",
       "| gender1 | 1.1372838  | 0.94674237 |  1.3661736 | \n",
       "| weight | 0.9886697  | 0.98464077 |  0.9927152 | \n",
       "| elix_score | 1.0299794  | 1.01647503 |  1.0436631 | \n",
       "| saps | 1.0808054  | 1.05691742 |  1.1052333 | \n",
       "| sofa | 1.1843731  | 1.14501287 |  1.2250863 | \n",
       "| vent1 | 1.1080289  | 0.82031685 |  1.4966510 | \n",
       "| vaso1 | 1.0529560  | 0.85438221 |  1.2976819 | \n",
       "| sedative1 | 0.6759372  | 0.52413870 |  0.8716988 | \n",
       "| icd_chf1 | 0.8224552  | 0.65456370 |  1.0334097 | \n",
       "| icd_afib1 | 1.2949971  | 1.05351501 |  1.5918307 | \n",
       "| icd_renal1 | 0.7286326  | 0.55305439 |  0.9599516 | \n",
       "| icd_copd1 | 1.0866502  | 0.85814160 |  1.3760068 | \n",
       "| icd_cad1 | 1.0443365  | 0.79462278 |  1.3725239 | \n",
       "| icd_stroke1 | 2.2289624  | 1.62798575 |  3.0517918 | \n",
       "| icd_malignancy1 | 1.7590322  | 1.43116396 |  2.1620125 | \n",
       "| vs_heart_rate_first | 1.0031048  | 0.99876102 |  1.0074674 | \n",
       "| vs_temp_first | 0.9172800  | 0.84657275 |  0.9938929 | \n",
       "| lab_platelet_first | 1.0001795  | 0.99947893 |  1.0008806 | \n",
       "| lab_sodium_first | 1.0311038  | 1.00762784 |  1.0551267 | \n",
       "| lab_potassium_first | 1.1840503  | 1.04003030 |  1.3480138 | \n",
       "| lab_chloride_first | 0.9647944  | 0.94613068 |  0.9838263 | \n",
       "| lab_bun_first | 1.0085999  | 1.00391356 |  1.0133081 | \n",
       "| lab_creatinine_first | 0.7812179  | 0.71789552 |  0.8501256 | \n",
       "| lab_po2_first | 0.9995484  | 0.99861203 |  1.0004857 | \n",
       "| lab_pco2_first | 0.9969789  | 0.98959418 |  1.0044187 | \n",
       "| lab_bnp_flag1 | 1.2404496  | 0.72771670 |  2.1144425 | \n",
       "| lab_troponin_flag1 | 1.4018813  | 1.09255679 |  1.7987816 | \n",
       "| lab_creatinine_kinase_flag1 | 0.8177862  | 0.64614462 |  1.0350226 | \n",
       "\n",
       "\n"
      ],
      "text/plain": [
       "                            OR        2.5 %      97.5 %    \n",
       "(Intercept)                 0.3210630 0.01012748 10.1783920\n",
       "echo1                       0.7241708 0.60474856  0.8671757\n",
       "gender1                     1.1372838 0.94674237  1.3661736\n",
       "weight                      0.9886697 0.98464077  0.9927152\n",
       "elix_score                  1.0299794 1.01647503  1.0436631\n",
       "saps                        1.0808054 1.05691742  1.1052333\n",
       "sofa                        1.1843731 1.14501287  1.2250863\n",
       "vent1                       1.1080289 0.82031685  1.4966510\n",
       "vaso1                       1.0529560 0.85438221  1.2976819\n",
       "sedative1                   0.6759372 0.52413870  0.8716988\n",
       "icd_chf1                    0.8224552 0.65456370  1.0334097\n",
       "icd_afib1                   1.2949971 1.05351501  1.5918307\n",
       "icd_renal1                  0.7286326 0.55305439  0.9599516\n",
       "icd_copd1                   1.0866502 0.85814160  1.3760068\n",
       "icd_cad1                    1.0443365 0.79462278  1.3725239\n",
       "icd_stroke1                 2.2289624 1.62798575  3.0517918\n",
       "icd_malignancy1             1.7590322 1.43116396  2.1620125\n",
       "vs_heart_rate_first         1.0031048 0.99876102  1.0074674\n",
       "vs_temp_first               0.9172800 0.84657275  0.9938929\n",
       "lab_platelet_first          1.0001795 0.99947893  1.0008806\n",
       "lab_sodium_first            1.0311038 1.00762784  1.0551267\n",
       "lab_potassium_first         1.1840503 1.04003030  1.3480138\n",
       "lab_chloride_first          0.9647944 0.94613068  0.9838263\n",
       "lab_bun_first               1.0085999 1.00391356  1.0133081\n",
       "lab_creatinine_first        0.7812179 0.71789552  0.8501256\n",
       "lab_po2_first               0.9995484 0.99861203  1.0004857\n",
       "lab_pco2_first              0.9969789 0.98959418  1.0044187\n",
       "lab_bnp_flag1               1.2404496 0.72771670  2.1144425\n",
       "lab_troponin_flag1          1.4018813 1.09255679  1.7987816\n",
       "lab_creatinine_kinase_flag1 0.8177862 0.64614462  1.0350226"
      ]
     },
     "metadata": {},
     "output_type": "display_data"
    }
   ],
   "source": [
    "exp(cbind(OR = coef(logi), confint(logi)))"
   ]
  }
 ],
 "metadata": {
  "kernelspec": {
   "display_name": "R",
   "language": "R",
   "name": "ir"
  },
  "language_info": {
   "codemirror_mode": "r",
   "file_extension": ".r",
   "mimetype": "text/x-r-source",
   "name": "R",
   "pygments_lexer": "r",
   "version": "3.4.2"
  },
  "varInspector": {
   "cols": {
    "lenName": 16,
    "lenType": 16,
    "lenVar": 40
   },
   "kernels_config": {
    "python": {
     "delete_cmd_postfix": "",
     "delete_cmd_prefix": "del ",
     "library": "var_list.py",
     "varRefreshCmd": "print(var_dic_list())"
    },
    "r": {
     "delete_cmd_postfix": ") ",
     "delete_cmd_prefix": "rm(",
     "library": "var_list.r",
     "varRefreshCmd": "cat(var_dic_list()) "
    }
   },
   "types_to_exclude": [
    "module",
    "function",
    "builtin_function_or_method",
    "instance",
    "_Feature"
   ],
   "window_display": false
  }
 },
 "nbformat": 4,
 "nbformat_minor": 2
}
