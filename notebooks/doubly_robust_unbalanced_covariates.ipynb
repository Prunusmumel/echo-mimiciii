{
 "cells": [
  {
   "cell_type": "code",
   "execution_count": 1,
   "metadata": {},
   "outputs": [
    {
     "name": "stderr",
     "output_type": "stream",
     "text": [
      "Loading required package: grid\n",
      "Loading required package: Matrix\n",
      "Loading required package: survival\n",
      "\n",
      "Attaching package: ‘survey’\n",
      "\n",
      "The following object is masked from ‘package:graphics’:\n",
      "\n",
      "    dotchart\n",
      "\n",
      "── Attaching packages ─────────────────────────────────────── tidyverse 1.2.1 ──\n",
      "✔ ggplot2 2.2.1     ✔ purrr   0.2.4\n",
      "✔ tibble  1.3.4     ✔ dplyr   0.7.4\n",
      "✔ tidyr   0.7.2     ✔ stringr 1.2.0\n",
      "✔ readr   1.1.1     ✔ forcats 0.2.0\n",
      "── Conflicts ────────────────────────────────────────── tidyverse_conflicts() ──\n",
      "✖ tidyr::expand() masks Matrix::expand()\n",
      "✖ dplyr::filter() masks stats::filter()\n",
      "✖ dplyr::lag()    masks stats::lag()\n"
     ]
    }
   ],
   "source": [
    "library(survey)\n",
    "library(tidyverse)"
   ]
  },
  {
   "cell_type": "code",
   "execution_count": 2,
   "metadata": {},
   "outputs": [],
   "source": [
    "data_dir <- file.path(\"..\", \"data\")"
   ]
  },
  {
   "cell_type": "code",
   "execution_count": 3,
   "metadata": {},
   "outputs": [
    {
     "data": {
      "text/html": [
       "<table>\n",
       "<thead><tr><th scope=col>icustay_id</th><th scope=col>hadm_id</th><th scope=col>subject_id</th><th scope=col>first_careunit</th><th scope=col>intime</th><th scope=col>outtime</th><th scope=col>angus</th><th scope=col>age</th><th scope=col>icu_order</th><th scope=col>echo_time</th><th scope=col>⋯</th><th scope=col>lab_ph_flag</th><th scope=col>lab_ph_first</th><th scope=col>lab_ph_min</th><th scope=col>lab_ph_max</th><th scope=col>lab_ph_abnormal</th><th scope=col>sedative</th><th scope=col>echo_int</th><th scope=col>mort_28_day_int</th><th scope=col>ps</th><th scope=col>ps_weight</th></tr></thead>\n",
       "<tbody>\n",
       "\t<tr><td>201220             </td><td>125078             </td><td>66690              </td><td>0                  </td><td>2106-04-27 01:47:50</td><td>2106-05-01 11:25:46</td><td>1                  </td><td>62.67646           </td><td>1                  </td><td>NA                 </td><td>⋯                  </td><td>1                  </td><td>7.45               </td><td>7.42               </td><td>7.45               </td><td>1                  </td><td>1                  </td><td>0                  </td><td>1                  </td><td>0.4544669          </td><td>1.833069           </td></tr>\n",
       "\t<tr><td>215842             </td><td>151232             </td><td>11663              </td><td>0                  </td><td>2188-02-14 01:48:15</td><td>2188-02-15 19:02:48</td><td>1                  </td><td>86.76186           </td><td>1                  </td><td>NA                 </td><td>⋯                  </td><td>0                  </td><td>  NA               </td><td>  NA               </td><td>  NA               </td><td>NA                 </td><td>0                  </td><td>0                  </td><td>0                  </td><td>0.1568838          </td><td>1.186076           </td></tr>\n",
       "\t<tr><td>234312             </td><td>164444             </td><td>86645              </td><td>1                  </td><td>2165-06-22 01:47:16</td><td>2165-07-07 13:55:20</td><td>1                  </td><td>56.08904           </td><td>1                  </td><td>NA                 </td><td>⋯                  </td><td>1                  </td><td>7.49               </td><td>7.49               </td><td>7.49               </td><td>1                  </td><td>0                  </td><td>0                  </td><td>0                  </td><td>0.3002571          </td><td>1.429096           </td></tr>\n",
       "\t<tr><td>289157             </td><td>146726             </td><td>10304              </td><td>0                  </td><td>2156-06-23 14:26:00</td><td>2156-06-30 09:26:00</td><td>1                  </td><td>45.91093           </td><td>1                  </td><td>2156-06-25         </td><td>⋯                  </td><td>1                  </td><td>7.44               </td><td>7.44               </td><td>7.44               </td><td>1                  </td><td>0                  </td><td>1                  </td><td>0                  </td><td>0.6991412          </td><td>1.430326           </td></tr>\n",
       "\t<tr><td>211964             </td><td>160170             </td><td>94534              </td><td>0                  </td><td>2160-03-05 14:23:19</td><td>2160-03-06 22:48:41</td><td>1                  </td><td>59.38693           </td><td>1                  </td><td>NA                 </td><td>⋯                  </td><td>0                  </td><td>  NA               </td><td>  NA               </td><td>  NA               </td><td>NA                 </td><td>0                  </td><td>0                  </td><td>0                  </td><td>0.3432285          </td><td>1.522600           </td></tr>\n",
       "\t<tr><td>230173             </td><td>112553             </td><td>31544              </td><td>0                  </td><td>2140-01-30 20:39:25</td><td>2140-02-02 18:41:39</td><td>1                  </td><td>91.50000           </td><td>1                  </td><td>NA                 </td><td>⋯                  </td><td>0                  </td><td>  NA               </td><td>  NA               </td><td>  NA               </td><td>NA                 </td><td>0                  </td><td>0                  </td><td>1                  </td><td>0.2464983          </td><td>1.327137           </td></tr>\n",
       "</tbody>\n",
       "</table>\n"
      ],
      "text/latex": [
       "\\begin{tabular}{r|lllllllllllllllllllllllllllllllllllllllllllllllllllllllllllllllllllllllllllllllllllllllllllllllllllllllllllllllllllllllllllllllllll}\n",
       " icustay\\_id & hadm\\_id & subject\\_id & first\\_careunit & intime & outtime & angus & age & icu\\_order & echo\\_time & ⋯ & lab\\_ph\\_flag & lab\\_ph\\_first & lab\\_ph\\_min & lab\\_ph\\_max & lab\\_ph\\_abnormal & sedative & echo\\_int & mort\\_28\\_day\\_int & ps & ps\\_weight\\\\\n",
       "\\hline\n",
       "\t 201220              & 125078              & 66690               & 0                   & 2106-04-27 01:47:50 & 2106-05-01 11:25:46 & 1                   & 62.67646            & 1                   & NA                  & ⋯                   & 1                   & 7.45                & 7.42                & 7.45                & 1                   & 1                   & 0                   & 1                   & 0.4544669           & 1.833069           \\\\\n",
       "\t 215842              & 151232              & 11663               & 0                   & 2188-02-14 01:48:15 & 2188-02-15 19:02:48 & 1                   & 86.76186            & 1                   & NA                  & ⋯                   & 0                   &   NA                &   NA                &   NA                & NA                  & 0                   & 0                   & 0                   & 0.1568838           & 1.186076           \\\\\n",
       "\t 234312              & 164444              & 86645               & 1                   & 2165-06-22 01:47:16 & 2165-07-07 13:55:20 & 1                   & 56.08904            & 1                   & NA                  & ⋯                   & 1                   & 7.49                & 7.49                & 7.49                & 1                   & 0                   & 0                   & 0                   & 0.3002571           & 1.429096           \\\\\n",
       "\t 289157              & 146726              & 10304               & 0                   & 2156-06-23 14:26:00 & 2156-06-30 09:26:00 & 1                   & 45.91093            & 1                   & 2156-06-25          & ⋯                   & 1                   & 7.44                & 7.44                & 7.44                & 1                   & 0                   & 1                   & 0                   & 0.6991412           & 1.430326           \\\\\n",
       "\t 211964              & 160170              & 94534               & 0                   & 2160-03-05 14:23:19 & 2160-03-06 22:48:41 & 1                   & 59.38693            & 1                   & NA                  & ⋯                   & 0                   &   NA                &   NA                &   NA                & NA                  & 0                   & 0                   & 0                   & 0.3432285           & 1.522600           \\\\\n",
       "\t 230173              & 112553              & 31544               & 0                   & 2140-01-30 20:39:25 & 2140-02-02 18:41:39 & 1                   & 91.50000            & 1                   & NA                  & ⋯                   & 0                   &   NA                &   NA                &   NA                & NA                  & 0                   & 0                   & 1                   & 0.2464983           & 1.327137           \\\\\n",
       "\\end{tabular}\n"
      ],
      "text/markdown": [
       "\n",
       "icustay_id | hadm_id | subject_id | first_careunit | intime | outtime | angus | age | icu_order | echo_time | ⋯ | lab_ph_flag | lab_ph_first | lab_ph_min | lab_ph_max | lab_ph_abnormal | sedative | echo_int | mort_28_day_int | ps | ps_weight | \n",
       "|---|---|---|---|---|---|\n",
       "| 201220              | 125078              | 66690               | 0                   | 2106-04-27 01:47:50 | 2106-05-01 11:25:46 | 1                   | 62.67646            | 1                   | NA                  | ⋯                   | 1                   | 7.45                | 7.42                | 7.45                | 1                   | 1                   | 0                   | 1                   | 0.4544669           | 1.833069            | \n",
       "| 215842              | 151232              | 11663               | 0                   | 2188-02-14 01:48:15 | 2188-02-15 19:02:48 | 1                   | 86.76186            | 1                   | NA                  | ⋯                   | 0                   |   NA                |   NA                |   NA                | NA                  | 0                   | 0                   | 0                   | 0.1568838           | 1.186076            | \n",
       "| 234312              | 164444              | 86645               | 1                   | 2165-06-22 01:47:16 | 2165-07-07 13:55:20 | 1                   | 56.08904            | 1                   | NA                  | ⋯                   | 1                   | 7.49                | 7.49                | 7.49                | 1                   | 0                   | 0                   | 0                   | 0.3002571           | 1.429096            | \n",
       "| 289157              | 146726              | 10304               | 0                   | 2156-06-23 14:26:00 | 2156-06-30 09:26:00 | 1                   | 45.91093            | 1                   | 2156-06-25          | ⋯                   | 1                   | 7.44                | 7.44                | 7.44                | 1                   | 0                   | 1                   | 0                   | 0.6991412           | 1.430326            | \n",
       "| 211964              | 160170              | 94534               | 0                   | 2160-03-05 14:23:19 | 2160-03-06 22:48:41 | 1                   | 59.38693            | 1                   | NA                  | ⋯                   | 0                   |   NA                |   NA                |   NA                | NA                  | 0                   | 0                   | 0                   | 0.3432285           | 1.522600            | \n",
       "| 230173              | 112553              | 31544               | 0                   | 2140-01-30 20:39:25 | 2140-02-02 18:41:39 | 1                   | 91.50000            | 1                   | NA                  | ⋯                   | 0                   |   NA                |   NA                |   NA                | NA                  | 0                   | 0                   | 1                   | 0.2464983           | 1.327137            | \n",
       "\n",
       "\n"
      ],
      "text/plain": [
       "  icustay_id hadm_id subject_id first_careunit intime             \n",
       "1 201220     125078  66690      0              2106-04-27 01:47:50\n",
       "2 215842     151232  11663      0              2188-02-14 01:48:15\n",
       "3 234312     164444  86645      1              2165-06-22 01:47:16\n",
       "4 289157     146726  10304      0              2156-06-23 14:26:00\n",
       "5 211964     160170  94534      0              2160-03-05 14:23:19\n",
       "6 230173     112553  31544      0              2140-01-30 20:39:25\n",
       "  outtime             angus age      icu_order echo_time  ⋯ lab_ph_flag\n",
       "1 2106-05-01 11:25:46 1     62.67646 1         <NA>       ⋯ 1          \n",
       "2 2188-02-15 19:02:48 1     86.76186 1         <NA>       ⋯ 0          \n",
       "3 2165-07-07 13:55:20 1     56.08904 1         <NA>       ⋯ 1          \n",
       "4 2156-06-30 09:26:00 1     45.91093 1         2156-06-25 ⋯ 1          \n",
       "5 2160-03-06 22:48:41 1     59.38693 1         <NA>       ⋯ 0          \n",
       "6 2140-02-02 18:41:39 1     91.50000 1         <NA>       ⋯ 0          \n",
       "  lab_ph_first lab_ph_min lab_ph_max lab_ph_abnormal sedative echo_int\n",
       "1 7.45         7.42       7.45       1               1        0       \n",
       "2   NA           NA         NA       NA              0        0       \n",
       "3 7.49         7.49       7.49       1               0        0       \n",
       "4 7.44         7.44       7.44       1               0        1       \n",
       "5   NA           NA         NA       NA              0        0       \n",
       "6   NA           NA         NA       NA              0        0       \n",
       "  mort_28_day_int ps        ps_weight\n",
       "1 1               0.4544669 1.833069 \n",
       "2 0               0.1568838 1.186076 \n",
       "3 0               0.3002571 1.429096 \n",
       "4 0               0.6991412 1.430326 \n",
       "5 0               0.3432285 1.522600 \n",
       "6 1               0.2464983 1.327137 "
      ]
     },
     "metadata": {},
     "output_type": "display_data"
    }
   ],
   "source": [
    "full_data <- readRDS(file.path(data_dir, \"full_data_ps.rds\"))\n",
    "head(full_data)"
   ]
  },
  {
   "cell_type": "code",
   "execution_count": 4,
   "metadata": {},
   "outputs": [
    {
     "data": {
      "text/html": [
       "<table>\n",
       "<thead><tr><th scope=col>p_val</th><th scope=col>wtd_p_val</th><th scope=col>main_0</th><th scope=col>main_1</th><th scope=col>sub_0</th><th scope=col>sub_1</th><th scope=col>wtd_main_0</th><th scope=col>wtd_main_1</th><th scope=col>wtd_sub_0</th><th scope=col>wtd_sub_1</th><th scope=col>var</th></tr></thead>\n",
       "<tbody>\n",
       "\t<tr><td>4.472893e-02</td><td>7.861962e-02</td><td>66.689241   </td><td>65.824051   </td><td>17.207039   </td><td>16.620088   </td><td>65.444828   </td><td>64.654880   </td><td>17.014068   </td><td>16.466339   </td><td>age         </td></tr>\n",
       "\t<tr><td>1.416420e-02</td><td>1.507728e-02</td><td>50.822846   </td><td>47.665687   </td><td>       NA   </td><td>       NA   </td><td>47.089492   </td><td>43.841849   </td><td>       NA   </td><td>       NA   </td><td>female      </td></tr>\n",
       "\t<tr><td>6.415559e-11</td><td>1.909584e-13</td><td>78.562949   </td><td>82.979049   </td><td>23.579777   </td><td>26.702495   </td><td>85.637556   </td><td>91.568834   </td><td>27.685863   </td><td>32.234984   </td><td>weight      </td></tr>\n",
       "\t<tr><td>1.705518e-15</td><td>4.041212e-14</td><td> 8.505970   </td><td>10.045054   </td><td> 7.451124   </td><td> 7.681609   </td><td> 8.332934   </td><td> 9.888314   </td><td> 7.564772   </td><td> 7.744827   </td><td>elix_score  </td></tr>\n",
       "\t<tr><td>1.378591e-15</td><td>8.274714e-12</td><td>19.632462   </td><td>20.778975   </td><td> 5.788347   </td><td> 5.446293   </td><td>19.793740   </td><td>20.807581   </td><td> 5.667359   </td><td> 5.364432   </td><td>saps        </td></tr>\n",
       "\t<tr><td>7.217556e-27</td><td>0.000000e+00</td><td> 5.304937   </td><td> 6.323865   </td><td> 3.618100   </td><td> 3.796365   </td><td> 5.528346   </td><td> 6.510264   </td><td> 3.764854   </td><td> 3.812443   </td><td>sofa        </td></tr>\n",
       "</tbody>\n",
       "</table>\n"
      ],
      "text/latex": [
       "\\begin{tabular}{r|lllllllllll}\n",
       " p\\_val & wtd\\_p\\_val & main\\_0 & main\\_1 & sub\\_0 & sub\\_1 & wtd\\_main\\_0 & wtd\\_main\\_1 & wtd\\_sub\\_0 & wtd\\_sub\\_1 & var\\\\\n",
       "\\hline\n",
       "\t 4.472893e-02 & 7.861962e-02 & 66.689241    & 65.824051    & 17.207039    & 16.620088    & 65.444828    & 64.654880    & 17.014068    & 16.466339    & age         \\\\\n",
       "\t 1.416420e-02 & 1.507728e-02 & 50.822846    & 47.665687    &        NA    &        NA    & 47.089492    & 43.841849    &        NA    &        NA    & female      \\\\\n",
       "\t 6.415559e-11 & 1.909584e-13 & 78.562949    & 82.979049    & 23.579777    & 26.702495    & 85.637556    & 91.568834    & 27.685863    & 32.234984    & weight      \\\\\n",
       "\t 1.705518e-15 & 4.041212e-14 &  8.505970    & 10.045054    &  7.451124    &  7.681609    &  8.332934    &  9.888314    &  7.564772    &  7.744827    & elix\\_score\\\\\n",
       "\t 1.378591e-15 & 8.274714e-12 & 19.632462    & 20.778975    &  5.788347    &  5.446293    & 19.793740    & 20.807581    &  5.667359    &  5.364432    & saps        \\\\\n",
       "\t 7.217556e-27 & 0.000000e+00 &  5.304937    &  6.323865    &  3.618100    &  3.796365    &  5.528346    &  6.510264    &  3.764854    &  3.812443    & sofa        \\\\\n",
       "\\end{tabular}\n"
      ],
      "text/markdown": [
       "\n",
       "p_val | wtd_p_val | main_0 | main_1 | sub_0 | sub_1 | wtd_main_0 | wtd_main_1 | wtd_sub_0 | wtd_sub_1 | var | \n",
       "|---|---|---|---|---|---|\n",
       "| 4.472893e-02 | 7.861962e-02 | 66.689241    | 65.824051    | 17.207039    | 16.620088    | 65.444828    | 64.654880    | 17.014068    | 16.466339    | age          | \n",
       "| 1.416420e-02 | 1.507728e-02 | 50.822846    | 47.665687    |        NA    |        NA    | 47.089492    | 43.841849    |        NA    |        NA    | female       | \n",
       "| 6.415559e-11 | 1.909584e-13 | 78.562949    | 82.979049    | 23.579777    | 26.702495    | 85.637556    | 91.568834    | 27.685863    | 32.234984    | weight       | \n",
       "| 1.705518e-15 | 4.041212e-14 |  8.505970    | 10.045054    |  7.451124    |  7.681609    |  8.332934    |  9.888314    |  7.564772    |  7.744827    | elix_score   | \n",
       "| 1.378591e-15 | 8.274714e-12 | 19.632462    | 20.778975    |  5.788347    |  5.446293    | 19.793740    | 20.807581    |  5.667359    |  5.364432    | saps         | \n",
       "| 7.217556e-27 | 0.000000e+00 |  5.304937    |  6.323865    |  3.618100    |  3.796365    |  5.528346    |  6.510264    |  3.764854    |  3.812443    | sofa         | \n",
       "\n",
       "\n"
      ],
      "text/plain": [
       "  p_val        wtd_p_val    main_0    main_1    sub_0     sub_1     wtd_main_0\n",
       "1 4.472893e-02 7.861962e-02 66.689241 65.824051 17.207039 16.620088 65.444828 \n",
       "2 1.416420e-02 1.507728e-02 50.822846 47.665687        NA        NA 47.089492 \n",
       "3 6.415559e-11 1.909584e-13 78.562949 82.979049 23.579777 26.702495 85.637556 \n",
       "4 1.705518e-15 4.041212e-14  8.505970 10.045054  7.451124  7.681609  8.332934 \n",
       "5 1.378591e-15 8.274714e-12 19.632462 20.778975  5.788347  5.446293 19.793740 \n",
       "6 7.217556e-27 0.000000e+00  5.304937  6.323865  3.618100  3.796365  5.528346 \n",
       "  wtd_main_1 wtd_sub_0 wtd_sub_1 var       \n",
       "1 64.654880  17.014068 16.466339 age       \n",
       "2 43.841849         NA        NA female    \n",
       "3 91.568834  27.685863 32.234984 weight    \n",
       "4  9.888314   7.564772  7.744827 elix_score\n",
       "5 20.807581   5.667359  5.364432 saps      \n",
       "6  6.510264   3.764854  3.812443 sofa      "
      ]
     },
     "metadata": {},
     "output_type": "display_data"
    }
   ],
   "source": [
    "table_one <- data.table::fread(file.path(data_dir, \"tableone_raw.csv\"), data.table = FALSE)\n",
    "head(table_one)"
   ]
  },
  {
   "cell_type": "code",
   "execution_count": 5,
   "metadata": {},
   "outputs": [
    {
     "data": {
      "text/html": [
       "<ol class=list-inline>\n",
       "\t<li>'gender'</li>\n",
       "\t<li>'weight'</li>\n",
       "\t<li>'elix_score'</li>\n",
       "\t<li>'saps'</li>\n",
       "\t<li>'sofa'</li>\n",
       "\t<li>'vent'</li>\n",
       "\t<li>'vaso'</li>\n",
       "\t<li>'sedative'</li>\n",
       "\t<li>'icd_chf'</li>\n",
       "\t<li>'icd_afib'</li>\n",
       "\t<li>'icd_renal'</li>\n",
       "\t<li>'icd_copd'</li>\n",
       "\t<li>'icd_cad'</li>\n",
       "\t<li>'icd_stroke'</li>\n",
       "\t<li>'icd_malignancy'</li>\n",
       "\t<li>'vs_heart_rate_first'</li>\n",
       "\t<li>'vs_temp_first'</li>\n",
       "\t<li>'lab_platelet_first'</li>\n",
       "\t<li>'lab_sodium_first'</li>\n",
       "\t<li>'lab_potassium_first'</li>\n",
       "\t<li>'lab_chloride_first'</li>\n",
       "\t<li>'lab_bun_first'</li>\n",
       "\t<li>'lab_creatinine_first'</li>\n",
       "\t<li>'lab_po2_first'</li>\n",
       "\t<li>'lab_pco2_first'</li>\n",
       "\t<li>'lab_bnp_flag'</li>\n",
       "\t<li>'lab_troponin_flag'</li>\n",
       "\t<li>'lab_creatinine_kinase_flag'</li>\n",
       "\t<li>'icu_adm_weekday'</li>\n",
       "</ol>\n"
      ],
      "text/latex": [
       "\\begin{enumerate*}\n",
       "\\item 'gender'\n",
       "\\item 'weight'\n",
       "\\item 'elix\\_score'\n",
       "\\item 'saps'\n",
       "\\item 'sofa'\n",
       "\\item 'vent'\n",
       "\\item 'vaso'\n",
       "\\item 'sedative'\n",
       "\\item 'icd\\_chf'\n",
       "\\item 'icd\\_afib'\n",
       "\\item 'icd\\_renal'\n",
       "\\item 'icd\\_copd'\n",
       "\\item 'icd\\_cad'\n",
       "\\item 'icd\\_stroke'\n",
       "\\item 'icd\\_malignancy'\n",
       "\\item 'vs\\_heart\\_rate\\_first'\n",
       "\\item 'vs\\_temp\\_first'\n",
       "\\item 'lab\\_platelet\\_first'\n",
       "\\item 'lab\\_sodium\\_first'\n",
       "\\item 'lab\\_potassium\\_first'\n",
       "\\item 'lab\\_chloride\\_first'\n",
       "\\item 'lab\\_bun\\_first'\n",
       "\\item 'lab\\_creatinine\\_first'\n",
       "\\item 'lab\\_po2\\_first'\n",
       "\\item 'lab\\_pco2\\_first'\n",
       "\\item 'lab\\_bnp\\_flag'\n",
       "\\item 'lab\\_troponin\\_flag'\n",
       "\\item 'lab\\_creatinine\\_kinase\\_flag'\n",
       "\\item 'icu\\_adm\\_weekday'\n",
       "\\end{enumerate*}\n"
      ],
      "text/markdown": [
       "1. 'gender'\n",
       "2. 'weight'\n",
       "3. 'elix_score'\n",
       "4. 'saps'\n",
       "5. 'sofa'\n",
       "6. 'vent'\n",
       "7. 'vaso'\n",
       "8. 'sedative'\n",
       "9. 'icd_chf'\n",
       "10. 'icd_afib'\n",
       "11. 'icd_renal'\n",
       "12. 'icd_copd'\n",
       "13. 'icd_cad'\n",
       "14. 'icd_stroke'\n",
       "15. 'icd_malignancy'\n",
       "16. 'vs_heart_rate_first'\n",
       "17. 'vs_temp_first'\n",
       "18. 'lab_platelet_first'\n",
       "19. 'lab_sodium_first'\n",
       "20. 'lab_potassium_first'\n",
       "21. 'lab_chloride_first'\n",
       "22. 'lab_bun_first'\n",
       "23. 'lab_creatinine_first'\n",
       "24. 'lab_po2_first'\n",
       "25. 'lab_pco2_first'\n",
       "26. 'lab_bnp_flag'\n",
       "27. 'lab_troponin_flag'\n",
       "28. 'lab_creatinine_kinase_flag'\n",
       "29. 'icu_adm_weekday'\n",
       "\n",
       "\n"
      ],
      "text/plain": [
       " [1] \"gender\"                     \"weight\"                    \n",
       " [3] \"elix_score\"                 \"saps\"                      \n",
       " [5] \"sofa\"                       \"vent\"                      \n",
       " [7] \"vaso\"                       \"sedative\"                  \n",
       " [9] \"icd_chf\"                    \"icd_afib\"                  \n",
       "[11] \"icd_renal\"                  \"icd_copd\"                  \n",
       "[13] \"icd_cad\"                    \"icd_stroke\"                \n",
       "[15] \"icd_malignancy\"             \"vs_heart_rate_first\"       \n",
       "[17] \"vs_temp_first\"              \"lab_platelet_first\"        \n",
       "[19] \"lab_sodium_first\"           \"lab_potassium_first\"       \n",
       "[21] \"lab_chloride_first\"         \"lab_bun_first\"             \n",
       "[23] \"lab_creatinine_first\"       \"lab_po2_first\"             \n",
       "[25] \"lab_pco2_first\"             \"lab_bnp_flag\"              \n",
       "[27] \"lab_troponin_flag\"          \"lab_creatinine_kinase_flag\"\n",
       "[29] \"icu_adm_weekday\"           "
      ]
     },
     "metadata": {},
     "output_type": "display_data"
    }
   ],
   "source": [
    "wpv <- table_one %>%\n",
    "    filter(wtd_p_val < 0.05) %>%\n",
    "    pull(var) %>%\n",
    "    gsub(\"female\", \"gender\", .)\n",
    "\n",
    "if (length(grep(\"day\", wpv)) > 0) wpv <- wpv %>% discard(grepl(\"day\", .)) %>% c(., \"icu_adm_weekday\")\n",
    "\n",
    "wpv"
   ]
  },
  {
   "cell_type": "code",
   "execution_count": 6,
   "metadata": {},
   "outputs": [],
   "source": [
    "design_echo_ps_ate <- svydesign(ids = ~ icustay_id, weights = ~ ps_weight, data = full_data)"
   ]
  },
  {
   "cell_type": "code",
   "execution_count": 7,
   "metadata": {},
   "outputs": [
    {
     "data": {
      "text/html": [
       "'mort_28_day ~ echo + gender + weight + elix_score + saps + sofa + vent + vaso + sedative + icd_chf + icd_afib + icd_renal + icd_copd + icd_cad + icd_stroke + icd_malignancy + vs_heart_rate_first + vs_temp_first + lab_platelet_first + lab_sodium_first + lab_potassium_first + lab_chloride_first + lab_bun_first + lab_creatinine_first + lab_po2_first + lab_pco2_first + lab_bnp_flag + lab_troponin_flag + lab_creatinine_kinase_flag + icu_adm_weekday'"
      ],
      "text/latex": [
       "'mort\\_28\\_day \\textasciitilde{} echo + gender + weight + elix\\_score + saps + sofa + vent + vaso + sedative + icd\\_chf + icd\\_afib + icd\\_renal + icd\\_copd + icd\\_cad + icd\\_stroke + icd\\_malignancy + vs\\_heart\\_rate\\_first + vs\\_temp\\_first + lab\\_platelet\\_first + lab\\_sodium\\_first + lab\\_potassium\\_first + lab\\_chloride\\_first + lab\\_bun\\_first + lab\\_creatinine\\_first + lab\\_po2\\_first + lab\\_pco2\\_first + lab\\_bnp\\_flag + lab\\_troponin\\_flag + lab\\_creatinine\\_kinase\\_flag + icu\\_adm\\_weekday'"
      ],
      "text/markdown": [
       "'mort_28_day ~ echo + gender + weight + elix_score + saps + sofa + vent + vaso + sedative + icd_chf + icd_afib + icd_renal + icd_copd + icd_cad + icd_stroke + icd_malignancy + vs_heart_rate_first + vs_temp_first + lab_platelet_first + lab_sodium_first + lab_potassium_first + lab_chloride_first + lab_bun_first + lab_creatinine_first + lab_po2_first + lab_pco2_first + lab_bnp_flag + lab_troponin_flag + lab_creatinine_kinase_flag + icu_adm_weekday'"
      ],
      "text/plain": [
       "[1] \"mort_28_day ~ echo + gender + weight + elix_score + saps + sofa + vent + vaso + sedative + icd_chf + icd_afib + icd_renal + icd_copd + icd_cad + icd_stroke + icd_malignancy + vs_heart_rate_first + vs_temp_first + lab_platelet_first + lab_sodium_first + lab_potassium_first + lab_chloride_first + lab_bun_first + lab_creatinine_first + lab_po2_first + lab_pco2_first + lab_bnp_flag + lab_troponin_flag + lab_creatinine_kinase_flag + icu_adm_weekday\""
      ]
     },
     "metadata": {},
     "output_type": "display_data"
    }
   ],
   "source": [
    "fml <- wpv %>%\n",
    "c(\"echo\", .) %>%\n",
    "paste(collapse = \" + \") %>%\n",
    "sprintf(\"mort_28_day ~ %s\", .)\n",
    "\n",
    "fml"
   ]
  },
  {
   "cell_type": "code",
   "execution_count": 8,
   "metadata": {},
   "outputs": [],
   "source": [
    "logi <- svyglm(as.formula(fml), family = quasibinomial, design = design_echo_ps_ate)"
   ]
  },
  {
   "cell_type": "code",
   "execution_count": 9,
   "metadata": {},
   "outputs": [
    {
     "data": {
      "text/plain": [
       "\n",
       "Call:\n",
       "svyglm(formula = as.formula(fml), family = quasibinomial, design = design_echo_ps_ate)\n",
       "\n",
       "Survey design:\n",
       "svydesign(ids = ~icustay_id, weights = ~ps_weight, data = full_data)\n",
       "\n",
       "Coefficients:\n",
       "                              Estimate Std. Error t value Pr(>|t|)    \n",
       "(Intercept)                 -1.1375315  1.7778174  -0.640 0.522313    \n",
       "echo1                       -0.3187552  0.0920163  -3.464 0.000538 ***\n",
       "gender1                      0.1325798  0.0936064   1.416 0.156758    \n",
       "weight                      -0.0113965  0.0020855  -5.465 4.95e-08 ***\n",
       "elix_score                   0.0297429  0.0067464   4.409 1.07e-05 ***\n",
       "saps                         0.0773929  0.0114177   6.778 1.41e-11 ***\n",
       "sofa                         0.1687837  0.0172009   9.812  < 2e-16 ***\n",
       "vent1                        0.1029206  0.1537603   0.669 0.503310    \n",
       "vaso1                        0.0528519  0.1066875   0.495 0.620355    \n",
       "sedative1                   -0.3932804  0.1300448  -3.024 0.002511 ** \n",
       "icd_chf1                    -0.1982568  0.1167556  -1.698 0.089584 .  \n",
       "icd_afib1                    0.2655459  0.1059330   2.507 0.012229 *  \n",
       "icd_renal1                  -0.3189017  0.1408084  -2.265 0.023584 *  \n",
       "icd_copd1                    0.0772896  0.1202562   0.643 0.520454    \n",
       "icd_cad1                     0.0405816  0.1394020   0.291 0.770983    \n",
       "icd_stroke1                  0.8008304  0.1601109   5.002 5.95e-07 ***\n",
       "icd_malignancy1              0.5635786  0.1053771   5.348 9.43e-08 ***\n",
       "vs_heart_rate_first          0.0032029  0.0022574   1.419 0.156030    \n",
       "vs_temp_first               -0.0890605  0.0411728  -2.163 0.030600 *  \n",
       "lab_platelet_first           0.0001874  0.0003580   0.523 0.600790    \n",
       "lab_sodium_first             0.0320228  0.0118017   2.713 0.006691 ** \n",
       "lab_potassium_first          0.1726230  0.0660544   2.613 0.009003 ** \n",
       "lab_chloride_first          -0.0369122  0.0100099  -3.688 0.000230 ***\n",
       "lab_bun_first                0.0085907  0.0023703   3.624 0.000294 ***\n",
       "lab_creatinine_first        -0.2485666  0.0427427  -5.815 6.57e-09 ***\n",
       "lab_po2_first               -0.0004557  0.0004804  -0.948 0.342979    \n",
       "lab_pco2_first              -0.0031944  0.0038083  -0.839 0.401637    \n",
       "lab_bnp_flag1                0.1930056  0.2752042   0.701 0.483150    \n",
       "lab_troponin_flag1           0.3377744  0.1280220   2.638 0.008365 ** \n",
       "lab_creatinine_kinase_flag1 -0.1973350  0.1204972  -1.638 0.101577    \n",
       "icu_adm_weekday1            -0.1026381  0.1658059  -0.619 0.535939    \n",
       "icu_adm_weekday2            -0.1436901  0.1638485  -0.877 0.380562    \n",
       "icu_adm_weekday3             0.0794199  0.1600984   0.496 0.619876    \n",
       "icu_adm_weekday4             0.1135519  0.1561734   0.727 0.467219    \n",
       "icu_adm_weekday5             0.0550727  0.1641354   0.336 0.737243    \n",
       "icu_adm_weekday6             0.0227268  0.1663692   0.137 0.891351    \n",
       "---\n",
       "Signif. codes:  0 ‘***’ 0.001 ‘**’ 0.01 ‘*’ 0.05 ‘.’ 0.1 ‘ ’ 1\n",
       "\n",
       "(Dispersion parameter for quasibinomial family taken to be 1.003663)\n",
       "\n",
       "Number of Fisher Scoring iterations: 4\n"
      ]
     },
     "metadata": {},
     "output_type": "display_data"
    }
   ],
   "source": [
    "summary(logi)"
   ]
  },
  {
   "cell_type": "code",
   "execution_count": 10,
   "metadata": {},
   "outputs": [
    {
     "data": {
      "text/html": [
       "<table>\n",
       "<thead><tr><th></th><th scope=col>OR</th><th scope=col>2.5 %</th><th scope=col>97.5 %</th></tr></thead>\n",
       "<tbody>\n",
       "\t<tr><th scope=row>(Intercept)</th><td>0.3206095  </td><td>0.009833213</td><td>10.4533930 </td></tr>\n",
       "\t<tr><th scope=row>echo1</th><td>0.7270535  </td><td>0.607074447</td><td> 0.8707445 </td></tr>\n",
       "\t<tr><th scope=row>gender1</th><td>1.1417701  </td><td>0.950387677</td><td> 1.3716918 </td></tr>\n",
       "\t<tr><th scope=row>weight</th><td>0.9886682  </td><td>0.984635358</td><td> 0.9927176 </td></tr>\n",
       "\t<tr><th scope=row>elix_score</th><td>1.0301896  </td><td>1.016657391</td><td> 1.0439020 </td></tr>\n",
       "\t<tr><th scope=row>saps</th><td>1.0804665  </td><td>1.056556056</td><td> 1.1049180 </td></tr>\n",
       "\t<tr><th scope=row>sofa</th><td>1.1838640  </td><td>1.144617509</td><td> 1.2244563 </td></tr>\n",
       "\t<tr><th scope=row>vent1</th><td>1.1084034  </td><td>0.820005752</td><td> 1.4982312 </td></tr>\n",
       "\t<tr><th scope=row>vaso1</th><td>1.0542735  </td><td>0.855343819</td><td> 1.2994688 </td></tr>\n",
       "\t<tr><th scope=row>sedative1</th><td>0.6748395  </td><td>0.523005373</td><td> 0.8707528 </td></tr>\n",
       "\t<tr><th scope=row>icd_chf1</th><td>0.8201592  </td><td>0.652402511</td><td> 1.0310523 </td></tr>\n",
       "\t<tr><th scope=row>icd_afib1</th><td>1.3041427  </td><td>1.059631366</td><td> 1.6050753 </td></tr>\n",
       "\t<tr><th scope=row>icd_renal1</th><td>0.7269470  </td><td>0.551628195</td><td> 0.9579858 </td></tr>\n",
       "\t<tr><th scope=row>icd_copd1</th><td>1.0803549  </td><td>0.853501370</td><td> 1.3675043 </td></tr>\n",
       "\t<tr><th scope=row>icd_cad1</th><td>1.0414163  </td><td>0.792437692</td><td> 1.3686222 </td></tr>\n",
       "\t<tr><th scope=row>icd_stroke1</th><td>2.2273897  </td><td>1.627457245</td><td> 3.0484763 </td></tr>\n",
       "\t<tr><th scope=row>icd_malignancy1</th><td>1.7569486  </td><td>1.429097564</td><td> 2.1600123 </td></tr>\n",
       "\t<tr><th scope=row>vs_heart_rate_first</th><td>1.0032080  </td><td>0.998779222</td><td> 1.0076565 </td></tr>\n",
       "\t<tr><th scope=row>vs_temp_first</th><td>0.9147902  </td><td>0.843869135</td><td> 0.9916716 </td></tr>\n",
       "\t<tr><th scope=row>lab_platelet_first</th><td>1.0001874  </td><td>0.999485788</td><td> 1.0008894 </td></tr>\n",
       "\t<tr><th scope=row>lab_sodium_first</th><td>1.0325410  </td><td>1.008931617</td><td> 1.0567029 </td></tr>\n",
       "\t<tr><th scope=row>lab_potassium_first</th><td>1.1884180  </td><td>1.044103603</td><td> 1.3526793 </td></tr>\n",
       "\t<tr><th scope=row>lab_chloride_first</th><td>0.9637607  </td><td>0.945036868</td><td> 0.9828556 </td></tr>\n",
       "\t<tr><th scope=row>lab_bun_first</th><td>1.0086278  </td><td>1.003952744</td><td> 1.0133245 </td></tr>\n",
       "\t<tr><th scope=row>lab_creatinine_first</th><td>0.7799179  </td><td>0.717242844</td><td> 0.8480697 </td></tr>\n",
       "\t<tr><th scope=row>lab_po2_first</th><td>0.9995445  </td><td>0.998603693</td><td> 1.0004861 </td></tr>\n",
       "\t<tr><th scope=row>lab_pco2_first</th><td>0.9968107  </td><td>0.989398018</td><td> 1.0042789 </td></tr>\n",
       "\t<tr><th scope=row>lab_bnp_flag1</th><td>1.2128896  </td><td>0.707240299</td><td> 2.0800586 </td></tr>\n",
       "\t<tr><th scope=row>lab_troponin_flag1</th><td>1.4018242  </td><td>1.090739400</td><td> 1.8016321 </td></tr>\n",
       "\t<tr><th scope=row>lab_creatinine_kinase_flag1</th><td>0.8209156  </td><td>0.648232882</td><td> 1.0395991 </td></tr>\n",
       "\t<tr><th scope=row>icu_adm_weekday1</th><td>0.9024535  </td><td>0.652064585</td><td> 1.2489903 </td></tr>\n",
       "\t<tr><th scope=row>icu_adm_weekday2</th><td>0.8661561  </td><td>0.628243635</td><td> 1.1941648 </td></tr>\n",
       "\t<tr><th scope=row>icu_adm_weekday3</th><td>1.0826588  </td><td>0.791071284</td><td> 1.4817251 </td></tr>\n",
       "\t<tr><th scope=row>icu_adm_weekday4</th><td>1.1202500  </td><td>0.824859428</td><td> 1.5214229 </td></tr>\n",
       "\t<tr><th scope=row>icu_adm_weekday5</th><td>1.0566174  </td><td>0.765958846</td><td> 1.4575723 </td></tr>\n",
       "\t<tr><th scope=row>icu_adm_weekday6</th><td>1.0229870  </td><td>0.738340019</td><td> 1.4173718 </td></tr>\n",
       "</tbody>\n",
       "</table>\n"
      ],
      "text/latex": [
       "\\begin{tabular}{r|lll}\n",
       "  & OR & 2.5 \\% & 97.5 \\%\\\\\n",
       "\\hline\n",
       "\t(Intercept) & 0.3206095   & 0.009833213 & 10.4533930 \\\\\n",
       "\techo1 & 0.7270535   & 0.607074447 &  0.8707445 \\\\\n",
       "\tgender1 & 1.1417701   & 0.950387677 &  1.3716918 \\\\\n",
       "\tweight & 0.9886682   & 0.984635358 &  0.9927176 \\\\\n",
       "\telix\\_score & 1.0301896   & 1.016657391 &  1.0439020 \\\\\n",
       "\tsaps & 1.0804665   & 1.056556056 &  1.1049180 \\\\\n",
       "\tsofa & 1.1838640   & 1.144617509 &  1.2244563 \\\\\n",
       "\tvent1 & 1.1084034   & 0.820005752 &  1.4982312 \\\\\n",
       "\tvaso1 & 1.0542735   & 0.855343819 &  1.2994688 \\\\\n",
       "\tsedative1 & 0.6748395   & 0.523005373 &  0.8707528 \\\\\n",
       "\ticd\\_chf1 & 0.8201592   & 0.652402511 &  1.0310523 \\\\\n",
       "\ticd\\_afib1 & 1.3041427   & 1.059631366 &  1.6050753 \\\\\n",
       "\ticd\\_renal1 & 0.7269470   & 0.551628195 &  0.9579858 \\\\\n",
       "\ticd\\_copd1 & 1.0803549   & 0.853501370 &  1.3675043 \\\\\n",
       "\ticd\\_cad1 & 1.0414163   & 0.792437692 &  1.3686222 \\\\\n",
       "\ticd\\_stroke1 & 2.2273897   & 1.627457245 &  3.0484763 \\\\\n",
       "\ticd\\_malignancy1 & 1.7569486   & 1.429097564 &  2.1600123 \\\\\n",
       "\tvs\\_heart\\_rate\\_first & 1.0032080   & 0.998779222 &  1.0076565 \\\\\n",
       "\tvs\\_temp\\_first & 0.9147902   & 0.843869135 &  0.9916716 \\\\\n",
       "\tlab\\_platelet\\_first & 1.0001874   & 0.999485788 &  1.0008894 \\\\\n",
       "\tlab\\_sodium\\_first & 1.0325410   & 1.008931617 &  1.0567029 \\\\\n",
       "\tlab\\_potassium\\_first & 1.1884180   & 1.044103603 &  1.3526793 \\\\\n",
       "\tlab\\_chloride\\_first & 0.9637607   & 0.945036868 &  0.9828556 \\\\\n",
       "\tlab\\_bun\\_first & 1.0086278   & 1.003952744 &  1.0133245 \\\\\n",
       "\tlab\\_creatinine\\_first & 0.7799179   & 0.717242844 &  0.8480697 \\\\\n",
       "\tlab\\_po2\\_first & 0.9995445   & 0.998603693 &  1.0004861 \\\\\n",
       "\tlab\\_pco2\\_first & 0.9968107   & 0.989398018 &  1.0042789 \\\\\n",
       "\tlab\\_bnp\\_flag1 & 1.2128896   & 0.707240299 &  2.0800586 \\\\\n",
       "\tlab\\_troponin\\_flag1 & 1.4018242   & 1.090739400 &  1.8016321 \\\\\n",
       "\tlab\\_creatinine\\_kinase\\_flag1 & 0.8209156   & 0.648232882 &  1.0395991 \\\\\n",
       "\ticu\\_adm\\_weekday1 & 0.9024535   & 0.652064585 &  1.2489903 \\\\\n",
       "\ticu\\_adm\\_weekday2 & 0.8661561   & 0.628243635 &  1.1941648 \\\\\n",
       "\ticu\\_adm\\_weekday3 & 1.0826588   & 0.791071284 &  1.4817251 \\\\\n",
       "\ticu\\_adm\\_weekday4 & 1.1202500   & 0.824859428 &  1.5214229 \\\\\n",
       "\ticu\\_adm\\_weekday5 & 1.0566174   & 0.765958846 &  1.4575723 \\\\\n",
       "\ticu\\_adm\\_weekday6 & 1.0229870   & 0.738340019 &  1.4173718 \\\\\n",
       "\\end{tabular}\n"
      ],
      "text/markdown": [
       "\n",
       "| <!--/--> | OR | 2.5 % | 97.5 % | \n",
       "|---|---|---|---|---|---|---|---|---|---|---|---|---|---|---|---|---|---|---|---|---|---|---|---|---|---|---|---|---|---|---|---|---|---|---|---|\n",
       "| (Intercept) | 0.3206095   | 0.009833213 | 10.4533930  | \n",
       "| echo1 | 0.7270535   | 0.607074447 |  0.8707445  | \n",
       "| gender1 | 1.1417701   | 0.950387677 |  1.3716918  | \n",
       "| weight | 0.9886682   | 0.984635358 |  0.9927176  | \n",
       "| elix_score | 1.0301896   | 1.016657391 |  1.0439020  | \n",
       "| saps | 1.0804665   | 1.056556056 |  1.1049180  | \n",
       "| sofa | 1.1838640   | 1.144617509 |  1.2244563  | \n",
       "| vent1 | 1.1084034   | 0.820005752 |  1.4982312  | \n",
       "| vaso1 | 1.0542735   | 0.855343819 |  1.2994688  | \n",
       "| sedative1 | 0.6748395   | 0.523005373 |  0.8707528  | \n",
       "| icd_chf1 | 0.8201592   | 0.652402511 |  1.0310523  | \n",
       "| icd_afib1 | 1.3041427   | 1.059631366 |  1.6050753  | \n",
       "| icd_renal1 | 0.7269470   | 0.551628195 |  0.9579858  | \n",
       "| icd_copd1 | 1.0803549   | 0.853501370 |  1.3675043  | \n",
       "| icd_cad1 | 1.0414163   | 0.792437692 |  1.3686222  | \n",
       "| icd_stroke1 | 2.2273897   | 1.627457245 |  3.0484763  | \n",
       "| icd_malignancy1 | 1.7569486   | 1.429097564 |  2.1600123  | \n",
       "| vs_heart_rate_first | 1.0032080   | 0.998779222 |  1.0076565  | \n",
       "| vs_temp_first | 0.9147902   | 0.843869135 |  0.9916716  | \n",
       "| lab_platelet_first | 1.0001874   | 0.999485788 |  1.0008894  | \n",
       "| lab_sodium_first | 1.0325410   | 1.008931617 |  1.0567029  | \n",
       "| lab_potassium_first | 1.1884180   | 1.044103603 |  1.3526793  | \n",
       "| lab_chloride_first | 0.9637607   | 0.945036868 |  0.9828556  | \n",
       "| lab_bun_first | 1.0086278   | 1.003952744 |  1.0133245  | \n",
       "| lab_creatinine_first | 0.7799179   | 0.717242844 |  0.8480697  | \n",
       "| lab_po2_first | 0.9995445   | 0.998603693 |  1.0004861  | \n",
       "| lab_pco2_first | 0.9968107   | 0.989398018 |  1.0042789  | \n",
       "| lab_bnp_flag1 | 1.2128896   | 0.707240299 |  2.0800586  | \n",
       "| lab_troponin_flag1 | 1.4018242   | 1.090739400 |  1.8016321  | \n",
       "| lab_creatinine_kinase_flag1 | 0.8209156   | 0.648232882 |  1.0395991  | \n",
       "| icu_adm_weekday1 | 0.9024535   | 0.652064585 |  1.2489903  | \n",
       "| icu_adm_weekday2 | 0.8661561   | 0.628243635 |  1.1941648  | \n",
       "| icu_adm_weekday3 | 1.0826588   | 0.791071284 |  1.4817251  | \n",
       "| icu_adm_weekday4 | 1.1202500   | 0.824859428 |  1.5214229  | \n",
       "| icu_adm_weekday5 | 1.0566174   | 0.765958846 |  1.4575723  | \n",
       "| icu_adm_weekday6 | 1.0229870   | 0.738340019 |  1.4173718  | \n",
       "\n",
       "\n"
      ],
      "text/plain": [
       "                            OR        2.5 %       97.5 %    \n",
       "(Intercept)                 0.3206095 0.009833213 10.4533930\n",
       "echo1                       0.7270535 0.607074447  0.8707445\n",
       "gender1                     1.1417701 0.950387677  1.3716918\n",
       "weight                      0.9886682 0.984635358  0.9927176\n",
       "elix_score                  1.0301896 1.016657391  1.0439020\n",
       "saps                        1.0804665 1.056556056  1.1049180\n",
       "sofa                        1.1838640 1.144617509  1.2244563\n",
       "vent1                       1.1084034 0.820005752  1.4982312\n",
       "vaso1                       1.0542735 0.855343819  1.2994688\n",
       "sedative1                   0.6748395 0.523005373  0.8707528\n",
       "icd_chf1                    0.8201592 0.652402511  1.0310523\n",
       "icd_afib1                   1.3041427 1.059631366  1.6050753\n",
       "icd_renal1                  0.7269470 0.551628195  0.9579858\n",
       "icd_copd1                   1.0803549 0.853501370  1.3675043\n",
       "icd_cad1                    1.0414163 0.792437692  1.3686222\n",
       "icd_stroke1                 2.2273897 1.627457245  3.0484763\n",
       "icd_malignancy1             1.7569486 1.429097564  2.1600123\n",
       "vs_heart_rate_first         1.0032080 0.998779222  1.0076565\n",
       "vs_temp_first               0.9147902 0.843869135  0.9916716\n",
       "lab_platelet_first          1.0001874 0.999485788  1.0008894\n",
       "lab_sodium_first            1.0325410 1.008931617  1.0567029\n",
       "lab_potassium_first         1.1884180 1.044103603  1.3526793\n",
       "lab_chloride_first          0.9637607 0.945036868  0.9828556\n",
       "lab_bun_first               1.0086278 1.003952744  1.0133245\n",
       "lab_creatinine_first        0.7799179 0.717242844  0.8480697\n",
       "lab_po2_first               0.9995445 0.998603693  1.0004861\n",
       "lab_pco2_first              0.9968107 0.989398018  1.0042789\n",
       "lab_bnp_flag1               1.2128896 0.707240299  2.0800586\n",
       "lab_troponin_flag1          1.4018242 1.090739400  1.8016321\n",
       "lab_creatinine_kinase_flag1 0.8209156 0.648232882  1.0395991\n",
       "icu_adm_weekday1            0.9024535 0.652064585  1.2489903\n",
       "icu_adm_weekday2            0.8661561 0.628243635  1.1941648\n",
       "icu_adm_weekday3            1.0826588 0.791071284  1.4817251\n",
       "icu_adm_weekday4            1.1202500 0.824859428  1.5214229\n",
       "icu_adm_weekday5            1.0566174 0.765958846  1.4575723\n",
       "icu_adm_weekday6            1.0229870 0.738340019  1.4173718"
      ]
     },
     "metadata": {},
     "output_type": "display_data"
    }
   ],
   "source": [
    "exp(cbind(OR = coef(logi), confint(logi)))"
   ]
  }
 ],
 "metadata": {
  "kernelspec": {
   "display_name": "R",
   "language": "R",
   "name": "ir"
  },
  "language_info": {
   "codemirror_mode": "r",
   "file_extension": ".r",
   "mimetype": "text/x-r-source",
   "name": "R",
   "pygments_lexer": "r",
   "version": "3.4.1"
  },
  "varInspector": {
   "cols": {
    "lenName": 16,
    "lenType": 16,
    "lenVar": 40
   },
   "kernels_config": {
    "python": {
     "delete_cmd_postfix": "",
     "delete_cmd_prefix": "del ",
     "library": "var_list.py",
     "varRefreshCmd": "print(var_dic_list())"
    },
    "r": {
     "delete_cmd_postfix": ") ",
     "delete_cmd_prefix": "rm(",
     "library": "var_list.r",
     "varRefreshCmd": "cat(var_dic_list()) "
    }
   },
   "types_to_exclude": [
    "module",
    "function",
    "builtin_function_or_method",
    "instance",
    "_Feature"
   ],
   "window_display": false
  }
 },
 "nbformat": 4,
 "nbformat_minor": 2
}
