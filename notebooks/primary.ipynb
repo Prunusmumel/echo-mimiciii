{
 "cells": [
  {
   "cell_type": "code",
   "execution_count": 36,
   "metadata": {},
   "outputs": [],
   "source": [
    "library(RPostgreSQL)\n",
    "library(twang)\n",
    "library(Matching)\n",
    "library(tidyverse)"
   ]
  },
  {
   "cell_type": "code",
   "execution_count": 2,
   "metadata": {},
   "outputs": [
    {
     "data": {
      "text/plain": [
       "<PostgreSQLResult>"
      ]
     },
     "metadata": {},
     "output_type": "display_data"
    }
   ],
   "source": [
    "drv <- dbDriver(\"PostgreSQL\")\n",
    "con <- dbConnect(drv, dbname = \"mimic\")\n",
    "dbSendQuery(con, \"set search_path=echo,public,mimiciii;\")"
   ]
  },
  {
   "cell_type": "code",
   "execution_count": 3,
   "metadata": {},
   "outputs": [],
   "source": [
    "full_data <- dbGetQuery(con, \"select * from merged_data\")"
   ]
  },
  {
   "cell_type": "code",
   "execution_count": 4,
   "metadata": {},
   "outputs": [
    {
     "data": {
      "text/html": [
       "TRUE"
      ],
      "text/latex": [
       "TRUE"
      ],
      "text/markdown": [
       "TRUE"
      ],
      "text/plain": [
       "[1] TRUE"
      ]
     },
     "metadata": {},
     "output_type": "display_data"
    },
    {
     "data": {
      "text/html": [
       "TRUE"
      ],
      "text/latex": [
       "TRUE"
      ],
      "text/markdown": [
       "TRUE"
      ],
      "text/plain": [
       "[1] TRUE"
      ]
     },
     "metadata": {},
     "output_type": "display_data"
    }
   ],
   "source": [
    "dbDisconnect(con)\n",
    "dbUnloadDriver(drv)"
   ]
  },
  {
   "cell_type": "code",
   "execution_count": 5,
   "metadata": {},
   "outputs": [],
   "source": [
    "to_factor <- function(x) {\n",
    "    res <- (x %>% as.factor %>% as.integer) - 1\n",
    "    if(length(na.omit(unique(res))) <= 1) return(factor(res, levels = c(0, 1)))\n",
    "    return(factor(res))\n",
    "}"
   ]
  },
  {
   "cell_type": "code",
   "execution_count": 6,
   "metadata": {},
   "outputs": [
    {
     "data": {
      "text/html": [
       "<ol class=list-inline>\n",
       "\t<li>'icd_chf'</li>\n",
       "\t<li>'icd_afib'</li>\n",
       "\t<li>'icd_renal'</li>\n",
       "\t<li>'icd_liver'</li>\n",
       "\t<li>'icd_copd'</li>\n",
       "\t<li>'icd_cad'</li>\n",
       "\t<li>'icd_stroke'</li>\n",
       "\t<li>'icd_malignancy'</li>\n",
       "\t<li>'vs_temp_flag'</li>\n",
       "\t<li>'vs_map_flag'</li>\n",
       "\t<li>'vs_cvp_flag'</li>\n",
       "\t<li>'vs_heart_rate_flag'</li>\n",
       "\t<li>'lab_hemoglobin_flag'</li>\n",
       "\t<li>'lab_hemoglobin_abnormal'</li>\n",
       "\t<li>'lab_wbc_flag'</li>\n",
       "\t<li>'lab_wbc_abnormal'</li>\n",
       "\t<li>'lab_lactate_flag'</li>\n",
       "\t<li>'lab_lactate_abnormal'</li>\n",
       "\t<li>'lab_po2_flag'</li>\n",
       "\t<li>'lab_po2_abnormal'</li>\n",
       "\t<li>'lab_troponin_flag'</li>\n",
       "\t<li>'lab_troponin_abnormal'</li>\n",
       "\t<li>'lab_potassium_flag'</li>\n",
       "\t<li>'lab_potassium_abnormal'</li>\n",
       "\t<li>'lab_creatinine_kinase_flag'</li>\n",
       "\t<li>'lab_creatinine_kinase_abnormal'</li>\n",
       "\t<li>'lab_creatinine_flag'</li>\n",
       "\t<li>'lab_creatinine_abnormal'</li>\n",
       "\t<li>'lab_pco2_flag'</li>\n",
       "\t<li>'lab_pco2_abnormal'</li>\n",
       "\t<li>'lab_bnp_flag'</li>\n",
       "\t<li>'lab_bnp_abnormal'</li>\n",
       "\t<li>'lab_bicarbonate_flag'</li>\n",
       "\t<li>'lab_bicarbonate_abnormal'</li>\n",
       "\t<li>'lab_bun_flag'</li>\n",
       "\t<li>'lab_bun_abnormal'</li>\n",
       "\t<li>'lab_platelet_flag'</li>\n",
       "\t<li>'lab_platelet_abnormal'</li>\n",
       "\t<li>'lab_sodium_flag'</li>\n",
       "\t<li>'lab_sodium_abnormal'</li>\n",
       "\t<li>'lab_chloride_flag'</li>\n",
       "\t<li>'lab_chloride_abnormal'</li>\n",
       "\t<li>'lab_ph_flag'</li>\n",
       "\t<li>'lab_ph_abnormal'</li>\n",
       "\t<li>'sedative'</li>\n",
       "\t<li>'gender'</li>\n",
       "\t<li>'first_careunit'</li>\n",
       "\t<li>'echo'</li>\n",
       "\t<li>'vent'</li>\n",
       "\t<li>'vaso'</li>\n",
       "\t<li>'icu_adm_weekday'</li>\n",
       "\t<li>'icu_adm_hour'</li>\n",
       "\t<li>'mort_28_day'</li>\n",
       "</ol>\n"
      ],
      "text/latex": [
       "\\begin{enumerate*}\n",
       "\\item 'icd\\_chf'\n",
       "\\item 'icd\\_afib'\n",
       "\\item 'icd\\_renal'\n",
       "\\item 'icd\\_liver'\n",
       "\\item 'icd\\_copd'\n",
       "\\item 'icd\\_cad'\n",
       "\\item 'icd\\_stroke'\n",
       "\\item 'icd\\_malignancy'\n",
       "\\item 'vs\\_temp\\_flag'\n",
       "\\item 'vs\\_map\\_flag'\n",
       "\\item 'vs\\_cvp\\_flag'\n",
       "\\item 'vs\\_heart\\_rate\\_flag'\n",
       "\\item 'lab\\_hemoglobin\\_flag'\n",
       "\\item 'lab\\_hemoglobin\\_abnormal'\n",
       "\\item 'lab\\_wbc\\_flag'\n",
       "\\item 'lab\\_wbc\\_abnormal'\n",
       "\\item 'lab\\_lactate\\_flag'\n",
       "\\item 'lab\\_lactate\\_abnormal'\n",
       "\\item 'lab\\_po2\\_flag'\n",
       "\\item 'lab\\_po2\\_abnormal'\n",
       "\\item 'lab\\_troponin\\_flag'\n",
       "\\item 'lab\\_troponin\\_abnormal'\n",
       "\\item 'lab\\_potassium\\_flag'\n",
       "\\item 'lab\\_potassium\\_abnormal'\n",
       "\\item 'lab\\_creatinine\\_kinase\\_flag'\n",
       "\\item 'lab\\_creatinine\\_kinase\\_abnormal'\n",
       "\\item 'lab\\_creatinine\\_flag'\n",
       "\\item 'lab\\_creatinine\\_abnormal'\n",
       "\\item 'lab\\_pco2\\_flag'\n",
       "\\item 'lab\\_pco2\\_abnormal'\n",
       "\\item 'lab\\_bnp\\_flag'\n",
       "\\item 'lab\\_bnp\\_abnormal'\n",
       "\\item 'lab\\_bicarbonate\\_flag'\n",
       "\\item 'lab\\_bicarbonate\\_abnormal'\n",
       "\\item 'lab\\_bun\\_flag'\n",
       "\\item 'lab\\_bun\\_abnormal'\n",
       "\\item 'lab\\_platelet\\_flag'\n",
       "\\item 'lab\\_platelet\\_abnormal'\n",
       "\\item 'lab\\_sodium\\_flag'\n",
       "\\item 'lab\\_sodium\\_abnormal'\n",
       "\\item 'lab\\_chloride\\_flag'\n",
       "\\item 'lab\\_chloride\\_abnormal'\n",
       "\\item 'lab\\_ph\\_flag'\n",
       "\\item 'lab\\_ph\\_abnormal'\n",
       "\\item 'sedative'\n",
       "\\item 'gender'\n",
       "\\item 'first\\_careunit'\n",
       "\\item 'echo'\n",
       "\\item 'vent'\n",
       "\\item 'vaso'\n",
       "\\item 'icu\\_adm\\_weekday'\n",
       "\\item 'icu\\_adm\\_hour'\n",
       "\\item 'mort\\_28\\_day'\n",
       "\\end{enumerate*}\n"
      ],
      "text/markdown": [
       "1. 'icd_chf'\n",
       "2. 'icd_afib'\n",
       "3. 'icd_renal'\n",
       "4. 'icd_liver'\n",
       "5. 'icd_copd'\n",
       "6. 'icd_cad'\n",
       "7. 'icd_stroke'\n",
       "8. 'icd_malignancy'\n",
       "9. 'vs_temp_flag'\n",
       "10. 'vs_map_flag'\n",
       "11. 'vs_cvp_flag'\n",
       "12. 'vs_heart_rate_flag'\n",
       "13. 'lab_hemoglobin_flag'\n",
       "14. 'lab_hemoglobin_abnormal'\n",
       "15. 'lab_wbc_flag'\n",
       "16. 'lab_wbc_abnormal'\n",
       "17. 'lab_lactate_flag'\n",
       "18. 'lab_lactate_abnormal'\n",
       "19. 'lab_po2_flag'\n",
       "20. 'lab_po2_abnormal'\n",
       "21. 'lab_troponin_flag'\n",
       "22. 'lab_troponin_abnormal'\n",
       "23. 'lab_potassium_flag'\n",
       "24. 'lab_potassium_abnormal'\n",
       "25. 'lab_creatinine_kinase_flag'\n",
       "26. 'lab_creatinine_kinase_abnormal'\n",
       "27. 'lab_creatinine_flag'\n",
       "28. 'lab_creatinine_abnormal'\n",
       "29. 'lab_pco2_flag'\n",
       "30. 'lab_pco2_abnormal'\n",
       "31. 'lab_bnp_flag'\n",
       "32. 'lab_bnp_abnormal'\n",
       "33. 'lab_bicarbonate_flag'\n",
       "34. 'lab_bicarbonate_abnormal'\n",
       "35. 'lab_bun_flag'\n",
       "36. 'lab_bun_abnormal'\n",
       "37. 'lab_platelet_flag'\n",
       "38. 'lab_platelet_abnormal'\n",
       "39. 'lab_sodium_flag'\n",
       "40. 'lab_sodium_abnormal'\n",
       "41. 'lab_chloride_flag'\n",
       "42. 'lab_chloride_abnormal'\n",
       "43. 'lab_ph_flag'\n",
       "44. 'lab_ph_abnormal'\n",
       "45. 'sedative'\n",
       "46. 'gender'\n",
       "47. 'first_careunit'\n",
       "48. 'echo'\n",
       "49. 'vent'\n",
       "50. 'vaso'\n",
       "51. 'icu_adm_weekday'\n",
       "52. 'icu_adm_hour'\n",
       "53. 'mort_28_day'\n",
       "\n",
       "\n"
      ],
      "text/plain": [
       " [1] \"icd_chf\"                        \"icd_afib\"                      \n",
       " [3] \"icd_renal\"                      \"icd_liver\"                     \n",
       " [5] \"icd_copd\"                       \"icd_cad\"                       \n",
       " [7] \"icd_stroke\"                     \"icd_malignancy\"                \n",
       " [9] \"vs_temp_flag\"                   \"vs_map_flag\"                   \n",
       "[11] \"vs_cvp_flag\"                    \"vs_heart_rate_flag\"            \n",
       "[13] \"lab_hemoglobin_flag\"            \"lab_hemoglobin_abnormal\"       \n",
       "[15] \"lab_wbc_flag\"                   \"lab_wbc_abnormal\"              \n",
       "[17] \"lab_lactate_flag\"               \"lab_lactate_abnormal\"          \n",
       "[19] \"lab_po2_flag\"                   \"lab_po2_abnormal\"              \n",
       "[21] \"lab_troponin_flag\"              \"lab_troponin_abnormal\"         \n",
       "[23] \"lab_potassium_flag\"             \"lab_potassium_abnormal\"        \n",
       "[25] \"lab_creatinine_kinase_flag\"     \"lab_creatinine_kinase_abnormal\"\n",
       "[27] \"lab_creatinine_flag\"            \"lab_creatinine_abnormal\"       \n",
       "[29] \"lab_pco2_flag\"                  \"lab_pco2_abnormal\"             \n",
       "[31] \"lab_bnp_flag\"                   \"lab_bnp_abnormal\"              \n",
       "[33] \"lab_bicarbonate_flag\"           \"lab_bicarbonate_abnormal\"      \n",
       "[35] \"lab_bun_flag\"                   \"lab_bun_abnormal\"              \n",
       "[37] \"lab_platelet_flag\"              \"lab_platelet_abnormal\"         \n",
       "[39] \"lab_sodium_flag\"                \"lab_sodium_abnormal\"           \n",
       "[41] \"lab_chloride_flag\"              \"lab_chloride_abnormal\"         \n",
       "[43] \"lab_ph_flag\"                    \"lab_ph_abnormal\"               \n",
       "[45] \"sedative\"                       \"gender\"                        \n",
       "[47] \"first_careunit\"                 \"echo\"                          \n",
       "[49] \"vent\"                           \"vaso\"                          \n",
       "[51] \"icu_adm_weekday\"                \"icu_adm_hour\"                  \n",
       "[53] \"mort_28_day\"                   "
      ]
     },
     "metadata": {},
     "output_type": "display_data"
    }
   ],
   "source": [
    "factor_vars <- full_data %>%\n",
    "    names %>%\n",
    "    grep(\"flag|abnormal|icd|sedative\", ., value = TRUE) %>%\n",
    "    c(\"gender\", \"first_careunit\", \"echo\", \"vent\", \"vaso\",\n",
    "      \"icu_adm_weekday\", \"icu_adm_hour\", \"mort_28_day\")\n",
    "factor_vars"
   ]
  },
  {
   "cell_type": "code",
   "execution_count": 7,
   "metadata": {},
   "outputs": [
    {
     "data": {
      "text/html": [
       "<ol class=list-inline>\n",
       "\t<li>0</li>\n",
       "\t<li>0</li>\n",
       "\t<li>0</li>\n",
       "\t<li>1</li>\n",
       "\t<li>0</li>\n",
       "\t<li>0</li>\n",
       "</ol>\n"
      ],
      "text/latex": [
       "\\begin{enumerate*}\n",
       "\\item 0\n",
       "\\item 0\n",
       "\\item 0\n",
       "\\item 1\n",
       "\\item 0\n",
       "\\item 0\n",
       "\\end{enumerate*}\n"
      ],
      "text/markdown": [
       "1. 0\n",
       "2. 0\n",
       "3. 0\n",
       "4. 1\n",
       "5. 0\n",
       "6. 0\n",
       "\n",
       "\n"
      ],
      "text/plain": [
       "[1] 0 0 0 1 0 0\n",
       "Levels: 0 1"
      ]
     },
     "metadata": {},
     "output_type": "display_data"
    }
   ],
   "source": [
    "full_data <- full_data %>%\n",
    "    mutate(echo_int = as.integer(echo)) %>%\n",
    "    mutate(mort_28_day_int = as.integer(mort_28_day)) %>%\n",
    "    mutate_at(factor_vars, to_factor)\n",
    "full_data %>% pull(echo) %>% head"
   ]
  },
  {
   "cell_type": "code",
   "execution_count": 8,
   "metadata": {},
   "outputs": [
    {
     "data": {
      "text/html": [
       "<ol class=list-inline>\n",
       "\t<li>'age'</li>\n",
       "\t<li>'gender'</li>\n",
       "\t<li>'weight'</li>\n",
       "\t<li>'saps'</li>\n",
       "\t<li>'sofa'</li>\n",
       "\t<li>'elix_score'</li>\n",
       "\t<li>'vent'</li>\n",
       "\t<li>'vaso'</li>\n",
       "\t<li>'icu_adm_weekday'</li>\n",
       "\t<li>'icu_adm_hour'</li>\n",
       "\t<li>'icd_chf'</li>\n",
       "\t<li>'icd_afib'</li>\n",
       "\t<li>'icd_renal'</li>\n",
       "\t<li>'icd_liver'</li>\n",
       "\t<li>'icd_copd'</li>\n",
       "\t<li>'icd_cad'</li>\n",
       "\t<li>'icd_stroke'</li>\n",
       "\t<li>'icd_malignancy'</li>\n",
       "\t<li>'vs_temp_first'</li>\n",
       "\t<li>'vs_map_first'</li>\n",
       "\t<li>'vs_cvp_first'</li>\n",
       "\t<li>'vs_heart_rate_first'</li>\n",
       "\t<li>'lab_hemoglobin_first'</li>\n",
       "\t<li>'lab_wbc_first'</li>\n",
       "\t<li>'lab_lactate_first'</li>\n",
       "\t<li>'lab_po2_first'</li>\n",
       "\t<li>'lab_troponin_flag'</li>\n",
       "\t<li>'lab_potassium_first'</li>\n",
       "\t<li>'lab_creatinine_kinase_flag'</li>\n",
       "\t<li>'lab_creatinine_first'</li>\n",
       "\t<li>'lab_pco2_first'</li>\n",
       "\t<li>'lab_bnp_flag'</li>\n",
       "\t<li>'lab_bicarbonate_first'</li>\n",
       "\t<li>'lab_bun_first'</li>\n",
       "\t<li>'lab_platelet_first'</li>\n",
       "\t<li>'lab_sodium_first'</li>\n",
       "\t<li>'lab_chloride_first'</li>\n",
       "\t<li>'lab_ph_first'</li>\n",
       "\t<li>'sedative'</li>\n",
       "</ol>\n"
      ],
      "text/latex": [
       "\\begin{enumerate*}\n",
       "\\item 'age'\n",
       "\\item 'gender'\n",
       "\\item 'weight'\n",
       "\\item 'saps'\n",
       "\\item 'sofa'\n",
       "\\item 'elix\\_score'\n",
       "\\item 'vent'\n",
       "\\item 'vaso'\n",
       "\\item 'icu\\_adm\\_weekday'\n",
       "\\item 'icu\\_adm\\_hour'\n",
       "\\item 'icd\\_chf'\n",
       "\\item 'icd\\_afib'\n",
       "\\item 'icd\\_renal'\n",
       "\\item 'icd\\_liver'\n",
       "\\item 'icd\\_copd'\n",
       "\\item 'icd\\_cad'\n",
       "\\item 'icd\\_stroke'\n",
       "\\item 'icd\\_malignancy'\n",
       "\\item 'vs\\_temp\\_first'\n",
       "\\item 'vs\\_map\\_first'\n",
       "\\item 'vs\\_cvp\\_first'\n",
       "\\item 'vs\\_heart\\_rate\\_first'\n",
       "\\item 'lab\\_hemoglobin\\_first'\n",
       "\\item 'lab\\_wbc\\_first'\n",
       "\\item 'lab\\_lactate\\_first'\n",
       "\\item 'lab\\_po2\\_first'\n",
       "\\item 'lab\\_troponin\\_flag'\n",
       "\\item 'lab\\_potassium\\_first'\n",
       "\\item 'lab\\_creatinine\\_kinase\\_flag'\n",
       "\\item 'lab\\_creatinine\\_first'\n",
       "\\item 'lab\\_pco2\\_first'\n",
       "\\item 'lab\\_bnp\\_flag'\n",
       "\\item 'lab\\_bicarbonate\\_first'\n",
       "\\item 'lab\\_bun\\_first'\n",
       "\\item 'lab\\_platelet\\_first'\n",
       "\\item 'lab\\_sodium\\_first'\n",
       "\\item 'lab\\_chloride\\_first'\n",
       "\\item 'lab\\_ph\\_first'\n",
       "\\item 'sedative'\n",
       "\\end{enumerate*}\n"
      ],
      "text/markdown": [
       "1. 'age'\n",
       "2. 'gender'\n",
       "3. 'weight'\n",
       "4. 'saps'\n",
       "5. 'sofa'\n",
       "6. 'elix_score'\n",
       "7. 'vent'\n",
       "8. 'vaso'\n",
       "9. 'icu_adm_weekday'\n",
       "10. 'icu_adm_hour'\n",
       "11. 'icd_chf'\n",
       "12. 'icd_afib'\n",
       "13. 'icd_renal'\n",
       "14. 'icd_liver'\n",
       "15. 'icd_copd'\n",
       "16. 'icd_cad'\n",
       "17. 'icd_stroke'\n",
       "18. 'icd_malignancy'\n",
       "19. 'vs_temp_first'\n",
       "20. 'vs_map_first'\n",
       "21. 'vs_cvp_first'\n",
       "22. 'vs_heart_rate_first'\n",
       "23. 'lab_hemoglobin_first'\n",
       "24. 'lab_wbc_first'\n",
       "25. 'lab_lactate_first'\n",
       "26. 'lab_po2_first'\n",
       "27. 'lab_troponin_flag'\n",
       "28. 'lab_potassium_first'\n",
       "29. 'lab_creatinine_kinase_flag'\n",
       "30. 'lab_creatinine_first'\n",
       "31. 'lab_pco2_first'\n",
       "32. 'lab_bnp_flag'\n",
       "33. 'lab_bicarbonate_first'\n",
       "34. 'lab_bun_first'\n",
       "35. 'lab_platelet_first'\n",
       "36. 'lab_sodium_first'\n",
       "37. 'lab_chloride_first'\n",
       "38. 'lab_ph_first'\n",
       "39. 'sedative'\n",
       "\n",
       "\n"
      ],
      "text/plain": [
       " [1] \"age\"                        \"gender\"                    \n",
       " [3] \"weight\"                     \"saps\"                      \n",
       " [5] \"sofa\"                       \"elix_score\"                \n",
       " [7] \"vent\"                       \"vaso\"                      \n",
       " [9] \"icu_adm_weekday\"            \"icu_adm_hour\"              \n",
       "[11] \"icd_chf\"                    \"icd_afib\"                  \n",
       "[13] \"icd_renal\"                  \"icd_liver\"                 \n",
       "[15] \"icd_copd\"                   \"icd_cad\"                   \n",
       "[17] \"icd_stroke\"                 \"icd_malignancy\"            \n",
       "[19] \"vs_temp_first\"              \"vs_map_first\"              \n",
       "[21] \"vs_cvp_first\"               \"vs_heart_rate_first\"       \n",
       "[23] \"lab_hemoglobin_first\"       \"lab_wbc_first\"             \n",
       "[25] \"lab_lactate_first\"          \"lab_po2_first\"             \n",
       "[27] \"lab_troponin_flag\"          \"lab_potassium_first\"       \n",
       "[29] \"lab_creatinine_kinase_flag\" \"lab_creatinine_first\"      \n",
       "[31] \"lab_pco2_first\"             \"lab_bnp_flag\"              \n",
       "[33] \"lab_bicarbonate_first\"      \"lab_bun_first\"             \n",
       "[35] \"lab_platelet_first\"         \"lab_sodium_first\"          \n",
       "[37] \"lab_chloride_first\"         \"lab_ph_first\"              \n",
       "[39] \"sedative\"                  "
      ]
     },
     "metadata": {},
     "output_type": "display_data"
    },
    {
     "data": {
      "text/html": [
       "39"
      ],
      "text/latex": [
       "39"
      ],
      "text/markdown": [
       "39"
      ],
      "text/plain": [
       "[1] 39"
      ]
     },
     "metadata": {},
     "output_type": "display_data"
    }
   ],
   "source": [
    "feature_names <- full_data %>%\n",
    "    names %>%\n",
    "    keep(grepl(\"vs|lab|icd|age|gender|weight|saps|sofa|elix_score|vent|vaso|icu_adm|sedative\", .)) %>%\n",
    "    discard(grepl(\"vs|lab\", .) & grepl(\"flag\", .) & !grepl(\"bnp|troponin|kinase\", .)) %>%\n",
    "    discard(grepl(\"bnp|troponin|kinase\", .) & !grepl(\"flag\", .)) %>%\n",
    "    discard(grepl(\"min|max\", .)) %>%\n",
    "    discard(grepl(\"abnormal\", .))\n",
    "feature_names\n",
    "length(feature_names)"
   ]
  },
  {
   "cell_type": "code",
   "execution_count": 9,
   "metadata": {},
   "outputs": [
    {
     "data": {
      "text/html": [
       "<table>\n",
       "<thead><tr><th scope=col>age</th><th scope=col>gender</th><th scope=col>weight</th><th scope=col>saps</th><th scope=col>sofa</th><th scope=col>elix_score</th><th scope=col>vent</th><th scope=col>vaso</th><th scope=col>icu_adm_weekday</th><th scope=col>icu_adm_hour</th><th scope=col>⋯</th><th scope=col>lab_creatinine_first</th><th scope=col>lab_pco2_first</th><th scope=col>lab_bnp_flag</th><th scope=col>lab_bicarbonate_first</th><th scope=col>lab_bun_first</th><th scope=col>lab_platelet_first</th><th scope=col>lab_sodium_first</th><th scope=col>lab_chloride_first</th><th scope=col>lab_ph_first</th><th scope=col>sedative</th></tr></thead>\n",
       "<tbody>\n",
       "\t<tr><td> 62.67646</td><td>1        </td><td>74.3     </td><td>25       </td><td>5        </td><td> 5       </td><td>1        </td><td>0        </td><td>2        </td><td>1        </td><td>⋯        </td><td>3.7      </td><td>32       </td><td>0        </td><td>22       </td><td>208      </td><td>313      </td><td>160      </td><td>123      </td><td>7.45     </td><td>1        </td></tr>\n",
       "\t<tr><td> 86.76186</td><td>0        </td><td>  NA     </td><td>13       </td><td>1        </td><td>10       </td><td>0        </td><td>0        </td><td>4        </td><td>1        </td><td>⋯        </td><td>0.9      </td><td>NA       </td><td>0        </td><td>27       </td><td> 17      </td><td>189      </td><td>139      </td><td>105      </td><td>  NA     </td><td>0        </td></tr>\n",
       "\t<tr><td> 56.08904</td><td>1        </td><td>65.0     </td><td>18       </td><td>5        </td><td>14       </td><td>1        </td><td>0        </td><td>6        </td><td>1        </td><td>⋯        </td><td>0.9      </td><td>32       </td><td>0        </td><td>24       </td><td> 15      </td><td>231      </td><td>144      </td><td>108      </td><td>7.49     </td><td>0        </td></tr>\n",
       "\t<tr><td> 45.91093</td><td>1        </td><td>  NA     </td><td>16       </td><td>9        </td><td>13       </td><td>0        </td><td>0        </td><td>3        </td><td>14       </td><td>⋯        </td><td>0.8      </td><td>30       </td><td>0        </td><td>20       </td><td> 19      </td><td> 28      </td><td>134      </td><td>100      </td><td>7.44     </td><td>0        </td></tr>\n",
       "\t<tr><td> 59.38693</td><td>1        </td><td>91.4     </td><td>13       </td><td>3        </td><td>22       </td><td>0        </td><td>0        </td><td>3        </td><td>14       </td><td>⋯        </td><td>0.7      </td><td>NA       </td><td>0        </td><td>26       </td><td>  7      </td><td> 40      </td><td>138      </td><td>103      </td><td>  NA     </td><td>0        </td></tr>\n",
       "\t<tr><td>300.00345</td><td>0        </td><td>55.0     </td><td>25       </td><td>5        </td><td> 0       </td><td>0        </td><td>0        </td><td>6        </td><td>20       </td><td>⋯        </td><td>0.8      </td><td>NA       </td><td>0        </td><td>20       </td><td> 19      </td><td>249      </td><td>147      </td><td>118      </td><td>  NA     </td><td>0        </td></tr>\n",
       "</tbody>\n",
       "</table>\n"
      ],
      "text/latex": [
       "\\begin{tabular}{r|lllllllllllllllllllllllllllllllllllllll}\n",
       " age & gender & weight & saps & sofa & elix\\_score & vent & vaso & icu\\_adm\\_weekday & icu\\_adm\\_hour & ⋯ & lab\\_creatinine\\_first & lab\\_pco2\\_first & lab\\_bnp\\_flag & lab\\_bicarbonate\\_first & lab\\_bun\\_first & lab\\_platelet\\_first & lab\\_sodium\\_first & lab\\_chloride\\_first & lab\\_ph\\_first & sedative\\\\\n",
       "\\hline\n",
       "\t  62.67646 & 1         & 74.3      & 25        & 5         &  5        & 1         & 0         & 2         & 1         & ⋯         & 3.7       & 32        & 0         & 22        & 208       & 313       & 160       & 123       & 7.45      & 1        \\\\\n",
       "\t  86.76186 & 0         &   NA      & 13        & 1         & 10        & 0         & 0         & 4         & 1         & ⋯         & 0.9       & NA        & 0         & 27        &  17       & 189       & 139       & 105       &   NA      & 0        \\\\\n",
       "\t  56.08904 & 1         & 65.0      & 18        & 5         & 14        & 1         & 0         & 6         & 1         & ⋯         & 0.9       & 32        & 0         & 24        &  15       & 231       & 144       & 108       & 7.49      & 0        \\\\\n",
       "\t  45.91093 & 1         &   NA      & 16        & 9         & 13        & 0         & 0         & 3         & 14        & ⋯         & 0.8       & 30        & 0         & 20        &  19       &  28       & 134       & 100       & 7.44      & 0        \\\\\n",
       "\t  59.38693 & 1         & 91.4      & 13        & 3         & 22        & 0         & 0         & 3         & 14        & ⋯         & 0.7       & NA        & 0         & 26        &   7       &  40       & 138       & 103       &   NA      & 0        \\\\\n",
       "\t 300.00345 & 0         & 55.0      & 25        & 5         &  0        & 0         & 0         & 6         & 20        & ⋯         & 0.8       & NA        & 0         & 20        &  19       & 249       & 147       & 118       &   NA      & 0        \\\\\n",
       "\\end{tabular}\n"
      ],
      "text/markdown": [
       "\n",
       "age | gender | weight | saps | sofa | elix_score | vent | vaso | icu_adm_weekday | icu_adm_hour | ⋯ | lab_creatinine_first | lab_pco2_first | lab_bnp_flag | lab_bicarbonate_first | lab_bun_first | lab_platelet_first | lab_sodium_first | lab_chloride_first | lab_ph_first | sedative | \n",
       "|---|---|---|---|---|---|\n",
       "|  62.67646 | 1         | 74.3      | 25        | 5         |  5        | 1         | 0         | 2         | 1         | ⋯         | 3.7       | 32        | 0         | 22        | 208       | 313       | 160       | 123       | 7.45      | 1         | \n",
       "|  86.76186 | 0         |   NA      | 13        | 1         | 10        | 0         | 0         | 4         | 1         | ⋯         | 0.9       | NA        | 0         | 27        |  17       | 189       | 139       | 105       |   NA      | 0         | \n",
       "|  56.08904 | 1         | 65.0      | 18        | 5         | 14        | 1         | 0         | 6         | 1         | ⋯         | 0.9       | 32        | 0         | 24        |  15       | 231       | 144       | 108       | 7.49      | 0         | \n",
       "|  45.91093 | 1         |   NA      | 16        | 9         | 13        | 0         | 0         | 3         | 14        | ⋯         | 0.8       | 30        | 0         | 20        |  19       |  28       | 134       | 100       | 7.44      | 0         | \n",
       "|  59.38693 | 1         | 91.4      | 13        | 3         | 22        | 0         | 0         | 3         | 14        | ⋯         | 0.7       | NA        | 0         | 26        |   7       |  40       | 138       | 103       |   NA      | 0         | \n",
       "| 300.00345 | 0         | 55.0      | 25        | 5         |  0        | 0         | 0         | 6         | 20        | ⋯         | 0.8       | NA        | 0         | 20        |  19       | 249       | 147       | 118       |   NA      | 0         | \n",
       "\n",
       "\n"
      ],
      "text/plain": [
       "  age       gender weight saps sofa elix_score vent vaso icu_adm_weekday\n",
       "1  62.67646 1      74.3   25   5     5         1    0    2              \n",
       "2  86.76186 0        NA   13   1    10         0    0    4              \n",
       "3  56.08904 1      65.0   18   5    14         1    0    6              \n",
       "4  45.91093 1        NA   16   9    13         0    0    3              \n",
       "5  59.38693 1      91.4   13   3    22         0    0    3              \n",
       "6 300.00345 0      55.0   25   5     0         0    0    6              \n",
       "  icu_adm_hour ⋯ lab_creatinine_first lab_pco2_first lab_bnp_flag\n",
       "1 1            ⋯ 3.7                  32             0           \n",
       "2 1            ⋯ 0.9                  NA             0           \n",
       "3 1            ⋯ 0.9                  32             0           \n",
       "4 14           ⋯ 0.8                  30             0           \n",
       "5 14           ⋯ 0.7                  NA             0           \n",
       "6 20           ⋯ 0.8                  NA             0           \n",
       "  lab_bicarbonate_first lab_bun_first lab_platelet_first lab_sodium_first\n",
       "1 22                    208           313                160             \n",
       "2 27                     17           189                139             \n",
       "3 24                     15           231                144             \n",
       "4 20                     19            28                134             \n",
       "5 26                      7            40                138             \n",
       "6 20                     19           249                147             \n",
       "  lab_chloride_first lab_ph_first sedative\n",
       "1 123                7.45         1       \n",
       "2 105                  NA         0       \n",
       "3 108                7.49         0       \n",
       "4 100                7.44         0       \n",
       "5 103                  NA         0       \n",
       "6 118                  NA         0       "
      ]
     },
     "metadata": {},
     "output_type": "display_data"
    }
   ],
   "source": [
    "features <- full_data %>%\n",
    "    select(!!!rlang::syms(feature_names))\n",
    "head(features)"
   ]
  },
  {
   "cell_type": "code",
   "execution_count": 10,
   "metadata": {},
   "outputs": [],
   "source": [
    "label_name <- \"echo\""
   ]
  },
  {
   "cell_type": "code",
   "execution_count": 11,
   "metadata": {},
   "outputs": [
    {
     "data": {
      "text/html": [
       "<ol class=list-inline>\n",
       "\t<li>0</li>\n",
       "\t<li>0</li>\n",
       "\t<li>0</li>\n",
       "\t<li>1</li>\n",
       "\t<li>0</li>\n",
       "\t<li>0</li>\n",
       "</ol>\n"
      ],
      "text/latex": [
       "\\begin{enumerate*}\n",
       "\\item 0\n",
       "\\item 0\n",
       "\\item 0\n",
       "\\item 1\n",
       "\\item 0\n",
       "\\item 0\n",
       "\\end{enumerate*}\n"
      ],
      "text/markdown": [
       "1. 0\n",
       "2. 0\n",
       "3. 0\n",
       "4. 1\n",
       "5. 0\n",
       "6. 0\n",
       "\n",
       "\n"
      ],
      "text/plain": [
       "[1] 0 0 0 1 0 0\n",
       "Levels: 0 1"
      ]
     },
     "metadata": {},
     "output_type": "display_data"
    }
   ],
   "source": [
    "label <- full_data %>% pull(echo)\n",
    "head(label)"
   ]
  },
  {
   "cell_type": "code",
   "execution_count": 12,
   "metadata": {},
   "outputs": [
    {
     "data": {
      "text/html": [
       "'mort_28_day ~ echo + age + gender + weight + saps + sofa + elix_score + vent + vaso + icu_adm_weekday + icu_adm_hour + icd_chf + icd_afib + icd_renal + icd_liver + icd_copd + icd_cad + icd_stroke + icd_malignancy + vs_temp_first + vs_map_first + vs_cvp_first + vs_heart_rate_first + lab_hemoglobin_first + lab_wbc_first + lab_lactate_first + lab_po2_first + lab_troponin_flag + lab_potassium_first + lab_creatinine_kinase_flag + lab_creatinine_first + lab_pco2_first + lab_bnp_flag + lab_bicarbonate_first + lab_bun_first + lab_platelet_first + lab_sodium_first + lab_chloride_first + lab_ph_first + sedative'"
      ],
      "text/latex": [
       "'mort\\_28\\_day \\textasciitilde{} echo + age + gender + weight + saps + sofa + elix\\_score + vent + vaso + icu\\_adm\\_weekday + icu\\_adm\\_hour + icd\\_chf + icd\\_afib + icd\\_renal + icd\\_liver + icd\\_copd + icd\\_cad + icd\\_stroke + icd\\_malignancy + vs\\_temp\\_first + vs\\_map\\_first + vs\\_cvp\\_first + vs\\_heart\\_rate\\_first + lab\\_hemoglobin\\_first + lab\\_wbc\\_first + lab\\_lactate\\_first + lab\\_po2\\_first + lab\\_troponin\\_flag + lab\\_potassium\\_first + lab\\_creatinine\\_kinase\\_flag + lab\\_creatinine\\_first + lab\\_pco2\\_first + lab\\_bnp\\_flag + lab\\_bicarbonate\\_first + lab\\_bun\\_first + lab\\_platelet\\_first + lab\\_sodium\\_first + lab\\_chloride\\_first + lab\\_ph\\_first + sedative'"
      ],
      "text/markdown": [
       "'mort_28_day ~ echo + age + gender + weight + saps + sofa + elix_score + vent + vaso + icu_adm_weekday + icu_adm_hour + icd_chf + icd_afib + icd_renal + icd_liver + icd_copd + icd_cad + icd_stroke + icd_malignancy + vs_temp_first + vs_map_first + vs_cvp_first + vs_heart_rate_first + lab_hemoglobin_first + lab_wbc_first + lab_lactate_first + lab_po2_first + lab_troponin_flag + lab_potassium_first + lab_creatinine_kinase_flag + lab_creatinine_first + lab_pco2_first + lab_bnp_flag + lab_bicarbonate_first + lab_bun_first + lab_platelet_first + lab_sodium_first + lab_chloride_first + lab_ph_first + sedative'"
      ],
      "text/plain": [
       "[1] \"mort_28_day ~ echo + age + gender + weight + saps + sofa + elix_score + vent + vaso + icu_adm_weekday + icu_adm_hour + icd_chf + icd_afib + icd_renal + icd_liver + icd_copd + icd_cad + icd_stroke + icd_malignancy + vs_temp_first + vs_map_first + vs_cvp_first + vs_heart_rate_first + lab_hemoglobin_first + lab_wbc_first + lab_lactate_first + lab_po2_first + lab_troponin_flag + lab_potassium_first + lab_creatinine_kinase_flag + lab_creatinine_first + lab_pco2_first + lab_bnp_flag + lab_bicarbonate_first + lab_bun_first + lab_platelet_first + lab_sodium_first + lab_chloride_first + lab_ph_first + sedative\""
      ]
     },
     "metadata": {},
     "output_type": "display_data"
    }
   ],
   "source": [
    "fml <- feature_names %>%\n",
    "    c(\"echo\", .) %>%\n",
    "    paste(collapse = \" + \") %>%\n",
    "    sprintf(\"mort_28_day ~ %s\", .)\n",
    "fml"
   ]
  },
  {
   "cell_type": "code",
   "execution_count": 13,
   "metadata": {},
   "outputs": [
    {
     "data": {
      "text/plain": [
       "\n",
       "Call:\n",
       "glm(formula = as.formula(fml), family = binomial, data = full_data, \n",
       "    na.action = na.exclude)\n",
       "\n",
       "Deviance Residuals: \n",
       "    Min       1Q   Median       3Q      Max  \n",
       "-2.1335  -0.7365  -0.4171   0.7583   2.8996  \n",
       "\n",
       "Coefficients:\n",
       "                              Estimate Std. Error z value Pr(>|z|)    \n",
       "(Intercept)                  5.4443648  8.7492730   0.622 0.533768    \n",
       "echo1                       -0.3311306  0.1483746  -2.232 0.025633 *  \n",
       "age                          0.0041990  0.0012056   3.483 0.000496 ***\n",
       "gender1                      0.2742175  0.1435749   1.910 0.056143 .  \n",
       "weight                      -0.0088982  0.0031475  -2.827 0.004698 ** \n",
       "saps                         0.0800412  0.0172166   4.649 3.33e-06 ***\n",
       "sofa                         0.1605250  0.0259602   6.184 6.27e-10 ***\n",
       "elix_score                   0.0295440  0.0114913   2.571 0.010141 *  \n",
       "vent1                        0.2625683  0.2672348   0.983 0.325835    \n",
       "vaso1                        0.0260530  0.1752765   0.149 0.881838    \n",
       "icu_adm_weekday1             0.0023596  0.2595345   0.009 0.992746    \n",
       "icu_adm_weekday2             0.1272408  0.2539524   0.501 0.616342    \n",
       "icu_adm_weekday3             0.2902394  0.2436152   1.191 0.233503    \n",
       "icu_adm_weekday4             0.3803858  0.2444110   1.556 0.119628    \n",
       "icu_adm_weekday5             0.1667049  0.2522069   0.661 0.508622    \n",
       "icu_adm_weekday6             0.0513254  0.2615404   0.196 0.844420    \n",
       "icu_adm_hour1               -0.0265052  0.4876027  -0.054 0.956650    \n",
       "icu_adm_hour2               -0.6699919  0.5212394  -1.285 0.198659    \n",
       "icu_adm_hour3               -0.0521436  0.4871432  -0.107 0.914758    \n",
       "icu_adm_hour4                0.4792664  0.4760882   1.007 0.314091    \n",
       "icu_adm_hour5               -0.0819384  0.5255137  -0.156 0.876096    \n",
       "icu_adm_hour6                0.0407932  0.5659151   0.072 0.942535    \n",
       "icu_adm_hour7               -0.9864090  0.7816758  -1.262 0.206979    \n",
       "icu_adm_hour8               -0.2668276  0.7202929  -0.370 0.711052    \n",
       "icu_adm_hour9                0.6236558  0.5027257   1.241 0.214772    \n",
       "icu_adm_hour10              -0.3617629  0.5663602  -0.639 0.522985    \n",
       "icu_adm_hour11              -0.0307647  0.4847156  -0.063 0.949393    \n",
       "icu_adm_hour12               0.1567412  0.4558350   0.344 0.730955    \n",
       "icu_adm_hour13               0.6418579  0.4823108   1.331 0.183256    \n",
       "icu_adm_hour14               0.4961832  0.4423559   1.122 0.261997    \n",
       "icu_adm_hour15               0.2386306  0.4289188   0.556 0.577969    \n",
       "icu_adm_hour16               0.0420335  0.4154466   0.101 0.919410    \n",
       "icu_adm_hour17              -0.1482461  0.4310585  -0.344 0.730913    \n",
       "icu_adm_hour18               0.0275563  0.4160791   0.066 0.947196    \n",
       "icu_adm_hour19               0.2856765  0.4106419   0.696 0.486628    \n",
       "icu_adm_hour20               0.6034722  0.3977002   1.517 0.129165    \n",
       "icu_adm_hour21               0.5288024  0.3948015   1.339 0.180436    \n",
       "icu_adm_hour22               0.4186607  0.3952342   1.059 0.289476    \n",
       "icu_adm_hour23              -0.6942287  0.4450312  -1.560 0.118770    \n",
       "icd_chf1                    -0.4075032  0.1751255  -2.327 0.019969 *  \n",
       "icd_afib1                    0.2121437  0.1561026   1.359 0.174146    \n",
       "icd_renal1                   0.2270418  0.2150351   1.056 0.291043    \n",
       "icd_liver1                   0.4278331  0.2388933   1.791 0.073310 .  \n",
       "icd_copd1                    0.5042262  0.1932266   2.610 0.009067 ** \n",
       "icd_cad1                    -0.3295400  0.2137895  -1.541 0.123214    \n",
       "icd_stroke1                  0.3945496  0.2886746   1.367 0.171700    \n",
       "icd_malignancy1              0.4332717  0.1718638   2.521 0.011702 *  \n",
       "vs_temp_first               -0.1004427  0.0584047  -1.720 0.085474 .  \n",
       "vs_map_first                -0.0089437  0.0036603  -2.443 0.014549 *  \n",
       "vs_cvp_first                -0.0031463  0.0035025  -0.898 0.369026    \n",
       "vs_heart_rate_first          0.0042666  0.0033039   1.291 0.196566    \n",
       "lab_hemoglobin_first        -0.0344618  0.0349842  -0.985 0.324591    \n",
       "lab_wbc_first               -0.0040732  0.0058579  -0.695 0.486843    \n",
       "lab_lactate_first            0.1437804  0.0361255   3.980 6.89e-05 ***\n",
       "lab_po2_first               -0.0009366  0.0007101  -1.319 0.187160    \n",
       "lab_troponin_flag1           0.3278556  0.1920572   1.707 0.087809 .  \n",
       "lab_potassium_first          0.1179498  0.0747218   1.579 0.114447    \n",
       "lab_creatinine_kinase_flag1 -0.0499011  0.1938354  -0.257 0.796838    \n",
       "lab_creatinine_first        -0.2356717  0.0726711  -3.243 0.001183 ** \n",
       "lab_pco2_first               0.0019885  0.0098100   0.203 0.839371    \n",
       "lab_bnp_flag1                0.6618606  0.3328013   1.989 0.046728 *  \n",
       "lab_bicarbonate_first        0.0384588  0.0258443   1.488 0.136725    \n",
       "lab_bun_first                0.0093534  0.0034285   2.728 0.006369 ** \n",
       "lab_platelet_first           0.0004454  0.0005586   0.797 0.425240    \n",
       "lab_sodium_first            -0.0100486  0.0227489  -0.442 0.658693    \n",
       "lab_chloride_first          -0.0102553  0.0209591  -0.489 0.624628    \n",
       "lab_ph_first                -0.6663371  1.1675884  -0.571 0.568206    \n",
       "sedative1                   -0.2428368  0.2105658  -1.153 0.248804    \n",
       "---\n",
       "Signif. codes:  0 ‘***’ 0.001 ‘**’ 0.01 ‘*’ 0.05 ‘.’ 0.1 ‘ ’ 1\n",
       "\n",
       "(Dispersion parameter for binomial family taken to be 1)\n",
       "\n",
       "    Null deviance: 1933.8  on 1533  degrees of freedom\n",
       "Residual deviance: 1446.8  on 1466  degrees of freedom\n",
       "  (4628 observations deleted due to missingness)\n",
       "AIC: 1582.8\n",
       "\n",
       "Number of Fisher Scoring iterations: 5\n"
      ]
     },
     "metadata": {},
     "output_type": "display_data"
    },
    {
     "name": "stderr",
     "output_type": "stream",
     "text": [
      "Waiting for profiling to be done...\n"
     ]
    },
    {
     "data": {
      "text/html": [
       "<table>\n",
       "<thead><tr><th></th><th scope=col>OR</th><th scope=col>2.5 %</th><th scope=col>97.5 %</th></tr></thead>\n",
       "<tbody>\n",
       "\t<tr><th scope=row>(Intercept)</th><td>231.4502180 </td><td>7.333704e-06</td><td>5.945866e+09</td></tr>\n",
       "\t<tr><th scope=row>echo1</th><td>  0.7181113 </td><td>5.366233e-01</td><td>9.603771e-01</td></tr>\n",
       "\t<tr><th scope=row>age</th><td>  1.0042078 </td><td>1.001840e+00</td><td>1.006595e+00</td></tr>\n",
       "\t<tr><th scope=row>gender1</th><td>  1.3155009 </td><td>9.932485e-01</td><td>1.744381e+00</td></tr>\n",
       "\t<tr><th scope=row>weight</th><td>  0.9911413 </td><td>9.849634e-01</td><td>9.972043e-01</td></tr>\n",
       "\t<tr><th scope=row>saps</th><td>  1.0833317 </td><td>1.047576e+00</td><td>1.120777e+00</td></tr>\n",
       "\t<tr><th scope=row>sofa</th><td>  1.1741271 </td><td>1.116359e+00</td><td>1.236045e+00</td></tr>\n",
       "\t<tr><th scope=row>elix_score</th><td>  1.0299848 </td><td>1.007020e+00</td><td>1.053466e+00</td></tr>\n",
       "\t<tr><th scope=row>vent1</th><td>  1.3002652 </td><td>7.700479e-01</td><td>2.197377e+00</td></tr>\n",
       "\t<tr><th scope=row>vaso1</th><td>  1.0263953 </td><td>7.283564e-01</td><td>1.448777e+00</td></tr>\n",
       "\t<tr><th scope=row>icu_adm_weekday1</th><td>  1.0023624 </td><td>6.021658e-01</td><td>1.667502e+00</td></tr>\n",
       "\t<tr><th scope=row>icu_adm_weekday2</th><td>  1.1356904 </td><td>6.903748e-01</td><td>1.870279e+00</td></tr>\n",
       "\t<tr><th scope=row>icu_adm_weekday3</th><td>  1.3367475 </td><td>8.303903e-01</td><td>2.159916e+00</td></tr>\n",
       "\t<tr><th scope=row>icu_adm_weekday4</th><td>  1.4628489 </td><td>9.073215e-01</td><td>2.367458e+00</td></tr>\n",
       "\t<tr><th scope=row>icu_adm_weekday5</th><td>  1.1814056 </td><td>7.206250e-01</td><td>1.938886e+00</td></tr>\n",
       "\t<tr><th scope=row>icu_adm_weekday6</th><td>  1.0526654 </td><td>6.299132e-01</td><td>1.758175e+00</td></tr>\n",
       "\t<tr><th scope=row>icu_adm_hour1</th><td>  0.9738430 </td><td>3.726314e-01</td><td>2.533722e+00</td></tr>\n",
       "\t<tr><th scope=row>icu_adm_hour2</th><td>  0.5117127 </td><td>1.800978e-01</td><td>1.402480e+00</td></tr>\n",
       "\t<tr><th scope=row>icu_adm_hour3</th><td>  0.9491926 </td><td>3.629636e-01</td><td>2.464495e+00</td></tr>\n",
       "\t<tr><th scope=row>icu_adm_hour4</th><td>  1.6148893 </td><td>6.343262e-01</td><td>4.122391e+00</td></tr>\n",
       "\t<tr><th scope=row>icu_adm_hour5</th><td>  0.9213287 </td><td>3.238243e-01</td><td>2.561095e+00</td></tr>\n",
       "\t<tr><th scope=row>icu_adm_hour6</th><td>  1.0416367 </td><td>3.373520e-01</td><td>3.134368e+00</td></tr>\n",
       "\t<tr><th scope=row>icu_adm_hour7</th><td>  0.3729134 </td><td>6.731947e-02</td><td>1.546686e+00</td></tr>\n",
       "\t<tr><th scope=row>icu_adm_hour8</th><td>  0.7658051 </td><td>1.683104e-01</td><td>2.954008e+00</td></tr>\n",
       "\t<tr><th scope=row>icu_adm_hour9</th><td>  1.8657364 </td><td>6.949236e-01</td><td>5.018097e+00</td></tr>\n",
       "\t<tr><th scope=row>icu_adm_hour10</th><td>  0.6964474 </td><td>2.221473e-01</td><td>2.070181e+00</td></tr>\n",
       "\t<tr><th scope=row>icu_adm_hour11</th><td>  0.9697037 </td><td>3.729183e-01</td><td>2.508255e+00</td></tr>\n",
       "\t<tr><th scope=row>icu_adm_hour12</th><td>  1.1696928 </td><td>4.768827e-01</td><td>2.863356e+00</td></tr>\n",
       "\t<tr><th scope=row>icu_adm_hour13</th><td>  1.9000076 </td><td>7.375246e-01</td><td>4.911419e+00</td></tr>\n",
       "\t<tr><th scope=row>icu_adm_hour14</th><td>  1.6424404 </td><td>6.907955e-01</td><td>3.930597e+00</td></tr>\n",
       "\t<tr><th scope=row>⋮</th><td>⋮</td><td>⋮</td><td>⋮</td></tr>\n",
       "\t<tr><th scope=row>icu_adm_hour23</th><td>0.4994595 </td><td>0.20789224</td><td>1.1956874 </td></tr>\n",
       "\t<tr><th scope=row>icd_chf1</th><td>0.6653094 </td><td>0.47109594</td><td>0.9364101 </td></tr>\n",
       "\t<tr><th scope=row>icd_afib1</th><td>1.2363255 </td><td>0.90976411</td><td>1.6783023 </td></tr>\n",
       "\t<tr><th scope=row>icd_renal1</th><td>1.2548823 </td><td>0.82180775</td><td>1.9108564 </td></tr>\n",
       "\t<tr><th scope=row>icd_liver1</th><td>1.5339300 </td><td>0.96022393</td><td>2.4516626 </td></tr>\n",
       "\t<tr><th scope=row>icd_copd1</th><td>1.6557038 </td><td>1.13212485</td><td>2.4164099 </td></tr>\n",
       "\t<tr><th scope=row>icd_cad1</th><td>0.7192545 </td><td>0.47029142</td><td>1.0883987 </td></tr>\n",
       "\t<tr><th scope=row>icd_stroke1</th><td>1.4837158 </td><td>0.83542230</td><td>2.5982011 </td></tr>\n",
       "\t<tr><th scope=row>icd_malignancy1</th><td>1.5422952 </td><td>1.10074176</td><td>2.1602561 </td></tr>\n",
       "\t<tr><th scope=row>vs_temp_first</th><td>0.9044369 </td><td>0.80577014</td><td>1.0064247 </td></tr>\n",
       "\t<tr><th scope=row>vs_map_first</th><td>0.9910962 </td><td>0.98390297</td><td>0.9981330 </td></tr>\n",
       "\t<tr><th scope=row>vs_cvp_first</th><td>0.9968586 </td><td>0.98911094</td><td>1.0032909 </td></tr>\n",
       "\t<tr><th scope=row>vs_heart_rate_first</th><td>1.0042757 </td><td>0.99778669</td><td>1.0108035 </td></tr>\n",
       "\t<tr><th scope=row>lab_hemoglobin_first</th><td>0.9661252 </td><td>0.90189988</td><td>1.0345820 </td></tr>\n",
       "\t<tr><th scope=row>lab_wbc_first</th><td>0.9959351 </td><td>0.98442431</td><td>1.0073636 </td></tr>\n",
       "\t<tr><th scope=row>lab_lactate_first</th><td>1.1546305 </td><td>1.07656304</td><td>1.2405242 </td></tr>\n",
       "\t<tr><th scope=row>lab_po2_first</th><td>0.9990638 </td><td>0.99766347</td><td>1.0004476 </td></tr>\n",
       "\t<tr><th scope=row>lab_troponin_flag1</th><td>1.3879885 </td><td>0.95466499</td><td>2.0282793 </td></tr>\n",
       "\t<tr><th scope=row>lab_potassium_first</th><td>1.1251876 </td><td>0.97111164</td><td>1.3108097 </td></tr>\n",
       "\t<tr><th scope=row>lab_creatinine_kinase_flag1</th><td>0.9513235 </td><td>0.64890530</td><td>1.3883358 </td></tr>\n",
       "\t<tr><th scope=row>lab_creatinine_first</th><td>0.7900400 </td><td>0.68233661</td><td>0.9067630 </td></tr>\n",
       "\t<tr><th scope=row>lab_pco2_first</th><td>1.0019904 </td><td>0.98294076</td><td>1.0215962 </td></tr>\n",
       "\t<tr><th scope=row>lab_bnp_flag1</th><td>1.9383955 </td><td>0.99795216</td><td>3.6957122 </td></tr>\n",
       "\t<tr><th scope=row>lab_bicarbonate_first</th><td>1.0392079 </td><td>0.98765711</td><td>1.0932839 </td></tr>\n",
       "\t<tr><th scope=row>lab_bun_first</th><td>1.0093973 </td><td>1.00266546</td><td>1.0162524 </td></tr>\n",
       "\t<tr><th scope=row>lab_platelet_first</th><td>1.0004455 </td><td>0.99934624</td><td>1.0015396 </td></tr>\n",
       "\t<tr><th scope=row>lab_sodium_first</th><td>0.9900017 </td><td>0.94681320</td><td>1.0352480 </td></tr>\n",
       "\t<tr><th scope=row>lab_chloride_first</th><td>0.9897971 </td><td>0.94985011</td><td>1.0312920 </td></tr>\n",
       "\t<tr><th scope=row>lab_ph_first</th><td>0.5135864 </td><td>0.05281533</td><td>5.1578634 </td></tr>\n",
       "\t<tr><th scope=row>sedative1</th><td>0.7843995 </td><td>0.51959773</td><td>1.1873369 </td></tr>\n",
       "</tbody>\n",
       "</table>\n"
      ],
      "text/latex": [
       "\\begin{tabular}{r|lll}\n",
       "  & OR & 2.5 \\% & 97.5 \\%\\\\\n",
       "\\hline\n",
       "\t(Intercept) & 231.4502180  & 7.333704e-06 & 5.945866e+09\\\\\n",
       "\techo1 &   0.7181113  & 5.366233e-01 & 9.603771e-01\\\\\n",
       "\tage &   1.0042078  & 1.001840e+00 & 1.006595e+00\\\\\n",
       "\tgender1 &   1.3155009  & 9.932485e-01 & 1.744381e+00\\\\\n",
       "\tweight &   0.9911413  & 9.849634e-01 & 9.972043e-01\\\\\n",
       "\tsaps &   1.0833317  & 1.047576e+00 & 1.120777e+00\\\\\n",
       "\tsofa &   1.1741271  & 1.116359e+00 & 1.236045e+00\\\\\n",
       "\telix\\_score &   1.0299848  & 1.007020e+00 & 1.053466e+00\\\\\n",
       "\tvent1 &   1.3002652  & 7.700479e-01 & 2.197377e+00\\\\\n",
       "\tvaso1 &   1.0263953  & 7.283564e-01 & 1.448777e+00\\\\\n",
       "\ticu\\_adm\\_weekday1 &   1.0023624  & 6.021658e-01 & 1.667502e+00\\\\\n",
       "\ticu\\_adm\\_weekday2 &   1.1356904  & 6.903748e-01 & 1.870279e+00\\\\\n",
       "\ticu\\_adm\\_weekday3 &   1.3367475  & 8.303903e-01 & 2.159916e+00\\\\\n",
       "\ticu\\_adm\\_weekday4 &   1.4628489  & 9.073215e-01 & 2.367458e+00\\\\\n",
       "\ticu\\_adm\\_weekday5 &   1.1814056  & 7.206250e-01 & 1.938886e+00\\\\\n",
       "\ticu\\_adm\\_weekday6 &   1.0526654  & 6.299132e-01 & 1.758175e+00\\\\\n",
       "\ticu\\_adm\\_hour1 &   0.9738430  & 3.726314e-01 & 2.533722e+00\\\\\n",
       "\ticu\\_adm\\_hour2 &   0.5117127  & 1.800978e-01 & 1.402480e+00\\\\\n",
       "\ticu\\_adm\\_hour3 &   0.9491926  & 3.629636e-01 & 2.464495e+00\\\\\n",
       "\ticu\\_adm\\_hour4 &   1.6148893  & 6.343262e-01 & 4.122391e+00\\\\\n",
       "\ticu\\_adm\\_hour5 &   0.9213287  & 3.238243e-01 & 2.561095e+00\\\\\n",
       "\ticu\\_adm\\_hour6 &   1.0416367  & 3.373520e-01 & 3.134368e+00\\\\\n",
       "\ticu\\_adm\\_hour7 &   0.3729134  & 6.731947e-02 & 1.546686e+00\\\\\n",
       "\ticu\\_adm\\_hour8 &   0.7658051  & 1.683104e-01 & 2.954008e+00\\\\\n",
       "\ticu\\_adm\\_hour9 &   1.8657364  & 6.949236e-01 & 5.018097e+00\\\\\n",
       "\ticu\\_adm\\_hour10 &   0.6964474  & 2.221473e-01 & 2.070181e+00\\\\\n",
       "\ticu\\_adm\\_hour11 &   0.9697037  & 3.729183e-01 & 2.508255e+00\\\\\n",
       "\ticu\\_adm\\_hour12 &   1.1696928  & 4.768827e-01 & 2.863356e+00\\\\\n",
       "\ticu\\_adm\\_hour13 &   1.9000076  & 7.375246e-01 & 4.911419e+00\\\\\n",
       "\ticu\\_adm\\_hour14 &   1.6424404  & 6.907955e-01 & 3.930597e+00\\\\\n",
       "\t⋮ & ⋮ & ⋮ & ⋮\\\\\n",
       "\ticu\\_adm\\_hour23 & 0.4994595  & 0.20789224 & 1.1956874 \\\\\n",
       "\ticd\\_chf1 & 0.6653094  & 0.47109594 & 0.9364101 \\\\\n",
       "\ticd\\_afib1 & 1.2363255  & 0.90976411 & 1.6783023 \\\\\n",
       "\ticd\\_renal1 & 1.2548823  & 0.82180775 & 1.9108564 \\\\\n",
       "\ticd\\_liver1 & 1.5339300  & 0.96022393 & 2.4516626 \\\\\n",
       "\ticd\\_copd1 & 1.6557038  & 1.13212485 & 2.4164099 \\\\\n",
       "\ticd\\_cad1 & 0.7192545  & 0.47029142 & 1.0883987 \\\\\n",
       "\ticd\\_stroke1 & 1.4837158  & 0.83542230 & 2.5982011 \\\\\n",
       "\ticd\\_malignancy1 & 1.5422952  & 1.10074176 & 2.1602561 \\\\\n",
       "\tvs\\_temp\\_first & 0.9044369  & 0.80577014 & 1.0064247 \\\\\n",
       "\tvs\\_map\\_first & 0.9910962  & 0.98390297 & 0.9981330 \\\\\n",
       "\tvs\\_cvp\\_first & 0.9968586  & 0.98911094 & 1.0032909 \\\\\n",
       "\tvs\\_heart\\_rate\\_first & 1.0042757  & 0.99778669 & 1.0108035 \\\\\n",
       "\tlab\\_hemoglobin\\_first & 0.9661252  & 0.90189988 & 1.0345820 \\\\\n",
       "\tlab\\_wbc\\_first & 0.9959351  & 0.98442431 & 1.0073636 \\\\\n",
       "\tlab\\_lactate\\_first & 1.1546305  & 1.07656304 & 1.2405242 \\\\\n",
       "\tlab\\_po2\\_first & 0.9990638  & 0.99766347 & 1.0004476 \\\\\n",
       "\tlab\\_troponin\\_flag1 & 1.3879885  & 0.95466499 & 2.0282793 \\\\\n",
       "\tlab\\_potassium\\_first & 1.1251876  & 0.97111164 & 1.3108097 \\\\\n",
       "\tlab\\_creatinine\\_kinase\\_flag1 & 0.9513235  & 0.64890530 & 1.3883358 \\\\\n",
       "\tlab\\_creatinine\\_first & 0.7900400  & 0.68233661 & 0.9067630 \\\\\n",
       "\tlab\\_pco2\\_first & 1.0019904  & 0.98294076 & 1.0215962 \\\\\n",
       "\tlab\\_bnp\\_flag1 & 1.9383955  & 0.99795216 & 3.6957122 \\\\\n",
       "\tlab\\_bicarbonate\\_first & 1.0392079  & 0.98765711 & 1.0932839 \\\\\n",
       "\tlab\\_bun\\_first & 1.0093973  & 1.00266546 & 1.0162524 \\\\\n",
       "\tlab\\_platelet\\_first & 1.0004455  & 0.99934624 & 1.0015396 \\\\\n",
       "\tlab\\_sodium\\_first & 0.9900017  & 0.94681320 & 1.0352480 \\\\\n",
       "\tlab\\_chloride\\_first & 0.9897971  & 0.94985011 & 1.0312920 \\\\\n",
       "\tlab\\_ph\\_first & 0.5135864  & 0.05281533 & 5.1578634 \\\\\n",
       "\tsedative1 & 0.7843995  & 0.51959773 & 1.1873369 \\\\\n",
       "\\end{tabular}\n"
      ],
      "text/markdown": [
       "\n",
       "| <!--/--> | OR | 2.5 % | 97.5 % | \n",
       "|---|---|---|---|---|---|---|---|---|---|---|---|---|---|---|---|---|---|---|---|---|---|---|---|---|---|---|---|---|---|---|---|---|---|---|---|---|---|---|---|---|---|---|---|---|---|---|---|---|---|---|---|---|---|---|---|---|---|---|---|---|\n",
       "| (Intercept) | 231.4502180  | 7.333704e-06 | 5.945866e+09 | \n",
       "| echo1 |   0.7181113  | 5.366233e-01 | 9.603771e-01 | \n",
       "| age |   1.0042078  | 1.001840e+00 | 1.006595e+00 | \n",
       "| gender1 |   1.3155009  | 9.932485e-01 | 1.744381e+00 | \n",
       "| weight |   0.9911413  | 9.849634e-01 | 9.972043e-01 | \n",
       "| saps |   1.0833317  | 1.047576e+00 | 1.120777e+00 | \n",
       "| sofa |   1.1741271  | 1.116359e+00 | 1.236045e+00 | \n",
       "| elix_score |   1.0299848  | 1.007020e+00 | 1.053466e+00 | \n",
       "| vent1 |   1.3002652  | 7.700479e-01 | 2.197377e+00 | \n",
       "| vaso1 |   1.0263953  | 7.283564e-01 | 1.448777e+00 | \n",
       "| icu_adm_weekday1 |   1.0023624  | 6.021658e-01 | 1.667502e+00 | \n",
       "| icu_adm_weekday2 |   1.1356904  | 6.903748e-01 | 1.870279e+00 | \n",
       "| icu_adm_weekday3 |   1.3367475  | 8.303903e-01 | 2.159916e+00 | \n",
       "| icu_adm_weekday4 |   1.4628489  | 9.073215e-01 | 2.367458e+00 | \n",
       "| icu_adm_weekday5 |   1.1814056  | 7.206250e-01 | 1.938886e+00 | \n",
       "| icu_adm_weekday6 |   1.0526654  | 6.299132e-01 | 1.758175e+00 | \n",
       "| icu_adm_hour1 |   0.9738430  | 3.726314e-01 | 2.533722e+00 | \n",
       "| icu_adm_hour2 |   0.5117127  | 1.800978e-01 | 1.402480e+00 | \n",
       "| icu_adm_hour3 |   0.9491926  | 3.629636e-01 | 2.464495e+00 | \n",
       "| icu_adm_hour4 |   1.6148893  | 6.343262e-01 | 4.122391e+00 | \n",
       "| icu_adm_hour5 |   0.9213287  | 3.238243e-01 | 2.561095e+00 | \n",
       "| icu_adm_hour6 |   1.0416367  | 3.373520e-01 | 3.134368e+00 | \n",
       "| icu_adm_hour7 |   0.3729134  | 6.731947e-02 | 1.546686e+00 | \n",
       "| icu_adm_hour8 |   0.7658051  | 1.683104e-01 | 2.954008e+00 | \n",
       "| icu_adm_hour9 |   1.8657364  | 6.949236e-01 | 5.018097e+00 | \n",
       "| icu_adm_hour10 |   0.6964474  | 2.221473e-01 | 2.070181e+00 | \n",
       "| icu_adm_hour11 |   0.9697037  | 3.729183e-01 | 2.508255e+00 | \n",
       "| icu_adm_hour12 |   1.1696928  | 4.768827e-01 | 2.863356e+00 | \n",
       "| icu_adm_hour13 |   1.9000076  | 7.375246e-01 | 4.911419e+00 | \n",
       "| icu_adm_hour14 |   1.6424404  | 6.907955e-01 | 3.930597e+00 | \n",
       "| ⋮ | ⋮ | ⋮ | ⋮ | \n",
       "| icu_adm_hour23 | 0.4994595  | 0.20789224 | 1.1956874  | \n",
       "| icd_chf1 | 0.6653094  | 0.47109594 | 0.9364101  | \n",
       "| icd_afib1 | 1.2363255  | 0.90976411 | 1.6783023  | \n",
       "| icd_renal1 | 1.2548823  | 0.82180775 | 1.9108564  | \n",
       "| icd_liver1 | 1.5339300  | 0.96022393 | 2.4516626  | \n",
       "| icd_copd1 | 1.6557038  | 1.13212485 | 2.4164099  | \n",
       "| icd_cad1 | 0.7192545  | 0.47029142 | 1.0883987  | \n",
       "| icd_stroke1 | 1.4837158  | 0.83542230 | 2.5982011  | \n",
       "| icd_malignancy1 | 1.5422952  | 1.10074176 | 2.1602561  | \n",
       "| vs_temp_first | 0.9044369  | 0.80577014 | 1.0064247  | \n",
       "| vs_map_first | 0.9910962  | 0.98390297 | 0.9981330  | \n",
       "| vs_cvp_first | 0.9968586  | 0.98911094 | 1.0032909  | \n",
       "| vs_heart_rate_first | 1.0042757  | 0.99778669 | 1.0108035  | \n",
       "| lab_hemoglobin_first | 0.9661252  | 0.90189988 | 1.0345820  | \n",
       "| lab_wbc_first | 0.9959351  | 0.98442431 | 1.0073636  | \n",
       "| lab_lactate_first | 1.1546305  | 1.07656304 | 1.2405242  | \n",
       "| lab_po2_first | 0.9990638  | 0.99766347 | 1.0004476  | \n",
       "| lab_troponin_flag1 | 1.3879885  | 0.95466499 | 2.0282793  | \n",
       "| lab_potassium_first | 1.1251876  | 0.97111164 | 1.3108097  | \n",
       "| lab_creatinine_kinase_flag1 | 0.9513235  | 0.64890530 | 1.3883358  | \n",
       "| lab_creatinine_first | 0.7900400  | 0.68233661 | 0.9067630  | \n",
       "| lab_pco2_first | 1.0019904  | 0.98294076 | 1.0215962  | \n",
       "| lab_bnp_flag1 | 1.9383955  | 0.99795216 | 3.6957122  | \n",
       "| lab_bicarbonate_first | 1.0392079  | 0.98765711 | 1.0932839  | \n",
       "| lab_bun_first | 1.0093973  | 1.00266546 | 1.0162524  | \n",
       "| lab_platelet_first | 1.0004455  | 0.99934624 | 1.0015396  | \n",
       "| lab_sodium_first | 0.9900017  | 0.94681320 | 1.0352480  | \n",
       "| lab_chloride_first | 0.9897971  | 0.94985011 | 1.0312920  | \n",
       "| lab_ph_first | 0.5135864  | 0.05281533 | 5.1578634  | \n",
       "| sedative1 | 0.7843995  | 0.51959773 | 1.1873369  | \n",
       "\n",
       "\n"
      ],
      "text/plain": [
       "                            OR          2.5 %        97.5 %      \n",
       "(Intercept)                 231.4502180 7.333704e-06 5.945866e+09\n",
       "echo1                         0.7181113 5.366233e-01 9.603771e-01\n",
       "age                           1.0042078 1.001840e+00 1.006595e+00\n",
       "gender1                       1.3155009 9.932485e-01 1.744381e+00\n",
       "weight                        0.9911413 9.849634e-01 9.972043e-01\n",
       "saps                          1.0833317 1.047576e+00 1.120777e+00\n",
       "sofa                          1.1741271 1.116359e+00 1.236045e+00\n",
       "elix_score                    1.0299848 1.007020e+00 1.053466e+00\n",
       "vent1                         1.3002652 7.700479e-01 2.197377e+00\n",
       "vaso1                         1.0263953 7.283564e-01 1.448777e+00\n",
       "icu_adm_weekday1              1.0023624 6.021658e-01 1.667502e+00\n",
       "icu_adm_weekday2              1.1356904 6.903748e-01 1.870279e+00\n",
       "icu_adm_weekday3              1.3367475 8.303903e-01 2.159916e+00\n",
       "icu_adm_weekday4              1.4628489 9.073215e-01 2.367458e+00\n",
       "icu_adm_weekday5              1.1814056 7.206250e-01 1.938886e+00\n",
       "icu_adm_weekday6              1.0526654 6.299132e-01 1.758175e+00\n",
       "icu_adm_hour1                 0.9738430 3.726314e-01 2.533722e+00\n",
       "icu_adm_hour2                 0.5117127 1.800978e-01 1.402480e+00\n",
       "icu_adm_hour3                 0.9491926 3.629636e-01 2.464495e+00\n",
       "icu_adm_hour4                 1.6148893 6.343262e-01 4.122391e+00\n",
       "icu_adm_hour5                 0.9213287 3.238243e-01 2.561095e+00\n",
       "icu_adm_hour6                 1.0416367 3.373520e-01 3.134368e+00\n",
       "icu_adm_hour7                 0.3729134 6.731947e-02 1.546686e+00\n",
       "icu_adm_hour8                 0.7658051 1.683104e-01 2.954008e+00\n",
       "icu_adm_hour9                 1.8657364 6.949236e-01 5.018097e+00\n",
       "icu_adm_hour10                0.6964474 2.221473e-01 2.070181e+00\n",
       "icu_adm_hour11                0.9697037 3.729183e-01 2.508255e+00\n",
       "icu_adm_hour12                1.1696928 4.768827e-01 2.863356e+00\n",
       "icu_adm_hour13                1.9000076 7.375246e-01 4.911419e+00\n",
       "icu_adm_hour14                1.6424404 6.907955e-01 3.930597e+00\n",
       "⋮                           ⋮           ⋮            ⋮           \n",
       "icu_adm_hour23              0.4994595   0.20789224   1.1956874   \n",
       "icd_chf1                    0.6653094   0.47109594   0.9364101   \n",
       "icd_afib1                   1.2363255   0.90976411   1.6783023   \n",
       "icd_renal1                  1.2548823   0.82180775   1.9108564   \n",
       "icd_liver1                  1.5339300   0.96022393   2.4516626   \n",
       "icd_copd1                   1.6557038   1.13212485   2.4164099   \n",
       "icd_cad1                    0.7192545   0.47029142   1.0883987   \n",
       "icd_stroke1                 1.4837158   0.83542230   2.5982011   \n",
       "icd_malignancy1             1.5422952   1.10074176   2.1602561   \n",
       "vs_temp_first               0.9044369   0.80577014   1.0064247   \n",
       "vs_map_first                0.9910962   0.98390297   0.9981330   \n",
       "vs_cvp_first                0.9968586   0.98911094   1.0032909   \n",
       "vs_heart_rate_first         1.0042757   0.99778669   1.0108035   \n",
       "lab_hemoglobin_first        0.9661252   0.90189988   1.0345820   \n",
       "lab_wbc_first               0.9959351   0.98442431   1.0073636   \n",
       "lab_lactate_first           1.1546305   1.07656304   1.2405242   \n",
       "lab_po2_first               0.9990638   0.99766347   1.0004476   \n",
       "lab_troponin_flag1          1.3879885   0.95466499   2.0282793   \n",
       "lab_potassium_first         1.1251876   0.97111164   1.3108097   \n",
       "lab_creatinine_kinase_flag1 0.9513235   0.64890530   1.3883358   \n",
       "lab_creatinine_first        0.7900400   0.68233661   0.9067630   \n",
       "lab_pco2_first              1.0019904   0.98294076   1.0215962   \n",
       "lab_bnp_flag1               1.9383955   0.99795216   3.6957122   \n",
       "lab_bicarbonate_first       1.0392079   0.98765711   1.0932839   \n",
       "lab_bun_first               1.0093973   1.00266546   1.0162524   \n",
       "lab_platelet_first          1.0004455   0.99934624   1.0015396   \n",
       "lab_sodium_first            0.9900017   0.94681320   1.0352480   \n",
       "lab_chloride_first          0.9897971   0.94985011   1.0312920   \n",
       "lab_ph_first                0.5135864   0.05281533   5.1578634   \n",
       "sedative1                   0.7843995   0.51959773   1.1873369   "
      ]
     },
     "metadata": {},
     "output_type": "display_data"
    }
   ],
   "source": [
    "unweighted <- glm(as.formula(fml), data = full_data, family = binomial, na.action = na.exclude)\n",
    "summary(unweighted)\n",
    "exp(cbind(OR = coef(unweighted), confint(unweighted)))"
   ]
  },
  {
   "cell_type": "code",
   "execution_count": 16,
   "metadata": {},
   "outputs": [
    {
     "data": {
      "text/html": [
       "'echo_int ~ age + gender + weight + saps + sofa + elix_score + vent + vaso + icu_adm_weekday + icu_adm_hour + icd_chf + icd_afib + icd_renal + icd_liver + icd_copd + icd_cad + icd_stroke + icd_malignancy + vs_temp_first + vs_map_first + vs_cvp_first + vs_heart_rate_first + lab_hemoglobin_first + lab_wbc_first + lab_lactate_first + lab_po2_first + lab_troponin_flag + lab_potassium_first + lab_creatinine_kinase_flag + lab_creatinine_first + lab_pco2_first + lab_bnp_flag + lab_bicarbonate_first + lab_bun_first + lab_platelet_first + lab_sodium_first + lab_chloride_first + lab_ph_first + sedative'"
      ],
      "text/latex": [
       "'echo\\_int \\textasciitilde{} age + gender + weight + saps + sofa + elix\\_score + vent + vaso + icu\\_adm\\_weekday + icu\\_adm\\_hour + icd\\_chf + icd\\_afib + icd\\_renal + icd\\_liver + icd\\_copd + icd\\_cad + icd\\_stroke + icd\\_malignancy + vs\\_temp\\_first + vs\\_map\\_first + vs\\_cvp\\_first + vs\\_heart\\_rate\\_first + lab\\_hemoglobin\\_first + lab\\_wbc\\_first + lab\\_lactate\\_first + lab\\_po2\\_first + lab\\_troponin\\_flag + lab\\_potassium\\_first + lab\\_creatinine\\_kinase\\_flag + lab\\_creatinine\\_first + lab\\_pco2\\_first + lab\\_bnp\\_flag + lab\\_bicarbonate\\_first + lab\\_bun\\_first + lab\\_platelet\\_first + lab\\_sodium\\_first + lab\\_chloride\\_first + lab\\_ph\\_first + sedative'"
      ],
      "text/markdown": [
       "'echo_int ~ age + gender + weight + saps + sofa + elix_score + vent + vaso + icu_adm_weekday + icu_adm_hour + icd_chf + icd_afib + icd_renal + icd_liver + icd_copd + icd_cad + icd_stroke + icd_malignancy + vs_temp_first + vs_map_first + vs_cvp_first + vs_heart_rate_first + lab_hemoglobin_first + lab_wbc_first + lab_lactate_first + lab_po2_first + lab_troponin_flag + lab_potassium_first + lab_creatinine_kinase_flag + lab_creatinine_first + lab_pco2_first + lab_bnp_flag + lab_bicarbonate_first + lab_bun_first + lab_platelet_first + lab_sodium_first + lab_chloride_first + lab_ph_first + sedative'"
      ],
      "text/plain": [
       "[1] \"echo_int ~ age + gender + weight + saps + sofa + elix_score + vent + vaso + icu_adm_weekday + icu_adm_hour + icd_chf + icd_afib + icd_renal + icd_liver + icd_copd + icd_cad + icd_stroke + icd_malignancy + vs_temp_first + vs_map_first + vs_cvp_first + vs_heart_rate_first + lab_hemoglobin_first + lab_wbc_first + lab_lactate_first + lab_po2_first + lab_troponin_flag + lab_potassium_first + lab_creatinine_kinase_flag + lab_creatinine_first + lab_pco2_first + lab_bnp_flag + lab_bicarbonate_first + lab_bun_first + lab_platelet_first + lab_sodium_first + lab_chloride_first + lab_ph_first + sedative\""
      ]
     },
     "metadata": {},
     "output_type": "display_data"
    }
   ],
   "source": [
    "fml <- feature_names %>%\n",
    "    paste(collapse = \" + \") %>%\n",
    "    sprintf(\"echo_int ~ %s\", .)\n",
    "fml"
   ]
  },
  {
   "cell_type": "code",
   "execution_count": 17,
   "metadata": {},
   "outputs": [],
   "source": [
    "echo_ps_ate <- ps(as.formula(fml),\n",
    "                  data = full_data,\n",
    "                  interaction.depth = 2,\n",
    "                  shrinkage = 0.01,\n",
    "                  perm.test.iters = 0,\n",
    "                  estimand = \"ATE\",\n",
    "                  verbose = FALSE,\n",
    "                  stop.method = c(\"es.mean\", \"es.max\", \"ks.mean\", \"ks.max\"),\n",
    "                  n.trees = 10000,\n",
    "                  train.fraction = 0.8,\n",
    "                  cv.folds = 3,\n",
    "                  n.cores = 8)"
   ]
  },
  {
   "cell_type": "code",
   "execution_count": 37,
   "metadata": {},
   "outputs": [
    {
     "data": {
      "text/html": [
       "0.818699111705702"
      ],
      "text/latex": [
       "0.818699111705702"
      ],
      "text/markdown": [
       "0.818699111705702"
      ],
      "text/plain": [
       "[1] 0.8186991"
      ]
     },
     "metadata": {},
     "output_type": "display_data"
    }
   ],
   "source": [
    "pred <- echo_ps_ate$ps$es.mean.ATE\n",
    "full_data <- full_data %>% mutate(ps = pred)\n",
    "ROCR::performance(ROCR::prediction(pred, label), \"auc\")@y.values %>% first"
   ]
  },
  {
   "cell_type": "code",
   "execution_count": 19,
   "metadata": {},
   "outputs": [],
   "source": [
    "ft_importance <- summary(echo_ps_ate$gbm.obj,\n",
    "                         n.trees = echo_ps_ate$desc$es.mean.ATE$n.trees,\n",
    "                         plot = FALSE)"
   ]
  },
  {
   "cell_type": "code",
   "execution_count": 20,
   "metadata": {},
   "outputs": [],
   "source": [
    "full_data <- full_data %>%\n",
    "    mutate(weight = get.weights(echo_ps_ate, stop.method = \"es.mean\"))"
   ]
  },
  {
   "cell_type": "code",
   "execution_count": 33,
   "metadata": {},
   "outputs": [
    {
     "name": "stderr",
     "output_type": "stream",
     "text": [
      "Warning message in eval(family$initialize):\n",
      "“non-integer #successes in a binomial glm!”"
     ]
    },
    {
     "data": {
      "text/plain": [
       "\n",
       "Call:\n",
       "glm(formula = mort_28_day_int ~ echo_int, family = binomial, \n",
       "    data = full_data, weights = full_data$weight)\n",
       "\n",
       "Deviance Residuals: \n",
       "    Min       1Q   Median       3Q      Max  \n",
       "-2.2760  -1.0703  -0.9453   1.7287   4.5574  \n",
       "\n",
       "Coefficients:\n",
       "            Estimate Std. Error z value Pr(>|z|)    \n",
       "(Intercept) -0.89603    0.02950 -30.375  < 2e-16 ***\n",
       "echo_int    -0.18066    0.04251  -4.249 2.14e-05 ***\n",
       "---\n",
       "Signif. codes:  0 ‘***’ 0.001 ‘**’ 0.01 ‘*’ 0.05 ‘.’ 0.1 ‘ ’ 1\n",
       "\n",
       "(Dispersion parameter for binomial family taken to be 1)\n",
       "\n",
       "    Null deviance: 13120  on 6161  degrees of freedom\n",
       "Residual deviance: 13102  on 6160  degrees of freedom\n",
       "AIC: 12757\n",
       "\n",
       "Number of Fisher Scoring iterations: 4\n"
      ]
     },
     "metadata": {},
     "output_type": "display_data"
    },
    {
     "name": "stderr",
     "output_type": "stream",
     "text": [
      "Waiting for profiling to be done...\n",
      "Warning message in eval(family$initialize):\n",
      "“non-integer #successes in a binomial glm!”Warning message in eval(family$initialize):\n",
      "“non-integer #successes in a binomial glm!”Warning message in eval(family$initialize):\n",
      "“non-integer #successes in a binomial glm!”Warning message in eval(family$initialize):\n",
      "“non-integer #successes in a binomial glm!”Warning message in eval(family$initialize):\n",
      "“non-integer #successes in a binomial glm!”Warning message in eval(family$initialize):\n",
      "“non-integer #successes in a binomial glm!”Warning message in eval(family$initialize):\n",
      "“non-integer #successes in a binomial glm!”Warning message in eval(family$initialize):\n",
      "“non-integer #successes in a binomial glm!”Warning message in eval(family$initialize):\n",
      "“non-integer #successes in a binomial glm!”Warning message in eval(family$initialize):\n",
      "“non-integer #successes in a binomial glm!”Warning message in eval(family$initialize):\n",
      "“non-integer #successes in a binomial glm!”Warning message in eval(family$initialize):\n",
      "“non-integer #successes in a binomial glm!”Warning message in eval(family$initialize):\n",
      "“non-integer #successes in a binomial glm!”Warning message in eval(family$initialize):\n",
      "“non-integer #successes in a binomial glm!”Warning message in eval(family$initialize):\n",
      "“non-integer #successes in a binomial glm!”Warning message in eval(family$initialize):\n",
      "“non-integer #successes in a binomial glm!”Warning message in eval(family$initialize):\n",
      "“non-integer #successes in a binomial glm!”Warning message in eval(family$initialize):\n",
      "“non-integer #successes in a binomial glm!”Warning message in eval(family$initialize):\n",
      "“non-integer #successes in a binomial glm!”Warning message in eval(family$initialize):\n",
      "“non-integer #successes in a binomial glm!”Warning message in eval(family$initialize):\n",
      "“non-integer #successes in a binomial glm!”Warning message in eval(family$initialize):\n",
      "“non-integer #successes in a binomial glm!”"
     ]
    },
    {
     "data": {
      "text/html": [
       "<table>\n",
       "<thead><tr><th></th><th scope=col>OR</th><th scope=col>2.5 %</th><th scope=col>97.5 %</th></tr></thead>\n",
       "<tbody>\n",
       "\t<tr><th scope=row>(Intercept)</th><td>0.4081856</td><td>0.3851623</td><td>0.4323822</td></tr>\n",
       "\t<tr><th scope=row>echo_int</th><td>0.8347150</td><td>0.7679424</td><td>0.9072201</td></tr>\n",
       "</tbody>\n",
       "</table>\n"
      ],
      "text/latex": [
       "\\begin{tabular}{r|lll}\n",
       "  & OR & 2.5 \\% & 97.5 \\%\\\\\n",
       "\\hline\n",
       "\t(Intercept) & 0.4081856 & 0.3851623 & 0.4323822\\\\\n",
       "\techo\\_int & 0.8347150 & 0.7679424 & 0.9072201\\\\\n",
       "\\end{tabular}\n"
      ],
      "text/markdown": [
       "\n",
       "| <!--/--> | OR | 2.5 % | 97.5 % | \n",
       "|---|---|\n",
       "| (Intercept) | 0.4081856 | 0.3851623 | 0.4323822 | \n",
       "| echo_int | 0.8347150 | 0.7679424 | 0.9072201 | \n",
       "\n",
       "\n"
      ],
      "text/plain": [
       "            OR        2.5 %     97.5 %   \n",
       "(Intercept) 0.4081856 0.3851623 0.4323822\n",
       "echo_int    0.8347150 0.7679424 0.9072201"
      ]
     },
     "metadata": {},
     "output_type": "display_data"
    }
   ],
   "source": [
    "primary_ipw <- glm(mort_28_day ~ echo, data = full_data,\n",
    "                   weights = full_data$weight, family = binomial)\n",
    "summary(primary_ipw)\n",
    "exp(cbind(OR = coef(primary_ipw), confint(primary_ipw)))"
   ]
  },
  {
   "cell_type": "code",
   "execution_count": 29,
   "metadata": {},
   "outputs": [],
   "source": [
    "design_echo_ps_ate <- svydesign(ids = ~ icustay_id, weights = ~ weight, data = full_data)\n",
    "# design_echo_ps_ate <- svydesign(ids = ~ icustay_id, data = full_data)"
   ]
  },
  {
   "cell_type": "code",
   "execution_count": 30,
   "metadata": {},
   "outputs": [
    {
     "data": {
      "text/html": [
       "'mort_28_day ~ echo + age + gender + weight + saps + sofa + elix_score + vent + vaso + icu_adm_weekday + icu_adm_hour + icd_chf + icd_afib + icd_renal + icd_liver + icd_copd + icd_cad + icd_stroke + icd_malignancy + vs_temp_first + vs_map_first + vs_cvp_first + vs_heart_rate_first + lab_hemoglobin_first + lab_wbc_first + lab_lactate_first + lab_po2_first + lab_troponin_flag + lab_potassium_first + lab_creatinine_kinase_flag + lab_creatinine_first + lab_pco2_first + lab_bnp_flag + lab_bicarbonate_first + lab_bun_first + lab_platelet_first + lab_sodium_first + lab_chloride_first + lab_ph_first + sedative'"
      ],
      "text/latex": [
       "'mort\\_28\\_day \\textasciitilde{} echo + age + gender + weight + saps + sofa + elix\\_score + vent + vaso + icu\\_adm\\_weekday + icu\\_adm\\_hour + icd\\_chf + icd\\_afib + icd\\_renal + icd\\_liver + icd\\_copd + icd\\_cad + icd\\_stroke + icd\\_malignancy + vs\\_temp\\_first + vs\\_map\\_first + vs\\_cvp\\_first + vs\\_heart\\_rate\\_first + lab\\_hemoglobin\\_first + lab\\_wbc\\_first + lab\\_lactate\\_first + lab\\_po2\\_first + lab\\_troponin\\_flag + lab\\_potassium\\_first + lab\\_creatinine\\_kinase\\_flag + lab\\_creatinine\\_first + lab\\_pco2\\_first + lab\\_bnp\\_flag + lab\\_bicarbonate\\_first + lab\\_bun\\_first + lab\\_platelet\\_first + lab\\_sodium\\_first + lab\\_chloride\\_first + lab\\_ph\\_first + sedative'"
      ],
      "text/markdown": [
       "'mort_28_day ~ echo + age + gender + weight + saps + sofa + elix_score + vent + vaso + icu_adm_weekday + icu_adm_hour + icd_chf + icd_afib + icd_renal + icd_liver + icd_copd + icd_cad + icd_stroke + icd_malignancy + vs_temp_first + vs_map_first + vs_cvp_first + vs_heart_rate_first + lab_hemoglobin_first + lab_wbc_first + lab_lactate_first + lab_po2_first + lab_troponin_flag + lab_potassium_first + lab_creatinine_kinase_flag + lab_creatinine_first + lab_pco2_first + lab_bnp_flag + lab_bicarbonate_first + lab_bun_first + lab_platelet_first + lab_sodium_first + lab_chloride_first + lab_ph_first + sedative'"
      ],
      "text/plain": [
       "[1] \"mort_28_day ~ echo + age + gender + weight + saps + sofa + elix_score + vent + vaso + icu_adm_weekday + icu_adm_hour + icd_chf + icd_afib + icd_renal + icd_liver + icd_copd + icd_cad + icd_stroke + icd_malignancy + vs_temp_first + vs_map_first + vs_cvp_first + vs_heart_rate_first + lab_hemoglobin_first + lab_wbc_first + lab_lactate_first + lab_po2_first + lab_troponin_flag + lab_potassium_first + lab_creatinine_kinase_flag + lab_creatinine_first + lab_pco2_first + lab_bnp_flag + lab_bicarbonate_first + lab_bun_first + lab_platelet_first + lab_sodium_first + lab_chloride_first + lab_ph_first + sedative\""
      ]
     },
     "metadata": {},
     "output_type": "display_data"
    }
   ],
   "source": [
    "fml <- feature_names %>%\n",
    "    c(label_name, .) %>%\n",
    "    paste(collapse = \" + \") %>%\n",
    "    sprintf(\"mort_28_day ~ %s\", .)\n",
    "fml"
   ]
  },
  {
   "cell_type": "code",
   "execution_count": 31,
   "metadata": {},
   "outputs": [],
   "source": [
    "logi <- svyglm(as.formula(fml),\n",
    "               family = quasibinomial,\n",
    "               design = design_echo_ps_ate)"
   ]
  },
  {
   "cell_type": "code",
   "execution_count": 32,
   "metadata": {},
   "outputs": [
    {
     "data": {
      "text/plain": [
       "\n",
       "Call:\n",
       "svyglm(formula = as.formula(fml), family = quasibinomial, design = design_echo_ps_ate)\n",
       "\n",
       "Survey design:\n",
       "svydesign(ids = ~icustay_id, weights = ~weight, data = full_data)\n",
       "\n",
       "Coefficients:\n",
       "                              Estimate Std. Error t value Pr(>|t|)    \n",
       "(Intercept)                  4.5996187  8.7311504   0.527 0.598403    \n",
       "echo1                        0.0212246  0.1674345   0.127 0.899144    \n",
       "age                          0.0052325  0.0012547   4.170 3.21e-05 ***\n",
       "gender1                      0.2145200  0.1479304   1.450 0.147219    \n",
       "weight                       0.2948927  0.0842661   3.500 0.000479 ***\n",
       "saps                         0.0842558  0.0177096   4.758 2.14e-06 ***\n",
       "sofa                         0.1669982  0.0254841   6.553 7.63e-11 ***\n",
       "elix_score                   0.0220320  0.0122159   1.804 0.071493 .  \n",
       "vent1                        0.4059016  0.2743435   1.480 0.139198    \n",
       "vaso1                        0.0230838  0.1774215   0.130 0.896498    \n",
       "icu_adm_weekday1            -0.1468197  0.2656118  -0.553 0.580506    \n",
       "icu_adm_weekday2             0.0094348  0.2577329   0.037 0.970803    \n",
       "icu_adm_weekday3             0.2216282  0.2499824   0.887 0.375444    \n",
       "icu_adm_weekday4             0.3225896  0.2452331   1.315 0.188554    \n",
       "icu_adm_weekday5             0.1112263  0.2682941   0.415 0.678515    \n",
       "icu_adm_weekday6             0.0107096  0.2643262   0.041 0.967686    \n",
       "icu_adm_hour1                0.0626076  0.4681969   0.134 0.893641    \n",
       "icu_adm_hour2               -0.8148716  0.4687548  -1.738 0.082341 .  \n",
       "icu_adm_hour3               -0.2369550  0.4929475  -0.481 0.630804    \n",
       "icu_adm_hour4                0.2399301  0.5611903   0.428 0.669046    \n",
       "icu_adm_hour5               -0.4069299  0.6090175  -0.668 0.504121    \n",
       "icu_adm_hour6                0.0528301  0.5435002   0.097 0.922577    \n",
       "icu_adm_hour7               -1.2522108  0.7696800  -1.627 0.103954    \n",
       "icu_adm_hour8               -0.3843059  0.6109578  -0.629 0.529426    \n",
       "icu_adm_hour9                0.6696197  0.4911088   1.363 0.172926    \n",
       "icu_adm_hour10              -0.4430565  0.5005797  -0.885 0.376246    \n",
       "icu_adm_hour11              -0.0085112  0.4544963  -0.019 0.985062    \n",
       "icu_adm_hour12               0.3988170  0.4240730   0.940 0.347135    \n",
       "icu_adm_hour13               0.7437613  0.4550194   1.635 0.102340    \n",
       "icu_adm_hour14               0.3491367  0.4198796   0.832 0.405809    \n",
       "icu_adm_hour15               0.3132978  0.3960242   0.791 0.429001    \n",
       "icu_adm_hour16               0.0458812  0.4160000   0.110 0.912192    \n",
       "icu_adm_hour17               0.0996155  0.4056480   0.246 0.806046    \n",
       "icu_adm_hour18              -0.0235798  0.3894197  -0.061 0.951724    \n",
       "icu_adm_hour19               0.1225905  0.3982705   0.308 0.758270    \n",
       "icu_adm_hour20               0.4554161  0.3673319   1.240 0.215237    \n",
       "icu_adm_hour21               0.5041239  0.3708854   1.359 0.174265    \n",
       "icu_adm_hour22               0.3121616  0.3695332   0.845 0.398382    \n",
       "icu_adm_hour23              -0.4577158  0.4163496  -1.099 0.271782    \n",
       "icd_chf1                    -0.4539639  0.1921606  -2.362 0.018278 *  \n",
       "icd_afib1                    0.1907169  0.1671092   1.141 0.253932    \n",
       "icd_renal1                   0.1649594  0.2271677   0.726 0.467851    \n",
       "icd_liver1                   0.5390719  0.2342034   2.302 0.021481 *  \n",
       "icd_copd1                    0.3851834  0.1960604   1.965 0.049635 *  \n",
       "icd_cad1                    -0.2687103  0.2164982  -1.241 0.214730    \n",
       "icd_stroke1                  0.4162316  0.3620327   1.150 0.250440    \n",
       "icd_malignancy1              0.6661646  0.1734279   3.841 0.000127 ***\n",
       "vs_temp_first               -0.0978187  0.0631001  -1.550 0.121292    \n",
       "vs_map_first                -0.0062778  0.0040475  -1.551 0.121098    \n",
       "vs_cvp_first                -0.0049582  0.0041773  -1.187 0.235437    \n",
       "vs_heart_rate_first          0.0014136  0.0034205   0.413 0.679471    \n",
       "lab_hemoglobin_first        -0.0583790  0.0339892  -1.718 0.086072 .  \n",
       "lab_wbc_first               -0.0041932  0.0057307  -0.732 0.464453    \n",
       "lab_lactate_first            0.1320814  0.0366042   3.608 0.000318 ***\n",
       "lab_po2_first               -0.0010338  0.0007902  -1.308 0.190945    \n",
       "lab_troponin_flag1           0.4065650  0.1934403   2.102 0.035734 *  \n",
       "lab_potassium_first          0.1116159  0.0752797   1.483 0.138360    \n",
       "lab_creatinine_kinase_flag1 -0.1874350  0.1928259  -0.972 0.331180    \n",
       "lab_creatinine_first        -0.2968241  0.0882220  -3.365 0.000785 ***\n",
       "lab_pco2_first               0.0012019  0.0089565   0.134 0.893264    \n",
       "lab_bnp_flag1                0.6760892  0.3040902   2.223 0.026337 *  \n",
       "lab_bicarbonate_first        0.0298510  0.0252449   1.182 0.237203    \n",
       "lab_bun_first                0.0104546  0.0039353   2.657 0.007973 ** \n",
       "lab_platelet_first           0.0005775  0.0005413   1.067 0.286175    \n",
       "lab_sodium_first             0.0026463  0.0244358   0.108 0.913774    \n",
       "lab_chloride_first          -0.0103570  0.0222486  -0.466 0.641630    \n",
       "lab_ph_first                -0.9286962  1.1556796  -0.804 0.421754    \n",
       "sedative1                   -0.2866784  0.2202897  -1.301 0.193323    \n",
       "---\n",
       "Signif. codes:  0 ‘***’ 0.001 ‘**’ 0.01 ‘*’ 0.05 ‘.’ 0.1 ‘ ’ 1\n",
       "\n",
       "(Dispersion parameter for quasibinomial family taken to be 1.024664)\n",
       "\n",
       "Number of Fisher Scoring iterations: 5\n"
      ]
     },
     "metadata": {},
     "output_type": "display_data"
    }
   ],
   "source": [
    "summary(logi)"
   ]
  },
  {
   "cell_type": "code",
   "execution_count": 26,
   "metadata": {},
   "outputs": [
    {
     "data": {
      "text/html": [
       "<table>\n",
       "<thead><tr><th></th><th scope=col>OR</th><th scope=col>2.5 %</th><th scope=col>97.5 %</th></tr></thead>\n",
       "<tbody>\n",
       "\t<tr><th scope=row>(Intercept)</th><td>3.0573831   </td><td>3.058608e-07</td><td>3.056158e+07</td></tr>\n",
       "\t<tr><th scope=row>echo1</th><td>0.9750123   </td><td>7.110889e-01</td><td>1.336892e+00</td></tr>\n",
       "\t<tr><th scope=row>age</th><td>1.0046244   </td><td>1.002240e+00</td><td>1.007015e+00</td></tr>\n",
       "\t<tr><th scope=row>gender1</th><td>1.2785241   </td><td>9.720531e-01</td><td>1.681620e+00</td></tr>\n",
       "\t<tr><th scope=row>weight</th><td>1.4078258   </td><td>1.188438e+00</td><td>1.667713e+00</td></tr>\n",
       "\t<tr><th scope=row>saps</th><td>1.0960500   </td><td>1.060787e+00</td><td>1.132485e+00</td></tr>\n",
       "\t<tr><th scope=row>sofa</th><td>1.1586300   </td><td>1.103863e+00</td><td>1.216114e+00</td></tr>\n",
       "\t<tr><th scope=row>elix_score</th><td>1.0270562   </td><td>1.004711e+00</td><td>1.049898e+00</td></tr>\n",
       "\t<tr><th scope=row>vent1</th><td>1.2510127   </td><td>7.506606e-01</td><td>2.084874e+00</td></tr>\n",
       "\t<tr><th scope=row>vaso1</th><td>1.0647191   </td><td>7.640665e-01</td><td>1.483675e+00</td></tr>\n",
       "\t<tr><th scope=row>icu_adm_weekday1</th><td>0.9059490   </td><td>5.579073e-01</td><td>1.471111e+00</td></tr>\n",
       "\t<tr><th scope=row>icu_adm_weekday2</th><td>0.9993571   </td><td>6.213400e-01</td><td>1.607356e+00</td></tr>\n",
       "\t<tr><th scope=row>icu_adm_weekday3</th><td>1.1756678   </td><td>7.481958e-01</td><td>1.847370e+00</td></tr>\n",
       "\t<tr><th scope=row>icu_adm_weekday4</th><td>1.2524781   </td><td>7.975700e-01</td><td>1.966851e+00</td></tr>\n",
       "\t<tr><th scope=row>icu_adm_weekday5</th><td>1.1220636   </td><td>6.955998e-01</td><td>1.809987e+00</td></tr>\n",
       "\t<tr><th scope=row>icu_adm_weekday6</th><td>1.0352059   </td><td>6.398737e-01</td><td>1.674786e+00</td></tr>\n",
       "\t<tr><th scope=row>icu_adm_hour1</th><td>0.8407394   </td><td>3.435618e-01</td><td>2.057396e+00</td></tr>\n",
       "\t<tr><th scope=row>icu_adm_hour2</th><td>0.4795716   </td><td>1.853446e-01</td><td>1.240872e+00</td></tr>\n",
       "\t<tr><th scope=row>icu_adm_hour3</th><td>0.9317235   </td><td>3.657521e-01</td><td>2.373489e+00</td></tr>\n",
       "\t<tr><th scope=row>icu_adm_hour4</th><td>1.4565677   </td><td>5.866079e-01</td><td>3.616708e+00</td></tr>\n",
       "\t<tr><th scope=row>icu_adm_hour5</th><td>0.7876871   </td><td>2.750107e-01</td><td>2.256098e+00</td></tr>\n",
       "\t<tr><th scope=row>icu_adm_hour6</th><td>1.0175817   </td><td>3.587565e-01</td><td>2.886283e+00</td></tr>\n",
       "\t<tr><th scope=row>icu_adm_hour7</th><td>0.2887160   </td><td>7.546980e-02</td><td>1.104507e+00</td></tr>\n",
       "\t<tr><th scope=row>icu_adm_hour8</th><td>0.7307295   </td><td>1.802538e-01</td><td>2.962299e+00</td></tr>\n",
       "\t<tr><th scope=row>icu_adm_hour9</th><td>1.8108746   </td><td>7.040738e-01</td><td>4.657561e+00</td></tr>\n",
       "\t<tr><th scope=row>icu_adm_hour10</th><td>0.7057535   </td><td>2.596402e-01</td><td>1.918378e+00</td></tr>\n",
       "\t<tr><th scope=row>icu_adm_hour11</th><td>0.8857079   </td><td>3.823023e-01</td><td>2.051985e+00</td></tr>\n",
       "\t<tr><th scope=row>icu_adm_hour12</th><td>0.9818361   </td><td>4.312244e-01</td><td>2.235500e+00</td></tr>\n",
       "\t<tr><th scope=row>icu_adm_hour13</th><td>2.0144465   </td><td>8.149223e-01</td><td>4.979609e+00</td></tr>\n",
       "\t<tr><th scope=row>icu_adm_hour14</th><td>1.4559866   </td><td>6.387049e-01</td><td>3.319056e+00</td></tr>\n",
       "\t<tr><th scope=row>⋮</th><td>⋮</td><td>⋮</td><td>⋮</td></tr>\n",
       "\t<tr><th scope=row>icu_adm_hour23</th><td>0.5042173 </td><td>0.22607323</td><td>1.1245697 </td></tr>\n",
       "\t<tr><th scope=row>icd_chf1</th><td>0.6828796 </td><td>0.48089609</td><td>0.9696992 </td></tr>\n",
       "\t<tr><th scope=row>icd_afib1</th><td>1.1128554 </td><td>0.81869375</td><td>1.5127112 </td></tr>\n",
       "\t<tr><th scope=row>icd_renal1</th><td>1.2898503 </td><td>0.85492022</td><td>1.9460456 </td></tr>\n",
       "\t<tr><th scope=row>icd_liver1</th><td>1.5986957 </td><td>1.02228306</td><td>2.5001178 </td></tr>\n",
       "\t<tr><th scope=row>icd_copd1</th><td>1.6302027 </td><td>1.13521241</td><td>2.3410251 </td></tr>\n",
       "\t<tr><th scope=row>icd_cad1</th><td>0.7888839 </td><td>0.52698195</td><td>1.1809471 </td></tr>\n",
       "\t<tr><th scope=row>icd_stroke1</th><td>1.4469656 </td><td>0.75998990</td><td>2.7549173 </td></tr>\n",
       "\t<tr><th scope=row>icd_malignancy1</th><td>1.7598569 </td><td>1.27620968</td><td>2.4267928 </td></tr>\n",
       "\t<tr><th scope=row>vs_temp_first</th><td>0.8757889 </td><td>0.78104695</td><td>0.9820232 </td></tr>\n",
       "\t<tr><th scope=row>vs_map_first</th><td>0.9915182 </td><td>0.98415661</td><td>0.9989348 </td></tr>\n",
       "\t<tr><th scope=row>vs_cvp_first</th><td>0.9979848 </td><td>0.99207448</td><td>1.0039303 </td></tr>\n",
       "\t<tr><th scope=row>vs_heart_rate_first</th><td>1.0019312 </td><td>0.99581316</td><td>1.0080868 </td></tr>\n",
       "\t<tr><th scope=row>lab_hemoglobin_first</th><td>0.9630910 </td><td>0.90469294</td><td>1.0252586 </td></tr>\n",
       "\t<tr><th scope=row>lab_wbc_first</th><td>0.9954445 </td><td>0.98476547</td><td>1.0062394 </td></tr>\n",
       "\t<tr><th scope=row>lab_lactate_first</th><td>1.1530065 </td><td>1.07848752</td><td>1.2326745 </td></tr>\n",
       "\t<tr><th scope=row>lab_po2_first</th><td>0.9990908 </td><td>0.99762022</td><td>1.0005635 </td></tr>\n",
       "\t<tr><th scope=row>lab_troponin_flag1</th><td>1.4752501 </td><td>1.03613019</td><td>2.1004723 </td></tr>\n",
       "\t<tr><th scope=row>lab_potassium_first</th><td>1.0921522 </td><td>0.95473914</td><td>1.2493428 </td></tr>\n",
       "\t<tr><th scope=row>lab_creatinine_kinase_flag1</th><td>0.8765712 </td><td>0.61537598</td><td>1.2486302 </td></tr>\n",
       "\t<tr><th scope=row>lab_creatinine_first</th><td>0.7690022 </td><td>0.65168869</td><td>0.9074339 </td></tr>\n",
       "\t<tr><th scope=row>lab_pco2_first</th><td>1.0054885 </td><td>0.98879931</td><td>1.0224595 </td></tr>\n",
       "\t<tr><th scope=row>lab_bnp_flag1</th><td>1.6959807 </td><td>0.93769071</td><td>3.0674833 </td></tr>\n",
       "\t<tr><th scope=row>lab_bicarbonate_first</th><td>1.0263392 </td><td>0.97883723</td><td>1.0761465 </td></tr>\n",
       "\t<tr><th scope=row>lab_bun_first</th><td>1.0093808 </td><td>1.00217298</td><td>1.0166404 </td></tr>\n",
       "\t<tr><th scope=row>lab_platelet_first</th><td>1.0003769 </td><td>0.99939417</td><td>1.0013605 </td></tr>\n",
       "\t<tr><th scope=row>lab_sodium_first</th><td>0.9944967 </td><td>0.95110401</td><td>1.0398691 </td></tr>\n",
       "\t<tr><th scope=row>lab_chloride_first</th><td>0.9939230 </td><td>0.95398771</td><td>1.0355301 </td></tr>\n",
       "\t<tr><th scope=row>lab_ph_first</th><td>0.8172712 </td><td>0.09594103</td><td>6.9619028 </td></tr>\n",
       "\t<tr><th scope=row>sedative1</th><td>0.7900609 </td><td>0.52648061</td><td>1.1856015 </td></tr>\n",
       "</tbody>\n",
       "</table>\n"
      ],
      "text/latex": [
       "\\begin{tabular}{r|lll}\n",
       "  & OR & 2.5 \\% & 97.5 \\%\\\\\n",
       "\\hline\n",
       "\t(Intercept) & 3.0573831    & 3.058608e-07 & 3.056158e+07\\\\\n",
       "\techo1 & 0.9750123    & 7.110889e-01 & 1.336892e+00\\\\\n",
       "\tage & 1.0046244    & 1.002240e+00 & 1.007015e+00\\\\\n",
       "\tgender1 & 1.2785241    & 9.720531e-01 & 1.681620e+00\\\\\n",
       "\tweight & 1.4078258    & 1.188438e+00 & 1.667713e+00\\\\\n",
       "\tsaps & 1.0960500    & 1.060787e+00 & 1.132485e+00\\\\\n",
       "\tsofa & 1.1586300    & 1.103863e+00 & 1.216114e+00\\\\\n",
       "\telix\\_score & 1.0270562    & 1.004711e+00 & 1.049898e+00\\\\\n",
       "\tvent1 & 1.2510127    & 7.506606e-01 & 2.084874e+00\\\\\n",
       "\tvaso1 & 1.0647191    & 7.640665e-01 & 1.483675e+00\\\\\n",
       "\ticu\\_adm\\_weekday1 & 0.9059490    & 5.579073e-01 & 1.471111e+00\\\\\n",
       "\ticu\\_adm\\_weekday2 & 0.9993571    & 6.213400e-01 & 1.607356e+00\\\\\n",
       "\ticu\\_adm\\_weekday3 & 1.1756678    & 7.481958e-01 & 1.847370e+00\\\\\n",
       "\ticu\\_adm\\_weekday4 & 1.2524781    & 7.975700e-01 & 1.966851e+00\\\\\n",
       "\ticu\\_adm\\_weekday5 & 1.1220636    & 6.955998e-01 & 1.809987e+00\\\\\n",
       "\ticu\\_adm\\_weekday6 & 1.0352059    & 6.398737e-01 & 1.674786e+00\\\\\n",
       "\ticu\\_adm\\_hour1 & 0.8407394    & 3.435618e-01 & 2.057396e+00\\\\\n",
       "\ticu\\_adm\\_hour2 & 0.4795716    & 1.853446e-01 & 1.240872e+00\\\\\n",
       "\ticu\\_adm\\_hour3 & 0.9317235    & 3.657521e-01 & 2.373489e+00\\\\\n",
       "\ticu\\_adm\\_hour4 & 1.4565677    & 5.866079e-01 & 3.616708e+00\\\\\n",
       "\ticu\\_adm\\_hour5 & 0.7876871    & 2.750107e-01 & 2.256098e+00\\\\\n",
       "\ticu\\_adm\\_hour6 & 1.0175817    & 3.587565e-01 & 2.886283e+00\\\\\n",
       "\ticu\\_adm\\_hour7 & 0.2887160    & 7.546980e-02 & 1.104507e+00\\\\\n",
       "\ticu\\_adm\\_hour8 & 0.7307295    & 1.802538e-01 & 2.962299e+00\\\\\n",
       "\ticu\\_adm\\_hour9 & 1.8108746    & 7.040738e-01 & 4.657561e+00\\\\\n",
       "\ticu\\_adm\\_hour10 & 0.7057535    & 2.596402e-01 & 1.918378e+00\\\\\n",
       "\ticu\\_adm\\_hour11 & 0.8857079    & 3.823023e-01 & 2.051985e+00\\\\\n",
       "\ticu\\_adm\\_hour12 & 0.9818361    & 4.312244e-01 & 2.235500e+00\\\\\n",
       "\ticu\\_adm\\_hour13 & 2.0144465    & 8.149223e-01 & 4.979609e+00\\\\\n",
       "\ticu\\_adm\\_hour14 & 1.4559866    & 6.387049e-01 & 3.319056e+00\\\\\n",
       "\t⋮ & ⋮ & ⋮ & ⋮\\\\\n",
       "\ticu\\_adm\\_hour23 & 0.5042173  & 0.22607323 & 1.1245697 \\\\\n",
       "\ticd\\_chf1 & 0.6828796  & 0.48089609 & 0.9696992 \\\\\n",
       "\ticd\\_afib1 & 1.1128554  & 0.81869375 & 1.5127112 \\\\\n",
       "\ticd\\_renal1 & 1.2898503  & 0.85492022 & 1.9460456 \\\\\n",
       "\ticd\\_liver1 & 1.5986957  & 1.02228306 & 2.5001178 \\\\\n",
       "\ticd\\_copd1 & 1.6302027  & 1.13521241 & 2.3410251 \\\\\n",
       "\ticd\\_cad1 & 0.7888839  & 0.52698195 & 1.1809471 \\\\\n",
       "\ticd\\_stroke1 & 1.4469656  & 0.75998990 & 2.7549173 \\\\\n",
       "\ticd\\_malignancy1 & 1.7598569  & 1.27620968 & 2.4267928 \\\\\n",
       "\tvs\\_temp\\_first & 0.8757889  & 0.78104695 & 0.9820232 \\\\\n",
       "\tvs\\_map\\_first & 0.9915182  & 0.98415661 & 0.9989348 \\\\\n",
       "\tvs\\_cvp\\_first & 0.9979848  & 0.99207448 & 1.0039303 \\\\\n",
       "\tvs\\_heart\\_rate\\_first & 1.0019312  & 0.99581316 & 1.0080868 \\\\\n",
       "\tlab\\_hemoglobin\\_first & 0.9630910  & 0.90469294 & 1.0252586 \\\\\n",
       "\tlab\\_wbc\\_first & 0.9954445  & 0.98476547 & 1.0062394 \\\\\n",
       "\tlab\\_lactate\\_first & 1.1530065  & 1.07848752 & 1.2326745 \\\\\n",
       "\tlab\\_po2\\_first & 0.9990908  & 0.99762022 & 1.0005635 \\\\\n",
       "\tlab\\_troponin\\_flag1 & 1.4752501  & 1.03613019 & 2.1004723 \\\\\n",
       "\tlab\\_potassium\\_first & 1.0921522  & 0.95473914 & 1.2493428 \\\\\n",
       "\tlab\\_creatinine\\_kinase\\_flag1 & 0.8765712  & 0.61537598 & 1.2486302 \\\\\n",
       "\tlab\\_creatinine\\_first & 0.7690022  & 0.65168869 & 0.9074339 \\\\\n",
       "\tlab\\_pco2\\_first & 1.0054885  & 0.98879931 & 1.0224595 \\\\\n",
       "\tlab\\_bnp\\_flag1 & 1.6959807  & 0.93769071 & 3.0674833 \\\\\n",
       "\tlab\\_bicarbonate\\_first & 1.0263392  & 0.97883723 & 1.0761465 \\\\\n",
       "\tlab\\_bun\\_first & 1.0093808  & 1.00217298 & 1.0166404 \\\\\n",
       "\tlab\\_platelet\\_first & 1.0003769  & 0.99939417 & 1.0013605 \\\\\n",
       "\tlab\\_sodium\\_first & 0.9944967  & 0.95110401 & 1.0398691 \\\\\n",
       "\tlab\\_chloride\\_first & 0.9939230  & 0.95398771 & 1.0355301 \\\\\n",
       "\tlab\\_ph\\_first & 0.8172712  & 0.09594103 & 6.9619028 \\\\\n",
       "\tsedative1 & 0.7900609  & 0.52648061 & 1.1856015 \\\\\n",
       "\\end{tabular}\n"
      ],
      "text/markdown": [
       "\n",
       "| <!--/--> | OR | 2.5 % | 97.5 % | \n",
       "|---|---|---|---|---|---|---|---|---|---|---|---|---|---|---|---|---|---|---|---|---|---|---|---|---|---|---|---|---|---|---|---|---|---|---|---|---|---|---|---|---|---|---|---|---|---|---|---|---|---|---|---|---|---|---|---|---|---|---|---|---|\n",
       "| (Intercept) | 3.0573831    | 3.058608e-07 | 3.056158e+07 | \n",
       "| echo1 | 0.9750123    | 7.110889e-01 | 1.336892e+00 | \n",
       "| age | 1.0046244    | 1.002240e+00 | 1.007015e+00 | \n",
       "| gender1 | 1.2785241    | 9.720531e-01 | 1.681620e+00 | \n",
       "| weight | 1.4078258    | 1.188438e+00 | 1.667713e+00 | \n",
       "| saps | 1.0960500    | 1.060787e+00 | 1.132485e+00 | \n",
       "| sofa | 1.1586300    | 1.103863e+00 | 1.216114e+00 | \n",
       "| elix_score | 1.0270562    | 1.004711e+00 | 1.049898e+00 | \n",
       "| vent1 | 1.2510127    | 7.506606e-01 | 2.084874e+00 | \n",
       "| vaso1 | 1.0647191    | 7.640665e-01 | 1.483675e+00 | \n",
       "| icu_adm_weekday1 | 0.9059490    | 5.579073e-01 | 1.471111e+00 | \n",
       "| icu_adm_weekday2 | 0.9993571    | 6.213400e-01 | 1.607356e+00 | \n",
       "| icu_adm_weekday3 | 1.1756678    | 7.481958e-01 | 1.847370e+00 | \n",
       "| icu_adm_weekday4 | 1.2524781    | 7.975700e-01 | 1.966851e+00 | \n",
       "| icu_adm_weekday5 | 1.1220636    | 6.955998e-01 | 1.809987e+00 | \n",
       "| icu_adm_weekday6 | 1.0352059    | 6.398737e-01 | 1.674786e+00 | \n",
       "| icu_adm_hour1 | 0.8407394    | 3.435618e-01 | 2.057396e+00 | \n",
       "| icu_adm_hour2 | 0.4795716    | 1.853446e-01 | 1.240872e+00 | \n",
       "| icu_adm_hour3 | 0.9317235    | 3.657521e-01 | 2.373489e+00 | \n",
       "| icu_adm_hour4 | 1.4565677    | 5.866079e-01 | 3.616708e+00 | \n",
       "| icu_adm_hour5 | 0.7876871    | 2.750107e-01 | 2.256098e+00 | \n",
       "| icu_adm_hour6 | 1.0175817    | 3.587565e-01 | 2.886283e+00 | \n",
       "| icu_adm_hour7 | 0.2887160    | 7.546980e-02 | 1.104507e+00 | \n",
       "| icu_adm_hour8 | 0.7307295    | 1.802538e-01 | 2.962299e+00 | \n",
       "| icu_adm_hour9 | 1.8108746    | 7.040738e-01 | 4.657561e+00 | \n",
       "| icu_adm_hour10 | 0.7057535    | 2.596402e-01 | 1.918378e+00 | \n",
       "| icu_adm_hour11 | 0.8857079    | 3.823023e-01 | 2.051985e+00 | \n",
       "| icu_adm_hour12 | 0.9818361    | 4.312244e-01 | 2.235500e+00 | \n",
       "| icu_adm_hour13 | 2.0144465    | 8.149223e-01 | 4.979609e+00 | \n",
       "| icu_adm_hour14 | 1.4559866    | 6.387049e-01 | 3.319056e+00 | \n",
       "| ⋮ | ⋮ | ⋮ | ⋮ | \n",
       "| icu_adm_hour23 | 0.5042173  | 0.22607323 | 1.1245697  | \n",
       "| icd_chf1 | 0.6828796  | 0.48089609 | 0.9696992  | \n",
       "| icd_afib1 | 1.1128554  | 0.81869375 | 1.5127112  | \n",
       "| icd_renal1 | 1.2898503  | 0.85492022 | 1.9460456  | \n",
       "| icd_liver1 | 1.5986957  | 1.02228306 | 2.5001178  | \n",
       "| icd_copd1 | 1.6302027  | 1.13521241 | 2.3410251  | \n",
       "| icd_cad1 | 0.7888839  | 0.52698195 | 1.1809471  | \n",
       "| icd_stroke1 | 1.4469656  | 0.75998990 | 2.7549173  | \n",
       "| icd_malignancy1 | 1.7598569  | 1.27620968 | 2.4267928  | \n",
       "| vs_temp_first | 0.8757889  | 0.78104695 | 0.9820232  | \n",
       "| vs_map_first | 0.9915182  | 0.98415661 | 0.9989348  | \n",
       "| vs_cvp_first | 0.9979848  | 0.99207448 | 1.0039303  | \n",
       "| vs_heart_rate_first | 1.0019312  | 0.99581316 | 1.0080868  | \n",
       "| lab_hemoglobin_first | 0.9630910  | 0.90469294 | 1.0252586  | \n",
       "| lab_wbc_first | 0.9954445  | 0.98476547 | 1.0062394  | \n",
       "| lab_lactate_first | 1.1530065  | 1.07848752 | 1.2326745  | \n",
       "| lab_po2_first | 0.9990908  | 0.99762022 | 1.0005635  | \n",
       "| lab_troponin_flag1 | 1.4752501  | 1.03613019 | 2.1004723  | \n",
       "| lab_potassium_first | 1.0921522  | 0.95473914 | 1.2493428  | \n",
       "| lab_creatinine_kinase_flag1 | 0.8765712  | 0.61537598 | 1.2486302  | \n",
       "| lab_creatinine_first | 0.7690022  | 0.65168869 | 0.9074339  | \n",
       "| lab_pco2_first | 1.0054885  | 0.98879931 | 1.0224595  | \n",
       "| lab_bnp_flag1 | 1.6959807  | 0.93769071 | 3.0674833  | \n",
       "| lab_bicarbonate_first | 1.0263392  | 0.97883723 | 1.0761465  | \n",
       "| lab_bun_first | 1.0093808  | 1.00217298 | 1.0166404  | \n",
       "| lab_platelet_first | 1.0003769  | 0.99939417 | 1.0013605  | \n",
       "| lab_sodium_first | 0.9944967  | 0.95110401 | 1.0398691  | \n",
       "| lab_chloride_first | 0.9939230  | 0.95398771 | 1.0355301  | \n",
       "| lab_ph_first | 0.8172712  | 0.09594103 | 6.9619028  | \n",
       "| sedative1 | 0.7900609  | 0.52648061 | 1.1856015  | \n",
       "\n",
       "\n"
      ],
      "text/plain": [
       "                            OR        2.5 %        97.5 %      \n",
       "(Intercept)                 3.0573831 3.058608e-07 3.056158e+07\n",
       "echo1                       0.9750123 7.110889e-01 1.336892e+00\n",
       "age                         1.0046244 1.002240e+00 1.007015e+00\n",
       "gender1                     1.2785241 9.720531e-01 1.681620e+00\n",
       "weight                      1.4078258 1.188438e+00 1.667713e+00\n",
       "saps                        1.0960500 1.060787e+00 1.132485e+00\n",
       "sofa                        1.1586300 1.103863e+00 1.216114e+00\n",
       "elix_score                  1.0270562 1.004711e+00 1.049898e+00\n",
       "vent1                       1.2510127 7.506606e-01 2.084874e+00\n",
       "vaso1                       1.0647191 7.640665e-01 1.483675e+00\n",
       "icu_adm_weekday1            0.9059490 5.579073e-01 1.471111e+00\n",
       "icu_adm_weekday2            0.9993571 6.213400e-01 1.607356e+00\n",
       "icu_adm_weekday3            1.1756678 7.481958e-01 1.847370e+00\n",
       "icu_adm_weekday4            1.2524781 7.975700e-01 1.966851e+00\n",
       "icu_adm_weekday5            1.1220636 6.955998e-01 1.809987e+00\n",
       "icu_adm_weekday6            1.0352059 6.398737e-01 1.674786e+00\n",
       "icu_adm_hour1               0.8407394 3.435618e-01 2.057396e+00\n",
       "icu_adm_hour2               0.4795716 1.853446e-01 1.240872e+00\n",
       "icu_adm_hour3               0.9317235 3.657521e-01 2.373489e+00\n",
       "icu_adm_hour4               1.4565677 5.866079e-01 3.616708e+00\n",
       "icu_adm_hour5               0.7876871 2.750107e-01 2.256098e+00\n",
       "icu_adm_hour6               1.0175817 3.587565e-01 2.886283e+00\n",
       "icu_adm_hour7               0.2887160 7.546980e-02 1.104507e+00\n",
       "icu_adm_hour8               0.7307295 1.802538e-01 2.962299e+00\n",
       "icu_adm_hour9               1.8108746 7.040738e-01 4.657561e+00\n",
       "icu_adm_hour10              0.7057535 2.596402e-01 1.918378e+00\n",
       "icu_adm_hour11              0.8857079 3.823023e-01 2.051985e+00\n",
       "icu_adm_hour12              0.9818361 4.312244e-01 2.235500e+00\n",
       "icu_adm_hour13              2.0144465 8.149223e-01 4.979609e+00\n",
       "icu_adm_hour14              1.4559866 6.387049e-01 3.319056e+00\n",
       "⋮                           ⋮         ⋮            ⋮           \n",
       "icu_adm_hour23              0.5042173 0.22607323   1.1245697   \n",
       "icd_chf1                    0.6828796 0.48089609   0.9696992   \n",
       "icd_afib1                   1.1128554 0.81869375   1.5127112   \n",
       "icd_renal1                  1.2898503 0.85492022   1.9460456   \n",
       "icd_liver1                  1.5986957 1.02228306   2.5001178   \n",
       "icd_copd1                   1.6302027 1.13521241   2.3410251   \n",
       "icd_cad1                    0.7888839 0.52698195   1.1809471   \n",
       "icd_stroke1                 1.4469656 0.75998990   2.7549173   \n",
       "icd_malignancy1             1.7598569 1.27620968   2.4267928   \n",
       "vs_temp_first               0.8757889 0.78104695   0.9820232   \n",
       "vs_map_first                0.9915182 0.98415661   0.9989348   \n",
       "vs_cvp_first                0.9979848 0.99207448   1.0039303   \n",
       "vs_heart_rate_first         1.0019312 0.99581316   1.0080868   \n",
       "lab_hemoglobin_first        0.9630910 0.90469294   1.0252586   \n",
       "lab_wbc_first               0.9954445 0.98476547   1.0062394   \n",
       "lab_lactate_first           1.1530065 1.07848752   1.2326745   \n",
       "lab_po2_first               0.9990908 0.99762022   1.0005635   \n",
       "lab_troponin_flag1          1.4752501 1.03613019   2.1004723   \n",
       "lab_potassium_first         1.0921522 0.95473914   1.2493428   \n",
       "lab_creatinine_kinase_flag1 0.8765712 0.61537598   1.2486302   \n",
       "lab_creatinine_first        0.7690022 0.65168869   0.9074339   \n",
       "lab_pco2_first              1.0054885 0.98879931   1.0224595   \n",
       "lab_bnp_flag1               1.6959807 0.93769071   3.0674833   \n",
       "lab_bicarbonate_first       1.0263392 0.97883723   1.0761465   \n",
       "lab_bun_first               1.0093808 1.00217298   1.0166404   \n",
       "lab_platelet_first          1.0003769 0.99939417   1.0013605   \n",
       "lab_sodium_first            0.9944967 0.95110401   1.0398691   \n",
       "lab_chloride_first          0.9939230 0.95398771   1.0355301   \n",
       "lab_ph_first                0.8172712 0.09594103   6.9619028   \n",
       "sedative1                   0.7900609 0.52648061   1.1856015   "
      ]
     },
     "metadata": {},
     "output_type": "display_data"
    }
   ],
   "source": [
    "exp(cbind(OR = coef(logi), confint(logi)))"
   ]
  },
  {
   "cell_type": "code",
   "execution_count": 38,
   "metadata": {},
   "outputs": [],
   "source": [
    "ps_matches <- Match(Y = NULL, Tr = full_data$echo_int, X = full_data$ps, M = 1,\n",
    "                    estimand = \"ATT\", caliper = 0.1,\n",
    "                    exact = FALSE, replace = FALSE)"
   ]
  },
  {
   "cell_type": "code",
   "execution_count": 39,
   "metadata": {},
   "outputs": [
    {
     "name": "stdout",
     "output_type": "stream",
     "text": [
      "\n",
      "Estimate...  0 \n",
      "SE.........  0 \n",
      "T-stat.....  NaN \n",
      "p.val......  NA \n",
      "\n",
      "Original number of observations..............  6162 \n",
      "Original number of treated obs...............  3063 \n",
      "Matched number of observations...............  1586 \n",
      "Matched number of observations  (unweighted).  1586 \n",
      "\n",
      "Number of obs dropped by 'exact' or 'caliper'  1477 \n",
      "\n"
     ]
    }
   ],
   "source": [
    "summary(ps_matches)"
   ]
  },
  {
   "cell_type": "code",
   "execution_count": 40,
   "metadata": {},
   "outputs": [
    {
     "data": {
      "text/plain": [
       "\n",
       "\tMcNemar's Chi-squared test with continuity correction\n",
       "\n",
       "data:  full_data$mort_28_day[ps_matches$index.treated] and full_data$mort_28_day[ps_matches$index.control]\n",
       "McNemar's chi-squared = 9.6418, df = 1, p-value = 0.001902\n"
      ]
     },
     "metadata": {},
     "output_type": "display_data"
    }
   ],
   "source": [
    "mcnemar.test(full_data$mort_28_day[ps_matches$index.treated], full_data$mort_28_day[ps_matches$index.control])"
   ]
  },
  {
   "cell_type": "code",
   "execution_count": 41,
   "metadata": {},
   "outputs": [
    {
     "data": {
      "text/plain": [
       "\n",
       "\tFisher's Exact Test for Count Data\n",
       "\n",
       "data:  full_data$mort_28_day[ps_matches$index.treated] and full_data$mort_28_day[ps_matches$index.control]\n",
       "p-value = 0.9494\n",
       "alternative hypothesis: true odds ratio is not equal to 1\n",
       "95 percent confidence interval:\n",
       " 0.7784374 1.3007697\n",
       "sample estimates:\n",
       "odds ratio \n",
       "  1.008019 \n"
      ]
     },
     "metadata": {},
     "output_type": "display_data"
    }
   ],
   "source": [
    "fisher.test(full_data$mort_28_day[ps_matches$index.treated], full_data$mort_28_day[ps_matches$index.control])"
   ]
  }
 ],
 "metadata": {
  "kernelspec": {
   "display_name": "R",
   "language": "R",
   "name": "ir"
  },
  "language_info": {
   "codemirror_mode": "r",
   "file_extension": ".r",
   "mimetype": "text/x-r-source",
   "name": "R",
   "pygments_lexer": "r",
   "version": "3.4.1"
  }
 },
 "nbformat": 4,
 "nbformat_minor": 2
}
