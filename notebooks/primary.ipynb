{
 "cells": [
  {
   "cell_type": "code",
   "execution_count": 1,
   "metadata": {},
   "outputs": [
    {
     "name": "stderr",
     "output_type": "stream",
     "text": [
      "Loading required package: DBI\n",
      "Loading required package: gbm\n",
      "Loading required package: survival\n",
      "Loading required package: lattice\n",
      "Loading required package: splines\n",
      "Loading required package: parallel\n",
      "Loaded gbm 2.1.3\n",
      "Loading required package: survey\n",
      "Loading required package: grid\n",
      "Loading required package: Matrix\n",
      "\n",
      "Attaching package: ‘survey’\n",
      "\n",
      "The following object is masked from ‘package:graphics’:\n",
      "\n",
      "    dotchart\n",
      "\n",
      "Loading required package: xtable\n",
      "Loading required package: latticeExtra\n",
      "Loading required package: RColorBrewer\n",
      "Loading required package: MASS\n",
      "## \n",
      "##  Matching (Version 4.9-2, Build Date: 2015-12-25)\n",
      "##  See http://sekhon.berkeley.edu/matching for additional documentation.\n",
      "##  Please cite software as:\n",
      "##   Jasjeet S. Sekhon. 2011. ``Multivariate and Propensity Score Matching\n",
      "##   Software with Automated Balance Optimization: The Matching package for R.''\n",
      "##   Journal of Statistical Software, 42(7): 1-52. \n",
      "##\n",
      "\n",
      "── Attaching packages ─────────────────────────────────────── tidyverse 1.2.1 ──\n",
      "✔ ggplot2 2.2.1     ✔ purrr   0.2.4\n",
      "✔ tibble  1.3.4     ✔ dplyr   0.7.4\n",
      "✔ tidyr   0.7.2     ✔ stringr 1.2.0\n",
      "✔ readr   1.1.1     ✔ forcats 0.2.0\n",
      "── Conflicts ────────────────────────────────────────── tidyverse_conflicts() ──\n",
      "✖ tidyr::expand()  masks Matrix::expand()\n",
      "✖ dplyr::filter()  masks stats::filter()\n",
      "✖ dplyr::lag()     masks stats::lag()\n",
      "✖ ggplot2::layer() masks latticeExtra::layer()\n",
      "✖ dplyr::select()  masks MASS::select()\n"
     ]
    }
   ],
   "source": [
    "library(RPostgreSQL)\n",
    "library(twang)\n",
    "library(Matching)\n",
    "library(tidyverse)"
   ]
  },
  {
   "cell_type": "code",
   "execution_count": 2,
   "metadata": {},
   "outputs": [],
   "source": [
    "data_dir <- file.path(\"..\", \"data\")\n",
    "sql_dir <- file.path(\"..\", \"sql\")"
   ]
  },
  {
   "cell_type": "code",
   "execution_count": 3,
   "metadata": {},
   "outputs": [
    {
     "data": {
      "text/plain": [
       "<PostgreSQLResult>"
      ]
     },
     "metadata": {},
     "output_type": "display_data"
    }
   ],
   "source": [
    "drv <- dbDriver(\"PostgreSQL\")\n",
    "con <- dbConnect(drv, dbname = \"mimic\")\n",
    "dbSendQuery(con, \"set search_path=echo,public,mimiciii;\")"
   ]
  },
  {
   "cell_type": "code",
   "execution_count": 4,
   "metadata": {},
   "outputs": [],
   "source": [
    "full_data <- dbGetQuery(con, \"select * from merged_data\")"
   ]
  },
  {
   "cell_type": "code",
   "execution_count": 5,
   "metadata": {},
   "outputs": [
    {
     "data": {
      "text/html": [
       "TRUE"
      ],
      "text/latex": [
       "TRUE"
      ],
      "text/markdown": [
       "TRUE"
      ],
      "text/plain": [
       "[1] TRUE"
      ]
     },
     "metadata": {},
     "output_type": "display_data"
    },
    {
     "data": {
      "text/html": [
       "TRUE"
      ],
      "text/latex": [
       "TRUE"
      ],
      "text/markdown": [
       "TRUE"
      ],
      "text/plain": [
       "[1] TRUE"
      ]
     },
     "metadata": {},
     "output_type": "display_data"
    }
   ],
   "source": [
    "dbDisconnect(con)\n",
    "dbUnloadDriver(drv)"
   ]
  },
  {
   "cell_type": "code",
   "execution_count": 6,
   "metadata": {},
   "outputs": [],
   "source": [
    "to_factor <- function(x) {\n",
    "    res <- (x %>% as.factor %>% as.integer) - 1\n",
    "    if(length(na.omit(unique(res))) <= 1) return(factor(res, levels = c(0, 1)))\n",
    "    return(factor(res))\n",
    "}"
   ]
  },
  {
   "cell_type": "code",
   "execution_count": 7,
   "metadata": {},
   "outputs": [
    {
     "data": {
      "text/html": [
       "<ol class=list-inline>\n",
       "\t<li>'icd_chf'</li>\n",
       "\t<li>'icd_afib'</li>\n",
       "\t<li>'icd_renal'</li>\n",
       "\t<li>'icd_liver'</li>\n",
       "\t<li>'icd_copd'</li>\n",
       "\t<li>'icd_cad'</li>\n",
       "\t<li>'icd_stroke'</li>\n",
       "\t<li>'icd_malignancy'</li>\n",
       "\t<li>'vs_temp_flag'</li>\n",
       "\t<li>'vs_map_flag'</li>\n",
       "\t<li>'vs_cvp_flag'</li>\n",
       "\t<li>'vs_heart_rate_flag'</li>\n",
       "\t<li>'lab_hemoglobin_flag'</li>\n",
       "\t<li>'lab_hemoglobin_abnormal'</li>\n",
       "\t<li>'lab_wbc_flag'</li>\n",
       "\t<li>'lab_wbc_abnormal'</li>\n",
       "\t<li>'lab_lactate_flag'</li>\n",
       "\t<li>'lab_lactate_abnormal'</li>\n",
       "\t<li>'lab_po2_flag'</li>\n",
       "\t<li>'lab_po2_abnormal'</li>\n",
       "\t<li>'lab_troponin_flag'</li>\n",
       "\t<li>'lab_troponin_abnormal'</li>\n",
       "\t<li>'lab_potassium_flag'</li>\n",
       "\t<li>'lab_potassium_abnormal'</li>\n",
       "\t<li>'lab_creatinine_kinase_flag'</li>\n",
       "\t<li>'lab_creatinine_kinase_abnormal'</li>\n",
       "\t<li>'lab_creatinine_flag'</li>\n",
       "\t<li>'lab_creatinine_abnormal'</li>\n",
       "\t<li>'lab_pco2_flag'</li>\n",
       "\t<li>'lab_pco2_abnormal'</li>\n",
       "\t<li>'lab_bnp_flag'</li>\n",
       "\t<li>'lab_bnp_abnormal'</li>\n",
       "\t<li>'lab_bicarbonate_flag'</li>\n",
       "\t<li>'lab_bicarbonate_abnormal'</li>\n",
       "\t<li>'lab_bun_flag'</li>\n",
       "\t<li>'lab_bun_abnormal'</li>\n",
       "\t<li>'lab_platelet_flag'</li>\n",
       "\t<li>'lab_platelet_abnormal'</li>\n",
       "\t<li>'lab_sodium_flag'</li>\n",
       "\t<li>'lab_sodium_abnormal'</li>\n",
       "\t<li>'lab_chloride_flag'</li>\n",
       "\t<li>'lab_chloride_abnormal'</li>\n",
       "\t<li>'lab_ph_flag'</li>\n",
       "\t<li>'lab_ph_abnormal'</li>\n",
       "\t<li>'sedative'</li>\n",
       "\t<li>'gender'</li>\n",
       "\t<li>'first_careunit'</li>\n",
       "\t<li>'echo'</li>\n",
       "\t<li>'vent'</li>\n",
       "\t<li>'vaso'</li>\n",
       "\t<li>'icu_adm_weekday'</li>\n",
       "\t<li>'icu_adm_hour'</li>\n",
       "\t<li>'mort_28_day'</li>\n",
       "</ol>\n"
      ],
      "text/latex": [
       "\\begin{enumerate*}\n",
       "\\item 'icd\\_chf'\n",
       "\\item 'icd\\_afib'\n",
       "\\item 'icd\\_renal'\n",
       "\\item 'icd\\_liver'\n",
       "\\item 'icd\\_copd'\n",
       "\\item 'icd\\_cad'\n",
       "\\item 'icd\\_stroke'\n",
       "\\item 'icd\\_malignancy'\n",
       "\\item 'vs\\_temp\\_flag'\n",
       "\\item 'vs\\_map\\_flag'\n",
       "\\item 'vs\\_cvp\\_flag'\n",
       "\\item 'vs\\_heart\\_rate\\_flag'\n",
       "\\item 'lab\\_hemoglobin\\_flag'\n",
       "\\item 'lab\\_hemoglobin\\_abnormal'\n",
       "\\item 'lab\\_wbc\\_flag'\n",
       "\\item 'lab\\_wbc\\_abnormal'\n",
       "\\item 'lab\\_lactate\\_flag'\n",
       "\\item 'lab\\_lactate\\_abnormal'\n",
       "\\item 'lab\\_po2\\_flag'\n",
       "\\item 'lab\\_po2\\_abnormal'\n",
       "\\item 'lab\\_troponin\\_flag'\n",
       "\\item 'lab\\_troponin\\_abnormal'\n",
       "\\item 'lab\\_potassium\\_flag'\n",
       "\\item 'lab\\_potassium\\_abnormal'\n",
       "\\item 'lab\\_creatinine\\_kinase\\_flag'\n",
       "\\item 'lab\\_creatinine\\_kinase\\_abnormal'\n",
       "\\item 'lab\\_creatinine\\_flag'\n",
       "\\item 'lab\\_creatinine\\_abnormal'\n",
       "\\item 'lab\\_pco2\\_flag'\n",
       "\\item 'lab\\_pco2\\_abnormal'\n",
       "\\item 'lab\\_bnp\\_flag'\n",
       "\\item 'lab\\_bnp\\_abnormal'\n",
       "\\item 'lab\\_bicarbonate\\_flag'\n",
       "\\item 'lab\\_bicarbonate\\_abnormal'\n",
       "\\item 'lab\\_bun\\_flag'\n",
       "\\item 'lab\\_bun\\_abnormal'\n",
       "\\item 'lab\\_platelet\\_flag'\n",
       "\\item 'lab\\_platelet\\_abnormal'\n",
       "\\item 'lab\\_sodium\\_flag'\n",
       "\\item 'lab\\_sodium\\_abnormal'\n",
       "\\item 'lab\\_chloride\\_flag'\n",
       "\\item 'lab\\_chloride\\_abnormal'\n",
       "\\item 'lab\\_ph\\_flag'\n",
       "\\item 'lab\\_ph\\_abnormal'\n",
       "\\item 'sedative'\n",
       "\\item 'gender'\n",
       "\\item 'first\\_careunit'\n",
       "\\item 'echo'\n",
       "\\item 'vent'\n",
       "\\item 'vaso'\n",
       "\\item 'icu\\_adm\\_weekday'\n",
       "\\item 'icu\\_adm\\_hour'\n",
       "\\item 'mort\\_28\\_day'\n",
       "\\end{enumerate*}\n"
      ],
      "text/markdown": [
       "1. 'icd_chf'\n",
       "2. 'icd_afib'\n",
       "3. 'icd_renal'\n",
       "4. 'icd_liver'\n",
       "5. 'icd_copd'\n",
       "6. 'icd_cad'\n",
       "7. 'icd_stroke'\n",
       "8. 'icd_malignancy'\n",
       "9. 'vs_temp_flag'\n",
       "10. 'vs_map_flag'\n",
       "11. 'vs_cvp_flag'\n",
       "12. 'vs_heart_rate_flag'\n",
       "13. 'lab_hemoglobin_flag'\n",
       "14. 'lab_hemoglobin_abnormal'\n",
       "15. 'lab_wbc_flag'\n",
       "16. 'lab_wbc_abnormal'\n",
       "17. 'lab_lactate_flag'\n",
       "18. 'lab_lactate_abnormal'\n",
       "19. 'lab_po2_flag'\n",
       "20. 'lab_po2_abnormal'\n",
       "21. 'lab_troponin_flag'\n",
       "22. 'lab_troponin_abnormal'\n",
       "23. 'lab_potassium_flag'\n",
       "24. 'lab_potassium_abnormal'\n",
       "25. 'lab_creatinine_kinase_flag'\n",
       "26. 'lab_creatinine_kinase_abnormal'\n",
       "27. 'lab_creatinine_flag'\n",
       "28. 'lab_creatinine_abnormal'\n",
       "29. 'lab_pco2_flag'\n",
       "30. 'lab_pco2_abnormal'\n",
       "31. 'lab_bnp_flag'\n",
       "32. 'lab_bnp_abnormal'\n",
       "33. 'lab_bicarbonate_flag'\n",
       "34. 'lab_bicarbonate_abnormal'\n",
       "35. 'lab_bun_flag'\n",
       "36. 'lab_bun_abnormal'\n",
       "37. 'lab_platelet_flag'\n",
       "38. 'lab_platelet_abnormal'\n",
       "39. 'lab_sodium_flag'\n",
       "40. 'lab_sodium_abnormal'\n",
       "41. 'lab_chloride_flag'\n",
       "42. 'lab_chloride_abnormal'\n",
       "43. 'lab_ph_flag'\n",
       "44. 'lab_ph_abnormal'\n",
       "45. 'sedative'\n",
       "46. 'gender'\n",
       "47. 'first_careunit'\n",
       "48. 'echo'\n",
       "49. 'vent'\n",
       "50. 'vaso'\n",
       "51. 'icu_adm_weekday'\n",
       "52. 'icu_adm_hour'\n",
       "53. 'mort_28_day'\n",
       "\n",
       "\n"
      ],
      "text/plain": [
       " [1] \"icd_chf\"                        \"icd_afib\"                      \n",
       " [3] \"icd_renal\"                      \"icd_liver\"                     \n",
       " [5] \"icd_copd\"                       \"icd_cad\"                       \n",
       " [7] \"icd_stroke\"                     \"icd_malignancy\"                \n",
       " [9] \"vs_temp_flag\"                   \"vs_map_flag\"                   \n",
       "[11] \"vs_cvp_flag\"                    \"vs_heart_rate_flag\"            \n",
       "[13] \"lab_hemoglobin_flag\"            \"lab_hemoglobin_abnormal\"       \n",
       "[15] \"lab_wbc_flag\"                   \"lab_wbc_abnormal\"              \n",
       "[17] \"lab_lactate_flag\"               \"lab_lactate_abnormal\"          \n",
       "[19] \"lab_po2_flag\"                   \"lab_po2_abnormal\"              \n",
       "[21] \"lab_troponin_flag\"              \"lab_troponin_abnormal\"         \n",
       "[23] \"lab_potassium_flag\"             \"lab_potassium_abnormal\"        \n",
       "[25] \"lab_creatinine_kinase_flag\"     \"lab_creatinine_kinase_abnormal\"\n",
       "[27] \"lab_creatinine_flag\"            \"lab_creatinine_abnormal\"       \n",
       "[29] \"lab_pco2_flag\"                  \"lab_pco2_abnormal\"             \n",
       "[31] \"lab_bnp_flag\"                   \"lab_bnp_abnormal\"              \n",
       "[33] \"lab_bicarbonate_flag\"           \"lab_bicarbonate_abnormal\"      \n",
       "[35] \"lab_bun_flag\"                   \"lab_bun_abnormal\"              \n",
       "[37] \"lab_platelet_flag\"              \"lab_platelet_abnormal\"         \n",
       "[39] \"lab_sodium_flag\"                \"lab_sodium_abnormal\"           \n",
       "[41] \"lab_chloride_flag\"              \"lab_chloride_abnormal\"         \n",
       "[43] \"lab_ph_flag\"                    \"lab_ph_abnormal\"               \n",
       "[45] \"sedative\"                       \"gender\"                        \n",
       "[47] \"first_careunit\"                 \"echo\"                          \n",
       "[49] \"vent\"                           \"vaso\"                          \n",
       "[51] \"icu_adm_weekday\"                \"icu_adm_hour\"                  \n",
       "[53] \"mort_28_day\"                   "
      ]
     },
     "metadata": {},
     "output_type": "display_data"
    }
   ],
   "source": [
    "factor_vars <- full_data %>%\n",
    "    names %>%\n",
    "    grep(\"flag|abnormal|icd|sedative\", ., value = TRUE) %>%\n",
    "    c(\"gender\", \"first_careunit\", \"echo\", \"vent\", \"vaso\",\n",
    "      \"icu_adm_weekday\", \"icu_adm_hour\", \"mort_28_day\")\n",
    "factor_vars"
   ]
  },
  {
   "cell_type": "code",
   "execution_count": 8,
   "metadata": {},
   "outputs": [
    {
     "data": {
      "text/html": [
       "<ol class=list-inline>\n",
       "\t<li>0</li>\n",
       "\t<li>0</li>\n",
       "\t<li>0</li>\n",
       "\t<li>1</li>\n",
       "\t<li>0</li>\n",
       "\t<li>0</li>\n",
       "</ol>\n"
      ],
      "text/latex": [
       "\\begin{enumerate*}\n",
       "\\item 0\n",
       "\\item 0\n",
       "\\item 0\n",
       "\\item 1\n",
       "\\item 0\n",
       "\\item 0\n",
       "\\end{enumerate*}\n"
      ],
      "text/markdown": [
       "1. 0\n",
       "2. 0\n",
       "3. 0\n",
       "4. 1\n",
       "5. 0\n",
       "6. 0\n",
       "\n",
       "\n"
      ],
      "text/plain": [
       "[1] 0 0 0 1 0 0\n",
       "Levels: 0 1"
      ]
     },
     "metadata": {},
     "output_type": "display_data"
    }
   ],
   "source": [
    "full_data <- full_data %>%\n",
    "    mutate(echo_int = as.integer(echo)) %>%\n",
    "    mutate(mort_28_day_int = as.integer(mort_28_day)) %>%\n",
    "    mutate_at(factor_vars, to_factor)\n",
    "full_data %>% pull(echo) %>% head"
   ]
  },
  {
   "cell_type": "code",
   "execution_count": 9,
   "metadata": {},
   "outputs": [
    {
     "data": {
      "text/html": [
       "<ol class=list-inline>\n",
       "\t<li>'age'</li>\n",
       "\t<li>'gender'</li>\n",
       "\t<li>'weight'</li>\n",
       "\t<li>'saps'</li>\n",
       "\t<li>'sofa'</li>\n",
       "\t<li>'elix_score'</li>\n",
       "\t<li>'vent'</li>\n",
       "\t<li>'vaso'</li>\n",
       "\t<li>'icu_adm_weekday'</li>\n",
       "\t<li>'icu_adm_hour'</li>\n",
       "\t<li>'icd_chf'</li>\n",
       "\t<li>'icd_afib'</li>\n",
       "\t<li>'icd_renal'</li>\n",
       "\t<li>'icd_liver'</li>\n",
       "\t<li>'icd_copd'</li>\n",
       "\t<li>'icd_cad'</li>\n",
       "\t<li>'icd_stroke'</li>\n",
       "\t<li>'icd_malignancy'</li>\n",
       "\t<li>'vs_temp_first'</li>\n",
       "\t<li>'vs_map_first'</li>\n",
       "\t<li>'vs_cvp_first'</li>\n",
       "\t<li>'vs_heart_rate_first'</li>\n",
       "\t<li>'lab_hemoglobin_first'</li>\n",
       "\t<li>'lab_wbc_first'</li>\n",
       "\t<li>'lab_lactate_first'</li>\n",
       "\t<li>'lab_po2_first'</li>\n",
       "\t<li>'lab_troponin_flag'</li>\n",
       "\t<li>'lab_potassium_first'</li>\n",
       "\t<li>'lab_creatinine_kinase_flag'</li>\n",
       "\t<li>'lab_creatinine_first'</li>\n",
       "\t<li>'lab_pco2_first'</li>\n",
       "\t<li>'lab_bnp_flag'</li>\n",
       "\t<li>'lab_bicarbonate_first'</li>\n",
       "\t<li>'lab_bun_first'</li>\n",
       "\t<li>'lab_platelet_first'</li>\n",
       "\t<li>'lab_sodium_first'</li>\n",
       "\t<li>'lab_chloride_first'</li>\n",
       "\t<li>'lab_ph_first'</li>\n",
       "\t<li>'sedative'</li>\n",
       "</ol>\n"
      ],
      "text/latex": [
       "\\begin{enumerate*}\n",
       "\\item 'age'\n",
       "\\item 'gender'\n",
       "\\item 'weight'\n",
       "\\item 'saps'\n",
       "\\item 'sofa'\n",
       "\\item 'elix\\_score'\n",
       "\\item 'vent'\n",
       "\\item 'vaso'\n",
       "\\item 'icu\\_adm\\_weekday'\n",
       "\\item 'icu\\_adm\\_hour'\n",
       "\\item 'icd\\_chf'\n",
       "\\item 'icd\\_afib'\n",
       "\\item 'icd\\_renal'\n",
       "\\item 'icd\\_liver'\n",
       "\\item 'icd\\_copd'\n",
       "\\item 'icd\\_cad'\n",
       "\\item 'icd\\_stroke'\n",
       "\\item 'icd\\_malignancy'\n",
       "\\item 'vs\\_temp\\_first'\n",
       "\\item 'vs\\_map\\_first'\n",
       "\\item 'vs\\_cvp\\_first'\n",
       "\\item 'vs\\_heart\\_rate\\_first'\n",
       "\\item 'lab\\_hemoglobin\\_first'\n",
       "\\item 'lab\\_wbc\\_first'\n",
       "\\item 'lab\\_lactate\\_first'\n",
       "\\item 'lab\\_po2\\_first'\n",
       "\\item 'lab\\_troponin\\_flag'\n",
       "\\item 'lab\\_potassium\\_first'\n",
       "\\item 'lab\\_creatinine\\_kinase\\_flag'\n",
       "\\item 'lab\\_creatinine\\_first'\n",
       "\\item 'lab\\_pco2\\_first'\n",
       "\\item 'lab\\_bnp\\_flag'\n",
       "\\item 'lab\\_bicarbonate\\_first'\n",
       "\\item 'lab\\_bun\\_first'\n",
       "\\item 'lab\\_platelet\\_first'\n",
       "\\item 'lab\\_sodium\\_first'\n",
       "\\item 'lab\\_chloride\\_first'\n",
       "\\item 'lab\\_ph\\_first'\n",
       "\\item 'sedative'\n",
       "\\end{enumerate*}\n"
      ],
      "text/markdown": [
       "1. 'age'\n",
       "2. 'gender'\n",
       "3. 'weight'\n",
       "4. 'saps'\n",
       "5. 'sofa'\n",
       "6. 'elix_score'\n",
       "7. 'vent'\n",
       "8. 'vaso'\n",
       "9. 'icu_adm_weekday'\n",
       "10. 'icu_adm_hour'\n",
       "11. 'icd_chf'\n",
       "12. 'icd_afib'\n",
       "13. 'icd_renal'\n",
       "14. 'icd_liver'\n",
       "15. 'icd_copd'\n",
       "16. 'icd_cad'\n",
       "17. 'icd_stroke'\n",
       "18. 'icd_malignancy'\n",
       "19. 'vs_temp_first'\n",
       "20. 'vs_map_first'\n",
       "21. 'vs_cvp_first'\n",
       "22. 'vs_heart_rate_first'\n",
       "23. 'lab_hemoglobin_first'\n",
       "24. 'lab_wbc_first'\n",
       "25. 'lab_lactate_first'\n",
       "26. 'lab_po2_first'\n",
       "27. 'lab_troponin_flag'\n",
       "28. 'lab_potassium_first'\n",
       "29. 'lab_creatinine_kinase_flag'\n",
       "30. 'lab_creatinine_first'\n",
       "31. 'lab_pco2_first'\n",
       "32. 'lab_bnp_flag'\n",
       "33. 'lab_bicarbonate_first'\n",
       "34. 'lab_bun_first'\n",
       "35. 'lab_platelet_first'\n",
       "36. 'lab_sodium_first'\n",
       "37. 'lab_chloride_first'\n",
       "38. 'lab_ph_first'\n",
       "39. 'sedative'\n",
       "\n",
       "\n"
      ],
      "text/plain": [
       " [1] \"age\"                        \"gender\"                    \n",
       " [3] \"weight\"                     \"saps\"                      \n",
       " [5] \"sofa\"                       \"elix_score\"                \n",
       " [7] \"vent\"                       \"vaso\"                      \n",
       " [9] \"icu_adm_weekday\"            \"icu_adm_hour\"              \n",
       "[11] \"icd_chf\"                    \"icd_afib\"                  \n",
       "[13] \"icd_renal\"                  \"icd_liver\"                 \n",
       "[15] \"icd_copd\"                   \"icd_cad\"                   \n",
       "[17] \"icd_stroke\"                 \"icd_malignancy\"            \n",
       "[19] \"vs_temp_first\"              \"vs_map_first\"              \n",
       "[21] \"vs_cvp_first\"               \"vs_heart_rate_first\"       \n",
       "[23] \"lab_hemoglobin_first\"       \"lab_wbc_first\"             \n",
       "[25] \"lab_lactate_first\"          \"lab_po2_first\"             \n",
       "[27] \"lab_troponin_flag\"          \"lab_potassium_first\"       \n",
       "[29] \"lab_creatinine_kinase_flag\" \"lab_creatinine_first\"      \n",
       "[31] \"lab_pco2_first\"             \"lab_bnp_flag\"              \n",
       "[33] \"lab_bicarbonate_first\"      \"lab_bun_first\"             \n",
       "[35] \"lab_platelet_first\"         \"lab_sodium_first\"          \n",
       "[37] \"lab_chloride_first\"         \"lab_ph_first\"              \n",
       "[39] \"sedative\"                  "
      ]
     },
     "metadata": {},
     "output_type": "display_data"
    },
    {
     "data": {
      "text/html": [
       "39"
      ],
      "text/latex": [
       "39"
      ],
      "text/markdown": [
       "39"
      ],
      "text/plain": [
       "[1] 39"
      ]
     },
     "metadata": {},
     "output_type": "display_data"
    }
   ],
   "source": [
    "feature_names <- full_data %>%\n",
    "    names %>%\n",
    "    keep(grepl(\"vs|lab|icd|age|gender|weight|saps|sofa|elix_score|vent|vaso|icu_adm|sedative\", .)) %>%\n",
    "    discard(grepl(\"vs|lab\", .) & grepl(\"flag\", .) & !grepl(\"bnp|troponin|kinase\", .)) %>%\n",
    "    discard(grepl(\"bnp|troponin|kinase\", .) & !grepl(\"flag\", .)) %>%\n",
    "    discard(grepl(\"min|max\", .)) %>%\n",
    "    discard(grepl(\"abnormal\", .))\n",
    "feature_names\n",
    "length(feature_names)"
   ]
  },
  {
   "cell_type": "code",
   "execution_count": 10,
   "metadata": {},
   "outputs": [
    {
     "data": {
      "text/html": [
       "<table>\n",
       "<thead><tr><th scope=col>age</th><th scope=col>gender</th><th scope=col>weight</th><th scope=col>saps</th><th scope=col>sofa</th><th scope=col>elix_score</th><th scope=col>vent</th><th scope=col>vaso</th><th scope=col>icu_adm_weekday</th><th scope=col>icu_adm_hour</th><th scope=col>⋯</th><th scope=col>lab_creatinine_first</th><th scope=col>lab_pco2_first</th><th scope=col>lab_bnp_flag</th><th scope=col>lab_bicarbonate_first</th><th scope=col>lab_bun_first</th><th scope=col>lab_platelet_first</th><th scope=col>lab_sodium_first</th><th scope=col>lab_chloride_first</th><th scope=col>lab_ph_first</th><th scope=col>sedative</th></tr></thead>\n",
       "<tbody>\n",
       "\t<tr><td>62.67646</td><td>1       </td><td>74.3    </td><td>25      </td><td>5       </td><td> 5      </td><td>1       </td><td>0       </td><td>2       </td><td>1       </td><td>⋯       </td><td>3.7     </td><td>32      </td><td>0       </td><td>22      </td><td>208     </td><td>313     </td><td>160     </td><td>123     </td><td>7.45    </td><td>1       </td></tr>\n",
       "\t<tr><td>86.76186</td><td>0       </td><td>  NA    </td><td>13      </td><td>1       </td><td>10      </td><td>0       </td><td>0       </td><td>4       </td><td>1       </td><td>⋯       </td><td>0.9     </td><td>NA      </td><td>0       </td><td>27      </td><td> 17     </td><td>189     </td><td>139     </td><td>105     </td><td>  NA    </td><td>0       </td></tr>\n",
       "\t<tr><td>56.08904</td><td>1       </td><td>65.0    </td><td>18      </td><td>5       </td><td>14      </td><td>1       </td><td>0       </td><td>6       </td><td>1       </td><td>⋯       </td><td>0.9     </td><td>32      </td><td>0       </td><td>24      </td><td> 15     </td><td>231     </td><td>144     </td><td>108     </td><td>7.49    </td><td>0       </td></tr>\n",
       "\t<tr><td>45.91093</td><td>1       </td><td>  NA    </td><td>16      </td><td>9       </td><td>13      </td><td>0       </td><td>0       </td><td>3       </td><td>14      </td><td>⋯       </td><td>0.8     </td><td>30      </td><td>0       </td><td>20      </td><td> 19     </td><td> 28     </td><td>134     </td><td>100     </td><td>7.44    </td><td>0       </td></tr>\n",
       "\t<tr><td>59.38693</td><td>1       </td><td>91.4    </td><td>13      </td><td>3       </td><td>22      </td><td>0       </td><td>0       </td><td>3       </td><td>14      </td><td>⋯       </td><td>0.7     </td><td>NA      </td><td>0       </td><td>26      </td><td>  7     </td><td> 40     </td><td>138     </td><td>103     </td><td>  NA    </td><td>0       </td></tr>\n",
       "\t<tr><td>91.50000</td><td>0       </td><td>55.0    </td><td>25      </td><td>5       </td><td> 0      </td><td>0       </td><td>0       </td><td>6       </td><td>20      </td><td>⋯       </td><td>0.8     </td><td>NA      </td><td>0       </td><td>20      </td><td> 19     </td><td>249     </td><td>147     </td><td>118     </td><td>  NA    </td><td>0       </td></tr>\n",
       "</tbody>\n",
       "</table>\n"
      ],
      "text/latex": [
       "\\begin{tabular}{r|lllllllllllllllllllllllllllllllllllllll}\n",
       " age & gender & weight & saps & sofa & elix\\_score & vent & vaso & icu\\_adm\\_weekday & icu\\_adm\\_hour & ⋯ & lab\\_creatinine\\_first & lab\\_pco2\\_first & lab\\_bnp\\_flag & lab\\_bicarbonate\\_first & lab\\_bun\\_first & lab\\_platelet\\_first & lab\\_sodium\\_first & lab\\_chloride\\_first & lab\\_ph\\_first & sedative\\\\\n",
       "\\hline\n",
       "\t 62.67646 & 1        & 74.3     & 25       & 5        &  5       & 1        & 0        & 2        & 1        & ⋯        & 3.7      & 32       & 0        & 22       & 208      & 313      & 160      & 123      & 7.45     & 1       \\\\\n",
       "\t 86.76186 & 0        &   NA     & 13       & 1        & 10       & 0        & 0        & 4        & 1        & ⋯        & 0.9      & NA       & 0        & 27       &  17      & 189      & 139      & 105      &   NA     & 0       \\\\\n",
       "\t 56.08904 & 1        & 65.0     & 18       & 5        & 14       & 1        & 0        & 6        & 1        & ⋯        & 0.9      & 32       & 0        & 24       &  15      & 231      & 144      & 108      & 7.49     & 0       \\\\\n",
       "\t 45.91093 & 1        &   NA     & 16       & 9        & 13       & 0        & 0        & 3        & 14       & ⋯        & 0.8      & 30       & 0        & 20       &  19      &  28      & 134      & 100      & 7.44     & 0       \\\\\n",
       "\t 59.38693 & 1        & 91.4     & 13       & 3        & 22       & 0        & 0        & 3        & 14       & ⋯        & 0.7      & NA       & 0        & 26       &   7      &  40      & 138      & 103      &   NA     & 0       \\\\\n",
       "\t 91.50000 & 0        & 55.0     & 25       & 5        &  0       & 0        & 0        & 6        & 20       & ⋯        & 0.8      & NA       & 0        & 20       &  19      & 249      & 147      & 118      &   NA     & 0       \\\\\n",
       "\\end{tabular}\n"
      ],
      "text/markdown": [
       "\n",
       "age | gender | weight | saps | sofa | elix_score | vent | vaso | icu_adm_weekday | icu_adm_hour | ⋯ | lab_creatinine_first | lab_pco2_first | lab_bnp_flag | lab_bicarbonate_first | lab_bun_first | lab_platelet_first | lab_sodium_first | lab_chloride_first | lab_ph_first | sedative | \n",
       "|---|---|---|---|---|---|\n",
       "| 62.67646 | 1        | 74.3     | 25       | 5        |  5       | 1        | 0        | 2        | 1        | ⋯        | 3.7      | 32       | 0        | 22       | 208      | 313      | 160      | 123      | 7.45     | 1        | \n",
       "| 86.76186 | 0        |   NA     | 13       | 1        | 10       | 0        | 0        | 4        | 1        | ⋯        | 0.9      | NA       | 0        | 27       |  17      | 189      | 139      | 105      |   NA     | 0        | \n",
       "| 56.08904 | 1        | 65.0     | 18       | 5        | 14       | 1        | 0        | 6        | 1        | ⋯        | 0.9      | 32       | 0        | 24       |  15      | 231      | 144      | 108      | 7.49     | 0        | \n",
       "| 45.91093 | 1        |   NA     | 16       | 9        | 13       | 0        | 0        | 3        | 14       | ⋯        | 0.8      | 30       | 0        | 20       |  19      |  28      | 134      | 100      | 7.44     | 0        | \n",
       "| 59.38693 | 1        | 91.4     | 13       | 3        | 22       | 0        | 0        | 3        | 14       | ⋯        | 0.7      | NA       | 0        | 26       |   7      |  40      | 138      | 103      |   NA     | 0        | \n",
       "| 91.50000 | 0        | 55.0     | 25       | 5        |  0       | 0        | 0        | 6        | 20       | ⋯        | 0.8      | NA       | 0        | 20       |  19      | 249      | 147      | 118      |   NA     | 0        | \n",
       "\n",
       "\n"
      ],
      "text/plain": [
       "  age      gender weight saps sofa elix_score vent vaso icu_adm_weekday\n",
       "1 62.67646 1      74.3   25   5     5         1    0    2              \n",
       "2 86.76186 0        NA   13   1    10         0    0    4              \n",
       "3 56.08904 1      65.0   18   5    14         1    0    6              \n",
       "4 45.91093 1        NA   16   9    13         0    0    3              \n",
       "5 59.38693 1      91.4   13   3    22         0    0    3              \n",
       "6 91.50000 0      55.0   25   5     0         0    0    6              \n",
       "  icu_adm_hour ⋯ lab_creatinine_first lab_pco2_first lab_bnp_flag\n",
       "1 1            ⋯ 3.7                  32             0           \n",
       "2 1            ⋯ 0.9                  NA             0           \n",
       "3 1            ⋯ 0.9                  32             0           \n",
       "4 14           ⋯ 0.8                  30             0           \n",
       "5 14           ⋯ 0.7                  NA             0           \n",
       "6 20           ⋯ 0.8                  NA             0           \n",
       "  lab_bicarbonate_first lab_bun_first lab_platelet_first lab_sodium_first\n",
       "1 22                    208           313                160             \n",
       "2 27                     17           189                139             \n",
       "3 24                     15           231                144             \n",
       "4 20                     19            28                134             \n",
       "5 26                      7            40                138             \n",
       "6 20                     19           249                147             \n",
       "  lab_chloride_first lab_ph_first sedative\n",
       "1 123                7.45         1       \n",
       "2 105                  NA         0       \n",
       "3 108                7.49         0       \n",
       "4 100                7.44         0       \n",
       "5 103                  NA         0       \n",
       "6 118                  NA         0       "
      ]
     },
     "metadata": {},
     "output_type": "display_data"
    }
   ],
   "source": [
    "features <- full_data %>%\n",
    "    select(!!!rlang::syms(feature_names))\n",
    "head(features)"
   ]
  },
  {
   "cell_type": "code",
   "execution_count": 11,
   "metadata": {},
   "outputs": [],
   "source": [
    "label_name <- \"echo\""
   ]
  },
  {
   "cell_type": "code",
   "execution_count": 12,
   "metadata": {},
   "outputs": [
    {
     "data": {
      "text/html": [
       "<ol class=list-inline>\n",
       "\t<li>0</li>\n",
       "\t<li>0</li>\n",
       "\t<li>0</li>\n",
       "\t<li>1</li>\n",
       "\t<li>0</li>\n",
       "\t<li>0</li>\n",
       "</ol>\n"
      ],
      "text/latex": [
       "\\begin{enumerate*}\n",
       "\\item 0\n",
       "\\item 0\n",
       "\\item 0\n",
       "\\item 1\n",
       "\\item 0\n",
       "\\item 0\n",
       "\\end{enumerate*}\n"
      ],
      "text/markdown": [
       "1. 0\n",
       "2. 0\n",
       "3. 0\n",
       "4. 1\n",
       "5. 0\n",
       "6. 0\n",
       "\n",
       "\n"
      ],
      "text/plain": [
       "[1] 0 0 0 1 0 0\n",
       "Levels: 0 1"
      ]
     },
     "metadata": {},
     "output_type": "display_data"
    }
   ],
   "source": [
    "label <- full_data %>% pull(echo)\n",
    "head(label)"
   ]
  },
  {
   "cell_type": "code",
   "execution_count": 13,
   "metadata": {},
   "outputs": [
    {
     "data": {
      "text/html": [
       "'mort_28_day ~ echo + age + gender + weight + saps + sofa + elix_score + vent + vaso + icu_adm_weekday + icu_adm_hour + icd_chf + icd_afib + icd_renal + icd_liver + icd_copd + icd_cad + icd_stroke + icd_malignancy + vs_temp_first + vs_map_first + vs_cvp_first + vs_heart_rate_first + lab_hemoglobin_first + lab_wbc_first + lab_lactate_first + lab_po2_first + lab_troponin_flag + lab_potassium_first + lab_creatinine_kinase_flag + lab_creatinine_first + lab_pco2_first + lab_bnp_flag + lab_bicarbonate_first + lab_bun_first + lab_platelet_first + lab_sodium_first + lab_chloride_first + lab_ph_first + sedative'"
      ],
      "text/latex": [
       "'mort\\_28\\_day \\textasciitilde{} echo + age + gender + weight + saps + sofa + elix\\_score + vent + vaso + icu\\_adm\\_weekday + icu\\_adm\\_hour + icd\\_chf + icd\\_afib + icd\\_renal + icd\\_liver + icd\\_copd + icd\\_cad + icd\\_stroke + icd\\_malignancy + vs\\_temp\\_first + vs\\_map\\_first + vs\\_cvp\\_first + vs\\_heart\\_rate\\_first + lab\\_hemoglobin\\_first + lab\\_wbc\\_first + lab\\_lactate\\_first + lab\\_po2\\_first + lab\\_troponin\\_flag + lab\\_potassium\\_first + lab\\_creatinine\\_kinase\\_flag + lab\\_creatinine\\_first + lab\\_pco2\\_first + lab\\_bnp\\_flag + lab\\_bicarbonate\\_first + lab\\_bun\\_first + lab\\_platelet\\_first + lab\\_sodium\\_first + lab\\_chloride\\_first + lab\\_ph\\_first + sedative'"
      ],
      "text/markdown": [
       "'mort_28_day ~ echo + age + gender + weight + saps + sofa + elix_score + vent + vaso + icu_adm_weekday + icu_adm_hour + icd_chf + icd_afib + icd_renal + icd_liver + icd_copd + icd_cad + icd_stroke + icd_malignancy + vs_temp_first + vs_map_first + vs_cvp_first + vs_heart_rate_first + lab_hemoglobin_first + lab_wbc_first + lab_lactate_first + lab_po2_first + lab_troponin_flag + lab_potassium_first + lab_creatinine_kinase_flag + lab_creatinine_first + lab_pco2_first + lab_bnp_flag + lab_bicarbonate_first + lab_bun_first + lab_platelet_first + lab_sodium_first + lab_chloride_first + lab_ph_first + sedative'"
      ],
      "text/plain": [
       "[1] \"mort_28_day ~ echo + age + gender + weight + saps + sofa + elix_score + vent + vaso + icu_adm_weekday + icu_adm_hour + icd_chf + icd_afib + icd_renal + icd_liver + icd_copd + icd_cad + icd_stroke + icd_malignancy + vs_temp_first + vs_map_first + vs_cvp_first + vs_heart_rate_first + lab_hemoglobin_first + lab_wbc_first + lab_lactate_first + lab_po2_first + lab_troponin_flag + lab_potassium_first + lab_creatinine_kinase_flag + lab_creatinine_first + lab_pco2_first + lab_bnp_flag + lab_bicarbonate_first + lab_bun_first + lab_platelet_first + lab_sodium_first + lab_chloride_first + lab_ph_first + sedative\""
      ]
     },
     "metadata": {},
     "output_type": "display_data"
    }
   ],
   "source": [
    "fml <- feature_names %>%\n",
    "    c(\"echo\", .) %>%\n",
    "    paste(collapse = \" + \") %>%\n",
    "    sprintf(\"mort_28_day ~ %s\", .)\n",
    "fml"
   ]
  },
  {
   "cell_type": "code",
   "execution_count": 14,
   "metadata": {},
   "outputs": [
    {
     "data": {
      "text/plain": [
       "\n",
       "Call:\n",
       "glm(formula = as.formula(fml), family = binomial, data = full_data, \n",
       "    na.action = na.exclude)\n",
       "\n",
       "Deviance Residuals: \n",
       "    Min       1Q   Median       3Q      Max  \n",
       "-2.1290  -0.7409  -0.4071   0.7412   2.8934  \n",
       "\n",
       "Coefficients:\n",
       "                              Estimate Std. Error z value Pr(>|z|)    \n",
       "(Intercept)                  8.0292101  8.8014207   0.912 0.361630    \n",
       "echo1                       -0.2997508  0.1489331  -2.013 0.044151 *  \n",
       "age                          0.0236840  0.0055781   4.246 2.18e-05 ***\n",
       "gender1                      0.2650460  0.1437079   1.844 0.065134 .  \n",
       "weight                      -0.0080925  0.0031706  -2.552 0.010700 *  \n",
       "saps                         0.0644435  0.0178807   3.604 0.000313 ***\n",
       "sofa                         0.1710792  0.0263237   6.499 8.08e-11 ***\n",
       "elix_score                   0.0294234  0.0115854   2.540 0.011095 *  \n",
       "vent1                        0.3261491  0.2672729   1.220 0.222357    \n",
       "vaso1                       -0.0005724  0.1759167  -0.003 0.997404    \n",
       "icu_adm_weekday1            -0.0135689  0.2601697  -0.052 0.958406    \n",
       "icu_adm_weekday2             0.1349401  0.2539891   0.531 0.595223    \n",
       "icu_adm_weekday3             0.3441251  0.2441115   1.410 0.158627    \n",
       "icu_adm_weekday4             0.3405710  0.2447985   1.391 0.164156    \n",
       "icu_adm_weekday5             0.1399763  0.2529418   0.553 0.579994    \n",
       "icu_adm_weekday6             0.0036649  0.2629919   0.014 0.988881    \n",
       "icu_adm_hour1                0.0305026  0.4883502   0.062 0.950196    \n",
       "icu_adm_hour2               -0.6286947  0.5235339  -1.201 0.229803    \n",
       "icu_adm_hour3               -0.0836238  0.4853719  -0.172 0.863211    \n",
       "icu_adm_hour4                0.4706733  0.4759826   0.989 0.322739    \n",
       "icu_adm_hour5               -0.0039587  0.5197779  -0.008 0.993923    \n",
       "icu_adm_hour6               -0.0011361  0.5705244  -0.002 0.998411    \n",
       "icu_adm_hour7               -0.9746636  0.7757414  -1.256 0.208961    \n",
       "icu_adm_hour8               -0.3042363  0.7126332  -0.427 0.669439    \n",
       "icu_adm_hour9                0.6546044  0.5055429   1.295 0.195371    \n",
       "icu_adm_hour10              -0.4204639  0.5650301  -0.744 0.456789    \n",
       "icu_adm_hour11              -0.0617649  0.4817072  -0.128 0.897974    \n",
       "icu_adm_hour12               0.1475416  0.4556036   0.324 0.746061    \n",
       "icu_adm_hour13               0.6090263  0.4807233   1.267 0.205193    \n",
       "icu_adm_hour14               0.4431759  0.4414307   1.004 0.315401    \n",
       "icu_adm_hour15               0.2118953  0.4296202   0.493 0.621860    \n",
       "icu_adm_hour16               0.0029817  0.4126465   0.007 0.994235    \n",
       "icu_adm_hour17              -0.1414940  0.4294612  -0.329 0.741801    \n",
       "icu_adm_hour18              -0.0118797  0.4174912  -0.028 0.977299    \n",
       "icu_adm_hour19               0.2721243  0.4095651   0.664 0.506420    \n",
       "icu_adm_hour20               0.5757456  0.3975792   1.448 0.147581    \n",
       "icu_adm_hour21               0.5248683  0.3937203   1.333 0.182499    \n",
       "icu_adm_hour22               0.3968083  0.3925180   1.011 0.312050    \n",
       "icu_adm_hour23              -0.6899721  0.4438233  -1.555 0.120039    \n",
       "icd_chf1                    -0.4611450  0.1761684  -2.618 0.008854 ** \n",
       "icd_afib1                    0.1273431  0.1578072   0.807 0.419693    \n",
       "icd_renal1                   0.2007621  0.2153615   0.932 0.351228    \n",
       "icd_liver1                   0.5104188  0.2421154   2.108 0.035017 *  \n",
       "icd_copd1                    0.4003057  0.1943778   2.059 0.039454 *  \n",
       "icd_cad1                    -0.3728249  0.2133326  -1.748 0.080529 .  \n",
       "icd_stroke1                  0.4529068  0.2872578   1.577 0.114875    \n",
       "icd_malignancy1              0.3681863  0.1727119   2.132 0.033024 *  \n",
       "vs_temp_first               -0.1009663  0.0584096  -1.729 0.083882 .  \n",
       "vs_map_first                -0.0088717  0.0036717  -2.416 0.015683 *  \n",
       "vs_cvp_first                -0.0032914  0.0035209  -0.935 0.349889    \n",
       "vs_heart_rate_first          0.0061424  0.0033501   1.833 0.066728 .  \n",
       "lab_hemoglobin_first        -0.0424780  0.0352075  -1.207 0.227622    \n",
       "lab_wbc_first               -0.0049489  0.0058757  -0.842 0.399636    \n",
       "lab_lactate_first            0.1368390  0.0363466   3.765 0.000167 ***\n",
       "lab_po2_first               -0.0010267  0.0007125  -1.441 0.149568    \n",
       "lab_troponin_flag1           0.2987794  0.1929276   1.549 0.121463    \n",
       "lab_potassium_first          0.1266123  0.0753036   1.681 0.092693 .  \n",
       "lab_creatinine_kinase_flag1 -0.0575453  0.1944888  -0.296 0.767322    \n",
       "lab_creatinine_first        -0.2202689  0.0729422  -3.020 0.002530 ** \n",
       "lab_pco2_first              -0.0005008  0.0098187  -0.051 0.959325    \n",
       "lab_bnp_flag1                0.6013839  0.3340975   1.800 0.071857 .  \n",
       "lab_bicarbonate_first        0.0416407  0.0259978   1.602 0.109222    \n",
       "lab_bun_first                0.0085595  0.0034427   2.486 0.012910 *  \n",
       "lab_platelet_first           0.0004541  0.0005601   0.811 0.417491    \n",
       "lab_sodium_first            -0.0109566  0.0228685  -0.479 0.631859    \n",
       "lab_chloride_first          -0.0123316  0.0211088  -0.584 0.559091    \n",
       "lab_ph_first                -1.1128124  1.1770249  -0.945 0.344432    \n",
       "sedative1                   -0.2258616  0.2101492  -1.075 0.282479    \n",
       "---\n",
       "Signif. codes:  0 ‘***’ 0.001 ‘**’ 0.01 ‘*’ 0.05 ‘.’ 0.1 ‘ ’ 1\n",
       "\n",
       "(Dispersion parameter for binomial family taken to be 1)\n",
       "\n",
       "    Null deviance: 1933.8  on 1533  degrees of freedom\n",
       "Residual deviance: 1440.2  on 1466  degrees of freedom\n",
       "  (4628 observations deleted due to missingness)\n",
       "AIC: 1576.2\n",
       "\n",
       "Number of Fisher Scoring iterations: 5\n"
      ]
     },
     "metadata": {},
     "output_type": "display_data"
    },
    {
     "name": "stderr",
     "output_type": "stream",
     "text": [
      "Waiting for profiling to be done...\n"
     ]
    },
    {
     "data": {
      "text/html": [
       "<table>\n",
       "<thead><tr><th></th><th scope=col>OR</th><th scope=col>2.5 %</th><th scope=col>97.5 %</th></tr></thead>\n",
       "<tbody>\n",
       "\t<tr><th scope=row>(Intercept)</th><td>3069.3164090</td><td>8.857674e-05</td><td>8.810246e+10</td></tr>\n",
       "\t<tr><th scope=row>echo1</th><td>   0.7410029</td><td>5.531550e-01</td><td>9.921324e-01</td></tr>\n",
       "\t<tr><th scope=row>age</th><td>   1.0239666</td><td>1.012943e+00</td><td>1.035356e+00</td></tr>\n",
       "\t<tr><th scope=row>gender1</th><td>   1.3034909</td><td>9.838856e-01</td><td>1.728837e+00</td></tr>\n",
       "\t<tr><th scope=row>weight</th><td>   0.9919402</td><td>9.857158e-01</td><td>9.980566e-01</td></tr>\n",
       "\t<tr><th scope=row>saps</th><td>   1.0665653</td><td>1.029964e+00</td><td>1.104811e+00</td></tr>\n",
       "\t<tr><th scope=row>sofa</th><td>   1.1865847</td><td>1.127441e+00</td><td>1.250096e+00</td></tr>\n",
       "\t<tr><th scope=row>elix_score</th><td>   1.0298605</td><td>1.006712e+00</td><td>1.053527e+00</td></tr>\n",
       "\t<tr><th scope=row>vent1</th><td>   1.3856219</td><td>8.204168e-01</td><td>2.341405e+00</td></tr>\n",
       "\t<tr><th scope=row>vaso1</th><td>   0.9994278</td><td>7.082327e-01</td><td>1.412287e+00</td></tr>\n",
       "\t<tr><th scope=row>icu_adm_weekday1</th><td>   0.9865227</td><td>5.918797e-01</td><td>1.643111e+00</td></tr>\n",
       "\t<tr><th scope=row>icu_adm_weekday2</th><td>   1.1444682</td><td>6.957010e-01</td><td>1.884990e+00</td></tr>\n",
       "\t<tr><th scope=row>icu_adm_weekday3</th><td>   1.4107551</td><td>8.757096e-01</td><td>2.282242e+00</td></tr>\n",
       "\t<tr><th scope=row>icu_adm_weekday4</th><td>   1.4057500</td><td>8.711608e-01</td><td>2.276528e+00</td></tr>\n",
       "\t<tr><th scope=row>icu_adm_weekday5</th><td>   1.1502466</td><td>7.005833e-01</td><td>1.890385e+00</td></tr>\n",
       "\t<tr><th scope=row>icu_adm_weekday6</th><td>   1.0036716</td><td>5.988093e-01</td><td>1.680889e+00</td></tr>\n",
       "\t<tr><th scope=row>icu_adm_hour1</th><td>   1.0309726</td><td>3.941841e-01</td><td>2.687729e+00</td></tr>\n",
       "\t<tr><th scope=row>icu_adm_hour2</th><td>   0.5332874</td><td>1.869712e-01</td><td>1.468514e+00</td></tr>\n",
       "\t<tr><th scope=row>icu_adm_hour3</th><td>   0.9197772</td><td>3.530796e-01</td><td>2.380902e+00</td></tr>\n",
       "\t<tr><th scope=row>icu_adm_hour4</th><td>   1.6010718</td><td>6.289738e-01</td><td>4.086051e+00</td></tr>\n",
       "\t<tr><th scope=row>icu_adm_hour5</th><td>   0.9960492</td><td>3.541053e-01</td><td>2.739209e+00</td></tr>\n",
       "\t<tr><th scope=row>icu_adm_hour6</th><td>   0.9988645</td><td>3.203857e-01</td><td>3.031092e+00</td></tr>\n",
       "\t<tr><th scope=row>icu_adm_hour7</th><td>   0.3773193</td><td>6.967590e-02</td><td>1.562345e+00</td></tr>\n",
       "\t<tr><th scope=row>icu_adm_hour8</th><td>   0.7376865</td><td>1.651340e-01</td><td>2.818351e+00</td></tr>\n",
       "\t<tr><th scope=row>icu_adm_hour9</th><td>   1.9243811</td><td>7.129111e-01</td><td>5.204207e+00</td></tr>\n",
       "\t<tr><th scope=row>icu_adm_hour10</th><td>   0.6567421</td><td>2.101400e-01</td><td>1.948502e+00</td></tr>\n",
       "\t<tr><th scope=row>icu_adm_hour11</th><td>   0.9401039</td><td>3.635296e-01</td><td>2.416973e+00</td></tr>\n",
       "\t<tr><th scope=row>icu_adm_hour12</th><td>   1.1589815</td><td>4.730232e-01</td><td>2.837293e+00</td></tr>\n",
       "\t<tr><th scope=row>icu_adm_hour13</th><td>   1.8386403</td><td>7.163576e-01</td><td>4.740639e+00</td></tr>\n",
       "\t<tr><th scope=row>icu_adm_hour14</th><td>   1.5576463</td><td>6.562603e-01</td><td>3.720868e+00</td></tr>\n",
       "\t<tr><th scope=row>⋮</th><td>⋮</td><td>⋮</td><td>⋮</td></tr>\n",
       "\t<tr><th scope=row>icu_adm_hour23</th><td>0.5015900 </td><td>0.20929133</td><td>1.1980815 </td></tr>\n",
       "\t<tr><th scope=row>icd_chf1</th><td>0.6305613 </td><td>0.44558332</td><td>0.8893082 </td></tr>\n",
       "\t<tr><th scope=row>icd_afib1</th><td>1.1358066 </td><td>0.83309179</td><td>1.5471561 </td></tr>\n",
       "\t<tr><th scope=row>icd_renal1</th><td>1.2223340 </td><td>0.79999151</td><td>1.8624726 </td></tr>\n",
       "\t<tr><th scope=row>icd_liver1</th><td>1.6659888 </td><td>1.03683437</td><td>2.6809602 </td></tr>\n",
       "\t<tr><th scope=row>icd_copd1</th><td>1.4922808 </td><td>1.01788269</td><td>2.1823974 </td></tr>\n",
       "\t<tr><th scope=row>icd_cad1</th><td>0.6887858 </td><td>0.45070779</td><td>1.0412216 </td></tr>\n",
       "\t<tr><th scope=row>icd_stroke1</th><td>1.5728776 </td><td>0.88811787</td><td>2.7468903 </td></tr>\n",
       "\t<tr><th scope=row>icd_malignancy1</th><td>1.4451112 </td><td>1.02952629</td><td>2.0271970 </td></tr>\n",
       "\t<tr><th scope=row>vs_temp_first</th><td>0.9039635 </td><td>0.80532437</td><td>1.0066461 </td></tr>\n",
       "\t<tr><th scope=row>vs_map_first</th><td>0.9911675 </td><td>0.98395395</td><td>0.9982319 </td></tr>\n",
       "\t<tr><th scope=row>vs_cvp_first</th><td>0.9967140 </td><td>0.98899142</td><td>1.0032420 </td></tr>\n",
       "\t<tr><th scope=row>vs_heart_rate_first</th><td>1.0061613 </td><td>0.99957912</td><td>1.0128072 </td></tr>\n",
       "\t<tr><th scope=row>lab_hemoglobin_first</th><td>0.9584115 </td><td>0.89426044</td><td>1.0267224 </td></tr>\n",
       "\t<tr><th scope=row>lab_wbc_first</th><td>0.9950633 </td><td>0.98352862</td><td>1.0065228 </td></tr>\n",
       "\t<tr><th scope=row>lab_lactate_first</th><td>1.1466435 </td><td>1.06865186</td><td>1.2324656 </td></tr>\n",
       "\t<tr><th scope=row>lab_po2_first</th><td>0.9989738 </td><td>0.99756806</td><td>1.0003615 </td></tr>\n",
       "\t<tr><th scope=row>lab_troponin_flag1</th><td>1.3482121 </td><td>0.92563414</td><td>1.9733417 </td></tr>\n",
       "\t<tr><th scope=row>lab_potassium_first</th><td>1.1349769 </td><td>0.97925908</td><td>1.3245179 </td></tr>\n",
       "\t<tr><th scope=row>lab_creatinine_kinase_flag1</th><td>0.9440791 </td><td>0.64312393</td><td>1.3794972 </td></tr>\n",
       "\t<tr><th scope=row>lab_creatinine_first</th><td>0.8023030 </td><td>0.69261372</td><td>0.9214464 </td></tr>\n",
       "\t<tr><th scope=row>lab_pco2_first</th><td>0.9994994 </td><td>0.98046601</td><td>1.0190514 </td></tr>\n",
       "\t<tr><th scope=row>lab_bnp_flag1</th><td>1.8246422 </td><td>0.93762494</td><td>3.4897741 </td></tr>\n",
       "\t<tr><th scope=row>lab_bicarbonate_first</th><td>1.0425198 </td><td>0.99049209</td><td>1.0970299 </td></tr>\n",
       "\t<tr><th scope=row>lab_bun_first</th><td>1.0085962 </td><td>1.00184228</td><td>1.0154755 </td></tr>\n",
       "\t<tr><th scope=row>lab_platelet_first</th><td>1.0004542 </td><td>0.99935161</td><td>1.0015508 </td></tr>\n",
       "\t<tr><th scope=row>lab_sodium_first</th><td>0.9891032 </td><td>0.94574311</td><td>1.0345599 </td></tr>\n",
       "\t<tr><th scope=row>lab_chloride_first</th><td>0.9877441 </td><td>0.94758917</td><td>1.0294421 </td></tr>\n",
       "\t<tr><th scope=row>lab_ph_first</th><td>0.3286334 </td><td>0.03313086</td><td>3.3574509 </td></tr>\n",
       "\t<tr><th scope=row>sedative1</th><td>0.7978286 </td><td>0.52885476</td><td>1.2065296 </td></tr>\n",
       "</tbody>\n",
       "</table>\n"
      ],
      "text/latex": [
       "\\begin{tabular}{r|lll}\n",
       "  & OR & 2.5 \\% & 97.5 \\%\\\\\n",
       "\\hline\n",
       "\t(Intercept) & 3069.3164090 & 8.857674e-05 & 8.810246e+10\\\\\n",
       "\techo1 &    0.7410029 & 5.531550e-01 & 9.921324e-01\\\\\n",
       "\tage &    1.0239666 & 1.012943e+00 & 1.035356e+00\\\\\n",
       "\tgender1 &    1.3034909 & 9.838856e-01 & 1.728837e+00\\\\\n",
       "\tweight &    0.9919402 & 9.857158e-01 & 9.980566e-01\\\\\n",
       "\tsaps &    1.0665653 & 1.029964e+00 & 1.104811e+00\\\\\n",
       "\tsofa &    1.1865847 & 1.127441e+00 & 1.250096e+00\\\\\n",
       "\telix\\_score &    1.0298605 & 1.006712e+00 & 1.053527e+00\\\\\n",
       "\tvent1 &    1.3856219 & 8.204168e-01 & 2.341405e+00\\\\\n",
       "\tvaso1 &    0.9994278 & 7.082327e-01 & 1.412287e+00\\\\\n",
       "\ticu\\_adm\\_weekday1 &    0.9865227 & 5.918797e-01 & 1.643111e+00\\\\\n",
       "\ticu\\_adm\\_weekday2 &    1.1444682 & 6.957010e-01 & 1.884990e+00\\\\\n",
       "\ticu\\_adm\\_weekday3 &    1.4107551 & 8.757096e-01 & 2.282242e+00\\\\\n",
       "\ticu\\_adm\\_weekday4 &    1.4057500 & 8.711608e-01 & 2.276528e+00\\\\\n",
       "\ticu\\_adm\\_weekday5 &    1.1502466 & 7.005833e-01 & 1.890385e+00\\\\\n",
       "\ticu\\_adm\\_weekday6 &    1.0036716 & 5.988093e-01 & 1.680889e+00\\\\\n",
       "\ticu\\_adm\\_hour1 &    1.0309726 & 3.941841e-01 & 2.687729e+00\\\\\n",
       "\ticu\\_adm\\_hour2 &    0.5332874 & 1.869712e-01 & 1.468514e+00\\\\\n",
       "\ticu\\_adm\\_hour3 &    0.9197772 & 3.530796e-01 & 2.380902e+00\\\\\n",
       "\ticu\\_adm\\_hour4 &    1.6010718 & 6.289738e-01 & 4.086051e+00\\\\\n",
       "\ticu\\_adm\\_hour5 &    0.9960492 & 3.541053e-01 & 2.739209e+00\\\\\n",
       "\ticu\\_adm\\_hour6 &    0.9988645 & 3.203857e-01 & 3.031092e+00\\\\\n",
       "\ticu\\_adm\\_hour7 &    0.3773193 & 6.967590e-02 & 1.562345e+00\\\\\n",
       "\ticu\\_adm\\_hour8 &    0.7376865 & 1.651340e-01 & 2.818351e+00\\\\\n",
       "\ticu\\_adm\\_hour9 &    1.9243811 & 7.129111e-01 & 5.204207e+00\\\\\n",
       "\ticu\\_adm\\_hour10 &    0.6567421 & 2.101400e-01 & 1.948502e+00\\\\\n",
       "\ticu\\_adm\\_hour11 &    0.9401039 & 3.635296e-01 & 2.416973e+00\\\\\n",
       "\ticu\\_adm\\_hour12 &    1.1589815 & 4.730232e-01 & 2.837293e+00\\\\\n",
       "\ticu\\_adm\\_hour13 &    1.8386403 & 7.163576e-01 & 4.740639e+00\\\\\n",
       "\ticu\\_adm\\_hour14 &    1.5576463 & 6.562603e-01 & 3.720868e+00\\\\\n",
       "\t⋮ & ⋮ & ⋮ & ⋮\\\\\n",
       "\ticu\\_adm\\_hour23 & 0.5015900  & 0.20929133 & 1.1980815 \\\\\n",
       "\ticd\\_chf1 & 0.6305613  & 0.44558332 & 0.8893082 \\\\\n",
       "\ticd\\_afib1 & 1.1358066  & 0.83309179 & 1.5471561 \\\\\n",
       "\ticd\\_renal1 & 1.2223340  & 0.79999151 & 1.8624726 \\\\\n",
       "\ticd\\_liver1 & 1.6659888  & 1.03683437 & 2.6809602 \\\\\n",
       "\ticd\\_copd1 & 1.4922808  & 1.01788269 & 2.1823974 \\\\\n",
       "\ticd\\_cad1 & 0.6887858  & 0.45070779 & 1.0412216 \\\\\n",
       "\ticd\\_stroke1 & 1.5728776  & 0.88811787 & 2.7468903 \\\\\n",
       "\ticd\\_malignancy1 & 1.4451112  & 1.02952629 & 2.0271970 \\\\\n",
       "\tvs\\_temp\\_first & 0.9039635  & 0.80532437 & 1.0066461 \\\\\n",
       "\tvs\\_map\\_first & 0.9911675  & 0.98395395 & 0.9982319 \\\\\n",
       "\tvs\\_cvp\\_first & 0.9967140  & 0.98899142 & 1.0032420 \\\\\n",
       "\tvs\\_heart\\_rate\\_first & 1.0061613  & 0.99957912 & 1.0128072 \\\\\n",
       "\tlab\\_hemoglobin\\_first & 0.9584115  & 0.89426044 & 1.0267224 \\\\\n",
       "\tlab\\_wbc\\_first & 0.9950633  & 0.98352862 & 1.0065228 \\\\\n",
       "\tlab\\_lactate\\_first & 1.1466435  & 1.06865186 & 1.2324656 \\\\\n",
       "\tlab\\_po2\\_first & 0.9989738  & 0.99756806 & 1.0003615 \\\\\n",
       "\tlab\\_troponin\\_flag1 & 1.3482121  & 0.92563414 & 1.9733417 \\\\\n",
       "\tlab\\_potassium\\_first & 1.1349769  & 0.97925908 & 1.3245179 \\\\\n",
       "\tlab\\_creatinine\\_kinase\\_flag1 & 0.9440791  & 0.64312393 & 1.3794972 \\\\\n",
       "\tlab\\_creatinine\\_first & 0.8023030  & 0.69261372 & 0.9214464 \\\\\n",
       "\tlab\\_pco2\\_first & 0.9994994  & 0.98046601 & 1.0190514 \\\\\n",
       "\tlab\\_bnp\\_flag1 & 1.8246422  & 0.93762494 & 3.4897741 \\\\\n",
       "\tlab\\_bicarbonate\\_first & 1.0425198  & 0.99049209 & 1.0970299 \\\\\n",
       "\tlab\\_bun\\_first & 1.0085962  & 1.00184228 & 1.0154755 \\\\\n",
       "\tlab\\_platelet\\_first & 1.0004542  & 0.99935161 & 1.0015508 \\\\\n",
       "\tlab\\_sodium\\_first & 0.9891032  & 0.94574311 & 1.0345599 \\\\\n",
       "\tlab\\_chloride\\_first & 0.9877441  & 0.94758917 & 1.0294421 \\\\\n",
       "\tlab\\_ph\\_first & 0.3286334  & 0.03313086 & 3.3574509 \\\\\n",
       "\tsedative1 & 0.7978286  & 0.52885476 & 1.2065296 \\\\\n",
       "\\end{tabular}\n"
      ],
      "text/markdown": [
       "\n",
       "| <!--/--> | OR | 2.5 % | 97.5 % | \n",
       "|---|---|---|---|---|---|---|---|---|---|---|---|---|---|---|---|---|---|---|---|---|---|---|---|---|---|---|---|---|---|---|---|---|---|---|---|---|---|---|---|---|---|---|---|---|---|---|---|---|---|---|---|---|---|---|---|---|---|---|---|---|\n",
       "| (Intercept) | 3069.3164090 | 8.857674e-05 | 8.810246e+10 | \n",
       "| echo1 |    0.7410029 | 5.531550e-01 | 9.921324e-01 | \n",
       "| age |    1.0239666 | 1.012943e+00 | 1.035356e+00 | \n",
       "| gender1 |    1.3034909 | 9.838856e-01 | 1.728837e+00 | \n",
       "| weight |    0.9919402 | 9.857158e-01 | 9.980566e-01 | \n",
       "| saps |    1.0665653 | 1.029964e+00 | 1.104811e+00 | \n",
       "| sofa |    1.1865847 | 1.127441e+00 | 1.250096e+00 | \n",
       "| elix_score |    1.0298605 | 1.006712e+00 | 1.053527e+00 | \n",
       "| vent1 |    1.3856219 | 8.204168e-01 | 2.341405e+00 | \n",
       "| vaso1 |    0.9994278 | 7.082327e-01 | 1.412287e+00 | \n",
       "| icu_adm_weekday1 |    0.9865227 | 5.918797e-01 | 1.643111e+00 | \n",
       "| icu_adm_weekday2 |    1.1444682 | 6.957010e-01 | 1.884990e+00 | \n",
       "| icu_adm_weekday3 |    1.4107551 | 8.757096e-01 | 2.282242e+00 | \n",
       "| icu_adm_weekday4 |    1.4057500 | 8.711608e-01 | 2.276528e+00 | \n",
       "| icu_adm_weekday5 |    1.1502466 | 7.005833e-01 | 1.890385e+00 | \n",
       "| icu_adm_weekday6 |    1.0036716 | 5.988093e-01 | 1.680889e+00 | \n",
       "| icu_adm_hour1 |    1.0309726 | 3.941841e-01 | 2.687729e+00 | \n",
       "| icu_adm_hour2 |    0.5332874 | 1.869712e-01 | 1.468514e+00 | \n",
       "| icu_adm_hour3 |    0.9197772 | 3.530796e-01 | 2.380902e+00 | \n",
       "| icu_adm_hour4 |    1.6010718 | 6.289738e-01 | 4.086051e+00 | \n",
       "| icu_adm_hour5 |    0.9960492 | 3.541053e-01 | 2.739209e+00 | \n",
       "| icu_adm_hour6 |    0.9988645 | 3.203857e-01 | 3.031092e+00 | \n",
       "| icu_adm_hour7 |    0.3773193 | 6.967590e-02 | 1.562345e+00 | \n",
       "| icu_adm_hour8 |    0.7376865 | 1.651340e-01 | 2.818351e+00 | \n",
       "| icu_adm_hour9 |    1.9243811 | 7.129111e-01 | 5.204207e+00 | \n",
       "| icu_adm_hour10 |    0.6567421 | 2.101400e-01 | 1.948502e+00 | \n",
       "| icu_adm_hour11 |    0.9401039 | 3.635296e-01 | 2.416973e+00 | \n",
       "| icu_adm_hour12 |    1.1589815 | 4.730232e-01 | 2.837293e+00 | \n",
       "| icu_adm_hour13 |    1.8386403 | 7.163576e-01 | 4.740639e+00 | \n",
       "| icu_adm_hour14 |    1.5576463 | 6.562603e-01 | 3.720868e+00 | \n",
       "| ⋮ | ⋮ | ⋮ | ⋮ | \n",
       "| icu_adm_hour23 | 0.5015900  | 0.20929133 | 1.1980815  | \n",
       "| icd_chf1 | 0.6305613  | 0.44558332 | 0.8893082  | \n",
       "| icd_afib1 | 1.1358066  | 0.83309179 | 1.5471561  | \n",
       "| icd_renal1 | 1.2223340  | 0.79999151 | 1.8624726  | \n",
       "| icd_liver1 | 1.6659888  | 1.03683437 | 2.6809602  | \n",
       "| icd_copd1 | 1.4922808  | 1.01788269 | 2.1823974  | \n",
       "| icd_cad1 | 0.6887858  | 0.45070779 | 1.0412216  | \n",
       "| icd_stroke1 | 1.5728776  | 0.88811787 | 2.7468903  | \n",
       "| icd_malignancy1 | 1.4451112  | 1.02952629 | 2.0271970  | \n",
       "| vs_temp_first | 0.9039635  | 0.80532437 | 1.0066461  | \n",
       "| vs_map_first | 0.9911675  | 0.98395395 | 0.9982319  | \n",
       "| vs_cvp_first | 0.9967140  | 0.98899142 | 1.0032420  | \n",
       "| vs_heart_rate_first | 1.0061613  | 0.99957912 | 1.0128072  | \n",
       "| lab_hemoglobin_first | 0.9584115  | 0.89426044 | 1.0267224  | \n",
       "| lab_wbc_first | 0.9950633  | 0.98352862 | 1.0065228  | \n",
       "| lab_lactate_first | 1.1466435  | 1.06865186 | 1.2324656  | \n",
       "| lab_po2_first | 0.9989738  | 0.99756806 | 1.0003615  | \n",
       "| lab_troponin_flag1 | 1.3482121  | 0.92563414 | 1.9733417  | \n",
       "| lab_potassium_first | 1.1349769  | 0.97925908 | 1.3245179  | \n",
       "| lab_creatinine_kinase_flag1 | 0.9440791  | 0.64312393 | 1.3794972  | \n",
       "| lab_creatinine_first | 0.8023030  | 0.69261372 | 0.9214464  | \n",
       "| lab_pco2_first | 0.9994994  | 0.98046601 | 1.0190514  | \n",
       "| lab_bnp_flag1 | 1.8246422  | 0.93762494 | 3.4897741  | \n",
       "| lab_bicarbonate_first | 1.0425198  | 0.99049209 | 1.0970299  | \n",
       "| lab_bun_first | 1.0085962  | 1.00184228 | 1.0154755  | \n",
       "| lab_platelet_first | 1.0004542  | 0.99935161 | 1.0015508  | \n",
       "| lab_sodium_first | 0.9891032  | 0.94574311 | 1.0345599  | \n",
       "| lab_chloride_first | 0.9877441  | 0.94758917 | 1.0294421  | \n",
       "| lab_ph_first | 0.3286334  | 0.03313086 | 3.3574509  | \n",
       "| sedative1 | 0.7978286  | 0.52885476 | 1.2065296  | \n",
       "\n",
       "\n"
      ],
      "text/plain": [
       "                            OR           2.5 %        97.5 %      \n",
       "(Intercept)                 3069.3164090 8.857674e-05 8.810246e+10\n",
       "echo1                          0.7410029 5.531550e-01 9.921324e-01\n",
       "age                            1.0239666 1.012943e+00 1.035356e+00\n",
       "gender1                        1.3034909 9.838856e-01 1.728837e+00\n",
       "weight                         0.9919402 9.857158e-01 9.980566e-01\n",
       "saps                           1.0665653 1.029964e+00 1.104811e+00\n",
       "sofa                           1.1865847 1.127441e+00 1.250096e+00\n",
       "elix_score                     1.0298605 1.006712e+00 1.053527e+00\n",
       "vent1                          1.3856219 8.204168e-01 2.341405e+00\n",
       "vaso1                          0.9994278 7.082327e-01 1.412287e+00\n",
       "icu_adm_weekday1               0.9865227 5.918797e-01 1.643111e+00\n",
       "icu_adm_weekday2               1.1444682 6.957010e-01 1.884990e+00\n",
       "icu_adm_weekday3               1.4107551 8.757096e-01 2.282242e+00\n",
       "icu_adm_weekday4               1.4057500 8.711608e-01 2.276528e+00\n",
       "icu_adm_weekday5               1.1502466 7.005833e-01 1.890385e+00\n",
       "icu_adm_weekday6               1.0036716 5.988093e-01 1.680889e+00\n",
       "icu_adm_hour1                  1.0309726 3.941841e-01 2.687729e+00\n",
       "icu_adm_hour2                  0.5332874 1.869712e-01 1.468514e+00\n",
       "icu_adm_hour3                  0.9197772 3.530796e-01 2.380902e+00\n",
       "icu_adm_hour4                  1.6010718 6.289738e-01 4.086051e+00\n",
       "icu_adm_hour5                  0.9960492 3.541053e-01 2.739209e+00\n",
       "icu_adm_hour6                  0.9988645 3.203857e-01 3.031092e+00\n",
       "icu_adm_hour7                  0.3773193 6.967590e-02 1.562345e+00\n",
       "icu_adm_hour8                  0.7376865 1.651340e-01 2.818351e+00\n",
       "icu_adm_hour9                  1.9243811 7.129111e-01 5.204207e+00\n",
       "icu_adm_hour10                 0.6567421 2.101400e-01 1.948502e+00\n",
       "icu_adm_hour11                 0.9401039 3.635296e-01 2.416973e+00\n",
       "icu_adm_hour12                 1.1589815 4.730232e-01 2.837293e+00\n",
       "icu_adm_hour13                 1.8386403 7.163576e-01 4.740639e+00\n",
       "icu_adm_hour14                 1.5576463 6.562603e-01 3.720868e+00\n",
       "⋮                           ⋮            ⋮            ⋮           \n",
       "icu_adm_hour23              0.5015900    0.20929133   1.1980815   \n",
       "icd_chf1                    0.6305613    0.44558332   0.8893082   \n",
       "icd_afib1                   1.1358066    0.83309179   1.5471561   \n",
       "icd_renal1                  1.2223340    0.79999151   1.8624726   \n",
       "icd_liver1                  1.6659888    1.03683437   2.6809602   \n",
       "icd_copd1                   1.4922808    1.01788269   2.1823974   \n",
       "icd_cad1                    0.6887858    0.45070779   1.0412216   \n",
       "icd_stroke1                 1.5728776    0.88811787   2.7468903   \n",
       "icd_malignancy1             1.4451112    1.02952629   2.0271970   \n",
       "vs_temp_first               0.9039635    0.80532437   1.0066461   \n",
       "vs_map_first                0.9911675    0.98395395   0.9982319   \n",
       "vs_cvp_first                0.9967140    0.98899142   1.0032420   \n",
       "vs_heart_rate_first         1.0061613    0.99957912   1.0128072   \n",
       "lab_hemoglobin_first        0.9584115    0.89426044   1.0267224   \n",
       "lab_wbc_first               0.9950633    0.98352862   1.0065228   \n",
       "lab_lactate_first           1.1466435    1.06865186   1.2324656   \n",
       "lab_po2_first               0.9989738    0.99756806   1.0003615   \n",
       "lab_troponin_flag1          1.3482121    0.92563414   1.9733417   \n",
       "lab_potassium_first         1.1349769    0.97925908   1.3245179   \n",
       "lab_creatinine_kinase_flag1 0.9440791    0.64312393   1.3794972   \n",
       "lab_creatinine_first        0.8023030    0.69261372   0.9214464   \n",
       "lab_pco2_first              0.9994994    0.98046601   1.0190514   \n",
       "lab_bnp_flag1               1.8246422    0.93762494   3.4897741   \n",
       "lab_bicarbonate_first       1.0425198    0.99049209   1.0970299   \n",
       "lab_bun_first               1.0085962    1.00184228   1.0154755   \n",
       "lab_platelet_first          1.0004542    0.99935161   1.0015508   \n",
       "lab_sodium_first            0.9891032    0.94574311   1.0345599   \n",
       "lab_chloride_first          0.9877441    0.94758917   1.0294421   \n",
       "lab_ph_first                0.3286334    0.03313086   3.3574509   \n",
       "sedative1                   0.7978286    0.52885476   1.2065296   "
      ]
     },
     "metadata": {},
     "output_type": "display_data"
    }
   ],
   "source": [
    "unweighted <- glm(as.formula(fml), data = full_data, family = binomial, na.action = na.exclude)\n",
    "summary(unweighted)\n",
    "exp(cbind(OR = coef(unweighted), confint(unweighted)))"
   ]
  },
  {
   "cell_type": "code",
   "execution_count": 15,
   "metadata": {},
   "outputs": [
    {
     "data": {
      "text/html": [
       "'echo_int ~ age + gender + weight + saps + sofa + elix_score + vent + vaso + icu_adm_weekday + icu_adm_hour + icd_chf + icd_afib + icd_renal + icd_liver + icd_copd + icd_cad + icd_stroke + icd_malignancy + vs_temp_first + vs_map_first + vs_cvp_first + vs_heart_rate_first + lab_hemoglobin_first + lab_wbc_first + lab_lactate_first + lab_po2_first + lab_troponin_flag + lab_potassium_first + lab_creatinine_kinase_flag + lab_creatinine_first + lab_pco2_first + lab_bnp_flag + lab_bicarbonate_first + lab_bun_first + lab_platelet_first + lab_sodium_first + lab_chloride_first + lab_ph_first + sedative'"
      ],
      "text/latex": [
       "'echo\\_int \\textasciitilde{} age + gender + weight + saps + sofa + elix\\_score + vent + vaso + icu\\_adm\\_weekday + icu\\_adm\\_hour + icd\\_chf + icd\\_afib + icd\\_renal + icd\\_liver + icd\\_copd + icd\\_cad + icd\\_stroke + icd\\_malignancy + vs\\_temp\\_first + vs\\_map\\_first + vs\\_cvp\\_first + vs\\_heart\\_rate\\_first + lab\\_hemoglobin\\_first + lab\\_wbc\\_first + lab\\_lactate\\_first + lab\\_po2\\_first + lab\\_troponin\\_flag + lab\\_potassium\\_first + lab\\_creatinine\\_kinase\\_flag + lab\\_creatinine\\_first + lab\\_pco2\\_first + lab\\_bnp\\_flag + lab\\_bicarbonate\\_first + lab\\_bun\\_first + lab\\_platelet\\_first + lab\\_sodium\\_first + lab\\_chloride\\_first + lab\\_ph\\_first + sedative'"
      ],
      "text/markdown": [
       "'echo_int ~ age + gender + weight + saps + sofa + elix_score + vent + vaso + icu_adm_weekday + icu_adm_hour + icd_chf + icd_afib + icd_renal + icd_liver + icd_copd + icd_cad + icd_stroke + icd_malignancy + vs_temp_first + vs_map_first + vs_cvp_first + vs_heart_rate_first + lab_hemoglobin_first + lab_wbc_first + lab_lactate_first + lab_po2_first + lab_troponin_flag + lab_potassium_first + lab_creatinine_kinase_flag + lab_creatinine_first + lab_pco2_first + lab_bnp_flag + lab_bicarbonate_first + lab_bun_first + lab_platelet_first + lab_sodium_first + lab_chloride_first + lab_ph_first + sedative'"
      ],
      "text/plain": [
       "[1] \"echo_int ~ age + gender + weight + saps + sofa + elix_score + vent + vaso + icu_adm_weekday + icu_adm_hour + icd_chf + icd_afib + icd_renal + icd_liver + icd_copd + icd_cad + icd_stroke + icd_malignancy + vs_temp_first + vs_map_first + vs_cvp_first + vs_heart_rate_first + lab_hemoglobin_first + lab_wbc_first + lab_lactate_first + lab_po2_first + lab_troponin_flag + lab_potassium_first + lab_creatinine_kinase_flag + lab_creatinine_first + lab_pco2_first + lab_bnp_flag + lab_bicarbonate_first + lab_bun_first + lab_platelet_first + lab_sodium_first + lab_chloride_first + lab_ph_first + sedative\""
      ]
     },
     "metadata": {},
     "output_type": "display_data"
    }
   ],
   "source": [
    "fml <- feature_names %>%\n",
    "    paste(collapse = \" + \") %>%\n",
    "    sprintf(\"echo_int ~ %s\", .)\n",
    "fml"
   ]
  },
  {
   "cell_type": "code",
   "execution_count": 16,
   "metadata": {},
   "outputs": [],
   "source": [
    "echo_ps_ate <- ps(as.formula(fml),\n",
    "                  data = full_data,\n",
    "                  interaction.depth = 2,\n",
    "                  shrinkage = 0.01,\n",
    "                  perm.test.iters = 0,\n",
    "                  estimand = \"ATE\",\n",
    "                  verbose = FALSE,\n",
    "                  stop.method = c(\"es.mean\", \"es.max\", \"ks.mean\", \"ks.max\"),\n",
    "                  n.trees = 10000,\n",
    "                  train.fraction = 0.8,\n",
    "                  cv.folds = 3,\n",
    "                  n.cores = 8)"
   ]
  },
  {
   "cell_type": "code",
   "execution_count": 17,
   "metadata": {},
   "outputs": [
    {
     "data": {
      "text/html": [
       "0.822619262456253"
      ],
      "text/latex": [
       "0.822619262456253"
      ],
      "text/markdown": [
       "0.822619262456253"
      ],
      "text/plain": [
       "[1] 0.8226193"
      ]
     },
     "metadata": {},
     "output_type": "display_data"
    }
   ],
   "source": [
    "pred <- echo_ps_ate$ps$es.mean.ATE\n",
    "full_data <- full_data %>% mutate(ps = pred)\n",
    "ROCR::performance(ROCR::prediction(pred, label), \"auc\")@y.values %>% first"
   ]
  },
  {
   "cell_type": "code",
   "execution_count": 18,
   "metadata": {},
   "outputs": [],
   "source": [
    "ft_importance <- summary(echo_ps_ate$gbm.obj,\n",
    "                         n.trees = echo_ps_ate$desc$es.mean.ATE$n.trees,\n",
    "                         plot = FALSE)"
   ]
  },
  {
   "cell_type": "code",
   "execution_count": 19,
   "metadata": {},
   "outputs": [],
   "source": [
    "full_data <- full_data %>%\n",
    "    mutate(weight = get.weights(echo_ps_ate, stop.method = \"es.mean\"))"
   ]
  },
  {
   "cell_type": "code",
   "execution_count": 20,
   "metadata": {},
   "outputs": [],
   "source": [
    "saveRDS(full_data, file = file.path(data_dir, \"full_data_ps.rds\"))"
   ]
  },
  {
   "cell_type": "code",
   "execution_count": 21,
   "metadata": {},
   "outputs": [],
   "source": [
    "saveRDS(ft_importance, file = file.path(data_dir, \"feature_importance.rds\"))"
   ]
  },
  {
   "cell_type": "code",
   "execution_count": 22,
   "metadata": {},
   "outputs": [
    {
     "name": "stderr",
     "output_type": "stream",
     "text": [
      "Warning message in eval(family$initialize):\n",
      "“non-integer #successes in a binomial glm!”"
     ]
    },
    {
     "data": {
      "text/plain": [
       "\n",
       "Call:\n",
       "glm(formula = mort_28_day ~ echo, family = binomial, data = full_data, \n",
       "    weights = full_data$weight)\n",
       "\n",
       "Deviance Residuals: \n",
       "    Min       1Q   Median       3Q      Max  \n",
       "-2.2864  -1.0683  -0.9435   1.7205   4.6170  \n",
       "\n",
       "Coefficients:\n",
       "            Estimate Std. Error z value Pr(>|z|)    \n",
       "(Intercept) -0.89612    0.02955 -30.326  < 2e-16 ***\n",
       "echo1       -0.18034    0.04259  -4.235 2.29e-05 ***\n",
       "---\n",
       "Signif. codes:  0 ‘***’ 0.001 ‘**’ 0.01 ‘*’ 0.05 ‘.’ 0.1 ‘ ’ 1\n",
       "\n",
       "(Dispersion parameter for binomial family taken to be 1)\n",
       "\n",
       "    Null deviance: 13076  on 6161  degrees of freedom\n",
       "Residual deviance: 13058  on 6160  degrees of freedom\n",
       "AIC: 12689\n",
       "\n",
       "Number of Fisher Scoring iterations: 4\n"
      ]
     },
     "metadata": {},
     "output_type": "display_data"
    },
    {
     "name": "stderr",
     "output_type": "stream",
     "text": [
      "Waiting for profiling to be done...\n",
      "Warning message in eval(family$initialize):\n",
      "“non-integer #successes in a binomial glm!”Warning message in eval(family$initialize):\n",
      "“non-integer #successes in a binomial glm!”Warning message in eval(family$initialize):\n",
      "“non-integer #successes in a binomial glm!”Warning message in eval(family$initialize):\n",
      "“non-integer #successes in a binomial glm!”Warning message in eval(family$initialize):\n",
      "“non-integer #successes in a binomial glm!”Warning message in eval(family$initialize):\n",
      "“non-integer #successes in a binomial glm!”Warning message in eval(family$initialize):\n",
      "“non-integer #successes in a binomial glm!”Warning message in eval(family$initialize):\n",
      "“non-integer #successes in a binomial glm!”Warning message in eval(family$initialize):\n",
      "“non-integer #successes in a binomial glm!”Warning message in eval(family$initialize):\n",
      "“non-integer #successes in a binomial glm!”Warning message in eval(family$initialize):\n",
      "“non-integer #successes in a binomial glm!”Warning message in eval(family$initialize):\n",
      "“non-integer #successes in a binomial glm!”Warning message in eval(family$initialize):\n",
      "“non-integer #successes in a binomial glm!”Warning message in eval(family$initialize):\n",
      "“non-integer #successes in a binomial glm!”Warning message in eval(family$initialize):\n",
      "“non-integer #successes in a binomial glm!”Warning message in eval(family$initialize):\n",
      "“non-integer #successes in a binomial glm!”Warning message in eval(family$initialize):\n",
      "“non-integer #successes in a binomial glm!”Warning message in eval(family$initialize):\n",
      "“non-integer #successes in a binomial glm!”Warning message in eval(family$initialize):\n",
      "“non-integer #successes in a binomial glm!”Warning message in eval(family$initialize):\n",
      "“non-integer #successes in a binomial glm!”Warning message in eval(family$initialize):\n",
      "“non-integer #successes in a binomial glm!”Warning message in eval(family$initialize):\n",
      "“non-integer #successes in a binomial glm!”"
     ]
    },
    {
     "data": {
      "text/html": [
       "<table>\n",
       "<thead><tr><th></th><th scope=col>OR</th><th scope=col>2.5 %</th><th scope=col>97.5 %</th></tr></thead>\n",
       "<tbody>\n",
       "\t<tr><th scope=row>(Intercept)</th><td>0.4081492</td><td>0.3850896</td><td>0.4323860</td></tr>\n",
       "\t<tr><th scope=row>echo1</th><td>0.8349884</td><td>0.7680861</td><td>0.9076446</td></tr>\n",
       "</tbody>\n",
       "</table>\n"
      ],
      "text/latex": [
       "\\begin{tabular}{r|lll}\n",
       "  & OR & 2.5 \\% & 97.5 \\%\\\\\n",
       "\\hline\n",
       "\t(Intercept) & 0.4081492 & 0.3850896 & 0.4323860\\\\\n",
       "\techo1 & 0.8349884 & 0.7680861 & 0.9076446\\\\\n",
       "\\end{tabular}\n"
      ],
      "text/markdown": [
       "\n",
       "| <!--/--> | OR | 2.5 % | 97.5 % | \n",
       "|---|---|\n",
       "| (Intercept) | 0.4081492 | 0.3850896 | 0.4323860 | \n",
       "| echo1 | 0.8349884 | 0.7680861 | 0.9076446 | \n",
       "\n",
       "\n"
      ],
      "text/plain": [
       "            OR        2.5 %     97.5 %   \n",
       "(Intercept) 0.4081492 0.3850896 0.4323860\n",
       "echo1       0.8349884 0.7680861 0.9076446"
      ]
     },
     "metadata": {},
     "output_type": "display_data"
    }
   ],
   "source": [
    "primary_ipw <- glm(mort_28_day ~ echo, data = full_data,\n",
    "                   weights = full_data$weight, family = binomial)\n",
    "summary(primary_ipw)\n",
    "exp(cbind(OR = coef(primary_ipw), confint(primary_ipw)))"
   ]
  },
  {
   "cell_type": "code",
   "execution_count": 23,
   "metadata": {},
   "outputs": [],
   "source": [
    "design_echo_ps_ate <- svydesign(ids = ~ icustay_id, weights = ~ weight, data = full_data)\n",
    "# design_echo_ps_ate <- svydesign(ids = ~ icustay_id, data = full_data)"
   ]
  },
  {
   "cell_type": "code",
   "execution_count": 24,
   "metadata": {},
   "outputs": [
    {
     "data": {
      "text/html": [
       "'mort_28_day ~ echo + age + gender + weight + saps + sofa + elix_score + vent + vaso + icu_adm_weekday + icu_adm_hour + icd_chf + icd_afib + icd_renal + icd_liver + icd_copd + icd_cad + icd_stroke + icd_malignancy + vs_temp_first + vs_map_first + vs_cvp_first + vs_heart_rate_first + lab_hemoglobin_first + lab_wbc_first + lab_lactate_first + lab_po2_first + lab_troponin_flag + lab_potassium_first + lab_creatinine_kinase_flag + lab_creatinine_first + lab_pco2_first + lab_bnp_flag + lab_bicarbonate_first + lab_bun_first + lab_platelet_first + lab_sodium_first + lab_chloride_first + lab_ph_first + sedative'"
      ],
      "text/latex": [
       "'mort\\_28\\_day \\textasciitilde{} echo + age + gender + weight + saps + sofa + elix\\_score + vent + vaso + icu\\_adm\\_weekday + icu\\_adm\\_hour + icd\\_chf + icd\\_afib + icd\\_renal + icd\\_liver + icd\\_copd + icd\\_cad + icd\\_stroke + icd\\_malignancy + vs\\_temp\\_first + vs\\_map\\_first + vs\\_cvp\\_first + vs\\_heart\\_rate\\_first + lab\\_hemoglobin\\_first + lab\\_wbc\\_first + lab\\_lactate\\_first + lab\\_po2\\_first + lab\\_troponin\\_flag + lab\\_potassium\\_first + lab\\_creatinine\\_kinase\\_flag + lab\\_creatinine\\_first + lab\\_pco2\\_first + lab\\_bnp\\_flag + lab\\_bicarbonate\\_first + lab\\_bun\\_first + lab\\_platelet\\_first + lab\\_sodium\\_first + lab\\_chloride\\_first + lab\\_ph\\_first + sedative'"
      ],
      "text/markdown": [
       "'mort_28_day ~ echo + age + gender + weight + saps + sofa + elix_score + vent + vaso + icu_adm_weekday + icu_adm_hour + icd_chf + icd_afib + icd_renal + icd_liver + icd_copd + icd_cad + icd_stroke + icd_malignancy + vs_temp_first + vs_map_first + vs_cvp_first + vs_heart_rate_first + lab_hemoglobin_first + lab_wbc_first + lab_lactate_first + lab_po2_first + lab_troponin_flag + lab_potassium_first + lab_creatinine_kinase_flag + lab_creatinine_first + lab_pco2_first + lab_bnp_flag + lab_bicarbonate_first + lab_bun_first + lab_platelet_first + lab_sodium_first + lab_chloride_first + lab_ph_first + sedative'"
      ],
      "text/plain": [
       "[1] \"mort_28_day ~ echo + age + gender + weight + saps + sofa + elix_score + vent + vaso + icu_adm_weekday + icu_adm_hour + icd_chf + icd_afib + icd_renal + icd_liver + icd_copd + icd_cad + icd_stroke + icd_malignancy + vs_temp_first + vs_map_first + vs_cvp_first + vs_heart_rate_first + lab_hemoglobin_first + lab_wbc_first + lab_lactate_first + lab_po2_first + lab_troponin_flag + lab_potassium_first + lab_creatinine_kinase_flag + lab_creatinine_first + lab_pco2_first + lab_bnp_flag + lab_bicarbonate_first + lab_bun_first + lab_platelet_first + lab_sodium_first + lab_chloride_first + lab_ph_first + sedative\""
      ]
     },
     "metadata": {},
     "output_type": "display_data"
    }
   ],
   "source": [
    "fml <- feature_names %>%\n",
    "    c(label_name, .) %>%\n",
    "    paste(collapse = \" + \") %>%\n",
    "    sprintf(\"mort_28_day ~ %s\", .)\n",
    "fml"
   ]
  },
  {
   "cell_type": "code",
   "execution_count": 25,
   "metadata": {},
   "outputs": [],
   "source": [
    "logi <- svyglm(as.formula(fml),\n",
    "               family = quasibinomial,\n",
    "               design = design_echo_ps_ate)"
   ]
  },
  {
   "cell_type": "code",
   "execution_count": 26,
   "metadata": {},
   "outputs": [
    {
     "data": {
      "text/plain": [
       "\n",
       "Call:\n",
       "svyglm(formula = as.formula(fml), family = quasibinomial, design = design_echo_ps_ate)\n",
       "\n",
       "Survey design:\n",
       "svydesign(ids = ~icustay_id, weights = ~weight, data = full_data)\n",
       "\n",
       "Coefficients:\n",
       "                              Estimate Std. Error t value Pr(>|t|)    \n",
       "(Intercept)                  7.4491891  8.9523744   0.832 0.405485    \n",
       "echo1                        0.0086381  0.1687512   0.051 0.959182    \n",
       "age                          0.0275064  0.0061519   4.471 8.34e-06 ***\n",
       "gender1                      0.2211276  0.1478439   1.496 0.134938    \n",
       "weight                       0.2706142  0.0827642   3.270 0.001100 ** \n",
       "saps                         0.0664959  0.0187396   3.548 0.000399 ***\n",
       "sofa                         0.1795888  0.0262201   6.849 1.06e-11 ***\n",
       "elix_score                   0.0215925  0.0123408   1.750 0.080369 .  \n",
       "vent1                        0.4802425  0.2787899   1.723 0.085159 .  \n",
       "vaso1                       -0.0063291  0.1778711  -0.036 0.971620    \n",
       "icu_adm_weekday1            -0.1678380  0.2646778  -0.634 0.526094    \n",
       "icu_adm_weekday2             0.0110746  0.2617451   0.042 0.966257    \n",
       "icu_adm_weekday3             0.2875225  0.2472609   1.163 0.245076    \n",
       "icu_adm_weekday4             0.3017013  0.2481819   1.216 0.224303    \n",
       "icu_adm_weekday5             0.0763697  0.2687740   0.284 0.776340    \n",
       "icu_adm_weekday6            -0.0382519  0.2678002  -0.143 0.886437    \n",
       "icu_adm_hour1                0.1475432  0.4740816   0.311 0.755676    \n",
       "icu_adm_hour2               -0.7677102  0.4913865  -1.562 0.118411    \n",
       "icu_adm_hour3               -0.2911678  0.4850466  -0.600 0.548401    \n",
       "icu_adm_hour4                0.2758518  0.5463089   0.505 0.613674    \n",
       "icu_adm_hour5               -0.4330856  0.6305216  -0.687 0.492267    \n",
       "icu_adm_hour6                0.0287007  0.5600511   0.051 0.959136    \n",
       "icu_adm_hour7               -1.1862288  0.7639997  -1.553 0.120707    \n",
       "icu_adm_hour8               -0.3665713  0.6536873  -0.561 0.575031    \n",
       "icu_adm_hour9                0.6843655  0.4905964   1.395 0.163224    \n",
       "icu_adm_hour10              -0.4844997  0.5102429  -0.950 0.342489    \n",
       "icu_adm_hour11              -0.0197367  0.4532474  -0.044 0.965273    \n",
       "icu_adm_hour12               0.3851616  0.4245836   0.907 0.364466    \n",
       "icu_adm_hour13               0.7083539  0.4496118   1.575 0.115348    \n",
       "icu_adm_hour14               0.3056138  0.4234613   0.722 0.470584    \n",
       "icu_adm_hour15               0.2730667  0.3967711   0.688 0.491415    \n",
       "icu_adm_hour16               0.0045991  0.4030185   0.011 0.990896    \n",
       "icu_adm_hour17               0.1010462  0.4047806   0.250 0.802905    \n",
       "icu_adm_hour18              -0.0499761  0.4002338  -0.125 0.900645    \n",
       "icu_adm_hour19               0.1461649  0.3975047   0.368 0.713142    \n",
       "icu_adm_hour20               0.4770679  0.3676490   1.298 0.194610    \n",
       "icu_adm_hour21               0.5188712  0.3711525   1.398 0.162311    \n",
       "icu_adm_hour22               0.3199977  0.3667167   0.873 0.383014    \n",
       "icu_adm_hour23              -0.4406342  0.4114591  -1.071 0.284377    \n",
       "icd_chf1                    -0.5109008  0.1929515  -2.648 0.008183 ** \n",
       "icd_afib1                    0.1242199  0.1682121   0.738 0.460338    \n",
       "icd_renal1                   0.1273839  0.2262654   0.563 0.573526    \n",
       "icd_liver1                   0.6423516  0.2421982   2.652 0.008078 ** \n",
       "icd_copd1                    0.2590904  0.1961554   1.321 0.186747    \n",
       "icd_cad1                    -0.3448581  0.2179638  -1.582 0.113810    \n",
       "icd_stroke1                  0.5194966  0.3452795   1.505 0.132637    \n",
       "icd_malignancy1              0.5960943  0.1740350   3.425 0.000630 ***\n",
       "vs_temp_first               -0.0959998  0.0643898  -1.491 0.136185    \n",
       "vs_map_first                -0.0064219  0.0040456  -1.587 0.112631    \n",
       "vs_cvp_first                -0.0049126  0.0040341  -1.218 0.223494    \n",
       "vs_heart_rate_first          0.0032072  0.0034774   0.922 0.356509    \n",
       "lab_hemoglobin_first        -0.0687240  0.0347083  -1.980 0.047873 *  \n",
       "lab_wbc_first               -0.0052632  0.0056373  -0.934 0.350636    \n",
       "lab_lactate_first            0.1281659  0.0376265   3.406 0.000675 ***\n",
       "lab_po2_first               -0.0011781  0.0007956  -1.481 0.138873    \n",
       "lab_troponin_flag1           0.3678136  0.1975118   1.862 0.062757 .  \n",
       "lab_potassium_first          0.1198639  0.0758701   1.580 0.114342    \n",
       "lab_creatinine_kinase_flag1 -0.1771480  0.1953322  -0.907 0.364596    \n",
       "lab_creatinine_first        -0.2800746  0.0891962  -3.140 0.001721 ** \n",
       "lab_pco2_first              -0.0011631  0.0088867  -0.131 0.895889    \n",
       "lab_bnp_flag1                0.6065562  0.3015831   2.011 0.044471 *  \n",
       "lab_bicarbonate_first        0.0349130  0.0257447   1.356 0.175256    \n",
       "lab_bun_first                0.0095269  0.0039854   2.390 0.016945 *  \n",
       "lab_platelet_first           0.0005917  0.0005417   1.092 0.274853    \n",
       "lab_sodium_first             0.0011514  0.0249911   0.046 0.963257    \n",
       "lab_chloride_first          -0.0123274  0.0225474  -0.547 0.584639    \n",
       "lab_ph_first                -1.4164138  1.1831203  -1.197 0.231416    \n",
       "sedative1                   -0.2808502  0.2208591  -1.272 0.203695    \n",
       "---\n",
       "Signif. codes:  0 ‘***’ 0.001 ‘**’ 0.01 ‘*’ 0.05 ‘.’ 0.1 ‘ ’ 1\n",
       "\n",
       "(Dispersion parameter for quasibinomial family taken to be 1.034913)\n",
       "\n",
       "Number of Fisher Scoring iterations: 5\n"
      ]
     },
     "metadata": {},
     "output_type": "display_data"
    }
   ],
   "source": [
    "summary(logi)"
   ]
  },
  {
   "cell_type": "code",
   "execution_count": 27,
   "metadata": {},
   "outputs": [
    {
     "data": {
      "text/html": [
       "<table>\n",
       "<thead><tr><th></th><th scope=col>OR</th><th scope=col>2.5 %</th><th scope=col>97.5 %</th></tr></thead>\n",
       "<tbody>\n",
       "\t<tr><th scope=row>(Intercept)</th><td>1718.4690128</td><td>4.119712e-05</td><td>7.168307e+10</td></tr>\n",
       "\t<tr><th scope=row>echo1</th><td>   1.0086755</td><td>7.246198e-01</td><td>1.404083e+00</td></tr>\n",
       "\t<tr><th scope=row>age</th><td>   1.0278882</td><td>1.015569e+00</td><td>1.040357e+00</td></tr>\n",
       "\t<tr><th scope=row>gender1</th><td>   1.2474827</td><td>9.336617e-01</td><td>1.666785e+00</td></tr>\n",
       "\t<tr><th scope=row>weight</th><td>   1.3107692</td><td>1.114493e+00</td><td>1.541613e+00</td></tr>\n",
       "\t<tr><th scope=row>saps</th><td>   1.0687565</td><td>1.030214e+00</td><td>1.108741e+00</td></tr>\n",
       "\t<tr><th scope=row>sofa</th><td>   1.1967251</td><td>1.136778e+00</td><td>1.259833e+00</td></tr>\n",
       "\t<tr><th scope=row>elix_score</th><td>   1.0218273</td><td>9.974083e-01</td><td>1.046844e+00</td></tr>\n",
       "\t<tr><th scope=row>vent1</th><td>   1.6164664</td><td>9.359665e-01</td><td>2.791728e+00</td></tr>\n",
       "\t<tr><th scope=row>vaso1</th><td>   0.9936909</td><td>7.012085e-01</td><td>1.408171e+00</td></tr>\n",
       "\t<tr><th scope=row>icu_adm_weekday1</th><td>   0.8454908</td><td>5.032858e-01</td><td>1.420375e+00</td></tr>\n",
       "\t<tr><th scope=row>icu_adm_weekday2</th><td>   1.0111361</td><td>6.053573e-01</td><td>1.688914e+00</td></tr>\n",
       "\t<tr><th scope=row>icu_adm_weekday3</th><td>   1.3331205</td><td>8.211085e-01</td><td>2.164404e+00</td></tr>\n",
       "\t<tr><th scope=row>icu_adm_weekday4</th><td>   1.3521573</td><td>8.313318e-01</td><td>2.199277e+00</td></tr>\n",
       "\t<tr><th scope=row>icu_adm_weekday5</th><td>   1.0793615</td><td>6.373618e-01</td><td>1.827881e+00</td></tr>\n",
       "\t<tr><th scope=row>icu_adm_weekday6</th><td>   0.9624705</td><td>5.694236e-01</td><td>1.626820e+00</td></tr>\n",
       "\t<tr><th scope=row>icu_adm_hour1</th><td>   1.1589833</td><td>4.576550e-01</td><td>2.935055e+00</td></tr>\n",
       "\t<tr><th scope=row>icu_adm_hour2</th><td>   0.4640745</td><td>1.771409e-01</td><td>1.215785e+00</td></tr>\n",
       "\t<tr><th scope=row>icu_adm_hour3</th><td>   0.7473903</td><td>2.888517e-01</td><td>1.933837e+00</td></tr>\n",
       "\t<tr><th scope=row>icu_adm_hour4</th><td>   1.3176526</td><td>4.516291e-01</td><td>3.844323e+00</td></tr>\n",
       "\t<tr><th scope=row>icu_adm_hour5</th><td>   0.6485050</td><td>1.884570e-01</td><td>2.231589e+00</td></tr>\n",
       "\t<tr><th scope=row>icu_adm_hour6</th><td>   1.0291165</td><td>3.433588e-01</td><td>3.084473e+00</td></tr>\n",
       "\t<tr><th scope=row>icu_adm_hour7</th><td>   0.3053707</td><td>6.831398e-02</td><td>1.365039e+00</td></tr>\n",
       "\t<tr><th scope=row>icu_adm_hour8</th><td>   0.6931067</td><td>1.924777e-01</td><td>2.495857e+00</td></tr>\n",
       "\t<tr><th scope=row>icu_adm_hour9</th><td>   1.9825135</td><td>7.579137e-01</td><td>5.185762e+00</td></tr>\n",
       "\t<tr><th scope=row>icu_adm_hour10</th><td>   0.6160053</td><td>2.266026e-01</td><td>1.674573e+00</td></tr>\n",
       "\t<tr><th scope=row>icu_adm_hour11</th><td>   0.9804568</td><td>4.032957e-01</td><td>2.383600e+00</td></tr>\n",
       "\t<tr><th scope=row>icu_adm_hour12</th><td>   1.4698518</td><td>6.395394e-01</td><td>3.378156e+00</td></tr>\n",
       "\t<tr><th scope=row>icu_adm_hour13</th><td>   2.0306459</td><td>8.412478e-01</td><td>4.901675e+00</td></tr>\n",
       "\t<tr><th scope=row>icu_adm_hour14</th><td>   1.3574579</td><td>5.919370e-01</td><td>3.112987e+00</td></tr>\n",
       "\t<tr><th scope=row>⋮</th><td>⋮</td><td>⋮</td><td>⋮</td></tr>\n",
       "\t<tr><th scope=row>icu_adm_hour23</th><td>0.6436281 </td><td>0.28734285</td><td>1.4416825 </td></tr>\n",
       "\t<tr><th scope=row>icd_chf1</th><td>0.5999549 </td><td>0.41103421</td><td>0.8757079 </td></tr>\n",
       "\t<tr><th scope=row>icd_afib1</th><td>1.1322649 </td><td>0.81426473</td><td>1.5744557 </td></tr>\n",
       "\t<tr><th scope=row>icd_renal1</th><td>1.1358530 </td><td>0.72899518</td><td>1.7697814 </td></tr>\n",
       "\t<tr><th scope=row>icd_liver1</th><td>1.9009459 </td><td>1.18252476</td><td>3.0558305 </td></tr>\n",
       "\t<tr><th scope=row>icd_copd1</th><td>1.2957510 </td><td>0.88217301</td><td>1.9032214 </td></tr>\n",
       "\t<tr><th scope=row>icd_cad1</th><td>0.7083208 </td><td>0.46206057</td><td>1.0858282 </td></tr>\n",
       "\t<tr><th scope=row>icd_stroke1</th><td>1.6811812 </td><td>0.85449998</td><td>3.3076306 </td></tr>\n",
       "\t<tr><th scope=row>icd_malignancy1</th><td>1.8150160 </td><td>1.29045126</td><td>2.5528149 </td></tr>\n",
       "\t<tr><th scope=row>vs_temp_first</th><td>0.9084642 </td><td>0.80075402</td><td>1.0306626 </td></tr>\n",
       "\t<tr><th scope=row>vs_map_first</th><td>0.9935987 </td><td>0.98575138</td><td>1.0015085 </td></tr>\n",
       "\t<tr><th scope=row>vs_cvp_first</th><td>0.9950995 </td><td>0.98726263</td><td>1.0029985 </td></tr>\n",
       "\t<tr><th scope=row>vs_heart_rate_first</th><td>1.0032124 </td><td>0.99639817</td><td>1.0100732 </td></tr>\n",
       "\t<tr><th scope=row>lab_hemoglobin_first</th><td>0.9335843 </td><td>0.87218747</td><td>0.9993032 </td></tr>\n",
       "\t<tr><th scope=row>lab_wbc_first</th><td>0.9947506 </td><td>0.98382018</td><td>1.0058025 </td></tr>\n",
       "\t<tr><th scope=row>lab_lactate_first</th><td>1.1367416 </td><td>1.05592731</td><td>1.2237409 </td></tr>\n",
       "\t<tr><th scope=row>lab_po2_first</th><td>0.9988226 </td><td>0.99726620</td><td>1.0003813 </td></tr>\n",
       "\t<tr><th scope=row>lab_troponin_flag1</th><td>1.4445728 </td><td>0.98088273</td><td>2.1274617 </td></tr>\n",
       "\t<tr><th scope=row>lab_potassium_first</th><td>1.1273434 </td><td>0.97157302</td><td>1.3080882 </td></tr>\n",
       "\t<tr><th scope=row>lab_creatinine_kinase_flag1</th><td>0.8376558 </td><td>0.57121360</td><td>1.2283799 </td></tr>\n",
       "\t<tr><th scope=row>lab_creatinine_first</th><td>0.7557273 </td><td>0.63451396</td><td>0.9000965 </td></tr>\n",
       "\t<tr><th scope=row>lab_pco2_first</th><td>0.9988376 </td><td>0.98159086</td><td>1.0163874 </td></tr>\n",
       "\t<tr><th scope=row>lab_bnp_flag1</th><td>1.8341043 </td><td>1.01558443</td><td>3.3123179 </td></tr>\n",
       "\t<tr><th scope=row>lab_bicarbonate_first</th><td>1.0355296 </td><td>0.98457450</td><td>1.0891217 </td></tr>\n",
       "\t<tr><th scope=row>lab_bun_first</th><td>1.0095724 </td><td>1.00171716</td><td>1.0174893 </td></tr>\n",
       "\t<tr><th scope=row>lab_platelet_first</th><td>1.0005919 </td><td>0.99953014</td><td>1.0016547 </td></tr>\n",
       "\t<tr><th scope=row>lab_sodium_first</th><td>1.0011521 </td><td>0.95329564</td><td>1.0514110 </td></tr>\n",
       "\t<tr><th scope=row>lab_chloride_first</th><td>0.9877482 </td><td>0.94504805</td><td>1.0323778 </td></tr>\n",
       "\t<tr><th scope=row>lab_ph_first</th><td>0.2425824 </td><td>0.02386632</td><td>2.4656596 </td></tr>\n",
       "\t<tr><th scope=row>sedative1</th><td>0.7551415 </td><td>0.48981572</td><td>1.1641902 </td></tr>\n",
       "</tbody>\n",
       "</table>\n"
      ],
      "text/latex": [
       "\\begin{tabular}{r|lll}\n",
       "  & OR & 2.5 \\% & 97.5 \\%\\\\\n",
       "\\hline\n",
       "\t(Intercept) & 1718.4690128 & 4.119712e-05 & 7.168307e+10\\\\\n",
       "\techo1 &    1.0086755 & 7.246198e-01 & 1.404083e+00\\\\\n",
       "\tage &    1.0278882 & 1.015569e+00 & 1.040357e+00\\\\\n",
       "\tgender1 &    1.2474827 & 9.336617e-01 & 1.666785e+00\\\\\n",
       "\tweight &    1.3107692 & 1.114493e+00 & 1.541613e+00\\\\\n",
       "\tsaps &    1.0687565 & 1.030214e+00 & 1.108741e+00\\\\\n",
       "\tsofa &    1.1967251 & 1.136778e+00 & 1.259833e+00\\\\\n",
       "\telix\\_score &    1.0218273 & 9.974083e-01 & 1.046844e+00\\\\\n",
       "\tvent1 &    1.6164664 & 9.359665e-01 & 2.791728e+00\\\\\n",
       "\tvaso1 &    0.9936909 & 7.012085e-01 & 1.408171e+00\\\\\n",
       "\ticu\\_adm\\_weekday1 &    0.8454908 & 5.032858e-01 & 1.420375e+00\\\\\n",
       "\ticu\\_adm\\_weekday2 &    1.0111361 & 6.053573e-01 & 1.688914e+00\\\\\n",
       "\ticu\\_adm\\_weekday3 &    1.3331205 & 8.211085e-01 & 2.164404e+00\\\\\n",
       "\ticu\\_adm\\_weekday4 &    1.3521573 & 8.313318e-01 & 2.199277e+00\\\\\n",
       "\ticu\\_adm\\_weekday5 &    1.0793615 & 6.373618e-01 & 1.827881e+00\\\\\n",
       "\ticu\\_adm\\_weekday6 &    0.9624705 & 5.694236e-01 & 1.626820e+00\\\\\n",
       "\ticu\\_adm\\_hour1 &    1.1589833 & 4.576550e-01 & 2.935055e+00\\\\\n",
       "\ticu\\_adm\\_hour2 &    0.4640745 & 1.771409e-01 & 1.215785e+00\\\\\n",
       "\ticu\\_adm\\_hour3 &    0.7473903 & 2.888517e-01 & 1.933837e+00\\\\\n",
       "\ticu\\_adm\\_hour4 &    1.3176526 & 4.516291e-01 & 3.844323e+00\\\\\n",
       "\ticu\\_adm\\_hour5 &    0.6485050 & 1.884570e-01 & 2.231589e+00\\\\\n",
       "\ticu\\_adm\\_hour6 &    1.0291165 & 3.433588e-01 & 3.084473e+00\\\\\n",
       "\ticu\\_adm\\_hour7 &    0.3053707 & 6.831398e-02 & 1.365039e+00\\\\\n",
       "\ticu\\_adm\\_hour8 &    0.6931067 & 1.924777e-01 & 2.495857e+00\\\\\n",
       "\ticu\\_adm\\_hour9 &    1.9825135 & 7.579137e-01 & 5.185762e+00\\\\\n",
       "\ticu\\_adm\\_hour10 &    0.6160053 & 2.266026e-01 & 1.674573e+00\\\\\n",
       "\ticu\\_adm\\_hour11 &    0.9804568 & 4.032957e-01 & 2.383600e+00\\\\\n",
       "\ticu\\_adm\\_hour12 &    1.4698518 & 6.395394e-01 & 3.378156e+00\\\\\n",
       "\ticu\\_adm\\_hour13 &    2.0306459 & 8.412478e-01 & 4.901675e+00\\\\\n",
       "\ticu\\_adm\\_hour14 &    1.3574579 & 5.919370e-01 & 3.112987e+00\\\\\n",
       "\t⋮ & ⋮ & ⋮ & ⋮\\\\\n",
       "\ticu\\_adm\\_hour23 & 0.6436281  & 0.28734285 & 1.4416825 \\\\\n",
       "\ticd\\_chf1 & 0.5999549  & 0.41103421 & 0.8757079 \\\\\n",
       "\ticd\\_afib1 & 1.1322649  & 0.81426473 & 1.5744557 \\\\\n",
       "\ticd\\_renal1 & 1.1358530  & 0.72899518 & 1.7697814 \\\\\n",
       "\ticd\\_liver1 & 1.9009459  & 1.18252476 & 3.0558305 \\\\\n",
       "\ticd\\_copd1 & 1.2957510  & 0.88217301 & 1.9032214 \\\\\n",
       "\ticd\\_cad1 & 0.7083208  & 0.46206057 & 1.0858282 \\\\\n",
       "\ticd\\_stroke1 & 1.6811812  & 0.85449998 & 3.3076306 \\\\\n",
       "\ticd\\_malignancy1 & 1.8150160  & 1.29045126 & 2.5528149 \\\\\n",
       "\tvs\\_temp\\_first & 0.9084642  & 0.80075402 & 1.0306626 \\\\\n",
       "\tvs\\_map\\_first & 0.9935987  & 0.98575138 & 1.0015085 \\\\\n",
       "\tvs\\_cvp\\_first & 0.9950995  & 0.98726263 & 1.0029985 \\\\\n",
       "\tvs\\_heart\\_rate\\_first & 1.0032124  & 0.99639817 & 1.0100732 \\\\\n",
       "\tlab\\_hemoglobin\\_first & 0.9335843  & 0.87218747 & 0.9993032 \\\\\n",
       "\tlab\\_wbc\\_first & 0.9947506  & 0.98382018 & 1.0058025 \\\\\n",
       "\tlab\\_lactate\\_first & 1.1367416  & 1.05592731 & 1.2237409 \\\\\n",
       "\tlab\\_po2\\_first & 0.9988226  & 0.99726620 & 1.0003813 \\\\\n",
       "\tlab\\_troponin\\_flag1 & 1.4445728  & 0.98088273 & 2.1274617 \\\\\n",
       "\tlab\\_potassium\\_first & 1.1273434  & 0.97157302 & 1.3080882 \\\\\n",
       "\tlab\\_creatinine\\_kinase\\_flag1 & 0.8376558  & 0.57121360 & 1.2283799 \\\\\n",
       "\tlab\\_creatinine\\_first & 0.7557273  & 0.63451396 & 0.9000965 \\\\\n",
       "\tlab\\_pco2\\_first & 0.9988376  & 0.98159086 & 1.0163874 \\\\\n",
       "\tlab\\_bnp\\_flag1 & 1.8341043  & 1.01558443 & 3.3123179 \\\\\n",
       "\tlab\\_bicarbonate\\_first & 1.0355296  & 0.98457450 & 1.0891217 \\\\\n",
       "\tlab\\_bun\\_first & 1.0095724  & 1.00171716 & 1.0174893 \\\\\n",
       "\tlab\\_platelet\\_first & 1.0005919  & 0.99953014 & 1.0016547 \\\\\n",
       "\tlab\\_sodium\\_first & 1.0011521  & 0.95329564 & 1.0514110 \\\\\n",
       "\tlab\\_chloride\\_first & 0.9877482  & 0.94504805 & 1.0323778 \\\\\n",
       "\tlab\\_ph\\_first & 0.2425824  & 0.02386632 & 2.4656596 \\\\\n",
       "\tsedative1 & 0.7551415  & 0.48981572 & 1.1641902 \\\\\n",
       "\\end{tabular}\n"
      ],
      "text/markdown": [
       "\n",
       "| <!--/--> | OR | 2.5 % | 97.5 % | \n",
       "|---|---|---|---|---|---|---|---|---|---|---|---|---|---|---|---|---|---|---|---|---|---|---|---|---|---|---|---|---|---|---|---|---|---|---|---|---|---|---|---|---|---|---|---|---|---|---|---|---|---|---|---|---|---|---|---|---|---|---|---|---|\n",
       "| (Intercept) | 1718.4690128 | 4.119712e-05 | 7.168307e+10 | \n",
       "| echo1 |    1.0086755 | 7.246198e-01 | 1.404083e+00 | \n",
       "| age |    1.0278882 | 1.015569e+00 | 1.040357e+00 | \n",
       "| gender1 |    1.2474827 | 9.336617e-01 | 1.666785e+00 | \n",
       "| weight |    1.3107692 | 1.114493e+00 | 1.541613e+00 | \n",
       "| saps |    1.0687565 | 1.030214e+00 | 1.108741e+00 | \n",
       "| sofa |    1.1967251 | 1.136778e+00 | 1.259833e+00 | \n",
       "| elix_score |    1.0218273 | 9.974083e-01 | 1.046844e+00 | \n",
       "| vent1 |    1.6164664 | 9.359665e-01 | 2.791728e+00 | \n",
       "| vaso1 |    0.9936909 | 7.012085e-01 | 1.408171e+00 | \n",
       "| icu_adm_weekday1 |    0.8454908 | 5.032858e-01 | 1.420375e+00 | \n",
       "| icu_adm_weekday2 |    1.0111361 | 6.053573e-01 | 1.688914e+00 | \n",
       "| icu_adm_weekday3 |    1.3331205 | 8.211085e-01 | 2.164404e+00 | \n",
       "| icu_adm_weekday4 |    1.3521573 | 8.313318e-01 | 2.199277e+00 | \n",
       "| icu_adm_weekday5 |    1.0793615 | 6.373618e-01 | 1.827881e+00 | \n",
       "| icu_adm_weekday6 |    0.9624705 | 5.694236e-01 | 1.626820e+00 | \n",
       "| icu_adm_hour1 |    1.1589833 | 4.576550e-01 | 2.935055e+00 | \n",
       "| icu_adm_hour2 |    0.4640745 | 1.771409e-01 | 1.215785e+00 | \n",
       "| icu_adm_hour3 |    0.7473903 | 2.888517e-01 | 1.933837e+00 | \n",
       "| icu_adm_hour4 |    1.3176526 | 4.516291e-01 | 3.844323e+00 | \n",
       "| icu_adm_hour5 |    0.6485050 | 1.884570e-01 | 2.231589e+00 | \n",
       "| icu_adm_hour6 |    1.0291165 | 3.433588e-01 | 3.084473e+00 | \n",
       "| icu_adm_hour7 |    0.3053707 | 6.831398e-02 | 1.365039e+00 | \n",
       "| icu_adm_hour8 |    0.6931067 | 1.924777e-01 | 2.495857e+00 | \n",
       "| icu_adm_hour9 |    1.9825135 | 7.579137e-01 | 5.185762e+00 | \n",
       "| icu_adm_hour10 |    0.6160053 | 2.266026e-01 | 1.674573e+00 | \n",
       "| icu_adm_hour11 |    0.9804568 | 4.032957e-01 | 2.383600e+00 | \n",
       "| icu_adm_hour12 |    1.4698518 | 6.395394e-01 | 3.378156e+00 | \n",
       "| icu_adm_hour13 |    2.0306459 | 8.412478e-01 | 4.901675e+00 | \n",
       "| icu_adm_hour14 |    1.3574579 | 5.919370e-01 | 3.112987e+00 | \n",
       "| ⋮ | ⋮ | ⋮ | ⋮ | \n",
       "| icu_adm_hour23 | 0.6436281  | 0.28734285 | 1.4416825  | \n",
       "| icd_chf1 | 0.5999549  | 0.41103421 | 0.8757079  | \n",
       "| icd_afib1 | 1.1322649  | 0.81426473 | 1.5744557  | \n",
       "| icd_renal1 | 1.1358530  | 0.72899518 | 1.7697814  | \n",
       "| icd_liver1 | 1.9009459  | 1.18252476 | 3.0558305  | \n",
       "| icd_copd1 | 1.2957510  | 0.88217301 | 1.9032214  | \n",
       "| icd_cad1 | 0.7083208  | 0.46206057 | 1.0858282  | \n",
       "| icd_stroke1 | 1.6811812  | 0.85449998 | 3.3076306  | \n",
       "| icd_malignancy1 | 1.8150160  | 1.29045126 | 2.5528149  | \n",
       "| vs_temp_first | 0.9084642  | 0.80075402 | 1.0306626  | \n",
       "| vs_map_first | 0.9935987  | 0.98575138 | 1.0015085  | \n",
       "| vs_cvp_first | 0.9950995  | 0.98726263 | 1.0029985  | \n",
       "| vs_heart_rate_first | 1.0032124  | 0.99639817 | 1.0100732  | \n",
       "| lab_hemoglobin_first | 0.9335843  | 0.87218747 | 0.9993032  | \n",
       "| lab_wbc_first | 0.9947506  | 0.98382018 | 1.0058025  | \n",
       "| lab_lactate_first | 1.1367416  | 1.05592731 | 1.2237409  | \n",
       "| lab_po2_first | 0.9988226  | 0.99726620 | 1.0003813  | \n",
       "| lab_troponin_flag1 | 1.4445728  | 0.98088273 | 2.1274617  | \n",
       "| lab_potassium_first | 1.1273434  | 0.97157302 | 1.3080882  | \n",
       "| lab_creatinine_kinase_flag1 | 0.8376558  | 0.57121360 | 1.2283799  | \n",
       "| lab_creatinine_first | 0.7557273  | 0.63451396 | 0.9000965  | \n",
       "| lab_pco2_first | 0.9988376  | 0.98159086 | 1.0163874  | \n",
       "| lab_bnp_flag1 | 1.8341043  | 1.01558443 | 3.3123179  | \n",
       "| lab_bicarbonate_first | 1.0355296  | 0.98457450 | 1.0891217  | \n",
       "| lab_bun_first | 1.0095724  | 1.00171716 | 1.0174893  | \n",
       "| lab_platelet_first | 1.0005919  | 0.99953014 | 1.0016547  | \n",
       "| lab_sodium_first | 1.0011521  | 0.95329564 | 1.0514110  | \n",
       "| lab_chloride_first | 0.9877482  | 0.94504805 | 1.0323778  | \n",
       "| lab_ph_first | 0.2425824  | 0.02386632 | 2.4656596  | \n",
       "| sedative1 | 0.7551415  | 0.48981572 | 1.1641902  | \n",
       "\n",
       "\n"
      ],
      "text/plain": [
       "                            OR           2.5 %        97.5 %      \n",
       "(Intercept)                 1718.4690128 4.119712e-05 7.168307e+10\n",
       "echo1                          1.0086755 7.246198e-01 1.404083e+00\n",
       "age                            1.0278882 1.015569e+00 1.040357e+00\n",
       "gender1                        1.2474827 9.336617e-01 1.666785e+00\n",
       "weight                         1.3107692 1.114493e+00 1.541613e+00\n",
       "saps                           1.0687565 1.030214e+00 1.108741e+00\n",
       "sofa                           1.1967251 1.136778e+00 1.259833e+00\n",
       "elix_score                     1.0218273 9.974083e-01 1.046844e+00\n",
       "vent1                          1.6164664 9.359665e-01 2.791728e+00\n",
       "vaso1                          0.9936909 7.012085e-01 1.408171e+00\n",
       "icu_adm_weekday1               0.8454908 5.032858e-01 1.420375e+00\n",
       "icu_adm_weekday2               1.0111361 6.053573e-01 1.688914e+00\n",
       "icu_adm_weekday3               1.3331205 8.211085e-01 2.164404e+00\n",
       "icu_adm_weekday4               1.3521573 8.313318e-01 2.199277e+00\n",
       "icu_adm_weekday5               1.0793615 6.373618e-01 1.827881e+00\n",
       "icu_adm_weekday6               0.9624705 5.694236e-01 1.626820e+00\n",
       "icu_adm_hour1                  1.1589833 4.576550e-01 2.935055e+00\n",
       "icu_adm_hour2                  0.4640745 1.771409e-01 1.215785e+00\n",
       "icu_adm_hour3                  0.7473903 2.888517e-01 1.933837e+00\n",
       "icu_adm_hour4                  1.3176526 4.516291e-01 3.844323e+00\n",
       "icu_adm_hour5                  0.6485050 1.884570e-01 2.231589e+00\n",
       "icu_adm_hour6                  1.0291165 3.433588e-01 3.084473e+00\n",
       "icu_adm_hour7                  0.3053707 6.831398e-02 1.365039e+00\n",
       "icu_adm_hour8                  0.6931067 1.924777e-01 2.495857e+00\n",
       "icu_adm_hour9                  1.9825135 7.579137e-01 5.185762e+00\n",
       "icu_adm_hour10                 0.6160053 2.266026e-01 1.674573e+00\n",
       "icu_adm_hour11                 0.9804568 4.032957e-01 2.383600e+00\n",
       "icu_adm_hour12                 1.4698518 6.395394e-01 3.378156e+00\n",
       "icu_adm_hour13                 2.0306459 8.412478e-01 4.901675e+00\n",
       "icu_adm_hour14                 1.3574579 5.919370e-01 3.112987e+00\n",
       "⋮                           ⋮            ⋮            ⋮           \n",
       "icu_adm_hour23              0.6436281    0.28734285   1.4416825   \n",
       "icd_chf1                    0.5999549    0.41103421   0.8757079   \n",
       "icd_afib1                   1.1322649    0.81426473   1.5744557   \n",
       "icd_renal1                  1.1358530    0.72899518   1.7697814   \n",
       "icd_liver1                  1.9009459    1.18252476   3.0558305   \n",
       "icd_copd1                   1.2957510    0.88217301   1.9032214   \n",
       "icd_cad1                    0.7083208    0.46206057   1.0858282   \n",
       "icd_stroke1                 1.6811812    0.85449998   3.3076306   \n",
       "icd_malignancy1             1.8150160    1.29045126   2.5528149   \n",
       "vs_temp_first               0.9084642    0.80075402   1.0306626   \n",
       "vs_map_first                0.9935987    0.98575138   1.0015085   \n",
       "vs_cvp_first                0.9950995    0.98726263   1.0029985   \n",
       "vs_heart_rate_first         1.0032124    0.99639817   1.0100732   \n",
       "lab_hemoglobin_first        0.9335843    0.87218747   0.9993032   \n",
       "lab_wbc_first               0.9947506    0.98382018   1.0058025   \n",
       "lab_lactate_first           1.1367416    1.05592731   1.2237409   \n",
       "lab_po2_first               0.9988226    0.99726620   1.0003813   \n",
       "lab_troponin_flag1          1.4445728    0.98088273   2.1274617   \n",
       "lab_potassium_first         1.1273434    0.97157302   1.3080882   \n",
       "lab_creatinine_kinase_flag1 0.8376558    0.57121360   1.2283799   \n",
       "lab_creatinine_first        0.7557273    0.63451396   0.9000965   \n",
       "lab_pco2_first              0.9988376    0.98159086   1.0163874   \n",
       "lab_bnp_flag1               1.8341043    1.01558443   3.3123179   \n",
       "lab_bicarbonate_first       1.0355296    0.98457450   1.0891217   \n",
       "lab_bun_first               1.0095724    1.00171716   1.0174893   \n",
       "lab_platelet_first          1.0005919    0.99953014   1.0016547   \n",
       "lab_sodium_first            1.0011521    0.95329564   1.0514110   \n",
       "lab_chloride_first          0.9877482    0.94504805   1.0323778   \n",
       "lab_ph_first                0.2425824    0.02386632   2.4656596   \n",
       "sedative1                   0.7551415    0.48981572   1.1641902   "
      ]
     },
     "metadata": {},
     "output_type": "display_data"
    }
   ],
   "source": [
    "exp(cbind(OR = coef(logi), confint(logi)))"
   ]
  },
  {
   "cell_type": "code",
   "execution_count": 28,
   "metadata": {},
   "outputs": [],
   "source": [
    "ps_matches <- Match(Y = NULL, Tr = full_data$echo_int, X = full_data$ps, M = 1,\n",
    "                    estimand = \"ATT\", caliper = 0.1,\n",
    "                    exact = FALSE, replace = FALSE)"
   ]
  },
  {
   "cell_type": "code",
   "execution_count": 29,
   "metadata": {},
   "outputs": [
    {
     "name": "stdout",
     "output_type": "stream",
     "text": [
      "\n",
      "Estimate...  0 \n",
      "SE.........  0 \n",
      "T-stat.....  NaN \n",
      "p.val......  NA \n",
      "\n",
      "Original number of observations..............  6162 \n",
      "Original number of treated obs...............  3063 \n",
      "Matched number of observations...............  1572 \n",
      "Matched number of observations  (unweighted).  1572 \n",
      "\n",
      "Number of obs dropped by 'exact' or 'caliper'  1491 \n",
      "\n"
     ]
    }
   ],
   "source": [
    "summary(ps_matches)"
   ]
  },
  {
   "cell_type": "code",
   "execution_count": 30,
   "metadata": {},
   "outputs": [
    {
     "data": {
      "text/plain": [
       "    Control\n",
       "Echo   0   1\n",
       "   0 832 350\n",
       "   1 268 122"
      ]
     },
     "metadata": {},
     "output_type": "display_data"
    }
   ],
   "source": [
    "tab <- table(full_data$mort_28_day[ps_matches$index.treated],\n",
    "             full_data$mort_28_day[ps_matches$index.control],\n",
    "             dnn = c(\"Echo\", \"Control\"))\n",
    "tab"
   ]
  },
  {
   "cell_type": "code",
   "execution_count": 31,
   "metadata": {},
   "outputs": [
    {
     "data": {
      "text/plain": [
       "\n",
       "\tFisher's Exact Test for Count Data\n",
       "\n",
       "data:  tab\n",
       "p-value = 0.5665\n",
       "alternative hypothesis: true odds ratio is not equal to 1\n",
       "95 percent confidence interval:\n",
       " 0.8366275 1.3951699\n",
       "sample estimates:\n",
       "odds ratio \n",
       "  1.082075 \n"
      ]
     },
     "metadata": {},
     "output_type": "display_data"
    }
   ],
   "source": [
    "fisher.test(tab)"
   ]
  },
  {
   "cell_type": "code",
   "execution_count": 32,
   "metadata": {},
   "outputs": [
    {
     "data": {
      "text/plain": [
       "\n",
       "\tMcNemar's Chi-squared test with continuity correction\n",
       "\n",
       "data:  tab\n",
       "McNemar's chi-squared = 10.617, df = 1, p-value = 0.001121\n"
      ]
     },
     "metadata": {},
     "output_type": "display_data"
    }
   ],
   "source": [
    "mcnemar.test(tab)"
   ]
  }
 ],
 "metadata": {
  "kernelspec": {
   "display_name": "R",
   "language": "R",
   "name": "ir"
  },
  "language_info": {
   "codemirror_mode": "r",
   "file_extension": ".r",
   "mimetype": "text/x-r-source",
   "name": "R",
   "pygments_lexer": "r",
   "version": "3.4.2"
  },
  "varInspector": {
   "cols": {
    "lenName": 16,
    "lenType": 16,
    "lenVar": 40
   },
   "kernels_config": {
    "python": {
     "delete_cmd_postfix": "",
     "delete_cmd_prefix": "del ",
     "library": "var_list.py",
     "varRefreshCmd": "print(var_dic_list())"
    },
    "r": {
     "delete_cmd_postfix": ") ",
     "delete_cmd_prefix": "rm(",
     "library": "var_list.r",
     "varRefreshCmd": "cat(var_dic_list()) "
    }
   },
   "types_to_exclude": [
    "module",
    "function",
    "builtin_function_or_method",
    "instance",
    "_Feature"
   ],
   "window_display": false
  }
 },
 "nbformat": 4,
 "nbformat_minor": 2
}
