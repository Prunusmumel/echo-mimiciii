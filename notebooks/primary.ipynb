{
 "cells": [
  {
   "cell_type": "code",
   "execution_count": 1,
   "metadata": {},
   "outputs": [
    {
     "name": "stderr",
     "output_type": "stream",
     "text": [
      "Loading required package: DBI\n",
      "Loading required package: gbm\n",
      "Loading required package: survival\n",
      "Loading required package: lattice\n",
      "Loading required package: splines\n",
      "Loading required package: parallel\n",
      "Loaded gbm 2.1.3\n",
      "Loading required package: survey\n",
      "Loading required package: grid\n",
      "Loading required package: Matrix\n",
      "\n",
      "Attaching package: ‘survey’\n",
      "\n",
      "The following object is masked from ‘package:graphics’:\n",
      "\n",
      "    dotchart\n",
      "\n",
      "Loading required package: xtable\n",
      "Loading required package: latticeExtra\n",
      "Loading required package: RColorBrewer\n",
      "── Attaching packages ─────────────────────────────────────── tidyverse 1.2.1 ──\n",
      "✔ ggplot2 2.2.1     ✔ purrr   0.2.4\n",
      "✔ tibble  1.3.4     ✔ dplyr   0.7.4\n",
      "✔ tidyr   0.7.2     ✔ stringr 1.2.0\n",
      "✔ readr   1.1.1     ✔ forcats 0.2.0\n",
      "── Conflicts ────────────────────────────────────────── tidyverse_conflicts() ──\n",
      "✖ tidyr::expand()  masks Matrix::expand()\n",
      "✖ dplyr::filter()  masks stats::filter()\n",
      "✖ dplyr::lag()     masks stats::lag()\n",
      "✖ ggplot2::layer() masks latticeExtra::layer()\n"
     ]
    }
   ],
   "source": [
    "library(RPostgreSQL)\n",
    "library(twang)\n",
    "library(tidyverse)"
   ]
  },
  {
   "cell_type": "code",
   "execution_count": 70,
   "metadata": {},
   "outputs": [
    {
     "data": {
      "text/plain": [
       "<PostgreSQLResult>"
      ]
     },
     "metadata": {},
     "output_type": "display_data"
    }
   ],
   "source": [
    "drv <- dbDriver(\"PostgreSQL\")\n",
    "con <- dbConnect(drv, dbname = \"mimic\")\n",
    "dbSendQuery(con, \"set search_path=echo,public,mimiciii;\")"
   ]
  },
  {
   "cell_type": "code",
   "execution_count": 71,
   "metadata": {},
   "outputs": [],
   "source": [
    "full_data <- dbGetQuery(con, \"select * from merged_data\")"
   ]
  },
  {
   "cell_type": "code",
   "execution_count": 72,
   "metadata": {},
   "outputs": [
    {
     "data": {
      "text/html": [
       "TRUE"
      ],
      "text/latex": [
       "TRUE"
      ],
      "text/markdown": [
       "TRUE"
      ],
      "text/plain": [
       "[1] TRUE"
      ]
     },
     "metadata": {},
     "output_type": "display_data"
    },
    {
     "data": {
      "text/html": [
       "TRUE"
      ],
      "text/latex": [
       "TRUE"
      ],
      "text/markdown": [
       "TRUE"
      ],
      "text/plain": [
       "[1] TRUE"
      ]
     },
     "metadata": {},
     "output_type": "display_data"
    }
   ],
   "source": [
    "dbDisconnect(con)\n",
    "dbUnloadDriver(drv)"
   ]
  },
  {
   "cell_type": "code",
   "execution_count": 64,
   "metadata": {},
   "outputs": [
    {
     "data": {
      "text/html": [
       "<ol class=list-inline>\n",
       "\t<li>'icd_chf'</li>\n",
       "\t<li>'icd_afib'</li>\n",
       "\t<li>'icd_renal'</li>\n",
       "\t<li>'icd_liver'</li>\n",
       "\t<li>'icd_copd'</li>\n",
       "\t<li>'icd_cad'</li>\n",
       "\t<li>'icd_stroke'</li>\n",
       "\t<li>'icd_malignancy'</li>\n",
       "\t<li>'vs_temp_flag'</li>\n",
       "\t<li>'vs_map_flag'</li>\n",
       "\t<li>'vs_cvp_flag'</li>\n",
       "\t<li>'vs_heart_rate_flag'</li>\n",
       "\t<li>'lab_hemoglobin_flag'</li>\n",
       "\t<li>'lab_hemoglobin_abnormal'</li>\n",
       "\t<li>'lab_wbc_flag'</li>\n",
       "\t<li>'lab_wbc_abnormal'</li>\n",
       "\t<li>'lab_lactate_flag'</li>\n",
       "\t<li>'lab_lactate_abnormal'</li>\n",
       "\t<li>'lab_po2_flag'</li>\n",
       "\t<li>'lab_po2_abnormal'</li>\n",
       "\t<li>'lab_troponin_flag'</li>\n",
       "\t<li>'lab_troponin_abnormal'</li>\n",
       "\t<li>'lab_potassium_flag'</li>\n",
       "\t<li>'lab_potassium_abnormal'</li>\n",
       "\t<li>'lab_creatinine_kinase_flag'</li>\n",
       "\t<li>'lab_creatinine_kinase_abnormal'</li>\n",
       "\t<li>'lab_creatinine_flag'</li>\n",
       "\t<li>'lab_creatinine_abnormal'</li>\n",
       "\t<li>'lab_pco2_flag'</li>\n",
       "\t<li>'lab_pco2_abnormal'</li>\n",
       "\t<li>'lab_bnp_flag'</li>\n",
       "\t<li>'lab_bnp_abnormal'</li>\n",
       "\t<li>'lab_bicarbonate_flag'</li>\n",
       "\t<li>'lab_bicarbonate_abnormal'</li>\n",
       "\t<li>'lab_bun_flag'</li>\n",
       "\t<li>'lab_bun_abnormal'</li>\n",
       "\t<li>'lab_platelet_flag'</li>\n",
       "\t<li>'lab_platelet_abnormal'</li>\n",
       "\t<li>'lab_sodium_flag'</li>\n",
       "\t<li>'lab_sodium_abnormal'</li>\n",
       "\t<li>'lab_chloride_flag'</li>\n",
       "\t<li>'lab_chloride_abnormal'</li>\n",
       "\t<li>'lab_ph_flag'</li>\n",
       "\t<li>'lab_ph_abnormal'</li>\n",
       "\t<li>'gender'</li>\n",
       "\t<li>'first_careunit'</li>\n",
       "\t<li>'echo'</li>\n",
       "\t<li>'vent'</li>\n",
       "\t<li>'vaso'</li>\n",
       "\t<li>'icu_adm_weekday'</li>\n",
       "\t<li>'icu_adm_hour'</li>\n",
       "</ol>\n"
      ],
      "text/latex": [
       "\\begin{enumerate*}\n",
       "\\item 'icd\\_chf'\n",
       "\\item 'icd\\_afib'\n",
       "\\item 'icd\\_renal'\n",
       "\\item 'icd\\_liver'\n",
       "\\item 'icd\\_copd'\n",
       "\\item 'icd\\_cad'\n",
       "\\item 'icd\\_stroke'\n",
       "\\item 'icd\\_malignancy'\n",
       "\\item 'vs\\_temp\\_flag'\n",
       "\\item 'vs\\_map\\_flag'\n",
       "\\item 'vs\\_cvp\\_flag'\n",
       "\\item 'vs\\_heart\\_rate\\_flag'\n",
       "\\item 'lab\\_hemoglobin\\_flag'\n",
       "\\item 'lab\\_hemoglobin\\_abnormal'\n",
       "\\item 'lab\\_wbc\\_flag'\n",
       "\\item 'lab\\_wbc\\_abnormal'\n",
       "\\item 'lab\\_lactate\\_flag'\n",
       "\\item 'lab\\_lactate\\_abnormal'\n",
       "\\item 'lab\\_po2\\_flag'\n",
       "\\item 'lab\\_po2\\_abnormal'\n",
       "\\item 'lab\\_troponin\\_flag'\n",
       "\\item 'lab\\_troponin\\_abnormal'\n",
       "\\item 'lab\\_potassium\\_flag'\n",
       "\\item 'lab\\_potassium\\_abnormal'\n",
       "\\item 'lab\\_creatinine\\_kinase\\_flag'\n",
       "\\item 'lab\\_creatinine\\_kinase\\_abnormal'\n",
       "\\item 'lab\\_creatinine\\_flag'\n",
       "\\item 'lab\\_creatinine\\_abnormal'\n",
       "\\item 'lab\\_pco2\\_flag'\n",
       "\\item 'lab\\_pco2\\_abnormal'\n",
       "\\item 'lab\\_bnp\\_flag'\n",
       "\\item 'lab\\_bnp\\_abnormal'\n",
       "\\item 'lab\\_bicarbonate\\_flag'\n",
       "\\item 'lab\\_bicarbonate\\_abnormal'\n",
       "\\item 'lab\\_bun\\_flag'\n",
       "\\item 'lab\\_bun\\_abnormal'\n",
       "\\item 'lab\\_platelet\\_flag'\n",
       "\\item 'lab\\_platelet\\_abnormal'\n",
       "\\item 'lab\\_sodium\\_flag'\n",
       "\\item 'lab\\_sodium\\_abnormal'\n",
       "\\item 'lab\\_chloride\\_flag'\n",
       "\\item 'lab\\_chloride\\_abnormal'\n",
       "\\item 'lab\\_ph\\_flag'\n",
       "\\item 'lab\\_ph\\_abnormal'\n",
       "\\item 'gender'\n",
       "\\item 'first\\_careunit'\n",
       "\\item 'echo'\n",
       "\\item 'vent'\n",
       "\\item 'vaso'\n",
       "\\item 'icu\\_adm\\_weekday'\n",
       "\\item 'icu\\_adm\\_hour'\n",
       "\\end{enumerate*}\n"
      ],
      "text/markdown": [
       "1. 'icd_chf'\n",
       "2. 'icd_afib'\n",
       "3. 'icd_renal'\n",
       "4. 'icd_liver'\n",
       "5. 'icd_copd'\n",
       "6. 'icd_cad'\n",
       "7. 'icd_stroke'\n",
       "8. 'icd_malignancy'\n",
       "9. 'vs_temp_flag'\n",
       "10. 'vs_map_flag'\n",
       "11. 'vs_cvp_flag'\n",
       "12. 'vs_heart_rate_flag'\n",
       "13. 'lab_hemoglobin_flag'\n",
       "14. 'lab_hemoglobin_abnormal'\n",
       "15. 'lab_wbc_flag'\n",
       "16. 'lab_wbc_abnormal'\n",
       "17. 'lab_lactate_flag'\n",
       "18. 'lab_lactate_abnormal'\n",
       "19. 'lab_po2_flag'\n",
       "20. 'lab_po2_abnormal'\n",
       "21. 'lab_troponin_flag'\n",
       "22. 'lab_troponin_abnormal'\n",
       "23. 'lab_potassium_flag'\n",
       "24. 'lab_potassium_abnormal'\n",
       "25. 'lab_creatinine_kinase_flag'\n",
       "26. 'lab_creatinine_kinase_abnormal'\n",
       "27. 'lab_creatinine_flag'\n",
       "28. 'lab_creatinine_abnormal'\n",
       "29. 'lab_pco2_flag'\n",
       "30. 'lab_pco2_abnormal'\n",
       "31. 'lab_bnp_flag'\n",
       "32. 'lab_bnp_abnormal'\n",
       "33. 'lab_bicarbonate_flag'\n",
       "34. 'lab_bicarbonate_abnormal'\n",
       "35. 'lab_bun_flag'\n",
       "36. 'lab_bun_abnormal'\n",
       "37. 'lab_platelet_flag'\n",
       "38. 'lab_platelet_abnormal'\n",
       "39. 'lab_sodium_flag'\n",
       "40. 'lab_sodium_abnormal'\n",
       "41. 'lab_chloride_flag'\n",
       "42. 'lab_chloride_abnormal'\n",
       "43. 'lab_ph_flag'\n",
       "44. 'lab_ph_abnormal'\n",
       "45. 'gender'\n",
       "46. 'first_careunit'\n",
       "47. 'echo'\n",
       "48. 'vent'\n",
       "49. 'vaso'\n",
       "50. 'icu_adm_weekday'\n",
       "51. 'icu_adm_hour'\n",
       "\n",
       "\n"
      ],
      "text/plain": [
       " [1] \"icd_chf\"                        \"icd_afib\"                      \n",
       " [3] \"icd_renal\"                      \"icd_liver\"                     \n",
       " [5] \"icd_copd\"                       \"icd_cad\"                       \n",
       " [7] \"icd_stroke\"                     \"icd_malignancy\"                \n",
       " [9] \"vs_temp_flag\"                   \"vs_map_flag\"                   \n",
       "[11] \"vs_cvp_flag\"                    \"vs_heart_rate_flag\"            \n",
       "[13] \"lab_hemoglobin_flag\"            \"lab_hemoglobin_abnormal\"       \n",
       "[15] \"lab_wbc_flag\"                   \"lab_wbc_abnormal\"              \n",
       "[17] \"lab_lactate_flag\"               \"lab_lactate_abnormal\"          \n",
       "[19] \"lab_po2_flag\"                   \"lab_po2_abnormal\"              \n",
       "[21] \"lab_troponin_flag\"              \"lab_troponin_abnormal\"         \n",
       "[23] \"lab_potassium_flag\"             \"lab_potassium_abnormal\"        \n",
       "[25] \"lab_creatinine_kinase_flag\"     \"lab_creatinine_kinase_abnormal\"\n",
       "[27] \"lab_creatinine_flag\"            \"lab_creatinine_abnormal\"       \n",
       "[29] \"lab_pco2_flag\"                  \"lab_pco2_abnormal\"             \n",
       "[31] \"lab_bnp_flag\"                   \"lab_bnp_abnormal\"              \n",
       "[33] \"lab_bicarbonate_flag\"           \"lab_bicarbonate_abnormal\"      \n",
       "[35] \"lab_bun_flag\"                   \"lab_bun_abnormal\"              \n",
       "[37] \"lab_platelet_flag\"              \"lab_platelet_abnormal\"         \n",
       "[39] \"lab_sodium_flag\"                \"lab_sodium_abnormal\"           \n",
       "[41] \"lab_chloride_flag\"              \"lab_chloride_abnormal\"         \n",
       "[43] \"lab_ph_flag\"                    \"lab_ph_abnormal\"               \n",
       "[45] \"gender\"                         \"first_careunit\"                \n",
       "[47] \"echo\"                           \"vent\"                          \n",
       "[49] \"vaso\"                           \"icu_adm_weekday\"               \n",
       "[51] \"icu_adm_hour\"                  "
      ]
     },
     "metadata": {},
     "output_type": "display_data"
    }
   ],
   "source": [
    "factor_vars <- full_data %>%\n",
    "    names %>%\n",
    "    grep(\"flag|abnormal|icd\", ., value = TRUE) %>%\n",
    "    c(\"gender\", \"first_careunit\", \"echo\", \"vent\", \"vaso\",\n",
    "      \"icu_adm_weekday\", \"icu_adm_hour\")\n",
    "factor_vars"
   ]
  },
  {
   "cell_type": "code",
   "execution_count": 65,
   "metadata": {},
   "outputs": [],
   "source": [
    "to_factor <- function(x) {\n",
    "    res <- (x %>% as.factor %>% as.integer - 1) %>% as.factor\n",
    "    if(length(levels(res)) <= 1) levels(res) <- c(0, 1)\n",
    "    res\n",
    "}"
   ]
  },
  {
   "cell_type": "code",
   "execution_count": 69,
   "metadata": {},
   "outputs": [
    {
     "data": {
      "text/html": [
       "<ol class=list-inline>\n",
       "\t<li>0</li>\n",
       "\t<li>0</li>\n",
       "\t<li>0</li>\n",
       "\t<li>1</li>\n",
       "\t<li>0</li>\n",
       "\t<li>0</li>\n",
       "</ol>\n"
      ],
      "text/latex": [
       "\\begin{enumerate*}\n",
       "\\item 0\n",
       "\\item 0\n",
       "\\item 0\n",
       "\\item 1\n",
       "\\item 0\n",
       "\\item 0\n",
       "\\end{enumerate*}\n"
      ],
      "text/markdown": [
       "1. 0\n",
       "2. 0\n",
       "3. 0\n",
       "4. 1\n",
       "5. 0\n",
       "6. 0\n",
       "\n",
       "\n"
      ],
      "text/plain": [
       "[1] 0 0 0 1 0 0\n",
       "Levels: 0 1"
      ]
     },
     "metadata": {},
     "output_type": "display_data"
    }
   ],
   "source": [
    "full_data <- full_data %>%\n",
    "    mutate(echo_int = as.integer(echo)) %>%\n",
    "    mutate_at(factor_vars, to_factor)\n",
    "full_data %>% pull(echo) %>% head"
   ]
  },
  {
   "cell_type": "code",
   "execution_count": 86,
   "metadata": {},
   "outputs": [
    {
     "data": {
      "text/html": [
       "<ol class=list-inline>\n",
       "\t<li>'age'</li>\n",
       "\t<li>'gender'</li>\n",
       "\t<li>'weight'</li>\n",
       "\t<li>'saps'</li>\n",
       "\t<li>'sofa'</li>\n",
       "\t<li>'elix_score'</li>\n",
       "\t<li>'vent'</li>\n",
       "\t<li>'vaso'</li>\n",
       "\t<li>'icu_adm_weekday'</li>\n",
       "\t<li>'icu_adm_hour'</li>\n",
       "\t<li>'icd_chf'</li>\n",
       "\t<li>'icd_afib'</li>\n",
       "\t<li>'icd_renal'</li>\n",
       "\t<li>'icd_liver'</li>\n",
       "\t<li>'icd_copd'</li>\n",
       "\t<li>'icd_cad'</li>\n",
       "\t<li>'icd_stroke'</li>\n",
       "\t<li>'icd_malignancy'</li>\n",
       "\t<li>'vs_temp_first'</li>\n",
       "\t<li>'vs_map_first'</li>\n",
       "\t<li>'vs_cvp_first'</li>\n",
       "\t<li>'vs_heart_rate_first'</li>\n",
       "\t<li>'lab_hemoglobin_first'</li>\n",
       "\t<li>'lab_wbc_first'</li>\n",
       "\t<li>'lab_lactate_first'</li>\n",
       "\t<li>'lab_po2_first'</li>\n",
       "\t<li>'lab_troponin_flag'</li>\n",
       "\t<li>'lab_potassium_first'</li>\n",
       "\t<li>'lab_creatinine_kinase_flag'</li>\n",
       "\t<li>'lab_creatinine_first'</li>\n",
       "\t<li>'lab_pco2_first'</li>\n",
       "\t<li>'lab_bnp_flag'</li>\n",
       "\t<li>'lab_bicarbonate_first'</li>\n",
       "\t<li>'lab_bun_first'</li>\n",
       "\t<li>'lab_platelet_first'</li>\n",
       "\t<li>'lab_sodium_first'</li>\n",
       "\t<li>'lab_chloride_first'</li>\n",
       "\t<li>'lab_ph_first'</li>\n",
       "</ol>\n"
      ],
      "text/latex": [
       "\\begin{enumerate*}\n",
       "\\item 'age'\n",
       "\\item 'gender'\n",
       "\\item 'weight'\n",
       "\\item 'saps'\n",
       "\\item 'sofa'\n",
       "\\item 'elix\\_score'\n",
       "\\item 'vent'\n",
       "\\item 'vaso'\n",
       "\\item 'icu\\_adm\\_weekday'\n",
       "\\item 'icu\\_adm\\_hour'\n",
       "\\item 'icd\\_chf'\n",
       "\\item 'icd\\_afib'\n",
       "\\item 'icd\\_renal'\n",
       "\\item 'icd\\_liver'\n",
       "\\item 'icd\\_copd'\n",
       "\\item 'icd\\_cad'\n",
       "\\item 'icd\\_stroke'\n",
       "\\item 'icd\\_malignancy'\n",
       "\\item 'vs\\_temp\\_first'\n",
       "\\item 'vs\\_map\\_first'\n",
       "\\item 'vs\\_cvp\\_first'\n",
       "\\item 'vs\\_heart\\_rate\\_first'\n",
       "\\item 'lab\\_hemoglobin\\_first'\n",
       "\\item 'lab\\_wbc\\_first'\n",
       "\\item 'lab\\_lactate\\_first'\n",
       "\\item 'lab\\_po2\\_first'\n",
       "\\item 'lab\\_troponin\\_flag'\n",
       "\\item 'lab\\_potassium\\_first'\n",
       "\\item 'lab\\_creatinine\\_kinase\\_flag'\n",
       "\\item 'lab\\_creatinine\\_first'\n",
       "\\item 'lab\\_pco2\\_first'\n",
       "\\item 'lab\\_bnp\\_flag'\n",
       "\\item 'lab\\_bicarbonate\\_first'\n",
       "\\item 'lab\\_bun\\_first'\n",
       "\\item 'lab\\_platelet\\_first'\n",
       "\\item 'lab\\_sodium\\_first'\n",
       "\\item 'lab\\_chloride\\_first'\n",
       "\\item 'lab\\_ph\\_first'\n",
       "\\end{enumerate*}\n"
      ],
      "text/markdown": [
       "1. 'age'\n",
       "2. 'gender'\n",
       "3. 'weight'\n",
       "4. 'saps'\n",
       "5. 'sofa'\n",
       "6. 'elix_score'\n",
       "7. 'vent'\n",
       "8. 'vaso'\n",
       "9. 'icu_adm_weekday'\n",
       "10. 'icu_adm_hour'\n",
       "11. 'icd_chf'\n",
       "12. 'icd_afib'\n",
       "13. 'icd_renal'\n",
       "14. 'icd_liver'\n",
       "15. 'icd_copd'\n",
       "16. 'icd_cad'\n",
       "17. 'icd_stroke'\n",
       "18. 'icd_malignancy'\n",
       "19. 'vs_temp_first'\n",
       "20. 'vs_map_first'\n",
       "21. 'vs_cvp_first'\n",
       "22. 'vs_heart_rate_first'\n",
       "23. 'lab_hemoglobin_first'\n",
       "24. 'lab_wbc_first'\n",
       "25. 'lab_lactate_first'\n",
       "26. 'lab_po2_first'\n",
       "27. 'lab_troponin_flag'\n",
       "28. 'lab_potassium_first'\n",
       "29. 'lab_creatinine_kinase_flag'\n",
       "30. 'lab_creatinine_first'\n",
       "31. 'lab_pco2_first'\n",
       "32. 'lab_bnp_flag'\n",
       "33. 'lab_bicarbonate_first'\n",
       "34. 'lab_bun_first'\n",
       "35. 'lab_platelet_first'\n",
       "36. 'lab_sodium_first'\n",
       "37. 'lab_chloride_first'\n",
       "38. 'lab_ph_first'\n",
       "\n",
       "\n"
      ],
      "text/plain": [
       " [1] \"age\"                        \"gender\"                    \n",
       " [3] \"weight\"                     \"saps\"                      \n",
       " [5] \"sofa\"                       \"elix_score\"                \n",
       " [7] \"vent\"                       \"vaso\"                      \n",
       " [9] \"icu_adm_weekday\"            \"icu_adm_hour\"              \n",
       "[11] \"icd_chf\"                    \"icd_afib\"                  \n",
       "[13] \"icd_renal\"                  \"icd_liver\"                 \n",
       "[15] \"icd_copd\"                   \"icd_cad\"                   \n",
       "[17] \"icd_stroke\"                 \"icd_malignancy\"            \n",
       "[19] \"vs_temp_first\"              \"vs_map_first\"              \n",
       "[21] \"vs_cvp_first\"               \"vs_heart_rate_first\"       \n",
       "[23] \"lab_hemoglobin_first\"       \"lab_wbc_first\"             \n",
       "[25] \"lab_lactate_first\"          \"lab_po2_first\"             \n",
       "[27] \"lab_troponin_flag\"          \"lab_potassium_first\"       \n",
       "[29] \"lab_creatinine_kinase_flag\" \"lab_creatinine_first\"      \n",
       "[31] \"lab_pco2_first\"             \"lab_bnp_flag\"              \n",
       "[33] \"lab_bicarbonate_first\"      \"lab_bun_first\"             \n",
       "[35] \"lab_platelet_first\"         \"lab_sodium_first\"          \n",
       "[37] \"lab_chloride_first\"         \"lab_ph_first\"              "
      ]
     },
     "metadata": {},
     "output_type": "display_data"
    },
    {
     "data": {
      "text/html": [
       "38"
      ],
      "text/latex": [
       "38"
      ],
      "text/markdown": [
       "38"
      ],
      "text/plain": [
       "[1] 38"
      ]
     },
     "metadata": {},
     "output_type": "display_data"
    }
   ],
   "source": [
    "feature_names <- full_data %>%\n",
    "    names %>%\n",
    "    keep(grepl(\"vs|lab|icd|age|gender|weight|saps|sofa|elix_score|vent|vaso|icu_adm\", .)) %>%\n",
    "    discard(grepl(\"vs|lab\", .) & grepl(\"flag\", .) & !grepl(\"bnp|troponin|kinase\", .)) %>%\n",
    "    discard(grepl(\"bnp|troponin|kinase\", .) & !grepl(\"flag\", .)) %>%\n",
    "    discard(grepl(\"min|max\", .)) %>%\n",
    "    discard(grepl(\"abnormal\", .))\n",
    "feature_names\n",
    "length(feature_names)"
   ]
  },
  {
   "cell_type": "code",
   "execution_count": 87,
   "metadata": {},
   "outputs": [
    {
     "data": {
      "text/html": [
       "<table>\n",
       "<thead><tr><th scope=col>age</th><th scope=col>gender</th><th scope=col>weight</th><th scope=col>saps</th><th scope=col>sofa</th><th scope=col>elix_score</th><th scope=col>vent</th><th scope=col>vaso</th><th scope=col>icu_adm_weekday</th><th scope=col>icu_adm_hour</th><th scope=col>⋯</th><th scope=col>lab_creatinine_first</th><th scope=col>lab_pco2_first</th><th scope=col>lab_bnp_flag</th><th scope=col>lab_bicarbonate_first</th><th scope=col>lab_bun_first</th><th scope=col>lab_platelet_first</th><th scope=col>lab_sodium_first</th><th scope=col>lab_chloride_first</th><th scope=col>lab_ph_first</th><th scope=col>echo</th></tr></thead>\n",
       "<tbody>\n",
       "\t<tr><td> 62.67646</td><td>2        </td><td>1.780838 </td><td>25       </td><td>5        </td><td> 5       </td><td>1        </td><td>0        </td><td>2        </td><td> 1       </td><td>⋯        </td><td>3.7      </td><td>32       </td><td>0        </td><td>22       </td><td>208      </td><td>313      </td><td>160      </td><td>123      </td><td>7.45     </td><td>0        </td></tr>\n",
       "\t<tr><td> 86.76186</td><td>1        </td><td>1.187020 </td><td>13       </td><td>1        </td><td>10       </td><td>0        </td><td>0        </td><td>4        </td><td> 1       </td><td>⋯        </td><td>0.9      </td><td>NA       </td><td>0        </td><td>27       </td><td> 17      </td><td>189      </td><td>139      </td><td>105      </td><td>  NA     </td><td>0        </td></tr>\n",
       "\t<tr><td> 56.08904</td><td>2        </td><td>1.447040 </td><td>18       </td><td>5        </td><td>14       </td><td>1        </td><td>0        </td><td>6        </td><td> 1       </td><td>⋯        </td><td>0.9      </td><td>32       </td><td>0        </td><td>24       </td><td> 15      </td><td>231      </td><td>144      </td><td>108      </td><td>7.49     </td><td>0        </td></tr>\n",
       "\t<tr><td> 45.91093</td><td>2        </td><td>1.435399 </td><td>16       </td><td>9        </td><td>13       </td><td>0        </td><td>0        </td><td>3        </td><td>14       </td><td>⋯        </td><td>0.8      </td><td>30       </td><td>0        </td><td>20       </td><td> 19      </td><td> 28      </td><td>134      </td><td>100      </td><td>7.44     </td><td>1        </td></tr>\n",
       "\t<tr><td> 59.38693</td><td>2        </td><td>1.497568 </td><td>13       </td><td>3        </td><td>22       </td><td>0        </td><td>0        </td><td>3        </td><td>14       </td><td>⋯        </td><td>0.7      </td><td>NA       </td><td>0        </td><td>26       </td><td>  7      </td><td> 40      </td><td>138      </td><td>103      </td><td>  NA     </td><td>0        </td></tr>\n",
       "\t<tr><td>300.00345</td><td>1        </td><td>1.314525 </td><td>25       </td><td>5        </td><td> 0       </td><td>0        </td><td>0        </td><td>6        </td><td>20       </td><td>⋯        </td><td>0.8      </td><td>NA       </td><td>0        </td><td>20       </td><td> 19      </td><td>249      </td><td>147      </td><td>118      </td><td>  NA     </td><td>0        </td></tr>\n",
       "</tbody>\n",
       "</table>\n"
      ],
      "text/latex": [
       "\\begin{tabular}{r|lllllllllllllllllllllllllllllllllllllll}\n",
       " age & gender & weight & saps & sofa & elix\\_score & vent & vaso & icu\\_adm\\_weekday & icu\\_adm\\_hour & ⋯ & lab\\_creatinine\\_first & lab\\_pco2\\_first & lab\\_bnp\\_flag & lab\\_bicarbonate\\_first & lab\\_bun\\_first & lab\\_platelet\\_first & lab\\_sodium\\_first & lab\\_chloride\\_first & lab\\_ph\\_first & echo\\\\\n",
       "\\hline\n",
       "\t  62.67646 & 2         & 1.780838  & 25        & 5         &  5        & 1         & 0         & 2         &  1        & ⋯         & 3.7       & 32        & 0         & 22        & 208       & 313       & 160       & 123       & 7.45      & 0        \\\\\n",
       "\t  86.76186 & 1         & 1.187020  & 13        & 1         & 10        & 0         & 0         & 4         &  1        & ⋯         & 0.9       & NA        & 0         & 27        &  17       & 189       & 139       & 105       &   NA      & 0        \\\\\n",
       "\t  56.08904 & 2         & 1.447040  & 18        & 5         & 14        & 1         & 0         & 6         &  1        & ⋯         & 0.9       & 32        & 0         & 24        &  15       & 231       & 144       & 108       & 7.49      & 0        \\\\\n",
       "\t  45.91093 & 2         & 1.435399  & 16        & 9         & 13        & 0         & 0         & 3         & 14        & ⋯         & 0.8       & 30        & 0         & 20        &  19       &  28       & 134       & 100       & 7.44      & 1        \\\\\n",
       "\t  59.38693 & 2         & 1.497568  & 13        & 3         & 22        & 0         & 0         & 3         & 14        & ⋯         & 0.7       & NA        & 0         & 26        &   7       &  40       & 138       & 103       &   NA      & 0        \\\\\n",
       "\t 300.00345 & 1         & 1.314525  & 25        & 5         &  0        & 0         & 0         & 6         & 20        & ⋯         & 0.8       & NA        & 0         & 20        &  19       & 249       & 147       & 118       &   NA      & 0        \\\\\n",
       "\\end{tabular}\n"
      ],
      "text/markdown": [
       "\n",
       "age | gender | weight | saps | sofa | elix_score | vent | vaso | icu_adm_weekday | icu_adm_hour | ⋯ | lab_creatinine_first | lab_pco2_first | lab_bnp_flag | lab_bicarbonate_first | lab_bun_first | lab_platelet_first | lab_sodium_first | lab_chloride_first | lab_ph_first | echo | \n",
       "|---|---|---|---|---|---|\n",
       "|  62.67646 | 2         | 1.780838  | 25        | 5         |  5        | 1         | 0         | 2         |  1        | ⋯         | 3.7       | 32        | 0         | 22        | 208       | 313       | 160       | 123       | 7.45      | 0         | \n",
       "|  86.76186 | 1         | 1.187020  | 13        | 1         | 10        | 0         | 0         | 4         |  1        | ⋯         | 0.9       | NA        | 0         | 27        |  17       | 189       | 139       | 105       |   NA      | 0         | \n",
       "|  56.08904 | 2         | 1.447040  | 18        | 5         | 14        | 1         | 0         | 6         |  1        | ⋯         | 0.9       | 32        | 0         | 24        |  15       | 231       | 144       | 108       | 7.49      | 0         | \n",
       "|  45.91093 | 2         | 1.435399  | 16        | 9         | 13        | 0         | 0         | 3         | 14        | ⋯         | 0.8       | 30        | 0         | 20        |  19       |  28       | 134       | 100       | 7.44      | 1         | \n",
       "|  59.38693 | 2         | 1.497568  | 13        | 3         | 22        | 0         | 0         | 3         | 14        | ⋯         | 0.7       | NA        | 0         | 26        |   7       |  40       | 138       | 103       |   NA      | 0         | \n",
       "| 300.00345 | 1         | 1.314525  | 25        | 5         |  0        | 0         | 0         | 6         | 20        | ⋯         | 0.8       | NA        | 0         | 20        |  19       | 249       | 147       | 118       |   NA      | 0         | \n",
       "\n",
       "\n"
      ],
      "text/plain": [
       "  age       gender weight   saps sofa elix_score vent vaso icu_adm_weekday\n",
       "1  62.67646 2      1.780838 25   5     5         1    0    2              \n",
       "2  86.76186 1      1.187020 13   1    10         0    0    4              \n",
       "3  56.08904 2      1.447040 18   5    14         1    0    6              \n",
       "4  45.91093 2      1.435399 16   9    13         0    0    3              \n",
       "5  59.38693 2      1.497568 13   3    22         0    0    3              \n",
       "6 300.00345 1      1.314525 25   5     0         0    0    6              \n",
       "  icu_adm_hour ⋯ lab_creatinine_first lab_pco2_first lab_bnp_flag\n",
       "1  1           ⋯ 3.7                  32             0           \n",
       "2  1           ⋯ 0.9                  NA             0           \n",
       "3  1           ⋯ 0.9                  32             0           \n",
       "4 14           ⋯ 0.8                  30             0           \n",
       "5 14           ⋯ 0.7                  NA             0           \n",
       "6 20           ⋯ 0.8                  NA             0           \n",
       "  lab_bicarbonate_first lab_bun_first lab_platelet_first lab_sodium_first\n",
       "1 22                    208           313                160             \n",
       "2 27                     17           189                139             \n",
       "3 24                     15           231                144             \n",
       "4 20                     19            28                134             \n",
       "5 26                      7            40                138             \n",
       "6 20                     19           249                147             \n",
       "  lab_chloride_first lab_ph_first echo\n",
       "1 123                7.45         0   \n",
       "2 105                  NA         0   \n",
       "3 108                7.49         0   \n",
       "4 100                7.44         1   \n",
       "5 103                  NA         0   \n",
       "6 118                  NA         0   "
      ]
     },
     "metadata": {},
     "output_type": "display_data"
    }
   ],
   "source": [
    "features <- full_data %>%\n",
    "    select(!!!rlang::syms(feature_names), echo) %>%\n",
    "    mutate(gender = as.integer(as.factor(gender)))\n",
    "head(features)"
   ]
  },
  {
   "cell_type": "code",
   "execution_count": 88,
   "metadata": {},
   "outputs": [],
   "source": [
    "label_name <- \"echo\""
   ]
  },
  {
   "cell_type": "code",
   "execution_count": 89,
   "metadata": {},
   "outputs": [
    {
     "data": {
      "text/html": [
       "<ol class=list-inline>\n",
       "\t<li>0</li>\n",
       "\t<li>0</li>\n",
       "\t<li>0</li>\n",
       "\t<li>1</li>\n",
       "\t<li>0</li>\n",
       "\t<li>0</li>\n",
       "</ol>\n"
      ],
      "text/latex": [
       "\\begin{enumerate*}\n",
       "\\item 0\n",
       "\\item 0\n",
       "\\item 0\n",
       "\\item 1\n",
       "\\item 0\n",
       "\\item 0\n",
       "\\end{enumerate*}\n"
      ],
      "text/markdown": [
       "1. 0\n",
       "2. 0\n",
       "3. 0\n",
       "4. 1\n",
       "5. 0\n",
       "6. 0\n",
       "\n",
       "\n"
      ],
      "text/plain": [
       "[1] 0 0 0 1 0 0"
      ]
     },
     "metadata": {},
     "output_type": "display_data"
    }
   ],
   "source": [
    "label <- full_data %>% pull(echo)\n",
    "head(label)"
   ]
  },
  {
   "cell_type": "code",
   "execution_count": 95,
   "metadata": {},
   "outputs": [
    {
     "data": {
      "text/html": [
       "'mort_28_day ~ echo + age + gender + weight + saps + sofa + elix_score + vent + vaso + icu_adm_weekday + icu_adm_hour + icd_chf + icd_afib + icd_renal + icd_liver + icd_copd + icd_cad + icd_stroke + icd_malignancy + vs_temp_first + vs_map_first + vs_cvp_first + vs_heart_rate_first + lab_hemoglobin_first + lab_wbc_first + lab_lactate_first + lab_po2_first + lab_troponin_flag + lab_potassium_first + lab_creatinine_kinase_flag + lab_creatinine_first + lab_pco2_first + lab_bnp_flag + lab_bicarbonate_first + lab_bun_first + lab_platelet_first + lab_sodium_first + lab_chloride_first + lab_ph_first'"
      ],
      "text/latex": [
       "'mort\\_28\\_day \\textasciitilde{} echo + age + gender + weight + saps + sofa + elix\\_score + vent + vaso + icu\\_adm\\_weekday + icu\\_adm\\_hour + icd\\_chf + icd\\_afib + icd\\_renal + icd\\_liver + icd\\_copd + icd\\_cad + icd\\_stroke + icd\\_malignancy + vs\\_temp\\_first + vs\\_map\\_first + vs\\_cvp\\_first + vs\\_heart\\_rate\\_first + lab\\_hemoglobin\\_first + lab\\_wbc\\_first + lab\\_lactate\\_first + lab\\_po2\\_first + lab\\_troponin\\_flag + lab\\_potassium\\_first + lab\\_creatinine\\_kinase\\_flag + lab\\_creatinine\\_first + lab\\_pco2\\_first + lab\\_bnp\\_flag + lab\\_bicarbonate\\_first + lab\\_bun\\_first + lab\\_platelet\\_first + lab\\_sodium\\_first + lab\\_chloride\\_first + lab\\_ph\\_first'"
      ],
      "text/markdown": [
       "'mort_28_day ~ echo + age + gender + weight + saps + sofa + elix_score + vent + vaso + icu_adm_weekday + icu_adm_hour + icd_chf + icd_afib + icd_renal + icd_liver + icd_copd + icd_cad + icd_stroke + icd_malignancy + vs_temp_first + vs_map_first + vs_cvp_first + vs_heart_rate_first + lab_hemoglobin_first + lab_wbc_first + lab_lactate_first + lab_po2_first + lab_troponin_flag + lab_potassium_first + lab_creatinine_kinase_flag + lab_creatinine_first + lab_pco2_first + lab_bnp_flag + lab_bicarbonate_first + lab_bun_first + lab_platelet_first + lab_sodium_first + lab_chloride_first + lab_ph_first'"
      ],
      "text/plain": [
       "[1] \"mort_28_day ~ echo + age + gender + weight + saps + sofa + elix_score + vent + vaso + icu_adm_weekday + icu_adm_hour + icd_chf + icd_afib + icd_renal + icd_liver + icd_copd + icd_cad + icd_stroke + icd_malignancy + vs_temp_first + vs_map_first + vs_cvp_first + vs_heart_rate_first + lab_hemoglobin_first + lab_wbc_first + lab_lactate_first + lab_po2_first + lab_troponin_flag + lab_potassium_first + lab_creatinine_kinase_flag + lab_creatinine_first + lab_pco2_first + lab_bnp_flag + lab_bicarbonate_first + lab_bun_first + lab_platelet_first + lab_sodium_first + lab_chloride_first + lab_ph_first\""
      ]
     },
     "metadata": {},
     "output_type": "display_data"
    }
   ],
   "source": [
    "fml <- feature_names %>%\n",
    "    c(\"echo\", .) %>%\n",
    "    paste(collapse = \" + \") %>%\n",
    "    sprintf(\"mort_28_day ~ %s\", .)\n",
    "fml"
   ]
  },
  {
   "cell_type": "code",
   "execution_count": 96,
   "metadata": {},
   "outputs": [
    {
     "data": {
      "text/plain": [
       "\n",
       "Call:\n",
       "glm(formula = as.formula(fml), family = binomial, data = full_data, \n",
       "    na.action = na.exclude)\n",
       "\n",
       "Deviance Residuals: \n",
       "    Min       1Q   Median       3Q      Max  \n",
       "-2.4893  -0.7486  -0.4481   0.7799   2.6494  \n",
       "\n",
       "Coefficients:\n",
       "                             Estimate Std. Error z value Pr(>|z|)    \n",
       "(Intercept)                -0.2906855  8.0750064  -0.036 0.971284    \n",
       "echo                        0.0081572  0.1601857   0.051 0.959387    \n",
       "age                         0.0046693  0.0011542   4.045 5.22e-05 ***\n",
       "genderM                     0.2420212  0.1337974   1.809 0.070472 .  \n",
       "weight                      0.3427170  0.0900850   3.804 0.000142 ***\n",
       "saps                        0.0867994  0.0164025   5.292 1.21e-07 ***\n",
       "sofa                        0.1460780  0.0243691   5.994 2.04e-09 ***\n",
       "elix_score                  0.0258133  0.0108557   2.378 0.017414 *  \n",
       "vent                       -0.0081165  0.1938314  -0.042 0.966599    \n",
       "vaso                        0.0649022  0.1649038   0.394 0.693894    \n",
       "icu_adm_weekday             0.0211558  0.0324658   0.652 0.514638    \n",
       "icu_adm_hour                0.0140564  0.0090384   1.555 0.119903    \n",
       "icd_chf                    -0.3503298  0.1667662  -2.101 0.035665 *  \n",
       "icd_afib                    0.1024917  0.1473155   0.696 0.486598    \n",
       "icd_renal                   0.1828043  0.2027853   0.901 0.367340    \n",
       "icd_liver                   0.4562114  0.2262658   2.016 0.043772 *  \n",
       "icd_copd                    0.4536371  0.1789772   2.535 0.011257 *  \n",
       "icd_cad                    -0.1908151  0.1996626  -0.956 0.339230    \n",
       "icd_stroke                  0.3903526  0.2803046   1.393 0.163740    \n",
       "icd_malignancy              0.5495441  0.1610710   3.412 0.000645 ***\n",
       "vs_temp_first              -0.1316631  0.0553104  -2.380 0.017292 *  \n",
       "vs_map_first               -0.0094447  0.0034564  -2.733 0.006285 ** \n",
       "vs_cvp_first               -0.0018764  0.0030883  -0.608 0.543453    \n",
       "vs_heart_rate_first         0.0017048  0.0031406   0.543 0.587240    \n",
       "lab_hemoglobin_first       -0.0364212  0.0328140  -1.110 0.267029    \n",
       "lab_wbc_first              -0.0051390  0.0054967  -0.935 0.349830    \n",
       "lab_lactate_first           0.1377454  0.0342494   4.022 5.77e-05 ***\n",
       "lab_po2_first              -0.0007630  0.0006793  -1.123 0.261310    \n",
       "lab_troponin_flag           0.3593704  0.1824000   1.970 0.048812 *  \n",
       "lab_potassium_first         0.0824645  0.0705370   1.169 0.242365    \n",
       "lab_creatinine_kinase_flag -0.1292575  0.1838033  -0.703 0.481907    \n",
       "lab_creatinine_first       -0.2513727  0.0699949  -3.591 0.000329 ***\n",
       "lab_pco2_first              0.0072699  0.0087075   0.835 0.403773    \n",
       "lab_bnp_flag                0.6120469  0.3120281   1.962 0.049819 *  \n",
       "lab_bicarbonate_first       0.0205566  0.0242297   0.848 0.396213    \n",
       "lab_bun_first               0.0093481  0.0033028   2.830 0.004649 ** \n",
       "lab_platelet_first          0.0004350  0.0005155   0.844 0.398715    \n",
       "lab_sodium_first           -0.0038285  0.0214493  -0.178 0.858338    \n",
       "lab_chloride_first         -0.0046648  0.0196959  -0.237 0.812781    \n",
       "lab_ph_first               -0.0487958  1.0764411  -0.045 0.963844    \n",
       "---\n",
       "Signif. codes:  0 ‘***’ 0.001 ‘**’ 0.01 ‘*’ 0.05 ‘.’ 0.1 ‘ ’ 1\n",
       "\n",
       "(Dispersion parameter for binomial family taken to be 1)\n",
       "\n",
       "    Null deviance: 2048.8  on 1633  degrees of freedom\n",
       "Residual deviance: 1569.3  on 1594  degrees of freedom\n",
       "  (4528 observations deleted due to missingness)\n",
       "AIC: 1649.3\n",
       "\n",
       "Number of Fisher Scoring iterations: 5\n"
      ]
     },
     "metadata": {},
     "output_type": "display_data"
    },
    {
     "name": "stderr",
     "output_type": "stream",
     "text": [
      "Waiting for profiling to be done...\n"
     ]
    },
    {
     "data": {
      "text/html": [
       "<table>\n",
       "<thead><tr><th></th><th scope=col>OR</th><th scope=col>2.5 %</th><th scope=col>97.5 %</th></tr></thead>\n",
       "<tbody>\n",
       "\t<tr><th scope=row>(Intercept)</th><td>0.7477508   </td><td>8.637402e-08</td><td>5.005508e+06</td></tr>\n",
       "\t<tr><th scope=row>echo</th><td>1.0081905   </td><td>7.364170e-01</td><td>1.380510e+00</td></tr>\n",
       "\t<tr><th scope=row>age</th><td>1.0046802   </td><td>1.002410e+00</td><td>1.006964e+00</td></tr>\n",
       "\t<tr><th scope=row>genderM</th><td>1.2738212   </td><td>9.802728e-01</td><td>1.656754e+00</td></tr>\n",
       "\t<tr><th scope=row>weight</th><td>1.4087700   </td><td>1.182154e+00</td><td>1.683838e+00</td></tr>\n",
       "\t<tr><th scope=row>saps</th><td>1.0906778   </td><td>1.056373e+00</td><td>1.126578e+00</td></tr>\n",
       "\t<tr><th scope=row>sofa</th><td>1.1572864   </td><td>1.103693e+00</td><td>1.214407e+00</td></tr>\n",
       "\t<tr><th scope=row>elix_score</th><td>1.0261493   </td><td>1.004531e+00</td><td>1.048231e+00</td></tr>\n",
       "\t<tr><th scope=row>vent</th><td>0.9919164   </td><td>6.798851e-01</td><td>1.454631e+00</td></tr>\n",
       "\t<tr><th scope=row>vaso</th><td>1.0670546   </td><td>7.728758e-01</td><td>1.475978e+00</td></tr>\n",
       "\t<tr><th scope=row>icu_adm_weekday</th><td>1.0213811   </td><td>9.584453e-01</td><td>1.088608e+00</td></tr>\n",
       "\t<tr><th scope=row>icu_adm_hour</th><td>1.0141557   </td><td>9.964265e-01</td><td>1.032387e+00</td></tr>\n",
       "\t<tr><th scope=row>icd_chf</th><td>0.7044557   </td><td>5.071716e-01</td><td>9.755504e-01</td></tr>\n",
       "\t<tr><th scope=row>icd_afib</th><td>1.1079281   </td><td>8.291973e-01</td><td>1.477774e+00</td></tr>\n",
       "\t<tr><th scope=row>icd_renal</th><td>1.2005794   </td><td>8.051847e-01</td><td>1.784278e+00</td></tr>\n",
       "\t<tr><th scope=row>icd_liver</th><td>1.5780839   </td><td>1.012189e+00</td><td>2.459210e+00</td></tr>\n",
       "\t<tr><th scope=row>icd_copd</th><td>1.5740267   </td><td>1.106660e+00</td><td>2.233503e+00</td></tr>\n",
       "\t<tr><th scope=row>icd_cad</th><td>0.8262854   </td><td>5.559201e-01</td><td>1.217116e+00</td></tr>\n",
       "\t<tr><th scope=row>icd_stroke</th><td>1.4775016   </td><td>8.441323e-01</td><td>2.540416e+00</td></tr>\n",
       "\t<tr><th scope=row>icd_malignancy</th><td>1.7324631   </td><td>1.263046e+00</td><td>2.375899e+00</td></tr>\n",
       "\t<tr><th scope=row>vs_temp_first</th><td>0.8766363   </td><td>7.859092e-01</td><td>9.743873e-01</td></tr>\n",
       "\t<tr><th scope=row>vs_map_first</th><td>0.9905998   </td><td>9.838206e-01</td><td>9.972520e-01</td></tr>\n",
       "\t<tr><th scope=row>vs_cvp_first</th><td>0.9981253   </td><td>9.914459e-01</td><td>1.003886e+00</td></tr>\n",
       "\t<tr><th scope=row>vs_heart_rate_first</th><td>1.0017063   </td><td>9.955422e-01</td><td>1.007884e+00</td></tr>\n",
       "\t<tr><th scope=row>lab_hemoglobin_first</th><td>0.9642340   </td><td>9.039264e-01</td><td>1.028112e+00</td></tr>\n",
       "\t<tr><th scope=row>lab_wbc_first</th><td>0.9948742   </td><td>9.840526e-01</td><td>1.005559e+00</td></tr>\n",
       "\t<tr><th scope=row>lab_lactate_first</th><td>1.1476833   </td><td>1.073893e+00</td><td>1.228390e+00</td></tr>\n",
       "\t<tr><th scope=row>lab_po2_first</th><td>0.9992373   </td><td>9.978975e-01</td><td>1.000561e+00</td></tr>\n",
       "\t<tr><th scope=row>lab_troponin_flag</th><td>1.4324272   </td><td>1.004102e+00</td><td>2.053872e+00</td></tr>\n",
       "\t<tr><th scope=row>lab_potassium_first</th><td>1.0859601   </td><td>9.414276e-01</td><td>1.248918e+00</td></tr>\n",
       "\t<tr><th scope=row>lab_creatinine_kinase_flag</th><td>0.8787477   </td><td>6.113127e-01</td><td>1.257353e+00</td></tr>\n",
       "\t<tr><th scope=row>lab_creatinine_first</th><td>0.7777325   </td><td>6.755532e-01</td><td>8.884561e-01</td></tr>\n",
       "\t<tr><th scope=row>lab_pco2_first</th><td>1.0072964   </td><td>9.903148e-01</td><td>1.024801e+00</td></tr>\n",
       "\t<tr><th scope=row>lab_bnp_flag</th><td>1.8442025   </td><td>9.881220e-01</td><td>3.372422e+00</td></tr>\n",
       "\t<tr><th scope=row>lab_bicarbonate_first</th><td>1.0207693   </td><td>9.731798e-01</td><td>1.070336e+00</td></tr>\n",
       "\t<tr><th scope=row>lab_bun_first</th><td>1.0093919   </td><td>1.002907e+00</td><td>1.015996e+00</td></tr>\n",
       "\t<tr><th scope=row>lab_platelet_first</th><td>1.0004351   </td><td>9.994182e-01</td><td>1.001446e+00</td></tr>\n",
       "\t<tr><th scope=row>lab_sodium_first</th><td>0.9961788   </td><td>9.551523e-01</td><td>1.039034e+00</td></tr>\n",
       "\t<tr><th scope=row>lab_chloride_first</th><td>0.9953461   </td><td>9.575955e-01</td><td>1.034547e+00</td></tr>\n",
       "\t<tr><th scope=row>lab_ph_first</th><td>0.9523756   </td><td>1.172275e-01</td><td>8.010358e+00</td></tr>\n",
       "</tbody>\n",
       "</table>\n"
      ],
      "text/latex": [
       "\\begin{tabular}{r|lll}\n",
       "  & OR & 2.5 \\% & 97.5 \\%\\\\\n",
       "\\hline\n",
       "\t(Intercept) & 0.7477508    & 8.637402e-08 & 5.005508e+06\\\\\n",
       "\techo & 1.0081905    & 7.364170e-01 & 1.380510e+00\\\\\n",
       "\tage & 1.0046802    & 1.002410e+00 & 1.006964e+00\\\\\n",
       "\tgenderM & 1.2738212    & 9.802728e-01 & 1.656754e+00\\\\\n",
       "\tweight & 1.4087700    & 1.182154e+00 & 1.683838e+00\\\\\n",
       "\tsaps & 1.0906778    & 1.056373e+00 & 1.126578e+00\\\\\n",
       "\tsofa & 1.1572864    & 1.103693e+00 & 1.214407e+00\\\\\n",
       "\telix\\_score & 1.0261493    & 1.004531e+00 & 1.048231e+00\\\\\n",
       "\tvent & 0.9919164    & 6.798851e-01 & 1.454631e+00\\\\\n",
       "\tvaso & 1.0670546    & 7.728758e-01 & 1.475978e+00\\\\\n",
       "\ticu\\_adm\\_weekday & 1.0213811    & 9.584453e-01 & 1.088608e+00\\\\\n",
       "\ticu\\_adm\\_hour & 1.0141557    & 9.964265e-01 & 1.032387e+00\\\\\n",
       "\ticd\\_chf & 0.7044557    & 5.071716e-01 & 9.755504e-01\\\\\n",
       "\ticd\\_afib & 1.1079281    & 8.291973e-01 & 1.477774e+00\\\\\n",
       "\ticd\\_renal & 1.2005794    & 8.051847e-01 & 1.784278e+00\\\\\n",
       "\ticd\\_liver & 1.5780839    & 1.012189e+00 & 2.459210e+00\\\\\n",
       "\ticd\\_copd & 1.5740267    & 1.106660e+00 & 2.233503e+00\\\\\n",
       "\ticd\\_cad & 0.8262854    & 5.559201e-01 & 1.217116e+00\\\\\n",
       "\ticd\\_stroke & 1.4775016    & 8.441323e-01 & 2.540416e+00\\\\\n",
       "\ticd\\_malignancy & 1.7324631    & 1.263046e+00 & 2.375899e+00\\\\\n",
       "\tvs\\_temp\\_first & 0.8766363    & 7.859092e-01 & 9.743873e-01\\\\\n",
       "\tvs\\_map\\_first & 0.9905998    & 9.838206e-01 & 9.972520e-01\\\\\n",
       "\tvs\\_cvp\\_first & 0.9981253    & 9.914459e-01 & 1.003886e+00\\\\\n",
       "\tvs\\_heart\\_rate\\_first & 1.0017063    & 9.955422e-01 & 1.007884e+00\\\\\n",
       "\tlab\\_hemoglobin\\_first & 0.9642340    & 9.039264e-01 & 1.028112e+00\\\\\n",
       "\tlab\\_wbc\\_first & 0.9948742    & 9.840526e-01 & 1.005559e+00\\\\\n",
       "\tlab\\_lactate\\_first & 1.1476833    & 1.073893e+00 & 1.228390e+00\\\\\n",
       "\tlab\\_po2\\_first & 0.9992373    & 9.978975e-01 & 1.000561e+00\\\\\n",
       "\tlab\\_troponin\\_flag & 1.4324272    & 1.004102e+00 & 2.053872e+00\\\\\n",
       "\tlab\\_potassium\\_first & 1.0859601    & 9.414276e-01 & 1.248918e+00\\\\\n",
       "\tlab\\_creatinine\\_kinase\\_flag & 0.8787477    & 6.113127e-01 & 1.257353e+00\\\\\n",
       "\tlab\\_creatinine\\_first & 0.7777325    & 6.755532e-01 & 8.884561e-01\\\\\n",
       "\tlab\\_pco2\\_first & 1.0072964    & 9.903148e-01 & 1.024801e+00\\\\\n",
       "\tlab\\_bnp\\_flag & 1.8442025    & 9.881220e-01 & 3.372422e+00\\\\\n",
       "\tlab\\_bicarbonate\\_first & 1.0207693    & 9.731798e-01 & 1.070336e+00\\\\\n",
       "\tlab\\_bun\\_first & 1.0093919    & 1.002907e+00 & 1.015996e+00\\\\\n",
       "\tlab\\_platelet\\_first & 1.0004351    & 9.994182e-01 & 1.001446e+00\\\\\n",
       "\tlab\\_sodium\\_first & 0.9961788    & 9.551523e-01 & 1.039034e+00\\\\\n",
       "\tlab\\_chloride\\_first & 0.9953461    & 9.575955e-01 & 1.034547e+00\\\\\n",
       "\tlab\\_ph\\_first & 0.9523756    & 1.172275e-01 & 8.010358e+00\\\\\n",
       "\\end{tabular}\n"
      ],
      "text/markdown": [
       "\n",
       "| <!--/--> | OR | 2.5 % | 97.5 % | \n",
       "|---|---|---|---|---|---|---|---|---|---|---|---|---|---|---|---|---|---|---|---|---|---|---|---|---|---|---|---|---|---|---|---|---|---|---|---|---|---|---|---|\n",
       "| (Intercept) | 0.7477508    | 8.637402e-08 | 5.005508e+06 | \n",
       "| echo | 1.0081905    | 7.364170e-01 | 1.380510e+00 | \n",
       "| age | 1.0046802    | 1.002410e+00 | 1.006964e+00 | \n",
       "| genderM | 1.2738212    | 9.802728e-01 | 1.656754e+00 | \n",
       "| weight | 1.4087700    | 1.182154e+00 | 1.683838e+00 | \n",
       "| saps | 1.0906778    | 1.056373e+00 | 1.126578e+00 | \n",
       "| sofa | 1.1572864    | 1.103693e+00 | 1.214407e+00 | \n",
       "| elix_score | 1.0261493    | 1.004531e+00 | 1.048231e+00 | \n",
       "| vent | 0.9919164    | 6.798851e-01 | 1.454631e+00 | \n",
       "| vaso | 1.0670546    | 7.728758e-01 | 1.475978e+00 | \n",
       "| icu_adm_weekday | 1.0213811    | 9.584453e-01 | 1.088608e+00 | \n",
       "| icu_adm_hour | 1.0141557    | 9.964265e-01 | 1.032387e+00 | \n",
       "| icd_chf | 0.7044557    | 5.071716e-01 | 9.755504e-01 | \n",
       "| icd_afib | 1.1079281    | 8.291973e-01 | 1.477774e+00 | \n",
       "| icd_renal | 1.2005794    | 8.051847e-01 | 1.784278e+00 | \n",
       "| icd_liver | 1.5780839    | 1.012189e+00 | 2.459210e+00 | \n",
       "| icd_copd | 1.5740267    | 1.106660e+00 | 2.233503e+00 | \n",
       "| icd_cad | 0.8262854    | 5.559201e-01 | 1.217116e+00 | \n",
       "| icd_stroke | 1.4775016    | 8.441323e-01 | 2.540416e+00 | \n",
       "| icd_malignancy | 1.7324631    | 1.263046e+00 | 2.375899e+00 | \n",
       "| vs_temp_first | 0.8766363    | 7.859092e-01 | 9.743873e-01 | \n",
       "| vs_map_first | 0.9905998    | 9.838206e-01 | 9.972520e-01 | \n",
       "| vs_cvp_first | 0.9981253    | 9.914459e-01 | 1.003886e+00 | \n",
       "| vs_heart_rate_first | 1.0017063    | 9.955422e-01 | 1.007884e+00 | \n",
       "| lab_hemoglobin_first | 0.9642340    | 9.039264e-01 | 1.028112e+00 | \n",
       "| lab_wbc_first | 0.9948742    | 9.840526e-01 | 1.005559e+00 | \n",
       "| lab_lactate_first | 1.1476833    | 1.073893e+00 | 1.228390e+00 | \n",
       "| lab_po2_first | 0.9992373    | 9.978975e-01 | 1.000561e+00 | \n",
       "| lab_troponin_flag | 1.4324272    | 1.004102e+00 | 2.053872e+00 | \n",
       "| lab_potassium_first | 1.0859601    | 9.414276e-01 | 1.248918e+00 | \n",
       "| lab_creatinine_kinase_flag | 0.8787477    | 6.113127e-01 | 1.257353e+00 | \n",
       "| lab_creatinine_first | 0.7777325    | 6.755532e-01 | 8.884561e-01 | \n",
       "| lab_pco2_first | 1.0072964    | 9.903148e-01 | 1.024801e+00 | \n",
       "| lab_bnp_flag | 1.8442025    | 9.881220e-01 | 3.372422e+00 | \n",
       "| lab_bicarbonate_first | 1.0207693    | 9.731798e-01 | 1.070336e+00 | \n",
       "| lab_bun_first | 1.0093919    | 1.002907e+00 | 1.015996e+00 | \n",
       "| lab_platelet_first | 1.0004351    | 9.994182e-01 | 1.001446e+00 | \n",
       "| lab_sodium_first | 0.9961788    | 9.551523e-01 | 1.039034e+00 | \n",
       "| lab_chloride_first | 0.9953461    | 9.575955e-01 | 1.034547e+00 | \n",
       "| lab_ph_first | 0.9523756    | 1.172275e-01 | 8.010358e+00 | \n",
       "\n",
       "\n"
      ],
      "text/plain": [
       "                           OR        2.5 %        97.5 %      \n",
       "(Intercept)                0.7477508 8.637402e-08 5.005508e+06\n",
       "echo                       1.0081905 7.364170e-01 1.380510e+00\n",
       "age                        1.0046802 1.002410e+00 1.006964e+00\n",
       "genderM                    1.2738212 9.802728e-01 1.656754e+00\n",
       "weight                     1.4087700 1.182154e+00 1.683838e+00\n",
       "saps                       1.0906778 1.056373e+00 1.126578e+00\n",
       "sofa                       1.1572864 1.103693e+00 1.214407e+00\n",
       "elix_score                 1.0261493 1.004531e+00 1.048231e+00\n",
       "vent                       0.9919164 6.798851e-01 1.454631e+00\n",
       "vaso                       1.0670546 7.728758e-01 1.475978e+00\n",
       "icu_adm_weekday            1.0213811 9.584453e-01 1.088608e+00\n",
       "icu_adm_hour               1.0141557 9.964265e-01 1.032387e+00\n",
       "icd_chf                    0.7044557 5.071716e-01 9.755504e-01\n",
       "icd_afib                   1.1079281 8.291973e-01 1.477774e+00\n",
       "icd_renal                  1.2005794 8.051847e-01 1.784278e+00\n",
       "icd_liver                  1.5780839 1.012189e+00 2.459210e+00\n",
       "icd_copd                   1.5740267 1.106660e+00 2.233503e+00\n",
       "icd_cad                    0.8262854 5.559201e-01 1.217116e+00\n",
       "icd_stroke                 1.4775016 8.441323e-01 2.540416e+00\n",
       "icd_malignancy             1.7324631 1.263046e+00 2.375899e+00\n",
       "vs_temp_first              0.8766363 7.859092e-01 9.743873e-01\n",
       "vs_map_first               0.9905998 9.838206e-01 9.972520e-01\n",
       "vs_cvp_first               0.9981253 9.914459e-01 1.003886e+00\n",
       "vs_heart_rate_first        1.0017063 9.955422e-01 1.007884e+00\n",
       "lab_hemoglobin_first       0.9642340 9.039264e-01 1.028112e+00\n",
       "lab_wbc_first              0.9948742 9.840526e-01 1.005559e+00\n",
       "lab_lactate_first          1.1476833 1.073893e+00 1.228390e+00\n",
       "lab_po2_first              0.9992373 9.978975e-01 1.000561e+00\n",
       "lab_troponin_flag          1.4324272 1.004102e+00 2.053872e+00\n",
       "lab_potassium_first        1.0859601 9.414276e-01 1.248918e+00\n",
       "lab_creatinine_kinase_flag 0.8787477 6.113127e-01 1.257353e+00\n",
       "lab_creatinine_first       0.7777325 6.755532e-01 8.884561e-01\n",
       "lab_pco2_first             1.0072964 9.903148e-01 1.024801e+00\n",
       "lab_bnp_flag               1.8442025 9.881220e-01 3.372422e+00\n",
       "lab_bicarbonate_first      1.0207693 9.731798e-01 1.070336e+00\n",
       "lab_bun_first              1.0093919 1.002907e+00 1.015996e+00\n",
       "lab_platelet_first         1.0004351 9.994182e-01 1.001446e+00\n",
       "lab_sodium_first           0.9961788 9.551523e-01 1.039034e+00\n",
       "lab_chloride_first         0.9953461 9.575955e-01 1.034547e+00\n",
       "lab_ph_first               0.9523756 1.172275e-01 8.010358e+00"
      ]
     },
     "metadata": {},
     "output_type": "display_data"
    }
   ],
   "source": [
    "unweighted <- glm(as.formula(fml), data = full_data, family = binomial, na.action = na.exclude)\n",
    "summary(unweighted)\n",
    "exp(cbind(OR = coef(unweighted), confint(unweighted)))"
   ]
  },
  {
   "cell_type": "code",
   "execution_count": 90,
   "metadata": {},
   "outputs": [
    {
     "data": {
      "text/html": [
       "'echo ~ age + gender + weight + saps + sofa + elix_score + vent + vaso + icu_adm_weekday + icu_adm_hour + icd_chf + icd_afib + icd_renal + icd_liver + icd_copd + icd_cad + icd_stroke + icd_malignancy + vs_temp_first + vs_map_first + vs_cvp_first + vs_heart_rate_first + lab_hemoglobin_first + lab_wbc_first + lab_lactate_first + lab_po2_first + lab_troponin_flag + lab_potassium_first + lab_creatinine_kinase_flag + lab_creatinine_first + lab_pco2_first + lab_bnp_flag + lab_bicarbonate_first + lab_bun_first + lab_platelet_first + lab_sodium_first + lab_chloride_first + lab_ph_first'"
      ],
      "text/latex": [
       "'echo \\textasciitilde{} age + gender + weight + saps + sofa + elix\\_score + vent + vaso + icu\\_adm\\_weekday + icu\\_adm\\_hour + icd\\_chf + icd\\_afib + icd\\_renal + icd\\_liver + icd\\_copd + icd\\_cad + icd\\_stroke + icd\\_malignancy + vs\\_temp\\_first + vs\\_map\\_first + vs\\_cvp\\_first + vs\\_heart\\_rate\\_first + lab\\_hemoglobin\\_first + lab\\_wbc\\_first + lab\\_lactate\\_first + lab\\_po2\\_first + lab\\_troponin\\_flag + lab\\_potassium\\_first + lab\\_creatinine\\_kinase\\_flag + lab\\_creatinine\\_first + lab\\_pco2\\_first + lab\\_bnp\\_flag + lab\\_bicarbonate\\_first + lab\\_bun\\_first + lab\\_platelet\\_first + lab\\_sodium\\_first + lab\\_chloride\\_first + lab\\_ph\\_first'"
      ],
      "text/markdown": [
       "'echo ~ age + gender + weight + saps + sofa + elix_score + vent + vaso + icu_adm_weekday + icu_adm_hour + icd_chf + icd_afib + icd_renal + icd_liver + icd_copd + icd_cad + icd_stroke + icd_malignancy + vs_temp_first + vs_map_first + vs_cvp_first + vs_heart_rate_first + lab_hemoglobin_first + lab_wbc_first + lab_lactate_first + lab_po2_first + lab_troponin_flag + lab_potassium_first + lab_creatinine_kinase_flag + lab_creatinine_first + lab_pco2_first + lab_bnp_flag + lab_bicarbonate_first + lab_bun_first + lab_platelet_first + lab_sodium_first + lab_chloride_first + lab_ph_first'"
      ],
      "text/plain": [
       "[1] \"echo ~ age + gender + weight + saps + sofa + elix_score + vent + vaso + icu_adm_weekday + icu_adm_hour + icd_chf + icd_afib + icd_renal + icd_liver + icd_copd + icd_cad + icd_stroke + icd_malignancy + vs_temp_first + vs_map_first + vs_cvp_first + vs_heart_rate_first + lab_hemoglobin_first + lab_wbc_first + lab_lactate_first + lab_po2_first + lab_troponin_flag + lab_potassium_first + lab_creatinine_kinase_flag + lab_creatinine_first + lab_pco2_first + lab_bnp_flag + lab_bicarbonate_first + lab_bun_first + lab_platelet_first + lab_sodium_first + lab_chloride_first + lab_ph_first\""
      ]
     },
     "metadata": {},
     "output_type": "display_data"
    }
   ],
   "source": [
    "fml <- feature_names %>%\n",
    "    paste(collapse = \" + \") %>%\n",
    "    sprintf(\"echo ~ %s\", .)\n",
    "fml"
   ]
  },
  {
   "cell_type": "code",
   "execution_count": 15,
   "metadata": {},
   "outputs": [],
   "source": [
    "echo_ps_ate <- ps(as.formula(fml),\n",
    "                  data = full_data,\n",
    "                  interaction.depth = 2,\n",
    "                  shrinkage = 0.01,\n",
    "                  perm.test.iters = 0,\n",
    "                  estimand = \"ATE\",\n",
    "                  verbose = FALSE,\n",
    "                  stop.method = c(\"es.mean\", \"es.max\", \"ks.mean\", \"ks.max\"),\n",
    "                  n.trees = 10000,\n",
    "                  train.fraction = 0.8,\n",
    "                  cv.folds = 3,\n",
    "                  n.cores = 8)"
   ]
  },
  {
   "cell_type": "code",
   "execution_count": 16,
   "metadata": {},
   "outputs": [
    {
     "data": {
      "text/html": [
       "0.817972939360869"
      ],
      "text/latex": [
       "0.817972939360869"
      ],
      "text/markdown": [
       "0.817972939360869"
      ],
      "text/plain": [
       "[1] 0.8179729"
      ]
     },
     "metadata": {},
     "output_type": "display_data"
    }
   ],
   "source": [
    "pred <- echo_ps_ate$ps$es.mean.ATE\n",
    "ROCR::performance(ROCR::prediction(pred, label), \"auc\")@y.values %>% first"
   ]
  },
  {
   "cell_type": "code",
   "execution_count": null,
   "metadata": {},
   "outputs": [],
   "source": [
    "ft_importance <- summary(echo_ps_ate$gbm.obj,\n",
    "                         n.trees = echo_ps_ate$desc$es.mean.ATE$n.trees,\n",
    "                         plot = FALSE)"
   ]
  },
  {
   "cell_type": "code",
   "execution_count": 73,
   "metadata": {},
   "outputs": [],
   "source": [
    "full_data <- full_data %>%\n",
    "    mutate(weight = get.weights(echo_ps_ate, stop.method = \"es.mean\"))"
   ]
  },
  {
   "cell_type": "code",
   "execution_count": 79,
   "metadata": {},
   "outputs": [
    {
     "name": "stderr",
     "output_type": "stream",
     "text": [
      "Warning message in eval(family$initialize):\n",
      "“non-integer #successes in a binomial glm!”"
     ]
    },
    {
     "data": {
      "text/plain": [
       "\n",
       "Call:\n",
       "glm(formula = mort_28_day ~ echo, family = binomial, data = full_data, \n",
       "    weights = full_data$weight)\n",
       "\n",
       "Deviance Residuals: \n",
       "    Min       1Q   Median       3Q      Max  \n",
       "-2.2870  -1.0706  -0.9457   1.7277   4.5025  \n",
       "\n",
       "Coefficients:\n",
       "            Estimate Std. Error z value Pr(>|z|)    \n",
       "(Intercept) -0.89524    0.02948 -30.364  < 2e-16 ***\n",
       "echo        -0.18201    0.04250  -4.283 1.85e-05 ***\n",
       "---\n",
       "Signif. codes:  0 ‘***’ 0.001 ‘**’ 0.01 ‘*’ 0.05 ‘.’ 0.1 ‘ ’ 1\n",
       "\n",
       "(Dispersion parameter for binomial family taken to be 1)\n",
       "\n",
       "    Null deviance: 13129  on 6161  degrees of freedom\n",
       "Residual deviance: 13111  on 6160  degrees of freedom\n",
       "AIC: 12771\n",
       "\n",
       "Number of Fisher Scoring iterations: 4\n"
      ]
     },
     "metadata": {},
     "output_type": "display_data"
    },
    {
     "name": "stderr",
     "output_type": "stream",
     "text": [
      "Waiting for profiling to be done...\n",
      "Warning message in eval(family$initialize):\n",
      "“non-integer #successes in a binomial glm!”Warning message in eval(family$initialize):\n",
      "“non-integer #successes in a binomial glm!”Warning message in eval(family$initialize):\n",
      "“non-integer #successes in a binomial glm!”Warning message in eval(family$initialize):\n",
      "“non-integer #successes in a binomial glm!”Warning message in eval(family$initialize):\n",
      "“non-integer #successes in a binomial glm!”Warning message in eval(family$initialize):\n",
      "“non-integer #successes in a binomial glm!”Warning message in eval(family$initialize):\n",
      "“non-integer #successes in a binomial glm!”Warning message in eval(family$initialize):\n",
      "“non-integer #successes in a binomial glm!”Warning message in eval(family$initialize):\n",
      "“non-integer #successes in a binomial glm!”Warning message in eval(family$initialize):\n",
      "“non-integer #successes in a binomial glm!”Warning message in eval(family$initialize):\n",
      "“non-integer #successes in a binomial glm!”Warning message in eval(family$initialize):\n",
      "“non-integer #successes in a binomial glm!”Warning message in eval(family$initialize):\n",
      "“non-integer #successes in a binomial glm!”Warning message in eval(family$initialize):\n",
      "“non-integer #successes in a binomial glm!”Warning message in eval(family$initialize):\n",
      "“non-integer #successes in a binomial glm!”Warning message in eval(family$initialize):\n",
      "“non-integer #successes in a binomial glm!”Warning message in eval(family$initialize):\n",
      "“non-integer #successes in a binomial glm!”Warning message in eval(family$initialize):\n",
      "“non-integer #successes in a binomial glm!”Warning message in eval(family$initialize):\n",
      "“non-integer #successes in a binomial glm!”Warning message in eval(family$initialize):\n",
      "“non-integer #successes in a binomial glm!”Warning message in eval(family$initialize):\n",
      "“non-integer #successes in a binomial glm!”Warning message in eval(family$initialize):\n",
      "“non-integer #successes in a binomial glm!”"
     ]
    },
    {
     "data": {
      "text/html": [
       "<table>\n",
       "<thead><tr><th></th><th scope=col>OR</th><th scope=col>2.5 %</th><th scope=col>97.5 %</th></tr></thead>\n",
       "<tbody>\n",
       "\t<tr><th scope=row>(Intercept)</th><td>0.4085111</td><td>0.3854811</td><td>0.4327143</td></tr>\n",
       "\t<tr><th scope=row>echo</th><td>0.8335917</td><td>0.7669299</td><td>0.9059739</td></tr>\n",
       "</tbody>\n",
       "</table>\n"
      ],
      "text/latex": [
       "\\begin{tabular}{r|lll}\n",
       "  & OR & 2.5 \\% & 97.5 \\%\\\\\n",
       "\\hline\n",
       "\t(Intercept) & 0.4085111 & 0.3854811 & 0.4327143\\\\\n",
       "\techo & 0.8335917 & 0.7669299 & 0.9059739\\\\\n",
       "\\end{tabular}\n"
      ],
      "text/markdown": [
       "\n",
       "| <!--/--> | OR | 2.5 % | 97.5 % | \n",
       "|---|---|\n",
       "| (Intercept) | 0.4085111 | 0.3854811 | 0.4327143 | \n",
       "| echo | 0.8335917 | 0.7669299 | 0.9059739 | \n",
       "\n",
       "\n"
      ],
      "text/plain": [
       "            OR        2.5 %     97.5 %   \n",
       "(Intercept) 0.4085111 0.3854811 0.4327143\n",
       "echo        0.8335917 0.7669299 0.9059739"
      ]
     },
     "metadata": {},
     "output_type": "display_data"
    }
   ],
   "source": [
    "primary_ipw <- glm(mort_28_day ~ echo, data = full_data,\n",
    "                   weights = full_data$weight, family = binomial)\n",
    "summary(primary_ipw)\n",
    "exp(cbind(OR = coef(primary_ipw), confint(primary_ipw)))"
   ]
  },
  {
   "cell_type": "code",
   "execution_count": 75,
   "metadata": {},
   "outputs": [],
   "source": [
    "design_echo_ps_ate <- svydesign(ids = ~ icustay_id, weights = ~ weight, data = full_data)"
   ]
  },
  {
   "cell_type": "code",
   "execution_count": 76,
   "metadata": {},
   "outputs": [
    {
     "data": {
      "text/html": [
       "'mort_28_day ~ echo + age + gender + weight + saps + sofa + elix_score + vent + vaso + icu_adm_weekday + icu_adm_hour + icd_chf + icd_afib + icd_renal + icd_liver + icd_copd + icd_cad + icd_stroke + icd_malignancy + vs_temp_first + vs_map_first + vs_cvp_flag + vs_cvp_first + vs_heart_rate_first + lab_hemoglobin_first + lab_wbc_first + lab_lactate_first + lab_po2_first + lab_troponin_flag + lab_potassium_first + lab_creatinine_kinase_flag + lab_creatinine_first + lab_pco2_first + lab_bnp_flag + lab_bicarbonate_first + lab_bun_first + lab_platelet_first + lab_sodium_first + lab_chloride_first + lab_ph_first'"
      ],
      "text/latex": [
       "'mort\\_28\\_day \\textasciitilde{} echo + age + gender + weight + saps + sofa + elix\\_score + vent + vaso + icu\\_adm\\_weekday + icu\\_adm\\_hour + icd\\_chf + icd\\_afib + icd\\_renal + icd\\_liver + icd\\_copd + icd\\_cad + icd\\_stroke + icd\\_malignancy + vs\\_temp\\_first + vs\\_map\\_first + vs\\_cvp\\_flag + vs\\_cvp\\_first + vs\\_heart\\_rate\\_first + lab\\_hemoglobin\\_first + lab\\_wbc\\_first + lab\\_lactate\\_first + lab\\_po2\\_first + lab\\_troponin\\_flag + lab\\_potassium\\_first + lab\\_creatinine\\_kinase\\_flag + lab\\_creatinine\\_first + lab\\_pco2\\_first + lab\\_bnp\\_flag + lab\\_bicarbonate\\_first + lab\\_bun\\_first + lab\\_platelet\\_first + lab\\_sodium\\_first + lab\\_chloride\\_first + lab\\_ph\\_first'"
      ],
      "text/markdown": [
       "'mort_28_day ~ echo + age + gender + weight + saps + sofa + elix_score + vent + vaso + icu_adm_weekday + icu_adm_hour + icd_chf + icd_afib + icd_renal + icd_liver + icd_copd + icd_cad + icd_stroke + icd_malignancy + vs_temp_first + vs_map_first + vs_cvp_flag + vs_cvp_first + vs_heart_rate_first + lab_hemoglobin_first + lab_wbc_first + lab_lactate_first + lab_po2_first + lab_troponin_flag + lab_potassium_first + lab_creatinine_kinase_flag + lab_creatinine_first + lab_pco2_first + lab_bnp_flag + lab_bicarbonate_first + lab_bun_first + lab_platelet_first + lab_sodium_first + lab_chloride_first + lab_ph_first'"
      ],
      "text/plain": [
       "[1] \"mort_28_day ~ echo + age + gender + weight + saps + sofa + elix_score + vent + vaso + icu_adm_weekday + icu_adm_hour + icd_chf + icd_afib + icd_renal + icd_liver + icd_copd + icd_cad + icd_stroke + icd_malignancy + vs_temp_first + vs_map_first + vs_cvp_flag + vs_cvp_first + vs_heart_rate_first + lab_hemoglobin_first + lab_wbc_first + lab_lactate_first + lab_po2_first + lab_troponin_flag + lab_potassium_first + lab_creatinine_kinase_flag + lab_creatinine_first + lab_pco2_first + lab_bnp_flag + lab_bicarbonate_first + lab_bun_first + lab_platelet_first + lab_sodium_first + lab_chloride_first + lab_ph_first\""
      ]
     },
     "metadata": {},
     "output_type": "display_data"
    }
   ],
   "source": [
    "fml <- feature_names %>%\n",
    "    c(label_name, .) %>%\n",
    "    paste(collapse = \" + \") %>%\n",
    "    sprintf(\"mort_28_day ~ %s\", .)\n",
    "fml"
   ]
  },
  {
   "cell_type": "code",
   "execution_count": 77,
   "metadata": {},
   "outputs": [],
   "source": [
    "logi <- svyglm(as.formula(fml),\n",
    "               family = quasibinomial,\n",
    "               design = design_echo_ps_ate)"
   ]
  },
  {
   "cell_type": "code",
   "execution_count": 81,
   "metadata": {},
   "outputs": [
    {
     "data": {
      "text/plain": [
       "\n",
       "Call:\n",
       "svyglm(formula = as.formula(fml), family = quasibinomial, design = design_echo_ps_ate)\n",
       "\n",
       "Survey design:\n",
       "svydesign(ids = ~icustay_id, weights = ~weight, data = full_data)\n",
       "\n",
       "Coefficients: (1 not defined because of singularities)\n",
       "                             Estimate Std. Error t value Pr(>|t|)    \n",
       "(Intercept)                 2.9377066  8.4636647   0.347 0.728565    \n",
       "echo                        0.0162561  0.1649511   0.099 0.921507    \n",
       "age                         0.0052253  0.0012169   4.294 1.86e-05 ***\n",
       "genderM                     0.2128878  0.1445597   1.473 0.141039    \n",
       "weight                      0.2879562  0.0807618   3.565 0.000374 ***\n",
       "saps                        0.0782513  0.0174829   4.476 8.15e-06 ***\n",
       "sofa                        0.1703063  0.0252277   6.751 2.05e-11 ***\n",
       "elix_score                  0.0192496  0.0118125   1.630 0.103385    \n",
       "vent                        0.1410992  0.2075338   0.680 0.496676    \n",
       "vaso                        0.0109019  0.1740912   0.063 0.950075    \n",
       "icu_adm_weekday             0.0212957  0.0346601   0.614 0.539028    \n",
       "icu_adm_hour                0.0172679  0.0094699   1.823 0.068423 .  \n",
       "icd_chf                    -0.4132743  0.1876526  -2.202 0.027784 *  \n",
       "icd_afib                    0.2087710  0.1644642   1.269 0.204483    \n",
       "icd_renal                   0.1362500  0.2244109   0.607 0.543841    \n",
       "icd_liver                   0.5268583  0.2328918   2.262 0.023816 *  \n",
       "icd_copd                    0.3792155  0.1879027   2.018 0.043743 *  \n",
       "icd_cad                    -0.1934249  0.2175001  -0.889 0.373971    \n",
       "icd_stroke                  0.4722940  0.3488062   1.354 0.175919    \n",
       "icd_malignancy              0.6655106  0.1697940   3.920 9.25e-05 ***\n",
       "vs_temp_first              -0.1049847  0.0622064  -1.688 0.091668 .  \n",
       "vs_map_first               -0.0074417  0.0039079  -1.904 0.057056 .  \n",
       "vs_cvp_first               -0.0048794  0.0041240  -1.183 0.236922    \n",
       "vs_heart_rate_first         0.0012889  0.0033474   0.385 0.700250    \n",
       "lab_hemoglobin_first       -0.0541008  0.0336858  -1.606 0.108463    \n",
       "lab_wbc_first              -0.0047974  0.0055538  -0.864 0.387820    \n",
       "lab_lactate_first           0.1326987  0.0359061   3.696 0.000227 ***\n",
       "lab_po2_first              -0.0008102  0.0007864  -1.030 0.303032    \n",
       "lab_troponin_flag           0.3775031  0.1887308   2.000 0.045646 *  \n",
       "lab_potassium_first         0.1032683  0.0750488   1.376 0.169010    \n",
       "lab_creatinine_kinase_flag -0.1727671  0.1887569  -0.915 0.360178    \n",
       "lab_creatinine_first       -0.2860602  0.0851936  -3.358 0.000804 ***\n",
       "lab_pco2_first              0.0027242  0.0088998   0.306 0.759571    \n",
       "lab_bnp_flag                0.7256097  0.2927183   2.479 0.013283 *  \n",
       "lab_bicarbonate_first       0.0285791  0.0256010   1.116 0.264450    \n",
       "lab_bun_first               0.0105431  0.0038882   2.712 0.006768 ** \n",
       "lab_platelet_first          0.0006846  0.0005503   1.244 0.213651    \n",
       "lab_sodium_first            0.0022164  0.0240058   0.092 0.926449    \n",
       "lab_chloride_first         -0.0052881  0.0216450  -0.244 0.807021    \n",
       "lab_ph_first               -0.7256541  1.1236058  -0.646 0.518485    \n",
       "---\n",
       "Signif. codes:  0 ‘***’ 0.001 ‘**’ 0.01 ‘*’ 0.05 ‘.’ 0.1 ‘ ’ 1\n",
       "\n",
       "(Dispersion parameter for quasibinomial family taken to be 0.9920772)\n",
       "\n",
       "Number of Fisher Scoring iterations: 5\n"
      ]
     },
     "metadata": {},
     "output_type": "display_data"
    }
   ],
   "source": [
    "summary(logi)"
   ]
  },
  {
   "cell_type": "code",
   "execution_count": 97,
   "metadata": {},
   "outputs": [
    {
     "data": {
      "text/html": [
       "<table>\n",
       "<thead><tr><th></th><th scope=col>OR</th><th scope=col>2.5 %</th><th scope=col>97.5 %</th></tr></thead>\n",
       "<tbody>\n",
       "\t<tr><th scope=row>(Intercept)</th><td>18.8725139  </td><td>1.179086e-06</td><td>3.020746e+08</td></tr>\n",
       "\t<tr><th scope=row>echo</th><td> 1.0163890  </td><td>7.356196e-01</td><td>1.404322e+00</td></tr>\n",
       "\t<tr><th scope=row>age</th><td> 1.0052390  </td><td>1.002844e+00</td><td>1.007639e+00</td></tr>\n",
       "\t<tr><th scope=row>genderM</th><td> 1.2372458  </td><td>9.319799e-01</td><td>1.642500e+00</td></tr>\n",
       "\t<tr><th scope=row>weight</th><td> 1.3336989  </td><td>1.138448e+00</td><td>1.562437e+00</td></tr>\n",
       "\t<tr><th scope=row>saps</th><td> 1.0813944  </td><td>1.044967e+00</td><td>1.119092e+00</td></tr>\n",
       "\t<tr><th scope=row>sofa</th><td> 1.1856680  </td><td>1.128468e+00</td><td>1.245767e+00</td></tr>\n",
       "\t<tr><th scope=row>elix_score</th><td> 1.0194360  </td><td>9.961051e-01</td><td>1.043313e+00</td></tr>\n",
       "\t<tr><th scope=row>vent</th><td> 1.1515389  </td><td>7.667001e-01</td><td>1.729544e+00</td></tr>\n",
       "\t<tr><th scope=row>vaso</th><td> 1.0109616  </td><td>7.187005e-01</td><td>1.422071e+00</td></tr>\n",
       "\t<tr><th scope=row>icu_adm_weekday</th><td> 1.0215241  </td><td>9.544340e-01</td><td>1.093330e+00</td></tr>\n",
       "\t<tr><th scope=row>icu_adm_hour</th><td> 1.0174179  </td><td>9.987080e-01</td><td>1.036478e+00</td></tr>\n",
       "\t<tr><th scope=row>icd_chf</th><td> 0.6614808  </td><td>4.579173e-01</td><td>9.555369e-01</td></tr>\n",
       "\t<tr><th scope=row>icd_afib</th><td> 1.2321628  </td><td>8.926391e-01</td><td>1.700828e+00</td></tr>\n",
       "\t<tr><th scope=row>icd_renal</th><td> 1.1459683  </td><td>7.381654e-01</td><td>1.779064e+00</td></tr>\n",
       "\t<tr><th scope=row>icd_liver</th><td> 1.6936031  </td><td>1.072936e+00</td><td>2.673311e+00</td></tr>\n",
       "\t<tr><th scope=row>icd_copd</th><td> 1.4611379  </td><td>1.010993e+00</td><td>2.111710e+00</td></tr>\n",
       "\t<tr><th scope=row>icd_cad</th><td> 0.8241317  </td><td>5.380965e-01</td><td>1.262214e+00</td></tr>\n",
       "\t<tr><th scope=row>icd_stroke</th><td> 1.6036688  </td><td>8.094879e-01</td><td>3.177013e+00</td></tr>\n",
       "\t<tr><th scope=row>icd_malignancy</th><td> 1.9454837  </td><td>1.394757e+00</td><td>2.713667e+00</td></tr>\n",
       "\t<tr><th scope=row>vs_temp_first</th><td> 0.9003383  </td><td>7.969949e-01</td><td>1.017082e+00</td></tr>\n",
       "\t<tr><th scope=row>vs_map_first</th><td> 0.9925859  </td><td>9.850124e-01</td><td>1.000218e+00</td></tr>\n",
       "\t<tr><th scope=row>vs_cvp_first</th><td> 0.9951325  </td><td>9.871214e-01</td><td>1.003209e+00</td></tr>\n",
       "\t<tr><th scope=row>vs_heart_rate_first</th><td> 1.0012897  </td><td>9.947420e-01</td><td>1.007881e+00</td></tr>\n",
       "\t<tr><th scope=row>lab_hemoglobin_first</th><td> 0.9473366  </td><td>8.868107e-01</td><td>1.011993e+00</td></tr>\n",
       "\t<tr><th scope=row>lab_wbc_first</th><td> 0.9952141  </td><td>9.844397e-01</td><td>1.006106e+00</td></tr>\n",
       "\t<tr><th scope=row>lab_lactate_first</th><td> 1.1419059  </td><td>1.064307e+00</td><td>1.225162e+00</td></tr>\n",
       "\t<tr><th scope=row>lab_po2_first</th><td> 0.9991901  </td><td>9.976512e-01</td><td>1.000731e+00</td></tr>\n",
       "\t<tr><th scope=row>lab_troponin_flag</th><td> 1.4586379  </td><td>1.007627e+00</td><td>2.111521e+00</td></tr>\n",
       "\t<tr><th scope=row>lab_potassium_first</th><td> 1.1087889  </td><td>9.571218e-01</td><td>1.284489e+00</td></tr>\n",
       "\t<tr><th scope=row>lab_creatinine_kinase_flag</th><td> 0.8413335  </td><td>5.811631e-01</td><td>1.217975e+00</td></tr>\n",
       "\t<tr><th scope=row>lab_creatinine_first</th><td> 0.7512174  </td><td>6.356948e-01</td><td>8.877334e-01</td></tr>\n",
       "\t<tr><th scope=row>lab_pco2_first</th><td> 1.0027279  </td><td>9.853888e-01</td><td>1.020372e+00</td></tr>\n",
       "\t<tr><th scope=row>lab_bnp_flag</th><td> 2.0659904  </td><td>1.164035e+00</td><td>3.666828e+00</td></tr>\n",
       "\t<tr><th scope=row>lab_bicarbonate_first</th><td> 1.0289914  </td><td>9.786337e-01</td><td>1.081940e+00</td></tr>\n",
       "\t<tr><th scope=row>lab_bun_first</th><td> 1.0105989  </td><td>1.002927e+00</td><td>1.018330e+00</td></tr>\n",
       "\t<tr><th scope=row>lab_platelet_first</th><td> 1.0006849  </td><td>9.996061e-01</td><td>1.001765e+00</td></tr>\n",
       "\t<tr><th scope=row>lab_sodium_first</th><td> 1.0022189  </td><td>9.561560e-01</td><td>1.050501e+00</td></tr>\n",
       "\t<tr><th scope=row>lab_chloride_first</th><td> 0.9947258  </td><td>9.534087e-01</td><td>1.037834e+00</td></tr>\n",
       "\t<tr><th scope=row>lab_ph_first</th><td> 0.4840079  </td><td>5.351030e-02</td><td>4.377916e+00</td></tr>\n",
       "</tbody>\n",
       "</table>\n"
      ],
      "text/latex": [
       "\\begin{tabular}{r|lll}\n",
       "  & OR & 2.5 \\% & 97.5 \\%\\\\\n",
       "\\hline\n",
       "\t(Intercept) & 18.8725139   & 1.179086e-06 & 3.020746e+08\\\\\n",
       "\techo &  1.0163890   & 7.356196e-01 & 1.404322e+00\\\\\n",
       "\tage &  1.0052390   & 1.002844e+00 & 1.007639e+00\\\\\n",
       "\tgenderM &  1.2372458   & 9.319799e-01 & 1.642500e+00\\\\\n",
       "\tweight &  1.3336989   & 1.138448e+00 & 1.562437e+00\\\\\n",
       "\tsaps &  1.0813944   & 1.044967e+00 & 1.119092e+00\\\\\n",
       "\tsofa &  1.1856680   & 1.128468e+00 & 1.245767e+00\\\\\n",
       "\telix\\_score &  1.0194360   & 9.961051e-01 & 1.043313e+00\\\\\n",
       "\tvent &  1.1515389   & 7.667001e-01 & 1.729544e+00\\\\\n",
       "\tvaso &  1.0109616   & 7.187005e-01 & 1.422071e+00\\\\\n",
       "\ticu\\_adm\\_weekday &  1.0215241   & 9.544340e-01 & 1.093330e+00\\\\\n",
       "\ticu\\_adm\\_hour &  1.0174179   & 9.987080e-01 & 1.036478e+00\\\\\n",
       "\ticd\\_chf &  0.6614808   & 4.579173e-01 & 9.555369e-01\\\\\n",
       "\ticd\\_afib &  1.2321628   & 8.926391e-01 & 1.700828e+00\\\\\n",
       "\ticd\\_renal &  1.1459683   & 7.381654e-01 & 1.779064e+00\\\\\n",
       "\ticd\\_liver &  1.6936031   & 1.072936e+00 & 2.673311e+00\\\\\n",
       "\ticd\\_copd &  1.4611379   & 1.010993e+00 & 2.111710e+00\\\\\n",
       "\ticd\\_cad &  0.8241317   & 5.380965e-01 & 1.262214e+00\\\\\n",
       "\ticd\\_stroke &  1.6036688   & 8.094879e-01 & 3.177013e+00\\\\\n",
       "\ticd\\_malignancy &  1.9454837   & 1.394757e+00 & 2.713667e+00\\\\\n",
       "\tvs\\_temp\\_first &  0.9003383   & 7.969949e-01 & 1.017082e+00\\\\\n",
       "\tvs\\_map\\_first &  0.9925859   & 9.850124e-01 & 1.000218e+00\\\\\n",
       "\tvs\\_cvp\\_first &  0.9951325   & 9.871214e-01 & 1.003209e+00\\\\\n",
       "\tvs\\_heart\\_rate\\_first &  1.0012897   & 9.947420e-01 & 1.007881e+00\\\\\n",
       "\tlab\\_hemoglobin\\_first &  0.9473366   & 8.868107e-01 & 1.011993e+00\\\\\n",
       "\tlab\\_wbc\\_first &  0.9952141   & 9.844397e-01 & 1.006106e+00\\\\\n",
       "\tlab\\_lactate\\_first &  1.1419059   & 1.064307e+00 & 1.225162e+00\\\\\n",
       "\tlab\\_po2\\_first &  0.9991901   & 9.976512e-01 & 1.000731e+00\\\\\n",
       "\tlab\\_troponin\\_flag &  1.4586379   & 1.007627e+00 & 2.111521e+00\\\\\n",
       "\tlab\\_potassium\\_first &  1.1087889   & 9.571218e-01 & 1.284489e+00\\\\\n",
       "\tlab\\_creatinine\\_kinase\\_flag &  0.8413335   & 5.811631e-01 & 1.217975e+00\\\\\n",
       "\tlab\\_creatinine\\_first &  0.7512174   & 6.356948e-01 & 8.877334e-01\\\\\n",
       "\tlab\\_pco2\\_first &  1.0027279   & 9.853888e-01 & 1.020372e+00\\\\\n",
       "\tlab\\_bnp\\_flag &  2.0659904   & 1.164035e+00 & 3.666828e+00\\\\\n",
       "\tlab\\_bicarbonate\\_first &  1.0289914   & 9.786337e-01 & 1.081940e+00\\\\\n",
       "\tlab\\_bun\\_first &  1.0105989   & 1.002927e+00 & 1.018330e+00\\\\\n",
       "\tlab\\_platelet\\_first &  1.0006849   & 9.996061e-01 & 1.001765e+00\\\\\n",
       "\tlab\\_sodium\\_first &  1.0022189   & 9.561560e-01 & 1.050501e+00\\\\\n",
       "\tlab\\_chloride\\_first &  0.9947258   & 9.534087e-01 & 1.037834e+00\\\\\n",
       "\tlab\\_ph\\_first &  0.4840079   & 5.351030e-02 & 4.377916e+00\\\\\n",
       "\\end{tabular}\n"
      ],
      "text/markdown": [
       "\n",
       "| <!--/--> | OR | 2.5 % | 97.5 % | \n",
       "|---|---|---|---|---|---|---|---|---|---|---|---|---|---|---|---|---|---|---|---|---|---|---|---|---|---|---|---|---|---|---|---|---|---|---|---|---|---|---|---|\n",
       "| (Intercept) | 18.8725139   | 1.179086e-06 | 3.020746e+08 | \n",
       "| echo |  1.0163890   | 7.356196e-01 | 1.404322e+00 | \n",
       "| age |  1.0052390   | 1.002844e+00 | 1.007639e+00 | \n",
       "| genderM |  1.2372458   | 9.319799e-01 | 1.642500e+00 | \n",
       "| weight |  1.3336989   | 1.138448e+00 | 1.562437e+00 | \n",
       "| saps |  1.0813944   | 1.044967e+00 | 1.119092e+00 | \n",
       "| sofa |  1.1856680   | 1.128468e+00 | 1.245767e+00 | \n",
       "| elix_score |  1.0194360   | 9.961051e-01 | 1.043313e+00 | \n",
       "| vent |  1.1515389   | 7.667001e-01 | 1.729544e+00 | \n",
       "| vaso |  1.0109616   | 7.187005e-01 | 1.422071e+00 | \n",
       "| icu_adm_weekday |  1.0215241   | 9.544340e-01 | 1.093330e+00 | \n",
       "| icu_adm_hour |  1.0174179   | 9.987080e-01 | 1.036478e+00 | \n",
       "| icd_chf |  0.6614808   | 4.579173e-01 | 9.555369e-01 | \n",
       "| icd_afib |  1.2321628   | 8.926391e-01 | 1.700828e+00 | \n",
       "| icd_renal |  1.1459683   | 7.381654e-01 | 1.779064e+00 | \n",
       "| icd_liver |  1.6936031   | 1.072936e+00 | 2.673311e+00 | \n",
       "| icd_copd |  1.4611379   | 1.010993e+00 | 2.111710e+00 | \n",
       "| icd_cad |  0.8241317   | 5.380965e-01 | 1.262214e+00 | \n",
       "| icd_stroke |  1.6036688   | 8.094879e-01 | 3.177013e+00 | \n",
       "| icd_malignancy |  1.9454837   | 1.394757e+00 | 2.713667e+00 | \n",
       "| vs_temp_first |  0.9003383   | 7.969949e-01 | 1.017082e+00 | \n",
       "| vs_map_first |  0.9925859   | 9.850124e-01 | 1.000218e+00 | \n",
       "| vs_cvp_first |  0.9951325   | 9.871214e-01 | 1.003209e+00 | \n",
       "| vs_heart_rate_first |  1.0012897   | 9.947420e-01 | 1.007881e+00 | \n",
       "| lab_hemoglobin_first |  0.9473366   | 8.868107e-01 | 1.011993e+00 | \n",
       "| lab_wbc_first |  0.9952141   | 9.844397e-01 | 1.006106e+00 | \n",
       "| lab_lactate_first |  1.1419059   | 1.064307e+00 | 1.225162e+00 | \n",
       "| lab_po2_first |  0.9991901   | 9.976512e-01 | 1.000731e+00 | \n",
       "| lab_troponin_flag |  1.4586379   | 1.007627e+00 | 2.111521e+00 | \n",
       "| lab_potassium_first |  1.1087889   | 9.571218e-01 | 1.284489e+00 | \n",
       "| lab_creatinine_kinase_flag |  0.8413335   | 5.811631e-01 | 1.217975e+00 | \n",
       "| lab_creatinine_first |  0.7512174   | 6.356948e-01 | 8.877334e-01 | \n",
       "| lab_pco2_first |  1.0027279   | 9.853888e-01 | 1.020372e+00 | \n",
       "| lab_bnp_flag |  2.0659904   | 1.164035e+00 | 3.666828e+00 | \n",
       "| lab_bicarbonate_first |  1.0289914   | 9.786337e-01 | 1.081940e+00 | \n",
       "| lab_bun_first |  1.0105989   | 1.002927e+00 | 1.018330e+00 | \n",
       "| lab_platelet_first |  1.0006849   | 9.996061e-01 | 1.001765e+00 | \n",
       "| lab_sodium_first |  1.0022189   | 9.561560e-01 | 1.050501e+00 | \n",
       "| lab_chloride_first |  0.9947258   | 9.534087e-01 | 1.037834e+00 | \n",
       "| lab_ph_first |  0.4840079   | 5.351030e-02 | 4.377916e+00 | \n",
       "\n",
       "\n"
      ],
      "text/plain": [
       "                           OR         2.5 %        97.5 %      \n",
       "(Intercept)                18.8725139 1.179086e-06 3.020746e+08\n",
       "echo                        1.0163890 7.356196e-01 1.404322e+00\n",
       "age                         1.0052390 1.002844e+00 1.007639e+00\n",
       "genderM                     1.2372458 9.319799e-01 1.642500e+00\n",
       "weight                      1.3336989 1.138448e+00 1.562437e+00\n",
       "saps                        1.0813944 1.044967e+00 1.119092e+00\n",
       "sofa                        1.1856680 1.128468e+00 1.245767e+00\n",
       "elix_score                  1.0194360 9.961051e-01 1.043313e+00\n",
       "vent                        1.1515389 7.667001e-01 1.729544e+00\n",
       "vaso                        1.0109616 7.187005e-01 1.422071e+00\n",
       "icu_adm_weekday             1.0215241 9.544340e-01 1.093330e+00\n",
       "icu_adm_hour                1.0174179 9.987080e-01 1.036478e+00\n",
       "icd_chf                     0.6614808 4.579173e-01 9.555369e-01\n",
       "icd_afib                    1.2321628 8.926391e-01 1.700828e+00\n",
       "icd_renal                   1.1459683 7.381654e-01 1.779064e+00\n",
       "icd_liver                   1.6936031 1.072936e+00 2.673311e+00\n",
       "icd_copd                    1.4611379 1.010993e+00 2.111710e+00\n",
       "icd_cad                     0.8241317 5.380965e-01 1.262214e+00\n",
       "icd_stroke                  1.6036688 8.094879e-01 3.177013e+00\n",
       "icd_malignancy              1.9454837 1.394757e+00 2.713667e+00\n",
       "vs_temp_first               0.9003383 7.969949e-01 1.017082e+00\n",
       "vs_map_first                0.9925859 9.850124e-01 1.000218e+00\n",
       "vs_cvp_first                0.9951325 9.871214e-01 1.003209e+00\n",
       "vs_heart_rate_first         1.0012897 9.947420e-01 1.007881e+00\n",
       "lab_hemoglobin_first        0.9473366 8.868107e-01 1.011993e+00\n",
       "lab_wbc_first               0.9952141 9.844397e-01 1.006106e+00\n",
       "lab_lactate_first           1.1419059 1.064307e+00 1.225162e+00\n",
       "lab_po2_first               0.9991901 9.976512e-01 1.000731e+00\n",
       "lab_troponin_flag           1.4586379 1.007627e+00 2.111521e+00\n",
       "lab_potassium_first         1.1087889 9.571218e-01 1.284489e+00\n",
       "lab_creatinine_kinase_flag  0.8413335 5.811631e-01 1.217975e+00\n",
       "lab_creatinine_first        0.7512174 6.356948e-01 8.877334e-01\n",
       "lab_pco2_first              1.0027279 9.853888e-01 1.020372e+00\n",
       "lab_bnp_flag                2.0659904 1.164035e+00 3.666828e+00\n",
       "lab_bicarbonate_first       1.0289914 9.786337e-01 1.081940e+00\n",
       "lab_bun_first               1.0105989 1.002927e+00 1.018330e+00\n",
       "lab_platelet_first          1.0006849 9.996061e-01 1.001765e+00\n",
       "lab_sodium_first            1.0022189 9.561560e-01 1.050501e+00\n",
       "lab_chloride_first          0.9947258 9.534087e-01 1.037834e+00\n",
       "lab_ph_first                0.4840079 5.351030e-02 4.377916e+00"
      ]
     },
     "metadata": {},
     "output_type": "display_data"
    }
   ],
   "source": [
    "exp(cbind(OR = coef(logi), confint(logi)))"
   ]
  },
  {
   "cell_type": "code",
   "execution_count": null,
   "metadata": {},
   "outputs": [],
   "source": []
  }
 ],
 "metadata": {
  "kernelspec": {
   "display_name": "R",
   "language": "R",
   "name": "ir"
  },
  "language_info": {
   "codemirror_mode": "r",
   "file_extension": ".r",
   "mimetype": "text/x-r-source",
   "name": "R",
   "pygments_lexer": "r",
   "version": "3.4.1"
  }
 },
 "nbformat": 4,
 "nbformat_minor": 2
}
