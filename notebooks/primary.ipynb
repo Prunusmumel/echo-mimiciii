{
 "cells": [
  {
   "cell_type": "code",
   "execution_count": 1,
   "metadata": {},
   "outputs": [
    {
     "name": "stderr",
     "output_type": "stream",
     "text": [
      "Loading required package: DBI\n",
      "Loading required package: gbm\n",
      "Loading required package: survival\n",
      "Loading required package: lattice\n",
      "Loading required package: splines\n",
      "Loading required package: parallel\n",
      "Loaded gbm 2.1.3\n",
      "Loading required package: survey\n",
      "Loading required package: grid\n",
      "Loading required package: Matrix\n",
      "\n",
      "Attaching package: ‘survey’\n",
      "\n",
      "The following object is masked from ‘package:graphics’:\n",
      "\n",
      "    dotchart\n",
      "\n",
      "Loading required package: xtable\n",
      "Loading required package: latticeExtra\n",
      "Loading required package: RColorBrewer\n",
      "Loading required package: MASS\n",
      "## \n",
      "##  Matching (Version 4.9-2, Build Date: 2015-12-25)\n",
      "##  See http://sekhon.berkeley.edu/matching for additional documentation.\n",
      "##  Please cite software as:\n",
      "##   Jasjeet S. Sekhon. 2011. ``Multivariate and Propensity Score Matching\n",
      "##   Software with Automated Balance Optimization: The Matching package for R.''\n",
      "##   Journal of Statistical Software, 42(7): 1-52. \n",
      "##\n",
      "\n",
      "── Attaching packages ─────────────────────────────────────── tidyverse 1.2.1 ──\n",
      "✔ ggplot2 2.2.1     ✔ purrr   0.2.4\n",
      "✔ tibble  1.3.4     ✔ dplyr   0.7.4\n",
      "✔ tidyr   0.7.2     ✔ stringr 1.2.0\n",
      "✔ readr   1.1.1     ✔ forcats 0.2.0\n",
      "── Conflicts ────────────────────────────────────────── tidyverse_conflicts() ──\n",
      "✖ tidyr::expand()  masks Matrix::expand()\n",
      "✖ dplyr::filter()  masks stats::filter()\n",
      "✖ dplyr::lag()     masks stats::lag()\n",
      "✖ ggplot2::layer() masks latticeExtra::layer()\n",
      "✖ dplyr::select()  masks MASS::select()\n"
     ]
    }
   ],
   "source": [
    "library(RPostgreSQL)\n",
    "library(twang)\n",
    "library(Matching)\n",
    "library(tidyverse)"
   ]
  },
  {
   "cell_type": "code",
   "execution_count": 2,
   "metadata": {},
   "outputs": [],
   "source": [
    "data_dir <- file.path(\"..\", \"data\")\n",
    "sql_dir <- file.path(\"..\", \"sql\")"
   ]
  },
  {
   "cell_type": "code",
   "execution_count": 3,
   "metadata": {},
   "outputs": [
    {
     "data": {
      "text/plain": [
       "<PostgreSQLResult>"
      ]
     },
     "metadata": {},
     "output_type": "display_data"
    }
   ],
   "source": [
    "drv <- dbDriver(\"PostgreSQL\")\n",
    "con <- dbConnect(drv, dbname = \"mimic\")\n",
    "dbSendQuery(con, \"set search_path=echo,public,mimiciii;\")"
   ]
  },
  {
   "cell_type": "code",
   "execution_count": 4,
   "metadata": {},
   "outputs": [],
   "source": [
    "full_data <- dbGetQuery(con, \"select * from merged_data\")"
   ]
  },
  {
   "cell_type": "code",
   "execution_count": 5,
   "metadata": {},
   "outputs": [
    {
     "data": {
      "text/html": [
       "TRUE"
      ],
      "text/latex": [
       "TRUE"
      ],
      "text/markdown": [
       "TRUE"
      ],
      "text/plain": [
       "[1] TRUE"
      ]
     },
     "metadata": {},
     "output_type": "display_data"
    },
    {
     "data": {
      "text/html": [
       "TRUE"
      ],
      "text/latex": [
       "TRUE"
      ],
      "text/markdown": [
       "TRUE"
      ],
      "text/plain": [
       "[1] TRUE"
      ]
     },
     "metadata": {},
     "output_type": "display_data"
    }
   ],
   "source": [
    "dbDisconnect(con)\n",
    "dbUnloadDriver(drv)"
   ]
  },
  {
   "cell_type": "code",
   "execution_count": 6,
   "metadata": {},
   "outputs": [],
   "source": [
    "to_factor <- function(x) {\n",
    "    res <- (x %>% as.factor %>% as.integer) - 1\n",
    "    if(length(na.omit(unique(res))) <= 1) return(factor(res, levels = c(0, 1)))\n",
    "    return(factor(res))\n",
    "}"
   ]
  },
  {
   "cell_type": "code",
   "execution_count": 7,
   "metadata": {},
   "outputs": [
    {
     "data": {
      "text/html": [
       "<ol class=list-inline>\n",
       "\t<li>'icd_chf'</li>\n",
       "\t<li>'icd_afib'</li>\n",
       "\t<li>'icd_renal'</li>\n",
       "\t<li>'icd_liver'</li>\n",
       "\t<li>'icd_copd'</li>\n",
       "\t<li>'icd_cad'</li>\n",
       "\t<li>'icd_stroke'</li>\n",
       "\t<li>'icd_malignancy'</li>\n",
       "\t<li>'vs_temp_flag'</li>\n",
       "\t<li>'vs_map_flag'</li>\n",
       "\t<li>'vs_cvp_flag'</li>\n",
       "\t<li>'vs_heart_rate_flag'</li>\n",
       "\t<li>'lab_hemoglobin_flag'</li>\n",
       "\t<li>'lab_hemoglobin_abnormal'</li>\n",
       "\t<li>'lab_wbc_flag'</li>\n",
       "\t<li>'lab_wbc_abnormal'</li>\n",
       "\t<li>'lab_lactate_flag'</li>\n",
       "\t<li>'lab_lactate_abnormal'</li>\n",
       "\t<li>'lab_po2_flag'</li>\n",
       "\t<li>'lab_po2_abnormal'</li>\n",
       "\t<li>'lab_troponin_flag'</li>\n",
       "\t<li>'lab_troponin_abnormal'</li>\n",
       "\t<li>'lab_potassium_flag'</li>\n",
       "\t<li>'lab_potassium_abnormal'</li>\n",
       "\t<li>'lab_creatinine_kinase_flag'</li>\n",
       "\t<li>'lab_creatinine_kinase_abnormal'</li>\n",
       "\t<li>'lab_creatinine_flag'</li>\n",
       "\t<li>'lab_creatinine_abnormal'</li>\n",
       "\t<li>'lab_pco2_flag'</li>\n",
       "\t<li>'lab_pco2_abnormal'</li>\n",
       "\t<li>'lab_bnp_flag'</li>\n",
       "\t<li>'lab_bnp_abnormal'</li>\n",
       "\t<li>'lab_bicarbonate_flag'</li>\n",
       "\t<li>'lab_bicarbonate_abnormal'</li>\n",
       "\t<li>'lab_bun_flag'</li>\n",
       "\t<li>'lab_bun_abnormal'</li>\n",
       "\t<li>'lab_platelet_flag'</li>\n",
       "\t<li>'lab_platelet_abnormal'</li>\n",
       "\t<li>'lab_sodium_flag'</li>\n",
       "\t<li>'lab_sodium_abnormal'</li>\n",
       "\t<li>'lab_chloride_flag'</li>\n",
       "\t<li>'lab_chloride_abnormal'</li>\n",
       "\t<li>'lab_ph_flag'</li>\n",
       "\t<li>'lab_ph_abnormal'</li>\n",
       "\t<li>'sedative'</li>\n",
       "\t<li>'gender'</li>\n",
       "\t<li>'first_careunit'</li>\n",
       "\t<li>'echo'</li>\n",
       "\t<li>'vent'</li>\n",
       "\t<li>'vaso'</li>\n",
       "\t<li>'icu_adm_weekday'</li>\n",
       "\t<li>'icu_adm_hour'</li>\n",
       "\t<li>'mort_28_day'</li>\n",
       "</ol>\n"
      ],
      "text/latex": [
       "\\begin{enumerate*}\n",
       "\\item 'icd\\_chf'\n",
       "\\item 'icd\\_afib'\n",
       "\\item 'icd\\_renal'\n",
       "\\item 'icd\\_liver'\n",
       "\\item 'icd\\_copd'\n",
       "\\item 'icd\\_cad'\n",
       "\\item 'icd\\_stroke'\n",
       "\\item 'icd\\_malignancy'\n",
       "\\item 'vs\\_temp\\_flag'\n",
       "\\item 'vs\\_map\\_flag'\n",
       "\\item 'vs\\_cvp\\_flag'\n",
       "\\item 'vs\\_heart\\_rate\\_flag'\n",
       "\\item 'lab\\_hemoglobin\\_flag'\n",
       "\\item 'lab\\_hemoglobin\\_abnormal'\n",
       "\\item 'lab\\_wbc\\_flag'\n",
       "\\item 'lab\\_wbc\\_abnormal'\n",
       "\\item 'lab\\_lactate\\_flag'\n",
       "\\item 'lab\\_lactate\\_abnormal'\n",
       "\\item 'lab\\_po2\\_flag'\n",
       "\\item 'lab\\_po2\\_abnormal'\n",
       "\\item 'lab\\_troponin\\_flag'\n",
       "\\item 'lab\\_troponin\\_abnormal'\n",
       "\\item 'lab\\_potassium\\_flag'\n",
       "\\item 'lab\\_potassium\\_abnormal'\n",
       "\\item 'lab\\_creatinine\\_kinase\\_flag'\n",
       "\\item 'lab\\_creatinine\\_kinase\\_abnormal'\n",
       "\\item 'lab\\_creatinine\\_flag'\n",
       "\\item 'lab\\_creatinine\\_abnormal'\n",
       "\\item 'lab\\_pco2\\_flag'\n",
       "\\item 'lab\\_pco2\\_abnormal'\n",
       "\\item 'lab\\_bnp\\_flag'\n",
       "\\item 'lab\\_bnp\\_abnormal'\n",
       "\\item 'lab\\_bicarbonate\\_flag'\n",
       "\\item 'lab\\_bicarbonate\\_abnormal'\n",
       "\\item 'lab\\_bun\\_flag'\n",
       "\\item 'lab\\_bun\\_abnormal'\n",
       "\\item 'lab\\_platelet\\_flag'\n",
       "\\item 'lab\\_platelet\\_abnormal'\n",
       "\\item 'lab\\_sodium\\_flag'\n",
       "\\item 'lab\\_sodium\\_abnormal'\n",
       "\\item 'lab\\_chloride\\_flag'\n",
       "\\item 'lab\\_chloride\\_abnormal'\n",
       "\\item 'lab\\_ph\\_flag'\n",
       "\\item 'lab\\_ph\\_abnormal'\n",
       "\\item 'sedative'\n",
       "\\item 'gender'\n",
       "\\item 'first\\_careunit'\n",
       "\\item 'echo'\n",
       "\\item 'vent'\n",
       "\\item 'vaso'\n",
       "\\item 'icu\\_adm\\_weekday'\n",
       "\\item 'icu\\_adm\\_hour'\n",
       "\\item 'mort\\_28\\_day'\n",
       "\\end{enumerate*}\n"
      ],
      "text/markdown": [
       "1. 'icd_chf'\n",
       "2. 'icd_afib'\n",
       "3. 'icd_renal'\n",
       "4. 'icd_liver'\n",
       "5. 'icd_copd'\n",
       "6. 'icd_cad'\n",
       "7. 'icd_stroke'\n",
       "8. 'icd_malignancy'\n",
       "9. 'vs_temp_flag'\n",
       "10. 'vs_map_flag'\n",
       "11. 'vs_cvp_flag'\n",
       "12. 'vs_heart_rate_flag'\n",
       "13. 'lab_hemoglobin_flag'\n",
       "14. 'lab_hemoglobin_abnormal'\n",
       "15. 'lab_wbc_flag'\n",
       "16. 'lab_wbc_abnormal'\n",
       "17. 'lab_lactate_flag'\n",
       "18. 'lab_lactate_abnormal'\n",
       "19. 'lab_po2_flag'\n",
       "20. 'lab_po2_abnormal'\n",
       "21. 'lab_troponin_flag'\n",
       "22. 'lab_troponin_abnormal'\n",
       "23. 'lab_potassium_flag'\n",
       "24. 'lab_potassium_abnormal'\n",
       "25. 'lab_creatinine_kinase_flag'\n",
       "26. 'lab_creatinine_kinase_abnormal'\n",
       "27. 'lab_creatinine_flag'\n",
       "28. 'lab_creatinine_abnormal'\n",
       "29. 'lab_pco2_flag'\n",
       "30. 'lab_pco2_abnormal'\n",
       "31. 'lab_bnp_flag'\n",
       "32. 'lab_bnp_abnormal'\n",
       "33. 'lab_bicarbonate_flag'\n",
       "34. 'lab_bicarbonate_abnormal'\n",
       "35. 'lab_bun_flag'\n",
       "36. 'lab_bun_abnormal'\n",
       "37. 'lab_platelet_flag'\n",
       "38. 'lab_platelet_abnormal'\n",
       "39. 'lab_sodium_flag'\n",
       "40. 'lab_sodium_abnormal'\n",
       "41. 'lab_chloride_flag'\n",
       "42. 'lab_chloride_abnormal'\n",
       "43. 'lab_ph_flag'\n",
       "44. 'lab_ph_abnormal'\n",
       "45. 'sedative'\n",
       "46. 'gender'\n",
       "47. 'first_careunit'\n",
       "48. 'echo'\n",
       "49. 'vent'\n",
       "50. 'vaso'\n",
       "51. 'icu_adm_weekday'\n",
       "52. 'icu_adm_hour'\n",
       "53. 'mort_28_day'\n",
       "\n",
       "\n"
      ],
      "text/plain": [
       " [1] \"icd_chf\"                        \"icd_afib\"                      \n",
       " [3] \"icd_renal\"                      \"icd_liver\"                     \n",
       " [5] \"icd_copd\"                       \"icd_cad\"                       \n",
       " [7] \"icd_stroke\"                     \"icd_malignancy\"                \n",
       " [9] \"vs_temp_flag\"                   \"vs_map_flag\"                   \n",
       "[11] \"vs_cvp_flag\"                    \"vs_heart_rate_flag\"            \n",
       "[13] \"lab_hemoglobin_flag\"            \"lab_hemoglobin_abnormal\"       \n",
       "[15] \"lab_wbc_flag\"                   \"lab_wbc_abnormal\"              \n",
       "[17] \"lab_lactate_flag\"               \"lab_lactate_abnormal\"          \n",
       "[19] \"lab_po2_flag\"                   \"lab_po2_abnormal\"              \n",
       "[21] \"lab_troponin_flag\"              \"lab_troponin_abnormal\"         \n",
       "[23] \"lab_potassium_flag\"             \"lab_potassium_abnormal\"        \n",
       "[25] \"lab_creatinine_kinase_flag\"     \"lab_creatinine_kinase_abnormal\"\n",
       "[27] \"lab_creatinine_flag\"            \"lab_creatinine_abnormal\"       \n",
       "[29] \"lab_pco2_flag\"                  \"lab_pco2_abnormal\"             \n",
       "[31] \"lab_bnp_flag\"                   \"lab_bnp_abnormal\"              \n",
       "[33] \"lab_bicarbonate_flag\"           \"lab_bicarbonate_abnormal\"      \n",
       "[35] \"lab_bun_flag\"                   \"lab_bun_abnormal\"              \n",
       "[37] \"lab_platelet_flag\"              \"lab_platelet_abnormal\"         \n",
       "[39] \"lab_sodium_flag\"                \"lab_sodium_abnormal\"           \n",
       "[41] \"lab_chloride_flag\"              \"lab_chloride_abnormal\"         \n",
       "[43] \"lab_ph_flag\"                    \"lab_ph_abnormal\"               \n",
       "[45] \"sedative\"                       \"gender\"                        \n",
       "[47] \"first_careunit\"                 \"echo\"                          \n",
       "[49] \"vent\"                           \"vaso\"                          \n",
       "[51] \"icu_adm_weekday\"                \"icu_adm_hour\"                  \n",
       "[53] \"mort_28_day\"                   "
      ]
     },
     "metadata": {},
     "output_type": "display_data"
    }
   ],
   "source": [
    "factor_vars <- full_data %>%\n",
    "    names %>%\n",
    "    grep(\"flag|abnormal|icd|sedative\", ., value = TRUE) %>%\n",
    "    c(\"gender\", \"first_careunit\", \"echo\", \"vent\", \"vaso\",\n",
    "      \"icu_adm_weekday\", \"icu_adm_hour\", \"mort_28_day\")\n",
    "factor_vars"
   ]
  },
  {
   "cell_type": "code",
   "execution_count": 8,
   "metadata": {},
   "outputs": [
    {
     "data": {
      "text/html": [
       "<ol class=list-inline>\n",
       "\t<li>0</li>\n",
       "\t<li>0</li>\n",
       "\t<li>0</li>\n",
       "\t<li>1</li>\n",
       "\t<li>0</li>\n",
       "\t<li>0</li>\n",
       "</ol>\n"
      ],
      "text/latex": [
       "\\begin{enumerate*}\n",
       "\\item 0\n",
       "\\item 0\n",
       "\\item 0\n",
       "\\item 1\n",
       "\\item 0\n",
       "\\item 0\n",
       "\\end{enumerate*}\n"
      ],
      "text/markdown": [
       "1. 0\n",
       "2. 0\n",
       "3. 0\n",
       "4. 1\n",
       "5. 0\n",
       "6. 0\n",
       "\n",
       "\n"
      ],
      "text/plain": [
       "[1] 0 0 0 1 0 0\n",
       "Levels: 0 1"
      ]
     },
     "metadata": {},
     "output_type": "display_data"
    }
   ],
   "source": [
    "full_data <- full_data %>%\n",
    "    mutate(echo_int = as.integer(echo)) %>%\n",
    "    mutate(mort_28_day_int = as.integer(mort_28_day)) %>%\n",
    "    mutate_at(factor_vars, to_factor)\n",
    "full_data %>% pull(echo) %>% head"
   ]
  },
  {
   "cell_type": "code",
   "execution_count": 9,
   "metadata": {},
   "outputs": [
    {
     "data": {
      "text/html": [
       "<ol class=list-inline>\n",
       "\t<li>'age'</li>\n",
       "\t<li>'gender'</li>\n",
       "\t<li>'weight'</li>\n",
       "\t<li>'saps'</li>\n",
       "\t<li>'sofa'</li>\n",
       "\t<li>'elix_score'</li>\n",
       "\t<li>'vent'</li>\n",
       "\t<li>'vaso'</li>\n",
       "\t<li>'icu_adm_weekday'</li>\n",
       "\t<li>'icu_adm_hour'</li>\n",
       "\t<li>'icd_chf'</li>\n",
       "\t<li>'icd_afib'</li>\n",
       "\t<li>'icd_renal'</li>\n",
       "\t<li>'icd_liver'</li>\n",
       "\t<li>'icd_copd'</li>\n",
       "\t<li>'icd_cad'</li>\n",
       "\t<li>'icd_stroke'</li>\n",
       "\t<li>'icd_malignancy'</li>\n",
       "\t<li>'vs_temp_first'</li>\n",
       "\t<li>'vs_map_first'</li>\n",
       "\t<li>'vs_cvp_first'</li>\n",
       "\t<li>'vs_heart_rate_first'</li>\n",
       "\t<li>'lab_hemoglobin_first'</li>\n",
       "\t<li>'lab_wbc_first'</li>\n",
       "\t<li>'lab_lactate_first'</li>\n",
       "\t<li>'lab_po2_first'</li>\n",
       "\t<li>'lab_troponin_flag'</li>\n",
       "\t<li>'lab_potassium_first'</li>\n",
       "\t<li>'lab_creatinine_kinase_flag'</li>\n",
       "\t<li>'lab_creatinine_first'</li>\n",
       "\t<li>'lab_pco2_first'</li>\n",
       "\t<li>'lab_bnp_flag'</li>\n",
       "\t<li>'lab_bicarbonate_first'</li>\n",
       "\t<li>'lab_bun_first'</li>\n",
       "\t<li>'lab_platelet_first'</li>\n",
       "\t<li>'lab_sodium_first'</li>\n",
       "\t<li>'lab_chloride_first'</li>\n",
       "\t<li>'lab_ph_first'</li>\n",
       "\t<li>'sedative'</li>\n",
       "</ol>\n"
      ],
      "text/latex": [
       "\\begin{enumerate*}\n",
       "\\item 'age'\n",
       "\\item 'gender'\n",
       "\\item 'weight'\n",
       "\\item 'saps'\n",
       "\\item 'sofa'\n",
       "\\item 'elix\\_score'\n",
       "\\item 'vent'\n",
       "\\item 'vaso'\n",
       "\\item 'icu\\_adm\\_weekday'\n",
       "\\item 'icu\\_adm\\_hour'\n",
       "\\item 'icd\\_chf'\n",
       "\\item 'icd\\_afib'\n",
       "\\item 'icd\\_renal'\n",
       "\\item 'icd\\_liver'\n",
       "\\item 'icd\\_copd'\n",
       "\\item 'icd\\_cad'\n",
       "\\item 'icd\\_stroke'\n",
       "\\item 'icd\\_malignancy'\n",
       "\\item 'vs\\_temp\\_first'\n",
       "\\item 'vs\\_map\\_first'\n",
       "\\item 'vs\\_cvp\\_first'\n",
       "\\item 'vs\\_heart\\_rate\\_first'\n",
       "\\item 'lab\\_hemoglobin\\_first'\n",
       "\\item 'lab\\_wbc\\_first'\n",
       "\\item 'lab\\_lactate\\_first'\n",
       "\\item 'lab\\_po2\\_first'\n",
       "\\item 'lab\\_troponin\\_flag'\n",
       "\\item 'lab\\_potassium\\_first'\n",
       "\\item 'lab\\_creatinine\\_kinase\\_flag'\n",
       "\\item 'lab\\_creatinine\\_first'\n",
       "\\item 'lab\\_pco2\\_first'\n",
       "\\item 'lab\\_bnp\\_flag'\n",
       "\\item 'lab\\_bicarbonate\\_first'\n",
       "\\item 'lab\\_bun\\_first'\n",
       "\\item 'lab\\_platelet\\_first'\n",
       "\\item 'lab\\_sodium\\_first'\n",
       "\\item 'lab\\_chloride\\_first'\n",
       "\\item 'lab\\_ph\\_first'\n",
       "\\item 'sedative'\n",
       "\\end{enumerate*}\n"
      ],
      "text/markdown": [
       "1. 'age'\n",
       "2. 'gender'\n",
       "3. 'weight'\n",
       "4. 'saps'\n",
       "5. 'sofa'\n",
       "6. 'elix_score'\n",
       "7. 'vent'\n",
       "8. 'vaso'\n",
       "9. 'icu_adm_weekday'\n",
       "10. 'icu_adm_hour'\n",
       "11. 'icd_chf'\n",
       "12. 'icd_afib'\n",
       "13. 'icd_renal'\n",
       "14. 'icd_liver'\n",
       "15. 'icd_copd'\n",
       "16. 'icd_cad'\n",
       "17. 'icd_stroke'\n",
       "18. 'icd_malignancy'\n",
       "19. 'vs_temp_first'\n",
       "20. 'vs_map_first'\n",
       "21. 'vs_cvp_first'\n",
       "22. 'vs_heart_rate_first'\n",
       "23. 'lab_hemoglobin_first'\n",
       "24. 'lab_wbc_first'\n",
       "25. 'lab_lactate_first'\n",
       "26. 'lab_po2_first'\n",
       "27. 'lab_troponin_flag'\n",
       "28. 'lab_potassium_first'\n",
       "29. 'lab_creatinine_kinase_flag'\n",
       "30. 'lab_creatinine_first'\n",
       "31. 'lab_pco2_first'\n",
       "32. 'lab_bnp_flag'\n",
       "33. 'lab_bicarbonate_first'\n",
       "34. 'lab_bun_first'\n",
       "35. 'lab_platelet_first'\n",
       "36. 'lab_sodium_first'\n",
       "37. 'lab_chloride_first'\n",
       "38. 'lab_ph_first'\n",
       "39. 'sedative'\n",
       "\n",
       "\n"
      ],
      "text/plain": [
       " [1] \"age\"                        \"gender\"                    \n",
       " [3] \"weight\"                     \"saps\"                      \n",
       " [5] \"sofa\"                       \"elix_score\"                \n",
       " [7] \"vent\"                       \"vaso\"                      \n",
       " [9] \"icu_adm_weekday\"            \"icu_adm_hour\"              \n",
       "[11] \"icd_chf\"                    \"icd_afib\"                  \n",
       "[13] \"icd_renal\"                  \"icd_liver\"                 \n",
       "[15] \"icd_copd\"                   \"icd_cad\"                   \n",
       "[17] \"icd_stroke\"                 \"icd_malignancy\"            \n",
       "[19] \"vs_temp_first\"              \"vs_map_first\"              \n",
       "[21] \"vs_cvp_first\"               \"vs_heart_rate_first\"       \n",
       "[23] \"lab_hemoglobin_first\"       \"lab_wbc_first\"             \n",
       "[25] \"lab_lactate_first\"          \"lab_po2_first\"             \n",
       "[27] \"lab_troponin_flag\"          \"lab_potassium_first\"       \n",
       "[29] \"lab_creatinine_kinase_flag\" \"lab_creatinine_first\"      \n",
       "[31] \"lab_pco2_first\"             \"lab_bnp_flag\"              \n",
       "[33] \"lab_bicarbonate_first\"      \"lab_bun_first\"             \n",
       "[35] \"lab_platelet_first\"         \"lab_sodium_first\"          \n",
       "[37] \"lab_chloride_first\"         \"lab_ph_first\"              \n",
       "[39] \"sedative\"                  "
      ]
     },
     "metadata": {},
     "output_type": "display_data"
    },
    {
     "data": {
      "text/html": [
       "39"
      ],
      "text/latex": [
       "39"
      ],
      "text/markdown": [
       "39"
      ],
      "text/plain": [
       "[1] 39"
      ]
     },
     "metadata": {},
     "output_type": "display_data"
    }
   ],
   "source": [
    "feature_names <- full_data %>%\n",
    "    names %>%\n",
    "    keep(grepl(\"vs|lab|icd|age|gender|weight|saps|sofa|elix_score|vent|vaso|icu_adm|sedative\", .)) %>%\n",
    "    discard(grepl(\"vs|lab\", .) & grepl(\"flag\", .) & !grepl(\"bnp|troponin|kinase\", .)) %>%\n",
    "    discard(grepl(\"bnp|troponin|kinase\", .) & !grepl(\"flag\", .)) %>%\n",
    "    discard(grepl(\"min|max\", .)) %>%\n",
    "    discard(grepl(\"abnormal\", .))\n",
    "feature_names\n",
    "length(feature_names)"
   ]
  },
  {
   "cell_type": "code",
   "execution_count": 10,
   "metadata": {},
   "outputs": [
    {
     "data": {
      "text/html": [
       "<table>\n",
       "<thead><tr><th scope=col>age</th><th scope=col>gender</th><th scope=col>weight</th><th scope=col>saps</th><th scope=col>sofa</th><th scope=col>elix_score</th><th scope=col>vent</th><th scope=col>vaso</th><th scope=col>icu_adm_weekday</th><th scope=col>icu_adm_hour</th><th scope=col>⋯</th><th scope=col>lab_creatinine_first</th><th scope=col>lab_pco2_first</th><th scope=col>lab_bnp_flag</th><th scope=col>lab_bicarbonate_first</th><th scope=col>lab_bun_first</th><th scope=col>lab_platelet_first</th><th scope=col>lab_sodium_first</th><th scope=col>lab_chloride_first</th><th scope=col>lab_ph_first</th><th scope=col>sedative</th></tr></thead>\n",
       "<tbody>\n",
       "\t<tr><td>62.67646</td><td>1       </td><td>74.3    </td><td>25      </td><td>5       </td><td> 5      </td><td>1       </td><td>0       </td><td>2       </td><td>1       </td><td>⋯       </td><td>3.7     </td><td>32      </td><td>0       </td><td>22      </td><td>208     </td><td>313     </td><td>160     </td><td>123     </td><td>7.45    </td><td>1       </td></tr>\n",
       "\t<tr><td>86.76186</td><td>0       </td><td>  NA    </td><td>13      </td><td>1       </td><td>10      </td><td>0       </td><td>0       </td><td>4       </td><td>1       </td><td>⋯       </td><td>0.9     </td><td>NA      </td><td>0       </td><td>27      </td><td> 17     </td><td>189     </td><td>139     </td><td>105     </td><td>  NA    </td><td>0       </td></tr>\n",
       "\t<tr><td>56.08904</td><td>1       </td><td>65.0    </td><td>18      </td><td>5       </td><td>14      </td><td>1       </td><td>0       </td><td>6       </td><td>1       </td><td>⋯       </td><td>0.9     </td><td>32      </td><td>0       </td><td>24      </td><td> 15     </td><td>231     </td><td>144     </td><td>108     </td><td>7.49    </td><td>0       </td></tr>\n",
       "\t<tr><td>45.91093</td><td>1       </td><td>  NA    </td><td>16      </td><td>9       </td><td>13      </td><td>0       </td><td>0       </td><td>3       </td><td>14      </td><td>⋯       </td><td>0.8     </td><td>30      </td><td>0       </td><td>20      </td><td> 19     </td><td> 28     </td><td>134     </td><td>100     </td><td>7.44    </td><td>0       </td></tr>\n",
       "\t<tr><td>59.38693</td><td>1       </td><td>91.4    </td><td>13      </td><td>3       </td><td>22      </td><td>0       </td><td>0       </td><td>3       </td><td>14      </td><td>⋯       </td><td>0.7     </td><td>NA      </td><td>0       </td><td>26      </td><td>  7     </td><td> 40     </td><td>138     </td><td>103     </td><td>  NA    </td><td>0       </td></tr>\n",
       "\t<tr><td>91.50000</td><td>0       </td><td>55.0    </td><td>25      </td><td>5       </td><td> 0      </td><td>0       </td><td>0       </td><td>6       </td><td>20      </td><td>⋯       </td><td>0.8     </td><td>NA      </td><td>0       </td><td>20      </td><td> 19     </td><td>249     </td><td>147     </td><td>118     </td><td>  NA    </td><td>0       </td></tr>\n",
       "</tbody>\n",
       "</table>\n"
      ],
      "text/latex": [
       "\\begin{tabular}{r|lllllllllllllllllllllllllllllllllllllll}\n",
       " age & gender & weight & saps & sofa & elix\\_score & vent & vaso & icu\\_adm\\_weekday & icu\\_adm\\_hour & ⋯ & lab\\_creatinine\\_first & lab\\_pco2\\_first & lab\\_bnp\\_flag & lab\\_bicarbonate\\_first & lab\\_bun\\_first & lab\\_platelet\\_first & lab\\_sodium\\_first & lab\\_chloride\\_first & lab\\_ph\\_first & sedative\\\\\n",
       "\\hline\n",
       "\t 62.67646 & 1        & 74.3     & 25       & 5        &  5       & 1        & 0        & 2        & 1        & ⋯        & 3.7      & 32       & 0        & 22       & 208      & 313      & 160      & 123      & 7.45     & 1       \\\\\n",
       "\t 86.76186 & 0        &   NA     & 13       & 1        & 10       & 0        & 0        & 4        & 1        & ⋯        & 0.9      & NA       & 0        & 27       &  17      & 189      & 139      & 105      &   NA     & 0       \\\\\n",
       "\t 56.08904 & 1        & 65.0     & 18       & 5        & 14       & 1        & 0        & 6        & 1        & ⋯        & 0.9      & 32       & 0        & 24       &  15      & 231      & 144      & 108      & 7.49     & 0       \\\\\n",
       "\t 45.91093 & 1        &   NA     & 16       & 9        & 13       & 0        & 0        & 3        & 14       & ⋯        & 0.8      & 30       & 0        & 20       &  19      &  28      & 134      & 100      & 7.44     & 0       \\\\\n",
       "\t 59.38693 & 1        & 91.4     & 13       & 3        & 22       & 0        & 0        & 3        & 14       & ⋯        & 0.7      & NA       & 0        & 26       &   7      &  40      & 138      & 103      &   NA     & 0       \\\\\n",
       "\t 91.50000 & 0        & 55.0     & 25       & 5        &  0       & 0        & 0        & 6        & 20       & ⋯        & 0.8      & NA       & 0        & 20       &  19      & 249      & 147      & 118      &   NA     & 0       \\\\\n",
       "\\end{tabular}\n"
      ],
      "text/markdown": [
       "\n",
       "age | gender | weight | saps | sofa | elix_score | vent | vaso | icu_adm_weekday | icu_adm_hour | ⋯ | lab_creatinine_first | lab_pco2_first | lab_bnp_flag | lab_bicarbonate_first | lab_bun_first | lab_platelet_first | lab_sodium_first | lab_chloride_first | lab_ph_first | sedative | \n",
       "|---|---|---|---|---|---|\n",
       "| 62.67646 | 1        | 74.3     | 25       | 5        |  5       | 1        | 0        | 2        | 1        | ⋯        | 3.7      | 32       | 0        | 22       | 208      | 313      | 160      | 123      | 7.45     | 1        | \n",
       "| 86.76186 | 0        |   NA     | 13       | 1        | 10       | 0        | 0        | 4        | 1        | ⋯        | 0.9      | NA       | 0        | 27       |  17      | 189      | 139      | 105      |   NA     | 0        | \n",
       "| 56.08904 | 1        | 65.0     | 18       | 5        | 14       | 1        | 0        | 6        | 1        | ⋯        | 0.9      | 32       | 0        | 24       |  15      | 231      | 144      | 108      | 7.49     | 0        | \n",
       "| 45.91093 | 1        |   NA     | 16       | 9        | 13       | 0        | 0        | 3        | 14       | ⋯        | 0.8      | 30       | 0        | 20       |  19      |  28      | 134      | 100      | 7.44     | 0        | \n",
       "| 59.38693 | 1        | 91.4     | 13       | 3        | 22       | 0        | 0        | 3        | 14       | ⋯        | 0.7      | NA       | 0        | 26       |   7      |  40      | 138      | 103      |   NA     | 0        | \n",
       "| 91.50000 | 0        | 55.0     | 25       | 5        |  0       | 0        | 0        | 6        | 20       | ⋯        | 0.8      | NA       | 0        | 20       |  19      | 249      | 147      | 118      |   NA     | 0        | \n",
       "\n",
       "\n"
      ],
      "text/plain": [
       "  age      gender weight saps sofa elix_score vent vaso icu_adm_weekday\n",
       "1 62.67646 1      74.3   25   5     5         1    0    2              \n",
       "2 86.76186 0        NA   13   1    10         0    0    4              \n",
       "3 56.08904 1      65.0   18   5    14         1    0    6              \n",
       "4 45.91093 1        NA   16   9    13         0    0    3              \n",
       "5 59.38693 1      91.4   13   3    22         0    0    3              \n",
       "6 91.50000 0      55.0   25   5     0         0    0    6              \n",
       "  icu_adm_hour ⋯ lab_creatinine_first lab_pco2_first lab_bnp_flag\n",
       "1 1            ⋯ 3.7                  32             0           \n",
       "2 1            ⋯ 0.9                  NA             0           \n",
       "3 1            ⋯ 0.9                  32             0           \n",
       "4 14           ⋯ 0.8                  30             0           \n",
       "5 14           ⋯ 0.7                  NA             0           \n",
       "6 20           ⋯ 0.8                  NA             0           \n",
       "  lab_bicarbonate_first lab_bun_first lab_platelet_first lab_sodium_first\n",
       "1 22                    208           313                160             \n",
       "2 27                     17           189                139             \n",
       "3 24                     15           231                144             \n",
       "4 20                     19            28                134             \n",
       "5 26                      7            40                138             \n",
       "6 20                     19           249                147             \n",
       "  lab_chloride_first lab_ph_first sedative\n",
       "1 123                7.45         1       \n",
       "2 105                  NA         0       \n",
       "3 108                7.49         0       \n",
       "4 100                7.44         0       \n",
       "5 103                  NA         0       \n",
       "6 118                  NA         0       "
      ]
     },
     "metadata": {},
     "output_type": "display_data"
    }
   ],
   "source": [
    "features <- full_data %>%\n",
    "    select(!!!rlang::syms(feature_names))\n",
    "head(features)"
   ]
  },
  {
   "cell_type": "code",
   "execution_count": 11,
   "metadata": {},
   "outputs": [],
   "source": [
    "label_name <- \"echo\""
   ]
  },
  {
   "cell_type": "code",
   "execution_count": 12,
   "metadata": {},
   "outputs": [
    {
     "data": {
      "text/html": [
       "<ol class=list-inline>\n",
       "\t<li>0</li>\n",
       "\t<li>0</li>\n",
       "\t<li>0</li>\n",
       "\t<li>1</li>\n",
       "\t<li>0</li>\n",
       "\t<li>0</li>\n",
       "</ol>\n"
      ],
      "text/latex": [
       "\\begin{enumerate*}\n",
       "\\item 0\n",
       "\\item 0\n",
       "\\item 0\n",
       "\\item 1\n",
       "\\item 0\n",
       "\\item 0\n",
       "\\end{enumerate*}\n"
      ],
      "text/markdown": [
       "1. 0\n",
       "2. 0\n",
       "3. 0\n",
       "4. 1\n",
       "5. 0\n",
       "6. 0\n",
       "\n",
       "\n"
      ],
      "text/plain": [
       "[1] 0 0 0 1 0 0\n",
       "Levels: 0 1"
      ]
     },
     "metadata": {},
     "output_type": "display_data"
    }
   ],
   "source": [
    "label <- full_data %>% pull(echo)\n",
    "head(label)"
   ]
  },
  {
   "cell_type": "code",
   "execution_count": 13,
   "metadata": {},
   "outputs": [
    {
     "data": {
      "text/html": [
       "'mort_28_day ~ echo + age + gender + weight + saps + sofa + elix_score + vent + vaso + icu_adm_weekday + icu_adm_hour + icd_chf + icd_afib + icd_renal + icd_liver + icd_copd + icd_cad + icd_stroke + icd_malignancy + vs_temp_first + vs_map_first + vs_cvp_first + vs_heart_rate_first + lab_hemoglobin_first + lab_wbc_first + lab_lactate_first + lab_po2_first + lab_troponin_flag + lab_potassium_first + lab_creatinine_kinase_flag + lab_creatinine_first + lab_pco2_first + lab_bnp_flag + lab_bicarbonate_first + lab_bun_first + lab_platelet_first + lab_sodium_first + lab_chloride_first + lab_ph_first + sedative'"
      ],
      "text/latex": [
       "'mort\\_28\\_day \\textasciitilde{} echo + age + gender + weight + saps + sofa + elix\\_score + vent + vaso + icu\\_adm\\_weekday + icu\\_adm\\_hour + icd\\_chf + icd\\_afib + icd\\_renal + icd\\_liver + icd\\_copd + icd\\_cad + icd\\_stroke + icd\\_malignancy + vs\\_temp\\_first + vs\\_map\\_first + vs\\_cvp\\_first + vs\\_heart\\_rate\\_first + lab\\_hemoglobin\\_first + lab\\_wbc\\_first + lab\\_lactate\\_first + lab\\_po2\\_first + lab\\_troponin\\_flag + lab\\_potassium\\_first + lab\\_creatinine\\_kinase\\_flag + lab\\_creatinine\\_first + lab\\_pco2\\_first + lab\\_bnp\\_flag + lab\\_bicarbonate\\_first + lab\\_bun\\_first + lab\\_platelet\\_first + lab\\_sodium\\_first + lab\\_chloride\\_first + lab\\_ph\\_first + sedative'"
      ],
      "text/markdown": [
       "'mort_28_day ~ echo + age + gender + weight + saps + sofa + elix_score + vent + vaso + icu_adm_weekday + icu_adm_hour + icd_chf + icd_afib + icd_renal + icd_liver + icd_copd + icd_cad + icd_stroke + icd_malignancy + vs_temp_first + vs_map_first + vs_cvp_first + vs_heart_rate_first + lab_hemoglobin_first + lab_wbc_first + lab_lactate_first + lab_po2_first + lab_troponin_flag + lab_potassium_first + lab_creatinine_kinase_flag + lab_creatinine_first + lab_pco2_first + lab_bnp_flag + lab_bicarbonate_first + lab_bun_first + lab_platelet_first + lab_sodium_first + lab_chloride_first + lab_ph_first + sedative'"
      ],
      "text/plain": [
       "[1] \"mort_28_day ~ echo + age + gender + weight + saps + sofa + elix_score + vent + vaso + icu_adm_weekday + icu_adm_hour + icd_chf + icd_afib + icd_renal + icd_liver + icd_copd + icd_cad + icd_stroke + icd_malignancy + vs_temp_first + vs_map_first + vs_cvp_first + vs_heart_rate_first + lab_hemoglobin_first + lab_wbc_first + lab_lactate_first + lab_po2_first + lab_troponin_flag + lab_potassium_first + lab_creatinine_kinase_flag + lab_creatinine_first + lab_pco2_first + lab_bnp_flag + lab_bicarbonate_first + lab_bun_first + lab_platelet_first + lab_sodium_first + lab_chloride_first + lab_ph_first + sedative\""
      ]
     },
     "metadata": {},
     "output_type": "display_data"
    }
   ],
   "source": [
    "fml <- feature_names %>%\n",
    "    c(\"echo\", .) %>%\n",
    "    paste(collapse = \" + \") %>%\n",
    "    sprintf(\"mort_28_day ~ %s\", .)\n",
    "fml"
   ]
  },
  {
   "cell_type": "code",
   "execution_count": 14,
   "metadata": {},
   "outputs": [
    {
     "data": {
      "text/plain": [
       "\n",
       "Call:\n",
       "glm(formula = as.formula(fml), family = binomial, data = full_data, \n",
       "    na.action = na.exclude)\n",
       "\n",
       "Deviance Residuals: \n",
       "    Min       1Q   Median       3Q      Max  \n",
       "-2.1290  -0.7409  -0.4071   0.7412   2.8934  \n",
       "\n",
       "Coefficients:\n",
       "                              Estimate Std. Error z value Pr(>|z|)    \n",
       "(Intercept)                  8.0292101  8.8014207   0.912 0.361630    \n",
       "echo1                       -0.2997508  0.1489331  -2.013 0.044151 *  \n",
       "age                          0.0236840  0.0055781   4.246 2.18e-05 ***\n",
       "gender1                      0.2650460  0.1437079   1.844 0.065134 .  \n",
       "weight                      -0.0080925  0.0031706  -2.552 0.010700 *  \n",
       "saps                         0.0644435  0.0178807   3.604 0.000313 ***\n",
       "sofa                         0.1710792  0.0263237   6.499 8.08e-11 ***\n",
       "elix_score                   0.0294234  0.0115854   2.540 0.011095 *  \n",
       "vent1                        0.3261491  0.2672729   1.220 0.222357    \n",
       "vaso1                       -0.0005724  0.1759167  -0.003 0.997404    \n",
       "icu_adm_weekday1            -0.0135689  0.2601697  -0.052 0.958406    \n",
       "icu_adm_weekday2             0.1349401  0.2539891   0.531 0.595223    \n",
       "icu_adm_weekday3             0.3441251  0.2441115   1.410 0.158627    \n",
       "icu_adm_weekday4             0.3405710  0.2447985   1.391 0.164156    \n",
       "icu_adm_weekday5             0.1399763  0.2529418   0.553 0.579994    \n",
       "icu_adm_weekday6             0.0036649  0.2629919   0.014 0.988881    \n",
       "icu_adm_hour1                0.0305026  0.4883502   0.062 0.950196    \n",
       "icu_adm_hour2               -0.6286947  0.5235339  -1.201 0.229803    \n",
       "icu_adm_hour3               -0.0836238  0.4853719  -0.172 0.863211    \n",
       "icu_adm_hour4                0.4706733  0.4759826   0.989 0.322739    \n",
       "icu_adm_hour5               -0.0039587  0.5197779  -0.008 0.993923    \n",
       "icu_adm_hour6               -0.0011361  0.5705244  -0.002 0.998411    \n",
       "icu_adm_hour7               -0.9746636  0.7757414  -1.256 0.208961    \n",
       "icu_adm_hour8               -0.3042363  0.7126332  -0.427 0.669439    \n",
       "icu_adm_hour9                0.6546044  0.5055429   1.295 0.195371    \n",
       "icu_adm_hour10              -0.4204639  0.5650301  -0.744 0.456789    \n",
       "icu_adm_hour11              -0.0617649  0.4817072  -0.128 0.897974    \n",
       "icu_adm_hour12               0.1475416  0.4556036   0.324 0.746061    \n",
       "icu_adm_hour13               0.6090263  0.4807233   1.267 0.205193    \n",
       "icu_adm_hour14               0.4431759  0.4414307   1.004 0.315401    \n",
       "icu_adm_hour15               0.2118953  0.4296202   0.493 0.621860    \n",
       "icu_adm_hour16               0.0029817  0.4126465   0.007 0.994235    \n",
       "icu_adm_hour17              -0.1414940  0.4294612  -0.329 0.741801    \n",
       "icu_adm_hour18              -0.0118797  0.4174912  -0.028 0.977299    \n",
       "icu_adm_hour19               0.2721243  0.4095651   0.664 0.506420    \n",
       "icu_adm_hour20               0.5757456  0.3975792   1.448 0.147581    \n",
       "icu_adm_hour21               0.5248683  0.3937203   1.333 0.182499    \n",
       "icu_adm_hour22               0.3968083  0.3925180   1.011 0.312050    \n",
       "icu_adm_hour23              -0.6899721  0.4438233  -1.555 0.120039    \n",
       "icd_chf1                    -0.4611450  0.1761684  -2.618 0.008854 ** \n",
       "icd_afib1                    0.1273431  0.1578072   0.807 0.419693    \n",
       "icd_renal1                   0.2007621  0.2153615   0.932 0.351228    \n",
       "icd_liver1                   0.5104188  0.2421154   2.108 0.035017 *  \n",
       "icd_copd1                    0.4003057  0.1943778   2.059 0.039454 *  \n",
       "icd_cad1                    -0.3728249  0.2133326  -1.748 0.080529 .  \n",
       "icd_stroke1                  0.4529068  0.2872578   1.577 0.114875    \n",
       "icd_malignancy1              0.3681863  0.1727119   2.132 0.033024 *  \n",
       "vs_temp_first               -0.1009663  0.0584096  -1.729 0.083882 .  \n",
       "vs_map_first                -0.0088717  0.0036717  -2.416 0.015683 *  \n",
       "vs_cvp_first                -0.0032914  0.0035209  -0.935 0.349889    \n",
       "vs_heart_rate_first          0.0061424  0.0033501   1.833 0.066728 .  \n",
       "lab_hemoglobin_first        -0.0424780  0.0352075  -1.207 0.227622    \n",
       "lab_wbc_first               -0.0049489  0.0058757  -0.842 0.399636    \n",
       "lab_lactate_first            0.1368390  0.0363466   3.765 0.000167 ***\n",
       "lab_po2_first               -0.0010267  0.0007125  -1.441 0.149568    \n",
       "lab_troponin_flag1           0.2987794  0.1929276   1.549 0.121463    \n",
       "lab_potassium_first          0.1266123  0.0753036   1.681 0.092693 .  \n",
       "lab_creatinine_kinase_flag1 -0.0575453  0.1944888  -0.296 0.767322    \n",
       "lab_creatinine_first        -0.2202689  0.0729422  -3.020 0.002530 ** \n",
       "lab_pco2_first              -0.0005008  0.0098187  -0.051 0.959325    \n",
       "lab_bnp_flag1                0.6013839  0.3340975   1.800 0.071857 .  \n",
       "lab_bicarbonate_first        0.0416407  0.0259978   1.602 0.109222    \n",
       "lab_bun_first                0.0085595  0.0034427   2.486 0.012910 *  \n",
       "lab_platelet_first           0.0004541  0.0005601   0.811 0.417491    \n",
       "lab_sodium_first            -0.0109566  0.0228685  -0.479 0.631859    \n",
       "lab_chloride_first          -0.0123316  0.0211088  -0.584 0.559091    \n",
       "lab_ph_first                -1.1128124  1.1770249  -0.945 0.344432    \n",
       "sedative1                   -0.2258616  0.2101492  -1.075 0.282479    \n",
       "---\n",
       "Signif. codes:  0 ‘***’ 0.001 ‘**’ 0.01 ‘*’ 0.05 ‘.’ 0.1 ‘ ’ 1\n",
       "\n",
       "(Dispersion parameter for binomial family taken to be 1)\n",
       "\n",
       "    Null deviance: 1933.8  on 1533  degrees of freedom\n",
       "Residual deviance: 1440.2  on 1466  degrees of freedom\n",
       "  (4628 observations deleted due to missingness)\n",
       "AIC: 1576.2\n",
       "\n",
       "Number of Fisher Scoring iterations: 5\n"
      ]
     },
     "metadata": {},
     "output_type": "display_data"
    },
    {
     "name": "stderr",
     "output_type": "stream",
     "text": [
      "Waiting for profiling to be done...\n"
     ]
    },
    {
     "data": {
      "text/html": [
       "<table>\n",
       "<thead><tr><th></th><th scope=col>OR</th><th scope=col>2.5 %</th><th scope=col>97.5 %</th></tr></thead>\n",
       "<tbody>\n",
       "\t<tr><th scope=row>(Intercept)</th><td>3069.3164090</td><td>8.857674e-05</td><td>8.810246e+10</td></tr>\n",
       "\t<tr><th scope=row>echo1</th><td>   0.7410029</td><td>5.531550e-01</td><td>9.921324e-01</td></tr>\n",
       "\t<tr><th scope=row>age</th><td>   1.0239666</td><td>1.012943e+00</td><td>1.035356e+00</td></tr>\n",
       "\t<tr><th scope=row>gender1</th><td>   1.3034909</td><td>9.838856e-01</td><td>1.728837e+00</td></tr>\n",
       "\t<tr><th scope=row>weight</th><td>   0.9919402</td><td>9.857158e-01</td><td>9.980566e-01</td></tr>\n",
       "\t<tr><th scope=row>saps</th><td>   1.0665653</td><td>1.029964e+00</td><td>1.104811e+00</td></tr>\n",
       "\t<tr><th scope=row>sofa</th><td>   1.1865847</td><td>1.127441e+00</td><td>1.250096e+00</td></tr>\n",
       "\t<tr><th scope=row>elix_score</th><td>   1.0298605</td><td>1.006712e+00</td><td>1.053527e+00</td></tr>\n",
       "\t<tr><th scope=row>vent1</th><td>   1.3856219</td><td>8.204168e-01</td><td>2.341405e+00</td></tr>\n",
       "\t<tr><th scope=row>vaso1</th><td>   0.9994278</td><td>7.082327e-01</td><td>1.412287e+00</td></tr>\n",
       "\t<tr><th scope=row>icu_adm_weekday1</th><td>   0.9865227</td><td>5.918797e-01</td><td>1.643111e+00</td></tr>\n",
       "\t<tr><th scope=row>icu_adm_weekday2</th><td>   1.1444682</td><td>6.957010e-01</td><td>1.884990e+00</td></tr>\n",
       "\t<tr><th scope=row>icu_adm_weekday3</th><td>   1.4107551</td><td>8.757096e-01</td><td>2.282242e+00</td></tr>\n",
       "\t<tr><th scope=row>icu_adm_weekday4</th><td>   1.4057500</td><td>8.711608e-01</td><td>2.276528e+00</td></tr>\n",
       "\t<tr><th scope=row>icu_adm_weekday5</th><td>   1.1502466</td><td>7.005833e-01</td><td>1.890385e+00</td></tr>\n",
       "\t<tr><th scope=row>icu_adm_weekday6</th><td>   1.0036716</td><td>5.988093e-01</td><td>1.680889e+00</td></tr>\n",
       "\t<tr><th scope=row>icu_adm_hour1</th><td>   1.0309726</td><td>3.941841e-01</td><td>2.687729e+00</td></tr>\n",
       "\t<tr><th scope=row>icu_adm_hour2</th><td>   0.5332874</td><td>1.869712e-01</td><td>1.468514e+00</td></tr>\n",
       "\t<tr><th scope=row>icu_adm_hour3</th><td>   0.9197772</td><td>3.530796e-01</td><td>2.380902e+00</td></tr>\n",
       "\t<tr><th scope=row>icu_adm_hour4</th><td>   1.6010718</td><td>6.289738e-01</td><td>4.086051e+00</td></tr>\n",
       "\t<tr><th scope=row>icu_adm_hour5</th><td>   0.9960492</td><td>3.541053e-01</td><td>2.739209e+00</td></tr>\n",
       "\t<tr><th scope=row>icu_adm_hour6</th><td>   0.9988645</td><td>3.203857e-01</td><td>3.031092e+00</td></tr>\n",
       "\t<tr><th scope=row>icu_adm_hour7</th><td>   0.3773193</td><td>6.967590e-02</td><td>1.562345e+00</td></tr>\n",
       "\t<tr><th scope=row>icu_adm_hour8</th><td>   0.7376865</td><td>1.651340e-01</td><td>2.818351e+00</td></tr>\n",
       "\t<tr><th scope=row>icu_adm_hour9</th><td>   1.9243811</td><td>7.129111e-01</td><td>5.204207e+00</td></tr>\n",
       "\t<tr><th scope=row>icu_adm_hour10</th><td>   0.6567421</td><td>2.101400e-01</td><td>1.948502e+00</td></tr>\n",
       "\t<tr><th scope=row>icu_adm_hour11</th><td>   0.9401039</td><td>3.635296e-01</td><td>2.416973e+00</td></tr>\n",
       "\t<tr><th scope=row>icu_adm_hour12</th><td>   1.1589815</td><td>4.730232e-01</td><td>2.837293e+00</td></tr>\n",
       "\t<tr><th scope=row>icu_adm_hour13</th><td>   1.8386403</td><td>7.163576e-01</td><td>4.740639e+00</td></tr>\n",
       "\t<tr><th scope=row>icu_adm_hour14</th><td>   1.5576463</td><td>6.562603e-01</td><td>3.720868e+00</td></tr>\n",
       "\t<tr><th scope=row>⋮</th><td>⋮</td><td>⋮</td><td>⋮</td></tr>\n",
       "\t<tr><th scope=row>icu_adm_hour23</th><td>0.5015900 </td><td>0.20929133</td><td>1.1980815 </td></tr>\n",
       "\t<tr><th scope=row>icd_chf1</th><td>0.6305613 </td><td>0.44558332</td><td>0.8893082 </td></tr>\n",
       "\t<tr><th scope=row>icd_afib1</th><td>1.1358066 </td><td>0.83309179</td><td>1.5471561 </td></tr>\n",
       "\t<tr><th scope=row>icd_renal1</th><td>1.2223340 </td><td>0.79999151</td><td>1.8624726 </td></tr>\n",
       "\t<tr><th scope=row>icd_liver1</th><td>1.6659888 </td><td>1.03683437</td><td>2.6809602 </td></tr>\n",
       "\t<tr><th scope=row>icd_copd1</th><td>1.4922808 </td><td>1.01788269</td><td>2.1823974 </td></tr>\n",
       "\t<tr><th scope=row>icd_cad1</th><td>0.6887858 </td><td>0.45070779</td><td>1.0412216 </td></tr>\n",
       "\t<tr><th scope=row>icd_stroke1</th><td>1.5728776 </td><td>0.88811787</td><td>2.7468903 </td></tr>\n",
       "\t<tr><th scope=row>icd_malignancy1</th><td>1.4451112 </td><td>1.02952629</td><td>2.0271970 </td></tr>\n",
       "\t<tr><th scope=row>vs_temp_first</th><td>0.9039635 </td><td>0.80532437</td><td>1.0066461 </td></tr>\n",
       "\t<tr><th scope=row>vs_map_first</th><td>0.9911675 </td><td>0.98395395</td><td>0.9982319 </td></tr>\n",
       "\t<tr><th scope=row>vs_cvp_first</th><td>0.9967140 </td><td>0.98899142</td><td>1.0032420 </td></tr>\n",
       "\t<tr><th scope=row>vs_heart_rate_first</th><td>1.0061613 </td><td>0.99957912</td><td>1.0128072 </td></tr>\n",
       "\t<tr><th scope=row>lab_hemoglobin_first</th><td>0.9584115 </td><td>0.89426044</td><td>1.0267224 </td></tr>\n",
       "\t<tr><th scope=row>lab_wbc_first</th><td>0.9950633 </td><td>0.98352862</td><td>1.0065228 </td></tr>\n",
       "\t<tr><th scope=row>lab_lactate_first</th><td>1.1466435 </td><td>1.06865186</td><td>1.2324656 </td></tr>\n",
       "\t<tr><th scope=row>lab_po2_first</th><td>0.9989738 </td><td>0.99756806</td><td>1.0003615 </td></tr>\n",
       "\t<tr><th scope=row>lab_troponin_flag1</th><td>1.3482121 </td><td>0.92563414</td><td>1.9733417 </td></tr>\n",
       "\t<tr><th scope=row>lab_potassium_first</th><td>1.1349769 </td><td>0.97925908</td><td>1.3245179 </td></tr>\n",
       "\t<tr><th scope=row>lab_creatinine_kinase_flag1</th><td>0.9440791 </td><td>0.64312393</td><td>1.3794972 </td></tr>\n",
       "\t<tr><th scope=row>lab_creatinine_first</th><td>0.8023030 </td><td>0.69261372</td><td>0.9214464 </td></tr>\n",
       "\t<tr><th scope=row>lab_pco2_first</th><td>0.9994994 </td><td>0.98046601</td><td>1.0190514 </td></tr>\n",
       "\t<tr><th scope=row>lab_bnp_flag1</th><td>1.8246422 </td><td>0.93762494</td><td>3.4897741 </td></tr>\n",
       "\t<tr><th scope=row>lab_bicarbonate_first</th><td>1.0425198 </td><td>0.99049209</td><td>1.0970299 </td></tr>\n",
       "\t<tr><th scope=row>lab_bun_first</th><td>1.0085962 </td><td>1.00184228</td><td>1.0154755 </td></tr>\n",
       "\t<tr><th scope=row>lab_platelet_first</th><td>1.0004542 </td><td>0.99935161</td><td>1.0015508 </td></tr>\n",
       "\t<tr><th scope=row>lab_sodium_first</th><td>0.9891032 </td><td>0.94574311</td><td>1.0345599 </td></tr>\n",
       "\t<tr><th scope=row>lab_chloride_first</th><td>0.9877441 </td><td>0.94758917</td><td>1.0294421 </td></tr>\n",
       "\t<tr><th scope=row>lab_ph_first</th><td>0.3286334 </td><td>0.03313086</td><td>3.3574509 </td></tr>\n",
       "\t<tr><th scope=row>sedative1</th><td>0.7978286 </td><td>0.52885476</td><td>1.2065296 </td></tr>\n",
       "</tbody>\n",
       "</table>\n"
      ],
      "text/latex": [
       "\\begin{tabular}{r|lll}\n",
       "  & OR & 2.5 \\% & 97.5 \\%\\\\\n",
       "\\hline\n",
       "\t(Intercept) & 3069.3164090 & 8.857674e-05 & 8.810246e+10\\\\\n",
       "\techo1 &    0.7410029 & 5.531550e-01 & 9.921324e-01\\\\\n",
       "\tage &    1.0239666 & 1.012943e+00 & 1.035356e+00\\\\\n",
       "\tgender1 &    1.3034909 & 9.838856e-01 & 1.728837e+00\\\\\n",
       "\tweight &    0.9919402 & 9.857158e-01 & 9.980566e-01\\\\\n",
       "\tsaps &    1.0665653 & 1.029964e+00 & 1.104811e+00\\\\\n",
       "\tsofa &    1.1865847 & 1.127441e+00 & 1.250096e+00\\\\\n",
       "\telix\\_score &    1.0298605 & 1.006712e+00 & 1.053527e+00\\\\\n",
       "\tvent1 &    1.3856219 & 8.204168e-01 & 2.341405e+00\\\\\n",
       "\tvaso1 &    0.9994278 & 7.082327e-01 & 1.412287e+00\\\\\n",
       "\ticu\\_adm\\_weekday1 &    0.9865227 & 5.918797e-01 & 1.643111e+00\\\\\n",
       "\ticu\\_adm\\_weekday2 &    1.1444682 & 6.957010e-01 & 1.884990e+00\\\\\n",
       "\ticu\\_adm\\_weekday3 &    1.4107551 & 8.757096e-01 & 2.282242e+00\\\\\n",
       "\ticu\\_adm\\_weekday4 &    1.4057500 & 8.711608e-01 & 2.276528e+00\\\\\n",
       "\ticu\\_adm\\_weekday5 &    1.1502466 & 7.005833e-01 & 1.890385e+00\\\\\n",
       "\ticu\\_adm\\_weekday6 &    1.0036716 & 5.988093e-01 & 1.680889e+00\\\\\n",
       "\ticu\\_adm\\_hour1 &    1.0309726 & 3.941841e-01 & 2.687729e+00\\\\\n",
       "\ticu\\_adm\\_hour2 &    0.5332874 & 1.869712e-01 & 1.468514e+00\\\\\n",
       "\ticu\\_adm\\_hour3 &    0.9197772 & 3.530796e-01 & 2.380902e+00\\\\\n",
       "\ticu\\_adm\\_hour4 &    1.6010718 & 6.289738e-01 & 4.086051e+00\\\\\n",
       "\ticu\\_adm\\_hour5 &    0.9960492 & 3.541053e-01 & 2.739209e+00\\\\\n",
       "\ticu\\_adm\\_hour6 &    0.9988645 & 3.203857e-01 & 3.031092e+00\\\\\n",
       "\ticu\\_adm\\_hour7 &    0.3773193 & 6.967590e-02 & 1.562345e+00\\\\\n",
       "\ticu\\_adm\\_hour8 &    0.7376865 & 1.651340e-01 & 2.818351e+00\\\\\n",
       "\ticu\\_adm\\_hour9 &    1.9243811 & 7.129111e-01 & 5.204207e+00\\\\\n",
       "\ticu\\_adm\\_hour10 &    0.6567421 & 2.101400e-01 & 1.948502e+00\\\\\n",
       "\ticu\\_adm\\_hour11 &    0.9401039 & 3.635296e-01 & 2.416973e+00\\\\\n",
       "\ticu\\_adm\\_hour12 &    1.1589815 & 4.730232e-01 & 2.837293e+00\\\\\n",
       "\ticu\\_adm\\_hour13 &    1.8386403 & 7.163576e-01 & 4.740639e+00\\\\\n",
       "\ticu\\_adm\\_hour14 &    1.5576463 & 6.562603e-01 & 3.720868e+00\\\\\n",
       "\t⋮ & ⋮ & ⋮ & ⋮\\\\\n",
       "\ticu\\_adm\\_hour23 & 0.5015900  & 0.20929133 & 1.1980815 \\\\\n",
       "\ticd\\_chf1 & 0.6305613  & 0.44558332 & 0.8893082 \\\\\n",
       "\ticd\\_afib1 & 1.1358066  & 0.83309179 & 1.5471561 \\\\\n",
       "\ticd\\_renal1 & 1.2223340  & 0.79999151 & 1.8624726 \\\\\n",
       "\ticd\\_liver1 & 1.6659888  & 1.03683437 & 2.6809602 \\\\\n",
       "\ticd\\_copd1 & 1.4922808  & 1.01788269 & 2.1823974 \\\\\n",
       "\ticd\\_cad1 & 0.6887858  & 0.45070779 & 1.0412216 \\\\\n",
       "\ticd\\_stroke1 & 1.5728776  & 0.88811787 & 2.7468903 \\\\\n",
       "\ticd\\_malignancy1 & 1.4451112  & 1.02952629 & 2.0271970 \\\\\n",
       "\tvs\\_temp\\_first & 0.9039635  & 0.80532437 & 1.0066461 \\\\\n",
       "\tvs\\_map\\_first & 0.9911675  & 0.98395395 & 0.9982319 \\\\\n",
       "\tvs\\_cvp\\_first & 0.9967140  & 0.98899142 & 1.0032420 \\\\\n",
       "\tvs\\_heart\\_rate\\_first & 1.0061613  & 0.99957912 & 1.0128072 \\\\\n",
       "\tlab\\_hemoglobin\\_first & 0.9584115  & 0.89426044 & 1.0267224 \\\\\n",
       "\tlab\\_wbc\\_first & 0.9950633  & 0.98352862 & 1.0065228 \\\\\n",
       "\tlab\\_lactate\\_first & 1.1466435  & 1.06865186 & 1.2324656 \\\\\n",
       "\tlab\\_po2\\_first & 0.9989738  & 0.99756806 & 1.0003615 \\\\\n",
       "\tlab\\_troponin\\_flag1 & 1.3482121  & 0.92563414 & 1.9733417 \\\\\n",
       "\tlab\\_potassium\\_first & 1.1349769  & 0.97925908 & 1.3245179 \\\\\n",
       "\tlab\\_creatinine\\_kinase\\_flag1 & 0.9440791  & 0.64312393 & 1.3794972 \\\\\n",
       "\tlab\\_creatinine\\_first & 0.8023030  & 0.69261372 & 0.9214464 \\\\\n",
       "\tlab\\_pco2\\_first & 0.9994994  & 0.98046601 & 1.0190514 \\\\\n",
       "\tlab\\_bnp\\_flag1 & 1.8246422  & 0.93762494 & 3.4897741 \\\\\n",
       "\tlab\\_bicarbonate\\_first & 1.0425198  & 0.99049209 & 1.0970299 \\\\\n",
       "\tlab\\_bun\\_first & 1.0085962  & 1.00184228 & 1.0154755 \\\\\n",
       "\tlab\\_platelet\\_first & 1.0004542  & 0.99935161 & 1.0015508 \\\\\n",
       "\tlab\\_sodium\\_first & 0.9891032  & 0.94574311 & 1.0345599 \\\\\n",
       "\tlab\\_chloride\\_first & 0.9877441  & 0.94758917 & 1.0294421 \\\\\n",
       "\tlab\\_ph\\_first & 0.3286334  & 0.03313086 & 3.3574509 \\\\\n",
       "\tsedative1 & 0.7978286  & 0.52885476 & 1.2065296 \\\\\n",
       "\\end{tabular}\n"
      ],
      "text/markdown": [
       "\n",
       "| <!--/--> | OR | 2.5 % | 97.5 % | \n",
       "|---|---|---|---|---|---|---|---|---|---|---|---|---|---|---|---|---|---|---|---|---|---|---|---|---|---|---|---|---|---|---|---|---|---|---|---|---|---|---|---|---|---|---|---|---|---|---|---|---|---|---|---|---|---|---|---|---|---|---|---|---|\n",
       "| (Intercept) | 3069.3164090 | 8.857674e-05 | 8.810246e+10 | \n",
       "| echo1 |    0.7410029 | 5.531550e-01 | 9.921324e-01 | \n",
       "| age |    1.0239666 | 1.012943e+00 | 1.035356e+00 | \n",
       "| gender1 |    1.3034909 | 9.838856e-01 | 1.728837e+00 | \n",
       "| weight |    0.9919402 | 9.857158e-01 | 9.980566e-01 | \n",
       "| saps |    1.0665653 | 1.029964e+00 | 1.104811e+00 | \n",
       "| sofa |    1.1865847 | 1.127441e+00 | 1.250096e+00 | \n",
       "| elix_score |    1.0298605 | 1.006712e+00 | 1.053527e+00 | \n",
       "| vent1 |    1.3856219 | 8.204168e-01 | 2.341405e+00 | \n",
       "| vaso1 |    0.9994278 | 7.082327e-01 | 1.412287e+00 | \n",
       "| icu_adm_weekday1 |    0.9865227 | 5.918797e-01 | 1.643111e+00 | \n",
       "| icu_adm_weekday2 |    1.1444682 | 6.957010e-01 | 1.884990e+00 | \n",
       "| icu_adm_weekday3 |    1.4107551 | 8.757096e-01 | 2.282242e+00 | \n",
       "| icu_adm_weekday4 |    1.4057500 | 8.711608e-01 | 2.276528e+00 | \n",
       "| icu_adm_weekday5 |    1.1502466 | 7.005833e-01 | 1.890385e+00 | \n",
       "| icu_adm_weekday6 |    1.0036716 | 5.988093e-01 | 1.680889e+00 | \n",
       "| icu_adm_hour1 |    1.0309726 | 3.941841e-01 | 2.687729e+00 | \n",
       "| icu_adm_hour2 |    0.5332874 | 1.869712e-01 | 1.468514e+00 | \n",
       "| icu_adm_hour3 |    0.9197772 | 3.530796e-01 | 2.380902e+00 | \n",
       "| icu_adm_hour4 |    1.6010718 | 6.289738e-01 | 4.086051e+00 | \n",
       "| icu_adm_hour5 |    0.9960492 | 3.541053e-01 | 2.739209e+00 | \n",
       "| icu_adm_hour6 |    0.9988645 | 3.203857e-01 | 3.031092e+00 | \n",
       "| icu_adm_hour7 |    0.3773193 | 6.967590e-02 | 1.562345e+00 | \n",
       "| icu_adm_hour8 |    0.7376865 | 1.651340e-01 | 2.818351e+00 | \n",
       "| icu_adm_hour9 |    1.9243811 | 7.129111e-01 | 5.204207e+00 | \n",
       "| icu_adm_hour10 |    0.6567421 | 2.101400e-01 | 1.948502e+00 | \n",
       "| icu_adm_hour11 |    0.9401039 | 3.635296e-01 | 2.416973e+00 | \n",
       "| icu_adm_hour12 |    1.1589815 | 4.730232e-01 | 2.837293e+00 | \n",
       "| icu_adm_hour13 |    1.8386403 | 7.163576e-01 | 4.740639e+00 | \n",
       "| icu_adm_hour14 |    1.5576463 | 6.562603e-01 | 3.720868e+00 | \n",
       "| ⋮ | ⋮ | ⋮ | ⋮ | \n",
       "| icu_adm_hour23 | 0.5015900  | 0.20929133 | 1.1980815  | \n",
       "| icd_chf1 | 0.6305613  | 0.44558332 | 0.8893082  | \n",
       "| icd_afib1 | 1.1358066  | 0.83309179 | 1.5471561  | \n",
       "| icd_renal1 | 1.2223340  | 0.79999151 | 1.8624726  | \n",
       "| icd_liver1 | 1.6659888  | 1.03683437 | 2.6809602  | \n",
       "| icd_copd1 | 1.4922808  | 1.01788269 | 2.1823974  | \n",
       "| icd_cad1 | 0.6887858  | 0.45070779 | 1.0412216  | \n",
       "| icd_stroke1 | 1.5728776  | 0.88811787 | 2.7468903  | \n",
       "| icd_malignancy1 | 1.4451112  | 1.02952629 | 2.0271970  | \n",
       "| vs_temp_first | 0.9039635  | 0.80532437 | 1.0066461  | \n",
       "| vs_map_first | 0.9911675  | 0.98395395 | 0.9982319  | \n",
       "| vs_cvp_first | 0.9967140  | 0.98899142 | 1.0032420  | \n",
       "| vs_heart_rate_first | 1.0061613  | 0.99957912 | 1.0128072  | \n",
       "| lab_hemoglobin_first | 0.9584115  | 0.89426044 | 1.0267224  | \n",
       "| lab_wbc_first | 0.9950633  | 0.98352862 | 1.0065228  | \n",
       "| lab_lactate_first | 1.1466435  | 1.06865186 | 1.2324656  | \n",
       "| lab_po2_first | 0.9989738  | 0.99756806 | 1.0003615  | \n",
       "| lab_troponin_flag1 | 1.3482121  | 0.92563414 | 1.9733417  | \n",
       "| lab_potassium_first | 1.1349769  | 0.97925908 | 1.3245179  | \n",
       "| lab_creatinine_kinase_flag1 | 0.9440791  | 0.64312393 | 1.3794972  | \n",
       "| lab_creatinine_first | 0.8023030  | 0.69261372 | 0.9214464  | \n",
       "| lab_pco2_first | 0.9994994  | 0.98046601 | 1.0190514  | \n",
       "| lab_bnp_flag1 | 1.8246422  | 0.93762494 | 3.4897741  | \n",
       "| lab_bicarbonate_first | 1.0425198  | 0.99049209 | 1.0970299  | \n",
       "| lab_bun_first | 1.0085962  | 1.00184228 | 1.0154755  | \n",
       "| lab_platelet_first | 1.0004542  | 0.99935161 | 1.0015508  | \n",
       "| lab_sodium_first | 0.9891032  | 0.94574311 | 1.0345599  | \n",
       "| lab_chloride_first | 0.9877441  | 0.94758917 | 1.0294421  | \n",
       "| lab_ph_first | 0.3286334  | 0.03313086 | 3.3574509  | \n",
       "| sedative1 | 0.7978286  | 0.52885476 | 1.2065296  | \n",
       "\n",
       "\n"
      ],
      "text/plain": [
       "                            OR           2.5 %        97.5 %      \n",
       "(Intercept)                 3069.3164090 8.857674e-05 8.810246e+10\n",
       "echo1                          0.7410029 5.531550e-01 9.921324e-01\n",
       "age                            1.0239666 1.012943e+00 1.035356e+00\n",
       "gender1                        1.3034909 9.838856e-01 1.728837e+00\n",
       "weight                         0.9919402 9.857158e-01 9.980566e-01\n",
       "saps                           1.0665653 1.029964e+00 1.104811e+00\n",
       "sofa                           1.1865847 1.127441e+00 1.250096e+00\n",
       "elix_score                     1.0298605 1.006712e+00 1.053527e+00\n",
       "vent1                          1.3856219 8.204168e-01 2.341405e+00\n",
       "vaso1                          0.9994278 7.082327e-01 1.412287e+00\n",
       "icu_adm_weekday1               0.9865227 5.918797e-01 1.643111e+00\n",
       "icu_adm_weekday2               1.1444682 6.957010e-01 1.884990e+00\n",
       "icu_adm_weekday3               1.4107551 8.757096e-01 2.282242e+00\n",
       "icu_adm_weekday4               1.4057500 8.711608e-01 2.276528e+00\n",
       "icu_adm_weekday5               1.1502466 7.005833e-01 1.890385e+00\n",
       "icu_adm_weekday6               1.0036716 5.988093e-01 1.680889e+00\n",
       "icu_adm_hour1                  1.0309726 3.941841e-01 2.687729e+00\n",
       "icu_adm_hour2                  0.5332874 1.869712e-01 1.468514e+00\n",
       "icu_adm_hour3                  0.9197772 3.530796e-01 2.380902e+00\n",
       "icu_adm_hour4                  1.6010718 6.289738e-01 4.086051e+00\n",
       "icu_adm_hour5                  0.9960492 3.541053e-01 2.739209e+00\n",
       "icu_adm_hour6                  0.9988645 3.203857e-01 3.031092e+00\n",
       "icu_adm_hour7                  0.3773193 6.967590e-02 1.562345e+00\n",
       "icu_adm_hour8                  0.7376865 1.651340e-01 2.818351e+00\n",
       "icu_adm_hour9                  1.9243811 7.129111e-01 5.204207e+00\n",
       "icu_adm_hour10                 0.6567421 2.101400e-01 1.948502e+00\n",
       "icu_adm_hour11                 0.9401039 3.635296e-01 2.416973e+00\n",
       "icu_adm_hour12                 1.1589815 4.730232e-01 2.837293e+00\n",
       "icu_adm_hour13                 1.8386403 7.163576e-01 4.740639e+00\n",
       "icu_adm_hour14                 1.5576463 6.562603e-01 3.720868e+00\n",
       "⋮                           ⋮            ⋮            ⋮           \n",
       "icu_adm_hour23              0.5015900    0.20929133   1.1980815   \n",
       "icd_chf1                    0.6305613    0.44558332   0.8893082   \n",
       "icd_afib1                   1.1358066    0.83309179   1.5471561   \n",
       "icd_renal1                  1.2223340    0.79999151   1.8624726   \n",
       "icd_liver1                  1.6659888    1.03683437   2.6809602   \n",
       "icd_copd1                   1.4922808    1.01788269   2.1823974   \n",
       "icd_cad1                    0.6887858    0.45070779   1.0412216   \n",
       "icd_stroke1                 1.5728776    0.88811787   2.7468903   \n",
       "icd_malignancy1             1.4451112    1.02952629   2.0271970   \n",
       "vs_temp_first               0.9039635    0.80532437   1.0066461   \n",
       "vs_map_first                0.9911675    0.98395395   0.9982319   \n",
       "vs_cvp_first                0.9967140    0.98899142   1.0032420   \n",
       "vs_heart_rate_first         1.0061613    0.99957912   1.0128072   \n",
       "lab_hemoglobin_first        0.9584115    0.89426044   1.0267224   \n",
       "lab_wbc_first               0.9950633    0.98352862   1.0065228   \n",
       "lab_lactate_first           1.1466435    1.06865186   1.2324656   \n",
       "lab_po2_first               0.9989738    0.99756806   1.0003615   \n",
       "lab_troponin_flag1          1.3482121    0.92563414   1.9733417   \n",
       "lab_potassium_first         1.1349769    0.97925908   1.3245179   \n",
       "lab_creatinine_kinase_flag1 0.9440791    0.64312393   1.3794972   \n",
       "lab_creatinine_first        0.8023030    0.69261372   0.9214464   \n",
       "lab_pco2_first              0.9994994    0.98046601   1.0190514   \n",
       "lab_bnp_flag1               1.8246422    0.93762494   3.4897741   \n",
       "lab_bicarbonate_first       1.0425198    0.99049209   1.0970299   \n",
       "lab_bun_first               1.0085962    1.00184228   1.0154755   \n",
       "lab_platelet_first          1.0004542    0.99935161   1.0015508   \n",
       "lab_sodium_first            0.9891032    0.94574311   1.0345599   \n",
       "lab_chloride_first          0.9877441    0.94758917   1.0294421   \n",
       "lab_ph_first                0.3286334    0.03313086   3.3574509   \n",
       "sedative1                   0.7978286    0.52885476   1.2065296   "
      ]
     },
     "metadata": {},
     "output_type": "display_data"
    }
   ],
   "source": [
    "unweighted <- glm(as.formula(fml), data = full_data, family = binomial, na.action = na.exclude)\n",
    "summary(unweighted)\n",
    "exp(cbind(OR = coef(unweighted), confint(unweighted)))"
   ]
  },
  {
   "cell_type": "code",
   "execution_count": 15,
   "metadata": {},
   "outputs": [
    {
     "data": {
      "text/html": [
       "'echo_int ~ age + gender + weight + saps + sofa + elix_score + vent + vaso + icu_adm_weekday + icu_adm_hour + icd_chf + icd_afib + icd_renal + icd_liver + icd_copd + icd_cad + icd_stroke + icd_malignancy + vs_temp_first + vs_map_first + vs_cvp_first + vs_heart_rate_first + lab_hemoglobin_first + lab_wbc_first + lab_lactate_first + lab_po2_first + lab_troponin_flag + lab_potassium_first + lab_creatinine_kinase_flag + lab_creatinine_first + lab_pco2_first + lab_bnp_flag + lab_bicarbonate_first + lab_bun_first + lab_platelet_first + lab_sodium_first + lab_chloride_first + lab_ph_first + sedative'"
      ],
      "text/latex": [
       "'echo\\_int \\textasciitilde{} age + gender + weight + saps + sofa + elix\\_score + vent + vaso + icu\\_adm\\_weekday + icu\\_adm\\_hour + icd\\_chf + icd\\_afib + icd\\_renal + icd\\_liver + icd\\_copd + icd\\_cad + icd\\_stroke + icd\\_malignancy + vs\\_temp\\_first + vs\\_map\\_first + vs\\_cvp\\_first + vs\\_heart\\_rate\\_first + lab\\_hemoglobin\\_first + lab\\_wbc\\_first + lab\\_lactate\\_first + lab\\_po2\\_first + lab\\_troponin\\_flag + lab\\_potassium\\_first + lab\\_creatinine\\_kinase\\_flag + lab\\_creatinine\\_first + lab\\_pco2\\_first + lab\\_bnp\\_flag + lab\\_bicarbonate\\_first + lab\\_bun\\_first + lab\\_platelet\\_first + lab\\_sodium\\_first + lab\\_chloride\\_first + lab\\_ph\\_first + sedative'"
      ],
      "text/markdown": [
       "'echo_int ~ age + gender + weight + saps + sofa + elix_score + vent + vaso + icu_adm_weekday + icu_adm_hour + icd_chf + icd_afib + icd_renal + icd_liver + icd_copd + icd_cad + icd_stroke + icd_malignancy + vs_temp_first + vs_map_first + vs_cvp_first + vs_heart_rate_first + lab_hemoglobin_first + lab_wbc_first + lab_lactate_first + lab_po2_first + lab_troponin_flag + lab_potassium_first + lab_creatinine_kinase_flag + lab_creatinine_first + lab_pco2_first + lab_bnp_flag + lab_bicarbonate_first + lab_bun_first + lab_platelet_first + lab_sodium_first + lab_chloride_first + lab_ph_first + sedative'"
      ],
      "text/plain": [
       "[1] \"echo_int ~ age + gender + weight + saps + sofa + elix_score + vent + vaso + icu_adm_weekday + icu_adm_hour + icd_chf + icd_afib + icd_renal + icd_liver + icd_copd + icd_cad + icd_stroke + icd_malignancy + vs_temp_first + vs_map_first + vs_cvp_first + vs_heart_rate_first + lab_hemoglobin_first + lab_wbc_first + lab_lactate_first + lab_po2_first + lab_troponin_flag + lab_potassium_first + lab_creatinine_kinase_flag + lab_creatinine_first + lab_pco2_first + lab_bnp_flag + lab_bicarbonate_first + lab_bun_first + lab_platelet_first + lab_sodium_first + lab_chloride_first + lab_ph_first + sedative\""
      ]
     },
     "metadata": {},
     "output_type": "display_data"
    }
   ],
   "source": [
    "fml <- feature_names %>%\n",
    "    paste(collapse = \" + \") %>%\n",
    "    sprintf(\"echo_int ~ %s\", .)\n",
    "fml"
   ]
  },
  {
   "cell_type": "code",
   "execution_count": 16,
   "metadata": {},
   "outputs": [],
   "source": [
    "echo_ps_ate <- ps(as.formula(fml),\n",
    "                  data = full_data,\n",
    "                  interaction.depth = 2,\n",
    "                  shrinkage = 0.01,\n",
    "                  perm.test.iters = 0,\n",
    "                  estimand = \"ATE\",\n",
    "                  verbose = FALSE,\n",
    "                  stop.method = c(\"es.mean\", \"es.max\", \"ks.mean\", \"ks.max\"),\n",
    "                  n.trees = 10000,\n",
    "                  train.fraction = 0.8,\n",
    "                  cv.folds = 3,\n",
    "                  n.cores = 8)"
   ]
  },
  {
   "cell_type": "code",
   "execution_count": 17,
   "metadata": {},
   "outputs": [
    {
     "data": {
      "text/html": [
       "0.822619262456253"
      ],
      "text/latex": [
       "0.822619262456253"
      ],
      "text/markdown": [
       "0.822619262456253"
      ],
      "text/plain": [
       "[1] 0.8226193"
      ]
     },
     "metadata": {},
     "output_type": "display_data"
    }
   ],
   "source": [
    "pred <- echo_ps_ate$ps$es.mean.ATE\n",
    "full_data <- full_data %>% mutate(ps = pred)\n",
    "ROCR::performance(ROCR::prediction(pred, label), \"auc\")@y.values %>% first"
   ]
  },
  {
   "cell_type": "code",
   "execution_count": 18,
   "metadata": {},
   "outputs": [],
   "source": [
    "ft_importance <- summary(echo_ps_ate$gbm.obj,\n",
    "                         n.trees = echo_ps_ate$desc$es.mean.ATE$n.trees,\n",
    "                         plot = FALSE)"
   ]
  },
  {
   "cell_type": "code",
   "execution_count": 19,
   "metadata": {},
   "outputs": [],
   "source": [
    "full_data <- full_data %>%\n",
    "    mutate(ps_weight = get.weights(echo_ps_ate, stop.method = \"es.mean\"))"
   ]
  },
  {
   "cell_type": "code",
   "execution_count": 20,
   "metadata": {},
   "outputs": [],
   "source": [
    "saveRDS(full_data, file = file.path(data_dir, \"full_data_ps.rds\"))"
   ]
  },
  {
   "cell_type": "code",
   "execution_count": 21,
   "metadata": {},
   "outputs": [],
   "source": [
    "saveRDS(ft_importance, file = file.path(data_dir, \"feature_importance.rds\"))"
   ]
  },
  {
   "cell_type": "code",
   "execution_count": 22,
   "metadata": {},
   "outputs": [
    {
     "name": "stderr",
     "output_type": "stream",
     "text": [
      "Warning message in eval(family$initialize):\n",
      "“non-integer #successes in a binomial glm!”"
     ]
    },
    {
     "data": {
      "text/plain": [
       "\n",
       "Call:\n",
       "glm(formula = mort_28_day ~ echo, family = binomial, data = full_data, \n",
       "    weights = full_data$ps_weight)\n",
       "\n",
       "Deviance Residuals: \n",
       "    Min       1Q   Median       3Q      Max  \n",
       "-2.2864  -1.0683  -0.9435   1.7205   4.6170  \n",
       "\n",
       "Coefficients:\n",
       "            Estimate Std. Error z value Pr(>|z|)    \n",
       "(Intercept) -0.89612    0.02955 -30.326  < 2e-16 ***\n",
       "echo1       -0.18034    0.04259  -4.235 2.29e-05 ***\n",
       "---\n",
       "Signif. codes:  0 ‘***’ 0.001 ‘**’ 0.01 ‘*’ 0.05 ‘.’ 0.1 ‘ ’ 1\n",
       "\n",
       "(Dispersion parameter for binomial family taken to be 1)\n",
       "\n",
       "    Null deviance: 13076  on 6161  degrees of freedom\n",
       "Residual deviance: 13058  on 6160  degrees of freedom\n",
       "AIC: 12689\n",
       "\n",
       "Number of Fisher Scoring iterations: 4\n"
      ]
     },
     "metadata": {},
     "output_type": "display_data"
    },
    {
     "name": "stderr",
     "output_type": "stream",
     "text": [
      "Waiting for profiling to be done...\n",
      "Warning message in eval(family$initialize):\n",
      "“non-integer #successes in a binomial glm!”Warning message in eval(family$initialize):\n",
      "“non-integer #successes in a binomial glm!”Warning message in eval(family$initialize):\n",
      "“non-integer #successes in a binomial glm!”Warning message in eval(family$initialize):\n",
      "“non-integer #successes in a binomial glm!”Warning message in eval(family$initialize):\n",
      "“non-integer #successes in a binomial glm!”Warning message in eval(family$initialize):\n",
      "“non-integer #successes in a binomial glm!”Warning message in eval(family$initialize):\n",
      "“non-integer #successes in a binomial glm!”Warning message in eval(family$initialize):\n",
      "“non-integer #successes in a binomial glm!”Warning message in eval(family$initialize):\n",
      "“non-integer #successes in a binomial glm!”Warning message in eval(family$initialize):\n",
      "“non-integer #successes in a binomial glm!”Warning message in eval(family$initialize):\n",
      "“non-integer #successes in a binomial glm!”Warning message in eval(family$initialize):\n",
      "“non-integer #successes in a binomial glm!”Warning message in eval(family$initialize):\n",
      "“non-integer #successes in a binomial glm!”Warning message in eval(family$initialize):\n",
      "“non-integer #successes in a binomial glm!”Warning message in eval(family$initialize):\n",
      "“non-integer #successes in a binomial glm!”Warning message in eval(family$initialize):\n",
      "“non-integer #successes in a binomial glm!”Warning message in eval(family$initialize):\n",
      "“non-integer #successes in a binomial glm!”Warning message in eval(family$initialize):\n",
      "“non-integer #successes in a binomial glm!”Warning message in eval(family$initialize):\n",
      "“non-integer #successes in a binomial glm!”Warning message in eval(family$initialize):\n",
      "“non-integer #successes in a binomial glm!”Warning message in eval(family$initialize):\n",
      "“non-integer #successes in a binomial glm!”Warning message in eval(family$initialize):\n",
      "“non-integer #successes in a binomial glm!”"
     ]
    },
    {
     "data": {
      "text/html": [
       "<table>\n",
       "<thead><tr><th></th><th scope=col>OR</th><th scope=col>2.5 %</th><th scope=col>97.5 %</th></tr></thead>\n",
       "<tbody>\n",
       "\t<tr><th scope=row>(Intercept)</th><td>0.4081492</td><td>0.3850896</td><td>0.4323860</td></tr>\n",
       "\t<tr><th scope=row>echo1</th><td>0.8349884</td><td>0.7680861</td><td>0.9076446</td></tr>\n",
       "</tbody>\n",
       "</table>\n"
      ],
      "text/latex": [
       "\\begin{tabular}{r|lll}\n",
       "  & OR & 2.5 \\% & 97.5 \\%\\\\\n",
       "\\hline\n",
       "\t(Intercept) & 0.4081492 & 0.3850896 & 0.4323860\\\\\n",
       "\techo1 & 0.8349884 & 0.7680861 & 0.9076446\\\\\n",
       "\\end{tabular}\n"
      ],
      "text/markdown": [
       "\n",
       "| <!--/--> | OR | 2.5 % | 97.5 % | \n",
       "|---|---|\n",
       "| (Intercept) | 0.4081492 | 0.3850896 | 0.4323860 | \n",
       "| echo1 | 0.8349884 | 0.7680861 | 0.9076446 | \n",
       "\n",
       "\n"
      ],
      "text/plain": [
       "            OR        2.5 %     97.5 %   \n",
       "(Intercept) 0.4081492 0.3850896 0.4323860\n",
       "echo1       0.8349884 0.7680861 0.9076446"
      ]
     },
     "metadata": {},
     "output_type": "display_data"
    }
   ],
   "source": [
    "primary_ipw <- glm(mort_28_day ~ echo, data = full_data,\n",
    "                   weights = full_data$ps_weight, family = binomial)\n",
    "summary(primary_ipw)\n",
    "exp(cbind(OR = coef(primary_ipw), confint(primary_ipw)))"
   ]
  },
  {
   "cell_type": "code",
   "execution_count": 23,
   "metadata": {},
   "outputs": [],
   "source": [
    "design_echo_ps_ate <- svydesign(ids = ~ icustay_id, weights = ~ ps_weight, data = full_data)\n",
    "# design_echo_ps_ate <- svydesign(ids = ~ icustay_id, data = full_data)"
   ]
  },
  {
   "cell_type": "code",
   "execution_count": 24,
   "metadata": {},
   "outputs": [
    {
     "data": {
      "text/html": [
       "'mort_28_day ~ echo + age + gender + weight + saps + sofa + elix_score + vent + vaso + icu_adm_weekday + icu_adm_hour + icd_chf + icd_afib + icd_renal + icd_liver + icd_copd + icd_cad + icd_stroke + icd_malignancy + vs_temp_first + vs_map_first + vs_cvp_first + vs_heart_rate_first + lab_hemoglobin_first + lab_wbc_first + lab_lactate_first + lab_po2_first + lab_troponin_flag + lab_potassium_first + lab_creatinine_kinase_flag + lab_creatinine_first + lab_pco2_first + lab_bnp_flag + lab_bicarbonate_first + lab_bun_first + lab_platelet_first + lab_sodium_first + lab_chloride_first + lab_ph_first + sedative'"
      ],
      "text/latex": [
       "'mort\\_28\\_day \\textasciitilde{} echo + age + gender + weight + saps + sofa + elix\\_score + vent + vaso + icu\\_adm\\_weekday + icu\\_adm\\_hour + icd\\_chf + icd\\_afib + icd\\_renal + icd\\_liver + icd\\_copd + icd\\_cad + icd\\_stroke + icd\\_malignancy + vs\\_temp\\_first + vs\\_map\\_first + vs\\_cvp\\_first + vs\\_heart\\_rate\\_first + lab\\_hemoglobin\\_first + lab\\_wbc\\_first + lab\\_lactate\\_first + lab\\_po2\\_first + lab\\_troponin\\_flag + lab\\_potassium\\_first + lab\\_creatinine\\_kinase\\_flag + lab\\_creatinine\\_first + lab\\_pco2\\_first + lab\\_bnp\\_flag + lab\\_bicarbonate\\_first + lab\\_bun\\_first + lab\\_platelet\\_first + lab\\_sodium\\_first + lab\\_chloride\\_first + lab\\_ph\\_first + sedative'"
      ],
      "text/markdown": [
       "'mort_28_day ~ echo + age + gender + weight + saps + sofa + elix_score + vent + vaso + icu_adm_weekday + icu_adm_hour + icd_chf + icd_afib + icd_renal + icd_liver + icd_copd + icd_cad + icd_stroke + icd_malignancy + vs_temp_first + vs_map_first + vs_cvp_first + vs_heart_rate_first + lab_hemoglobin_first + lab_wbc_first + lab_lactate_first + lab_po2_first + lab_troponin_flag + lab_potassium_first + lab_creatinine_kinase_flag + lab_creatinine_first + lab_pco2_first + lab_bnp_flag + lab_bicarbonate_first + lab_bun_first + lab_platelet_first + lab_sodium_first + lab_chloride_first + lab_ph_first + sedative'"
      ],
      "text/plain": [
       "[1] \"mort_28_day ~ echo + age + gender + weight + saps + sofa + elix_score + vent + vaso + icu_adm_weekday + icu_adm_hour + icd_chf + icd_afib + icd_renal + icd_liver + icd_copd + icd_cad + icd_stroke + icd_malignancy + vs_temp_first + vs_map_first + vs_cvp_first + vs_heart_rate_first + lab_hemoglobin_first + lab_wbc_first + lab_lactate_first + lab_po2_first + lab_troponin_flag + lab_potassium_first + lab_creatinine_kinase_flag + lab_creatinine_first + lab_pco2_first + lab_bnp_flag + lab_bicarbonate_first + lab_bun_first + lab_platelet_first + lab_sodium_first + lab_chloride_first + lab_ph_first + sedative\""
      ]
     },
     "metadata": {},
     "output_type": "display_data"
    }
   ],
   "source": [
    "fml <- feature_names %>%\n",
    "    c(label_name, .) %>%\n",
    "    paste(collapse = \" + \") %>%\n",
    "    sprintf(\"mort_28_day ~ %s\", .)\n",
    "fml"
   ]
  },
  {
   "cell_type": "code",
   "execution_count": 25,
   "metadata": {},
   "outputs": [],
   "source": [
    "logi <- svyglm(as.formula(fml),\n",
    "               family = quasibinomial,\n",
    "               design = design_echo_ps_ate)"
   ]
  },
  {
   "cell_type": "code",
   "execution_count": 26,
   "metadata": {},
   "outputs": [
    {
     "data": {
      "text/plain": [
       "\n",
       "Call:\n",
       "svyglm(formula = as.formula(fml), family = quasibinomial, design = design_echo_ps_ate)\n",
       "\n",
       "Survey design:\n",
       "svydesign(ids = ~icustay_id, weights = ~ps_weight, data = full_data)\n",
       "\n",
       "Coefficients:\n",
       "                              Estimate Std. Error t value Pr(>|t|)    \n",
       "(Intercept)                 12.7875551  9.2029766   1.390 0.164891    \n",
       "echo1                       -0.3362879  0.1519488  -2.213 0.027040 *  \n",
       "age                          0.0235951  0.0061827   3.816 0.000141 ***\n",
       "gender1                      0.2005209  0.1568044   1.279 0.201171    \n",
       "weight                      -0.0098307  0.0034891  -2.818 0.004904 ** \n",
       "saps                         0.0560477  0.0192609   2.910 0.003670 ** \n",
       "sofa                         0.1928094  0.0273752   7.043 2.88e-12 ***\n",
       "elix_score                   0.0257809  0.0123091   2.094 0.036390 *  \n",
       "vent1                        0.5372442  0.2892287   1.858 0.063439 .  \n",
       "vaso1                       -0.0414901  0.1855563  -0.224 0.823101    \n",
       "icu_adm_weekday1            -0.0956221  0.2727564  -0.351 0.725956    \n",
       "icu_adm_weekday2             0.1036016  0.2694345   0.385 0.700653    \n",
       "icu_adm_weekday3             0.3752031  0.2584974   1.451 0.146861    \n",
       "icu_adm_weekday4             0.4321810  0.2589508   1.669 0.095337 .  \n",
       "icu_adm_weekday5             0.0788365  0.2771774   0.284 0.776124    \n",
       "icu_adm_weekday6            -0.0425090  0.2796169  -0.152 0.879188    \n",
       "icu_adm_hour1                0.2320618  0.5015894   0.463 0.643682    \n",
       "icu_adm_hour2               -0.7639957  0.5102164  -1.497 0.134506    \n",
       "icu_adm_hour3               -0.2734737  0.5016938  -0.545 0.585767    \n",
       "icu_adm_hour4                0.3943907  0.5018315   0.786 0.432052    \n",
       "icu_adm_hour5               -0.1616614  0.5935651  -0.272 0.785386    \n",
       "icu_adm_hour6               -0.0631339  0.6044271  -0.104 0.916825    \n",
       "icu_adm_hour7               -1.0415975  0.8083648  -1.289 0.197767    \n",
       "icu_adm_hour8               -0.2503458  0.6479921  -0.386 0.699300    \n",
       "icu_adm_hour9                0.6150743  0.4942480   1.244 0.213527    \n",
       "icu_adm_hour10              -0.5992029  0.5481442  -1.093 0.274508    \n",
       "icu_adm_hour11               0.1020636  0.4903881   0.208 0.835158    \n",
       "icu_adm_hour12               0.5566253  0.4476683   1.243 0.213924    \n",
       "icu_adm_hour13               0.6035990  0.4804055   1.256 0.209158    \n",
       "icu_adm_hour14               0.4291658  0.4388467   0.978 0.328265    \n",
       "icu_adm_hour15               0.3716689  0.4038859   0.920 0.357603    \n",
       "icu_adm_hour16               0.1202480  0.4263731   0.282 0.777964    \n",
       "icu_adm_hour17              -0.0059298  0.4382343  -0.014 0.989206    \n",
       "icu_adm_hour18              -0.0523498  0.4171101  -0.126 0.900140    \n",
       "icu_adm_hour19               0.2151411  0.4116277   0.523 0.601290    \n",
       "icu_adm_hour20               0.6639891  0.3896475   1.704 0.088579 .  \n",
       "icu_adm_hour21               0.4871594  0.3899478   1.249 0.211757    \n",
       "icu_adm_hour22               0.4859956  0.3790439   1.282 0.199989    \n",
       "icu_adm_hour23              -0.4067732  0.4545819  -0.895 0.371025    \n",
       "icd_chf1                    -0.4420014  0.1942418  -2.276 0.023018 *  \n",
       "icd_afib1                    0.2645324  0.1747826   1.513 0.130370    \n",
       "icd_renal1                   0.1186734  0.2307672   0.514 0.607151    \n",
       "icd_liver1                   0.5299231  0.2485534   2.132 0.033170 *  \n",
       "icd_copd1                    0.2096852  0.2074638   1.011 0.312323    \n",
       "icd_cad1                    -0.4080549  0.2318968  -1.760 0.078677 .  \n",
       "icd_stroke1                  0.5881953  0.3486172   1.687 0.091773 .  \n",
       "icd_malignancy1              0.4436485  0.1785571   2.485 0.013079 *  \n",
       "vs_temp_first               -0.0458230  0.0635257  -0.721 0.470822    \n",
       "vs_map_first                -0.0067356  0.0041630  -1.618 0.105888    \n",
       "vs_cvp_first                -0.0057164  0.0039051  -1.464 0.143452    \n",
       "vs_heart_rate_first          0.0059110  0.0034391   1.719 0.085866 .  \n",
       "lab_hemoglobin_first        -0.0624128  0.0362821  -1.720 0.085605 .  \n",
       "lab_wbc_first               -0.0033353  0.0056916  -0.586 0.557965    \n",
       "lab_lactate_first            0.1322098  0.0383794   3.445 0.000588 ***\n",
       "lab_po2_first               -0.0012506  0.0008026  -1.558 0.119404    \n",
       "lab_troponin_flag1           0.3048824  0.2078178   1.467 0.142573    \n",
       "lab_potassium_first          0.1661414  0.0967691   1.717 0.086211 .  \n",
       "lab_creatinine_kinase_flag1 -0.0619102  0.2045375  -0.303 0.762174    \n",
       "lab_creatinine_first        -0.2451185  0.0868950  -2.821 0.004854 ** \n",
       "lab_pco2_first              -0.0056443  0.0098377  -0.574 0.566228    \n",
       "lab_bnp_flag1                0.8990714  0.3420471   2.629 0.008666 ** \n",
       "lab_bicarbonate_first        0.0530775  0.0275412   1.927 0.054147 .  \n",
       "lab_bun_first                0.0096488  0.0040923   2.358 0.018515 *  \n",
       "lab_platelet_first           0.0005369  0.0005966   0.900 0.368288    \n",
       "lab_sodium_first            -0.0041497  0.0264746  -0.157 0.875469    \n",
       "lab_chloride_first          -0.0165138  0.0240986  -0.685 0.493288    \n",
       "lab_ph_first                -2.0960687  1.2311325  -1.703 0.088864 .  \n",
       "sedative1                   -0.3098133  0.2329581  -1.330 0.183755    \n",
       "---\n",
       "Signif. codes:  0 ‘***’ 0.001 ‘**’ 0.01 ‘*’ 0.05 ‘.’ 0.1 ‘ ’ 1\n",
       "\n",
       "(Dispersion parameter for quasibinomial family taken to be 1.025839)\n",
       "\n",
       "Number of Fisher Scoring iterations: 5\n"
      ]
     },
     "metadata": {},
     "output_type": "display_data"
    }
   ],
   "source": [
    "summary(logi)"
   ]
  },
  {
   "cell_type": "code",
   "execution_count": 27,
   "metadata": {},
   "outputs": [
    {
     "data": {
      "text/html": [
       "<table>\n",
       "<thead><tr><th></th><th scope=col>OR</th><th scope=col>2.5 %</th><th scope=col>97.5 %</th></tr></thead>\n",
       "<tbody>\n",
       "\t<tr><th scope=row>(Intercept)</th><td>3.577376e+05</td><td>0.005247794 </td><td>2.438667e+13</td></tr>\n",
       "\t<tr><th scope=row>echo1</th><td>7.144174e-01</td><td>0.530411581 </td><td>9.622569e-01</td></tr>\n",
       "\t<tr><th scope=row>age</th><td>1.023876e+00</td><td>1.011543401 </td><td>1.036358e+00</td></tr>\n",
       "\t<tr><th scope=row>gender1</th><td>1.222039e+00</td><td>0.898696261 </td><td>1.661718e+00</td></tr>\n",
       "\t<tr><th scope=row>weight</th><td>9.902174e-01</td><td>0.983468919 </td><td>9.970122e-01</td></tr>\n",
       "\t<tr><th scope=row>saps</th><td>1.057648e+00</td><td>1.018465404 </td><td>1.098338e+00</td></tr>\n",
       "\t<tr><th scope=row>sofa</th><td>1.212652e+00</td><td>1.149302257 </td><td>1.279493e+00</td></tr>\n",
       "\t<tr><th scope=row>elix_score</th><td>1.026116e+00</td><td>1.001656877 </td><td>1.051173e+00</td></tr>\n",
       "\t<tr><th scope=row>vent1</th><td>1.711284e+00</td><td>0.970801215 </td><td>3.016575e+00</td></tr>\n",
       "\t<tr><th scope=row>vaso1</th><td>9.593589e-01</td><td>0.666860932 </td><td>1.380152e+00</td></tr>\n",
       "\t<tr><th scope=row>icu_adm_weekday1</th><td>9.088074e-01</td><td>0.532477405 </td><td>1.551110e+00</td></tr>\n",
       "\t<tr><th scope=row>icu_adm_weekday2</th><td>1.109158e+00</td><td>0.654109616 </td><td>1.880774e+00</td></tr>\n",
       "\t<tr><th scope=row>icu_adm_weekday3</th><td>1.455287e+00</td><td>0.876829704 </td><td>2.415361e+00</td></tr>\n",
       "\t<tr><th scope=row>icu_adm_weekday4</th><td>1.540614e+00</td><td>0.927415853 </td><td>2.559252e+00</td></tr>\n",
       "\t<tr><th scope=row>icu_adm_weekday5</th><td>1.082027e+00</td><td>0.628498720 </td><td>1.862825e+00</td></tr>\n",
       "\t<tr><th scope=row>icu_adm_weekday6</th><td>9.583819e-01</td><td>0.554023565 </td><td>1.657864e+00</td></tr>\n",
       "\t<tr><th scope=row>icu_adm_hour1</th><td>1.261198e+00</td><td>0.471877723 </td><td>3.370830e+00</td></tr>\n",
       "\t<tr><th scope=row>icu_adm_hour2</th><td>4.658015e-01</td><td>0.171357824 </td><td>1.266187e+00</td></tr>\n",
       "\t<tr><th scope=row>icu_adm_hour3</th><td>7.607323e-01</td><td>0.284570115 </td><td>2.033642e+00</td></tr>\n",
       "\t<tr><th scope=row>icu_adm_hour4</th><td>1.483480e+00</td><td>0.554781425 </td><td>3.966811e+00</td></tr>\n",
       "\t<tr><th scope=row>icu_adm_hour5</th><td>8.507292e-01</td><td>0.265795651 </td><td>2.722920e+00</td></tr>\n",
       "\t<tr><th scope=row>icu_adm_hour6</th><td>9.388177e-01</td><td>0.287138880 </td><td>3.069521e+00</td></tr>\n",
       "\t<tr><th scope=row>icu_adm_hour7</th><td>3.528905e-01</td><td>0.072369997 </td><td>1.720764e+00</td></tr>\n",
       "\t<tr><th scope=row>icu_adm_hour8</th><td>7.785316e-01</td><td>0.218627275 </td><td>2.772350e+00</td></tr>\n",
       "\t<tr><th scope=row>icu_adm_hour9</th><td>1.849794e+00</td><td>0.702131977 </td><td>4.873355e+00</td></tr>\n",
       "\t<tr><th scope=row>icu_adm_hour10</th><td>5.492493e-01</td><td>0.187580780 </td><td>1.608239e+00</td></tr>\n",
       "\t<tr><th scope=row>icu_adm_hour11</th><td>1.107454e+00</td><td>0.423551796 </td><td>2.895641e+00</td></tr>\n",
       "\t<tr><th scope=row>icu_adm_hour12</th><td>1.744774e+00</td><td>0.725576744 </td><td>4.195611e+00</td></tr>\n",
       "\t<tr><th scope=row>icu_adm_hour13</th><td>1.828688e+00</td><td>0.713210615 </td><td>4.688799e+00</td></tr>\n",
       "\t<tr><th scope=row>icu_adm_hour14</th><td>1.535976e+00</td><td>0.649886265 </td><td>3.630207e+00</td></tr>\n",
       "\t<tr><th scope=row>⋮</th><td>⋮</td><td>⋮</td><td>⋮</td></tr>\n",
       "\t<tr><th scope=row>icu_adm_hour23</th><td>0.6657952 </td><td>0.27314913</td><td>1.6228616 </td></tr>\n",
       "\t<tr><th scope=row>icd_chf1</th><td>0.6427487 </td><td>0.43924047</td><td>0.9405461 </td></tr>\n",
       "\t<tr><th scope=row>icd_afib1</th><td>1.3028217 </td><td>0.92493183</td><td>1.8351021 </td></tr>\n",
       "\t<tr><th scope=row>icd_renal1</th><td>1.1260021 </td><td>0.71632456</td><td>1.7699808 </td></tr>\n",
       "\t<tr><th scope=row>icd_liver1</th><td>1.6988017 </td><td>1.04369509</td><td>2.7651056 </td></tr>\n",
       "\t<tr><th scope=row>icd_copd1</th><td>1.2332898 </td><td>0.82124293</td><td>1.8520753 </td></tr>\n",
       "\t<tr><th scope=row>icd_cad1</th><td>0.6649424 </td><td>0.42207836</td><td>1.0475505 </td></tr>\n",
       "\t<tr><th scope=row>icd_stroke1</th><td>1.8007357 </td><td>0.90929859</td><td>3.5660995 </td></tr>\n",
       "\t<tr><th scope=row>icd_malignancy1</th><td>1.5583826 </td><td>1.09821153</td><td>2.2113738 </td></tr>\n",
       "\t<tr><th scope=row>vs_temp_first</th><td>0.9552110 </td><td>0.84338552</td><td>1.0818637 </td></tr>\n",
       "\t<tr><th scope=row>vs_map_first</th><td>0.9932870 </td><td>0.98521535</td><td>1.0014248 </td></tr>\n",
       "\t<tr><th scope=row>vs_cvp_first</th><td>0.9942999 </td><td>0.98671869</td><td>1.0019393 </td></tr>\n",
       "\t<tr><th scope=row>vs_heart_rate_first</th><td>1.0059285 </td><td>0.99917089</td><td>1.0127318 </td></tr>\n",
       "\t<tr><th scope=row>lab_hemoglobin_first</th><td>0.9394950 </td><td>0.87500617</td><td>1.0087367 </td></tr>\n",
       "\t<tr><th scope=row>lab_wbc_first</th><td>0.9966703 </td><td>0.98561399</td><td>1.0078506 </td></tr>\n",
       "\t<tr><th scope=row>lab_lactate_first</th><td>1.1413477 </td><td>1.05864264</td><td>1.2305141 </td></tr>\n",
       "\t<tr><th scope=row>lab_po2_first</th><td>0.9987502 </td><td>0.99718028</td><td>1.0003225 </td></tr>\n",
       "\t<tr><th scope=row>lab_troponin_flag1</th><td>1.3564655 </td><td>0.90263857</td><td>2.0384667 </td></tr>\n",
       "\t<tr><th scope=row>lab_potassium_first</th><td>1.1807401 </td><td>0.97675207</td><td>1.4273296 </td></tr>\n",
       "\t<tr><th scope=row>lab_creatinine_kinase_flag1</th><td>0.9399673 </td><td>0.62952082</td><td>1.4035096 </td></tr>\n",
       "\t<tr><th scope=row>lab_creatinine_first</th><td>0.7826118 </td><td>0.66005669</td><td>0.9279221 </td></tr>\n",
       "\t<tr><th scope=row>lab_pco2_first</th><td>0.9943716 </td><td>0.97538226</td><td>1.0137306 </td></tr>\n",
       "\t<tr><th scope=row>lab_bnp_flag1</th><td>2.4573203 </td><td>1.25692902</td><td>4.8041081 </td></tr>\n",
       "\t<tr><th scope=row>lab_bicarbonate_first</th><td>1.0545114 </td><td>0.99909822</td><td>1.1129980 </td></tr>\n",
       "\t<tr><th scope=row>lab_bun_first</th><td>1.0096955 </td><td>1.00162931</td><td>1.0178266 </td></tr>\n",
       "\t<tr><th scope=row>lab_platelet_first</th><td>1.0005370 </td><td>0.99936785</td><td>1.0017076 </td></tr>\n",
       "\t<tr><th scope=row>lab_sodium_first</th><td>0.9958589 </td><td>0.94550238</td><td>1.0488974 </td></tr>\n",
       "\t<tr><th scope=row>lab_chloride_first</th><td>0.9836218 </td><td>0.93824319</td><td>1.0311952 </td></tr>\n",
       "\t<tr><th scope=row>lab_ph_first</th><td>0.1229388 </td><td>0.01100898</td><td>1.3728744 </td></tr>\n",
       "\t<tr><th scope=row>sedative1</th><td>0.7335839 </td><td>0.46468164</td><td>1.1580947 </td></tr>\n",
       "</tbody>\n",
       "</table>\n"
      ],
      "text/latex": [
       "\\begin{tabular}{r|lll}\n",
       "  & OR & 2.5 \\% & 97.5 \\%\\\\\n",
       "\\hline\n",
       "\t(Intercept) & 3.577376e+05 & 0.005247794  & 2.438667e+13\\\\\n",
       "\techo1 & 7.144174e-01 & 0.530411581  & 9.622569e-01\\\\\n",
       "\tage & 1.023876e+00 & 1.011543401  & 1.036358e+00\\\\\n",
       "\tgender1 & 1.222039e+00 & 0.898696261  & 1.661718e+00\\\\\n",
       "\tweight & 9.902174e-01 & 0.983468919  & 9.970122e-01\\\\\n",
       "\tsaps & 1.057648e+00 & 1.018465404  & 1.098338e+00\\\\\n",
       "\tsofa & 1.212652e+00 & 1.149302257  & 1.279493e+00\\\\\n",
       "\telix\\_score & 1.026116e+00 & 1.001656877  & 1.051173e+00\\\\\n",
       "\tvent1 & 1.711284e+00 & 0.970801215  & 3.016575e+00\\\\\n",
       "\tvaso1 & 9.593589e-01 & 0.666860932  & 1.380152e+00\\\\\n",
       "\ticu\\_adm\\_weekday1 & 9.088074e-01 & 0.532477405  & 1.551110e+00\\\\\n",
       "\ticu\\_adm\\_weekday2 & 1.109158e+00 & 0.654109616  & 1.880774e+00\\\\\n",
       "\ticu\\_adm\\_weekday3 & 1.455287e+00 & 0.876829704  & 2.415361e+00\\\\\n",
       "\ticu\\_adm\\_weekday4 & 1.540614e+00 & 0.927415853  & 2.559252e+00\\\\\n",
       "\ticu\\_adm\\_weekday5 & 1.082027e+00 & 0.628498720  & 1.862825e+00\\\\\n",
       "\ticu\\_adm\\_weekday6 & 9.583819e-01 & 0.554023565  & 1.657864e+00\\\\\n",
       "\ticu\\_adm\\_hour1 & 1.261198e+00 & 0.471877723  & 3.370830e+00\\\\\n",
       "\ticu\\_adm\\_hour2 & 4.658015e-01 & 0.171357824  & 1.266187e+00\\\\\n",
       "\ticu\\_adm\\_hour3 & 7.607323e-01 & 0.284570115  & 2.033642e+00\\\\\n",
       "\ticu\\_adm\\_hour4 & 1.483480e+00 & 0.554781425  & 3.966811e+00\\\\\n",
       "\ticu\\_adm\\_hour5 & 8.507292e-01 & 0.265795651  & 2.722920e+00\\\\\n",
       "\ticu\\_adm\\_hour6 & 9.388177e-01 & 0.287138880  & 3.069521e+00\\\\\n",
       "\ticu\\_adm\\_hour7 & 3.528905e-01 & 0.072369997  & 1.720764e+00\\\\\n",
       "\ticu\\_adm\\_hour8 & 7.785316e-01 & 0.218627275  & 2.772350e+00\\\\\n",
       "\ticu\\_adm\\_hour9 & 1.849794e+00 & 0.702131977  & 4.873355e+00\\\\\n",
       "\ticu\\_adm\\_hour10 & 5.492493e-01 & 0.187580780  & 1.608239e+00\\\\\n",
       "\ticu\\_adm\\_hour11 & 1.107454e+00 & 0.423551796  & 2.895641e+00\\\\\n",
       "\ticu\\_adm\\_hour12 & 1.744774e+00 & 0.725576744  & 4.195611e+00\\\\\n",
       "\ticu\\_adm\\_hour13 & 1.828688e+00 & 0.713210615  & 4.688799e+00\\\\\n",
       "\ticu\\_adm\\_hour14 & 1.535976e+00 & 0.649886265  & 3.630207e+00\\\\\n",
       "\t⋮ & ⋮ & ⋮ & ⋮\\\\\n",
       "\ticu\\_adm\\_hour23 & 0.6657952  & 0.27314913 & 1.6228616 \\\\\n",
       "\ticd\\_chf1 & 0.6427487  & 0.43924047 & 0.9405461 \\\\\n",
       "\ticd\\_afib1 & 1.3028217  & 0.92493183 & 1.8351021 \\\\\n",
       "\ticd\\_renal1 & 1.1260021  & 0.71632456 & 1.7699808 \\\\\n",
       "\ticd\\_liver1 & 1.6988017  & 1.04369509 & 2.7651056 \\\\\n",
       "\ticd\\_copd1 & 1.2332898  & 0.82124293 & 1.8520753 \\\\\n",
       "\ticd\\_cad1 & 0.6649424  & 0.42207836 & 1.0475505 \\\\\n",
       "\ticd\\_stroke1 & 1.8007357  & 0.90929859 & 3.5660995 \\\\\n",
       "\ticd\\_malignancy1 & 1.5583826  & 1.09821153 & 2.2113738 \\\\\n",
       "\tvs\\_temp\\_first & 0.9552110  & 0.84338552 & 1.0818637 \\\\\n",
       "\tvs\\_map\\_first & 0.9932870  & 0.98521535 & 1.0014248 \\\\\n",
       "\tvs\\_cvp\\_first & 0.9942999  & 0.98671869 & 1.0019393 \\\\\n",
       "\tvs\\_heart\\_rate\\_first & 1.0059285  & 0.99917089 & 1.0127318 \\\\\n",
       "\tlab\\_hemoglobin\\_first & 0.9394950  & 0.87500617 & 1.0087367 \\\\\n",
       "\tlab\\_wbc\\_first & 0.9966703  & 0.98561399 & 1.0078506 \\\\\n",
       "\tlab\\_lactate\\_first & 1.1413477  & 1.05864264 & 1.2305141 \\\\\n",
       "\tlab\\_po2\\_first & 0.9987502  & 0.99718028 & 1.0003225 \\\\\n",
       "\tlab\\_troponin\\_flag1 & 1.3564655  & 0.90263857 & 2.0384667 \\\\\n",
       "\tlab\\_potassium\\_first & 1.1807401  & 0.97675207 & 1.4273296 \\\\\n",
       "\tlab\\_creatinine\\_kinase\\_flag1 & 0.9399673  & 0.62952082 & 1.4035096 \\\\\n",
       "\tlab\\_creatinine\\_first & 0.7826118  & 0.66005669 & 0.9279221 \\\\\n",
       "\tlab\\_pco2\\_first & 0.9943716  & 0.97538226 & 1.0137306 \\\\\n",
       "\tlab\\_bnp\\_flag1 & 2.4573203  & 1.25692902 & 4.8041081 \\\\\n",
       "\tlab\\_bicarbonate\\_first & 1.0545114  & 0.99909822 & 1.1129980 \\\\\n",
       "\tlab\\_bun\\_first & 1.0096955  & 1.00162931 & 1.0178266 \\\\\n",
       "\tlab\\_platelet\\_first & 1.0005370  & 0.99936785 & 1.0017076 \\\\\n",
       "\tlab\\_sodium\\_first & 0.9958589  & 0.94550238 & 1.0488974 \\\\\n",
       "\tlab\\_chloride\\_first & 0.9836218  & 0.93824319 & 1.0311952 \\\\\n",
       "\tlab\\_ph\\_first & 0.1229388  & 0.01100898 & 1.3728744 \\\\\n",
       "\tsedative1 & 0.7335839  & 0.46468164 & 1.1580947 \\\\\n",
       "\\end{tabular}\n"
      ],
      "text/markdown": [
       "\n",
       "| <!--/--> | OR | 2.5 % | 97.5 % | \n",
       "|---|---|---|---|---|---|---|---|---|---|---|---|---|---|---|---|---|---|---|---|---|---|---|---|---|---|---|---|---|---|---|---|---|---|---|---|---|---|---|---|---|---|---|---|---|---|---|---|---|---|---|---|---|---|---|---|---|---|---|---|---|\n",
       "| (Intercept) | 3.577376e+05 | 0.005247794  | 2.438667e+13 | \n",
       "| echo1 | 7.144174e-01 | 0.530411581  | 9.622569e-01 | \n",
       "| age | 1.023876e+00 | 1.011543401  | 1.036358e+00 | \n",
       "| gender1 | 1.222039e+00 | 0.898696261  | 1.661718e+00 | \n",
       "| weight | 9.902174e-01 | 0.983468919  | 9.970122e-01 | \n",
       "| saps | 1.057648e+00 | 1.018465404  | 1.098338e+00 | \n",
       "| sofa | 1.212652e+00 | 1.149302257  | 1.279493e+00 | \n",
       "| elix_score | 1.026116e+00 | 1.001656877  | 1.051173e+00 | \n",
       "| vent1 | 1.711284e+00 | 0.970801215  | 3.016575e+00 | \n",
       "| vaso1 | 9.593589e-01 | 0.666860932  | 1.380152e+00 | \n",
       "| icu_adm_weekday1 | 9.088074e-01 | 0.532477405  | 1.551110e+00 | \n",
       "| icu_adm_weekday2 | 1.109158e+00 | 0.654109616  | 1.880774e+00 | \n",
       "| icu_adm_weekday3 | 1.455287e+00 | 0.876829704  | 2.415361e+00 | \n",
       "| icu_adm_weekday4 | 1.540614e+00 | 0.927415853  | 2.559252e+00 | \n",
       "| icu_adm_weekday5 | 1.082027e+00 | 0.628498720  | 1.862825e+00 | \n",
       "| icu_adm_weekday6 | 9.583819e-01 | 0.554023565  | 1.657864e+00 | \n",
       "| icu_adm_hour1 | 1.261198e+00 | 0.471877723  | 3.370830e+00 | \n",
       "| icu_adm_hour2 | 4.658015e-01 | 0.171357824  | 1.266187e+00 | \n",
       "| icu_adm_hour3 | 7.607323e-01 | 0.284570115  | 2.033642e+00 | \n",
       "| icu_adm_hour4 | 1.483480e+00 | 0.554781425  | 3.966811e+00 | \n",
       "| icu_adm_hour5 | 8.507292e-01 | 0.265795651  | 2.722920e+00 | \n",
       "| icu_adm_hour6 | 9.388177e-01 | 0.287138880  | 3.069521e+00 | \n",
       "| icu_adm_hour7 | 3.528905e-01 | 0.072369997  | 1.720764e+00 | \n",
       "| icu_adm_hour8 | 7.785316e-01 | 0.218627275  | 2.772350e+00 | \n",
       "| icu_adm_hour9 | 1.849794e+00 | 0.702131977  | 4.873355e+00 | \n",
       "| icu_adm_hour10 | 5.492493e-01 | 0.187580780  | 1.608239e+00 | \n",
       "| icu_adm_hour11 | 1.107454e+00 | 0.423551796  | 2.895641e+00 | \n",
       "| icu_adm_hour12 | 1.744774e+00 | 0.725576744  | 4.195611e+00 | \n",
       "| icu_adm_hour13 | 1.828688e+00 | 0.713210615  | 4.688799e+00 | \n",
       "| icu_adm_hour14 | 1.535976e+00 | 0.649886265  | 3.630207e+00 | \n",
       "| ⋮ | ⋮ | ⋮ | ⋮ | \n",
       "| icu_adm_hour23 | 0.6657952  | 0.27314913 | 1.6228616  | \n",
       "| icd_chf1 | 0.6427487  | 0.43924047 | 0.9405461  | \n",
       "| icd_afib1 | 1.3028217  | 0.92493183 | 1.8351021  | \n",
       "| icd_renal1 | 1.1260021  | 0.71632456 | 1.7699808  | \n",
       "| icd_liver1 | 1.6988017  | 1.04369509 | 2.7651056  | \n",
       "| icd_copd1 | 1.2332898  | 0.82124293 | 1.8520753  | \n",
       "| icd_cad1 | 0.6649424  | 0.42207836 | 1.0475505  | \n",
       "| icd_stroke1 | 1.8007357  | 0.90929859 | 3.5660995  | \n",
       "| icd_malignancy1 | 1.5583826  | 1.09821153 | 2.2113738  | \n",
       "| vs_temp_first | 0.9552110  | 0.84338552 | 1.0818637  | \n",
       "| vs_map_first | 0.9932870  | 0.98521535 | 1.0014248  | \n",
       "| vs_cvp_first | 0.9942999  | 0.98671869 | 1.0019393  | \n",
       "| vs_heart_rate_first | 1.0059285  | 0.99917089 | 1.0127318  | \n",
       "| lab_hemoglobin_first | 0.9394950  | 0.87500617 | 1.0087367  | \n",
       "| lab_wbc_first | 0.9966703  | 0.98561399 | 1.0078506  | \n",
       "| lab_lactate_first | 1.1413477  | 1.05864264 | 1.2305141  | \n",
       "| lab_po2_first | 0.9987502  | 0.99718028 | 1.0003225  | \n",
       "| lab_troponin_flag1 | 1.3564655  | 0.90263857 | 2.0384667  | \n",
       "| lab_potassium_first | 1.1807401  | 0.97675207 | 1.4273296  | \n",
       "| lab_creatinine_kinase_flag1 | 0.9399673  | 0.62952082 | 1.4035096  | \n",
       "| lab_creatinine_first | 0.7826118  | 0.66005669 | 0.9279221  | \n",
       "| lab_pco2_first | 0.9943716  | 0.97538226 | 1.0137306  | \n",
       "| lab_bnp_flag1 | 2.4573203  | 1.25692902 | 4.8041081  | \n",
       "| lab_bicarbonate_first | 1.0545114  | 0.99909822 | 1.1129980  | \n",
       "| lab_bun_first | 1.0096955  | 1.00162931 | 1.0178266  | \n",
       "| lab_platelet_first | 1.0005370  | 0.99936785 | 1.0017076  | \n",
       "| lab_sodium_first | 0.9958589  | 0.94550238 | 1.0488974  | \n",
       "| lab_chloride_first | 0.9836218  | 0.93824319 | 1.0311952  | \n",
       "| lab_ph_first | 0.1229388  | 0.01100898 | 1.3728744  | \n",
       "| sedative1 | 0.7335839  | 0.46468164 | 1.1580947  | \n",
       "\n",
       "\n"
      ],
      "text/plain": [
       "                            OR           2.5 %       97.5 %      \n",
       "(Intercept)                 3.577376e+05 0.005247794 2.438667e+13\n",
       "echo1                       7.144174e-01 0.530411581 9.622569e-01\n",
       "age                         1.023876e+00 1.011543401 1.036358e+00\n",
       "gender1                     1.222039e+00 0.898696261 1.661718e+00\n",
       "weight                      9.902174e-01 0.983468919 9.970122e-01\n",
       "saps                        1.057648e+00 1.018465404 1.098338e+00\n",
       "sofa                        1.212652e+00 1.149302257 1.279493e+00\n",
       "elix_score                  1.026116e+00 1.001656877 1.051173e+00\n",
       "vent1                       1.711284e+00 0.970801215 3.016575e+00\n",
       "vaso1                       9.593589e-01 0.666860932 1.380152e+00\n",
       "icu_adm_weekday1            9.088074e-01 0.532477405 1.551110e+00\n",
       "icu_adm_weekday2            1.109158e+00 0.654109616 1.880774e+00\n",
       "icu_adm_weekday3            1.455287e+00 0.876829704 2.415361e+00\n",
       "icu_adm_weekday4            1.540614e+00 0.927415853 2.559252e+00\n",
       "icu_adm_weekday5            1.082027e+00 0.628498720 1.862825e+00\n",
       "icu_adm_weekday6            9.583819e-01 0.554023565 1.657864e+00\n",
       "icu_adm_hour1               1.261198e+00 0.471877723 3.370830e+00\n",
       "icu_adm_hour2               4.658015e-01 0.171357824 1.266187e+00\n",
       "icu_adm_hour3               7.607323e-01 0.284570115 2.033642e+00\n",
       "icu_adm_hour4               1.483480e+00 0.554781425 3.966811e+00\n",
       "icu_adm_hour5               8.507292e-01 0.265795651 2.722920e+00\n",
       "icu_adm_hour6               9.388177e-01 0.287138880 3.069521e+00\n",
       "icu_adm_hour7               3.528905e-01 0.072369997 1.720764e+00\n",
       "icu_adm_hour8               7.785316e-01 0.218627275 2.772350e+00\n",
       "icu_adm_hour9               1.849794e+00 0.702131977 4.873355e+00\n",
       "icu_adm_hour10              5.492493e-01 0.187580780 1.608239e+00\n",
       "icu_adm_hour11              1.107454e+00 0.423551796 2.895641e+00\n",
       "icu_adm_hour12              1.744774e+00 0.725576744 4.195611e+00\n",
       "icu_adm_hour13              1.828688e+00 0.713210615 4.688799e+00\n",
       "icu_adm_hour14              1.535976e+00 0.649886265 3.630207e+00\n",
       "⋮                           ⋮            ⋮           ⋮           \n",
       "icu_adm_hour23              0.6657952    0.27314913  1.6228616   \n",
       "icd_chf1                    0.6427487    0.43924047  0.9405461   \n",
       "icd_afib1                   1.3028217    0.92493183  1.8351021   \n",
       "icd_renal1                  1.1260021    0.71632456  1.7699808   \n",
       "icd_liver1                  1.6988017    1.04369509  2.7651056   \n",
       "icd_copd1                   1.2332898    0.82124293  1.8520753   \n",
       "icd_cad1                    0.6649424    0.42207836  1.0475505   \n",
       "icd_stroke1                 1.8007357    0.90929859  3.5660995   \n",
       "icd_malignancy1             1.5583826    1.09821153  2.2113738   \n",
       "vs_temp_first               0.9552110    0.84338552  1.0818637   \n",
       "vs_map_first                0.9932870    0.98521535  1.0014248   \n",
       "vs_cvp_first                0.9942999    0.98671869  1.0019393   \n",
       "vs_heart_rate_first         1.0059285    0.99917089  1.0127318   \n",
       "lab_hemoglobin_first        0.9394950    0.87500617  1.0087367   \n",
       "lab_wbc_first               0.9966703    0.98561399  1.0078506   \n",
       "lab_lactate_first           1.1413477    1.05864264  1.2305141   \n",
       "lab_po2_first               0.9987502    0.99718028  1.0003225   \n",
       "lab_troponin_flag1          1.3564655    0.90263857  2.0384667   \n",
       "lab_potassium_first         1.1807401    0.97675207  1.4273296   \n",
       "lab_creatinine_kinase_flag1 0.9399673    0.62952082  1.4035096   \n",
       "lab_creatinine_first        0.7826118    0.66005669  0.9279221   \n",
       "lab_pco2_first              0.9943716    0.97538226  1.0137306   \n",
       "lab_bnp_flag1               2.4573203    1.25692902  4.8041081   \n",
       "lab_bicarbonate_first       1.0545114    0.99909822  1.1129980   \n",
       "lab_bun_first               1.0096955    1.00162931  1.0178266   \n",
       "lab_platelet_first          1.0005370    0.99936785  1.0017076   \n",
       "lab_sodium_first            0.9958589    0.94550238  1.0488974   \n",
       "lab_chloride_first          0.9836218    0.93824319  1.0311952   \n",
       "lab_ph_first                0.1229388    0.01100898  1.3728744   \n",
       "sedative1                   0.7335839    0.46468164  1.1580947   "
      ]
     },
     "metadata": {},
     "output_type": "display_data"
    }
   ],
   "source": [
    "exp(cbind(OR = coef(logi), confint(logi)))"
   ]
  },
  {
   "cell_type": "code",
   "execution_count": 28,
   "metadata": {},
   "outputs": [],
   "source": [
    "ps_matches <- Match(Y = NULL, Tr = full_data$echo_int, X = full_data$ps, M = 1,\n",
    "                    estimand = \"ATT\", caliper = 0.1,\n",
    "                    exact = FALSE, replace = FALSE)"
   ]
  },
  {
   "cell_type": "code",
   "execution_count": 29,
   "metadata": {},
   "outputs": [
    {
     "name": "stdout",
     "output_type": "stream",
     "text": [
      "\n",
      "Estimate...  0 \n",
      "SE.........  0 \n",
      "T-stat.....  NaN \n",
      "p.val......  NA \n",
      "\n",
      "Original number of observations..............  6162 \n",
      "Original number of treated obs...............  3063 \n",
      "Matched number of observations...............  1572 \n",
      "Matched number of observations  (unweighted).  1572 \n",
      "\n",
      "Number of obs dropped by 'exact' or 'caliper'  1491 \n",
      "\n"
     ]
    }
   ],
   "source": [
    "summary(ps_matches)"
   ]
  },
  {
   "cell_type": "code",
   "execution_count": 30,
   "metadata": {},
   "outputs": [
    {
     "data": {
      "text/plain": [
       "    Control\n",
       "Echo   0   1\n",
       "   0 824 359\n",
       "   1 271 118"
      ]
     },
     "metadata": {},
     "output_type": "display_data"
    }
   ],
   "source": [
    "tab <- table(full_data$mort_28_day[ps_matches$index.treated],\n",
    "             full_data$mort_28_day[ps_matches$index.control],\n",
    "             dnn = c(\"Echo\", \"Control\"))\n",
    "tab"
   ]
  },
  {
   "cell_type": "code",
   "execution_count": 31,
   "metadata": {},
   "outputs": [
    {
     "data": {
      "text/plain": [
       "\n",
       "\tFisher's Exact Test for Count Data\n",
       "\n",
       "data:  tab\n",
       "p-value = 1\n",
       "alternative hypothesis: true odds ratio is not equal to 1\n",
       "95 percent confidence interval:\n",
       " 0.7714704 1.2902840\n",
       "sample estimates:\n",
       "odds ratio \n",
       " 0.9994126 \n"
      ]
     },
     "metadata": {},
     "output_type": "display_data"
    }
   ],
   "source": [
    "fisher.test(tab)"
   ]
  },
  {
   "cell_type": "code",
   "execution_count": 32,
   "metadata": {},
   "outputs": [
    {
     "data": {
      "text/plain": [
       "\n",
       "\tMcNemar's Chi-squared test with continuity correction\n",
       "\n",
       "data:  tab\n",
       "McNemar's chi-squared = 12.014, df = 1, p-value = 0.0005279\n"
      ]
     },
     "metadata": {},
     "output_type": "display_data"
    }
   ],
   "source": [
    "mcnemar.test(tab)"
   ]
  }
 ],
 "metadata": {
  "kernelspec": {
   "display_name": "R",
   "language": "R",
   "name": "ir"
  },
  "language_info": {
   "codemirror_mode": "r",
   "file_extension": ".r",
   "mimetype": "text/x-r-source",
   "name": "R",
   "pygments_lexer": "r",
   "version": "3.4.2"
  },
  "varInspector": {
   "cols": {
    "lenName": 16,
    "lenType": 16,
    "lenVar": 40
   },
   "kernels_config": {
    "python": {
     "delete_cmd_postfix": "",
     "delete_cmd_prefix": "del ",
     "library": "var_list.py",
     "varRefreshCmd": "print(var_dic_list())"
    },
    "r": {
     "delete_cmd_postfix": ") ",
     "delete_cmd_prefix": "rm(",
     "library": "var_list.r",
     "varRefreshCmd": "cat(var_dic_list()) "
    }
   },
   "types_to_exclude": [
    "module",
    "function",
    "builtin_function_or_method",
    "instance",
    "_Feature"
   ],
   "window_display": false
  }
 },
 "nbformat": 4,
 "nbformat_minor": 2
}
