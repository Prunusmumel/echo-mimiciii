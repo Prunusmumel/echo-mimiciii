{
 "cells": [
  {
   "cell_type": "code",
   "execution_count": 1,
   "metadata": {},
   "outputs": [
    {
     "name": "stderr",
     "output_type": "stream",
     "text": [
      "Loading tidyverse: ggplot2\n",
      "Loading tidyverse: tibble\n",
      "Loading tidyverse: tidyr\n",
      "Loading tidyverse: readr\n",
      "Loading tidyverse: purrr\n",
      "Loading tidyverse: dplyr\n",
      "Conflicts with tidy packages ---------------------------------------------------\n",
      "filter(): dplyr, stats\n",
      "lag():    dplyr, stats\n",
      "Loading required package: DBI\n"
     ]
    }
   ],
   "source": [
    "library(tidyverse)\n",
    "library(RPostgreSQL)\n",
    "library(tableone)"
   ]
  },
  {
   "cell_type": "code",
   "execution_count": 2,
   "metadata": {},
   "outputs": [],
   "source": [
    "source(\"utils.R\")"
   ]
  },
  {
   "cell_type": "code",
   "execution_count": 3,
   "metadata": {},
   "outputs": [
    {
     "data": {
      "text/html": [
       "<ol class=list-inline>\n",
       "\t<li>'basics.sql'</li>\n",
       "\t<li>'cohort.sql'</li>\n",
       "\t<li>'lab_tests.sql'</li>\n",
       "\t<li>'population.sql'</li>\n",
       "\t<li>'vital_signs.sql'</li>\n",
       "</ol>\n"
      ],
      "text/latex": [
       "\\begin{enumerate*}\n",
       "\\item 'basics.sql'\n",
       "\\item 'cohort.sql'\n",
       "\\item 'lab\\_tests.sql'\n",
       "\\item 'population.sql'\n",
       "\\item 'vital\\_signs.sql'\n",
       "\\end{enumerate*}\n"
      ],
      "text/markdown": [
       "1. 'basics.sql'\n",
       "2. 'cohort.sql'\n",
       "3. 'lab_tests.sql'\n",
       "4. 'population.sql'\n",
       "5. 'vital_signs.sql'\n",
       "\n",
       "\n"
      ],
      "text/plain": [
       "[1] \"basics.sql\"      \"cohort.sql\"      \"lab_tests.sql\"   \"population.sql\" \n",
       "[5] \"vital_signs.sql\""
      ]
     },
     "metadata": {},
     "output_type": "display_data"
    }
   ],
   "source": [
    "sql_dir <- file.path(\"..\", \"sql\")\n",
    "data_dir <- file.path(\"..\", \"data\")\n",
    "list.files(sql_dir)"
   ]
  },
  {
   "cell_type": "code",
   "execution_count": 4,
   "metadata": {},
   "outputs": [
    {
     "data": {
      "text/plain": [
       "<PostgreSQLResult>"
      ]
     },
     "metadata": {},
     "output_type": "display_data"
    }
   ],
   "source": [
    "drv <- dbDriver(\"PostgreSQL\")\n",
    "con <- dbConnect(drv, dbname = \"mimic\")\n",
    "dbSendQuery(con, \"set search_path=echo,public,mimiciii;\")"
   ]
  },
  {
   "cell_type": "code",
   "execution_count": 5,
   "metadata": {},
   "outputs": [
    {
     "data": {
      "text/html": [
       "<table>\n",
       "<thead><tr><th scope=col>icustay_id</th><th scope=col>hadm_id</th><th scope=col>subject_id</th><th scope=col>age</th><th scope=col>echo</th><th scope=col>gender</th><th scope=col>weight</th><th scope=col>saps</th><th scope=col>sofa</th><th scope=col>elix_score</th><th scope=col>vent</th><th scope=col>vaso</th><th scope=col>weekday</th></tr></thead>\n",
       "<tbody>\n",
       "\t<tr><td>200003  </td><td>163557  </td><td>27513   </td><td>48.29627</td><td>1       </td><td>M       </td><td> 77.0   </td><td>24      </td><td>6       </td><td> 0      </td><td>1       </td><td>0       </td><td>friday  </td></tr>\n",
       "\t<tr><td>200003  </td><td>163557  </td><td>27513   </td><td>48.29627</td><td>1       </td><td>M       </td><td> 77.0   </td><td>24      </td><td>6       </td><td> 0      </td><td>1       </td><td>0       </td><td>friday  </td></tr>\n",
       "\t<tr><td>200003  </td><td>163557  </td><td>27513   </td><td>48.29627</td><td>1       </td><td>M       </td><td> 77.0   </td><td>24      </td><td>6       </td><td> 0      </td><td>1       </td><td>1       </td><td>friday  </td></tr>\n",
       "\t<tr><td>200014  </td><td>127229  </td><td> 9514   </td><td>84.73004</td><td>1       </td><td>M       </td><td> 62.0   </td><td>23      </td><td>3       </td><td> 3      </td><td>1       </td><td>0       </td><td>monday  </td></tr>\n",
       "\t<tr><td>200030  </td><td>165426  </td><td>14987   </td><td>54.19308</td><td>1       </td><td>M       </td><td>113.6   </td><td>17      </td><td>7       </td><td>19      </td><td>0       </td><td>1       </td><td>friday  </td></tr>\n",
       "\t<tr><td>200033  </td><td>198650  </td><td>56369   </td><td>67.14657</td><td>0       </td><td>M       </td><td> 74.0   </td><td>15      </td><td>1       </td><td> 9      </td><td>0       </td><td>0       </td><td>tuesday </td></tr>\n",
       "</tbody>\n",
       "</table>\n"
      ],
      "text/latex": [
       "\\begin{tabular}{r|lllllllllllll}\n",
       " icustay\\_id & hadm\\_id & subject\\_id & age & echo & gender & weight & saps & sofa & elix\\_score & vent & vaso & weekday\\\\\n",
       "\\hline\n",
       "\t 200003   & 163557   & 27513    & 48.29627 & 1        & M        &  77.0    & 24       & 6        &  0       & 1        & 0        & friday  \\\\\n",
       "\t 200003   & 163557   & 27513    & 48.29627 & 1        & M        &  77.0    & 24       & 6        &  0       & 1        & 0        & friday  \\\\\n",
       "\t 200003   & 163557   & 27513    & 48.29627 & 1        & M        &  77.0    & 24       & 6        &  0       & 1        & 1        & friday  \\\\\n",
       "\t 200014   & 127229   &  9514    & 84.73004 & 1        & M        &  62.0    & 23       & 3        &  3       & 1        & 0        & monday  \\\\\n",
       "\t 200030   & 165426   & 14987    & 54.19308 & 1        & M        & 113.6    & 17       & 7        & 19       & 0        & 1        & friday  \\\\\n",
       "\t 200033   & 198650   & 56369    & 67.14657 & 0        & M        &  74.0    & 15       & 1        &  9       & 0        & 0        & tuesday \\\\\n",
       "\\end{tabular}\n"
      ],
      "text/markdown": [
       "\n",
       "icustay_id | hadm_id | subject_id | age | echo | gender | weight | saps | sofa | elix_score | vent | vaso | weekday | \n",
       "|---|---|---|---|---|---|\n",
       "| 200003   | 163557   | 27513    | 48.29627 | 1        | M        |  77.0    | 24       | 6        |  0       | 1        | 0        | friday   | \n",
       "| 200003   | 163557   | 27513    | 48.29627 | 1        | M        |  77.0    | 24       | 6        |  0       | 1        | 0        | friday   | \n",
       "| 200003   | 163557   | 27513    | 48.29627 | 1        | M        |  77.0    | 24       | 6        |  0       | 1        | 1        | friday   | \n",
       "| 200014   | 127229   |  9514    | 84.73004 | 1        | M        |  62.0    | 23       | 3        |  3       | 1        | 0        | monday   | \n",
       "| 200030   | 165426   | 14987    | 54.19308 | 1        | M        | 113.6    | 17       | 7        | 19       | 0        | 1        | friday   | \n",
       "| 200033   | 198650   | 56369    | 67.14657 | 0        | M        |  74.0    | 15       | 1        |  9       | 0        | 0        | tuesday  | \n",
       "\n",
       "\n"
      ],
      "text/plain": [
       "  icustay_id hadm_id subject_id age      echo gender weight saps sofa\n",
       "1 200003     163557  27513      48.29627 1    M       77.0  24   6   \n",
       "2 200003     163557  27513      48.29627 1    M       77.0  24   6   \n",
       "3 200003     163557  27513      48.29627 1    M       77.0  24   6   \n",
       "4 200014     127229   9514      84.73004 1    M       62.0  23   3   \n",
       "5 200030     165426  14987      54.19308 1    M      113.6  17   7   \n",
       "6 200033     198650  56369      67.14657 0    M       74.0  15   1   \n",
       "  elix_score vent vaso weekday\n",
       "1  0         1    0    friday \n",
       "2  0         1    0    friday \n",
       "3  0         1    1    friday \n",
       "4  3         1    0    monday \n",
       "5 19         0    1    friday \n",
       "6  9         0    0    tuesday"
      ]
     },
     "metadata": {},
     "output_type": "display_data"
    }
   ],
   "source": [
    "sql <- \"\n",
    "select * from basics;\n",
    "\"\n",
    "basics <- dbGetQuery(con, sql) %>%\n",
    "    mutate(weekday = case_when(\n",
    "        weekday <= 0 ~ \"sunday\",\n",
    "        weekday <= 1 ~ \"monday\",\n",
    "        weekday <= 2 ~ \"tuesday\",\n",
    "        weekday <= 3 ~ \"wednesday\",\n",
    "        weekday <= 4 ~ \"thursday\",\n",
    "        weekday <= 5 ~ \"friday\",\n",
    "        weekday <= 6 ~ \"saturday\"\n",
    "    ))\n",
    "head(basics)"
   ]
  },
  {
   "cell_type": "code",
   "execution_count": 6,
   "metadata": {},
   "outputs": [
    {
     "name": "stdout",
     "output_type": "stream",
     "text": [
      "                        Stratified by echo\n",
      "                         0             1             p      test\n",
      "  n                       3905          6004                    \n",
      "  age (mean (sd))        82.67 (64.70) 78.77 (59.13)  0.002     \n",
      "  gender = M (%)          1913 (49.0)   3223 (53.7)  <0.001     \n",
      "  weight (mean (sd))     80.00 (24.56) 83.18 (27.50) <0.001     \n",
      "  elix_score (mean (sd))  8.70 (7.54)  10.33 (7.61)  <0.001     \n",
      "  saps (mean (sd))       20.03 (5.73)  21.73 (5.45)  <0.001     \n",
      "  sofa (mean (sd))        5.69 (3.79)   7.02 (3.98)  <0.001     \n",
      "  vent = 1 (%)            2070 (53.0)   4028 (67.1)  <0.001     \n",
      "  vaso = 1 (%)            1014 (26.0)   1496 (24.9)   0.250     \n",
      "  weekday (%)                                        <0.001     \n",
      "     friday                708 (18.1)    824 (13.7)             \n",
      "     monday                494 (12.7)    866 (14.4)             \n",
      "     saturday              547 (14.0)    833 (13.9)             \n",
      "     sunday                504 (12.9)    850 (14.2)             \n",
      "     thursday              591 (15.1)    858 (14.3)             \n",
      "     tuesday               520 (13.3)    859 (14.3)             \n",
      "     wednesday             541 (13.9)    914 (15.2)             \n"
     ]
    }
   ],
   "source": [
    "tab <- CreateTableOne(vars = c(\"age\", \"gender\", \"weight\", \"elix_score\",\n",
    "                               \"saps\", \"sofa\", \"vent\", \"vaso\", \"weekday\"),\n",
    "                      strata = \"echo\",\n",
    "                      factorVars = c(\"gender\", \"vent\", \"vaso\", \"weekday\"),\n",
    "                      data = basics) %>%\n",
    "    print"
   ]
  },
  {
   "cell_type": "code",
   "execution_count": 7,
   "metadata": {},
   "outputs": [],
   "source": [
    "write.csv(tab, file.path(data_dir, \"basics_tbone.csv\"))"
   ]
  },
  {
   "cell_type": "code",
   "execution_count": 8,
   "metadata": {},
   "outputs": [
    {
     "data": {
      "text/html": [
       "TRUE"
      ],
      "text/latex": [
       "TRUE"
      ],
      "text/markdown": [
       "TRUE"
      ],
      "text/plain": [
       "[1] TRUE"
      ]
     },
     "metadata": {},
     "output_type": "display_data"
    },
    {
     "data": {
      "text/html": [
       "TRUE"
      ],
      "text/latex": [
       "TRUE"
      ],
      "text/markdown": [
       "TRUE"
      ],
      "text/plain": [
       "[1] TRUE"
      ]
     },
     "metadata": {},
     "output_type": "display_data"
    }
   ],
   "source": [
    "dbDisconnect(con)\n",
    "dbUnloadDriver(drv)"
   ]
  }
 ],
 "metadata": {
  "kernelspec": {
   "display_name": "R",
   "language": "R",
   "name": "ir"
  },
  "language_info": {
   "codemirror_mode": "r",
   "file_extension": ".r",
   "mimetype": "text/x-r-source",
   "name": "R",
   "pygments_lexer": "r",
   "version": "3.4.1"
  },
  "varInspector": {
   "cols": {
    "lenName": 16,
    "lenType": 16,
    "lenVar": 40
   },
   "kernels_config": {
    "python": {
     "delete_cmd_postfix": "",
     "delete_cmd_prefix": "del ",
     "library": "var_list.py",
     "varRefreshCmd": "print(var_dic_list())"
    },
    "r": {
     "delete_cmd_postfix": ") ",
     "delete_cmd_prefix": "rm(",
     "library": "var_list.r",
     "varRefreshCmd": "cat(var_dic_list()) "
    }
   },
   "types_to_exclude": [
    "module",
    "function",
    "builtin_function_or_method",
    "instance",
    "_Feature"
   ],
   "window_display": false
  }
 },
 "nbformat": 4,
 "nbformat_minor": 2
}
