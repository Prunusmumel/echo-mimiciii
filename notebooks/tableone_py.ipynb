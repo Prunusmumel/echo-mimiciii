{
 "cells": [
  {
   "cell_type": "code",
   "execution_count": 1,
   "metadata": {},
   "outputs": [],
   "source": [
    "import pandas as pd\n",
    "import psycopg2\n",
    "import tableone"
   ]
  },
  {
   "cell_type": "code",
   "execution_count": 2,
   "metadata": {},
   "outputs": [],
   "source": [
    "con = psycopg2.connect(dbname='mimic')\n",
    "cursor = con.cursor()"
   ]
  },
  {
   "cell_type": "code",
   "execution_count": 3,
   "metadata": {},
   "outputs": [],
   "source": [
    "cursor.execute('set search_path=echo,public,mimiciii;')"
   ]
  },
  {
   "cell_type": "code",
   "execution_count": 4,
   "metadata": {},
   "outputs": [
    {
     "data": {
      "text/html": [
       "<div>\n",
       "<style scoped>\n",
       "    .dataframe tbody tr th:only-of-type {\n",
       "        vertical-align: middle;\n",
       "    }\n",
       "\n",
       "    .dataframe tbody tr th {\n",
       "        vertical-align: top;\n",
       "    }\n",
       "\n",
       "    .dataframe thead th {\n",
       "        text-align: right;\n",
       "    }\n",
       "</style>\n",
       "<table border=\"1\" class=\"dataframe\">\n",
       "  <thead>\n",
       "    <tr style=\"text-align: right;\">\n",
       "      <th></th>\n",
       "      <th>icustay_id</th>\n",
       "      <th>hadm_id</th>\n",
       "      <th>subject_id</th>\n",
       "      <th>age</th>\n",
       "      <th>echo</th>\n",
       "      <th>gender</th>\n",
       "      <th>weight</th>\n",
       "      <th>saps</th>\n",
       "      <th>sofa</th>\n",
       "      <th>elix_score</th>\n",
       "      <th>vent</th>\n",
       "      <th>vaso</th>\n",
       "      <th>weekday</th>\n",
       "    </tr>\n",
       "  </thead>\n",
       "  <tbody>\n",
       "    <tr>\n",
       "      <th>0</th>\n",
       "      <td>200003</td>\n",
       "      <td>163557</td>\n",
       "      <td>27513</td>\n",
       "      <td>48.296271</td>\n",
       "      <td>1</td>\n",
       "      <td>M</td>\n",
       "      <td>77.0</td>\n",
       "      <td>24</td>\n",
       "      <td>6</td>\n",
       "      <td>0</td>\n",
       "      <td>1</td>\n",
       "      <td>0</td>\n",
       "      <td>5</td>\n",
       "    </tr>\n",
       "    <tr>\n",
       "      <th>1</th>\n",
       "      <td>200003</td>\n",
       "      <td>163557</td>\n",
       "      <td>27513</td>\n",
       "      <td>48.296271</td>\n",
       "      <td>1</td>\n",
       "      <td>M</td>\n",
       "      <td>77.0</td>\n",
       "      <td>24</td>\n",
       "      <td>6</td>\n",
       "      <td>0</td>\n",
       "      <td>1</td>\n",
       "      <td>0</td>\n",
       "      <td>5</td>\n",
       "    </tr>\n",
       "    <tr>\n",
       "      <th>2</th>\n",
       "      <td>200003</td>\n",
       "      <td>163557</td>\n",
       "      <td>27513</td>\n",
       "      <td>48.296271</td>\n",
       "      <td>1</td>\n",
       "      <td>M</td>\n",
       "      <td>77.0</td>\n",
       "      <td>24</td>\n",
       "      <td>6</td>\n",
       "      <td>0</td>\n",
       "      <td>1</td>\n",
       "      <td>1</td>\n",
       "      <td>5</td>\n",
       "    </tr>\n",
       "    <tr>\n",
       "      <th>3</th>\n",
       "      <td>200014</td>\n",
       "      <td>127229</td>\n",
       "      <td>9514</td>\n",
       "      <td>84.730042</td>\n",
       "      <td>1</td>\n",
       "      <td>M</td>\n",
       "      <td>62.0</td>\n",
       "      <td>23</td>\n",
       "      <td>3</td>\n",
       "      <td>3</td>\n",
       "      <td>1</td>\n",
       "      <td>0</td>\n",
       "      <td>1</td>\n",
       "    </tr>\n",
       "    <tr>\n",
       "      <th>4</th>\n",
       "      <td>200030</td>\n",
       "      <td>165426</td>\n",
       "      <td>14987</td>\n",
       "      <td>54.193080</td>\n",
       "      <td>1</td>\n",
       "      <td>M</td>\n",
       "      <td>113.6</td>\n",
       "      <td>17</td>\n",
       "      <td>7</td>\n",
       "      <td>19</td>\n",
       "      <td>0</td>\n",
       "      <td>1</td>\n",
       "      <td>5</td>\n",
       "    </tr>\n",
       "  </tbody>\n",
       "</table>\n",
       "</div>"
      ],
      "text/plain": [
       "   icustay_id  hadm_id  subject_id        age  echo gender  weight  saps  \\\n",
       "0      200003   163557       27513  48.296271     1      M    77.0    24   \n",
       "1      200003   163557       27513  48.296271     1      M    77.0    24   \n",
       "2      200003   163557       27513  48.296271     1      M    77.0    24   \n",
       "3      200014   127229        9514  84.730042     1      M    62.0    23   \n",
       "4      200030   165426       14987  54.193080     1      M   113.6    17   \n",
       "\n",
       "   sofa  elix_score  vent  vaso  weekday  \n",
       "0     6           0     1     0        5  \n",
       "1     6           0     1     0        5  \n",
       "2     6           0     1     1        5  \n",
       "3     3           3     1     0        1  \n",
       "4     7          19     0     1        5  "
      ]
     },
     "execution_count": 4,
     "metadata": {},
     "output_type": "execute_result"
    }
   ],
   "source": [
    "basics = pd.read_sql_query('select * from basics;', con)\n",
    "basics.weekday = basics.weekday.astype(int)\n",
    "basics.head()"
   ]
  },
  {
   "cell_type": "code",
   "execution_count": 5,
   "metadata": {},
   "outputs": [],
   "source": [
    "columns = ['age', 'gender', 'weight',\n",
    "           'saps', 'sofa', 'elix_score',\n",
    "           'vent', 'vaso', 'weekday']"
   ]
  },
  {
   "cell_type": "code",
   "execution_count": 6,
   "metadata": {},
   "outputs": [],
   "source": [
    "cat_cols = ['gender', 'vent', 'vaso', 'weekday']"
   ]
  },
  {
   "cell_type": "code",
   "execution_count": 7,
   "metadata": {},
   "outputs": [],
   "source": [
    "tb = tableone.TableOne(data=basics, columns=columns, groupby='echo', categorical=cat_cols)"
   ]
  },
  {
   "cell_type": "code",
   "execution_count": 8,
   "metadata": {},
   "outputs": [
    {
     "data": {
      "text/plain": [
       "Stratified by echo\n",
       "                         0              1                isnull\n",
       "-----------------------  -------------  -------------  --------\n",
       "n                        3905           6004                  0\n",
       "age (mean (std))         82.67 (64.70)  78.77 (59.13)         0\n",
       "weight (mean (std))      80.00 (24.56)  83.18 (27.50)       911\n",
       "saps (mean (std))        20.03 (5.73)   21.73 (5.45)          0\n",
       "sofa (mean (std))        5.69 (3.79)    7.02 (3.98)           0\n",
       "elix_score (mean (std))  8.70 (7.54)    10.33 (7.61)          0\n",
       "gender (n (%))                                                0\n",
       "F                        1992 (51.01)   2781 (46.32)\n",
       "M                        1913 (48.99)   3223 (53.68)\n",
       "vent (n (%))                                                  0\n",
       "0                        1835 (46.99)   1976 (32.91)\n",
       "1                        2070 (53.01)   4028 (67.09)\n",
       "vaso (n (%))                                                  0\n",
       "0                        2891 (74.03)   4508 (75.08)\n",
       "1                        1014 (25.97)   1496 (24.92)\n",
       "weekday (n (%))                                               0\n",
       "0                        504 (12.91)    850 (14.16)\n",
       "1                        494 (12.65)    866 (14.42)\n",
       "2                        520 (13.32)    859 (14.31)\n",
       "3                        541 (13.85)    914 (15.22)\n",
       "4                        591 (15.13)    858 (14.29)\n",
       "5                        708 (18.13)    824 (13.72)\n",
       "6                        547 (14.01)    833 (13.87)"
      ]
     },
     "execution_count": 8,
     "metadata": {},
     "output_type": "execute_result"
    }
   ],
   "source": [
    "tb"
   ]
  },
  {
   "cell_type": "code",
   "execution_count": 9,
   "metadata": {},
   "outputs": [],
   "source": [
    "cursor.close()\n",
    "con.close()"
   ]
  }
 ],
 "metadata": {
  "kernelspec": {
   "display_name": "Personal Py3",
   "language": "python",
   "name": "py3user"
  },
  "language_info": {
   "codemirror_mode": {
    "name": "ipython",
    "version": 3
   },
   "file_extension": ".py",
   "mimetype": "text/x-python",
   "name": "python",
   "nbconvert_exporter": "python",
   "pygments_lexer": "ipython3",
   "version": "3.5.2"
  }
 },
 "nbformat": 4,
 "nbformat_minor": 2
}
