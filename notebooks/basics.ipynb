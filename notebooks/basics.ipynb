{
 "cells": [
  {
   "cell_type": "code",
   "execution_count": 1,
   "metadata": {},
   "outputs": [
    {
     "name": "stderr",
     "output_type": "stream",
     "text": [
      "── Attaching packages ─────────────────────────────────────── tidyverse 1.2.1 ──\n",
      "✔ ggplot2 2.2.1     ✔ purrr   0.2.4\n",
      "✔ tibble  1.3.4     ✔ dplyr   0.7.4\n",
      "✔ tidyr   0.7.2     ✔ stringr 1.2.0\n",
      "✔ readr   1.1.1     ✔ forcats 0.2.0\n",
      "── Conflicts ────────────────────────────────────────── tidyverse_conflicts() ──\n",
      "✖ dplyr::filter() masks stats::filter()\n",
      "✖ dplyr::lag()    masks stats::lag()\n",
      "Loading required package: DBI\n"
     ]
    }
   ],
   "source": [
    "library(tidyverse)\n",
    "library(RPostgreSQL)"
   ]
  },
  {
   "cell_type": "code",
   "execution_count": 2,
   "metadata": {},
   "outputs": [],
   "source": [
    "source(\"utils.R\")"
   ]
  },
  {
   "cell_type": "code",
   "execution_count": 3,
   "metadata": {},
   "outputs": [
    {
     "data": {
      "text/html": [
       "<ol class=list-inline>\n",
       "\t<li>'basics.sql'</li>\n",
       "\t<li>'cohort.sql'</li>\n",
       "\t<li>'icd9.sql'</li>\n",
       "\t<li>'lab_tests.sql'</li>\n",
       "\t<li>'lab_unpivot.sql'</li>\n",
       "\t<li>'merge_data.sql'</li>\n",
       "\t<li>'population.sql'</li>\n",
       "\t<li>'vital_signs.sql'</li>\n",
       "\t<li>'vital_signs_unpivot.sql'</li>\n",
       "</ol>\n"
      ],
      "text/latex": [
       "\\begin{enumerate*}\n",
       "\\item 'basics.sql'\n",
       "\\item 'cohort.sql'\n",
       "\\item 'icd9.sql'\n",
       "\\item 'lab\\_tests.sql'\n",
       "\\item 'lab\\_unpivot.sql'\n",
       "\\item 'merge\\_data.sql'\n",
       "\\item 'population.sql'\n",
       "\\item 'vital\\_signs.sql'\n",
       "\\item 'vital\\_signs\\_unpivot.sql'\n",
       "\\end{enumerate*}\n"
      ],
      "text/markdown": [
       "1. 'basics.sql'\n",
       "2. 'cohort.sql'\n",
       "3. 'icd9.sql'\n",
       "4. 'lab_tests.sql'\n",
       "5. 'lab_unpivot.sql'\n",
       "6. 'merge_data.sql'\n",
       "7. 'population.sql'\n",
       "8. 'vital_signs.sql'\n",
       "9. 'vital_signs_unpivot.sql'\n",
       "\n",
       "\n"
      ],
      "text/plain": [
       "[1] \"basics.sql\"              \"cohort.sql\"             \n",
       "[3] \"icd9.sql\"                \"lab_tests.sql\"          \n",
       "[5] \"lab_unpivot.sql\"         \"merge_data.sql\"         \n",
       "[7] \"population.sql\"          \"vital_signs.sql\"        \n",
       "[9] \"vital_signs_unpivot.sql\""
      ]
     },
     "metadata": {},
     "output_type": "display_data"
    }
   ],
   "source": [
    "sql_dir <- file.path(\"..\", \"sql\")\n",
    "list.files(sql_dir)"
   ]
  },
  {
   "cell_type": "code",
   "execution_count": 4,
   "metadata": {},
   "outputs": [
    {
     "data": {
      "text/plain": [
       "<PostgreSQLResult>"
      ]
     },
     "metadata": {},
     "output_type": "display_data"
    }
   ],
   "source": [
    "drv <- dbDriver(\"PostgreSQL\")\n",
    "con <- dbConnect(drv, dbname = \"mimic\")\n",
    "dbSendQuery(con, \"set search_path=echo,public,mimiciii;\")"
   ]
  },
  {
   "cell_type": "code",
   "execution_count": 5,
   "metadata": {},
   "outputs": [],
   "source": [
    "sql <- readr::read_file(file.path(sql_dir, \"basics.sql\")) %>%\n",
    "    make_view_sql(\"basics\", \"materialized view\")"
   ]
  },
  {
   "cell_type": "code",
   "execution_count": 6,
   "metadata": {},
   "outputs": [
    {
     "data": {
      "text/plain": [
       "<PostgreSQLResult>"
      ]
     },
     "metadata": {},
     "output_type": "display_data"
    }
   ],
   "source": [
    "dbSendQuery(con, sql)"
   ]
  },
  {
   "cell_type": "code",
   "execution_count": 7,
   "metadata": {},
   "outputs": [
    {
     "data": {
      "text/html": [
       "<table>\n",
       "<thead><tr><th scope=col>hadm_id</th><th scope=col>icustay_id</th><th scope=col>subject_id</th><th scope=col>first_careunit</th><th scope=col>intime</th><th scope=col>outtime</th><th scope=col>angus</th><th scope=col>age</th><th scope=col>icu_order</th><th scope=col>echo_time</th><th scope=col>⋯</th><th scope=col>gender</th><th scope=col>weight</th><th scope=col>saps</th><th scope=col>sofa</th><th scope=col>elix_score</th><th scope=col>vent</th><th scope=col>vaso</th><th scope=col>weekday</th><th scope=col>mort_28_day</th><th scope=col>icu_los_day</th></tr></thead>\n",
       "<tbody>\n",
       "\t<tr><td>124271             </td><td>205951             </td><td>250                </td><td>MICU               </td><td>2188-11-12 09:25:47</td><td>2188-11-23 01:24:45</td><td>1                  </td><td>23.87840           </td><td>1                  </td><td>2188-11-12         </td><td>⋯                  </td><td>F                  </td><td>51.2               </td><td>26                 </td><td> 8                 </td><td>10                 </td><td>1                  </td><td>1                  </td><td>3                  </td><td>1                  </td><td>10.665949          </td></tr>\n",
       "\t<tr><td>190159             </td><td>221239             </td><td>252                </td><td>MICU               </td><td>2133-03-31 04:24:30</td><td>2133-04-10 20:52:09</td><td>1                  </td><td>55.06810           </td><td>1                  </td><td>2133-04-01         </td><td>⋯                  </td><td>M                  </td><td>87.0               </td><td>21                 </td><td>12                 </td><td>14                 </td><td>1                  </td><td>1                  </td><td>2                  </td><td>0                  </td><td>10.685868          </td></tr>\n",
       "\t<tr><td>110404             </td><td>280836             </td><td>268                </td><td>MICU               </td><td>2198-02-14 23:27:38</td><td>2198-02-18 05:26:11</td><td>1                  </td><td>65.98633           </td><td>1                  </td><td>NA                 </td><td>⋯                  </td><td>F                  </td><td>90.3               </td><td>28                 </td><td>10                 </td><td>15                 </td><td>1                  </td><td>0                  </td><td>3                  </td><td>1                  </td><td> 3.248993          </td></tr>\n",
       "\t<tr><td>106296             </td><td>206613             </td><td>269                </td><td>MICU               </td><td>2170-11-05 11:05:29</td><td>2170-11-08 17:46:57</td><td>1                  </td><td>40.10071           </td><td>1                  </td><td>2170-11-08         </td><td>⋯                  </td><td>M                  </td><td>69.0               </td><td>15                 </td><td> 4                 </td><td> 4                 </td><td>0                  </td><td>1                  </td><td>1                  </td><td>0                  </td><td> 3.278796          </td></tr>\n",
       "\t<tr><td>177445             </td><td>244460             </td><td>663                </td><td>MICU               </td><td>2143-12-27 20:59:00</td><td>2143-12-29 20:04:00</td><td>1                  </td><td>57.62720           </td><td>1                  </td><td>NA                 </td><td>⋯                  </td><td>F                  </td><td>  NA               </td><td>22                 </td><td>10                 </td><td> 0                 </td><td>1                  </td><td>1                  </td><td>5                  </td><td>0                  </td><td> 1.961806          </td></tr>\n",
       "\t<tr><td>166245             </td><td>231578             </td><td>668                </td><td>MICU               </td><td>2183-07-01 08:05:45</td><td>2183-07-07 17:00:02</td><td>1                  </td><td>86.86662           </td><td>1                  </td><td>2183-07-02         </td><td>⋯                  </td><td>F                  </td><td>60.0               </td><td>35                 </td><td>10                 </td><td> 3                 </td><td>1                  </td><td>1                  </td><td>2                  </td><td>1                  </td><td> 6.371030          </td></tr>\n",
       "\t<tr><td>113494             </td><td>286061             </td><td>705                </td><td>MICU               </td><td>2156-08-23 00:44:29</td><td>2156-08-26 14:22:45</td><td>1                  </td><td>68.83390           </td><td>1                  </td><td>NA                 </td><td>⋯                  </td><td>M                  </td><td>76.4               </td><td>28                 </td><td> 6                 </td><td>12                 </td><td>1                  </td><td>1                  </td><td>1                  </td><td>1                  </td><td> 3.568241          </td></tr>\n",
       "\t<tr><td>140286             </td><td>282832             </td><td>707                </td><td>MICU               </td><td>2115-02-28 21:20:46</td><td>2115-03-05 17:40:11</td><td>1                  </td><td>88.90240           </td><td>1                  </td><td>2115-03-01         </td><td>⋯                  </td><td>F                  </td><td>75.0               </td><td>27                 </td><td> 8                 </td><td>13                 </td><td>1                  </td><td>1                  </td><td>4                  </td><td>0                  </td><td> 4.846817          </td></tr>\n",
       "\t<tr><td>180826             </td><td>279467             </td><td>719                </td><td>MICU               </td><td>2171-06-18 03:30:32</td><td>2171-06-27 22:02:57</td><td>1                  </td><td>83.13980           </td><td>1                  </td><td>NA                 </td><td>⋯                  </td><td>M                  </td><td>70.0               </td><td>22                 </td><td> 4                 </td><td> 0                 </td><td>0                  </td><td>0                  </td><td>2                  </td><td>1                  </td><td> 9.772512          </td></tr>\n",
       "\t<tr><td>171046             </td><td>261862             </td><td>720                </td><td>MICU               </td><td>2160-02-15 21:45:04</td><td>2160-04-04 19:57:31</td><td>1                  </td><td>51.47794           </td><td>1                  </td><td>2160-02-25         </td><td>⋯                  </td><td>F                  </td><td>65.0               </td><td>17                 </td><td> 9                 </td><td>28                 </td><td>1                  </td><td>1                  </td><td>5                  </td><td>0                  </td><td>48.925312          </td></tr>\n",
       "</tbody>\n",
       "</table>\n"
      ],
      "text/latex": [
       "\\begin{tabular}{r|lllllllllllllllllllll}\n",
       " hadm\\_id & icustay\\_id & subject\\_id & first\\_careunit & intime & outtime & angus & age & icu\\_order & echo\\_time & ⋯ & gender & weight & saps & sofa & elix\\_score & vent & vaso & weekday & mort\\_28\\_day & icu\\_los\\_day\\\\\n",
       "\\hline\n",
       "\t 124271              & 205951              & 250                 & MICU                & 2188-11-12 09:25:47 & 2188-11-23 01:24:45 & 1                   & 23.87840            & 1                   & 2188-11-12          & ⋯                   & F                   & 51.2                & 26                  &  8                  & 10                  & 1                   & 1                   & 3                   & 1                   & 10.665949          \\\\\n",
       "\t 190159              & 221239              & 252                 & MICU                & 2133-03-31 04:24:30 & 2133-04-10 20:52:09 & 1                   & 55.06810            & 1                   & 2133-04-01          & ⋯                   & M                   & 87.0                & 21                  & 12                  & 14                  & 1                   & 1                   & 2                   & 0                   & 10.685868          \\\\\n",
       "\t 110404              & 280836              & 268                 & MICU                & 2198-02-14 23:27:38 & 2198-02-18 05:26:11 & 1                   & 65.98633            & 1                   & NA                  & ⋯                   & F                   & 90.3                & 28                  & 10                  & 15                  & 1                   & 0                   & 3                   & 1                   &  3.248993          \\\\\n",
       "\t 106296              & 206613              & 269                 & MICU                & 2170-11-05 11:05:29 & 2170-11-08 17:46:57 & 1                   & 40.10071            & 1                   & 2170-11-08          & ⋯                   & M                   & 69.0                & 15                  &  4                  &  4                  & 0                   & 1                   & 1                   & 0                   &  3.278796          \\\\\n",
       "\t 177445              & 244460              & 663                 & MICU                & 2143-12-27 20:59:00 & 2143-12-29 20:04:00 & 1                   & 57.62720            & 1                   & NA                  & ⋯                   & F                   &   NA                & 22                  & 10                  &  0                  & 1                   & 1                   & 5                   & 0                   &  1.961806          \\\\\n",
       "\t 166245              & 231578              & 668                 & MICU                & 2183-07-01 08:05:45 & 2183-07-07 17:00:02 & 1                   & 86.86662            & 1                   & 2183-07-02          & ⋯                   & F                   & 60.0                & 35                  & 10                  &  3                  & 1                   & 1                   & 2                   & 1                   &  6.371030          \\\\\n",
       "\t 113494              & 286061              & 705                 & MICU                & 2156-08-23 00:44:29 & 2156-08-26 14:22:45 & 1                   & 68.83390            & 1                   & NA                  & ⋯                   & M                   & 76.4                & 28                  &  6                  & 12                  & 1                   & 1                   & 1                   & 1                   &  3.568241          \\\\\n",
       "\t 140286              & 282832              & 707                 & MICU                & 2115-02-28 21:20:46 & 2115-03-05 17:40:11 & 1                   & 88.90240            & 1                   & 2115-03-01          & ⋯                   & F                   & 75.0                & 27                  &  8                  & 13                  & 1                   & 1                   & 4                   & 0                   &  4.846817          \\\\\n",
       "\t 180826              & 279467              & 719                 & MICU                & 2171-06-18 03:30:32 & 2171-06-27 22:02:57 & 1                   & 83.13980            & 1                   & NA                  & ⋯                   & M                   & 70.0                & 22                  &  4                  &  0                  & 0                   & 0                   & 2                   & 1                   &  9.772512          \\\\\n",
       "\t 171046              & 261862              & 720                 & MICU                & 2160-02-15 21:45:04 & 2160-04-04 19:57:31 & 1                   & 51.47794            & 1                   & 2160-02-25          & ⋯                   & F                   & 65.0                & 17                  &  9                  & 28                  & 1                   & 1                   & 5                   & 0                   & 48.925312          \\\\\n",
       "\\end{tabular}\n"
      ],
      "text/markdown": [
       "\n",
       "hadm_id | icustay_id | subject_id | first_careunit | intime | outtime | angus | age | icu_order | echo_time | ⋯ | gender | weight | saps | sofa | elix_score | vent | vaso | weekday | mort_28_day | icu_los_day | \n",
       "|---|---|---|---|---|---|---|---|---|---|\n",
       "| 124271              | 205951              | 250                 | MICU                | 2188-11-12 09:25:47 | 2188-11-23 01:24:45 | 1                   | 23.87840            | 1                   | 2188-11-12          | ⋯                   | F                   | 51.2                | 26                  |  8                  | 10                  | 1                   | 1                   | 3                   | 1                   | 10.665949           | \n",
       "| 190159              | 221239              | 252                 | MICU                | 2133-03-31 04:24:30 | 2133-04-10 20:52:09 | 1                   | 55.06810            | 1                   | 2133-04-01          | ⋯                   | M                   | 87.0                | 21                  | 12                  | 14                  | 1                   | 1                   | 2                   | 0                   | 10.685868           | \n",
       "| 110404              | 280836              | 268                 | MICU                | 2198-02-14 23:27:38 | 2198-02-18 05:26:11 | 1                   | 65.98633            | 1                   | NA                  | ⋯                   | F                   | 90.3                | 28                  | 10                  | 15                  | 1                   | 0                   | 3                   | 1                   |  3.248993           | \n",
       "| 106296              | 206613              | 269                 | MICU                | 2170-11-05 11:05:29 | 2170-11-08 17:46:57 | 1                   | 40.10071            | 1                   | 2170-11-08          | ⋯                   | M                   | 69.0                | 15                  |  4                  |  4                  | 0                   | 1                   | 1                   | 0                   |  3.278796           | \n",
       "| 177445              | 244460              | 663                 | MICU                | 2143-12-27 20:59:00 | 2143-12-29 20:04:00 | 1                   | 57.62720            | 1                   | NA                  | ⋯                   | F                   |   NA                | 22                  | 10                  |  0                  | 1                   | 1                   | 5                   | 0                   |  1.961806           | \n",
       "| 166245              | 231578              | 668                 | MICU                | 2183-07-01 08:05:45 | 2183-07-07 17:00:02 | 1                   | 86.86662            | 1                   | 2183-07-02          | ⋯                   | F                   | 60.0                | 35                  | 10                  |  3                  | 1                   | 1                   | 2                   | 1                   |  6.371030           | \n",
       "| 113494              | 286061              | 705                 | MICU                | 2156-08-23 00:44:29 | 2156-08-26 14:22:45 | 1                   | 68.83390            | 1                   | NA                  | ⋯                   | M                   | 76.4                | 28                  |  6                  | 12                  | 1                   | 1                   | 1                   | 1                   |  3.568241           | \n",
       "| 140286              | 282832              | 707                 | MICU                | 2115-02-28 21:20:46 | 2115-03-05 17:40:11 | 1                   | 88.90240            | 1                   | 2115-03-01          | ⋯                   | F                   | 75.0                | 27                  |  8                  | 13                  | 1                   | 1                   | 4                   | 0                   |  4.846817           | \n",
       "| 180826              | 279467              | 719                 | MICU                | 2171-06-18 03:30:32 | 2171-06-27 22:02:57 | 1                   | 83.13980            | 1                   | NA                  | ⋯                   | M                   | 70.0                | 22                  |  4                  |  0                  | 0                   | 0                   | 2                   | 1                   |  9.772512           | \n",
       "| 171046              | 261862              | 720                 | MICU                | 2160-02-15 21:45:04 | 2160-04-04 19:57:31 | 1                   | 51.47794            | 1                   | 2160-02-25          | ⋯                   | F                   | 65.0                | 17                  |  9                  | 28                  | 1                   | 1                   | 5                   | 0                   | 48.925312           | \n",
       "\n",
       "\n"
      ],
      "text/plain": [
       "   hadm_id icustay_id subject_id first_careunit intime             \n",
       "1  124271  205951     250        MICU           2188-11-12 09:25:47\n",
       "2  190159  221239     252        MICU           2133-03-31 04:24:30\n",
       "3  110404  280836     268        MICU           2198-02-14 23:27:38\n",
       "4  106296  206613     269        MICU           2170-11-05 11:05:29\n",
       "5  177445  244460     663        MICU           2143-12-27 20:59:00\n",
       "6  166245  231578     668        MICU           2183-07-01 08:05:45\n",
       "7  113494  286061     705        MICU           2156-08-23 00:44:29\n",
       "8  140286  282832     707        MICU           2115-02-28 21:20:46\n",
       "9  180826  279467     719        MICU           2171-06-18 03:30:32\n",
       "10 171046  261862     720        MICU           2160-02-15 21:45:04\n",
       "   outtime             angus age      icu_order echo_time  ⋯ gender weight saps\n",
       "1  2188-11-23 01:24:45 1     23.87840 1         2188-11-12 ⋯ F      51.2   26  \n",
       "2  2133-04-10 20:52:09 1     55.06810 1         2133-04-01 ⋯ M      87.0   21  \n",
       "3  2198-02-18 05:26:11 1     65.98633 1         <NA>       ⋯ F      90.3   28  \n",
       "4  2170-11-08 17:46:57 1     40.10071 1         2170-11-08 ⋯ M      69.0   15  \n",
       "5  2143-12-29 20:04:00 1     57.62720 1         <NA>       ⋯ F        NA   22  \n",
       "6  2183-07-07 17:00:02 1     86.86662 1         2183-07-02 ⋯ F      60.0   35  \n",
       "7  2156-08-26 14:22:45 1     68.83390 1         <NA>       ⋯ M      76.4   28  \n",
       "8  2115-03-05 17:40:11 1     88.90240 1         2115-03-01 ⋯ F      75.0   27  \n",
       "9  2171-06-27 22:02:57 1     83.13980 1         <NA>       ⋯ M      70.0   22  \n",
       "10 2160-04-04 19:57:31 1     51.47794 1         2160-02-25 ⋯ F      65.0   17  \n",
       "   sofa elix_score vent vaso weekday mort_28_day icu_los_day\n",
       "1   8   10         1    1    3       1           10.665949  \n",
       "2  12   14         1    1    2       0           10.685868  \n",
       "3  10   15         1    0    3       1            3.248993  \n",
       "4   4    4         0    1    1       0            3.278796  \n",
       "5  10    0         1    1    5       0            1.961806  \n",
       "6  10    3         1    1    2       1            6.371030  \n",
       "7   6   12         1    1    1       1            3.568241  \n",
       "8   8   13         1    1    4       0            4.846817  \n",
       "9   4    0         0    0    2       1            9.772512  \n",
       "10  9   28         1    1    5       0           48.925312  "
      ]
     },
     "metadata": {},
     "output_type": "display_data"
    }
   ],
   "source": [
    "sql <- \"\n",
    "select * from basics limit 10;\n",
    "\"\n",
    "dbGetQuery(con, sql)"
   ]
  },
  {
   "cell_type": "code",
   "execution_count": 8,
   "metadata": {},
   "outputs": [
    {
     "data": {
      "text/html": [
       "TRUE"
      ],
      "text/latex": [
       "TRUE"
      ],
      "text/markdown": [
       "TRUE"
      ],
      "text/plain": [
       "[1] TRUE"
      ]
     },
     "metadata": {},
     "output_type": "display_data"
    },
    {
     "data": {
      "text/html": [
       "TRUE"
      ],
      "text/latex": [
       "TRUE"
      ],
      "text/markdown": [
       "TRUE"
      ],
      "text/plain": [
       "[1] TRUE"
      ]
     },
     "metadata": {},
     "output_type": "display_data"
    }
   ],
   "source": [
    "dbDisconnect(con)\n",
    "dbUnloadDriver(drv)"
   ]
  }
 ],
 "metadata": {
  "kernelspec": {
   "display_name": "R",
   "language": "R",
   "name": "ir"
  },
  "language_info": {
   "codemirror_mode": "r",
   "file_extension": ".r",
   "mimetype": "text/x-r-source",
   "name": "R",
   "pygments_lexer": "r",
   "version": "3.4.1"
  },
  "varInspector": {
   "cols": {
    "lenName": 16,
    "lenType": 16,
    "lenVar": 40
   },
   "kernels_config": {
    "python": {
     "delete_cmd_postfix": "",
     "delete_cmd_prefix": "del ",
     "library": "var_list.py",
     "varRefreshCmd": "print(var_dic_list())"
    },
    "r": {
     "delete_cmd_postfix": ") ",
     "delete_cmd_prefix": "rm(",
     "library": "var_list.r",
     "varRefreshCmd": "cat(var_dic_list()) "
    }
   },
   "types_to_exclude": [
    "module",
    "function",
    "builtin_function_or_method",
    "instance",
    "_Feature"
   ],
   "window_display": false
  }
 },
 "nbformat": 4,
 "nbformat_minor": 2
}
