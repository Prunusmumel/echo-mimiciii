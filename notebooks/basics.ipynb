{
 "cells": [
  {
   "cell_type": "code",
   "execution_count": 1,
   "metadata": {},
   "outputs": [
    {
     "name": "stderr",
     "output_type": "stream",
     "text": [
      "Loading tidyverse: ggplot2\n",
      "Loading tidyverse: tibble\n",
      "Loading tidyverse: tidyr\n",
      "Loading tidyverse: readr\n",
      "Loading tidyverse: purrr\n",
      "Loading tidyverse: dplyr\n",
      "Conflicts with tidy packages ---------------------------------------------------\n",
      "filter(): dplyr, stats\n",
      "lag():    dplyr, stats\n",
      "Loading required package: DBI\n"
     ]
    }
   ],
   "source": [
    "library(tidyverse)\n",
    "library(RPostgreSQL)"
   ]
  },
  {
   "cell_type": "code",
   "execution_count": 2,
   "metadata": {},
   "outputs": [],
   "source": [
    "source(\"utils.R\")"
   ]
  },
  {
   "cell_type": "code",
   "execution_count": 3,
   "metadata": {},
   "outputs": [
    {
     "data": {
      "text/html": [
       "<ol class=list-inline>\n",
       "\t<li>'basics.sql'</li>\n",
       "\t<li>'cohort.sql'</li>\n",
       "\t<li>'data.sql'</li>\n",
       "\t<li>'lab_tests.sql'</li>\n",
       "\t<li>'population.sql'</li>\n",
       "\t<li>'vital_signs.sql'</li>\n",
       "</ol>\n"
      ],
      "text/latex": [
       "\\begin{enumerate*}\n",
       "\\item 'basics.sql'\n",
       "\\item 'cohort.sql'\n",
       "\\item 'data.sql'\n",
       "\\item 'lab\\_tests.sql'\n",
       "\\item 'population.sql'\n",
       "\\item 'vital\\_signs.sql'\n",
       "\\end{enumerate*}\n"
      ],
      "text/markdown": [
       "1. 'basics.sql'\n",
       "2. 'cohort.sql'\n",
       "3. 'data.sql'\n",
       "4. 'lab_tests.sql'\n",
       "5. 'population.sql'\n",
       "6. 'vital_signs.sql'\n",
       "\n",
       "\n"
      ],
      "text/plain": [
       "[1] \"basics.sql\"      \"cohort.sql\"      \"data.sql\"        \"lab_tests.sql\"  \n",
       "[5] \"population.sql\"  \"vital_signs.sql\""
      ]
     },
     "metadata": {},
     "output_type": "display_data"
    }
   ],
   "source": [
    "sql_dir <- file.path(\"..\", \"SQL\")\n",
    "list.files(sql_dir)"
   ]
  },
  {
   "cell_type": "code",
   "execution_count": 4,
   "metadata": {},
   "outputs": [
    {
     "data": {
      "text/plain": [
       "<PostgreSQLResult>"
      ]
     },
     "metadata": {},
     "output_type": "display_data"
    }
   ],
   "source": [
    "drv <- dbDriver(\"PostgreSQL\")\n",
    "con <- dbConnect(drv, dbname = \"mimic\", user = \"lcp_db_user\")\n",
    "dbSendQuery(con, \"set search_path=echo,public,mimiciii;\")"
   ]
  },
  {
   "cell_type": "code",
   "execution_count": 5,
   "metadata": {},
   "outputs": [],
   "source": [
    "sql <- readr::read_file(file.path(sql_dir, \"basics.sql\")) %>%\n",
    "    make_view_sql(\"basics\", \"materialized view\")"
   ]
  },
  {
   "cell_type": "code",
   "execution_count": 6,
   "metadata": {},
   "outputs": [
    {
     "data": {
      "text/plain": [
       "<PostgreSQLResult>"
      ]
     },
     "metadata": {},
     "output_type": "display_data"
    }
   ],
   "source": [
    "dbSendQuery(con, sql)"
   ]
  },
  {
   "cell_type": "code",
   "execution_count": 7,
   "metadata": {},
   "outputs": [
    {
     "data": {
      "text/html": [
       "<table>\n",
       "<thead><tr><th scope=col>icustay_id</th><th scope=col>hadm_id</th><th scope=col>subject_id</th><th scope=col>age</th><th scope=col>echo</th><th scope=col>gender</th><th scope=col>weight</th><th scope=col>saps</th><th scope=col>sofa</th><th scope=col>elix_score</th><th scope=col>vent</th><th scope=col>vaso</th><th scope=col>weekday</th></tr></thead>\n",
       "<tbody>\n",
       "\t<tr><td>200003  </td><td>163557  </td><td>27513   </td><td>48.29627</td><td>1       </td><td>M       </td><td> 77.0   </td><td>24      </td><td>6       </td><td> 0      </td><td>1       </td><td>0       </td><td>5       </td></tr>\n",
       "\t<tr><td>200003  </td><td>163557  </td><td>27513   </td><td>48.29627</td><td>1       </td><td>M       </td><td> 77.0   </td><td>24      </td><td>6       </td><td> 0      </td><td>1       </td><td>0       </td><td>5       </td></tr>\n",
       "\t<tr><td>200003  </td><td>163557  </td><td>27513   </td><td>48.29627</td><td>1       </td><td>M       </td><td> 77.0   </td><td>24      </td><td>6       </td><td> 0      </td><td>1       </td><td>1       </td><td>5       </td></tr>\n",
       "\t<tr><td>200014  </td><td>127229  </td><td> 9514   </td><td>84.73004</td><td>1       </td><td>M       </td><td> 62.0   </td><td>23      </td><td>3       </td><td> 3      </td><td>1       </td><td>0       </td><td>1       </td></tr>\n",
       "\t<tr><td>200030  </td><td>165426  </td><td>14987   </td><td>54.19308</td><td>1       </td><td>M       </td><td>113.6   </td><td>17      </td><td>7       </td><td>19      </td><td>0       </td><td>1       </td><td>5       </td></tr>\n",
       "\t<tr><td>200033  </td><td>198650  </td><td>56369   </td><td>67.14657</td><td>0       </td><td>M       </td><td> 74.0   </td><td>15      </td><td>1       </td><td> 9      </td><td>0       </td><td>0       </td><td>2       </td></tr>\n",
       "\t<tr><td>200033  </td><td>198650  </td><td>56369   </td><td>67.14657</td><td>0       </td><td>M       </td><td> 74.0   </td><td>15      </td><td>1       </td><td> 9      </td><td>0       </td><td>0       </td><td>2       </td></tr>\n",
       "\t<tr><td>200033  </td><td>198650  </td><td>56369   </td><td>67.14657</td><td>0       </td><td>M       </td><td> 74.0   </td><td>15      </td><td>1       </td><td> 9      </td><td>0       </td><td>0       </td><td>2       </td></tr>\n",
       "\t<tr><td>200033  </td><td>198650  </td><td>56369   </td><td>67.14657</td><td>0       </td><td>M       </td><td> 74.0   </td><td>15      </td><td>1       </td><td> 9      </td><td>0       </td><td>0       </td><td>2       </td></tr>\n",
       "\t<tr><td>200033  </td><td>198650  </td><td>56369   </td><td>67.14657</td><td>0       </td><td>M       </td><td> 74.0   </td><td>15      </td><td>1       </td><td> 9      </td><td>0       </td><td>0       </td><td>2       </td></tr>\n",
       "</tbody>\n",
       "</table>\n"
      ],
      "text/latex": [
       "\\begin{tabular}{r|lllllllllllll}\n",
       " icustay\\_id & hadm\\_id & subject\\_id & age & echo & gender & weight & saps & sofa & elix\\_score & vent & vaso & weekday\\\\\n",
       "\\hline\n",
       "\t 200003   & 163557   & 27513    & 48.29627 & 1        & M        &  77.0    & 24       & 6        &  0       & 1        & 0        & 5       \\\\\n",
       "\t 200003   & 163557   & 27513    & 48.29627 & 1        & M        &  77.0    & 24       & 6        &  0       & 1        & 0        & 5       \\\\\n",
       "\t 200003   & 163557   & 27513    & 48.29627 & 1        & M        &  77.0    & 24       & 6        &  0       & 1        & 1        & 5       \\\\\n",
       "\t 200014   & 127229   &  9514    & 84.73004 & 1        & M        &  62.0    & 23       & 3        &  3       & 1        & 0        & 1       \\\\\n",
       "\t 200030   & 165426   & 14987    & 54.19308 & 1        & M        & 113.6    & 17       & 7        & 19       & 0        & 1        & 5       \\\\\n",
       "\t 200033   & 198650   & 56369    & 67.14657 & 0        & M        &  74.0    & 15       & 1        &  9       & 0        & 0        & 2       \\\\\n",
       "\t 200033   & 198650   & 56369    & 67.14657 & 0        & M        &  74.0    & 15       & 1        &  9       & 0        & 0        & 2       \\\\\n",
       "\t 200033   & 198650   & 56369    & 67.14657 & 0        & M        &  74.0    & 15       & 1        &  9       & 0        & 0        & 2       \\\\\n",
       "\t 200033   & 198650   & 56369    & 67.14657 & 0        & M        &  74.0    & 15       & 1        &  9       & 0        & 0        & 2       \\\\\n",
       "\t 200033   & 198650   & 56369    & 67.14657 & 0        & M        &  74.0    & 15       & 1        &  9       & 0        & 0        & 2       \\\\\n",
       "\\end{tabular}\n"
      ],
      "text/markdown": [
       "\n",
       "icustay_id | hadm_id | subject_id | age | echo | gender | weight | saps | sofa | elix_score | vent | vaso | weekday | \n",
       "|---|---|---|---|---|---|---|---|---|---|\n",
       "| 200003   | 163557   | 27513    | 48.29627 | 1        | M        |  77.0    | 24       | 6        |  0       | 1        | 0        | 5        | \n",
       "| 200003   | 163557   | 27513    | 48.29627 | 1        | M        |  77.0    | 24       | 6        |  0       | 1        | 0        | 5        | \n",
       "| 200003   | 163557   | 27513    | 48.29627 | 1        | M        |  77.0    | 24       | 6        |  0       | 1        | 1        | 5        | \n",
       "| 200014   | 127229   |  9514    | 84.73004 | 1        | M        |  62.0    | 23       | 3        |  3       | 1        | 0        | 1        | \n",
       "| 200030   | 165426   | 14987    | 54.19308 | 1        | M        | 113.6    | 17       | 7        | 19       | 0        | 1        | 5        | \n",
       "| 200033   | 198650   | 56369    | 67.14657 | 0        | M        |  74.0    | 15       | 1        |  9       | 0        | 0        | 2        | \n",
       "| 200033   | 198650   | 56369    | 67.14657 | 0        | M        |  74.0    | 15       | 1        |  9       | 0        | 0        | 2        | \n",
       "| 200033   | 198650   | 56369    | 67.14657 | 0        | M        |  74.0    | 15       | 1        |  9       | 0        | 0        | 2        | \n",
       "| 200033   | 198650   | 56369    | 67.14657 | 0        | M        |  74.0    | 15       | 1        |  9       | 0        | 0        | 2        | \n",
       "| 200033   | 198650   | 56369    | 67.14657 | 0        | M        |  74.0    | 15       | 1        |  9       | 0        | 0        | 2        | \n",
       "\n",
       "\n"
      ],
      "text/plain": [
       "   icustay_id hadm_id subject_id age      echo gender weight saps sofa\n",
       "1  200003     163557  27513      48.29627 1    M       77.0  24   6   \n",
       "2  200003     163557  27513      48.29627 1    M       77.0  24   6   \n",
       "3  200003     163557  27513      48.29627 1    M       77.0  24   6   \n",
       "4  200014     127229   9514      84.73004 1    M       62.0  23   3   \n",
       "5  200030     165426  14987      54.19308 1    M      113.6  17   7   \n",
       "6  200033     198650  56369      67.14657 0    M       74.0  15   1   \n",
       "7  200033     198650  56369      67.14657 0    M       74.0  15   1   \n",
       "8  200033     198650  56369      67.14657 0    M       74.0  15   1   \n",
       "9  200033     198650  56369      67.14657 0    M       74.0  15   1   \n",
       "10 200033     198650  56369      67.14657 0    M       74.0  15   1   \n",
       "   elix_score vent vaso weekday\n",
       "1   0         1    0    5      \n",
       "2   0         1    0    5      \n",
       "3   0         1    1    5      \n",
       "4   3         1    0    1      \n",
       "5  19         0    1    5      \n",
       "6   9         0    0    2      \n",
       "7   9         0    0    2      \n",
       "8   9         0    0    2      \n",
       "9   9         0    0    2      \n",
       "10  9         0    0    2      "
      ]
     },
     "metadata": {},
     "output_type": "display_data"
    }
   ],
   "source": [
    "sql <- \"\n",
    "select * from basics limit 10;\n",
    "\"\n",
    "dbGetQuery(con, sql)"
   ]
  },
  {
   "cell_type": "code",
   "execution_count": 8,
   "metadata": {},
   "outputs": [
    {
     "data": {
      "text/html": [
       "TRUE"
      ],
      "text/latex": [
       "TRUE"
      ],
      "text/markdown": [
       "TRUE"
      ],
      "text/plain": [
       "[1] TRUE"
      ]
     },
     "metadata": {},
     "output_type": "display_data"
    },
    {
     "data": {
      "text/html": [
       "TRUE"
      ],
      "text/latex": [
       "TRUE"
      ],
      "text/markdown": [
       "TRUE"
      ],
      "text/plain": [
       "[1] TRUE"
      ]
     },
     "metadata": {},
     "output_type": "display_data"
    }
   ],
   "source": [
    "dbDisconnect(con)\n",
    "dbUnloadDriver(drv)"
   ]
  }
 ],
 "metadata": {
  "kernelspec": {
   "display_name": "R",
   "language": "R",
   "name": "ir"
  },
  "language_info": {
   "codemirror_mode": "r",
   "file_extension": ".r",
   "mimetype": "text/x-r-source",
   "name": "R",
   "pygments_lexer": "r",
   "version": "3.4.2"
  },
  "varInspector": {
   "cols": {
    "lenName": 16,
    "lenType": 16,
    "lenVar": 40
   },
   "kernels_config": {
    "python": {
     "delete_cmd_postfix": "",
     "delete_cmd_prefix": "del ",
     "library": "var_list.py",
     "varRefreshCmd": "print(var_dic_list())"
    },
    "r": {
     "delete_cmd_postfix": ") ",
     "delete_cmd_prefix": "rm(",
     "library": "var_list.r",
     "varRefreshCmd": "cat(var_dic_list()) "
    }
   },
   "types_to_exclude": [
    "module",
    "function",
    "builtin_function_or_method",
    "instance",
    "_Feature"
   ],
   "window_display": false
  }
 },
 "nbformat": 4,
 "nbformat_minor": 2
}
