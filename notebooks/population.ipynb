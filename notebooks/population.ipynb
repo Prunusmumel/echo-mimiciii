{
 "cells": [
  {
   "cell_type": "code",
   "execution_count": 1,
   "metadata": {},
   "outputs": [
    {
     "name": "stderr",
     "output_type": "stream",
     "text": [
      "Loading tidyverse: ggplot2\n",
      "Loading tidyverse: tibble\n",
      "Loading tidyverse: tidyr\n",
      "Loading tidyverse: readr\n",
      "Loading tidyverse: purrr\n",
      "Loading tidyverse: dplyr\n",
      "Conflicts with tidy packages ---------------------------------------------------\n",
      "filter(): dplyr, stats\n",
      "lag():    dplyr, stats\n",
      "Loading required package: DBI\n"
     ]
    }
   ],
   "source": [
    "library(tidyverse)\n",
    "library(RPostgreSQL)"
   ]
  },
  {
   "cell_type": "code",
   "execution_count": 2,
   "metadata": {},
   "outputs": [],
   "source": [
    "source(\"utils.R\")"
   ]
  },
  {
   "cell_type": "code",
   "execution_count": 3,
   "metadata": {},
   "outputs": [
    {
     "data": {
      "text/html": [
       "<ol class=list-inline>\n",
       "\t<li>'cohort.sql'</li>\n",
       "\t<li>'data.sql'</li>\n",
       "\t<li>'population.sql'</li>\n",
       "</ol>\n"
      ],
      "text/latex": [
       "\\begin{enumerate*}\n",
       "\\item 'cohort.sql'\n",
       "\\item 'data.sql'\n",
       "\\item 'population.sql'\n",
       "\\end{enumerate*}\n"
      ],
      "text/markdown": [
       "1. 'cohort.sql'\n",
       "2. 'data.sql'\n",
       "3. 'population.sql'\n",
       "\n",
       "\n"
      ],
      "text/plain": [
       "[1] \"cohort.sql\"     \"data.sql\"       \"population.sql\""
      ]
     },
     "metadata": {},
     "output_type": "display_data"
    }
   ],
   "source": [
    "sql_dir <- file.path(\"..\", \"SQL\")\n",
    "list.files(sql_dir)"
   ]
  },
  {
   "cell_type": "code",
   "execution_count": 4,
   "metadata": {},
   "outputs": [
    {
     "data": {
      "text/plain": [
       "<PostgreSQLResult>"
      ]
     },
     "metadata": {},
     "output_type": "display_data"
    }
   ],
   "source": [
    "drv <- dbDriver(\"PostgreSQL\")\n",
    "con <- dbConnect(drv, dbname = \"mimic\", user = \"lcp_db_user\")\n",
    "dbSendQuery(con, \"set search_path=echo,public,mimiciii;\")"
   ]
  },
  {
   "cell_type": "code",
   "execution_count": 5,
   "metadata": {},
   "outputs": [
    {
     "data": {
      "text/html": [
       "<ol class=list-inline>\n",
       "\t<li>'callout'</li>\n",
       "\t<li>'chartevents_10'</li>\n",
       "\t<li>'d_icd_procedures'</li>\n",
       "\t<li>'d_items'</li>\n",
       "\t<li>'d_labitems'</li>\n",
       "\t<li>'labevents'</li>\n",
       "</ol>\n"
      ],
      "text/latex": [
       "\\begin{enumerate*}\n",
       "\\item 'callout'\n",
       "\\item 'chartevents\\_10'\n",
       "\\item 'd\\_icd\\_procedures'\n",
       "\\item 'd\\_items'\n",
       "\\item 'd\\_labitems'\n",
       "\\item 'labevents'\n",
       "\\end{enumerate*}\n"
      ],
      "text/markdown": [
       "1. 'callout'\n",
       "2. 'chartevents_10'\n",
       "3. 'd_icd_procedures'\n",
       "4. 'd_items'\n",
       "5. 'd_labitems'\n",
       "6. 'labevents'\n",
       "\n",
       "\n"
      ],
      "text/plain": [
       "[1] \"callout\"          \"chartevents_10\"   \"d_icd_procedures\" \"d_items\"         \n",
       "[5] \"d_labitems\"       \"labevents\"       "
      ]
     },
     "metadata": {},
     "output_type": "display_data"
    }
   ],
   "source": [
    "dbListTables(con) %>% head"
   ]
  },
  {
   "cell_type": "code",
   "execution_count": 6,
   "metadata": {},
   "outputs": [],
   "source": [
    "sql <- readr::read_file(file.path(sql_dir, \"population.sql\")) %>%\n",
    "    make_view_sql(\"population\", \"view\")"
   ]
  },
  {
   "cell_type": "code",
   "execution_count": 7,
   "metadata": {},
   "outputs": [
    {
     "data": {
      "text/plain": [
       "<PostgreSQLResult>"
      ]
     },
     "metadata": {},
     "output_type": "display_data"
    }
   ],
   "source": [
    "dbSendQuery(con, sql)"
   ]
  },
  {
   "cell_type": "code",
   "execution_count": 8,
   "metadata": {},
   "outputs": [
    {
     "data": {
      "text/html": [
       "<table>\n",
       "<thead><tr><th scope=col>icustay_id</th><th scope=col>first_careunit</th><th scope=col>intime</th><th scope=col>outtime</th><th scope=col>angus</th><th scope=col>age</th><th scope=col>icu_order</th><th scope=col>echo_time</th></tr></thead>\n",
       "<tbody>\n",
       "\t<tr><td>200001             </td><td>MICU               </td><td>2181-11-25 19:06:12</td><td>2181-11-28 20:59:25</td><td>0                  </td><td>61.07128           </td><td> 6                 </td><td>NA                 </td></tr>\n",
       "\t<tr><td>200003             </td><td>SICU               </td><td>2199-08-02 19:50:04</td><td>2199-08-08 17:09:18</td><td>1                  </td><td>48.29627           </td><td> 1                 </td><td>2199-08-03         </td></tr>\n",
       "\t<tr><td>200006             </td><td>MICU               </td><td>2159-09-03 11:28:14</td><td>2159-09-04 19:08:10</td><td>0                  </td><td>54.07231           </td><td> 3                 </td><td>NA                 </td></tr>\n",
       "\t<tr><td>200007             </td><td>CCU                </td><td>2109-02-17 10:03:37</td><td>2109-02-18 17:03:12</td><td>0                  </td><td>43.34501           </td><td> 1                 </td><td>2109-02-19         </td></tr>\n",
       "\t<tr><td>200009             </td><td>CSRU               </td><td>2189-11-30 10:34:32</td><td>2189-12-02 14:17:37</td><td>0                  </td><td>47.55598           </td><td> 1                 </td><td>2189-12-01         </td></tr>\n",
       "\t<tr><td>200010             </td><td>MICU               </td><td>2132-08-04 23:03:19</td><td>2132-08-05 22:14:11</td><td>0                  </td><td>27.25306           </td><td>33                 </td><td>NA                 </td></tr>\n",
       "\t<tr><td>200011             </td><td>MICU               </td><td>2188-08-06 01:39:24</td><td>2188-08-07 16:50:53</td><td>0                  </td><td>84.23475           </td><td> 3                 </td><td>NA                 </td></tr>\n",
       "\t<tr><td>200012             </td><td>MICU               </td><td>2153-12-23 05:12:55</td><td>2153-12-23 15:55:54</td><td>0                  </td><td>32.98968           </td><td> 1                 </td><td>NA                 </td></tr>\n",
       "\t<tr><td>200014             </td><td>SICU               </td><td>2105-02-16 23:16:48</td><td>2105-02-18 16:53:29</td><td>1                  </td><td>84.73004           </td><td> 1                 </td><td>2105-02-18         </td></tr>\n",
       "\t<tr><td>200016             </td><td>SICU               </td><td>2150-12-02 15:59:20</td><td>2150-12-03 14:54:29</td><td>0                  </td><td>67.23670           </td><td> 2                 </td><td>NA                 </td></tr>\n",
       "</tbody>\n",
       "</table>\n"
      ],
      "text/latex": [
       "\\begin{tabular}{r|llllllll}\n",
       " icustay\\_id & first\\_careunit & intime & outtime & angus & age & icu\\_order & echo\\_time\\\\\n",
       "\\hline\n",
       "\t 200001              & MICU                & 2181-11-25 19:06:12 & 2181-11-28 20:59:25 & 0                   & 61.07128            &  6                  & NA                 \\\\\n",
       "\t 200003              & SICU                & 2199-08-02 19:50:04 & 2199-08-08 17:09:18 & 1                   & 48.29627            &  1                  & 2199-08-03         \\\\\n",
       "\t 200006              & MICU                & 2159-09-03 11:28:14 & 2159-09-04 19:08:10 & 0                   & 54.07231            &  3                  & NA                 \\\\\n",
       "\t 200007              & CCU                 & 2109-02-17 10:03:37 & 2109-02-18 17:03:12 & 0                   & 43.34501            &  1                  & 2109-02-19         \\\\\n",
       "\t 200009              & CSRU                & 2189-11-30 10:34:32 & 2189-12-02 14:17:37 & 0                   & 47.55598            &  1                  & 2189-12-01         \\\\\n",
       "\t 200010              & MICU                & 2132-08-04 23:03:19 & 2132-08-05 22:14:11 & 0                   & 27.25306            & 33                  & NA                 \\\\\n",
       "\t 200011              & MICU                & 2188-08-06 01:39:24 & 2188-08-07 16:50:53 & 0                   & 84.23475            &  3                  & NA                 \\\\\n",
       "\t 200012              & MICU                & 2153-12-23 05:12:55 & 2153-12-23 15:55:54 & 0                   & 32.98968            &  1                  & NA                 \\\\\n",
       "\t 200014              & SICU                & 2105-02-16 23:16:48 & 2105-02-18 16:53:29 & 1                   & 84.73004            &  1                  & 2105-02-18         \\\\\n",
       "\t 200016              & SICU                & 2150-12-02 15:59:20 & 2150-12-03 14:54:29 & 0                   & 67.23670            &  2                  & NA                 \\\\\n",
       "\\end{tabular}\n"
      ],
      "text/markdown": [
       "\n",
       "icustay_id | first_careunit | intime | outtime | angus | age | icu_order | echo_time | \n",
       "|---|---|---|---|---|---|---|---|---|---|\n",
       "| 200001              | MICU                | 2181-11-25 19:06:12 | 2181-11-28 20:59:25 | 0                   | 61.07128            |  6                  | NA                  | \n",
       "| 200003              | SICU                | 2199-08-02 19:50:04 | 2199-08-08 17:09:18 | 1                   | 48.29627            |  1                  | 2199-08-03          | \n",
       "| 200006              | MICU                | 2159-09-03 11:28:14 | 2159-09-04 19:08:10 | 0                   | 54.07231            |  3                  | NA                  | \n",
       "| 200007              | CCU                 | 2109-02-17 10:03:37 | 2109-02-18 17:03:12 | 0                   | 43.34501            |  1                  | 2109-02-19          | \n",
       "| 200009              | CSRU                | 2189-11-30 10:34:32 | 2189-12-02 14:17:37 | 0                   | 47.55598            |  1                  | 2189-12-01          | \n",
       "| 200010              | MICU                | 2132-08-04 23:03:19 | 2132-08-05 22:14:11 | 0                   | 27.25306            | 33                  | NA                  | \n",
       "| 200011              | MICU                | 2188-08-06 01:39:24 | 2188-08-07 16:50:53 | 0                   | 84.23475            |  3                  | NA                  | \n",
       "| 200012              | MICU                | 2153-12-23 05:12:55 | 2153-12-23 15:55:54 | 0                   | 32.98968            |  1                  | NA                  | \n",
       "| 200014              | SICU                | 2105-02-16 23:16:48 | 2105-02-18 16:53:29 | 1                   | 84.73004            |  1                  | 2105-02-18          | \n",
       "| 200016              | SICU                | 2150-12-02 15:59:20 | 2150-12-03 14:54:29 | 0                   | 67.23670            |  2                  | NA                  | \n",
       "\n",
       "\n"
      ],
      "text/plain": [
       "   icustay_id first_careunit intime              outtime             angus\n",
       "1  200001     MICU           2181-11-25 19:06:12 2181-11-28 20:59:25 0    \n",
       "2  200003     SICU           2199-08-02 19:50:04 2199-08-08 17:09:18 1    \n",
       "3  200006     MICU           2159-09-03 11:28:14 2159-09-04 19:08:10 0    \n",
       "4  200007     CCU            2109-02-17 10:03:37 2109-02-18 17:03:12 0    \n",
       "5  200009     CSRU           2189-11-30 10:34:32 2189-12-02 14:17:37 0    \n",
       "6  200010     MICU           2132-08-04 23:03:19 2132-08-05 22:14:11 0    \n",
       "7  200011     MICU           2188-08-06 01:39:24 2188-08-07 16:50:53 0    \n",
       "8  200012     MICU           2153-12-23 05:12:55 2153-12-23 15:55:54 0    \n",
       "9  200014     SICU           2105-02-16 23:16:48 2105-02-18 16:53:29 1    \n",
       "10 200016     SICU           2150-12-02 15:59:20 2150-12-03 14:54:29 0    \n",
       "   age      icu_order echo_time \n",
       "1  61.07128  6        <NA>      \n",
       "2  48.29627  1        2199-08-03\n",
       "3  54.07231  3        <NA>      \n",
       "4  43.34501  1        2109-02-19\n",
       "5  47.55598  1        2189-12-01\n",
       "6  27.25306 33        <NA>      \n",
       "7  84.23475  3        <NA>      \n",
       "8  32.98968  1        <NA>      \n",
       "9  84.73004  1        2105-02-18\n",
       "10 67.23670  2        <NA>      "
      ]
     },
     "metadata": {},
     "output_type": "display_data"
    }
   ],
   "source": [
    "sql <- \"\n",
    "select * from population limit 10;\n",
    "\"\n",
    "dbGetQuery(con, sql)"
   ]
  },
  {
   "cell_type": "code",
   "execution_count": 9,
   "metadata": {},
   "outputs": [
    {
     "data": {
      "text/html": [
       "TRUE"
      ],
      "text/latex": [
       "TRUE"
      ],
      "text/markdown": [
       "TRUE"
      ],
      "text/plain": [
       "[1] TRUE"
      ]
     },
     "metadata": {},
     "output_type": "display_data"
    },
    {
     "data": {
      "text/html": [
       "TRUE"
      ],
      "text/latex": [
       "TRUE"
      ],
      "text/markdown": [
       "TRUE"
      ],
      "text/plain": [
       "[1] TRUE"
      ]
     },
     "metadata": {},
     "output_type": "display_data"
    }
   ],
   "source": [
    "dbDisconnect(con)\n",
    "dbUnloadDriver(drv)"
   ]
  }
 ],
 "metadata": {
  "kernelspec": {
   "display_name": "R",
   "language": "R",
   "name": "ir"
  },
  "language_info": {
   "codemirror_mode": "r",
   "file_extension": ".r",
   "mimetype": "text/x-r-source",
   "name": "R",
   "pygments_lexer": "r",
   "version": "3.4.2"
  },
  "varInspector": {
   "cols": {
    "lenName": 16,
    "lenType": 16,
    "lenVar": 40
   },
   "kernels_config": {
    "python": {
     "delete_cmd_postfix": "",
     "delete_cmd_prefix": "del ",
     "library": "var_list.py",
     "varRefreshCmd": "print(var_dic_list())"
    },
    "r": {
     "delete_cmd_postfix": ") ",
     "delete_cmd_prefix": "rm(",
     "library": "var_list.r",
     "varRefreshCmd": "cat(var_dic_list()) "
    }
   },
   "types_to_exclude": [
    "module",
    "function",
    "builtin_function_or_method",
    "instance",
    "_Feature"
   ],
   "window_display": false
  }
 },
 "nbformat": 4,
 "nbformat_minor": 2
}
