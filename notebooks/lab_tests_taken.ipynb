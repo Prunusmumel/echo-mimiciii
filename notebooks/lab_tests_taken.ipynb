{
 "cells": [
  {
   "cell_type": "code",
   "execution_count": 1,
   "metadata": {},
   "outputs": [
    {
     "name": "stderr",
     "output_type": "stream",
     "text": [
      "── Attaching packages ─────────────────────────────────────── tidyverse 1.2.0 ──\n",
      "✔ ggplot2 2.2.1     ✔ purrr   0.2.4\n",
      "✔ tibble  1.3.4     ✔ dplyr   0.7.4\n",
      "✔ tidyr   0.7.2     ✔ stringr 1.2.0\n",
      "✔ readr   1.1.1     ✔ forcats 0.2.0\n",
      "── Conflicts ────────────────────────────────────────── tidyverse_conflicts() ──\n",
      "✖ dplyr::filter() masks stats::filter()\n",
      "✖ dplyr::lag()    masks stats::lag()\n",
      "Loading required package: DBI\n"
     ]
    }
   ],
   "source": [
    "library(tidyverse)\n",
    "library(RPostgreSQL)"
   ]
  },
  {
   "cell_type": "code",
   "execution_count": 2,
   "metadata": {},
   "outputs": [],
   "source": [
    "source(\"utils.R\")"
   ]
  },
  {
   "cell_type": "code",
   "execution_count": 3,
   "metadata": {},
   "outputs": [
    {
     "data": {
      "text/html": [
       "<ol class=list-inline>\n",
       "\t<li>'basics.sql'</li>\n",
       "\t<li>'cohort.sql'</li>\n",
       "\t<li>'icd9.sql'</li>\n",
       "\t<li>'lab_tests.sql'</li>\n",
       "\t<li>'lab_tests_taken_gen.sql'</li>\n",
       "\t<li>'lab_tests_taken.sql'</li>\n",
       "\t<li>'lab_test_taken_tmpl'</li>\n",
       "\t<li>'population.sql'</li>\n",
       "\t<li>'vital_signs.sql'</li>\n",
       "</ol>\n"
      ],
      "text/latex": [
       "\\begin{enumerate*}\n",
       "\\item 'basics.sql'\n",
       "\\item 'cohort.sql'\n",
       "\\item 'icd9.sql'\n",
       "\\item 'lab\\_tests.sql'\n",
       "\\item 'lab\\_tests\\_taken\\_gen.sql'\n",
       "\\item 'lab\\_tests\\_taken.sql'\n",
       "\\item 'lab\\_test\\_taken\\_tmpl'\n",
       "\\item 'population.sql'\n",
       "\\item 'vital\\_signs.sql'\n",
       "\\end{enumerate*}\n"
      ],
      "text/markdown": [
       "1. 'basics.sql'\n",
       "2. 'cohort.sql'\n",
       "3. 'icd9.sql'\n",
       "4. 'lab_tests.sql'\n",
       "5. 'lab_tests_taken_gen.sql'\n",
       "6. 'lab_tests_taken.sql'\n",
       "7. 'lab_test_taken_tmpl'\n",
       "8. 'population.sql'\n",
       "9. 'vital_signs.sql'\n",
       "\n",
       "\n"
      ],
      "text/plain": [
       "[1] \"basics.sql\"              \"cohort.sql\"             \n",
       "[3] \"icd9.sql\"                \"lab_tests.sql\"          \n",
       "[5] \"lab_tests_taken_gen.sql\" \"lab_tests_taken.sql\"    \n",
       "[7] \"lab_test_taken_tmpl\"     \"population.sql\"         \n",
       "[9] \"vital_signs.sql\"        "
      ]
     },
     "metadata": {},
     "output_type": "display_data"
    }
   ],
   "source": [
    "sql_dir <- file.path(\"..\", \"sql\")\n",
    "list.files(sql_dir)"
   ]
  },
  {
   "cell_type": "code",
   "execution_count": 4,
   "metadata": {},
   "outputs": [
    {
     "data": {
      "text/plain": [
       "<PostgreSQLResult>"
      ]
     },
     "metadata": {},
     "output_type": "display_data"
    }
   ],
   "source": [
    "drv <- dbDriver(\"PostgreSQL\")\n",
    "con <- dbConnect(drv, dbname = \"mimic\")\n",
    "dbSendQuery(con, \"set search_path=echo,public,mimiciii;\")"
   ]
  },
  {
   "cell_type": "code",
   "execution_count": 5,
   "metadata": {},
   "outputs": [],
   "source": [
    "sql <- readr::read_file(file.path(sql_dir, \"lab_tests_taken.sql\")) %>%\n",
    "    make_view_sql(\"lab_tests_taken\", \"materialized view\")"
   ]
  },
  {
   "cell_type": "code",
   "execution_count": 6,
   "metadata": {},
   "outputs": [
    {
     "data": {
      "text/plain": [
       "<PostgreSQLResult>"
      ]
     },
     "metadata": {},
     "output_type": "display_data"
    }
   ],
   "source": [
    "dbSendQuery(con, sql)"
   ]
  },
  {
   "cell_type": "code",
   "execution_count": 7,
   "metadata": {},
   "outputs": [
    {
     "data": {
      "text/html": [
       "<table>\n",
       "<thead><tr><th scope=col>hadm_id</th><th scope=col>hemoglobin</th><th scope=col>wbc</th><th scope=col>lactate</th><th scope=col>po2</th><th scope=col>troponin</th><th scope=col>potassium</th><th scope=col>creatinine_kinase</th><th scope=col>creatinine</th><th scope=col>pco2</th><th scope=col>bnp</th><th scope=col>bun</th><th scope=col>bicarbonate</th><th scope=col>platelet</th><th scope=col>sodium</th><th scope=col>chloride</th><th scope=col>ph</th></tr></thead>\n",
       "<tbody>\n",
       "\t<tr><td>145834</td><td>1     </td><td>1     </td><td>1     </td><td>1     </td><td>0     </td><td>1     </td><td>1     </td><td>1     </td><td>1     </td><td>0     </td><td>1     </td><td>1     </td><td>1     </td><td>1     </td><td>1     </td><td>1     </td></tr>\n",
       "\t<tr><td>128652</td><td>0     </td><td>0     </td><td>1     </td><td>1     </td><td>0     </td><td>1     </td><td>0     </td><td>1     </td><td>1     </td><td>0     </td><td>1     </td><td>1     </td><td>1     </td><td>1     </td><td>1     </td><td>1     </td></tr>\n",
       "\t<tr><td>101757</td><td>1     </td><td>1     </td><td>1     </td><td>1     </td><td>0     </td><td>1     </td><td>0     </td><td>1     </td><td>1     </td><td>0     </td><td>1     </td><td>1     </td><td>1     </td><td>1     </td><td>1     </td><td>1     </td></tr>\n",
       "\t<tr><td>190797</td><td>1     </td><td>1     </td><td>0     </td><td>0     </td><td>0     </td><td>1     </td><td>0     </td><td>1     </td><td>0     </td><td>0     </td><td>1     </td><td>1     </td><td>1     </td><td>1     </td><td>1     </td><td>0     </td></tr>\n",
       "\t<tr><td>104130</td><td>1     </td><td>1     </td><td>0     </td><td>0     </td><td>1     </td><td>1     </td><td>1     </td><td>1     </td><td>0     </td><td>0     </td><td>1     </td><td>1     </td><td>1     </td><td>1     </td><td>1     </td><td>0     </td></tr>\n",
       "\t<tr><td>170467</td><td>1     </td><td>1     </td><td>0     </td><td>0     </td><td>0     </td><td>1     </td><td>1     </td><td>1     </td><td>0     </td><td>0     </td><td>1     </td><td>1     </td><td>1     </td><td>1     </td><td>1     </td><td>0     </td></tr>\n",
       "\t<tr><td>175533</td><td>1     </td><td>1     </td><td>1     </td><td>1     </td><td>0     </td><td>1     </td><td>1     </td><td>1     </td><td>1     </td><td>0     </td><td>1     </td><td>1     </td><td>1     </td><td>1     </td><td>1     </td><td>1     </td></tr>\n",
       "\t<tr><td>161160</td><td>1     </td><td>1     </td><td>1     </td><td>0     </td><td>1     </td><td>1     </td><td>1     </td><td>1     </td><td>0     </td><td>0     </td><td>1     </td><td>1     </td><td>1     </td><td>1     </td><td>1     </td><td>0     </td></tr>\n",
       "\t<tr><td>114585</td><td>1     </td><td>1     </td><td>1     </td><td>1     </td><td>1     </td><td>1     </td><td>1     </td><td>1     </td><td>1     </td><td>0     </td><td>1     </td><td>1     </td><td>1     </td><td>1     </td><td>1     </td><td>1     </td></tr>\n",
       "\t<tr><td>168006</td><td>1     </td><td>1     </td><td>1     </td><td>1     </td><td>1     </td><td>1     </td><td>1     </td><td>1     </td><td>1     </td><td>0     </td><td>1     </td><td>1     </td><td>1     </td><td>1     </td><td>1     </td><td>1     </td></tr>\n",
       "</tbody>\n",
       "</table>\n"
      ],
      "text/latex": [
       "\\begin{tabular}{r|lllllllllllllllll}\n",
       " hadm\\_id & hemoglobin & wbc & lactate & po2 & troponin & potassium & creatinine\\_kinase & creatinine & pco2 & bnp & bun & bicarbonate & platelet & sodium & chloride & ph\\\\\n",
       "\\hline\n",
       "\t 145834 & 1      & 1      & 1      & 1      & 0      & 1      & 1      & 1      & 1      & 0      & 1      & 1      & 1      & 1      & 1      & 1     \\\\\n",
       "\t 128652 & 0      & 0      & 1      & 1      & 0      & 1      & 0      & 1      & 1      & 0      & 1      & 1      & 1      & 1      & 1      & 1     \\\\\n",
       "\t 101757 & 1      & 1      & 1      & 1      & 0      & 1      & 0      & 1      & 1      & 0      & 1      & 1      & 1      & 1      & 1      & 1     \\\\\n",
       "\t 190797 & 1      & 1      & 0      & 0      & 0      & 1      & 0      & 1      & 0      & 0      & 1      & 1      & 1      & 1      & 1      & 0     \\\\\n",
       "\t 104130 & 1      & 1      & 0      & 0      & 1      & 1      & 1      & 1      & 0      & 0      & 1      & 1      & 1      & 1      & 1      & 0     \\\\\n",
       "\t 170467 & 1      & 1      & 0      & 0      & 0      & 1      & 1      & 1      & 0      & 0      & 1      & 1      & 1      & 1      & 1      & 0     \\\\\n",
       "\t 175533 & 1      & 1      & 1      & 1      & 0      & 1      & 1      & 1      & 1      & 0      & 1      & 1      & 1      & 1      & 1      & 1     \\\\\n",
       "\t 161160 & 1      & 1      & 1      & 0      & 1      & 1      & 1      & 1      & 0      & 0      & 1      & 1      & 1      & 1      & 1      & 0     \\\\\n",
       "\t 114585 & 1      & 1      & 1      & 1      & 1      & 1      & 1      & 1      & 1      & 0      & 1      & 1      & 1      & 1      & 1      & 1     \\\\\n",
       "\t 168006 & 1      & 1      & 1      & 1      & 1      & 1      & 1      & 1      & 1      & 0      & 1      & 1      & 1      & 1      & 1      & 1     \\\\\n",
       "\\end{tabular}\n"
      ],
      "text/markdown": [
       "\n",
       "hadm_id | hemoglobin | wbc | lactate | po2 | troponin | potassium | creatinine_kinase | creatinine | pco2 | bnp | bun | bicarbonate | platelet | sodium | chloride | ph | \n",
       "|---|---|---|---|---|---|---|---|---|---|\n",
       "| 145834 | 1      | 1      | 1      | 1      | 0      | 1      | 1      | 1      | 1      | 0      | 1      | 1      | 1      | 1      | 1      | 1      | \n",
       "| 128652 | 0      | 0      | 1      | 1      | 0      | 1      | 0      | 1      | 1      | 0      | 1      | 1      | 1      | 1      | 1      | 1      | \n",
       "| 101757 | 1      | 1      | 1      | 1      | 0      | 1      | 0      | 1      | 1      | 0      | 1      | 1      | 1      | 1      | 1      | 1      | \n",
       "| 190797 | 1      | 1      | 0      | 0      | 0      | 1      | 0      | 1      | 0      | 0      | 1      | 1      | 1      | 1      | 1      | 0      | \n",
       "| 104130 | 1      | 1      | 0      | 0      | 1      | 1      | 1      | 1      | 0      | 0      | 1      | 1      | 1      | 1      | 1      | 0      | \n",
       "| 170467 | 1      | 1      | 0      | 0      | 0      | 1      | 1      | 1      | 0      | 0      | 1      | 1      | 1      | 1      | 1      | 0      | \n",
       "| 175533 | 1      | 1      | 1      | 1      | 0      | 1      | 1      | 1      | 1      | 0      | 1      | 1      | 1      | 1      | 1      | 1      | \n",
       "| 161160 | 1      | 1      | 1      | 0      | 1      | 1      | 1      | 1      | 0      | 0      | 1      | 1      | 1      | 1      | 1      | 0      | \n",
       "| 114585 | 1      | 1      | 1      | 1      | 1      | 1      | 1      | 1      | 1      | 0      | 1      | 1      | 1      | 1      | 1      | 1      | \n",
       "| 168006 | 1      | 1      | 1      | 1      | 1      | 1      | 1      | 1      | 1      | 0      | 1      | 1      | 1      | 1      | 1      | 1      | \n",
       "\n",
       "\n"
      ],
      "text/plain": [
       "   hadm_id hemoglobin wbc lactate po2 troponin potassium creatinine_kinase\n",
       "1  145834  1          1   1       1   0        1         1                \n",
       "2  128652  0          0   1       1   0        1         0                \n",
       "3  101757  1          1   1       1   0        1         0                \n",
       "4  190797  1          1   0       0   0        1         0                \n",
       "5  104130  1          1   0       0   1        1         1                \n",
       "6  170467  1          1   0       0   0        1         1                \n",
       "7  175533  1          1   1       1   0        1         1                \n",
       "8  161160  1          1   1       0   1        1         1                \n",
       "9  114585  1          1   1       1   1        1         1                \n",
       "10 168006  1          1   1       1   1        1         1                \n",
       "   creatinine pco2 bnp bun bicarbonate platelet sodium chloride ph\n",
       "1  1          1    0   1   1           1        1      1        1 \n",
       "2  1          1    0   1   1           1        1      1        1 \n",
       "3  1          1    0   1   1           1        1      1        1 \n",
       "4  1          0    0   1   1           1        1      1        0 \n",
       "5  1          0    0   1   1           1        1      1        0 \n",
       "6  1          0    0   1   1           1        1      1        0 \n",
       "7  1          1    0   1   1           1        1      1        1 \n",
       "8  1          0    0   1   1           1        1      1        0 \n",
       "9  1          1    0   1   1           1        1      1        1 \n",
       "10 1          1    0   1   1           1        1      1        1 "
      ]
     },
     "metadata": {},
     "output_type": "display_data"
    }
   ],
   "source": [
    "sql <- \"\n",
    "select * from lab_tests_taken limit 10;\n",
    "\"\n",
    "dbGetQuery(con, sql)"
   ]
  },
  {
   "cell_type": "code",
   "execution_count": 8,
   "metadata": {},
   "outputs": [
    {
     "data": {
      "text/html": [
       "TRUE"
      ],
      "text/latex": [
       "TRUE"
      ],
      "text/markdown": [
       "TRUE"
      ],
      "text/plain": [
       "[1] TRUE"
      ]
     },
     "metadata": {},
     "output_type": "display_data"
    },
    {
     "data": {
      "text/html": [
       "TRUE"
      ],
      "text/latex": [
       "TRUE"
      ],
      "text/markdown": [
       "TRUE"
      ],
      "text/plain": [
       "[1] TRUE"
      ]
     },
     "metadata": {},
     "output_type": "display_data"
    }
   ],
   "source": [
    "dbDisconnect(con)\n",
    "dbUnloadDriver(drv)"
   ]
  }
 ],
 "metadata": {
  "kernelspec": {
   "display_name": "R",
   "language": "R",
   "name": "ir"
  },
  "language_info": {
   "codemirror_mode": "r",
   "file_extension": ".r",
   "mimetype": "text/x-r-source",
   "name": "R",
   "pygments_lexer": "r",
   "version": "3.4.1"
  },
  "varInspector": {
   "cols": {
    "lenName": 16,
    "lenType": 16,
    "lenVar": 40
   },
   "kernels_config": {
    "python": {
     "delete_cmd_postfix": "",
     "delete_cmd_prefix": "del ",
     "library": "var_list.py",
     "varRefreshCmd": "print(var_dic_list())"
    },
    "r": {
     "delete_cmd_postfix": ") ",
     "delete_cmd_prefix": "rm(",
     "library": "var_list.r",
     "varRefreshCmd": "cat(var_dic_list()) "
    }
   },
   "types_to_exclude": [
    "module",
    "function",
    "builtin_function_or_method",
    "instance",
    "_Feature"
   ],
   "window_display": false
  }
 },
 "nbformat": 4,
 "nbformat_minor": 2
}
