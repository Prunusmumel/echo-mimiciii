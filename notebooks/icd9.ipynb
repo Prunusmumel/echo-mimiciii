{
 "cells": [
  {
   "cell_type": "code",
   "execution_count": 1,
   "metadata": {},
   "outputs": [
    {
     "name": "stderr",
     "output_type": "stream",
     "text": [
      "── Attaching packages ─────────────────────────────────────── tidyverse 1.2.1 ──\n",
      "✔ ggplot2 2.2.1     ✔ purrr   0.2.4\n",
      "✔ tibble  1.3.4     ✔ dplyr   0.7.4\n",
      "✔ tidyr   0.7.2     ✔ stringr 1.2.0\n",
      "✔ readr   1.1.1     ✔ forcats 0.2.0\n",
      "── Conflicts ────────────────────────────────────────── tidyverse_conflicts() ──\n",
      "✖ dplyr::filter() masks stats::filter()\n",
      "✖ dplyr::lag()    masks stats::lag()\n",
      "Loading required package: DBI\n"
     ]
    }
   ],
   "source": [
    "library(tidyverse)\n",
    "library(RPostgreSQL)"
   ]
  },
  {
   "cell_type": "code",
   "execution_count": 2,
   "metadata": {},
   "outputs": [],
   "source": [
    "source(\"utils.R\")"
   ]
  },
  {
   "cell_type": "code",
   "execution_count": 3,
   "metadata": {},
   "outputs": [
    {
     "data": {
      "text/html": [
       "<ol class=list-inline>\n",
       "\t<li>'basics.sql'</li>\n",
       "\t<li>'cohort.sql'</li>\n",
       "\t<li>'icd9.sql'</li>\n",
       "\t<li>'lab_tests.sql'</li>\n",
       "\t<li>'lab_unpivot.sql'</li>\n",
       "\t<li>'merge_data.sql'</li>\n",
       "\t<li>'population.sql'</li>\n",
       "\t<li>'vital_signs.sql'</li>\n",
       "\t<li>'vital_signs_unpivot.sql'</li>\n",
       "</ol>\n"
      ],
      "text/latex": [
       "\\begin{enumerate*}\n",
       "\\item 'basics.sql'\n",
       "\\item 'cohort.sql'\n",
       "\\item 'icd9.sql'\n",
       "\\item 'lab\\_tests.sql'\n",
       "\\item 'lab\\_unpivot.sql'\n",
       "\\item 'merge\\_data.sql'\n",
       "\\item 'population.sql'\n",
       "\\item 'vital\\_signs.sql'\n",
       "\\item 'vital\\_signs\\_unpivot.sql'\n",
       "\\end{enumerate*}\n"
      ],
      "text/markdown": [
       "1. 'basics.sql'\n",
       "2. 'cohort.sql'\n",
       "3. 'icd9.sql'\n",
       "4. 'lab_tests.sql'\n",
       "5. 'lab_unpivot.sql'\n",
       "6. 'merge_data.sql'\n",
       "7. 'population.sql'\n",
       "8. 'vital_signs.sql'\n",
       "9. 'vital_signs_unpivot.sql'\n",
       "\n",
       "\n"
      ],
      "text/plain": [
       "[1] \"basics.sql\"              \"cohort.sql\"             \n",
       "[3] \"icd9.sql\"                \"lab_tests.sql\"          \n",
       "[5] \"lab_unpivot.sql\"         \"merge_data.sql\"         \n",
       "[7] \"population.sql\"          \"vital_signs.sql\"        \n",
       "[9] \"vital_signs_unpivot.sql\""
      ]
     },
     "metadata": {},
     "output_type": "display_data"
    }
   ],
   "source": [
    "sql_dir <- file.path(\"..\", \"sql\")\n",
    "list.files(sql_dir)"
   ]
  },
  {
   "cell_type": "code",
   "execution_count": 4,
   "metadata": {},
   "outputs": [
    {
     "data": {
      "text/plain": [
       "<PostgreSQLResult>"
      ]
     },
     "metadata": {},
     "output_type": "display_data"
    }
   ],
   "source": [
    "drv <- dbDriver(\"PostgreSQL\")\n",
    "con <- dbConnect(drv, dbname = \"mimic\")\n",
    "dbSendQuery(con, \"set search_path=echo,public,mimiciii;\")"
   ]
  },
  {
   "cell_type": "code",
   "execution_count": 5,
   "metadata": {},
   "outputs": [],
   "source": [
    "sql <- readr::read_file(file.path(sql_dir, \"icd9.sql\")) %>%\n",
    "    make_view_sql(\"icd9\", \"materialized view\")"
   ]
  },
  {
   "cell_type": "code",
   "execution_count": 6,
   "metadata": {},
   "outputs": [
    {
     "data": {
      "text/plain": [
       "<PostgreSQLResult>"
      ]
     },
     "metadata": {},
     "output_type": "display_data"
    }
   ],
   "source": [
    "dbSendQuery(con, sql)"
   ]
  },
  {
   "cell_type": "code",
   "execution_count": 7,
   "metadata": {},
   "outputs": [
    {
     "data": {
      "text/html": [
       "<table>\n",
       "<thead><tr><th scope=col>hadm_id</th><th scope=col>icd_chf</th><th scope=col>icd_afib</th><th scope=col>icd_renal</th><th scope=col>icd_liver</th><th scope=col>icd_copd</th><th scope=col>icd_cad</th><th scope=col>icd_stroke</th><th scope=col>icd_malignancy</th></tr></thead>\n",
       "<tbody>\n",
       "\t<tr><td>100021</td><td>0     </td><td>1     </td><td>0     </td><td>1     </td><td>0     </td><td>0     </td><td>0     </td><td>0     </td></tr>\n",
       "\t<tr><td>100028</td><td>0     </td><td>1     </td><td>0     </td><td>0     </td><td>0     </td><td>0     </td><td>0     </td><td>0     </td></tr>\n",
       "\t<tr><td>100053</td><td>0     </td><td>1     </td><td>1     </td><td>1     </td><td>0     </td><td>0     </td><td>0     </td><td>0     </td></tr>\n",
       "\t<tr><td>100099</td><td>1     </td><td>1     </td><td>0     </td><td>0     </td><td>1     </td><td>1     </td><td>0     </td><td>0     </td></tr>\n",
       "\t<tr><td>100118</td><td>0     </td><td>0     </td><td>1     </td><td>0     </td><td>1     </td><td>0     </td><td>0     </td><td>0     </td></tr>\n",
       "\t<tr><td>100132</td><td>0     </td><td>1     </td><td>0     </td><td>0     </td><td>0     </td><td>0     </td><td>0     </td><td>0     </td></tr>\n",
       "\t<tr><td>100141</td><td>0     </td><td>0     </td><td>0     </td><td>0     </td><td>0     </td><td>0     </td><td>0     </td><td>0     </td></tr>\n",
       "\t<tr><td>100154</td><td>1     </td><td>0     </td><td>0     </td><td>0     </td><td>1     </td><td>0     </td><td>0     </td><td>1     </td></tr>\n",
       "\t<tr><td>100160</td><td>0     </td><td>1     </td><td>0     </td><td>0     </td><td>1     </td><td>0     </td><td>0     </td><td>1     </td></tr>\n",
       "\t<tr><td>100191</td><td>0     </td><td>0     </td><td>0     </td><td>0     </td><td>0     </td><td>0     </td><td>1     </td><td>0     </td></tr>\n",
       "</tbody>\n",
       "</table>\n"
      ],
      "text/latex": [
       "\\begin{tabular}{r|lllllllll}\n",
       " hadm\\_id & icd\\_chf & icd\\_afib & icd\\_renal & icd\\_liver & icd\\_copd & icd\\_cad & icd\\_stroke & icd\\_malignancy\\\\\n",
       "\\hline\n",
       "\t 100021 & 0      & 1      & 0      & 1      & 0      & 0      & 0      & 0     \\\\\n",
       "\t 100028 & 0      & 1      & 0      & 0      & 0      & 0      & 0      & 0     \\\\\n",
       "\t 100053 & 0      & 1      & 1      & 1      & 0      & 0      & 0      & 0     \\\\\n",
       "\t 100099 & 1      & 1      & 0      & 0      & 1      & 1      & 0      & 0     \\\\\n",
       "\t 100118 & 0      & 0      & 1      & 0      & 1      & 0      & 0      & 0     \\\\\n",
       "\t 100132 & 0      & 1      & 0      & 0      & 0      & 0      & 0      & 0     \\\\\n",
       "\t 100141 & 0      & 0      & 0      & 0      & 0      & 0      & 0      & 0     \\\\\n",
       "\t 100154 & 1      & 0      & 0      & 0      & 1      & 0      & 0      & 1     \\\\\n",
       "\t 100160 & 0      & 1      & 0      & 0      & 1      & 0      & 0      & 1     \\\\\n",
       "\t 100191 & 0      & 0      & 0      & 0      & 0      & 0      & 1      & 0     \\\\\n",
       "\\end{tabular}\n"
      ],
      "text/markdown": [
       "\n",
       "hadm_id | icd_chf | icd_afib | icd_renal | icd_liver | icd_copd | icd_cad | icd_stroke | icd_malignancy | \n",
       "|---|---|---|---|---|---|---|---|---|---|\n",
       "| 100021 | 0      | 1      | 0      | 1      | 0      | 0      | 0      | 0      | \n",
       "| 100028 | 0      | 1      | 0      | 0      | 0      | 0      | 0      | 0      | \n",
       "| 100053 | 0      | 1      | 1      | 1      | 0      | 0      | 0      | 0      | \n",
       "| 100099 | 1      | 1      | 0      | 0      | 1      | 1      | 0      | 0      | \n",
       "| 100118 | 0      | 0      | 1      | 0      | 1      | 0      | 0      | 0      | \n",
       "| 100132 | 0      | 1      | 0      | 0      | 0      | 0      | 0      | 0      | \n",
       "| 100141 | 0      | 0      | 0      | 0      | 0      | 0      | 0      | 0      | \n",
       "| 100154 | 1      | 0      | 0      | 0      | 1      | 0      | 0      | 1      | \n",
       "| 100160 | 0      | 1      | 0      | 0      | 1      | 0      | 0      | 1      | \n",
       "| 100191 | 0      | 0      | 0      | 0      | 0      | 0      | 1      | 0      | \n",
       "\n",
       "\n"
      ],
      "text/plain": [
       "   hadm_id icd_chf icd_afib icd_renal icd_liver icd_copd icd_cad icd_stroke\n",
       "1  100021  0       1        0         1         0        0       0         \n",
       "2  100028  0       1        0         0         0        0       0         \n",
       "3  100053  0       1        1         1         0        0       0         \n",
       "4  100099  1       1        0         0         1        1       0         \n",
       "5  100118  0       0        1         0         1        0       0         \n",
       "6  100132  0       1        0         0         0        0       0         \n",
       "7  100141  0       0        0         0         0        0       0         \n",
       "8  100154  1       0        0         0         1        0       0         \n",
       "9  100160  0       1        0         0         1        0       0         \n",
       "10 100191  0       0        0         0         0        0       1         \n",
       "   icd_malignancy\n",
       "1  0             \n",
       "2  0             \n",
       "3  0             \n",
       "4  0             \n",
       "5  0             \n",
       "6  0             \n",
       "7  0             \n",
       "8  1             \n",
       "9  1             \n",
       "10 0             "
      ]
     },
     "metadata": {},
     "output_type": "display_data"
    }
   ],
   "source": [
    "sql <- \"\n",
    "select * from icd9 limit 10;\n",
    "\"\n",
    "df <- dbGetQuery(con, sql)\n",
    "df"
   ]
  },
  {
   "cell_type": "code",
   "execution_count": 8,
   "metadata": {},
   "outputs": [
    {
     "data": {
      "text/html": [
       "TRUE"
      ],
      "text/latex": [
       "TRUE"
      ],
      "text/markdown": [
       "TRUE"
      ],
      "text/plain": [
       "[1] TRUE"
      ]
     },
     "metadata": {},
     "output_type": "display_data"
    },
    {
     "data": {
      "text/html": [
       "TRUE"
      ],
      "text/latex": [
       "TRUE"
      ],
      "text/markdown": [
       "TRUE"
      ],
      "text/plain": [
       "[1] TRUE"
      ]
     },
     "metadata": {},
     "output_type": "display_data"
    }
   ],
   "source": [
    "dbDisconnect(con)\n",
    "dbUnloadDriver(drv)"
   ]
  }
 ],
 "metadata": {
  "kernelspec": {
   "display_name": "R",
   "language": "R",
   "name": "ir"
  },
  "language_info": {
   "codemirror_mode": "r",
   "file_extension": ".r",
   "mimetype": "text/x-r-source",
   "name": "R",
   "pygments_lexer": "r",
   "version": "3.4.1"
  },
  "varInspector": {
   "cols": {
    "lenName": 16,
    "lenType": 16,
    "lenVar": 40
   },
   "kernels_config": {
    "python": {
     "delete_cmd_postfix": "",
     "delete_cmd_prefix": "del ",
     "library": "var_list.py",
     "varRefreshCmd": "print(var_dic_list())"
    },
    "r": {
     "delete_cmd_postfix": ") ",
     "delete_cmd_prefix": "rm(",
     "library": "var_list.r",
     "varRefreshCmd": "cat(var_dic_list()) "
    }
   },
   "types_to_exclude": [
    "module",
    "function",
    "builtin_function_or_method",
    "instance",
    "_Feature"
   ],
   "window_display": false
  }
 },
 "nbformat": 4,
 "nbformat_minor": 2
}
