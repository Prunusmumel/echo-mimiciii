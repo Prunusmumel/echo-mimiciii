{
 "cells": [
  {
   "cell_type": "code",
   "execution_count": 1,
   "metadata": {},
   "outputs": [
    {
     "name": "stderr",
     "output_type": "stream",
     "text": [
      "── Attaching packages ─────────────────────────────────────── tidyverse 1.2.0 ──\n",
      "✔ ggplot2 2.2.1     ✔ purrr   0.2.4\n",
      "✔ tibble  1.3.4     ✔ dplyr   0.7.4\n",
      "✔ tidyr   0.7.2     ✔ stringr 1.2.0\n",
      "✔ readr   1.1.1     ✔ forcats 0.2.0\n",
      "── Conflicts ────────────────────────────────────────── tidyverse_conflicts() ──\n",
      "✖ dplyr::filter() masks stats::filter()\n",
      "✖ dplyr::lag()    masks stats::lag()\n",
      "Loading required package: DBI\n"
     ]
    }
   ],
   "source": [
    "library(tidyverse)\n",
    "library(RPostgreSQL)"
   ]
  },
  {
   "cell_type": "code",
   "execution_count": 2,
   "metadata": {},
   "outputs": [],
   "source": [
    "source(\"utils.R\")"
   ]
  },
  {
   "cell_type": "code",
   "execution_count": 3,
   "metadata": {},
   "outputs": [
    {
     "data": {
      "text/html": [
       "<ol class=list-inline>\n",
       "\t<li>'basics.sql'</li>\n",
       "\t<li>'cohort.sql'</li>\n",
       "\t<li>'icd9.sql'</li>\n",
       "\t<li>'lab_tests.sql'</li>\n",
       "\t<li>'lab_unpivot.sql'</li>\n",
       "\t<li>'population.sql'</li>\n",
       "\t<li>'vital_signs.sql'</li>\n",
       "\t<li>'vital_signs_unpivot.sql'</li>\n",
       "</ol>\n"
      ],
      "text/latex": [
       "\\begin{enumerate*}\n",
       "\\item 'basics.sql'\n",
       "\\item 'cohort.sql'\n",
       "\\item 'icd9.sql'\n",
       "\\item 'lab\\_tests.sql'\n",
       "\\item 'lab\\_unpivot.sql'\n",
       "\\item 'population.sql'\n",
       "\\item 'vital\\_signs.sql'\n",
       "\\item 'vital\\_signs\\_unpivot.sql'\n",
       "\\end{enumerate*}\n"
      ],
      "text/markdown": [
       "1. 'basics.sql'\n",
       "2. 'cohort.sql'\n",
       "3. 'icd9.sql'\n",
       "4. 'lab_tests.sql'\n",
       "5. 'lab_unpivot.sql'\n",
       "6. 'population.sql'\n",
       "7. 'vital_signs.sql'\n",
       "8. 'vital_signs_unpivot.sql'\n",
       "\n",
       "\n"
      ],
      "text/plain": [
       "[1] \"basics.sql\"              \"cohort.sql\"             \n",
       "[3] \"icd9.sql\"                \"lab_tests.sql\"          \n",
       "[5] \"lab_unpivot.sql\"         \"population.sql\"         \n",
       "[7] \"vital_signs.sql\"         \"vital_signs_unpivot.sql\""
      ]
     },
     "metadata": {},
     "output_type": "display_data"
    }
   ],
   "source": [
    "sql_dir <- file.path(\"..\", \"sql\")\n",
    "list.files(sql_dir)"
   ]
  },
  {
   "cell_type": "code",
   "execution_count": 4,
   "metadata": {},
   "outputs": [
    {
     "data": {
      "text/plain": [
       "<PostgreSQLResult>"
      ]
     },
     "metadata": {},
     "output_type": "display_data"
    }
   ],
   "source": [
    "drv <- dbDriver(\"PostgreSQL\")\n",
    "con <- dbConnect(drv, dbname = \"mimic\")\n",
    "dbSendQuery(con, \"set search_path=echo,public,mimiciii;\")"
   ]
  },
  {
   "cell_type": "code",
   "execution_count": 5,
   "metadata": {},
   "outputs": [
    {
     "data": {
      "text/html": [
       "<ol class=list-inline>\n",
       "\t<li>'hemoglobin'</li>\n",
       "\t<li>'wbc'</li>\n",
       "\t<li>'lactate'</li>\n",
       "\t<li>'po2'</li>\n",
       "\t<li>'troponin'</li>\n",
       "\t<li>'potassium'</li>\n",
       "\t<li>'creatinine_kinase'</li>\n",
       "\t<li>'creatinine'</li>\n",
       "\t<li>'pco2'</li>\n",
       "\t<li>'bnp'</li>\n",
       "\t<li>'bun'</li>\n",
       "\t<li>'bicarbonate'</li>\n",
       "\t<li>'platelet'</li>\n",
       "\t<li>'sodium'</li>\n",
       "\t<li>'chloride'</li>\n",
       "\t<li>'ph'</li>\n",
       "</ol>\n"
      ],
      "text/latex": [
       "\\begin{enumerate*}\n",
       "\\item 'hemoglobin'\n",
       "\\item 'wbc'\n",
       "\\item 'lactate'\n",
       "\\item 'po2'\n",
       "\\item 'troponin'\n",
       "\\item 'potassium'\n",
       "\\item 'creatinine\\_kinase'\n",
       "\\item 'creatinine'\n",
       "\\item 'pco2'\n",
       "\\item 'bnp'\n",
       "\\item 'bun'\n",
       "\\item 'bicarbonate'\n",
       "\\item 'platelet'\n",
       "\\item 'sodium'\n",
       "\\item 'chloride'\n",
       "\\item 'ph'\n",
       "\\end{enumerate*}\n"
      ],
      "text/markdown": [
       "1. 'hemoglobin'\n",
       "2. 'wbc'\n",
       "3. 'lactate'\n",
       "4. 'po2'\n",
       "5. 'troponin'\n",
       "6. 'potassium'\n",
       "7. 'creatinine_kinase'\n",
       "8. 'creatinine'\n",
       "9. 'pco2'\n",
       "10. 'bnp'\n",
       "11. 'bun'\n",
       "12. 'bicarbonate'\n",
       "13. 'platelet'\n",
       "14. 'sodium'\n",
       "15. 'chloride'\n",
       "16. 'ph'\n",
       "\n",
       "\n"
      ],
      "text/plain": [
       " [1] \"hemoglobin\"        \"wbc\"               \"lactate\"          \n",
       " [4] \"po2\"               \"troponin\"          \"potassium\"        \n",
       " [7] \"creatinine_kinase\" \"creatinine\"        \"pco2\"             \n",
       "[10] \"bnp\"               \"bun\"               \"bicarbonate\"      \n",
       "[13] \"platelet\"          \"sodium\"            \"chloride\"         \n",
       "[16] \"ph\"               "
      ]
     },
     "metadata": {},
     "output_type": "display_data"
    }
   ],
   "source": [
    "labs <- \"select distinct(label) from lab_tests\" %>%\n",
    "    dbGetQuery(con, .) %>%\n",
    "    pull(label)\n",
    "labs"
   ]
  },
  {
   "cell_type": "code",
   "execution_count": 6,
   "metadata": {},
   "outputs": [],
   "source": [
    "sql_template <- \"\n",
    "with lab_summary as (\n",
    "    select distinct hadm_id, label\n",
    "    , first_value(valuenum) over (partition by hadm_id, label order by charttime) as fst_val\n",
    "    , first_value(valuenum) over (partition by hadm_id, label order by valuenum) as min_val\n",
    "    , first_value(valuenum) over (partition by hadm_id, label order by valuenum desc) as max_val\n",
    "    from lab_tests\n",
    ")\n",
    "\n",
    "select hadm_id\n",
    ", %s\n",
    "from lab_summary\n",
    "group by hadm_id\n",
    "\""
   ]
  },
  {
   "cell_type": "code",
   "execution_count": 7,
   "metadata": {},
   "outputs": [],
   "source": [
    "sql <- c(\"max(case when label = '%1$s' then 1 else 0 end) as lab_%1$s_flag\",\n",
    "  \"max(case when label = '%1$s' then fst_val else null end) as lab_%1$s_first\",\n",
    "  \"max(case when label = '%1$s' then min_val else null end) as lab_%1$s_min\",\n",
    "  \"max(case when label = '%1$s' then max_val else null end) as lab_%1$s_max\") %>%\n",
    "paste(collapse = \"\\n, \") %>%\n",
    "sprintf(labs) %>%\n",
    "paste(collapse = \"\\n, \") %>%\n",
    "sprintf(sql_template, .)\n",
    "cat(sql, file = file.path(sql_dir, \"lab_unpivot.sql\"))"
   ]
  },
  {
   "cell_type": "code",
   "execution_count": 8,
   "metadata": {},
   "outputs": [
    {
     "data": {
      "text/plain": [
       "<PostgreSQLResult>"
      ]
     },
     "metadata": {},
     "output_type": "display_data"
    }
   ],
   "source": [
    "sql %>% make_view_sql(\"lab_unpivot\", \"materialized view\") %>% dbSendQuery(con, .)"
   ]
  },
  {
   "cell_type": "code",
   "execution_count": 9,
   "metadata": {},
   "outputs": [
    {
     "data": {
      "text/html": [
       "<table>\n",
       "<thead><tr><th scope=col>hadm_id</th><th scope=col>lab_hemoglobin_flag</th><th scope=col>lab_hemoglobin_first</th><th scope=col>lab_hemoglobin_min</th><th scope=col>lab_hemoglobin_max</th><th scope=col>lab_wbc_flag</th><th scope=col>lab_wbc_first</th><th scope=col>lab_wbc_min</th><th scope=col>lab_wbc_max</th><th scope=col>lab_lactate_flag</th><th scope=col>⋯</th><th scope=col>lab_sodium_min</th><th scope=col>lab_sodium_max</th><th scope=col>lab_chloride_flag</th><th scope=col>lab_chloride_first</th><th scope=col>lab_chloride_min</th><th scope=col>lab_chloride_max</th><th scope=col>lab_ph_flag</th><th scope=col>lab_ph_first</th><th scope=col>lab_ph_min</th><th scope=col>lab_ph_max</th></tr></thead>\n",
       "<tbody>\n",
       "\t<tr><td>125078</td><td>1     </td><td>13.0  </td><td>13.0  </td><td>14.4  </td><td>1     </td><td>13.6  </td><td>13.6  </td><td>16.9  </td><td>1     </td><td>⋯     </td><td>160   </td><td>165   </td><td>1     </td><td>123   </td><td>123   </td><td>128   </td><td>1     </td><td>7.45  </td><td>7.42  </td><td>7.45  </td></tr>\n",
       "\t<tr><td>151232</td><td>1     </td><td> 9.8  </td><td> 9.8  </td><td> 9.8  </td><td>1     </td><td> 7.8  </td><td> 7.8  </td><td> 7.8  </td><td>0     </td><td>⋯     </td><td>139   </td><td>139   </td><td>1     </td><td>105   </td><td>105   </td><td>105   </td><td>0     </td><td>  NA  </td><td>  NA  </td><td>  NA  </td></tr>\n",
       "\t<tr><td>164444</td><td>1     </td><td>15.0  </td><td>15.0  </td><td>15.0  </td><td>1     </td><td>12.9  </td><td>12.9  </td><td>12.9  </td><td>0     </td><td>⋯     </td><td>142   </td><td>146   </td><td>1     </td><td>108   </td><td>107   </td><td>112   </td><td>1     </td><td>7.49  </td><td>7.49  </td><td>7.49  </td></tr>\n",
       "\t<tr><td>146726</td><td>1     </td><td>12.4  </td><td>12.4  </td><td>12.4  </td><td>1     </td><td> 7.2  </td><td> 7.2  </td><td> 7.2  </td><td>1     </td><td>⋯     </td><td>134   </td><td>136   </td><td>1     </td><td>100   </td><td>100   </td><td>105   </td><td>1     </td><td>7.44  </td><td>7.44  </td><td>7.44  </td></tr>\n",
       "\t<tr><td>160170</td><td>1     </td><td>11.9  </td><td>11.9  </td><td>11.9  </td><td>1     </td><td> 2.1  </td><td> 2.1  </td><td> 2.1  </td><td>0     </td><td>⋯     </td><td>138   </td><td>138   </td><td>1     </td><td>103   </td><td>103   </td><td>103   </td><td>0     </td><td>  NA  </td><td>  NA  </td><td>  NA  </td></tr>\n",
       "\t<tr><td>112553</td><td>1     </td><td> 8.3  </td><td> 8.3  </td><td> 8.3  </td><td>1     </td><td>17.5  </td><td>17.5  </td><td>17.5  </td><td>0     </td><td>⋯     </td><td>143   </td><td>147   </td><td>1     </td><td>118   </td><td>113   </td><td>118   </td><td>0     </td><td>  NA  </td><td>  NA  </td><td>  NA  </td></tr>\n",
       "\t<tr><td>151997</td><td>1     </td><td> 7.8  </td><td> 7.8  </td><td> 7.8  </td><td>1     </td><td> 3.4  </td><td> 3.4  </td><td> 3.4  </td><td>1     </td><td>⋯     </td><td>131   </td><td>148   </td><td>1     </td><td> 97   </td><td> 97   </td><td>120   </td><td>1     </td><td>7.61  </td><td>7.43  </td><td>7.61  </td></tr>\n",
       "\t<tr><td>158611</td><td>1     </td><td>10.4  </td><td>10.4  </td><td>10.4  </td><td>1     </td><td>17.0  </td><td>17.0  </td><td>17.0  </td><td>0     </td><td>⋯     </td><td>129   </td><td>129   </td><td>1     </td><td> 98   </td><td> 98   </td><td> 98   </td><td>0     </td><td>  NA  </td><td>  NA  </td><td>  NA  </td></tr>\n",
       "\t<tr><td>105158</td><td>1     </td><td>12.3  </td><td> 8.8  </td><td>12.3  </td><td>1     </td><td>61.5  </td><td>61.5  </td><td>76.9  </td><td>1     </td><td>⋯     </td><td>146   </td><td>151   </td><td>1     </td><td>108   </td><td>104   </td><td>108   </td><td>1     </td><td>6.82  </td><td>6.82  </td><td>7.30  </td></tr>\n",
       "\t<tr><td>194870</td><td>1     </td><td>11.8  </td><td>11.3  </td><td>11.8  </td><td>1     </td><td>20.3  </td><td>15.3  </td><td>20.3  </td><td>1     </td><td>⋯     </td><td>135   </td><td>136   </td><td>1     </td><td> 99   </td><td> 99   </td><td>104   </td><td>1     </td><td>7.09  </td><td>7.09  </td><td>7.33  </td></tr>\n",
       "</tbody>\n",
       "</table>\n"
      ],
      "text/latex": [
       "\\begin{tabular}{r|lllllllllllllllllllllllllllllllllllllllllllllllllllllllllllllllll}\n",
       " hadm\\_id & lab\\_hemoglobin\\_flag & lab\\_hemoglobin\\_first & lab\\_hemoglobin\\_min & lab\\_hemoglobin\\_max & lab\\_wbc\\_flag & lab\\_wbc\\_first & lab\\_wbc\\_min & lab\\_wbc\\_max & lab\\_lactate\\_flag & ⋯ & lab\\_sodium\\_min & lab\\_sodium\\_max & lab\\_chloride\\_flag & lab\\_chloride\\_first & lab\\_chloride\\_min & lab\\_chloride\\_max & lab\\_ph\\_flag & lab\\_ph\\_first & lab\\_ph\\_min & lab\\_ph\\_max\\\\\n",
       "\\hline\n",
       "\t 125078 & 1      & 13.0   & 13.0   & 14.4   & 1      & 13.6   & 13.6   & 16.9   & 1      & ⋯      & 160    & 165    & 1      & 123    & 123    & 128    & 1      & 7.45   & 7.42   & 7.45  \\\\\n",
       "\t 151232 & 1      &  9.8   &  9.8   &  9.8   & 1      &  7.8   &  7.8   &  7.8   & 0      & ⋯      & 139    & 139    & 1      & 105    & 105    & 105    & 0      &   NA   &   NA   &   NA  \\\\\n",
       "\t 164444 & 1      & 15.0   & 15.0   & 15.0   & 1      & 12.9   & 12.9   & 12.9   & 0      & ⋯      & 142    & 146    & 1      & 108    & 107    & 112    & 1      & 7.49   & 7.49   & 7.49  \\\\\n",
       "\t 146726 & 1      & 12.4   & 12.4   & 12.4   & 1      &  7.2   &  7.2   &  7.2   & 1      & ⋯      & 134    & 136    & 1      & 100    & 100    & 105    & 1      & 7.44   & 7.44   & 7.44  \\\\\n",
       "\t 160170 & 1      & 11.9   & 11.9   & 11.9   & 1      &  2.1   &  2.1   &  2.1   & 0      & ⋯      & 138    & 138    & 1      & 103    & 103    & 103    & 0      &   NA   &   NA   &   NA  \\\\\n",
       "\t 112553 & 1      &  8.3   &  8.3   &  8.3   & 1      & 17.5   & 17.5   & 17.5   & 0      & ⋯      & 143    & 147    & 1      & 118    & 113    & 118    & 0      &   NA   &   NA   &   NA  \\\\\n",
       "\t 151997 & 1      &  7.8   &  7.8   &  7.8   & 1      &  3.4   &  3.4   &  3.4   & 1      & ⋯      & 131    & 148    & 1      &  97    &  97    & 120    & 1      & 7.61   & 7.43   & 7.61  \\\\\n",
       "\t 158611 & 1      & 10.4   & 10.4   & 10.4   & 1      & 17.0   & 17.0   & 17.0   & 0      & ⋯      & 129    & 129    & 1      &  98    &  98    &  98    & 0      &   NA   &   NA   &   NA  \\\\\n",
       "\t 105158 & 1      & 12.3   &  8.8   & 12.3   & 1      & 61.5   & 61.5   & 76.9   & 1      & ⋯      & 146    & 151    & 1      & 108    & 104    & 108    & 1      & 6.82   & 6.82   & 7.30  \\\\\n",
       "\t 194870 & 1      & 11.8   & 11.3   & 11.8   & 1      & 20.3   & 15.3   & 20.3   & 1      & ⋯      & 135    & 136    & 1      &  99    &  99    & 104    & 1      & 7.09   & 7.09   & 7.33  \\\\\n",
       "\\end{tabular}\n"
      ],
      "text/markdown": [
       "\n",
       "hadm_id | lab_hemoglobin_flag | lab_hemoglobin_first | lab_hemoglobin_min | lab_hemoglobin_max | lab_wbc_flag | lab_wbc_first | lab_wbc_min | lab_wbc_max | lab_lactate_flag | ⋯ | lab_sodium_min | lab_sodium_max | lab_chloride_flag | lab_chloride_first | lab_chloride_min | lab_chloride_max | lab_ph_flag | lab_ph_first | lab_ph_min | lab_ph_max | \n",
       "|---|---|---|---|---|---|---|---|---|---|\n",
       "| 125078 | 1      | 13.0   | 13.0   | 14.4   | 1      | 13.6   | 13.6   | 16.9   | 1      | ⋯      | 160    | 165    | 1      | 123    | 123    | 128    | 1      | 7.45   | 7.42   | 7.45   | \n",
       "| 151232 | 1      |  9.8   |  9.8   |  9.8   | 1      |  7.8   |  7.8   |  7.8   | 0      | ⋯      | 139    | 139    | 1      | 105    | 105    | 105    | 0      |   NA   |   NA   |   NA   | \n",
       "| 164444 | 1      | 15.0   | 15.0   | 15.0   | 1      | 12.9   | 12.9   | 12.9   | 0      | ⋯      | 142    | 146    | 1      | 108    | 107    | 112    | 1      | 7.49   | 7.49   | 7.49   | \n",
       "| 146726 | 1      | 12.4   | 12.4   | 12.4   | 1      |  7.2   |  7.2   |  7.2   | 1      | ⋯      | 134    | 136    | 1      | 100    | 100    | 105    | 1      | 7.44   | 7.44   | 7.44   | \n",
       "| 160170 | 1      | 11.9   | 11.9   | 11.9   | 1      |  2.1   |  2.1   |  2.1   | 0      | ⋯      | 138    | 138    | 1      | 103    | 103    | 103    | 0      |   NA   |   NA   |   NA   | \n",
       "| 112553 | 1      |  8.3   |  8.3   |  8.3   | 1      | 17.5   | 17.5   | 17.5   | 0      | ⋯      | 143    | 147    | 1      | 118    | 113    | 118    | 0      |   NA   |   NA   |   NA   | \n",
       "| 151997 | 1      |  7.8   |  7.8   |  7.8   | 1      |  3.4   |  3.4   |  3.4   | 1      | ⋯      | 131    | 148    | 1      |  97    |  97    | 120    | 1      | 7.61   | 7.43   | 7.61   | \n",
       "| 158611 | 1      | 10.4   | 10.4   | 10.4   | 1      | 17.0   | 17.0   | 17.0   | 0      | ⋯      | 129    | 129    | 1      |  98    |  98    |  98    | 0      |   NA   |   NA   |   NA   | \n",
       "| 105158 | 1      | 12.3   |  8.8   | 12.3   | 1      | 61.5   | 61.5   | 76.9   | 1      | ⋯      | 146    | 151    | 1      | 108    | 104    | 108    | 1      | 6.82   | 6.82   | 7.30   | \n",
       "| 194870 | 1      | 11.8   | 11.3   | 11.8   | 1      | 20.3   | 15.3   | 20.3   | 1      | ⋯      | 135    | 136    | 1      |  99    |  99    | 104    | 1      | 7.09   | 7.09   | 7.33   | \n",
       "\n",
       "\n"
      ],
      "text/plain": [
       "   hadm_id lab_hemoglobin_flag lab_hemoglobin_first lab_hemoglobin_min\n",
       "1  125078  1                   13.0                 13.0              \n",
       "2  151232  1                    9.8                  9.8              \n",
       "3  164444  1                   15.0                 15.0              \n",
       "4  146726  1                   12.4                 12.4              \n",
       "5  160170  1                   11.9                 11.9              \n",
       "6  112553  1                    8.3                  8.3              \n",
       "7  151997  1                    7.8                  7.8              \n",
       "8  158611  1                   10.4                 10.4              \n",
       "9  105158  1                   12.3                  8.8              \n",
       "10 194870  1                   11.8                 11.3              \n",
       "   lab_hemoglobin_max lab_wbc_flag lab_wbc_first lab_wbc_min lab_wbc_max\n",
       "1  14.4               1            13.6          13.6        16.9       \n",
       "2   9.8               1             7.8           7.8         7.8       \n",
       "3  15.0               1            12.9          12.9        12.9       \n",
       "4  12.4               1             7.2           7.2         7.2       \n",
       "5  11.9               1             2.1           2.1         2.1       \n",
       "6   8.3               1            17.5          17.5        17.5       \n",
       "7   7.8               1             3.4           3.4         3.4       \n",
       "8  10.4               1            17.0          17.0        17.0       \n",
       "9  12.3               1            61.5          61.5        76.9       \n",
       "10 11.8               1            20.3          15.3        20.3       \n",
       "   lab_lactate_flag ⋯ lab_sodium_min lab_sodium_max lab_chloride_flag\n",
       "1  1                ⋯ 160            165            1                \n",
       "2  0                ⋯ 139            139            1                \n",
       "3  0                ⋯ 142            146            1                \n",
       "4  1                ⋯ 134            136            1                \n",
       "5  0                ⋯ 138            138            1                \n",
       "6  0                ⋯ 143            147            1                \n",
       "7  1                ⋯ 131            148            1                \n",
       "8  0                ⋯ 129            129            1                \n",
       "9  1                ⋯ 146            151            1                \n",
       "10 1                ⋯ 135            136            1                \n",
       "   lab_chloride_first lab_chloride_min lab_chloride_max lab_ph_flag\n",
       "1  123                123              128              1          \n",
       "2  105                105              105              0          \n",
       "3  108                107              112              1          \n",
       "4  100                100              105              1          \n",
       "5  103                103              103              0          \n",
       "6  118                113              118              0          \n",
       "7   97                 97              120              1          \n",
       "8   98                 98               98              0          \n",
       "9  108                104              108              1          \n",
       "10  99                 99              104              1          \n",
       "   lab_ph_first lab_ph_min lab_ph_max\n",
       "1  7.45         7.42       7.45      \n",
       "2    NA           NA         NA      \n",
       "3  7.49         7.49       7.49      \n",
       "4  7.44         7.44       7.44      \n",
       "5    NA           NA         NA      \n",
       "6    NA           NA         NA      \n",
       "7  7.61         7.43       7.61      \n",
       "8    NA           NA         NA      \n",
       "9  6.82         6.82       7.30      \n",
       "10 7.09         7.09       7.33      "
      ]
     },
     "metadata": {},
     "output_type": "display_data"
    }
   ],
   "source": [
    "dbGetQuery(con, \"select * from lab_unpivot limit 10\")"
   ]
  },
  {
   "cell_type": "code",
   "execution_count": 10,
   "metadata": {},
   "outputs": [
    {
     "data": {
      "text/html": [
       "TRUE"
      ],
      "text/latex": [
       "TRUE"
      ],
      "text/markdown": [
       "TRUE"
      ],
      "text/plain": [
       "[1] TRUE"
      ]
     },
     "metadata": {},
     "output_type": "display_data"
    },
    {
     "data": {
      "text/html": [
       "TRUE"
      ],
      "text/latex": [
       "TRUE"
      ],
      "text/markdown": [
       "TRUE"
      ],
      "text/plain": [
       "[1] TRUE"
      ]
     },
     "metadata": {},
     "output_type": "display_data"
    }
   ],
   "source": [
    "dbDisconnect(con)\n",
    "dbUnloadDriver(drv)"
   ]
  }
 ],
 "metadata": {
  "kernelspec": {
   "display_name": "R",
   "language": "R",
   "name": "ir"
  },
  "language_info": {
   "codemirror_mode": "r",
   "file_extension": ".r",
   "mimetype": "text/x-r-source",
   "name": "R",
   "pygments_lexer": "r",
   "version": "3.4.1"
  },
  "varInspector": {
   "cols": {
    "lenName": 16,
    "lenType": 16,
    "lenVar": 40
   },
   "kernels_config": {
    "python": {
     "delete_cmd_postfix": "",
     "delete_cmd_prefix": "del ",
     "library": "var_list.py",
     "varRefreshCmd": "print(var_dic_list())"
    },
    "r": {
     "delete_cmd_postfix": ") ",
     "delete_cmd_prefix": "rm(",
     "library": "var_list.r",
     "varRefreshCmd": "cat(var_dic_list()) "
    }
   },
   "types_to_exclude": [
    "module",
    "function",
    "builtin_function_or_method",
    "instance",
    "_Feature"
   ],
   "window_display": false
  }
 },
 "nbformat": 4,
 "nbformat_minor": 2
}
