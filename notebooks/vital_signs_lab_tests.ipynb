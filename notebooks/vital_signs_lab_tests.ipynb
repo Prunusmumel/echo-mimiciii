{
 "cells": [
  {
   "cell_type": "code",
   "execution_count": 1,
   "metadata": {},
   "outputs": [
    {
     "name": "stderr",
     "output_type": "stream",
     "text": [
      "Loading tidyverse: ggplot2\n",
      "Loading tidyverse: tibble\n",
      "Loading tidyverse: tidyr\n",
      "Loading tidyverse: readr\n",
      "Loading tidyverse: purrr\n",
      "Loading tidyverse: dplyr\n",
      "Conflicts with tidy packages ---------------------------------------------------\n",
      "filter(): dplyr, stats\n",
      "lag():    dplyr, stats\n",
      "Loading required package: DBI\n"
     ]
    }
   ],
   "source": [
    "library(tidyverse)\n",
    "library(RPostgreSQL)"
   ]
  },
  {
   "cell_type": "code",
   "execution_count": 2,
   "metadata": {},
   "outputs": [],
   "source": [
    "source(\"utils.R\")"
   ]
  },
  {
   "cell_type": "code",
   "execution_count": 3,
   "metadata": {},
   "outputs": [
    {
     "data": {
      "text/html": [
       "<ol class=list-inline>\n",
       "\t<li>'basics.sql'</li>\n",
       "\t<li>'cohort.sql'</li>\n",
       "\t<li>'lab_tests.sql'</li>\n",
       "\t<li>'population.sql'</li>\n",
       "\t<li>'vital_signs.sql'</li>\n",
       "</ol>\n"
      ],
      "text/latex": [
       "\\begin{enumerate*}\n",
       "\\item 'basics.sql'\n",
       "\\item 'cohort.sql'\n",
       "\\item 'lab\\_tests.sql'\n",
       "\\item 'population.sql'\n",
       "\\item 'vital\\_signs.sql'\n",
       "\\end{enumerate*}\n"
      ],
      "text/markdown": [
       "1. 'basics.sql'\n",
       "2. 'cohort.sql'\n",
       "3. 'lab_tests.sql'\n",
       "4. 'population.sql'\n",
       "5. 'vital_signs.sql'\n",
       "\n",
       "\n"
      ],
      "text/plain": [
       "[1] \"basics.sql\"      \"cohort.sql\"      \"lab_tests.sql\"   \"population.sql\" \n",
       "[5] \"vital_signs.sql\""
      ]
     },
     "metadata": {},
     "output_type": "display_data"
    }
   ],
   "source": [
    "sql_dir <- file.path(\"..\", \"sql\")\n",
    "list.files(sql_dir)"
   ]
  },
  {
   "cell_type": "code",
   "execution_count": 4,
   "metadata": {},
   "outputs": [
    {
     "data": {
      "text/plain": [
       "<PostgreSQLResult>"
      ]
     },
     "metadata": {},
     "output_type": "display_data"
    }
   ],
   "source": [
    "drv <- dbDriver(\"PostgreSQL\")\n",
    "con <- dbConnect(drv, dbname = \"mimic\")\n",
    "dbSendQuery(con, \"set search_path=echo,public,mimiciii;\")"
   ]
  },
  {
   "cell_type": "code",
   "execution_count": 5,
   "metadata": {},
   "outputs": [],
   "source": [
    "sql <- readr::read_file(file.path(sql_dir, \"vital_signs.sql\")) %>%\n",
    "    make_view_sql(\"vital_signs\", \"materialized view\")"
   ]
  },
  {
   "cell_type": "code",
   "execution_count": 6,
   "metadata": {},
   "outputs": [
    {
     "data": {
      "text/plain": [
       "<PostgreSQLResult>"
      ]
     },
     "metadata": {},
     "output_type": "display_data"
    }
   ],
   "source": [
    "dbSendQuery(con, sql)"
   ]
  },
  {
   "cell_type": "code",
   "execution_count": 7,
   "metadata": {},
   "outputs": [
    {
     "data": {
      "text/html": [
       "<table>\n",
       "<thead><tr><th scope=col>subject_id</th><th scope=col>hadm_id</th><th scope=col>icustay_id</th><th scope=col>charttime</th><th scope=col>label</th><th scope=col>valuenum</th></tr></thead>\n",
       "<tbody>\n",
       "\t<tr><td> 3                 </td><td>145834             </td><td>211552             </td><td>2101-10-21 07:05:00</td><td>map                </td><td>68                 </td></tr>\n",
       "\t<tr><td> 3                 </td><td>145834             </td><td>211552             </td><td>2101-10-21 07:05:00</td><td>cvp                </td><td>10                 </td></tr>\n",
       "\t<tr><td> 3                 </td><td>145834             </td><td>211552             </td><td>2101-10-21 08:00:00</td><td>map                </td><td>67                 </td></tr>\n",
       "\t<tr><td> 3                 </td><td>145834             </td><td>211552             </td><td>2101-10-21 08:00:00</td><td>cvp                </td><td>10                 </td></tr>\n",
       "\t<tr><td>31                 </td><td>128652             </td><td>254478             </td><td>2108-08-23 20:00:00</td><td>map                </td><td>68                 </td></tr>\n",
       "\t<tr><td>31                 </td><td>128652             </td><td>254478             </td><td>2108-08-23 21:00:00</td><td>map                </td><td>79                 </td></tr>\n",
       "\t<tr><td> 3                 </td><td>145834             </td><td>211552             </td><td>2101-10-20 20:30:00</td><td>map                </td><td>61                 </td></tr>\n",
       "\t<tr><td> 3                 </td><td>145834             </td><td>211552             </td><td>2101-10-20 20:45:00</td><td>map                </td><td>67                 </td></tr>\n",
       "\t<tr><td> 3                 </td><td>145834             </td><td>211552             </td><td>2101-10-20 21:00:00</td><td>map                </td><td>55                 </td></tr>\n",
       "\t<tr><td> 3                 </td><td>145834             </td><td>211552             </td><td>2101-10-20 21:15:00</td><td>map                </td><td>66                 </td></tr>\n",
       "</tbody>\n",
       "</table>\n"
      ],
      "text/latex": [
       "\\begin{tabular}{r|llllll}\n",
       " subject\\_id & hadm\\_id & icustay\\_id & charttime & label & valuenum\\\\\n",
       "\\hline\n",
       "\t  3                  & 145834              & 211552              & 2101-10-21 07:05:00 & map                 & 68                 \\\\\n",
       "\t  3                  & 145834              & 211552              & 2101-10-21 07:05:00 & cvp                 & 10                 \\\\\n",
       "\t  3                  & 145834              & 211552              & 2101-10-21 08:00:00 & map                 & 67                 \\\\\n",
       "\t  3                  & 145834              & 211552              & 2101-10-21 08:00:00 & cvp                 & 10                 \\\\\n",
       "\t 31                  & 128652              & 254478              & 2108-08-23 20:00:00 & map                 & 68                 \\\\\n",
       "\t 31                  & 128652              & 254478              & 2108-08-23 21:00:00 & map                 & 79                 \\\\\n",
       "\t  3                  & 145834              & 211552              & 2101-10-20 20:30:00 & map                 & 61                 \\\\\n",
       "\t  3                  & 145834              & 211552              & 2101-10-20 20:45:00 & map                 & 67                 \\\\\n",
       "\t  3                  & 145834              & 211552              & 2101-10-20 21:00:00 & map                 & 55                 \\\\\n",
       "\t  3                  & 145834              & 211552              & 2101-10-20 21:15:00 & map                 & 66                 \\\\\n",
       "\\end{tabular}\n"
      ],
      "text/markdown": [
       "\n",
       "subject_id | hadm_id | icustay_id | charttime | label | valuenum | \n",
       "|---|---|---|---|---|---|---|---|---|---|\n",
       "|  3                  | 145834              | 211552              | 2101-10-21 07:05:00 | map                 | 68                  | \n",
       "|  3                  | 145834              | 211552              | 2101-10-21 07:05:00 | cvp                 | 10                  | \n",
       "|  3                  | 145834              | 211552              | 2101-10-21 08:00:00 | map                 | 67                  | \n",
       "|  3                  | 145834              | 211552              | 2101-10-21 08:00:00 | cvp                 | 10                  | \n",
       "| 31                  | 128652              | 254478              | 2108-08-23 20:00:00 | map                 | 68                  | \n",
       "| 31                  | 128652              | 254478              | 2108-08-23 21:00:00 | map                 | 79                  | \n",
       "|  3                  | 145834              | 211552              | 2101-10-20 20:30:00 | map                 | 61                  | \n",
       "|  3                  | 145834              | 211552              | 2101-10-20 20:45:00 | map                 | 67                  | \n",
       "|  3                  | 145834              | 211552              | 2101-10-20 21:00:00 | map                 | 55                  | \n",
       "|  3                  | 145834              | 211552              | 2101-10-20 21:15:00 | map                 | 66                  | \n",
       "\n",
       "\n"
      ],
      "text/plain": [
       "   subject_id hadm_id icustay_id charttime           label valuenum\n",
       "1   3         145834  211552     2101-10-21 07:05:00 map   68      \n",
       "2   3         145834  211552     2101-10-21 07:05:00 cvp   10      \n",
       "3   3         145834  211552     2101-10-21 08:00:00 map   67      \n",
       "4   3         145834  211552     2101-10-21 08:00:00 cvp   10      \n",
       "5  31         128652  254478     2108-08-23 20:00:00 map   68      \n",
       "6  31         128652  254478     2108-08-23 21:00:00 map   79      \n",
       "7   3         145834  211552     2101-10-20 20:30:00 map   61      \n",
       "8   3         145834  211552     2101-10-20 20:45:00 map   67      \n",
       "9   3         145834  211552     2101-10-20 21:00:00 map   55      \n",
       "10  3         145834  211552     2101-10-20 21:15:00 map   66      "
      ]
     },
     "metadata": {},
     "output_type": "display_data"
    }
   ],
   "source": [
    "sql <- \"\n",
    "select * from vital_signs limit 10;\n",
    "\"\n",
    "dbGetQuery(con, sql)"
   ]
  },
  {
   "cell_type": "code",
   "execution_count": 8,
   "metadata": {},
   "outputs": [],
   "source": [
    "sql <- readr::read_file(file.path(sql_dir, \"lab_tests.sql\")) %>%\n",
    "    make_view_sql(\"lab_tests\", \"materialized view\")"
   ]
  },
  {
   "cell_type": "code",
   "execution_count": 9,
   "metadata": {},
   "outputs": [
    {
     "data": {
      "text/plain": [
       "<PostgreSQLResult>"
      ]
     },
     "metadata": {},
     "output_type": "display_data"
    }
   ],
   "source": [
    "dbSendQuery(con, sql)"
   ]
  },
  {
   "cell_type": "code",
   "execution_count": null,
   "metadata": {},
   "outputs": [],
   "source": [
    "sql <- \"\n",
    "select * from lab_tests limit 10;\n",
    "\"\n",
    "dbGetQuery(con, sql)"
   ]
  },
  {
   "cell_type": "code",
   "execution_count": null,
   "metadata": {},
   "outputs": [],
   "source": [
    "dbDisconnect(con)\n",
    "dbUnloadDriver(drv)"
   ]
  }
 ],
 "metadata": {
  "kernelspec": {
   "display_name": "R",
   "language": "R",
   "name": "ir"
  },
  "language_info": {
   "codemirror_mode": "r",
   "file_extension": ".r",
   "mimetype": "text/x-r-source",
   "name": "R",
   "pygments_lexer": "r",
   "version": "3.4.1"
  },
  "varInspector": {
   "cols": {
    "lenName": 16,
    "lenType": 16,
    "lenVar": 40
   },
   "kernels_config": {
    "python": {
     "delete_cmd_postfix": "",
     "delete_cmd_prefix": "del ",
     "library": "var_list.py",
     "varRefreshCmd": "print(var_dic_list())"
    },
    "r": {
     "delete_cmd_postfix": ") ",
     "delete_cmd_prefix": "rm(",
     "library": "var_list.r",
     "varRefreshCmd": "cat(var_dic_list()) "
    }
   },
   "types_to_exclude": [
    "module",
    "function",
    "builtin_function_or_method",
    "instance",
    "_Feature"
   ],
   "window_display": false
  }
 },
 "nbformat": 4,
 "nbformat_minor": 2
}
