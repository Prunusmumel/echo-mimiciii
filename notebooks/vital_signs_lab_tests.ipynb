{
 "cells": [
  {
   "cell_type": "code",
   "execution_count": 1,
   "metadata": {},
   "outputs": [
    {
     "name": "stderr",
     "output_type": "stream",
     "text": [
      "Loading tidyverse: ggplot2\n",
      "Loading tidyverse: tibble\n",
      "Loading tidyverse: tidyr\n",
      "Loading tidyverse: readr\n",
      "Loading tidyverse: purrr\n",
      "Loading tidyverse: dplyr\n",
      "Conflicts with tidy packages ---------------------------------------------------\n",
      "filter(): dplyr, stats\n",
      "lag():    dplyr, stats\n",
      "Loading required package: DBI\n"
     ]
    }
   ],
   "source": [
    "library(tidyverse)\n",
    "library(RPostgreSQL)"
   ]
  },
  {
   "cell_type": "code",
   "execution_count": 2,
   "metadata": {},
   "outputs": [],
   "source": [
    "source(\"utils.R\")"
   ]
  },
  {
   "cell_type": "code",
   "execution_count": 3,
   "metadata": {},
   "outputs": [
    {
     "data": {
      "text/html": [
       "<ol class=list-inline>\n",
       "\t<li>'cohort.sql'</li>\n",
       "\t<li>'data.sql'</li>\n",
       "\t<li>'lab_tests.sql'</li>\n",
       "\t<li>'population.sql'</li>\n",
       "\t<li>'vital_signs.sql'</li>\n",
       "</ol>\n"
      ],
      "text/latex": [
       "\\begin{enumerate*}\n",
       "\\item 'cohort.sql'\n",
       "\\item 'data.sql'\n",
       "\\item 'lab\\_tests.sql'\n",
       "\\item 'population.sql'\n",
       "\\item 'vital\\_signs.sql'\n",
       "\\end{enumerate*}\n"
      ],
      "text/markdown": [
       "1. 'cohort.sql'\n",
       "2. 'data.sql'\n",
       "3. 'lab_tests.sql'\n",
       "4. 'population.sql'\n",
       "5. 'vital_signs.sql'\n",
       "\n",
       "\n"
      ],
      "text/plain": [
       "[1] \"cohort.sql\"      \"data.sql\"        \"lab_tests.sql\"   \"population.sql\" \n",
       "[5] \"vital_signs.sql\""
      ]
     },
     "metadata": {},
     "output_type": "display_data"
    }
   ],
   "source": [
    "sql_dir <- file.path(\"..\", \"SQL\")\n",
    "list.files(sql_dir)"
   ]
  },
  {
   "cell_type": "code",
   "execution_count": 4,
   "metadata": {},
   "outputs": [
    {
     "data": {
      "text/plain": [
       "<PostgreSQLResult>"
      ]
     },
     "metadata": {},
     "output_type": "display_data"
    }
   ],
   "source": [
    "drv <- dbDriver(\"PostgreSQL\")\n",
    "con <- dbConnect(drv, dbname = \"mimic\", user = \"lcp_db_user\")\n",
    "dbSendQuery(con, \"set search_path=echo,public,mimiciii;\")"
   ]
  },
  {
   "cell_type": "code",
   "execution_count": 5,
   "metadata": {},
   "outputs": [],
   "source": [
    "sql <- readr::read_file(file.path(sql_dir, \"vital_signs.sql\")) %>%\n",
    "    make_view_sql(\"vital_signs\", \"view\")"
   ]
  },
  {
   "cell_type": "code",
   "execution_count": 6,
   "metadata": {},
   "outputs": [
    {
     "data": {
      "text/plain": [
       "<PostgreSQLResult>"
      ]
     },
     "metadata": {},
     "output_type": "display_data"
    }
   ],
   "source": [
    "dbSendQuery(con, sql)"
   ]
  },
  {
   "cell_type": "code",
   "execution_count": 7,
   "metadata": {},
   "outputs": [
    {
     "data": {
      "text/html": [
       "<table>\n",
       "<thead><tr><th scope=col>subject_id</th><th scope=col>hadm_id</th><th scope=col>icustay_id</th><th scope=col>charttime</th><th scope=col>label</th><th scope=col>valuenum</th></tr></thead>\n",
       "<tbody>\n",
       "\t<tr><td>250                </td><td>124271             </td><td>205951             </td><td>2188-11-13 06:30:00</td><td>map                </td><td>73                 </td></tr>\n",
       "\t<tr><td>250                </td><td>124271             </td><td>205951             </td><td>2188-11-13 06:30:00</td><td>cvp                </td><td>18                 </td></tr>\n",
       "\t<tr><td>250                </td><td>124271             </td><td>205951             </td><td>2188-11-13 06:45:00</td><td>map                </td><td>73                 </td></tr>\n",
       "\t<tr><td>250                </td><td>124271             </td><td>205951             </td><td>2188-11-13 06:45:00</td><td>cvp                </td><td>18                 </td></tr>\n",
       "\t<tr><td>250                </td><td>124271             </td><td>205951             </td><td>2188-11-13 07:00:00</td><td>map                </td><td>73                 </td></tr>\n",
       "\t<tr><td>250                </td><td>124271             </td><td>205951             </td><td>2188-11-13 07:00:00</td><td>cvp                </td><td>19                 </td></tr>\n",
       "\t<tr><td>252                </td><td>190159             </td><td>221239             </td><td>2133-03-31 12:00:00</td><td>map                </td><td>91                 </td></tr>\n",
       "\t<tr><td>252                </td><td>190159             </td><td>221239             </td><td>2133-04-01 04:00:00</td><td>map                </td><td>69                 </td></tr>\n",
       "\t<tr><td>252                </td><td>190159             </td><td>221239             </td><td>2133-04-01 04:00:00</td><td>cvp                </td><td>12                 </td></tr>\n",
       "\t<tr><td>250                </td><td>124271             </td><td>205951             </td><td>2188-11-13 04:15:00</td><td>map                </td><td>70                 </td></tr>\n",
       "</tbody>\n",
       "</table>\n"
      ],
      "text/latex": [
       "\\begin{tabular}{r|llllll}\n",
       " subject\\_id & hadm\\_id & icustay\\_id & charttime & label & valuenum\\\\\n",
       "\\hline\n",
       "\t 250                 & 124271              & 205951              & 2188-11-13 06:30:00 & map                 & 73                 \\\\\n",
       "\t 250                 & 124271              & 205951              & 2188-11-13 06:30:00 & cvp                 & 18                 \\\\\n",
       "\t 250                 & 124271              & 205951              & 2188-11-13 06:45:00 & map                 & 73                 \\\\\n",
       "\t 250                 & 124271              & 205951              & 2188-11-13 06:45:00 & cvp                 & 18                 \\\\\n",
       "\t 250                 & 124271              & 205951              & 2188-11-13 07:00:00 & map                 & 73                 \\\\\n",
       "\t 250                 & 124271              & 205951              & 2188-11-13 07:00:00 & cvp                 & 19                 \\\\\n",
       "\t 252                 & 190159              & 221239              & 2133-03-31 12:00:00 & map                 & 91                 \\\\\n",
       "\t 252                 & 190159              & 221239              & 2133-04-01 04:00:00 & map                 & 69                 \\\\\n",
       "\t 252                 & 190159              & 221239              & 2133-04-01 04:00:00 & cvp                 & 12                 \\\\\n",
       "\t 250                 & 124271              & 205951              & 2188-11-13 04:15:00 & map                 & 70                 \\\\\n",
       "\\end{tabular}\n"
      ],
      "text/markdown": [
       "\n",
       "subject_id | hadm_id | icustay_id | charttime | label | valuenum | \n",
       "|---|---|---|---|---|---|---|---|---|---|\n",
       "| 250                 | 124271              | 205951              | 2188-11-13 06:30:00 | map                 | 73                  | \n",
       "| 250                 | 124271              | 205951              | 2188-11-13 06:30:00 | cvp                 | 18                  | \n",
       "| 250                 | 124271              | 205951              | 2188-11-13 06:45:00 | map                 | 73                  | \n",
       "| 250                 | 124271              | 205951              | 2188-11-13 06:45:00 | cvp                 | 18                  | \n",
       "| 250                 | 124271              | 205951              | 2188-11-13 07:00:00 | map                 | 73                  | \n",
       "| 250                 | 124271              | 205951              | 2188-11-13 07:00:00 | cvp                 | 19                  | \n",
       "| 252                 | 190159              | 221239              | 2133-03-31 12:00:00 | map                 | 91                  | \n",
       "| 252                 | 190159              | 221239              | 2133-04-01 04:00:00 | map                 | 69                  | \n",
       "| 252                 | 190159              | 221239              | 2133-04-01 04:00:00 | cvp                 | 12                  | \n",
       "| 250                 | 124271              | 205951              | 2188-11-13 04:15:00 | map                 | 70                  | \n",
       "\n",
       "\n"
      ],
      "text/plain": [
       "   subject_id hadm_id icustay_id charttime           label valuenum\n",
       "1  250        124271  205951     2188-11-13 06:30:00 map   73      \n",
       "2  250        124271  205951     2188-11-13 06:30:00 cvp   18      \n",
       "3  250        124271  205951     2188-11-13 06:45:00 map   73      \n",
       "4  250        124271  205951     2188-11-13 06:45:00 cvp   18      \n",
       "5  250        124271  205951     2188-11-13 07:00:00 map   73      \n",
       "6  250        124271  205951     2188-11-13 07:00:00 cvp   19      \n",
       "7  252        190159  221239     2133-03-31 12:00:00 map   91      \n",
       "8  252        190159  221239     2133-04-01 04:00:00 map   69      \n",
       "9  252        190159  221239     2133-04-01 04:00:00 cvp   12      \n",
       "10 250        124271  205951     2188-11-13 04:15:00 map   70      "
      ]
     },
     "metadata": {},
     "output_type": "display_data"
    }
   ],
   "source": [
    "sql <- \"\n",
    "select * from vital_signs limit 10;\n",
    "\"\n",
    "dbGetQuery(con, sql)"
   ]
  },
  {
   "cell_type": "code",
   "execution_count": 8,
   "metadata": {},
   "outputs": [],
   "source": [
    "sql <- readr::read_file(file.path(sql_dir, \"lab_tests.sql\")) %>%\n",
    "    make_view_sql(\"lab_tests\", \"view\")"
   ]
  },
  {
   "cell_type": "code",
   "execution_count": 9,
   "metadata": {},
   "outputs": [
    {
     "data": {
      "text/plain": [
       "<PostgreSQLResult>"
      ]
     },
     "metadata": {},
     "output_type": "display_data"
    }
   ],
   "source": [
    "dbSendQuery(con, sql)"
   ]
  },
  {
   "cell_type": "code",
   "execution_count": 10,
   "metadata": {},
   "outputs": [
    {
     "data": {
      "text/html": [
       "<table>\n",
       "<thead><tr><th scope=col>subject_id</th><th scope=col>hadm_id</th><th scope=col>icustay_id</th><th scope=col>charttime</th><th scope=col>label</th><th scope=col>valuenum</th></tr></thead>\n",
       "<tbody>\n",
       "\t<tr><td>3                  </td><td>145834             </td><td>211552             </td><td>2101-10-20 19:26:00</td><td>bun                </td><td> 41.0              </td></tr>\n",
       "\t<tr><td>3                  </td><td>145834             </td><td>211552             </td><td>2101-10-20 19:26:00</td><td>hemoglobin         </td><td>  7.8              </td></tr>\n",
       "\t<tr><td>3                  </td><td>145834             </td><td>211552             </td><td>2101-10-20 19:26:00</td><td>platelet           </td><td>190.0              </td></tr>\n",
       "\t<tr><td>3                  </td><td>145834             </td><td>211552             </td><td>2101-10-20 19:26:00</td><td>wbc                </td><td> 11.3              </td></tr>\n",
       "\t<tr><td>3                  </td><td>145834             </td><td>211552             </td><td>2101-10-20 19:59:00</td><td>bicarbonate        </td><td> 11.0              </td></tr>\n",
       "\t<tr><td>3                  </td><td>145834             </td><td>211552             </td><td>2101-10-20 19:59:00</td><td>chloride           </td><td>111.0              </td></tr>\n",
       "\t<tr><td>3                  </td><td>145834             </td><td>211552             </td><td>2101-10-20 19:59:00</td><td>creatinine_kinase  </td><td> 82.0              </td></tr>\n",
       "\t<tr><td>3                  </td><td>145834             </td><td>211552             </td><td>2101-10-20 19:59:00</td><td>creatinine_kinase  </td><td>   NA              </td></tr>\n",
       "\t<tr><td>3                  </td><td>145834             </td><td>211552             </td><td>2101-10-20 19:59:00</td><td>creatinine         </td><td>  2.5              </td></tr>\n",
       "\t<tr><td>3                  </td><td>145834             </td><td>211552             </td><td>2101-10-20 19:59:00</td><td>potassium          </td><td>  4.1              </td></tr>\n",
       "</tbody>\n",
       "</table>\n"
      ],
      "text/latex": [
       "\\begin{tabular}{r|llllll}\n",
       " subject\\_id & hadm\\_id & icustay\\_id & charttime & label & valuenum\\\\\n",
       "\\hline\n",
       "\t 3                   & 145834              & 211552              & 2101-10-20 19:26:00 & bun                 &  41.0              \\\\\n",
       "\t 3                   & 145834              & 211552              & 2101-10-20 19:26:00 & hemoglobin          &   7.8              \\\\\n",
       "\t 3                   & 145834              & 211552              & 2101-10-20 19:26:00 & platelet            & 190.0              \\\\\n",
       "\t 3                   & 145834              & 211552              & 2101-10-20 19:26:00 & wbc                 &  11.3              \\\\\n",
       "\t 3                   & 145834              & 211552              & 2101-10-20 19:59:00 & bicarbonate         &  11.0              \\\\\n",
       "\t 3                   & 145834              & 211552              & 2101-10-20 19:59:00 & chloride            & 111.0              \\\\\n",
       "\t 3                   & 145834              & 211552              & 2101-10-20 19:59:00 & creatinine\\_kinase &  82.0              \\\\\n",
       "\t 3                   & 145834              & 211552              & 2101-10-20 19:59:00 & creatinine\\_kinase &    NA              \\\\\n",
       "\t 3                   & 145834              & 211552              & 2101-10-20 19:59:00 & creatinine          &   2.5              \\\\\n",
       "\t 3                   & 145834              & 211552              & 2101-10-20 19:59:00 & potassium           &   4.1              \\\\\n",
       "\\end{tabular}\n"
      ],
      "text/markdown": [
       "\n",
       "subject_id | hadm_id | icustay_id | charttime | label | valuenum | \n",
       "|---|---|---|---|---|---|---|---|---|---|\n",
       "| 3                   | 145834              | 211552              | 2101-10-20 19:26:00 | bun                 |  41.0               | \n",
       "| 3                   | 145834              | 211552              | 2101-10-20 19:26:00 | hemoglobin          |   7.8               | \n",
       "| 3                   | 145834              | 211552              | 2101-10-20 19:26:00 | platelet            | 190.0               | \n",
       "| 3                   | 145834              | 211552              | 2101-10-20 19:26:00 | wbc                 |  11.3               | \n",
       "| 3                   | 145834              | 211552              | 2101-10-20 19:59:00 | bicarbonate         |  11.0               | \n",
       "| 3                   | 145834              | 211552              | 2101-10-20 19:59:00 | chloride            | 111.0               | \n",
       "| 3                   | 145834              | 211552              | 2101-10-20 19:59:00 | creatinine_kinase   |  82.0               | \n",
       "| 3                   | 145834              | 211552              | 2101-10-20 19:59:00 | creatinine_kinase   |    NA               | \n",
       "| 3                   | 145834              | 211552              | 2101-10-20 19:59:00 | creatinine          |   2.5               | \n",
       "| 3                   | 145834              | 211552              | 2101-10-20 19:59:00 | potassium           |   4.1               | \n",
       "\n",
       "\n"
      ],
      "text/plain": [
       "   subject_id hadm_id icustay_id charttime           label             valuenum\n",
       "1  3          145834  211552     2101-10-20 19:26:00 bun                41.0   \n",
       "2  3          145834  211552     2101-10-20 19:26:00 hemoglobin          7.8   \n",
       "3  3          145834  211552     2101-10-20 19:26:00 platelet          190.0   \n",
       "4  3          145834  211552     2101-10-20 19:26:00 wbc                11.3   \n",
       "5  3          145834  211552     2101-10-20 19:59:00 bicarbonate        11.0   \n",
       "6  3          145834  211552     2101-10-20 19:59:00 chloride          111.0   \n",
       "7  3          145834  211552     2101-10-20 19:59:00 creatinine_kinase  82.0   \n",
       "8  3          145834  211552     2101-10-20 19:59:00 creatinine_kinase    NA   \n",
       "9  3          145834  211552     2101-10-20 19:59:00 creatinine          2.5   \n",
       "10 3          145834  211552     2101-10-20 19:59:00 potassium           4.1   "
      ]
     },
     "metadata": {},
     "output_type": "display_data"
    }
   ],
   "source": [
    "sql <- \"\n",
    "select * from lab_tests limit 10;\n",
    "\"\n",
    "dbGetQuery(con, sql)"
   ]
  },
  {
   "cell_type": "code",
   "execution_count": 11,
   "metadata": {},
   "outputs": [
    {
     "data": {
      "text/html": [
       "TRUE"
      ],
      "text/latex": [
       "TRUE"
      ],
      "text/markdown": [
       "TRUE"
      ],
      "text/plain": [
       "[1] TRUE"
      ]
     },
     "metadata": {},
     "output_type": "display_data"
    },
    {
     "data": {
      "text/html": [
       "TRUE"
      ],
      "text/latex": [
       "TRUE"
      ],
      "text/markdown": [
       "TRUE"
      ],
      "text/plain": [
       "[1] TRUE"
      ]
     },
     "metadata": {},
     "output_type": "display_data"
    }
   ],
   "source": [
    "dbDisconnect(con)\n",
    "dbUnloadDriver(drv)"
   ]
  }
 ],
 "metadata": {
  "kernelspec": {
   "display_name": "R",
   "language": "R",
   "name": "ir"
  },
  "language_info": {
   "codemirror_mode": "r",
   "file_extension": ".r",
   "mimetype": "text/x-r-source",
   "name": "R",
   "pygments_lexer": "r",
   "version": "3.4.2"
  },
  "varInspector": {
   "cols": {
    "lenName": 16,
    "lenType": 16,
    "lenVar": 40
   },
   "kernels_config": {
    "python": {
     "delete_cmd_postfix": "",
     "delete_cmd_prefix": "del ",
     "library": "var_list.py",
     "varRefreshCmd": "print(var_dic_list())"
    },
    "r": {
     "delete_cmd_postfix": ") ",
     "delete_cmd_prefix": "rm(",
     "library": "var_list.r",
     "varRefreshCmd": "cat(var_dic_list()) "
    }
   },
   "types_to_exclude": [
    "module",
    "function",
    "builtin_function_or_method",
    "instance",
    "_Feature"
   ],
   "window_display": false
  }
 },
 "nbformat": 4,
 "nbformat_minor": 2
}
