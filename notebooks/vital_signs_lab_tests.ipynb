{
 "cells": [
  {
   "cell_type": "code",
   "execution_count": 1,
   "metadata": {},
   "outputs": [
    {
     "name": "stderr",
     "output_type": "stream",
     "text": [
      "── Attaching packages ─────────────────────────────────────── tidyverse 1.2.1 ──\n",
      "✔ ggplot2 2.2.1     ✔ purrr   0.2.4\n",
      "✔ tibble  1.3.4     ✔ dplyr   0.7.4\n",
      "✔ tidyr   0.7.2     ✔ stringr 1.2.0\n",
      "✔ readr   1.1.1     ✔ forcats 0.2.0\n",
      "── Conflicts ────────────────────────────────────────── tidyverse_conflicts() ──\n",
      "✖ dplyr::filter() masks stats::filter()\n",
      "✖ dplyr::lag()    masks stats::lag()\n",
      "Loading required package: DBI\n"
     ]
    }
   ],
   "source": [
    "library(tidyverse)\n",
    "library(RPostgreSQL)"
   ]
  },
  {
   "cell_type": "code",
   "execution_count": 2,
   "metadata": {},
   "outputs": [],
   "source": [
    "source(\"utils.R\")"
   ]
  },
  {
   "cell_type": "code",
   "execution_count": 3,
   "metadata": {},
   "outputs": [
    {
     "data": {
      "text/html": [
       "<ol class=list-inline>\n",
       "\t<li>'basics.sql'</li>\n",
       "\t<li>'cohort.sql'</li>\n",
       "\t<li>'icd9.sql'</li>\n",
       "\t<li>'lab_tests.sql'</li>\n",
       "\t<li>'lab_unpivot.sql'</li>\n",
       "\t<li>'merge_data.sql'</li>\n",
       "\t<li>'population.sql'</li>\n",
       "\t<li>'vital_signs.sql'</li>\n",
       "\t<li>'vital_signs_unpivot.sql'</li>\n",
       "</ol>\n"
      ],
      "text/latex": [
       "\\begin{enumerate*}\n",
       "\\item 'basics.sql'\n",
       "\\item 'cohort.sql'\n",
       "\\item 'icd9.sql'\n",
       "\\item 'lab\\_tests.sql'\n",
       "\\item 'lab\\_unpivot.sql'\n",
       "\\item 'merge\\_data.sql'\n",
       "\\item 'population.sql'\n",
       "\\item 'vital\\_signs.sql'\n",
       "\\item 'vital\\_signs\\_unpivot.sql'\n",
       "\\end{enumerate*}\n"
      ],
      "text/markdown": [
       "1. 'basics.sql'\n",
       "2. 'cohort.sql'\n",
       "3. 'icd9.sql'\n",
       "4. 'lab_tests.sql'\n",
       "5. 'lab_unpivot.sql'\n",
       "6. 'merge_data.sql'\n",
       "7. 'population.sql'\n",
       "8. 'vital_signs.sql'\n",
       "9. 'vital_signs_unpivot.sql'\n",
       "\n",
       "\n"
      ],
      "text/plain": [
       "[1] \"basics.sql\"              \"cohort.sql\"             \n",
       "[3] \"icd9.sql\"                \"lab_tests.sql\"          \n",
       "[5] \"lab_unpivot.sql\"         \"merge_data.sql\"         \n",
       "[7] \"population.sql\"          \"vital_signs.sql\"        \n",
       "[9] \"vital_signs_unpivot.sql\""
      ]
     },
     "metadata": {},
     "output_type": "display_data"
    }
   ],
   "source": [
    "sql_dir <- file.path(\"..\", \"sql\")\n",
    "list.files(sql_dir)"
   ]
  },
  {
   "cell_type": "code",
   "execution_count": 4,
   "metadata": {},
   "outputs": [
    {
     "data": {
      "text/plain": [
       "<PostgreSQLResult>"
      ]
     },
     "metadata": {},
     "output_type": "display_data"
    }
   ],
   "source": [
    "drv <- dbDriver(\"PostgreSQL\")\n",
    "con <- dbConnect(drv, dbname = \"mimic\")\n",
    "dbSendQuery(con, \"set search_path=echo,public,mimiciii;\")"
   ]
  },
  {
   "cell_type": "code",
   "execution_count": 5,
   "metadata": {},
   "outputs": [],
   "source": [
    "sql <- readr::read_file(file.path(sql_dir, \"vital_signs.sql\")) %>%\n",
    "    make_view_sql(\"vital_signs\", \"materialized view\")"
   ]
  },
  {
   "cell_type": "code",
   "execution_count": 6,
   "metadata": {},
   "outputs": [
    {
     "data": {
      "text/plain": [
       "<PostgreSQLResult>"
      ]
     },
     "metadata": {},
     "output_type": "display_data"
    }
   ],
   "source": [
    "dbSendQuery(con, sql)"
   ]
  },
  {
   "cell_type": "code",
   "execution_count": 7,
   "metadata": {},
   "outputs": [
    {
     "data": {
      "text/html": [
       "<table>\n",
       "<thead><tr><th scope=col>icustay_id</th><th scope=col>charttime</th><th scope=col>label</th><th scope=col>valuenum</th></tr></thead>\n",
       "<tbody>\n",
       "\t<tr><td>211552             </td><td>2101-10-21 07:05:00</td><td>map                </td><td>68                 </td></tr>\n",
       "\t<tr><td>211552             </td><td>2101-10-21 07:05:00</td><td>cvp                </td><td>10                 </td></tr>\n",
       "\t<tr><td>211552             </td><td>2101-10-21 08:00:00</td><td>map                </td><td>67                 </td></tr>\n",
       "\t<tr><td>211552             </td><td>2101-10-21 08:00:00</td><td>cvp                </td><td>10                 </td></tr>\n",
       "\t<tr><td>254478             </td><td>2108-08-23 20:00:00</td><td>map                </td><td>68                 </td></tr>\n",
       "\t<tr><td>254478             </td><td>2108-08-23 21:00:00</td><td>map                </td><td>79                 </td></tr>\n",
       "\t<tr><td>211552             </td><td>2101-10-20 20:30:00</td><td>map                </td><td>61                 </td></tr>\n",
       "\t<tr><td>211552             </td><td>2101-10-20 20:45:00</td><td>map                </td><td>67                 </td></tr>\n",
       "\t<tr><td>211552             </td><td>2101-10-20 21:00:00</td><td>map                </td><td>55                 </td></tr>\n",
       "\t<tr><td>211552             </td><td>2101-10-20 21:15:00</td><td>map                </td><td>66                 </td></tr>\n",
       "</tbody>\n",
       "</table>\n"
      ],
      "text/latex": [
       "\\begin{tabular}{r|llll}\n",
       " icustay\\_id & charttime & label & valuenum\\\\\n",
       "\\hline\n",
       "\t 211552              & 2101-10-21 07:05:00 & map                 & 68                 \\\\\n",
       "\t 211552              & 2101-10-21 07:05:00 & cvp                 & 10                 \\\\\n",
       "\t 211552              & 2101-10-21 08:00:00 & map                 & 67                 \\\\\n",
       "\t 211552              & 2101-10-21 08:00:00 & cvp                 & 10                 \\\\\n",
       "\t 254478              & 2108-08-23 20:00:00 & map                 & 68                 \\\\\n",
       "\t 254478              & 2108-08-23 21:00:00 & map                 & 79                 \\\\\n",
       "\t 211552              & 2101-10-20 20:30:00 & map                 & 61                 \\\\\n",
       "\t 211552              & 2101-10-20 20:45:00 & map                 & 67                 \\\\\n",
       "\t 211552              & 2101-10-20 21:00:00 & map                 & 55                 \\\\\n",
       "\t 211552              & 2101-10-20 21:15:00 & map                 & 66                 \\\\\n",
       "\\end{tabular}\n"
      ],
      "text/markdown": [
       "\n",
       "icustay_id | charttime | label | valuenum | \n",
       "|---|---|---|---|---|---|---|---|---|---|\n",
       "| 211552              | 2101-10-21 07:05:00 | map                 | 68                  | \n",
       "| 211552              | 2101-10-21 07:05:00 | cvp                 | 10                  | \n",
       "| 211552              | 2101-10-21 08:00:00 | map                 | 67                  | \n",
       "| 211552              | 2101-10-21 08:00:00 | cvp                 | 10                  | \n",
       "| 254478              | 2108-08-23 20:00:00 | map                 | 68                  | \n",
       "| 254478              | 2108-08-23 21:00:00 | map                 | 79                  | \n",
       "| 211552              | 2101-10-20 20:30:00 | map                 | 61                  | \n",
       "| 211552              | 2101-10-20 20:45:00 | map                 | 67                  | \n",
       "| 211552              | 2101-10-20 21:00:00 | map                 | 55                  | \n",
       "| 211552              | 2101-10-20 21:15:00 | map                 | 66                  | \n",
       "\n",
       "\n"
      ],
      "text/plain": [
       "   icustay_id charttime           label valuenum\n",
       "1  211552     2101-10-21 07:05:00 map   68      \n",
       "2  211552     2101-10-21 07:05:00 cvp   10      \n",
       "3  211552     2101-10-21 08:00:00 map   67      \n",
       "4  211552     2101-10-21 08:00:00 cvp   10      \n",
       "5  254478     2108-08-23 20:00:00 map   68      \n",
       "6  254478     2108-08-23 21:00:00 map   79      \n",
       "7  211552     2101-10-20 20:30:00 map   61      \n",
       "8  211552     2101-10-20 20:45:00 map   67      \n",
       "9  211552     2101-10-20 21:00:00 map   55      \n",
       "10 211552     2101-10-20 21:15:00 map   66      "
      ]
     },
     "metadata": {},
     "output_type": "display_data"
    }
   ],
   "source": [
    "sql <- \"\n",
    "select * from vital_signs limit 10;\n",
    "\"\n",
    "dbGetQuery(con, sql)"
   ]
  },
  {
   "cell_type": "code",
   "execution_count": 8,
   "metadata": {},
   "outputs": [],
   "source": [
    "sql <- readr::read_file(file.path(sql_dir, \"lab_tests.sql\")) %>%\n",
    "    make_view_sql(\"lab_tests\", \"materialized view\")"
   ]
  },
  {
   "cell_type": "code",
   "execution_count": 9,
   "metadata": {},
   "outputs": [
    {
     "data": {
      "text/plain": [
       "<PostgreSQLResult>"
      ]
     },
     "metadata": {},
     "output_type": "display_data"
    }
   ],
   "source": [
    "dbSendQuery(con, sql)"
   ]
  },
  {
   "cell_type": "code",
   "execution_count": 10,
   "metadata": {},
   "outputs": [
    {
     "data": {
      "text/html": [
       "<table>\n",
       "<thead><tr><th scope=col>hadm_id</th><th scope=col>charttime</th><th scope=col>label</th><th scope=col>valuenum</th><th scope=col>abnormal</th></tr></thead>\n",
       "<tbody>\n",
       "\t<tr><td>145834             </td><td>2101-10-20 19:26:00</td><td>bun                </td><td> 41.0              </td><td>1                  </td></tr>\n",
       "\t<tr><td>145834             </td><td>2101-10-20 19:26:00</td><td>hemoglobin         </td><td>  7.8              </td><td>1                  </td></tr>\n",
       "\t<tr><td>145834             </td><td>2101-10-20 19:26:00</td><td>platelet           </td><td>190.0              </td><td>0                  </td></tr>\n",
       "\t<tr><td>145834             </td><td>2101-10-20 19:26:00</td><td>wbc                </td><td> 11.3              </td><td>1                  </td></tr>\n",
       "\t<tr><td>145834             </td><td>2101-10-20 19:59:00</td><td>bicarbonate        </td><td> 11.0              </td><td>1                  </td></tr>\n",
       "\t<tr><td>145834             </td><td>2101-10-20 19:59:00</td><td>chloride           </td><td>111.0              </td><td>1                  </td></tr>\n",
       "\t<tr><td>145834             </td><td>2101-10-20 19:59:00</td><td>creatinine_kinase  </td><td> 82.0              </td><td>0                  </td></tr>\n",
       "\t<tr><td>145834             </td><td>2101-10-20 19:59:00</td><td>creatinine         </td><td>  2.5              </td><td>1                  </td></tr>\n",
       "\t<tr><td>145834             </td><td>2101-10-20 19:59:00</td><td>potassium          </td><td>  4.1              </td><td>0                  </td></tr>\n",
       "\t<tr><td>145834             </td><td>2101-10-20 19:59:00</td><td>sodium             </td><td>140.0              </td><td>0                  </td></tr>\n",
       "</tbody>\n",
       "</table>\n"
      ],
      "text/latex": [
       "\\begin{tabular}{r|lllll}\n",
       " hadm\\_id & charttime & label & valuenum & abnormal\\\\\n",
       "\\hline\n",
       "\t 145834              & 2101-10-20 19:26:00 & bun                 &  41.0               & 1                  \\\\\n",
       "\t 145834              & 2101-10-20 19:26:00 & hemoglobin          &   7.8               & 1                  \\\\\n",
       "\t 145834              & 2101-10-20 19:26:00 & platelet            & 190.0               & 0                  \\\\\n",
       "\t 145834              & 2101-10-20 19:26:00 & wbc                 &  11.3               & 1                  \\\\\n",
       "\t 145834              & 2101-10-20 19:59:00 & bicarbonate         &  11.0               & 1                  \\\\\n",
       "\t 145834              & 2101-10-20 19:59:00 & chloride            & 111.0               & 1                  \\\\\n",
       "\t 145834              & 2101-10-20 19:59:00 & creatinine\\_kinase &  82.0               & 0                  \\\\\n",
       "\t 145834              & 2101-10-20 19:59:00 & creatinine          &   2.5               & 1                  \\\\\n",
       "\t 145834              & 2101-10-20 19:59:00 & potassium           &   4.1               & 0                  \\\\\n",
       "\t 145834              & 2101-10-20 19:59:00 & sodium              & 140.0               & 0                  \\\\\n",
       "\\end{tabular}\n"
      ],
      "text/markdown": [
       "\n",
       "hadm_id | charttime | label | valuenum | abnormal | \n",
       "|---|---|---|---|---|---|---|---|---|---|\n",
       "| 145834              | 2101-10-20 19:26:00 | bun                 |  41.0               | 1                   | \n",
       "| 145834              | 2101-10-20 19:26:00 | hemoglobin          |   7.8               | 1                   | \n",
       "| 145834              | 2101-10-20 19:26:00 | platelet            | 190.0               | 0                   | \n",
       "| 145834              | 2101-10-20 19:26:00 | wbc                 |  11.3               | 1                   | \n",
       "| 145834              | 2101-10-20 19:59:00 | bicarbonate         |  11.0               | 1                   | \n",
       "| 145834              | 2101-10-20 19:59:00 | chloride            | 111.0               | 1                   | \n",
       "| 145834              | 2101-10-20 19:59:00 | creatinine_kinase   |  82.0               | 0                   | \n",
       "| 145834              | 2101-10-20 19:59:00 | creatinine          |   2.5               | 1                   | \n",
       "| 145834              | 2101-10-20 19:59:00 | potassium           |   4.1               | 0                   | \n",
       "| 145834              | 2101-10-20 19:59:00 | sodium              | 140.0               | 0                   | \n",
       "\n",
       "\n"
      ],
      "text/plain": [
       "   hadm_id charttime           label             valuenum abnormal\n",
       "1  145834  2101-10-20 19:26:00 bun                41.0    1       \n",
       "2  145834  2101-10-20 19:26:00 hemoglobin          7.8    1       \n",
       "3  145834  2101-10-20 19:26:00 platelet          190.0    0       \n",
       "4  145834  2101-10-20 19:26:00 wbc                11.3    1       \n",
       "5  145834  2101-10-20 19:59:00 bicarbonate        11.0    1       \n",
       "6  145834  2101-10-20 19:59:00 chloride          111.0    1       \n",
       "7  145834  2101-10-20 19:59:00 creatinine_kinase  82.0    0       \n",
       "8  145834  2101-10-20 19:59:00 creatinine          2.5    1       \n",
       "9  145834  2101-10-20 19:59:00 potassium           4.1    0       \n",
       "10 145834  2101-10-20 19:59:00 sodium            140.0    0       "
      ]
     },
     "metadata": {},
     "output_type": "display_data"
    }
   ],
   "source": [
    "sql <- \"\n",
    "select * from lab_tests limit 10;\n",
    "\"\n",
    "dbGetQuery(con, sql)"
   ]
  },
  {
   "cell_type": "code",
   "execution_count": 11,
   "metadata": {},
   "outputs": [
    {
     "data": {
      "text/html": [
       "TRUE"
      ],
      "text/latex": [
       "TRUE"
      ],
      "text/markdown": [
       "TRUE"
      ],
      "text/plain": [
       "[1] TRUE"
      ]
     },
     "metadata": {},
     "output_type": "display_data"
    },
    {
     "data": {
      "text/html": [
       "TRUE"
      ],
      "text/latex": [
       "TRUE"
      ],
      "text/markdown": [
       "TRUE"
      ],
      "text/plain": [
       "[1] TRUE"
      ]
     },
     "metadata": {},
     "output_type": "display_data"
    }
   ],
   "source": [
    "dbDisconnect(con)\n",
    "dbUnloadDriver(drv)"
   ]
  }
 ],
 "metadata": {
  "kernelspec": {
   "display_name": "R",
   "language": "R",
   "name": "ir"
  },
  "language_info": {
   "codemirror_mode": "r",
   "file_extension": ".r",
   "mimetype": "text/x-r-source",
   "name": "R",
   "pygments_lexer": "r",
   "version": "3.4.1"
  },
  "varInspector": {
   "cols": {
    "lenName": 16,
    "lenType": 16,
    "lenVar": 40
   },
   "kernels_config": {
    "python": {
     "delete_cmd_postfix": "",
     "delete_cmd_prefix": "del ",
     "library": "var_list.py",
     "varRefreshCmd": "print(var_dic_list())"
    },
    "r": {
     "delete_cmd_postfix": ") ",
     "delete_cmd_prefix": "rm(",
     "library": "var_list.r",
     "varRefreshCmd": "cat(var_dic_list()) "
    }
   },
   "types_to_exclude": [
    "module",
    "function",
    "builtin_function_or_method",
    "instance",
    "_Feature"
   ],
   "window_display": false
  }
 },
 "nbformat": 4,
 "nbformat_minor": 2
}
