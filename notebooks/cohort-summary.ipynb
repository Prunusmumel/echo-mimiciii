{
 "cells": [
  {
   "cell_type": "code",
   "execution_count": 1,
   "metadata": {},
   "outputs": [
    {
     "name": "stderr",
     "output_type": "stream",
     "text": [
      "Loading tidyverse: ggplot2\n",
      "Loading tidyverse: tibble\n",
      "Loading tidyverse: tidyr\n",
      "Loading tidyverse: readr\n",
      "Loading tidyverse: purrr\n",
      "Loading tidyverse: dplyr\n",
      "Conflicts with tidy packages ---------------------------------------------------\n",
      "filter(): dplyr, stats\n",
      "lag():    dplyr, stats\n",
      "Loading required package: DBI\n"
     ]
    }
   ],
   "source": [
    "library(tidyverse)\n",
    "library(RPostgreSQL)"
   ]
  },
  {
   "cell_type": "code",
   "execution_count": 2,
   "metadata": {},
   "outputs": [
    {
     "data": {
      "text/html": [
       "<ol class=list-inline>\n",
       "\t<li>'ICUSTAY_ID,'</li>\n",
       "\t<li>'README.md'</li>\n",
       "\t<li>'sample.sql'</li>\n",
       "\t<li>'sepsis_data.sql'</li>\n",
       "\t<li>'sepsis_echo_cohort.sql'</li>\n",
       "\t<li>'test.sql'</li>\n",
       "</ol>\n"
      ],
      "text/latex": [
       "\\begin{enumerate*}\n",
       "\\item 'ICUSTAY\\_ID,'\n",
       "\\item 'README.md'\n",
       "\\item 'sample.sql'\n",
       "\\item 'sepsis\\_data.sql'\n",
       "\\item 'sepsis\\_echo\\_cohort.sql'\n",
       "\\item 'test.sql'\n",
       "\\end{enumerate*}\n"
      ],
      "text/markdown": [
       "1. 'ICUSTAY_ID,'\n",
       "2. 'README.md'\n",
       "3. 'sample.sql'\n",
       "4. 'sepsis_data.sql'\n",
       "5. 'sepsis_echo_cohort.sql'\n",
       "6. 'test.sql'\n",
       "\n",
       "\n"
      ],
      "text/plain": [
       "[1] \"ICUSTAY_ID,\"            \"README.md\"              \"sample.sql\"            \n",
       "[4] \"sepsis_data.sql\"        \"sepsis_echo_cohort.sql\" \"test.sql\"              "
      ]
     },
     "metadata": {},
     "output_type": "display_data"
    }
   ],
   "source": [
    "sql_dir <- file.path(\"..\", \"SQL\")\n",
    "list.files(sql_dir)"
   ]
  },
  {
   "cell_type": "code",
   "execution_count": 3,
   "metadata": {},
   "outputs": [
    {
     "data": {
      "text/plain": [
       "<PostgreSQLResult>"
      ]
     },
     "metadata": {},
     "output_type": "display_data"
    }
   ],
   "source": [
    "drv <- dbDriver(\"PostgreSQL\")\n",
    "con <- dbConnect(drv, dbname = \"mimic\", user = \"lcp_db_user\")\n",
    "dbSendQuery(con, \"set search_path=echo,public,mimiciii;\")"
   ]
  },
  {
   "cell_type": "markdown",
   "metadata": {},
   "source": [
    "#### Cohort size (adults in their 1st ICU stay)"
   ]
  },
  {
   "cell_type": "code",
   "execution_count": 4,
   "metadata": {},
   "outputs": [
    {
     "data": {
      "text/html": [
       "<table>\n",
       "<thead><tr><th scope=col>count</th></tr></thead>\n",
       "<tbody>\n",
       "\t<tr><td>53362</td></tr>\n",
       "</tbody>\n",
       "</table>\n"
      ],
      "text/latex": [
       "\\begin{tabular}{r|l}\n",
       " count\\\\\n",
       "\\hline\n",
       "\t 53362\\\\\n",
       "\\end{tabular}\n"
      ],
      "text/markdown": [
       "\n",
       "count | \n",
       "|---|\n",
       "| 53362 | \n",
       "\n",
       "\n"
      ],
      "text/plain": [
       "  count\n",
       "1 53362"
      ]
     },
     "metadata": {},
     "output_type": "display_data"
    }
   ],
   "source": [
    "dbGetQuery(con, \"select count(*) from cohort;\")"
   ]
  },
  {
   "cell_type": "markdown",
   "metadata": {},
   "source": [
    "#### Angus"
   ]
  },
  {
   "cell_type": "code",
   "execution_count": 5,
   "metadata": {},
   "outputs": [
    {
     "data": {
      "text/html": [
       "<table>\n",
       "<thead><tr><th scope=col>cohort</th><th scope=col>angus</th><th scope=col>ratio</th></tr></thead>\n",
       "<tbody>\n",
       "\t<tr><td>53362   </td><td>16125   </td><td>30.21813</td></tr>\n",
       "</tbody>\n",
       "</table>\n"
      ],
      "text/latex": [
       "\\begin{tabular}{r|lll}\n",
       " cohort & angus & ratio\\\\\n",
       "\\hline\n",
       "\t 53362    & 16125    & 30.21813\\\\\n",
       "\\end{tabular}\n"
      ],
      "text/markdown": [
       "\n",
       "cohort | angus | ratio | \n",
       "|---|\n",
       "| 53362    | 16125    | 30.21813 | \n",
       "\n",
       "\n"
      ],
      "text/plain": [
       "  cohort angus ratio   \n",
       "1 53362  16125 30.21813"
      ]
     },
     "metadata": {},
     "output_type": "display_data"
    }
   ],
   "source": [
    "sql <- \"\n",
    "select (select count(*) from cohort) as cohort,\n",
    "       count(*) as angus\n",
    "  from cohort\n",
    " where angus = 1;\n",
    "\"\n",
    "dbGetQuery(con, sql) %>% mutate(ratio = angus / cohort * 100)"
   ]
  },
  {
   "cell_type": "markdown",
   "metadata": {},
   "source": [
    "#### Echo"
   ]
  },
  {
   "cell_type": "code",
   "execution_count": 6,
   "metadata": {},
   "outputs": [
    {
     "data": {
      "text/html": [
       "<table>\n",
       "<thead><tr><th scope=col>cohort</th><th scope=col>echo</th><th scope=col>ratio</th></tr></thead>\n",
       "<tbody>\n",
       "\t<tr><td>53362   </td><td>25972   </td><td>48.67134</td></tr>\n",
       "</tbody>\n",
       "</table>\n"
      ],
      "text/latex": [
       "\\begin{tabular}{r|lll}\n",
       " cohort & echo & ratio\\\\\n",
       "\\hline\n",
       "\t 53362    & 25972    & 48.67134\\\\\n",
       "\\end{tabular}\n"
      ],
      "text/markdown": [
       "\n",
       "cohort | echo | ratio | \n",
       "|---|\n",
       "| 53362    | 25972    | 48.67134 | \n",
       "\n",
       "\n"
      ],
      "text/plain": [
       "  cohort echo  ratio   \n",
       "1 53362  25972 48.67134"
      ]
     },
     "metadata": {},
     "output_type": "display_data"
    }
   ],
   "source": [
    "sql <- \"\n",
    "select (select count(*) from cohort) as cohort,\n",
    "       count(*) as echo\n",
    "  from cohort\n",
    " where echo_time is not null;\n",
    "\"\n",
    "dbGetQuery(con, sql) %>% mutate(ratio = echo / cohort * 100)"
   ]
  },
  {
   "cell_type": "code",
   "execution_count": 7,
   "metadata": {},
   "outputs": [
    {
     "data": {
      "text/html": [
       "TRUE"
      ],
      "text/latex": [
       "TRUE"
      ],
      "text/markdown": [
       "TRUE"
      ],
      "text/plain": [
       "[1] TRUE"
      ]
     },
     "metadata": {},
     "output_type": "display_data"
    },
    {
     "data": {
      "text/html": [
       "TRUE"
      ],
      "text/latex": [
       "TRUE"
      ],
      "text/markdown": [
       "TRUE"
      ],
      "text/plain": [
       "[1] TRUE"
      ]
     },
     "metadata": {},
     "output_type": "display_data"
    }
   ],
   "source": [
    "dbDisconnect(con)\n",
    "dbUnloadDriver(drv)"
   ]
  }
 ],
 "metadata": {
  "kernelspec": {
   "display_name": "R",
   "language": "R",
   "name": "ir"
  },
  "language_info": {
   "codemirror_mode": "r",
   "file_extension": ".r",
   "mimetype": "text/x-r-source",
   "name": "R",
   "pygments_lexer": "r",
   "version": "3.4.2"
  }
 },
 "nbformat": 4,
 "nbformat_minor": 2
}
