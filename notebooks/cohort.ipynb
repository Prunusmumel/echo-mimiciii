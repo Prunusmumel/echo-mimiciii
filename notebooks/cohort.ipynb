{
 "cells": [
  {
   "cell_type": "code",
   "execution_count": 1,
   "metadata": {},
   "outputs": [
    {
     "name": "stderr",
     "output_type": "stream",
     "text": [
      "Loading tidyverse: ggplot2\n",
      "Loading tidyverse: tibble\n",
      "Loading tidyverse: tidyr\n",
      "Loading tidyverse: readr\n",
      "Loading tidyverse: purrr\n",
      "Loading tidyverse: dplyr\n",
      "Conflicts with tidy packages ---------------------------------------------------\n",
      "filter(): dplyr, stats\n",
      "lag():    dplyr, stats\n",
      "Loading required package: DBI\n"
     ]
    }
   ],
   "source": [
    "library(tidyverse)\n",
    "library(RPostgreSQL)"
   ]
  },
  {
   "cell_type": "code",
   "execution_count": 2,
   "metadata": {},
   "outputs": [],
   "source": [
    "source(\"utils.R\")"
   ]
  },
  {
   "cell_type": "code",
   "execution_count": 3,
   "metadata": {},
   "outputs": [
    {
     "data": {
      "text/html": [
       "<ol class=list-inline>\n",
       "\t<li>'cohort.sql'</li>\n",
       "\t<li>'data.sql'</li>\n",
       "\t<li>'population.sql'</li>\n",
       "</ol>\n"
      ],
      "text/latex": [
       "\\begin{enumerate*}\n",
       "\\item 'cohort.sql'\n",
       "\\item 'data.sql'\n",
       "\\item 'population.sql'\n",
       "\\end{enumerate*}\n"
      ],
      "text/markdown": [
       "1. 'cohort.sql'\n",
       "2. 'data.sql'\n",
       "3. 'population.sql'\n",
       "\n",
       "\n"
      ],
      "text/plain": [
       "[1] \"cohort.sql\"     \"data.sql\"       \"population.sql\""
      ]
     },
     "metadata": {},
     "output_type": "display_data"
    }
   ],
   "source": [
    "sql_dir <- file.path(\"..\", \"SQL\")\n",
    "list.files(sql_dir)"
   ]
  },
  {
   "cell_type": "code",
   "execution_count": 4,
   "metadata": {},
   "outputs": [
    {
     "data": {
      "text/plain": [
       "<PostgreSQLResult>"
      ]
     },
     "metadata": {},
     "output_type": "display_data"
    }
   ],
   "source": [
    "drv <- dbDriver(\"PostgreSQL\")\n",
    "con <- dbConnect(drv, dbname = \"mimic\", user = \"lcp_db_user\")\n",
    "dbSendQuery(con, \"set search_path=echo,public,mimiciii;\")"
   ]
  },
  {
   "cell_type": "code",
   "execution_count": 6,
   "metadata": {},
   "outputs": [],
   "source": [
    "sql <- readr::read_file(file.path(sql_dir, \"cohort.sql\")) %>%\n",
    "    make_view_sql(\"cohort\", \"materialized view\")"
   ]
  },
  {
   "cell_type": "code",
   "execution_count": 7,
   "metadata": {},
   "outputs": [
    {
     "data": {
      "text/plain": [
       "<PostgreSQLResult>"
      ]
     },
     "metadata": {},
     "output_type": "display_data"
    }
   ],
   "source": [
    "dbSendQuery(con, sql)"
   ]
  },
  {
   "cell_type": "code",
   "execution_count": 8,
   "metadata": {},
   "outputs": [
    {
     "data": {
      "text/html": [
       "<table>\n",
       "<thead><tr><th scope=col>icustay_id</th><th scope=col>echo_time</th></tr></thead>\n",
       "<tbody>\n",
       "\t<tr><td>200003    </td><td>2199-08-03</td></tr>\n",
       "\t<tr><td>200014    </td><td>2105-02-18</td></tr>\n",
       "\t<tr><td>200030    </td><td>2150-11-16</td></tr>\n",
       "\t<tr><td>200033</td><td>NA    </td></tr>\n",
       "\t<tr><td>200036</td><td>NA    </td></tr>\n",
       "\t<tr><td>200047    </td><td>2190-02-02</td></tr>\n",
       "\t<tr><td>200068    </td><td>2193-09-24</td></tr>\n",
       "\t<tr><td>200071    </td><td>2101-04-27</td></tr>\n",
       "\t<tr><td>200075    </td><td>2159-09-25</td></tr>\n",
       "\t<tr><td>200087    </td><td>2196-08-31</td></tr>\n",
       "</tbody>\n",
       "</table>\n"
      ],
      "text/latex": [
       "\\begin{tabular}{r|ll}\n",
       " icustay\\_id & echo\\_time\\\\\n",
       "\\hline\n",
       "\t 200003     & 2199-08-03\\\\\n",
       "\t 200014     & 2105-02-18\\\\\n",
       "\t 200030     & 2150-11-16\\\\\n",
       "\t 200033 & NA    \\\\\n",
       "\t 200036 & NA    \\\\\n",
       "\t 200047     & 2190-02-02\\\\\n",
       "\t 200068     & 2193-09-24\\\\\n",
       "\t 200071     & 2101-04-27\\\\\n",
       "\t 200075     & 2159-09-25\\\\\n",
       "\t 200087     & 2196-08-31\\\\\n",
       "\\end{tabular}\n"
      ],
      "text/markdown": [
       "\n",
       "icustay_id | echo_time | \n",
       "|---|---|---|---|---|---|---|---|---|---|\n",
       "| 200003     | 2199-08-03 | \n",
       "| 200014     | 2105-02-18 | \n",
       "| 200030     | 2150-11-16 | \n",
       "| 200033 | NA     | \n",
       "| 200036 | NA     | \n",
       "| 200047     | 2190-02-02 | \n",
       "| 200068     | 2193-09-24 | \n",
       "| 200071     | 2101-04-27 | \n",
       "| 200075     | 2159-09-25 | \n",
       "| 200087     | 2196-08-31 | \n",
       "\n",
       "\n"
      ],
      "text/plain": [
       "   icustay_id echo_time \n",
       "1  200003     2199-08-03\n",
       "2  200014     2105-02-18\n",
       "3  200030     2150-11-16\n",
       "4  200033     <NA>      \n",
       "5  200036     <NA>      \n",
       "6  200047     2190-02-02\n",
       "7  200068     2193-09-24\n",
       "8  200071     2101-04-27\n",
       "9  200075     2159-09-25\n",
       "10 200087     2196-08-31"
      ]
     },
     "metadata": {},
     "output_type": "display_data"
    }
   ],
   "source": [
    "sql <- \"\n",
    "select * from cohort limit 10;\n",
    "\"\n",
    "dbGetQuery(con, sql)"
   ]
  },
  {
   "cell_type": "code",
   "execution_count": 9,
   "metadata": {},
   "outputs": [
    {
     "data": {
      "text/html": [
       "TRUE"
      ],
      "text/latex": [
       "TRUE"
      ],
      "text/markdown": [
       "TRUE"
      ],
      "text/plain": [
       "[1] TRUE"
      ]
     },
     "metadata": {},
     "output_type": "display_data"
    },
    {
     "data": {
      "text/html": [
       "TRUE"
      ],
      "text/latex": [
       "TRUE"
      ],
      "text/markdown": [
       "TRUE"
      ],
      "text/plain": [
       "[1] TRUE"
      ]
     },
     "metadata": {},
     "output_type": "display_data"
    }
   ],
   "source": [
    "dbDisconnect(con)\n",
    "dbUnloadDriver(drv)"
   ]
  }
 ],
 "metadata": {
  "kernelspec": {
   "display_name": "R",
   "language": "R",
   "name": "ir"
  },
  "language_info": {
   "codemirror_mode": "r",
   "file_extension": ".r",
   "mimetype": "text/x-r-source",
   "name": "R",
   "pygments_lexer": "r",
   "version": "3.4.2"
  }
 },
 "nbformat": 4,
 "nbformat_minor": 2
}
