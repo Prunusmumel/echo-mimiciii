{
 "cells": [
  {
   "cell_type": "code",
   "execution_count": 1,
   "metadata": {},
   "outputs": [
    {
     "name": "stderr",
     "output_type": "stream",
     "text": [
      "Loading tidyverse: ggplot2\n",
      "Loading tidyverse: tibble\n",
      "Loading tidyverse: tidyr\n",
      "Loading tidyverse: readr\n",
      "Loading tidyverse: purrr\n",
      "Loading tidyverse: dplyr\n",
      "Conflicts with tidy packages ---------------------------------------------------\n",
      "filter(): dplyr, stats\n",
      "lag():    dplyr, stats\n",
      "Loading required package: DBI\n"
     ]
    }
   ],
   "source": [
    "library(tidyverse)\n",
    "library(RPostgreSQL)"
   ]
  },
  {
   "cell_type": "code",
   "execution_count": 2,
   "metadata": {},
   "outputs": [
    {
     "data": {
      "text/html": [
       "'cohort.sql'"
      ],
      "text/latex": [
       "'cohort.sql'"
      ],
      "text/markdown": [
       "'cohort.sql'"
      ],
      "text/plain": [
       "[1] \"cohort.sql\""
      ]
     },
     "metadata": {},
     "output_type": "display_data"
    }
   ],
   "source": [
    "sql_dir <- file.path(\"..\", \"SQL\")\n",
    "list.files(sql_dir)"
   ]
  },
  {
   "cell_type": "code",
   "execution_count": 3,
   "metadata": {},
   "outputs": [
    {
     "data": {
      "text/plain": [
       "<PostgreSQLResult>"
      ]
     },
     "metadata": {},
     "output_type": "display_data"
    }
   ],
   "source": [
    "drv <- dbDriver(\"PostgreSQL\")\n",
    "con <- dbConnect(drv, dbname = \"mimic\", user = \"lcp_db_user\")\n",
    "dbSendQuery(con, \"set search_path=echo,public,mimiciii;\")"
   ]
  },
  {
   "cell_type": "code",
   "execution_count": 4,
   "metadata": {},
   "outputs": [
    {
     "data": {
      "text/html": [
       "<ol class=list-inline>\n",
       "\t<li>'callout'</li>\n",
       "\t<li>'chartevents_10'</li>\n",
       "\t<li>'d_icd_procedures'</li>\n",
       "\t<li>'d_items'</li>\n",
       "\t<li>'d_labitems'</li>\n",
       "\t<li>'labevents'</li>\n",
       "</ol>\n"
      ],
      "text/latex": [
       "\\begin{enumerate*}\n",
       "\\item 'callout'\n",
       "\\item 'chartevents\\_10'\n",
       "\\item 'd\\_icd\\_procedures'\n",
       "\\item 'd\\_items'\n",
       "\\item 'd\\_labitems'\n",
       "\\item 'labevents'\n",
       "\\end{enumerate*}\n"
      ],
      "text/markdown": [
       "1. 'callout'\n",
       "2. 'chartevents_10'\n",
       "3. 'd_icd_procedures'\n",
       "4. 'd_items'\n",
       "5. 'd_labitems'\n",
       "6. 'labevents'\n",
       "\n",
       "\n"
      ],
      "text/plain": [
       "[1] \"callout\"          \"chartevents_10\"   \"d_icd_procedures\" \"d_items\"         \n",
       "[5] \"d_labitems\"       \"labevents\"       "
      ]
     },
     "metadata": {},
     "output_type": "display_data"
    }
   ],
   "source": [
    "dbListTables(con) %>% head"
   ]
  },
  {
   "cell_type": "code",
   "execution_count": 5,
   "metadata": {},
   "outputs": [
    {
     "data": {
      "text/html": [
       "<span style=white-space:pre-wrap>'with icu_age as (\\n    select *,\\n           date_part(\\'year\\', age(intime, dob)) as age\\n      from icustays\\n      left join patients using (subject_id)\\n)\\n\\n-- select intime, dob, age from icu_age limit 10;\\n\\n, icu_adult as (\\n    select icustay_id\\n      from icu_age\\n     where age &gt;= 18\\n)\\n\\n-- select * from icu_adult limit 10;\\n\\n, icu_first as (\\n    select first_value(icustay_id) over (partition by subject_id order by intime) as icustay_id\\n      from icustays\\n)\\n\\n-- select * from icu_first limit 10;\\n\\n, icu_flt_id as (\\n    select subject_id, hadm_id, icustay_id\\n      from icustays\\n      join icu_adult using (icustay_id)\\n      join icu_first using (icustay_id)\\n)\\n\\n-- select * from icu_flt_id limit 10; -- 53362\\n\\n, population as (\\n    select subject_id, hadm_id, icustay_id, angus\\n      from icu_flt_id\\n      left join angus_sepsis using (subject_id, hadm_id)\\n)\\n\\n-- select * from population;\\n-- select count(*) from population where angus = 1; -- 16125\\n\\n, echo_group as (\\n    select distinct hadm_id,\\n           first_value(chartdate) over (partition by hadm_id order by chartdate) as echo_time\\n      from noteevents\\n     where lower(category) like \\'echo\\'\\n       and lower(description) like \\'report\\'\\n)\\n\\n-- select * from echo_group limit 10;\\n\\n, cohort as (\\n    select *\\n      from population\\n      left join echo_group using (hadm_id)\\n)\\n\\nselect * from cohort;'</span>"
      ],
      "text/latex": [
       "'with icu\\_age as (\\textbackslash{}n    select *,\\textbackslash{}n           date\\_part(\\textbackslash{}'year\\textbackslash{}', age(intime, dob)) as age\\textbackslash{}n      from icustays\\textbackslash{}n      left join patients using (subject\\_id)\\textbackslash{}n)\\textbackslash{}n\\textbackslash{}n-- select intime, dob, age from icu\\_age limit 10;\\textbackslash{}n\\textbackslash{}n, icu\\_adult as (\\textbackslash{}n    select icustay\\_id\\textbackslash{}n      from icu\\_age\\textbackslash{}n     where age >= 18\\textbackslash{}n)\\textbackslash{}n\\textbackslash{}n-- select * from icu\\_adult limit 10;\\textbackslash{}n\\textbackslash{}n, icu\\_first as (\\textbackslash{}n    select first\\_value(icustay\\_id) over (partition by subject\\_id order by intime) as icustay\\_id\\textbackslash{}n      from icustays\\textbackslash{}n)\\textbackslash{}n\\textbackslash{}n-- select * from icu\\_first limit 10;\\textbackslash{}n\\textbackslash{}n, icu\\_flt\\_id as (\\textbackslash{}n    select subject\\_id, hadm\\_id, icustay\\_id\\textbackslash{}n      from icustays\\textbackslash{}n      join icu\\_adult using (icustay\\_id)\\textbackslash{}n      join icu\\_first using (icustay\\_id)\\textbackslash{}n)\\textbackslash{}n\\textbackslash{}n-- select * from icu\\_flt\\_id limit 10; -- 53362\\textbackslash{}n\\textbackslash{}n, population as (\\textbackslash{}n    select subject\\_id, hadm\\_id, icustay\\_id, angus\\textbackslash{}n      from icu\\_flt\\_id\\textbackslash{}n      left join angus\\_sepsis using (subject\\_id, hadm\\_id)\\textbackslash{}n)\\textbackslash{}n\\textbackslash{}n-- select * from population;\\textbackslash{}n-- select count(*) from population where angus = 1; -- 16125\\textbackslash{}n\\textbackslash{}n, echo\\_group as (\\textbackslash{}n    select distinct hadm\\_id,\\textbackslash{}n           first\\_value(chartdate) over (partition by hadm\\_id order by chartdate) as echo\\_time\\textbackslash{}n      from noteevents\\textbackslash{}n     where lower(category) like \\textbackslash{}'echo\\textbackslash{}'\\textbackslash{}n       and lower(description) like \\textbackslash{}'report\\textbackslash{}'\\textbackslash{}n)\\textbackslash{}n\\textbackslash{}n-- select * from echo\\_group limit 10;\\textbackslash{}n\\textbackslash{}n, cohort as (\\textbackslash{}n    select *\\textbackslash{}n      from population\\textbackslash{}n      left join echo\\_group using (hadm\\_id)\\textbackslash{}n)\\textbackslash{}n\\textbackslash{}nselect * from cohort;'"
      ],
      "text/markdown": [
       "<span style=white-space:pre-wrap>'with icu_age as (\\n    select *,\\n           date_part(\\'year\\', age(intime, dob)) as age\\n      from icustays\\n      left join patients using (subject_id)\\n)\\n\\n-- select intime, dob, age from icu_age limit 10;\\n\\n, icu_adult as (\\n    select icustay_id\\n      from icu_age\\n     where age &gt;= 18\\n)\\n\\n-- select * from icu_adult limit 10;\\n\\n, icu_first as (\\n    select first_value(icustay_id) over (partition by subject_id order by intime) as icustay_id\\n      from icustays\\n)\\n\\n-- select * from icu_first limit 10;\\n\\n, icu_flt_id as (\\n    select subject_id, hadm_id, icustay_id\\n      from icustays\\n      join icu_adult using (icustay_id)\\n      join icu_first using (icustay_id)\\n)\\n\\n-- select * from icu_flt_id limit 10; -- 53362\\n\\n, population as (\\n    select subject_id, hadm_id, icustay_id, angus\\n      from icu_flt_id\\n      left join angus_sepsis using (subject_id, hadm_id)\\n)\\n\\n-- select * from population;\\n-- select count(*) from population where angus = 1; -- 16125\\n\\n, echo_group as (\\n    select distinct hadm_id,\\n           first_value(chartdate) over (partition by hadm_id order by chartdate) as echo_time\\n      from noteevents\\n     where lower(category) like \\'echo\\'\\n       and lower(description) like \\'report\\'\\n)\\n\\n-- select * from echo_group limit 10;\\n\\n, cohort as (\\n    select *\\n      from population\\n      left join echo_group using (hadm_id)\\n)\\n\\nselect * from cohort;'</span>"
      ],
      "text/plain": [
       "[1] \"with icu_age as (\\n    select *,\\n           date_part('year', age(intime, dob)) as age\\n      from icustays\\n      left join patients using (subject_id)\\n)\\n\\n-- select intime, dob, age from icu_age limit 10;\\n\\n, icu_adult as (\\n    select icustay_id\\n      from icu_age\\n     where age >= 18\\n)\\n\\n-- select * from icu_adult limit 10;\\n\\n, icu_first as (\\n    select first_value(icustay_id) over (partition by subject_id order by intime) as icustay_id\\n      from icustays\\n)\\n\\n-- select * from icu_first limit 10;\\n\\n, icu_flt_id as (\\n    select subject_id, hadm_id, icustay_id\\n      from icustays\\n      join icu_adult using (icustay_id)\\n      join icu_first using (icustay_id)\\n)\\n\\n-- select * from icu_flt_id limit 10; -- 53362\\n\\n, population as (\\n    select subject_id, hadm_id, icustay_id, angus\\n      from icu_flt_id\\n      left join angus_sepsis using (subject_id, hadm_id)\\n)\\n\\n-- select * from population;\\n-- select count(*) from population where angus = 1; -- 16125\\n\\n, echo_group as (\\n    select distinct hadm_id,\\n           first_value(chartdate) over (partition by hadm_id order by chartdate) as echo_time\\n      from noteevents\\n     where lower(category) like 'echo'\\n       and lower(description) like 'report'\\n)\\n\\n-- select * from echo_group limit 10;\\n\\n, cohort as (\\n    select *\\n      from population\\n      left join echo_group using (hadm_id)\\n)\\n\\nselect * from cohort;\""
      ]
     },
     "metadata": {},
     "output_type": "display_data"
    }
   ],
   "source": [
    "cohort_sql <- readr::read_file(file.path(sql_dir, \"cohort.sql\"))\n",
    "cohort_sql"
   ]
  },
  {
   "cell_type": "code",
   "execution_count": 6,
   "metadata": {},
   "outputs": [],
   "source": [
    "rm_semi_colon_end <- function(s) {\n",
    "    if (endsWith(s, \";\")) return(s %>% substr(1, nchar(.) - 1))\n",
    "    return(s)\n",
    "}"
   ]
  },
  {
   "cell_type": "code",
   "execution_count": 7,
   "metadata": {},
   "outputs": [],
   "source": [
    "cohort_view_sql <- sprintf(\"\n",
    "    drop materialized view if exists cohort cascade;\n",
    "    create materialized view cohort as (\n",
    "        %s\n",
    "    );\n",
    "\", rm_semi_colon_end(cohort_sql))"
   ]
  },
  {
   "cell_type": "code",
   "execution_count": 8,
   "metadata": {},
   "outputs": [
    {
     "data": {
      "text/plain": [
       "<PostgreSQLResult>"
      ]
     },
     "metadata": {},
     "output_type": "display_data"
    }
   ],
   "source": [
    "dbSendQuery(con, cohort_view_sql)"
   ]
  },
  {
   "cell_type": "code",
   "execution_count": 9,
   "metadata": {},
   "outputs": [
    {
     "data": {
      "text/html": [
       "TRUE"
      ],
      "text/latex": [
       "TRUE"
      ],
      "text/markdown": [
       "TRUE"
      ],
      "text/plain": [
       "[1] TRUE"
      ]
     },
     "metadata": {},
     "output_type": "display_data"
    },
    {
     "data": {
      "text/html": [
       "TRUE"
      ],
      "text/latex": [
       "TRUE"
      ],
      "text/markdown": [
       "TRUE"
      ],
      "text/plain": [
       "[1] TRUE"
      ]
     },
     "metadata": {},
     "output_type": "display_data"
    }
   ],
   "source": [
    "dbDisconnect(con)\n",
    "dbUnloadDriver(drv)"
   ]
  }
 ],
 "metadata": {
  "kernelspec": {
   "display_name": "R",
   "language": "R",
   "name": "ir"
  },
  "language_info": {
   "codemirror_mode": "r",
   "file_extension": ".r",
   "mimetype": "text/x-r-source",
   "name": "R",
   "pygments_lexer": "r",
   "version": "3.4.2"
  }
 },
 "nbformat": 4,
 "nbformat_minor": 2
}
