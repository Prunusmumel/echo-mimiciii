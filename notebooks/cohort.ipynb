{
 "cells": [
  {
   "cell_type": "code",
   "execution_count": 1,
   "metadata": {},
   "outputs": [
    {
     "name": "stderr",
     "output_type": "stream",
     "text": [
      "Loading tidyverse: ggplot2\n",
      "Loading tidyverse: tibble\n",
      "Loading tidyverse: tidyr\n",
      "Loading tidyverse: readr\n",
      "Loading tidyverse: purrr\n",
      "Loading tidyverse: dplyr\n",
      "Conflicts with tidy packages ---------------------------------------------------\n",
      "filter(): dplyr, stats\n",
      "lag():    dplyr, stats\n",
      "Loading required package: DBI\n"
     ]
    }
   ],
   "source": [
    "library(tidyverse)\n",
    "library(RPostgreSQL)"
   ]
  },
  {
   "cell_type": "code",
   "execution_count": 2,
   "metadata": {},
   "outputs": [],
   "source": [
    "source(\"utils.R\")"
   ]
  },
  {
   "cell_type": "code",
   "execution_count": 3,
   "metadata": {},
   "outputs": [
    {
     "data": {
      "text/html": [
       "<ol class=list-inline>\n",
       "\t<li>'cohort.sql'</li>\n",
       "\t<li>'data.sql'</li>\n",
       "\t<li>'population.sql'</li>\n",
       "</ol>\n"
      ],
      "text/latex": [
       "\\begin{enumerate*}\n",
       "\\item 'cohort.sql'\n",
       "\\item 'data.sql'\n",
       "\\item 'population.sql'\n",
       "\\end{enumerate*}\n"
      ],
      "text/markdown": [
       "1. 'cohort.sql'\n",
       "2. 'data.sql'\n",
       "3. 'population.sql'\n",
       "\n",
       "\n"
      ],
      "text/plain": [
       "[1] \"cohort.sql\"     \"data.sql\"       \"population.sql\""
      ]
     },
     "metadata": {},
     "output_type": "display_data"
    }
   ],
   "source": [
    "sql_dir <- file.path(\"..\", \"SQL\")\n",
    "list.files(sql_dir)"
   ]
  },
  {
   "cell_type": "code",
   "execution_count": 4,
   "metadata": {},
   "outputs": [
    {
     "data": {
      "text/plain": [
       "<PostgreSQLResult>"
      ]
     },
     "metadata": {},
     "output_type": "display_data"
    }
   ],
   "source": [
    "drv <- dbDriver(\"PostgreSQL\")\n",
    "con <- dbConnect(drv, dbname = \"mimic\", user = \"lcp_db_user\")\n",
    "dbSendQuery(con, \"set search_path=echo,public,mimiciii;\")"
   ]
  },
  {
   "cell_type": "code",
   "execution_count": 5,
   "metadata": {},
   "outputs": [],
   "source": [
    "sql <- readr::read_file(file.path(sql_dir, \"cohort.sql\")) %>%\n",
    "    make_view_sql(\"cohort\", \"materialized view\")"
   ]
  },
  {
   "cell_type": "code",
   "execution_count": 6,
   "metadata": {},
   "outputs": [
    {
     "data": {
      "text/plain": [
       "<PostgreSQLResult>"
      ]
     },
     "metadata": {},
     "output_type": "display_data"
    }
   ],
   "source": [
    "dbSendQuery(con, sql)"
   ]
  },
  {
   "cell_type": "code",
   "execution_count": 7,
   "metadata": {},
   "outputs": [
    {
     "data": {
      "text/html": [
       "<table>\n",
       "<thead><tr><th scope=col>icustay_id</th><th scope=col>subject_id</th><th scope=col>hadm_id</th><th scope=col>first_careunit</th><th scope=col>intime</th><th scope=col>outtime</th><th scope=col>angus</th><th scope=col>age</th><th scope=col>icu_order</th><th scope=col>echo_time</th><th scope=col>echo</th></tr></thead>\n",
       "<tbody>\n",
       "\t<tr><td>200003             </td><td>27513              </td><td>163557             </td><td>SICU               </td><td>2199-08-02 19:50:04</td><td>2199-08-08 17:09:18</td><td>1                  </td><td>48.29627           </td><td>1                  </td><td>2199-08-03         </td><td>1                  </td></tr>\n",
       "\t<tr><td>200014             </td><td> 9514              </td><td>127229             </td><td>SICU               </td><td>2105-02-16 23:16:48</td><td>2105-02-18 16:53:29</td><td>1                  </td><td>84.73004           </td><td>1                  </td><td>2105-02-18         </td><td>1                  </td></tr>\n",
       "\t<tr><td>200030             </td><td>14987              </td><td>165426             </td><td>MICU               </td><td>2150-11-13 14:08:02</td><td>2150-11-19 17:51:59</td><td>1                  </td><td>54.19308           </td><td>1                  </td><td>2150-11-16         </td><td>1                  </td></tr>\n",
       "\t<tr><td>200033             </td><td>56369              </td><td>198650             </td><td>SICU               </td><td>2198-08-07 17:56:17</td><td>2198-08-21 14:59:18</td><td>1                  </td><td>67.14657           </td><td>1                  </td><td>NA                 </td><td>0                  </td></tr>\n",
       "\t<tr><td>200036             </td><td> 9960              </td><td>159243             </td><td>MICU               </td><td>2181-08-26 16:38:25</td><td>2181-08-29 16:28:48</td><td>1                  </td><td>74.93578           </td><td>1                  </td><td>NA                 </td><td>0                  </td></tr>\n",
       "\t<tr><td>200075             </td><td>67800              </td><td>132255             </td><td>MICU               </td><td>2159-09-23 00:13:20</td><td>2159-09-25 01:55:17</td><td>1                  </td><td>83.64320           </td><td>1                  </td><td>2159-09-25         </td><td>1                  </td></tr>\n",
       "\t<tr><td>200087             </td><td>61871              </td><td>124231             </td><td>MICU               </td><td>2196-08-30 11:19:49</td><td>2196-09-03 17:40:09</td><td>1                  </td><td>64.32851           </td><td>1                  </td><td>2196-08-31         </td><td>1                  </td></tr>\n",
       "\t<tr><td>200102             </td><td>11228              </td><td>167826             </td><td>SICU               </td><td>2193-06-19 01:15:31</td><td>2193-06-27 22:25:20</td><td>1                  </td><td>46.43237           </td><td>1                  </td><td>2193-06-19         </td><td>1                  </td></tr>\n",
       "\t<tr><td>200131             </td><td>47250              </td><td>187834             </td><td>MICU               </td><td>2176-10-30 12:05:18</td><td>2176-11-07 17:34:37</td><td>1                  </td><td>69.31159           </td><td>1                  </td><td>NA                 </td><td>0                  </td></tr>\n",
       "\t<tr><td>200140             </td><td>27874              </td><td>193876             </td><td>SICU               </td><td>2197-01-18 05:39:31</td><td>2197-02-07 15:00:25</td><td>1                  </td><td>68.02678           </td><td>1                  </td><td>2197-01-18         </td><td>1                  </td></tr>\n",
       "</tbody>\n",
       "</table>\n"
      ],
      "text/latex": [
       "\\begin{tabular}{r|lllllllllll}\n",
       " icustay\\_id & subject\\_id & hadm\\_id & first\\_careunit & intime & outtime & angus & age & icu\\_order & echo\\_time & echo\\\\\n",
       "\\hline\n",
       "\t 200003              & 27513               & 163557              & SICU                & 2199-08-02 19:50:04 & 2199-08-08 17:09:18 & 1                   & 48.29627            & 1                   & 2199-08-03          & 1                  \\\\\n",
       "\t 200014              &  9514               & 127229              & SICU                & 2105-02-16 23:16:48 & 2105-02-18 16:53:29 & 1                   & 84.73004            & 1                   & 2105-02-18          & 1                  \\\\\n",
       "\t 200030              & 14987               & 165426              & MICU                & 2150-11-13 14:08:02 & 2150-11-19 17:51:59 & 1                   & 54.19308            & 1                   & 2150-11-16          & 1                  \\\\\n",
       "\t 200033              & 56369               & 198650              & SICU                & 2198-08-07 17:56:17 & 2198-08-21 14:59:18 & 1                   & 67.14657            & 1                   & NA                  & 0                  \\\\\n",
       "\t 200036              &  9960               & 159243              & MICU                & 2181-08-26 16:38:25 & 2181-08-29 16:28:48 & 1                   & 74.93578            & 1                   & NA                  & 0                  \\\\\n",
       "\t 200075              & 67800               & 132255              & MICU                & 2159-09-23 00:13:20 & 2159-09-25 01:55:17 & 1                   & 83.64320            & 1                   & 2159-09-25          & 1                  \\\\\n",
       "\t 200087              & 61871               & 124231              & MICU                & 2196-08-30 11:19:49 & 2196-09-03 17:40:09 & 1                   & 64.32851            & 1                   & 2196-08-31          & 1                  \\\\\n",
       "\t 200102              & 11228               & 167826              & SICU                & 2193-06-19 01:15:31 & 2193-06-27 22:25:20 & 1                   & 46.43237            & 1                   & 2193-06-19          & 1                  \\\\\n",
       "\t 200131              & 47250               & 187834              & MICU                & 2176-10-30 12:05:18 & 2176-11-07 17:34:37 & 1                   & 69.31159            & 1                   & NA                  & 0                  \\\\\n",
       "\t 200140              & 27874               & 193876              & SICU                & 2197-01-18 05:39:31 & 2197-02-07 15:00:25 & 1                   & 68.02678            & 1                   & 2197-01-18          & 1                  \\\\\n",
       "\\end{tabular}\n"
      ],
      "text/markdown": [
       "\n",
       "icustay_id | subject_id | hadm_id | first_careunit | intime | outtime | angus | age | icu_order | echo_time | echo | \n",
       "|---|---|---|---|---|---|---|---|---|---|\n",
       "| 200003              | 27513               | 163557              | SICU                | 2199-08-02 19:50:04 | 2199-08-08 17:09:18 | 1                   | 48.29627            | 1                   | 2199-08-03          | 1                   | \n",
       "| 200014              |  9514               | 127229              | SICU                | 2105-02-16 23:16:48 | 2105-02-18 16:53:29 | 1                   | 84.73004            | 1                   | 2105-02-18          | 1                   | \n",
       "| 200030              | 14987               | 165426              | MICU                | 2150-11-13 14:08:02 | 2150-11-19 17:51:59 | 1                   | 54.19308            | 1                   | 2150-11-16          | 1                   | \n",
       "| 200033              | 56369               | 198650              | SICU                | 2198-08-07 17:56:17 | 2198-08-21 14:59:18 | 1                   | 67.14657            | 1                   | NA                  | 0                   | \n",
       "| 200036              |  9960               | 159243              | MICU                | 2181-08-26 16:38:25 | 2181-08-29 16:28:48 | 1                   | 74.93578            | 1                   | NA                  | 0                   | \n",
       "| 200075              | 67800               | 132255              | MICU                | 2159-09-23 00:13:20 | 2159-09-25 01:55:17 | 1                   | 83.64320            | 1                   | 2159-09-25          | 1                   | \n",
       "| 200087              | 61871               | 124231              | MICU                | 2196-08-30 11:19:49 | 2196-09-03 17:40:09 | 1                   | 64.32851            | 1                   | 2196-08-31          | 1                   | \n",
       "| 200102              | 11228               | 167826              | SICU                | 2193-06-19 01:15:31 | 2193-06-27 22:25:20 | 1                   | 46.43237            | 1                   | 2193-06-19          | 1                   | \n",
       "| 200131              | 47250               | 187834              | MICU                | 2176-10-30 12:05:18 | 2176-11-07 17:34:37 | 1                   | 69.31159            | 1                   | NA                  | 0                   | \n",
       "| 200140              | 27874               | 193876              | SICU                | 2197-01-18 05:39:31 | 2197-02-07 15:00:25 | 1                   | 68.02678            | 1                   | 2197-01-18          | 1                   | \n",
       "\n",
       "\n"
      ],
      "text/plain": [
       "   icustay_id subject_id hadm_id first_careunit intime             \n",
       "1  200003     27513      163557  SICU           2199-08-02 19:50:04\n",
       "2  200014      9514      127229  SICU           2105-02-16 23:16:48\n",
       "3  200030     14987      165426  MICU           2150-11-13 14:08:02\n",
       "4  200033     56369      198650  SICU           2198-08-07 17:56:17\n",
       "5  200036      9960      159243  MICU           2181-08-26 16:38:25\n",
       "6  200075     67800      132255  MICU           2159-09-23 00:13:20\n",
       "7  200087     61871      124231  MICU           2196-08-30 11:19:49\n",
       "8  200102     11228      167826  SICU           2193-06-19 01:15:31\n",
       "9  200131     47250      187834  MICU           2176-10-30 12:05:18\n",
       "10 200140     27874      193876  SICU           2197-01-18 05:39:31\n",
       "   outtime             angus age      icu_order echo_time  echo\n",
       "1  2199-08-08 17:09:18 1     48.29627 1         2199-08-03 1   \n",
       "2  2105-02-18 16:53:29 1     84.73004 1         2105-02-18 1   \n",
       "3  2150-11-19 17:51:59 1     54.19308 1         2150-11-16 1   \n",
       "4  2198-08-21 14:59:18 1     67.14657 1         <NA>       0   \n",
       "5  2181-08-29 16:28:48 1     74.93578 1         <NA>       0   \n",
       "6  2159-09-25 01:55:17 1     83.64320 1         2159-09-25 1   \n",
       "7  2196-09-03 17:40:09 1     64.32851 1         2196-08-31 1   \n",
       "8  2193-06-27 22:25:20 1     46.43237 1         2193-06-19 1   \n",
       "9  2176-11-07 17:34:37 1     69.31159 1         <NA>       0   \n",
       "10 2197-02-07 15:00:25 1     68.02678 1         2197-01-18 1   "
      ]
     },
     "metadata": {},
     "output_type": "display_data"
    }
   ],
   "source": [
    "sql <- \"\n",
    "select * from cohort limit 10;\n",
    "\"\n",
    "dbGetQuery(con, sql)"
   ]
  },
  {
   "cell_type": "code",
   "execution_count": 8,
   "metadata": {},
   "outputs": [
    {
     "data": {
      "text/html": [
       "TRUE"
      ],
      "text/latex": [
       "TRUE"
      ],
      "text/markdown": [
       "TRUE"
      ],
      "text/plain": [
       "[1] TRUE"
      ]
     },
     "metadata": {},
     "output_type": "display_data"
    },
    {
     "data": {
      "text/html": [
       "TRUE"
      ],
      "text/latex": [
       "TRUE"
      ],
      "text/markdown": [
       "TRUE"
      ],
      "text/plain": [
       "[1] TRUE"
      ]
     },
     "metadata": {},
     "output_type": "display_data"
    }
   ],
   "source": [
    "dbDisconnect(con)\n",
    "dbUnloadDriver(drv)"
   ]
  }
 ],
 "metadata": {
  "kernelspec": {
   "display_name": "R",
   "language": "R",
   "name": "ir"
  },
  "language_info": {
   "codemirror_mode": "r",
   "file_extension": ".r",
   "mimetype": "text/x-r-source",
   "name": "R",
   "pygments_lexer": "r",
   "version": "3.4.2"
  },
  "varInspector": {
   "cols": {
    "lenName": 16,
    "lenType": 16,
    "lenVar": 40
   },
   "kernels_config": {
    "python": {
     "delete_cmd_postfix": "",
     "delete_cmd_prefix": "del ",
     "library": "var_list.py",
     "varRefreshCmd": "print(var_dic_list())"
    },
    "r": {
     "delete_cmd_postfix": ") ",
     "delete_cmd_prefix": "rm(",
     "library": "var_list.r",
     "varRefreshCmd": "cat(var_dic_list()) "
    }
   },
   "types_to_exclude": [
    "module",
    "function",
    "builtin_function_or_method",
    "instance",
    "_Feature"
   ],
   "window_display": false
  }
 },
 "nbformat": 4,
 "nbformat_minor": 2
}
