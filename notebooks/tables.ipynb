{
 "cells": [
  {
   "cell_type": "code",
   "execution_count": null,
   "metadata": {
    "scrolled": true
   },
   "outputs": [],
   "source": [
    "library(twang)\n",
    "library(weights)\n",
    "library(tidyverse)"
   ]
  },
  {
   "cell_type": "code",
   "execution_count": null,
   "metadata": {},
   "outputs": [],
   "source": [
    "data_dir <- file.path(\"..\", \"data\")"
   ]
  },
  {
   "cell_type": "code",
   "execution_count": null,
   "metadata": {},
   "outputs": [],
   "source": [
    "full_data <- readRDS(file.path(data_dir, \"full_data_ps.rds\")) %>%\n",
    "    mutate(sunday = factor(as.integer(icu_adm_weekday == 0), levels = c(0, 1)),\n",
    "           monday = factor(as.integer(icu_adm_weekday == 1), levels = c(0, 1)),\n",
    "           tuesday = factor(as.integer(icu_adm_weekday == 2), levels = c(0, 1)),\n",
    "           wednesday = factor(as.integer(icu_adm_weekday == 3), levels = c(0, 1)),\n",
    "           thursday = factor(as.integer(icu_adm_weekday == 4), levels = c(0, 1)),\n",
    "           friday = factor(as.integer(icu_adm_weekday == 5), levels = c(0, 1)),\n",
    "           saturday = factor(as.integer(icu_adm_weekday == 6), levels = c(0, 1))) %>%\n",
    "    mutate(female = factor(as.integer(as.integer(as.character(gender)) == 0), levels = c(0, 1)))\n",
    "head(full_data)"
   ]
  },
  {
   "cell_type": "code",
   "execution_count": null,
   "metadata": {},
   "outputs": [],
   "source": [
    "library(tableone)"
   ]
  },
  {
   "cell_type": "code",
   "execution_count": null,
   "metadata": {},
   "outputs": [],
   "source": [
    "tab_features <- CreateTableOne(vars = c(\"vs_map_first\", \"vs_heart_rate_first\", \"vs_temp_first\", \"vs_cvp_first\",\n",
    "                                        \"lab_wbc_first\", \"lab_hemoglobin_first\", \"lab_platelet_first\",\n",
    "                                        \"lab_sodium_first\", \"lab_potassium_first\", \"lab_bicarbonate_first\",\n",
    "                                        \"lab_chloride_first\", \"lab_bun_first\", \"lab_lactate_first\",\n",
    "                                        \"lab_creatinine_first\", \"lab_ph_first\", \"lab_po2_first\", \"lab_pco2_first\",\n",
    "                                        \"lab_bnp_flag\", \"lab_troponin_flag\", \"lab_creatinine_kinase_flag\"),\n",
    "                               strata = \"echo\",\n",
    "                               factorVars = c(\"lab_bnp_flag\", \"lab_troponin_flag\", \"lab_creatinine_kinase_flag\"),\n",
    "                               data = full_data)\n",
    "tab_features$ContTable"
   ]
  },
  {
   "cell_type": "code",
   "execution_count": null,
   "metadata": {},
   "outputs": [],
   "source": [
    "tab_basics <- CreateTableOne(vars = c(\"age\", \"gender\", \"weight\", \"elix_score\",\n",
    "                                      \"saps\", \"sofa\", \"vent\", \"vaso\", \"sedative\",\n",
    "                                      \"icd_chf\", \"icd_afib\", \"icd_renal\", \"icd_liver\",\n",
    "                                      \"icd_copd\", \"icd_cad\", \"icd_stroke\", \"icd_malignancy\",\n",
    "                                      \"icu_adm_weekday\"),\n",
    "                             strata = \"echo\",\n",
    "                             factorVars = c(\"gender\", \"vent\", \"vaso\", \"sedative\",\n",
    "                                            \"icd_chf\", \"icd_afib\", \"icd_renal\", \"icd_liver\",\n",
    "                                            \"icd_copd\", \"icd_cad\", \"icd_stroke\", \"icd_malignancy\",\n",
    "                                            \"icu_adm_weekday\"),\n",
    "                             data = full_data) %>%\n",
    "    print"
   ]
  },
  {
   "cell_type": "code",
   "execution_count": null,
   "metadata": {},
   "outputs": [],
   "source": [
    "full_data %>% { split(select(., age, weight), .$echo) } %>%\n",
    "setNames(c(\"fst\", \"sec\")) %>%\n",
    "                {list(x = { pull(pluck(., \"fst\"), age) },\n",
    "                         y = { pull(pluck(., \"sec\"), age) },\n",
    "                         weight = { pull(pluck(., \"fst\"), weight) },\n",
    "                         weighty = { pull(pluck(., \"sec\"), weight) }, samedata = FALSE)} %>%\n",
    "do.call(wtd.t.test, .) %>% .$coefficients %>%\n",
    "                .[\"p.value\"] %>%\n",
    "                data.frame(wtd_p_val = .)"
   ]
  },
  {
   "cell_type": "code",
   "execution_count": null,
   "metadata": {},
   "outputs": [],
   "source": [
    "c(\"age\", \"female\", \"weight\", \"elix_score\",\n",
    "  \"saps\", \"sofa\", \"vent\", \"vaso\", \"sedative\",\n",
    "  \"icd_chf\", \"icd_afib\", \"icd_renal\", \"icd_liver\",\n",
    "  \"icd_copd\", \"icd_cad\", \"icd_stroke\", \"icd_malignancy\",\n",
    "  \"sunday\", \"monday\", \"tuesday\", \"wednesday\",\n",
    "  \"thursday\", \"friday\", \"saturday\",\n",
    "  \"vs_map_first\", \"vs_heart_rate_first\", \"vs_temp_first\", \"vs_cvp_first\",\n",
    "  \"lab_wbc_first\", \"lab_hemoglobin_first\", \"lab_platelet_first\",\n",
    "  \"lab_sodium_first\", \"lab_potassium_first\", \"lab_bicarbonate_first\",\n",
    "  \"lab_chloride_first\", \"lab_bun_first\", \"lab_lactate_first\",\n",
    "  \"lab_creatinine_first\", \"lab_ph_first\", \"lab_po2_first\", \"lab_pco2_first\",\n",
    "  \"lab_bnp_flag\", \"lab_troponin_flag\", \"lab_creatinine_kinase_flag\") %>%\n",
    "map(function(var) {\n",
    "    x <- full_data[[var]]\n",
    "    sym_var <- rlang::sym(var)\n",
    "    if (is.numeric(x)) {\n",
    "        res <- full_data %>%\n",
    "            group_by(echo) %>%\n",
    "            summarise(main = mean(!!sym_var, na.rm = TRUE),\n",
    "                      sub = sd(!!sym_var, na.rm = TRUE),\n",
    "                      wtd_main = wtd.mean(!!sym_var, weight),\n",
    "                      wtd_sub = sqrt(wtd.var(!!sym_var, weight))) %>%\n",
    "            cbind(\n",
    "                full_data %>%\n",
    "                { split(.[[var]], .$echo) } %>%\n",
    "                setNames(c(\"x\", \"y\")) %>%\n",
    "                do.call(t.test, .) %>%\n",
    "                .$p.value %>%\n",
    "                data.frame(p_val = .)\n",
    "            ) %>%\n",
    "            cbind(\n",
    "                full_data %>%\n",
    "                { split(select(., !!sym_var, weight), .$echo) } %>%\n",
    "                setNames(c(\"fst\", \"sec\")) %>%\n",
    "                {\n",
    "                    list(x = { pull(pluck(., \"fst\"), !!sym_var) },\n",
    "                         y = { pull(pluck(., \"sec\"), !!sym_var) },\n",
    "                         weight = { pull(pluck(., \"fst\"), weight) },\n",
    "                         weighty = { pull(pluck(., \"sec\"), weight) },\n",
    "                         samedata = FALSE) \n",
    "                }\n",
    "                %>%\n",
    "                do.call(wtd.t.test, .) %>%\n",
    "                .$coefficients %>%\n",
    "                .[\"p.value\"] %>%\n",
    "                unname %>%\n",
    "                data.frame(wtd_p_val = .)\n",
    "            )\n",
    "    }\n",
    "    \n",
    "    if (is.factor(x)) {\n",
    "#         return(NULL)\n",
    "        if (length(levels(x)) == 2) {\n",
    "            res <- full_data %>%\n",
    "                mutate(!!sym_var := as.integer(as.character(!!sym_var))) %>%\n",
    "                group_by(echo) %>%\n",
    "                summarise(main = mean(!!sym_var, na.rm = TRUE) * 100,\n",
    "                          sub = NA,\n",
    "                          wtd_main = wtd.mean(!!sym_var, weight) * 100,\n",
    "                          wtd_sub = NA) %>%\n",
    "                cbind(\n",
    "                    full_data %>%\n",
    "                    {\n",
    "                        list(x = pull(., !!sym_var),\n",
    "                             y = pull(., echo))\n",
    "                    } %>%\n",
    "                    do.call(chisq.test, .) %>%\n",
    "                    pluck(\"p.value\") %>%\n",
    "                    unname %>%\n",
    "                    data.frame(p_val = .)\n",
    "                ) %>%\n",
    "                cbind(\n",
    "                    full_data %>%\n",
    "                    {\n",
    "                        list(var1 = pull(., !!sym_var),\n",
    "                             var2 = pull(., echo),\n",
    "                             weight = pull(., weight))\n",
    "                    } %>%\n",
    "                    do.call(wtd.chi.sq, .) %>%\n",
    "                    pluck(\"p.value\") %>%\n",
    "                    unname %>%\n",
    "                    data.frame(wtd_p_val = .)\n",
    "                )\n",
    "        } else return(NULL)\n",
    "    }\n",
    "    \n",
    "    res %>%\n",
    "    gather(\"key\", \"value\", main, sub, wtd_main, wtd_sub) %>%\n",
    "    unite(\"key\", key, echo) %>%\n",
    "    spread(key, value) %>%\n",
    "    mutate(var = var) %>%\n",
    "    return\n",
    "}) %>%\n",
    "discard(is.null) %>%\n",
    "data.table::rbindlist() %>%\n",
    "as.data.frame"
   ]
  }
 ],
 "metadata": {
  "kernelspec": {
   "display_name": "R",
   "language": "R",
   "name": "ir"
  },
  "language_info": {
   "codemirror_mode": "r",
   "file_extension": ".r",
   "mimetype": "text/x-r-source",
   "name": "R",
   "pygments_lexer": "r",
   "version": "3.4.1"
  }
 },
 "nbformat": 4,
 "nbformat_minor": 2
}
