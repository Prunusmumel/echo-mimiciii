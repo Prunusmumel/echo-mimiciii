{
 "cells": [
  {
   "cell_type": "code",
   "execution_count": 1,
   "metadata": {},
   "outputs": [
    {
     "name": "stderr",
     "output_type": "stream",
     "text": [
      "── Attaching packages ─────────────────────────────────────── tidyverse 1.2.1 ──\n",
      "✔ ggplot2 2.2.1     ✔ purrr   0.2.4\n",
      "✔ tibble  1.3.4     ✔ dplyr   0.7.4\n",
      "✔ tidyr   0.7.2     ✔ stringr 1.2.0\n",
      "✔ readr   1.1.1     ✔ forcats 0.2.0\n",
      "── Conflicts ────────────────────────────────────────── tidyverse_conflicts() ──\n",
      "✖ dplyr::filter() masks stats::filter()\n",
      "✖ dplyr::lag()    masks stats::lag()\n",
      "Loading required package: DBI\n"
     ]
    }
   ],
   "source": [
    "library(tidyverse)\n",
    "library(RPostgreSQL)"
   ]
  },
  {
   "cell_type": "code",
   "execution_count": 2,
   "metadata": {},
   "outputs": [],
   "source": [
    "source(\"utils.R\")"
   ]
  },
  {
   "cell_type": "code",
   "execution_count": 3,
   "metadata": {},
   "outputs": [
    {
     "data": {
      "text/html": [
       "<ol class=list-inline>\n",
       "\t<li>'basics.sql'</li>\n",
       "\t<li>'cohort.sql'</li>\n",
       "\t<li>'icd9.sql'</li>\n",
       "\t<li>'lab_tests.sql'</li>\n",
       "\t<li>'lab_unpivot.sql'</li>\n",
       "\t<li>'merge_data.sql'</li>\n",
       "\t<li>'population.sql'</li>\n",
       "\t<li>'vital_signs.sql'</li>\n",
       "\t<li>'vital_signs_unpivot.sql'</li>\n",
       "</ol>\n"
      ],
      "text/latex": [
       "\\begin{enumerate*}\n",
       "\\item 'basics.sql'\n",
       "\\item 'cohort.sql'\n",
       "\\item 'icd9.sql'\n",
       "\\item 'lab\\_tests.sql'\n",
       "\\item 'lab\\_unpivot.sql'\n",
       "\\item 'merge\\_data.sql'\n",
       "\\item 'population.sql'\n",
       "\\item 'vital\\_signs.sql'\n",
       "\\item 'vital\\_signs\\_unpivot.sql'\n",
       "\\end{enumerate*}\n"
      ],
      "text/markdown": [
       "1. 'basics.sql'\n",
       "2. 'cohort.sql'\n",
       "3. 'icd9.sql'\n",
       "4. 'lab_tests.sql'\n",
       "5. 'lab_unpivot.sql'\n",
       "6. 'merge_data.sql'\n",
       "7. 'population.sql'\n",
       "8. 'vital_signs.sql'\n",
       "9. 'vital_signs_unpivot.sql'\n",
       "\n",
       "\n"
      ],
      "text/plain": [
       "[1] \"basics.sql\"              \"cohort.sql\"             \n",
       "[3] \"icd9.sql\"                \"lab_tests.sql\"          \n",
       "[5] \"lab_unpivot.sql\"         \"merge_data.sql\"         \n",
       "[7] \"population.sql\"          \"vital_signs.sql\"        \n",
       "[9] \"vital_signs_unpivot.sql\""
      ]
     },
     "metadata": {},
     "output_type": "display_data"
    }
   ],
   "source": [
    "sql_dir <- file.path(\"..\", \"sql\")\n",
    "list.files(sql_dir)"
   ]
  },
  {
   "cell_type": "code",
   "execution_count": 4,
   "metadata": {},
   "outputs": [
    {
     "data": {
      "text/plain": [
       "<PostgreSQLResult>"
      ]
     },
     "metadata": {},
     "output_type": "display_data"
    }
   ],
   "source": [
    "drv <- dbDriver(\"PostgreSQL\")\n",
    "con <- dbConnect(drv, dbname = \"mimic\")\n",
    "dbSendQuery(con, \"set search_path=echo,public,mimiciii;\")"
   ]
  },
  {
   "cell_type": "code",
   "execution_count": 5,
   "metadata": {},
   "outputs": [
    {
     "data": {
      "text/html": [
       "<ol class=list-inline>\n",
       "\t<li>'temp'</li>\n",
       "\t<li>'heart_rate'</li>\n",
       "\t<li>'map'</li>\n",
       "\t<li>'cvp'</li>\n",
       "</ol>\n"
      ],
      "text/latex": [
       "\\begin{enumerate*}\n",
       "\\item 'temp'\n",
       "\\item 'heart\\_rate'\n",
       "\\item 'map'\n",
       "\\item 'cvp'\n",
       "\\end{enumerate*}\n"
      ],
      "text/markdown": [
       "1. 'temp'\n",
       "2. 'heart_rate'\n",
       "3. 'map'\n",
       "4. 'cvp'\n",
       "\n",
       "\n"
      ],
      "text/plain": [
       "[1] \"temp\"       \"heart_rate\" \"map\"        \"cvp\"       "
      ]
     },
     "metadata": {},
     "output_type": "display_data"
    }
   ],
   "source": [
    "labs <- \"select distinct(label) from vital_signs\" %>%\n",
    "    dbGetQuery(con, .) %>%\n",
    "    pull(label)\n",
    "labs"
   ]
  },
  {
   "cell_type": "code",
   "execution_count": 6,
   "metadata": {},
   "outputs": [],
   "source": [
    "sql_template <- \"\n",
    "with summary as (\n",
    "    select distinct icustay_id, label\n",
    "    , first_value(valuenum) over (partition by icustay_id, label order by charttime) as fst_val\n",
    "    , first_value(valuenum) over (partition by icustay_id, label order by valuenum) as min_val\n",
    "    , first_value(valuenum) over (partition by icustay_id, label order by valuenum desc) as max_val\n",
    "    from vital_signs\n",
    ")\n",
    "\n",
    "select icustay_id\n",
    ", %s\n",
    "from summary\n",
    "group by icustay_id\n",
    "\""
   ]
  },
  {
   "cell_type": "code",
   "execution_count": 7,
   "metadata": {},
   "outputs": [],
   "source": [
    "sql <- c(\"max(case when label = '%1$s' then 1 else 0 end) as vs_%1$s_flag\",\n",
    "  \"max(case when label = '%1$s' then fst_val else null end) as vs_%1$s_first\",\n",
    "  \"max(case when label = '%1$s' then min_val else null end) as vs_%1$s_min\",\n",
    "  \"max(case when label = '%1$s' then max_val else null end) as vs_%1$s_max\") %>%\n",
    "paste(collapse = \"\\n, \") %>%\n",
    "sprintf(labs) %>%\n",
    "paste(collapse = \"\\n, \") %>%\n",
    "sprintf(sql_template, .)\n",
    "cat(sql, file = file.path(sql_dir, \"vital_signs_unpivot.sql\"))"
   ]
  },
  {
   "cell_type": "code",
   "execution_count": 8,
   "metadata": {},
   "outputs": [
    {
     "data": {
      "text/plain": [
       "<PostgreSQLResult>"
      ]
     },
     "metadata": {},
     "output_type": "display_data"
    }
   ],
   "source": [
    "sql %>% make_view_sql(\"vital_signs_unpivot\", \"materialized view\") %>% dbSendQuery(con, .)"
   ]
  },
  {
   "cell_type": "code",
   "execution_count": 9,
   "metadata": {},
   "outputs": [
    {
     "data": {
      "text/html": [
       "<table>\n",
       "<thead><tr><th scope=col>icustay_id</th><th scope=col>vs_temp_flag</th><th scope=col>vs_temp_first</th><th scope=col>vs_temp_min</th><th scope=col>vs_temp_max</th><th scope=col>vs_heart_rate_flag</th><th scope=col>vs_heart_rate_first</th><th scope=col>vs_heart_rate_min</th><th scope=col>vs_heart_rate_max</th><th scope=col>vs_map_flag</th><th scope=col>vs_map_first</th><th scope=col>vs_map_min</th><th scope=col>vs_map_max</th><th scope=col>vs_cvp_flag</th><th scope=col>vs_cvp_first</th><th scope=col>vs_cvp_min</th><th scope=col>vs_cvp_max</th></tr></thead>\n",
       "<tbody>\n",
       "\t<tr><td>239961  </td><td>1       </td><td>36.61111</td><td>35.61111</td><td>36.66667</td><td>1       </td><td> 98     </td><td> 85     </td><td>112     </td><td>1       </td><td> 62.000 </td><td>43.0000 </td><td>108.000 </td><td>1       </td><td>14      </td><td>14      </td><td>16      </td></tr>\n",
       "\t<tr><td>234139  </td><td>1       </td><td>35.83333</td><td>35.83333</td><td>37.83333</td><td>1       </td><td> 75     </td><td> 65     </td><td> 92     </td><td>1       </td><td> 96.000 </td><td>61.0000 </td><td>111.000 </td><td>0       </td><td>NA      </td><td>NA      </td><td>NA      </td></tr>\n",
       "\t<tr><td>218132  </td><td>1       </td><td>37.38889</td><td>35.83333</td><td>37.38889</td><td>1       </td><td>139     </td><td>103     </td><td>139     </td><td>1       </td><td> 97.000 </td><td>74.0000 </td><td>107.000 </td><td>0       </td><td>NA      </td><td>NA      </td><td>NA      </td></tr>\n",
       "\t<tr><td>212412  </td><td>1       </td><td>35.88889</td><td>35.11111</td><td>36.88889</td><td>1       </td><td> 81     </td><td> 75     </td><td> 90     </td><td>1       </td><td> 75.000 </td><td>58.0000 </td><td> 76.000 </td><td>0       </td><td>NA      </td><td>NA      </td><td>NA      </td></tr>\n",
       "\t<tr><td>203155  </td><td>1       </td><td>38.11111</td><td>37.55556</td><td>38.38889</td><td>1       </td><td>112     </td><td>104     </td><td>127     </td><td>1       </td><td> 81.000 </td><td>81.0000 </td><td>296.000 </td><td>0       </td><td>NA      </td><td>NA      </td><td>NA      </td></tr>\n",
       "\t<tr><td>204856  </td><td>1       </td><td>36.61111</td><td>36.11111</td><td>39.11111</td><td>1       </td><td> 98     </td><td> 76     </td><td>115     </td><td>1       </td><td> 83.000 </td><td>61.0000 </td><td>101.000 </td><td>0       </td><td>NA      </td><td>NA      </td><td>NA      </td></tr>\n",
       "\t<tr><td>216831  </td><td>1       </td><td>36.61111</td><td>35.72222</td><td>37.66667</td><td>1       </td><td>125     </td><td> 83     </td><td>130     </td><td>1       </td><td>123.667 </td><td>67.6667 </td><td>123.667 </td><td>0       </td><td>NA      </td><td>NA      </td><td>NA      </td></tr>\n",
       "\t<tr><td>264733  </td><td>1       </td><td>38.83333</td><td>36.44444</td><td>38.83333</td><td>1       </td><td>123     </td><td> 97     </td><td>130     </td><td>1       </td><td> 71.000 </td><td>40.0000 </td><td> 85.000 </td><td>0       </td><td>NA      </td><td>NA      </td><td>NA      </td></tr>\n",
       "\t<tr><td>297273  </td><td>1       </td><td>36.38889</td><td>36.16667</td><td>37.33333</td><td>1       </td><td>105     </td><td> 99     </td><td>130     </td><td>1       </td><td> 69.000 </td><td>59.0000 </td><td>105.000 </td><td>1       </td><td>11      </td><td>10      </td><td>11      </td></tr>\n",
       "\t<tr><td>263612  </td><td>1       </td><td>36.44444</td><td>36.33333</td><td>37.94444</td><td>1       </td><td> 67     </td><td> 63     </td><td> 87     </td><td>1       </td><td> 52.000 </td><td>52.0000 </td><td> 83.000 </td><td>0       </td><td>NA      </td><td>NA      </td><td>NA      </td></tr>\n",
       "</tbody>\n",
       "</table>\n"
      ],
      "text/latex": [
       "\\begin{tabular}{r|lllllllllllllllll}\n",
       " icustay\\_id & vs\\_temp\\_flag & vs\\_temp\\_first & vs\\_temp\\_min & vs\\_temp\\_max & vs\\_heart\\_rate\\_flag & vs\\_heart\\_rate\\_first & vs\\_heart\\_rate\\_min & vs\\_heart\\_rate\\_max & vs\\_map\\_flag & vs\\_map\\_first & vs\\_map\\_min & vs\\_map\\_max & vs\\_cvp\\_flag & vs\\_cvp\\_first & vs\\_cvp\\_min & vs\\_cvp\\_max\\\\\n",
       "\\hline\n",
       "\t 239961   & 1        & 36.61111 & 35.61111 & 36.66667 & 1        &  98      &  85      & 112      & 1        &  62.000  & 43.0000  & 108.000  & 1        & 14       & 14       & 16      \\\\\n",
       "\t 234139   & 1        & 35.83333 & 35.83333 & 37.83333 & 1        &  75      &  65      &  92      & 1        &  96.000  & 61.0000  & 111.000  & 0        & NA       & NA       & NA      \\\\\n",
       "\t 218132   & 1        & 37.38889 & 35.83333 & 37.38889 & 1        & 139      & 103      & 139      & 1        &  97.000  & 74.0000  & 107.000  & 0        & NA       & NA       & NA      \\\\\n",
       "\t 212412   & 1        & 35.88889 & 35.11111 & 36.88889 & 1        &  81      &  75      &  90      & 1        &  75.000  & 58.0000  &  76.000  & 0        & NA       & NA       & NA      \\\\\n",
       "\t 203155   & 1        & 38.11111 & 37.55556 & 38.38889 & 1        & 112      & 104      & 127      & 1        &  81.000  & 81.0000  & 296.000  & 0        & NA       & NA       & NA      \\\\\n",
       "\t 204856   & 1        & 36.61111 & 36.11111 & 39.11111 & 1        &  98      &  76      & 115      & 1        &  83.000  & 61.0000  & 101.000  & 0        & NA       & NA       & NA      \\\\\n",
       "\t 216831   & 1        & 36.61111 & 35.72222 & 37.66667 & 1        & 125      &  83      & 130      & 1        & 123.667  & 67.6667  & 123.667  & 0        & NA       & NA       & NA      \\\\\n",
       "\t 264733   & 1        & 38.83333 & 36.44444 & 38.83333 & 1        & 123      &  97      & 130      & 1        &  71.000  & 40.0000  &  85.000  & 0        & NA       & NA       & NA      \\\\\n",
       "\t 297273   & 1        & 36.38889 & 36.16667 & 37.33333 & 1        & 105      &  99      & 130      & 1        &  69.000  & 59.0000  & 105.000  & 1        & 11       & 10       & 11      \\\\\n",
       "\t 263612   & 1        & 36.44444 & 36.33333 & 37.94444 & 1        &  67      &  63      &  87      & 1        &  52.000  & 52.0000  &  83.000  & 0        & NA       & NA       & NA      \\\\\n",
       "\\end{tabular}\n"
      ],
      "text/markdown": [
       "\n",
       "icustay_id | vs_temp_flag | vs_temp_first | vs_temp_min | vs_temp_max | vs_heart_rate_flag | vs_heart_rate_first | vs_heart_rate_min | vs_heart_rate_max | vs_map_flag | vs_map_first | vs_map_min | vs_map_max | vs_cvp_flag | vs_cvp_first | vs_cvp_min | vs_cvp_max | \n",
       "|---|---|---|---|---|---|---|---|---|---|\n",
       "| 239961   | 1        | 36.61111 | 35.61111 | 36.66667 | 1        |  98      |  85      | 112      | 1        |  62.000  | 43.0000  | 108.000  | 1        | 14       | 14       | 16       | \n",
       "| 234139   | 1        | 35.83333 | 35.83333 | 37.83333 | 1        |  75      |  65      |  92      | 1        |  96.000  | 61.0000  | 111.000  | 0        | NA       | NA       | NA       | \n",
       "| 218132   | 1        | 37.38889 | 35.83333 | 37.38889 | 1        | 139      | 103      | 139      | 1        |  97.000  | 74.0000  | 107.000  | 0        | NA       | NA       | NA       | \n",
       "| 212412   | 1        | 35.88889 | 35.11111 | 36.88889 | 1        |  81      |  75      |  90      | 1        |  75.000  | 58.0000  |  76.000  | 0        | NA       | NA       | NA       | \n",
       "| 203155   | 1        | 38.11111 | 37.55556 | 38.38889 | 1        | 112      | 104      | 127      | 1        |  81.000  | 81.0000  | 296.000  | 0        | NA       | NA       | NA       | \n",
       "| 204856   | 1        | 36.61111 | 36.11111 | 39.11111 | 1        |  98      |  76      | 115      | 1        |  83.000  | 61.0000  | 101.000  | 0        | NA       | NA       | NA       | \n",
       "| 216831   | 1        | 36.61111 | 35.72222 | 37.66667 | 1        | 125      |  83      | 130      | 1        | 123.667  | 67.6667  | 123.667  | 0        | NA       | NA       | NA       | \n",
       "| 264733   | 1        | 38.83333 | 36.44444 | 38.83333 | 1        | 123      |  97      | 130      | 1        |  71.000  | 40.0000  |  85.000  | 0        | NA       | NA       | NA       | \n",
       "| 297273   | 1        | 36.38889 | 36.16667 | 37.33333 | 1        | 105      |  99      | 130      | 1        |  69.000  | 59.0000  | 105.000  | 1        | 11       | 10       | 11       | \n",
       "| 263612   | 1        | 36.44444 | 36.33333 | 37.94444 | 1        |  67      |  63      |  87      | 1        |  52.000  | 52.0000  |  83.000  | 0        | NA       | NA       | NA       | \n",
       "\n",
       "\n"
      ],
      "text/plain": [
       "   icustay_id vs_temp_flag vs_temp_first vs_temp_min vs_temp_max\n",
       "1  239961     1            36.61111      35.61111    36.66667   \n",
       "2  234139     1            35.83333      35.83333    37.83333   \n",
       "3  218132     1            37.38889      35.83333    37.38889   \n",
       "4  212412     1            35.88889      35.11111    36.88889   \n",
       "5  203155     1            38.11111      37.55556    38.38889   \n",
       "6  204856     1            36.61111      36.11111    39.11111   \n",
       "7  216831     1            36.61111      35.72222    37.66667   \n",
       "8  264733     1            38.83333      36.44444    38.83333   \n",
       "9  297273     1            36.38889      36.16667    37.33333   \n",
       "10 263612     1            36.44444      36.33333    37.94444   \n",
       "   vs_heart_rate_flag vs_heart_rate_first vs_heart_rate_min vs_heart_rate_max\n",
       "1  1                   98                  85               112              \n",
       "2  1                   75                  65                92              \n",
       "3  1                  139                 103               139              \n",
       "4  1                   81                  75                90              \n",
       "5  1                  112                 104               127              \n",
       "6  1                   98                  76               115              \n",
       "7  1                  125                  83               130              \n",
       "8  1                  123                  97               130              \n",
       "9  1                  105                  99               130              \n",
       "10 1                   67                  63                87              \n",
       "   vs_map_flag vs_map_first vs_map_min vs_map_max vs_cvp_flag vs_cvp_first\n",
       "1  1            62.000      43.0000    108.000    1           14          \n",
       "2  1            96.000      61.0000    111.000    0           NA          \n",
       "3  1            97.000      74.0000    107.000    0           NA          \n",
       "4  1            75.000      58.0000     76.000    0           NA          \n",
       "5  1            81.000      81.0000    296.000    0           NA          \n",
       "6  1            83.000      61.0000    101.000    0           NA          \n",
       "7  1           123.667      67.6667    123.667    0           NA          \n",
       "8  1            71.000      40.0000     85.000    0           NA          \n",
       "9  1            69.000      59.0000    105.000    1           11          \n",
       "10 1            52.000      52.0000     83.000    0           NA          \n",
       "   vs_cvp_min vs_cvp_max\n",
       "1  14         16        \n",
       "2  NA         NA        \n",
       "3  NA         NA        \n",
       "4  NA         NA        \n",
       "5  NA         NA        \n",
       "6  NA         NA        \n",
       "7  NA         NA        \n",
       "8  NA         NA        \n",
       "9  10         11        \n",
       "10 NA         NA        "
      ]
     },
     "metadata": {},
     "output_type": "display_data"
    }
   ],
   "source": [
    "dbGetQuery(con, \"select * from vital_signs_unpivot limit 10\")"
   ]
  },
  {
   "cell_type": "code",
   "execution_count": 10,
   "metadata": {},
   "outputs": [
    {
     "data": {
      "text/html": [
       "TRUE"
      ],
      "text/latex": [
       "TRUE"
      ],
      "text/markdown": [
       "TRUE"
      ],
      "text/plain": [
       "[1] TRUE"
      ]
     },
     "metadata": {},
     "output_type": "display_data"
    },
    {
     "data": {
      "text/html": [
       "TRUE"
      ],
      "text/latex": [
       "TRUE"
      ],
      "text/markdown": [
       "TRUE"
      ],
      "text/plain": [
       "[1] TRUE"
      ]
     },
     "metadata": {},
     "output_type": "display_data"
    }
   ],
   "source": [
    "dbDisconnect(con)\n",
    "dbUnloadDriver(drv)"
   ]
  }
 ],
 "metadata": {
  "kernelspec": {
   "display_name": "R",
   "language": "R",
   "name": "ir"
  },
  "language_info": {
   "codemirror_mode": "r",
   "file_extension": ".r",
   "mimetype": "text/x-r-source",
   "name": "R",
   "pygments_lexer": "r",
   "version": "3.4.1"
  },
  "varInspector": {
   "cols": {
    "lenName": 16,
    "lenType": 16,
    "lenVar": 40
   },
   "kernels_config": {
    "python": {
     "delete_cmd_postfix": "",
     "delete_cmd_prefix": "del ",
     "library": "var_list.py",
     "varRefreshCmd": "print(var_dic_list())"
    },
    "r": {
     "delete_cmd_postfix": ") ",
     "delete_cmd_prefix": "rm(",
     "library": "var_list.r",
     "varRefreshCmd": "cat(var_dic_list()) "
    }
   },
   "types_to_exclude": [
    "module",
    "function",
    "builtin_function_or_method",
    "instance",
    "_Feature"
   ],
   "window_display": false
  }
 },
 "nbformat": 4,
 "nbformat_minor": 2
}
